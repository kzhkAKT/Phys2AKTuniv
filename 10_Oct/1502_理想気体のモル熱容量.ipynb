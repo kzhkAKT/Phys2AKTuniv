{
  "nbformat": 4,
  "nbformat_minor": 0,
  "metadata": {
    "colab": {
      "name": "1502_理想気体のモル熱容量.ipynb",
      "provenance": [],
      "authorship_tag": "ABX9TyP77C18pdf0etC1V8ZH4acL",
      "include_colab_link": true
    },
    "kernelspec": {
      "name": "python3",
      "display_name": "Python 3"
    }
  },
  "cells": [
    {
      "cell_type": "markdown",
      "metadata": {
        "id": "view-in-github",
        "colab_type": "text"
      },
      "source": [
        "<a href=\"https://colab.research.google.com/github/kzhkAKT/Phys2AKTuniv/blob/draft/10_Oct/1502_%E7%90%86%E6%83%B3%E6%B0%97%E4%BD%93%E3%81%AE%E3%83%A2%E3%83%AB%E7%86%B1%E5%AE%B9%E9%87%8F.ipynb\" target=\"_parent\"><img src=\"https://colab.research.google.com/assets/colab-badge.svg\" alt=\"Open In Colab\"/></a>"
      ]
    },
    {
      "cell_type": "markdown",
      "metadata": {
        "id": "EqTr4g0osbNO"
      },
      "source": [
        "\n",
        "![Breaking Symmetry: Phase Transitions, Massive Excitations, and Gravitational Domains](https://www.researchgate.net/profile/Fikriye_Idil_Kaya/publication/321545557/figure/fig4/AS:568296684650496@1512503896521/Phase-transitions-of-water-Temperature-vs-Time-or-Heat-graph.png)\n",
        "\n",
        "\n",
        "- ice+water: 固体(固相, solid) $\\Longleftrightarrow$ 液体(液相, liquid)\n",
        "  - $\\Rightarrow$:: 融解\n",
        "  - $\\Leftarrow$:: 凝固\n",
        "- water+vapor:: 液体(液相, liquid) $\\Longleftrightarrow$ 気体(気相, gas)\n",
        "  - $\\Rightarrow$: 蒸発\n",
        "  - $\\Leftarrow$: 凝縮\n",
        "\n",
        "---\n",
        "[Breaking Symmetry: Phase Transitions, Massive Excitations, and Gravitational Domains](https://www.researchgate.net/publication/321545557_Breaking_Symmetry_Phase_Transitions_Massive_Excitations_and_Gravitational_Domains)"
      ]
    },
    {
      "cell_type": "markdown",
      "metadata": {
        "id": "chhW-k4wYKbi"
      },
      "source": [
        "##### 顕熱, sensible heeat\n",
        "- 熱(heat) を受けた分だけ, 温度(Temperature) が変化している熱(区間)"
      ]
    },
    {
      "cell_type": "markdown",
      "metadata": {
        "id": "qkK3ixVsX8Sg"
      },
      "source": [
        "##### 潜熱, _latent heat_\n",
        "  - 転移熱の別称\n",
        "  - 区間 ice+water, water+vapor に潜む熱\n"
      ]
    }
  ]
}