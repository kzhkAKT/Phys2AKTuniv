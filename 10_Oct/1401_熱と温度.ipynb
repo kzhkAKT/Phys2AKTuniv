{
  "nbformat": 4,
  "nbformat_minor": 0,
  "metadata": {
    "colab": {
      "name": "1401_熱と温度",
      "provenance": [],
      "toc_visible": true,
      "authorship_tag": "ABX9TyO16IFKAWSEEkV47ZrqaH15",
      "include_colab_link": true
    },
    "kernelspec": {
      "name": "python3",
      "display_name": "Python 3"
    }
  },
  "cells": [
    {
      "cell_type": "markdown",
      "metadata": {
        "id": "view-in-github",
        "colab_type": "text"
      },
      "source": [
        "<a href=\"https://colab.research.google.com/github/kzhkAKT/Phys2AKTuniv/blob/draft/10_Oct/1401_%E7%86%B1%E3%81%A8%E6%B8%A9%E5%BA%A6.ipynb\" target=\"_parent\"><img src=\"https://colab.research.google.com/assets/colab-badge.svg\" alt=\"Open In Colab\"/></a>"
      ]
    },
    {
      "cell_type": "markdown",
      "metadata": {
        "id": "Y9EOcFQ4m9Tw"
      },
      "source": [
        "担当者: 上林一彦/うえばやしかずひこ\n",
        "\n",
        "勤務先:秋田高専\n",
        "\n",
        "専門分野: 物性理論(特に磁性)\n",
        "\n",
        "連絡先: kzhk@gm.akita-nct.ac.jp"
      ]
    },
    {
      "cell_type": "markdown",
      "metadata": {
        "id": "hq6S2cCkoGlm"
      },
      "source": [
        "課題: 講義の進捗状況を見ながら, Webclassを通じて出題します."
      ]
    },
    {
      "cell_type": "markdown",
      "metadata": {
        "id": "kW-bh1KqKoe4"
      },
      "source": [
        "# 熱"
      ]
    },
    {
      "cell_type": "markdown",
      "metadata": {
        "id": "b-7QKjA6Ktcq"
      },
      "source": [
        "## 熱と温度"
      ]
    },
    {
      "cell_type": "markdown",
      "metadata": {
        "id": "OgavEzeULWCw"
      },
      "source": [
        "### 熱平衡と温度"
      ]
    },
    {
      "cell_type": "markdown",
      "metadata": {
        "id": "kQcu5SsYneSe"
      },
      "source": [
        "#### 温度 / Tempearture: $t, T$"
      ]
    },
    {
      "cell_type": "markdown",
      "metadata": {
        "id": "myaHJZiajMrd"
      },
      "source": [
        "![図1　熱の移動と熱平衡](https://i0.wp.com/studyphys.com/wp-content/uploads/2018/11/thermal-equilibrium.png?w=1240&ssl=1)\n",
        "\n",
        "\n",
        "> 図の中の「Bが失う熱量 $Q_{\\rm B}$」は間違い,  **「Bが得る熱量」** です\n",
        "\n",
        ">> 他に熱の逃げ場がなければ，**熱量保存則**   \n",
        ">> $$\\left( -Q_{\\rm A} \\right) + \\left( + Q_{\\rm A} \\right)  =0$$  \n",
        ">> が成り立ちます\n",
        "---\n",
        "- [Dr.あゆみの物理教室](https://studyphys.com/conservation-of-heat/)\n"
      ]
    },
    {
      "cell_type": "markdown",
      "metadata": {
        "id": "-tz7Whp7kQBj"
      },
      "source": [
        "#### 熱平衡 / Thermal equilibrium\n",
        "\n",
        "\n",
        "> $\\quad t_{\\rm High} > t > t_{\\rm Low}$\n",
        "\n",
        "\n",
        "\n",
        "![Time-Temperature](http://www.physicsclassroom.com/Class/thermalP/u18l1d5.gif)\n",
        "![https://commons.wikimedia.org/wiki/File:Balance_%C3%A0_tabac_1850.JPG](https://upload.wikimedia.org/wikipedia/commons/thumb/1/17/Balance_%C3%A0_tabac_1850.JPG/256px-Balance_%C3%A0_tabac_1850.JPG)\n",
        "\n",
        "( 左図では $t_{\\rm High} = 70{\\rm\\  {}^\\circ C},\n",
        "t_{\\rm Low} = 5{\\rm\\  {}^\\circ C},\n",
        "t = 30{\\rm\\  {}^\\circ C} $, ただし高温物質と低温物質に極端な量の差ないと仮定)\n",
        "\n",
        "---\n",
        "[Weighing scale](https://en.wikipedia.org/wiki/Weighing_scale),  [Physics Classroom - Home](https://www.physicsclassroom.com/class/thermalP/Lesson-1/What-is-Heat)"
      ]
    },
    {
      "cell_type": "markdown",
      "metadata": {
        "id": "vBiLv562nqAf"
      },
      "source": [
        "#### 熱力学の第ゼロ法則 / Zeroth law of thermodynamics"
      ]
    },
    {
      "cell_type": "markdown",
      "metadata": {
        "id": "YrGf-8R8rJix"
      },
      "source": [
        "<img src=\"https://cdn.mos.cms.futurecdn.net/g66295pjZdMopJDcqoAjcP-1024-80.jpg.webp\" alt=\"https://www.livescience.com/50833-zeroth-law-thermodynamics.html\" width=\"360\"/>\n",
        "\n",
        "---\n",
        "[livescience](https://www.livescience.com/50833-zeroth-law-thermodynamics.html)"
      ]
    },
    {
      "cell_type": "code",
      "metadata": {
        "id": "KWhrGheppb3h",
        "cellView": "form",
        "outputId": "92fba503-65a8-473b-aba4-de276d4a2c6a",
        "colab": {
          "base_uri": "https://localhost:8080/",
          "height": 336
        }
      },
      "source": [
        "#@title What is the Zeroth Law of Thermodynamics? / The Royal Institution\n",
        "%%html\n",
        "<iframe width=\"560\" height=\"315\" src=\"https://www.youtube-nocookie.com/embed/PE_zpk-EznQ\" frameborder=\"0\" allow=\"accelerometer; autoplay; clipboard-write; encrypted-media; gyroscope; picture-in-picture\" allowfullscreen></iframe>"
      ],
      "execution_count": null,
      "outputs": [
        {
          "output_type": "display_data",
          "data": {
            "text/html": [
              "<iframe width=\"560\" height=\"315\" src=\"https://www.youtube-nocookie.com/embed/PE_zpk-EznQ\" frameborder=\"0\" allow=\"accelerometer; autoplay; clipboard-write; encrypted-media; gyroscope; picture-in-picture\" allowfullscreen></iframe>"
            ],
            "text/plain": [
              "<IPython.core.display.HTML object>"
            ]
          },
          "metadata": {
            "tags": []
          }
        }
      ]
    },
    {
      "cell_type": "markdown",
      "metadata": {
        "id": "T5NlTpt7RAed"
      },
      "source": [
        "#### 温度の目盛り\n"
      ]
    },
    {
      "cell_type": "markdown",
      "metadata": {
        "id": "EBYLOijXRBRF"
      },
      "source": [
        "##### 水の相転移"
      ]
    },
    {
      "cell_type": "code",
      "metadata": {
        "id": "KhFv_Lu6Q7xj",
        "cellView": "form",
        "outputId": "1bfd57c1-a7dd-430b-853d-58aff2e5e9be",
        "colab": {
          "base_uri": "https://localhost:8080/",
          "height": 336
        }
      },
      "source": [
        "#@title 氷(ice)から水蒸気(vapor)へ\n",
        "%%html\n",
        "<iframe width=\"560\" height=\"315\" src=\"https://www.youtube-nocookie.com/embed/-w1Vnkt7J5M\" frameborder=\"0\" allow=\"accelerometer; autoplay; clipboard-write; encrypted-media; gyroscope; picture-in-picture\" allowfullscreen></iframe>"
      ],
      "execution_count": null,
      "outputs": [
        {
          "output_type": "display_data",
          "data": {
            "text/html": [
              "<iframe width=\"560\" height=\"315\" src=\"https://www.youtube-nocookie.com/embed/-w1Vnkt7J5M\" frameborder=\"0\" allow=\"accelerometer; autoplay; clipboard-write; encrypted-media; gyroscope; picture-in-picture\" allowfullscreen></iframe>"
            ],
            "text/plain": [
              "<IPython.core.display.HTML object>"
            ]
          },
          "metadata": {
            "tags": []
          }
        }
      ]
    },
    {
      "cell_type": "code",
      "metadata": {
        "id": "cdxOgNjVR7GA",
        "cellView": "form",
        "outputId": "93ac30a6-1018-4e05-cc43-1f083a5e86f5",
        "colab": {
          "base_uri": "https://localhost:8080/",
          "height": 336
        }
      },
      "source": [
        "#@title 氷の相転移の温度変化測定\n",
        "%%html\n",
        "<iframe width=\"560\" height=\"315\" src=\"https://www.youtube-nocookie.com/embed/cutEBwkffc4?start=97\" frameborder=\"0\" allow=\"accelerometer; autoplay; clipboard-write; encrypted-media; gyroscope; picture-in-picture\" allowfullscreen></iframe>"
      ],
      "execution_count": null,
      "outputs": [
        {
          "output_type": "display_data",
          "data": {
            "text/html": [
              "<iframe width=\"560\" height=\"315\" src=\"https://www.youtube-nocookie.com/embed/cutEBwkffc4?start=97\" frameborder=\"0\" allow=\"accelerometer; autoplay; clipboard-write; encrypted-media; gyroscope; picture-in-picture\" allowfullscreen></iframe>"
            ],
            "text/plain": [
              "<IPython.core.display.HTML object>"
            ]
          },
          "metadata": {
            "tags": []
          }
        }
      ]
    },
    {
      "cell_type": "markdown",
      "metadata": {
        "id": "EqTr4g0osbNO"
      },
      "source": [
        "\n",
        "![Breaking Symmetry: Phase Transitions, Massive Excitations, and Gravitational Domains](https://www.researchgate.net/profile/Fikriye_Idil_Kaya/publication/321545557/figure/fig4/AS:568296684650496@1512503896521/Phase-transitions-of-water-Temperature-vs-Time-or-Heat-graph.png)\n",
        "\n",
        "\n",
        "- ice+water: 固体(固相, solid) $\\Longleftrightarrow$ 液体(液相, liquid)\n",
        "  - $\\Rightarrow$:: 融解\n",
        "  - $\\Leftarrow$:: 凝固\n",
        "- water+vapor:: 液体(液相, liquid) $\\Longleftrightarrow$ 気体(気相, gas)\n",
        "  - $\\Rightarrow$: 蒸発\n",
        "  - $\\Leftarrow$: 凝縮\n",
        "\n",
        "---\n",
        "[Breaking Symmetry: Phase Transitions, Massive Excitations, and Gravitational Domains](https://www.researchgate.net/publication/321545557_Breaking_Symmetry_Phase_Transitions_Massive_Excitations_and_Gravitational_Domains)"
      ]
    },
    {
      "cell_type": "markdown",
      "metadata": {
        "id": "3UuMWQIE3zDL"
      },
      "source": [
        "##### セルシウス温度, 摂氏温度 / Celsius temperature, $t$: ${}^\\circ {\\rm C}$\n",
        "\n",
        "- 1 気圧\n",
        "- 水の氷点 := $0 {}^\\circ {\\rm C}$\n",
        "- 水の沸点 := $100 {}^\\circ {\\rm C}$\n",
        "\n",
        "\n",
        "##### 絶対温度 / absolute temperature, $T$: ${\\rm K}$\n",
        "\n",
        "- ボイル-シャルルの法則を利用  \n",
        "  理想気体の体積(Volume, $V$)と温度(temperature, $T$)の関係を利用. 後述\n",
        "\n",
        "\n",
        "#### 摂氏温度 と 絶対温度 の目盛間隔\n",
        "\n",
        "後述しますが，\n",
        "\\begin{align*}\n",
        "\\Delta t = \\Delta T\n",
        "\\end{align*}\n",
        "つまり，目盛幅は等しいです.\n",
        "\n"
      ]
    },
    {
      "cell_type": "markdown",
      "metadata": {
        "id": "lk0APLoCM-99"
      },
      "source": [
        "#### 転移熱, Heat of Transformation\n",
        "\n",
        "- 相転移に伴う熱の出入り:= *転移熱*, **一次相転移**\n",
        "  - ice $\\rightarrow$ water:: 融解熱\n",
        "    - water $\\rightarrow$ ice:: 凝固熱\n",
        "\n",
        "  - water $\\rightarrow$ vapor:: 蒸発熱\n",
        "    - vaport $\\rightarrow$ water:: 凝縮熱\n",
        "\n",
        "  - 融解熱, 凝固熱: 分子間力に打ち勝って(完全に)自由になるために必要なエネルギー"
      ]
    },
    {
      "cell_type": "markdown",
      "metadata": {
        "id": "qkK3ixVsX8Sg"
      },
      "source": [
        "##### 潜熱, _latent heat_\n",
        "  - 転移熱の別称\n",
        "  - 区間 ice+water, water+vapor に潜む熱\n"
      ]
    },
    {
      "cell_type": "markdown",
      "metadata": {
        "id": "chhW-k4wYKbi"
      },
      "source": [
        "##### 顕熱, sensible heeat\n",
        "- 熱(heat) を受けた分だけ, 温度(Temperature) が変化している熱(区間)"
      ]
    },
    {
      "cell_type": "markdown",
      "metadata": {
        "id": "E3vjZHuaLALv"
      },
      "source": [
        "### 相と相転移"
      ]
    },
    {
      "cell_type": "markdown",
      "metadata": {
        "id": "r4ICTYAuBWDJ"
      },
      "source": [
        "![https://ja.wikipedia.org/wiki/%E7%89%A9%E8%B3%AA%E3%81%AE%E7%8A%B6%E6%85%8B](https://upload.wikimedia.org/wikipedia/commons/thumb/d/db/Phase_change_-_ja.svg/500px-Phase_change_-_ja.svg.png)\n",
        "\n",
        "![https://en.wikipedia.org/wiki/State_of_matter](https://upload.wikimedia.org/wikipedia/commons/thumb/8/8f/Physics_matter_state_transition_1_en.svg/1000px-Physics_matter_state_transition_1_en.svg.png)\n",
        "\n",
        "---\n",
        "[物質の状態](https://ja.wikipedia.org/wiki/%E7%89%A9%E8%B3%AA%E3%81%AE%E7%8A%B6%E6%85%8B), [State of matter](https://en.wikipedia.org/wiki/State_of_matte)"
      ]
    },
    {
      "cell_type": "markdown",
      "metadata": {
        "id": "MCHVs1zUCwcN"
      },
      "source": [
        "### 相図, phase diagram\n",
        "\n",
        "$p-T$ 曲線, $p$:圧力, $T$:温度"
      ]
    },
    {
      "cell_type": "markdown",
      "metadata": {
        "id": "2Q72Wi22FJok"
      },
      "source": [
        "#### 一般的な相図\n",
        "\n",
        "- 三重点\n",
        "- 臨界点\n",
        "\n",
        "![https://en.wikipedia.org/wiki/Phase_diagram](https://upload.wikimedia.org/wikipedia/commons/thumb/3/34/Phase-diag2.svg/500px-Phase-diag2.svg.png)\n",
        "\n",
        "---\n",
        "[Phase diagram](https://en.wikipedia.org/wiki/Phase_diagram)\n"
      ]
    },
    {
      "cell_type": "markdown",
      "metadata": {
        "id": "QQOhO_2MHl_4"
      },
      "source": [
        "#### 二酸化炭素の相図\n",
        "![](https://upload.wikimedia.org/wikipedia/commons/thumb/1/13/Carbon_dioxide_pressure-temperature_phase_diagram.svg/500px-Carbon_dioxide_pressure-temperature_phase_diagram.svg.png)\n",
        "\n",
        "---\n",
        "[Carbon dioxide](https://en.wikipedia.org/wiki/Carbon_dioxide)"
      ]
    },
    {
      "cell_type": "markdown",
      "metadata": {
        "id": "HdIe1JLHEG_W"
      },
      "source": [
        "#### 水の相図\n",
        "\n",
        "![Properties of water](https://upload.wikimedia.org/wikipedia/commons/thumb/3/33/Phase_diagram_of_water_simplified.svg/500px-Phase_diagram_of_water_simplified.svg.png)\n",
        "\n",
        "- 水は 約4℃ で密度が極大になるため, SL曲線に特徴(傾き負)が出る\n",
        "\n",
        "---\n",
        "[Properties of water](https://en.wikipedia.org/wiki/Properties_of_water#Density_of_water_and_ice), [Triple point](https://en.wikipedia.org/wiki/Triple_point), [Water Phase Diagram](http://www1.lsbu.ac.uk/water/water_phase_diagram.html)\n"
      ]
    },
    {
      "cell_type": "markdown",
      "metadata": {
        "id": "sAvBNOfRLEvh"
      },
      "source": [
        "### 熱と分子運動, 内部エネルギー"
      ]
    },
    {
      "cell_type": "markdown",
      "metadata": {
        "id": "AlRuKghCKGBo"
      },
      "source": [
        "#### 熱と分子運動"
      ]
    },
    {
      "cell_type": "code",
      "metadata": {
        "id": "5NkiG4K-IZ7j",
        "cellView": "form",
        "outputId": "7f962671-b78e-4609-b5ba-52c3a4638e98",
        "colab": {
          "base_uri": "https://localhost:8080/",
          "height": 475
        }
      },
      "source": [
        "#@title 熱運動の基本\n",
        "%%html\n",
        "<iframe src=\"https://phet.colorado.edu/sims/html/states-of-matter-basics/latest/states-of-matter-basics_\n",
        "en.html\" width=\"600\" height=\"450\" scrolling=\"no\" allowfullscreen></iframe>"
      ],
      "execution_count": 19,
      "outputs": [
        {
          "output_type": "display_data",
          "data": {
            "text/html": [
              "<iframe src=\"https://phet.colorado.edu/sims/html/states-of-matter-basics/latest/states-of-matter-basics_\n",
              "en.html\" width=\"600\" height=\"450\" scrolling=\"no\" allowfullscreen></iframe>"
            ],
            "text/plain": [
              "<IPython.core.display.HTML object>"
            ]
          },
          "metadata": {
            "tags": []
          }
        }
      ]
    },
    {
      "cell_type": "code",
      "metadata": {
        "id": "oneCy4t_JAFD",
        "cellView": "form",
        "outputId": "976f14fd-09fe-4b3e-c8be-1d28458abc3e",
        "colab": {
          "base_uri": "https://localhost:8080/",
          "height": 475
        }
      },
      "source": [
        "#@title 熱運動(P,V,T)\n",
        "%%html\n",
        "<iframe src=\"https://phet.colorado.edu/sims/html/states-of-matter/latest/states-of-matter_en.html\" width=\"600\" height=\"450\" scrolling=\"no\" allowfullscreen></iframe>"
      ],
      "execution_count": 22,
      "outputs": [
        {
          "output_type": "display_data",
          "data": {
            "text/html": [
              "<iframe src=\"https://phet.colorado.edu/sims/html/states-of-matter/latest/states-of-matter_en.html\" width=\"600\" height=\"450\" scrolling=\"no\" allowfullscreen></iframe>"
            ],
            "text/plain": [
              "<IPython.core.display.HTML object>"
            ]
          },
          "metadata": {
            "tags": []
          }
        }
      ]
    },
    {
      "cell_type": "markdown",
      "metadata": {
        "id": "sv_tJoNFKPnm"
      },
      "source": [
        "#### 内部エネルギー, Internal energy, $U$: ${\\rm J}$"
      ]
    },
    {
      "cell_type": "markdown",
      "metadata": {
        "id": "UHlXyAtZKi1g"
      },
      "source": [
        "> 分子一個の力学的エネルギー = 分子一個の_運動エネルギー_ + 他の分子や環境による _位置エネルギー_\n",
        "\n",
        ">> **分子一個の全エネルギー** = 分子一つの _運動エネルギー_ + (相互作用による) _ポテンシャルエネルギー_\n",
        "\n",
        "\\begin{align*}\n",
        "\\varepsilon_i  &=  k_i + u_{ij}&\n",
        "\\end{align*}\n",
        "\n",
        "**内部エネルギー**:: $U$ 注目する物質全体個数だけ足し合わせたもの\n",
        "\n",
        "\\begin{align*}\n",
        "U &= \\sum \\varepsilon_i  = \\sum_{i}  k_i + \\sum_{i,j(\\neq i)}   u_{ij}&\n",
        "\\end{align*}\n",
        "\n",
        "ここでは, 物質一つ一つに注目しているので、物体全体の運動(容器の落下や回転)は考えていません"
      ]
    },
    {
      "cell_type": "code",
      "metadata": {
        "id": "OkaGV387NNAi",
        "cellView": "form",
        "outputId": "791e1082-7572-4e31-a0f5-5270f4d646a9",
        "colab": {
          "base_uri": "https://localhost:8080/",
          "height": 475
        }
      },
      "source": [
        "#@title 熱: エネルギーの移動形態\n",
        "%%html\n",
        "<iframe src=\"https://phet.colorado.edu/sims/html/energy-forms-and-changes/latest/energy-forms-and-changes_en.html\" width=\"600\" height=\"450\" scrolling=\"no\" allowfullscreen></iframe>"
      ],
      "execution_count": 23,
      "outputs": [
        {
          "output_type": "display_data",
          "data": {
            "text/html": [
              "<iframe src=\"https://phet.colorado.edu/sims/html/energy-forms-and-changes/latest/energy-forms-and-changes_en.html\" width=\"600\" height=\"450\" scrolling=\"no\" allowfullscreen></iframe>"
            ],
            "text/plain": [
              "<IPython.core.display.HTML object>"
            ]
          },
          "metadata": {
            "tags": []
          }
        }
      ]
    },
    {
      "cell_type": "markdown",
      "metadata": {
        "id": "bkI1_hwELJfz"
      },
      "source": [
        "### 熱容量と比熱容量\n",
        "\n",
        "熱量: エネルギーの移動形態, $Q$"
      ]
    },
    {
      "cell_type": "markdown",
      "metadata": {
        "id": "ex5g0DBmODt6"
      },
      "source": [
        "#### 熱量の実用単位, calorie: ${\\rm cal}$\n",
        "\n",
        "> 定義: ${\\rm 1 g}$ の水を 温度 ${\\rm 1 {}^\\circ C}$ 上げるために必要な熱量\n",
        "\n"
      ]
    },
    {
      "cell_type": "markdown",
      "metadata": {
        "id": "aMkDM8fdPbLQ"
      },
      "source": [
        "#### 熱量の(国際)単位, Joule: ${\\rm J}$\n",
        "\n",
        "> ${\\rm J}$ はエネルギーまたは仕事の単位"
      ]
    },
    {
      "cell_type": "markdown",
      "metadata": {
        "id": "x-JECkl4MW0n"
      },
      "source": [
        "#### 仕事等量 $\\mathcal{J}$\n",
        "\n",
        "冬場、両掌を擦ることで、手が暖かくなる事を思い出しください。\n",
        "1. 両掌には接する事で, 摩擦力が働きます\n",
        "2. 手を動かすことによって, 変位が生じます\n",
        "3. 物理では, 仕事は力と変位で定義されています\n",
        "\n",
        "> Q. この動きで、私たちの掌はどうなりますか?\n",
        "\n",
        "このような簡単な考察から, 仕事が熱量に変換されたことが分かります."
      ]
    },
    {
      "cell_type": "code",
      "metadata": {
        "id": "XKzG3W61QC1l",
        "cellView": "form",
        "outputId": "1a57f4c3-7676-4cf9-e2b4-846674be6da0",
        "colab": {
          "base_uri": "https://localhost:8080/",
          "height": 336
        }
      },
      "source": [
        "#@title 仕事と熱の関係\n",
        "%%html\n",
        "<iframe width=\"560\" height=\"315\" src=\"https://www.youtube-nocookie.com/embed/ZbZjo7zhWFk\" frameborder=\"0\" allow=\"accelerometer; autoplay; clipboard-write; encrypted-media; gyroscope; picture-in-picture\" allowfullscreen></iframe>"
      ],
      "execution_count": null,
      "outputs": [
        {
          "output_type": "display_data",
          "data": {
            "text/html": [
              "<iframe width=\"560\" height=\"315\" src=\"https://www.youtube-nocookie.com/embed/ZbZjo7zhWFk\" frameborder=\"0\" allow=\"accelerometer; autoplay; clipboard-write; encrypted-media; gyroscope; picture-in-picture\" allowfullscreen></iframe>"
            ],
            "text/plain": [
              "<IPython.core.display.HTML object>"
            ]
          },
          "metadata": {
            "tags": []
          }
        }
      ]
    },
    {
      "cell_type": "code",
      "metadata": {
        "id": "G--uoKyzQD3P",
        "cellView": "form",
        "outputId": "20108986-58fc-458c-8071-6352721c0f99",
        "colab": {
          "base_uri": "https://localhost:8080/",
          "height": 336
        }
      },
      "source": [
        "#@title 仕事等量の測定: 英国人ジュールが用いた手法\n",
        "%%html\n",
        "<iframe width=\"560\" height=\"315\" src=\"https://www.youtube-nocookie.com/embed/MBrTDKc9YZ0\" frameborder=\"0\" allow=\"accelerometer; autoplay; clipboard-write; encrypted-media; gyroscope; picture-in-picture\" allowfullscreen></iframe>"
      ],
      "execution_count": null,
      "outputs": [
        {
          "output_type": "display_data",
          "data": {
            "text/html": [
              "<iframe width=\"560\" height=\"315\" src=\"https://www.youtube-nocookie.com/embed/MBrTDKc9YZ0\" frameborder=\"0\" allow=\"accelerometer; autoplay; clipboard-write; encrypted-media; gyroscope; picture-in-picture\" allowfullscreen></iframe>"
            ],
            "text/plain": [
              "<IPython.core.display.HTML object>"
            ]
          },
          "metadata": {
            "tags": []
          }
        }
      ]
    },
    {
      "cell_type": "markdown",
      "metadata": {
        "id": "FCUZ202HTf3G"
      },
      "source": [
        "仕事 $W$, 熱量 $Q$ とすると\n",
        "\\begin{align*}\n",
        "W = \\mathcal{J} \\cdot Q\n",
        "\\end{align*}\n",
        "と表現されます.\n",
        "\n",
        "ここで, $\\mathcal{J}$ は **熱の仕事等量**, Mechanical equivalent of heat, とよばれ, 実験から\n",
        "\\begin{align*}\n",
        "\\mathcal{J}\n",
        "&= 4.18065 {\\rm\\ J /cal } &\\\\\n",
        "&= \\dfrac{4.18065 {\\rm\\ J }}{\\rm 1 \\ cal}\n",
        "\\end{align*}\n",
        "であることがわかっています.\n",
        "\n",
        "---\n",
        "\n",
        "[Calorie](https://en.wikipedia.org/wiki/Calorie), https://doi.org/10.1351/pac196408020095 "
      ]
    },
    {
      "cell_type": "markdown",
      "metadata": {
        "id": "GvY06JTqV8NW"
      },
      "source": [
        "#### 熱容量, Heat capacity $C$: ${\\rm J/K}$"
      ]
    },
    {
      "cell_type": "markdown",
      "metadata": {
        "id": "KY9kLkkyMzgp"
      },
      "source": [
        "> Q. 熱($\\Delta Q$)を加えた分だけ, 物体の温度変化($\\Delta T$)する熱の区間の名称を思い出してください.\n",
        "\n",
        "熱($\\Delta Q$)の出入りによって, 物体が異なれば(水,油,金属等)の温度変化($\\Delta T$)は異なります.  \n",
        "\n",
        "そこで物体ごとの **熱容量** $C$ を次のように定義します.\n",
        "\n",
        "\\begin{align*}\n",
        "C &= \\dfrac{\\Delta Q}{\\Delta T}\n",
        "\\end{align*}\n",
        "\n",
        "これを文章で表現すれば, 熱容量 $C$ は\n",
        "\n",
        "> 物体の温度 1℃ 上げるのに必要な熱量\n",
        "\n",
        "となります. 単位は\n",
        "- 国際単位系: ${\\rm J/K, \\ J/{}^\\circ C}$\n",
        "- 生活単位: ${\\rm cal/K, \\ cal/{}^\\circ C}$\n",
        "\n"
      ]
    },
    {
      "cell_type": "markdown",
      "metadata": {
        "id": "VuOqSBIiZ5Bo"
      },
      "source": [
        "#### 比熱容量, 比熱 $c$ : ${\\rm J/g.K}$"
      ]
    },
    {
      "cell_type": "markdown",
      "metadata": {
        "id": "-EPx5hZmaqtM"
      },
      "source": [
        "物体の質量によって, 内部エネルギーを分担する原子や分子の数が増えるため, 熱容量 $C$ は\n",
        "質量に比例します. \n",
        "\n",
        "注目する物質の質量を $m$ g とすると, 単位グラムあたりの熱容量 $c$ は\n",
        "\\begin{align*}\n",
        "c &= \\dfrac{C}{m} &\\\\\n",
        "&= \\dfrac{1}{m} \\dfrac{\\Delta Q}{\\Delta T}&\n",
        "\\end{align*}\n",
        "となります. この $c$ を **比熱容量**(比熱)と言います\n",
        "\n",
        "物体は, 体積$(V)$や圧力$(p)$によって状態が変わりますそこで\n",
        "- 物体の圧力一定 $(\\Delta p=0)$の元での比熱容量 $c$ を, 定圧比熱容量 $c_p$\n",
        "- 物体の体積一定 $(\\Delta V=0)$の元での比熱容量 $c$ を, 定積比熱容量 $c_V$"
      ]
    },
    {
      "cell_type": "markdown",
      "metadata": {
        "id": "SCIu7L1Zcq2x"
      },
      "source": [
        "#### モル熱容量\n",
        "\n",
        "熱容量を, 原子や分子の基本個数 Avogadro 定数 $N_{\\rm A} = 6.02\\times 10^{23}$  \n",
        "つまり 1 mol を基準とした熱容量を **モル熱容量**  $c_n$といいます.\n",
        "\n",
        "目する物体の物質量を $n$, その熱容量が $C$ ならば\n",
        "\\begin{align*}\n",
        "c_n = \\dfrac{C}{n} = \\dfrac{1}{n} \\dfrac{\\Delta Q}{\\Delta T}\n",
        "\\end{align*}\n"
      ]
    },
    {
      "cell_type": "markdown",
      "metadata": {
        "id": "rccUgfBhkW8h"
      },
      "source": [
        "一般的な金属の $c_n$ は, 気体定数を $R=8.31 {\\rm \\ J/mol.K}$ とすると  \n",
        "常温では $c_n=3R=24.94 {\\rm \\ J/mol.K}$ となることが, 統計力学をから導出できる.\n",
        "\n",
        "低温では、教科書 p159 図14.5 のようにそれよりも小さな値を示す.\n",
        "このような変化も量子力学と統計力学を融合することほぼ再現できる.\n",
        "\n",
        "---\n",
        "[Specific heats and molar heat capacities for various substances at 20 C](http://hyperphysics.phy-astr.gsu.edu/hbase/Tables/sphtt.html)"
      ]
    },
    {
      "cell_type": "markdown",
      "metadata": {
        "id": "15xx015oldXn"
      },
      "source": [
        "#### 潜熱/転移熱の一般的な単位: ${\\rm J/g, \\ cal/g}$\n",
        "\n",
        "潜熱は顕熱のように温度変化に比例していないが, その物体の質量に依存する.\n",
        "物体の質量を $m$ g とし, この物体を相変化させるために必要な熱量を $\\Delta Q$ とすると, 潜熱 $H_L$ は\n",
        "\n",
        "\\begin{align*}\n",
        "\\Delta Q &= m \\cdot H_{L}&\\\\\n",
        "H_{L} & = \\dfrac{\\Delta Q}{m}&\n",
        "\\end{align*}"
      ]
    },
    {
      "cell_type": "markdown",
      "metadata": {
        "id": "92uBKw9HLRCi"
      },
      "source": [
        "### 熱膨張"
      ]
    },
    {
      "cell_type": "code",
      "metadata": {
        "id": "obyzAywY5_BU",
        "cellView": "form",
        "outputId": "6f76ef03-ca0e-4461-ad7d-6ae415f82edc",
        "colab": {
          "base_uri": "https://localhost:8080/",
          "height": 336
        }
      },
      "source": [
        "#@title 熱膨張の実験\n",
        "%%html\n",
        "<iframe width=\"560\" height=\"315\" src=\"https://www.youtube-nocookie.com/embed/EkQ2886Sxpg\" frameborder=\"0\" allow=\"accelerometer; autoplay; encrypted-media; gyroscope; picture-in-picture\" allowfullscreen></iframe>"
      ],
      "execution_count": null,
      "outputs": [
        {
          "output_type": "display_data",
          "data": {
            "text/html": [
              "<iframe width=\"560\" height=\"315\" src=\"https://www.youtube-nocookie.com/embed/EkQ2886Sxpg\" frameborder=\"0\" allow=\"accelerometer; autoplay; encrypted-media; gyroscope; picture-in-picture\" allowfullscreen></iframe>"
            ],
            "text/plain": [
              "<IPython.core.display.HTML object>"
            ]
          },
          "metadata": {
            "tags": []
          }
        }
      ]
    },
    {
      "cell_type": "code",
      "metadata": {
        "id": "1MdDJZ_86Qmn",
        "cellView": "form",
        "outputId": "486bf073-0f0c-4c81-91b7-0fb558428d1e",
        "colab": {
          "base_uri": "https://localhost:8080/",
          "height": 336
        }
      },
      "source": [
        "#@title \n",
        "%%html\n",
        "<iframe width=\"560\" height=\"315\" src=\"https://www.youtube-nocookie.com/embed/2L8dWMX8u3o\" frameborder=\"0\" allow=\"accelerometer; autoplay; encrypted-media; gyroscope; picture-in-picture\" allowfullscreen></iframe>"
      ],
      "execution_count": null,
      "outputs": [
        {
          "output_type": "display_data",
          "data": {
            "text/html": [
              "<iframe width=\"560\" height=\"315\" src=\"https://www.youtube-nocookie.com/embed/2L8dWMX8u3o\" frameborder=\"0\" allow=\"accelerometer; autoplay; encrypted-media; gyroscope; picture-in-picture\" allowfullscreen></iframe>"
            ],
            "text/plain": [
              "<IPython.core.display.HTML object>"
            ]
          },
          "metadata": {
            "tags": []
          }
        }
      ]
    },
    {
      "cell_type": "markdown",
      "metadata": {
        "id": "17RlfuyL8yq3"
      },
      "source": [
        "### 線路の隙間\n",
        "\n",
        "<img src=\"https://upload.wikimedia.org/wikipedia/commons/5/51/50T-50N_Transition_Rail_of_Mashu-station.jpg\" alt=\"中継レール(50T-50Nレール)\" width=\"700\"/>"
      ]
    },
    {
      "cell_type": "code",
      "metadata": {
        "id": "lQBkvSs36cIb",
        "cellView": "form",
        "outputId": "6c8f0073-9976-4708-f047-66626ac9382e",
        "colab": {
          "base_uri": "https://localhost:8080/",
          "height": 336
        }
      },
      "source": [
        "#@title 軌条の熱膨張\n",
        "%%html\n",
        "<iframe width=\"560\" height=\"315\" src=\"https://www.youtube-nocookie.com/embed/jJeiYaSFCf0\" frameborder=\"0\" allow=\"accelerometer; autoplay; encrypted-media; gyroscope; picture-in-picture\" allowfullscreen></iframe>"
      ],
      "execution_count": null,
      "outputs": [
        {
          "output_type": "display_data",
          "data": {
            "text/html": [
              "<iframe width=\"560\" height=\"315\" src=\"https://www.youtube-nocookie.com/embed/jJeiYaSFCf0\" frameborder=\"0\" allow=\"accelerometer; autoplay; encrypted-media; gyroscope; picture-in-picture\" allowfullscreen></iframe>"
            ],
            "text/plain": [
              "<IPython.core.display.HTML object>"
            ]
          },
          "metadata": {
            "tags": []
          }
        }
      ]
    },
    {
      "cell_type": "code",
      "metadata": {
        "id": "zUQ8KzXqOdTA",
        "cellView": "form",
        "outputId": "1e013d35-ad86-4b35-b57f-1ea09ad81429",
        "colab": {
          "base_uri": "https://localhost:8080/",
          "height": 223
        }
      },
      "source": [
        "#@title 線膨張率を導出する概念図\n",
        "%%svg\n",
        "<svg xmlns=\"http://www.w3.org/2000/svg\" xmlns:xlink=\"http://www.w3.org/1999/xlink\" version=\"1.1\" width=\"338px\" viewBox=\"-0.5 -0.5 338 202\" content=\"&lt;mxfile host=&quot;www.draw.io&quot; modified=&quot;2020-05-21T07:53:32.624Z&quot; agent=&quot;5.0 (Macintosh; Intel Mac OS X 10_10_5) AppleWebKit/537.36 (KHTML, like Gecko) Chrome/81.0.4044.138 Safari/537.36&quot; etag=&quot;hQj2vb1lmOSLw5F-xGeE&quot; version=&quot;13.1.3&quot; type=&quot;google&quot;&gt;&lt;diagram id=&quot;veNhKWrdR9zbm09gi63X&quot; name=&quot;Page-1&quot;&gt;7VlNc5swEP01HJ0BYWx8jB2nzTRtM01n2h5lEEZTGblCjnF/fQVIGAFOHILJR3NJrCexSPverqTFsGer5AOD6/Az9RExgOknhn1hAOA6lvibArscsExzkiNLhn2J7YFb/BepgRLdYB/F2kBOKeF4rYMejSLkcQ2DjNGtPiygRH/rGi5RDbj1IKmjP7DPQ7kuMN7jHxFehurN1kiubwXVYLmSOIQ+3ZYge27YM0Ypz3+tkhkiqfOUX/LnLg/0FhNjKOLHPHD19ebbVUAWnwZuMp6baJrEeCCt3EGykQuWk+U75QFGN5GPUiOmYU+3Iebodg29tHcrOBdYyFdEtCzxM8CEzCihLHvW9iFyA0/gMWf0Nyr1jDwXLQLRIyeAGEfJwZVZhb+E0BBdIc52YohSmfSw1FjR3u4JA0OJhSWyFAalRpaF5b0bxQ/pyUd4FTzsVRT556k8RSuikQCnPozDzM2W7lLhBLb7mbr/zFHNX5KNrHGRaK2dbOWvRH5N3xW3ioCCbIn4Qyqpu7/kX6fBvQpjiECO7/RpNPlcvuGGYjHBgl1g6vTaoEJbTDfMQ/KpcgBUDTkVnYwrhnI/1AxlEiiW3V4V9mljLXA95DXG2sJ1ho55klizR/VYKwjqJdaGrynWni2G7IlYUJm4odk2imqmCg30FEfOS2A8tXcDOUcsyiwBc/gKdGBNOtNB3VTfOhi966CtDgRVXemgbqpvHYzb6KBEfb5fqtO99RroA/ouPKzurkeTVzFU26ZPTJ3bOXVFHFvlKLY62r+POCvbzymModmRMGqGrH6FMfnvYtrtiLnqZbjniFY6OZI5j8A4xvmtBTJeh98Sp6C6MbZO0z3vsFZTmWhEeHoJpdlE9+yO/myo6hjEWT3vXAyw3HWy7xS/lvJ/ZgUr4FohYp64OireLBRklsaV4BKaT0zBVQUKyVzDBSK6wiDBy/QY5wn5IHF5nqZXZexBci47Vtj3UxtThsTS4CKzl24g69T1GRnO1HAu5Pov4QqTlLOZIBoLi8D8grb3XcRlGVNaNoriYVnS98TdwWv7wDwz9VOaKlK1lbgaQoMgRqdRHegxlRxB18vNM7XzYNsSWW3brxo6daJpqpHJ4F/D6AmJZjY3JsNy0sjM1bJQW/sH8tbbTzugWfcqyVgvPsk01Q9PsrV9N4DZrJJp2qMJtPzQ4f3woV1OsMx1pVX1Azec5gt5pBAbhFeqRsvzuF6IlqBe4m4n1+PL1Vb144Gq+ZcSs9uQmKt5r7NytdVUvTyV3t6l8xTpAP3ABCYNnzq6kY5o7r8D55lt/zXdnv8D&lt;/diagram&gt;&lt;/mxfile&gt;\" onclick=\"(function(svg){var src=window.event.target||window.event.srcElement;while (src!=null&amp;&amp;src.nodeName.toLowerCase()!='a'){src=src.parentNode;}if(src==null){if(svg.wnd!=null&amp;&amp;!svg.wnd.closed){svg.wnd.focus();}else{var r=function(evt){if(evt.data=='ready'&amp;&amp;evt.source==svg.wnd){svg.wnd.postMessage(decodeURIComponent(svg.getAttribute('content')),'*');window.removeEventListener('message',r);}};window.addEventListener('message',r);svg.wnd=window.open('https://www.draw.io/?client=1&amp;lightbox=1&amp;edit=_blank');}}})(this);\" style=\"cursor:pointer;max-width:100%;max-height:202px;\"><defs/><g><rect x=\"8\" y=\"40\" width=\"240\" height=\"40\" fill=\"#dae8fc\" stroke=\"#6c8ebf\" pointer-events=\"all\"/><path d=\"M 128 80 L 128 40\" fill=\"none\" stroke=\"#000000\" stroke-miterlimit=\"10\" stroke-dasharray=\"3 3\" pointer-events=\"stroke\"/><rect x=\"8\" y=\"120\" width=\"320\" height=\"40\" fill=\"#f8cecc\" stroke=\"#b85450\" pointer-events=\"all\"/><path d=\"M 167.5 160 L 167.5 120\" fill=\"none\" stroke=\"#000000\" stroke-miterlimit=\"10\" stroke-dasharray=\"3 3\" pointer-events=\"stroke\"/><path d=\"M 127.5 160 L 127.5 120\" fill=\"none\" stroke=\"#000000\" stroke-miterlimit=\"10\" stroke-dasharray=\"1 4\" pointer-events=\"stroke\"/><path d=\"M 288.5 160 L 288.5 120\" fill=\"none\" stroke=\"#000000\" stroke-miterlimit=\"10\" stroke-dasharray=\"1 4\" pointer-events=\"stroke\"/><path d=\"M 248 200 L 248 0\" fill=\"none\" stroke=\"#000000\" stroke-miterlimit=\"10\" pointer-events=\"stroke\"/><path d=\"M 328 200 L 328 160\" fill=\"none\" stroke=\"#000000\" stroke-miterlimit=\"10\" pointer-events=\"stroke\"/><path d=\"M 8 200 L 8 0\" fill=\"none\" stroke=\"#000000\" stroke-miterlimit=\"10\" pointer-events=\"stroke\"/><path d=\"M 14.37 20 L 241.63 20\" fill=\"none\" stroke=\"#000000\" stroke-miterlimit=\"10\" pointer-events=\"stroke\"/><path d=\"M 9.12 20 L 16.12 16.5 L 14.37 20 L 16.12 23.5 Z\" fill=\"#000000\" stroke=\"#000000\" stroke-miterlimit=\"10\" pointer-events=\"all\"/><path d=\"M 246.88 20 L 239.88 23.5 L 241.63 20 L 239.88 16.5 Z\" fill=\"#000000\" stroke=\"#000000\" stroke-miterlimit=\"10\" pointer-events=\"all\"/><g transform=\"translate(-0.5 -0.5)\"><switch><foreignObject style=\"overflow: visible; text-align: left;\" pointer-events=\"none\" width=\"100%\" height=\"100%\" requiredFeatures=\"http://www.w3.org/TR/SVG11/feature#Extensibility\"><div xmlns=\"http://www.w3.org/1999/xhtml\" style=\"display: flex; align-items: unsafe center; justify-content: unsafe center; width: 1px; height: 1px; padding-top: 23px; margin-left: 123px;\"><div style=\"box-sizing: border-box; font-size: 0; text-align: center; \"><div style=\"display: inline-block; font-size: 11px; font-family: Courier New; color: #000000; line-height: 1.2; pointer-events: all; background-color: #ffffff; white-space: nowrap; \"><font style=\"font-size: 18px\"><i>L</i><sub>0</sub></font></div></div></div></foreignObject><text x=\"123\" y=\"26\" fill=\"#000000\" font-family=\"Courier New\" font-size=\"11px\" text-anchor=\"middle\">L0</text></switch></g><path d=\"M 254.37 180 L 321.63 180\" fill=\"none\" stroke=\"#000000\" stroke-miterlimit=\"10\" pointer-events=\"stroke\"/><path d=\"M 249.12 180 L 256.12 176.5 L 254.37 180 L 256.12 183.5 Z\" fill=\"#000000\" stroke=\"#000000\" stroke-miterlimit=\"10\" pointer-events=\"all\"/><path d=\"M 326.88 180 L 319.88 183.5 L 321.63 180 L 319.88 176.5 Z\" fill=\"#000000\" stroke=\"#000000\" stroke-miterlimit=\"10\" pointer-events=\"all\"/><g transform=\"translate(-0.5 -0.5)\"><switch><foreignObject style=\"overflow: visible; text-align: left;\" pointer-events=\"none\" width=\"100%\" height=\"100%\" requiredFeatures=\"http://www.w3.org/TR/SVG11/feature#Extensibility\"><div xmlns=\"http://www.w3.org/1999/xhtml\" style=\"display: flex; align-items: unsafe center; justify-content: unsafe center; width: 1px; height: 1px; padding-top: 182px; margin-left: 289px;\"><div style=\"box-sizing: border-box; font-size: 0; text-align: center; \"><div style=\"display: inline-block; font-size: 11px; font-family: Courier New; color: #000000; line-height: 1.2; pointer-events: all; background-color: #ffffff; white-space: nowrap; \"><span style=\"font-size: 18px\">Δ</span><i style=\"font-size: 18px\">L</i></div></div></div></foreignObject><text x=\"289\" y=\"185\" fill=\"#000000\" font-family=\"Courier New\" font-size=\"11px\" text-anchor=\"middle\">ΔL</text></switch></g><rect x=\"28\" y=\"130\" width=\"80\" height=\"20\" fill=\"none\" stroke=\"none\" pointer-events=\"all\"/><g transform=\"translate(-0.5 -0.5)\"><switch><foreignObject style=\"overflow: visible; text-align: left;\" pointer-events=\"none\" width=\"100%\" height=\"100%\" requiredFeatures=\"http://www.w3.org/TR/SVG11/feature#Extensibility\"><div xmlns=\"http://www.w3.org/1999/xhtml\" style=\"display: flex; align-items: unsafe center; justify-content: unsafe center; width: 1px; height: 1px; padding-top: 140px; margin-left: 68px;\"><div style=\"box-sizing: border-box; font-size: 0; text-align: center; \"><div style=\"display: inline-block; font-size: 12px; font-family: Courier New; color: #000000; line-height: 1.2; pointer-events: all; white-space: nowrap; \"><font style=\"font-size: 18px\"><i>T </i>+ Δ<i>T</i></font></div></div></div></foreignObject><text x=\"68\" y=\"144\" fill=\"#000000\" font-family=\"Courier New\" font-size=\"12px\" text-anchor=\"middle\">T + ΔT</text></switch></g><rect x=\"53\" y=\"50\" width=\"30\" height=\"20\" fill=\"none\" stroke=\"none\" pointer-events=\"all\"/><g transform=\"translate(-0.5 -0.5)\"><switch><foreignObject style=\"overflow: visible; text-align: left;\" pointer-events=\"none\" width=\"100%\" height=\"100%\" requiredFeatures=\"http://www.w3.org/TR/SVG11/feature#Extensibility\"><div xmlns=\"http://www.w3.org/1999/xhtml\" style=\"display: flex; align-items: unsafe center; justify-content: unsafe center; width: 1px; height: 1px; padding-top: 60px; margin-left: 68px;\"><div style=\"box-sizing: border-box; font-size: 0; text-align: center; \"><div style=\"display: inline-block; font-size: 12px; font-family: Courier New; color: #000000; line-height: 1.2; pointer-events: all; white-space: nowrap; \"><font style=\"font-size: 18px\"><i>T</i></font></div></div></div></foreignObject><text x=\"68\" y=\"64\" fill=\"#000000\" font-family=\"Courier New\" font-size=\"12px\" text-anchor=\"middle\">T</text></switch></g></g><switch><g requiredFeatures=\"http://www.w3.org/TR/SVG11/feature#Extensibility\"/><a transform=\"translate(0,-5)\" xlink:href=\"https://desk.draw.io/support/solutions/articles/16000042487\" target=\"_blank\"><text text-anchor=\"middle\" font-size=\"10px\" x=\"50%\" y=\"100%\">Viewer does not support full SVG 1.1</text></a></switch></svg>"
      ],
      "execution_count": null,
      "outputs": [
        {
          "output_type": "display_data",
          "data": {
            "text/plain": [
              "<IPython.core.display.SVG object>"
            ],
            "image/svg+xml": "<svg content=\"&lt;mxfile host=&quot;www.draw.io&quot; modified=&quot;2020-05-21T07:53:32.624Z&quot; agent=&quot;5.0 (Macintosh; Intel Mac OS X 10_10_5) AppleWebKit/537.36 (KHTML, like Gecko) Chrome/81.0.4044.138 Safari/537.36&quot; etag=&quot;hQj2vb1lmOSLw5F-xGeE&quot; version=&quot;13.1.3&quot; type=&quot;google&quot;&gt;&lt;diagram id=&quot;veNhKWrdR9zbm09gi63X&quot; name=&quot;Page-1&quot;&gt;7VlNc5swEP01HJ0BYWx8jB2nzTRtM01n2h5lEEZTGblCjnF/fQVIGAFOHILJR3NJrCexSPverqTFsGer5AOD6/Az9RExgOknhn1hAOA6lvibArscsExzkiNLhn2J7YFb/BepgRLdYB/F2kBOKeF4rYMejSLkcQ2DjNGtPiygRH/rGi5RDbj1IKmjP7DPQ7kuMN7jHxFehurN1kiubwXVYLmSOIQ+3ZYge27YM0Ypz3+tkhkiqfOUX/LnLg/0FhNjKOLHPHD19ebbVUAWnwZuMp6baJrEeCCt3EGykQuWk+U75QFGN5GPUiOmYU+3Iebodg29tHcrOBdYyFdEtCzxM8CEzCihLHvW9iFyA0/gMWf0Nyr1jDwXLQLRIyeAGEfJwZVZhb+E0BBdIc52YohSmfSw1FjR3u4JA0OJhSWyFAalRpaF5b0bxQ/pyUd4FTzsVRT556k8RSuikQCnPozDzM2W7lLhBLb7mbr/zFHNX5KNrHGRaK2dbOWvRH5N3xW3ioCCbIn4Qyqpu7/kX6fBvQpjiECO7/RpNPlcvuGGYjHBgl1g6vTaoEJbTDfMQ/KpcgBUDTkVnYwrhnI/1AxlEiiW3V4V9mljLXA95DXG2sJ1ho55klizR/VYKwjqJdaGrynWni2G7IlYUJm4odk2imqmCg30FEfOS2A8tXcDOUcsyiwBc/gKdGBNOtNB3VTfOhi966CtDgRVXemgbqpvHYzb6KBEfb5fqtO99RroA/ouPKzurkeTVzFU26ZPTJ3bOXVFHFvlKLY62r+POCvbzymModmRMGqGrH6FMfnvYtrtiLnqZbjniFY6OZI5j8A4xvmtBTJeh98Sp6C6MbZO0z3vsFZTmWhEeHoJpdlE9+yO/myo6hjEWT3vXAyw3HWy7xS/lvJ/ZgUr4FohYp64OireLBRklsaV4BKaT0zBVQUKyVzDBSK6wiDBy/QY5wn5IHF5nqZXZexBci47Vtj3UxtThsTS4CKzl24g69T1GRnO1HAu5Pov4QqTlLOZIBoLi8D8grb3XcRlGVNaNoriYVnS98TdwWv7wDwz9VOaKlK1lbgaQoMgRqdRHegxlRxB18vNM7XzYNsSWW3brxo6daJpqpHJ4F/D6AmJZjY3JsNy0sjM1bJQW/sH8tbbTzugWfcqyVgvPsk01Q9PsrV9N4DZrJJp2qMJtPzQ4f3woV1OsMx1pVX1Azec5gt5pBAbhFeqRsvzuF6IlqBe4m4n1+PL1Vb144Gq+ZcSs9uQmKt5r7NytdVUvTyV3t6l8xTpAP3ABCYNnzq6kY5o7r8D55lt/zXdnv8D&lt;/diagram&gt;&lt;/mxfile&gt;\" onclick=\"(function(svg){var src=window.event.target||window.event.srcElement;while (src!=null&amp;&amp;src.nodeName.toLowerCase()!='a'){src=src.parentNode;}if(src==null){if(svg.wnd!=null&amp;&amp;!svg.wnd.closed){svg.wnd.focus();}else{var r=function(evt){if(evt.data=='ready'&amp;&amp;evt.source==svg.wnd){svg.wnd.postMessage(decodeURIComponent(svg.getAttribute('content')),'*');window.removeEventListener('message',r);}};window.addEventListener('message',r);svg.wnd=window.open('https://www.draw.io/?client=1&amp;lightbox=1&amp;edit=_blank');}}})(this);\" style=\"cursor:pointer;max-width:100%;max-height:202px;\" version=\"1.1\" viewBox=\"-0.5 -0.5 338 202\" width=\"338px\" xmlns=\"http://www.w3.org/2000/svg\" xmlns:xlink=\"http://www.w3.org/1999/xlink\"><defs/><g><rect fill=\"#dae8fc\" height=\"40\" pointer-events=\"all\" stroke=\"#6c8ebf\" width=\"240\" x=\"8\" y=\"40\"/><path d=\"M 128 80 L 128 40\" fill=\"none\" pointer-events=\"stroke\" stroke=\"#000000\" stroke-dasharray=\"3 3\" stroke-miterlimit=\"10\"/><rect fill=\"#f8cecc\" height=\"40\" pointer-events=\"all\" stroke=\"#b85450\" width=\"320\" x=\"8\" y=\"120\"/><path d=\"M 167.5 160 L 167.5 120\" fill=\"none\" pointer-events=\"stroke\" stroke=\"#000000\" stroke-dasharray=\"3 3\" stroke-miterlimit=\"10\"/><path d=\"M 127.5 160 L 127.5 120\" fill=\"none\" pointer-events=\"stroke\" stroke=\"#000000\" stroke-dasharray=\"1 4\" stroke-miterlimit=\"10\"/><path d=\"M 288.5 160 L 288.5 120\" fill=\"none\" pointer-events=\"stroke\" stroke=\"#000000\" stroke-dasharray=\"1 4\" stroke-miterlimit=\"10\"/><path d=\"M 248 200 L 248 0\" fill=\"none\" pointer-events=\"stroke\" stroke=\"#000000\" stroke-miterlimit=\"10\"/><path d=\"M 328 200 L 328 160\" fill=\"none\" pointer-events=\"stroke\" stroke=\"#000000\" stroke-miterlimit=\"10\"/><path d=\"M 8 200 L 8 0\" fill=\"none\" pointer-events=\"stroke\" stroke=\"#000000\" stroke-miterlimit=\"10\"/><path d=\"M 14.37 20 L 241.63 20\" fill=\"none\" pointer-events=\"stroke\" stroke=\"#000000\" stroke-miterlimit=\"10\"/><path d=\"M 9.12 20 L 16.12 16.5 L 14.37 20 L 16.12 23.5 Z\" fill=\"#000000\" pointer-events=\"all\" stroke=\"#000000\" stroke-miterlimit=\"10\"/><path d=\"M 246.88 20 L 239.88 23.5 L 241.63 20 L 239.88 16.5 Z\" fill=\"#000000\" pointer-events=\"all\" stroke=\"#000000\" stroke-miterlimit=\"10\"/><g transform=\"translate(-0.5 -0.5)\"><switch><foreignObject height=\"100%\" pointer-events=\"none\" requiredFeatures=\"http://www.w3.org/TR/SVG11/feature#Extensibility\" style=\"overflow: visible; text-align: left;\" width=\"100%\"><div style=\"display: flex; align-items: unsafe center; justify-content: unsafe center; width: 1px; height: 1px; padding-top: 23px; margin-left: 123px;\" xmlns=\"http://www.w3.org/1999/xhtml\"><div style=\"box-sizing: border-box; font-size: 0; text-align: center; \"><div style=\"display: inline-block; font-size: 11px; font-family: Courier New; color: #000000; line-height: 1.2; pointer-events: all; background-color: #ffffff; white-space: nowrap; \"><font style=\"font-size: 18px\"><i>L</i><sub>0</sub></font></div></div></div></foreignObject><text fill=\"#000000\" font-family=\"Courier New\" font-size=\"11px\" text-anchor=\"middle\" x=\"123\" y=\"26\">L0</text></switch></g><path d=\"M 254.37 180 L 321.63 180\" fill=\"none\" pointer-events=\"stroke\" stroke=\"#000000\" stroke-miterlimit=\"10\"/><path d=\"M 249.12 180 L 256.12 176.5 L 254.37 180 L 256.12 183.5 Z\" fill=\"#000000\" pointer-events=\"all\" stroke=\"#000000\" stroke-miterlimit=\"10\"/><path d=\"M 326.88 180 L 319.88 183.5 L 321.63 180 L 319.88 176.5 Z\" fill=\"#000000\" pointer-events=\"all\" stroke=\"#000000\" stroke-miterlimit=\"10\"/><g transform=\"translate(-0.5 -0.5)\"><switch><foreignObject height=\"100%\" pointer-events=\"none\" requiredFeatures=\"http://www.w3.org/TR/SVG11/feature#Extensibility\" style=\"overflow: visible; text-align: left;\" width=\"100%\"><div style=\"display: flex; align-items: unsafe center; justify-content: unsafe center; width: 1px; height: 1px; padding-top: 182px; margin-left: 289px;\" xmlns=\"http://www.w3.org/1999/xhtml\"><div style=\"box-sizing: border-box; font-size: 0; text-align: center; \"><div style=\"display: inline-block; font-size: 11px; font-family: Courier New; color: #000000; line-height: 1.2; pointer-events: all; background-color: #ffffff; white-space: nowrap; \"><span style=\"font-size: 18px\">Δ</span><i style=\"font-size: 18px\">L</i></div></div></div></foreignObject><text fill=\"#000000\" font-family=\"Courier New\" font-size=\"11px\" text-anchor=\"middle\" x=\"289\" y=\"185\">ΔL</text></switch></g><rect fill=\"none\" height=\"20\" pointer-events=\"all\" stroke=\"none\" width=\"80\" x=\"28\" y=\"130\"/><g transform=\"translate(-0.5 -0.5)\"><switch><foreignObject height=\"100%\" pointer-events=\"none\" requiredFeatures=\"http://www.w3.org/TR/SVG11/feature#Extensibility\" style=\"overflow: visible; text-align: left;\" width=\"100%\"><div style=\"display: flex; align-items: unsafe center; justify-content: unsafe center; width: 1px; height: 1px; padding-top: 140px; margin-left: 68px;\" xmlns=\"http://www.w3.org/1999/xhtml\"><div style=\"box-sizing: border-box; font-size: 0; text-align: center; \"><div style=\"display: inline-block; font-size: 12px; font-family: Courier New; color: #000000; line-height: 1.2; pointer-events: all; white-space: nowrap; \"><font style=\"font-size: 18px\"><i>T </i>+ Δ<i>T</i></font></div></div></div></foreignObject><text fill=\"#000000\" font-family=\"Courier New\" font-size=\"12px\" text-anchor=\"middle\" x=\"68\" y=\"144\">T + ΔT</text></switch></g><rect fill=\"none\" height=\"20\" pointer-events=\"all\" stroke=\"none\" width=\"30\" x=\"53\" y=\"50\"/><g transform=\"translate(-0.5 -0.5)\"><switch><foreignObject height=\"100%\" pointer-events=\"none\" requiredFeatures=\"http://www.w3.org/TR/SVG11/feature#Extensibility\" style=\"overflow: visible; text-align: left;\" width=\"100%\"><div style=\"display: flex; align-items: unsafe center; justify-content: unsafe center; width: 1px; height: 1px; padding-top: 60px; margin-left: 68px;\" xmlns=\"http://www.w3.org/1999/xhtml\"><div style=\"box-sizing: border-box; font-size: 0; text-align: center; \"><div style=\"display: inline-block; font-size: 12px; font-family: Courier New; color: #000000; line-height: 1.2; pointer-events: all; white-space: nowrap; \"><font style=\"font-size: 18px\"><i>T</i></font></div></div></div></foreignObject><text fill=\"#000000\" font-family=\"Courier New\" font-size=\"12px\" text-anchor=\"middle\" x=\"68\" y=\"64\">T</text></switch></g></g><switch><g requiredFeatures=\"http://www.w3.org/TR/SVG11/feature#Extensibility\"/><a target=\"_blank\" transform=\"translate(0,-5)\" xlink:href=\"https://desk.draw.io/support/solutions/articles/16000042487\"><text font-size=\"10px\" text-anchor=\"middle\" x=\"50%\" y=\"100%\">Viewer does not support full SVG 1.1</text></a></switch></svg>"
          },
          "metadata": {
            "tags": []
          }
        }
      ]
    },
    {
      "cell_type": "markdown",
      "metadata": {
        "id": "f8l9B4ZgOmlv"
      },
      "source": [
        "この図を見ながら式を立てると($\\propto$は比例を表します)\n",
        "\\begin{align*}\n",
        "&\\begin{cases}\n",
        "\\Delta L &\\propto L_0\\\\\n",
        "\\Delta L &\\propto \\Delta T\\\\\n",
        "\\end{cases}&\\\\\n",
        "\\Delta L &\\propto L_0\\cdot\\Delta T&\\\\\n",
        "\\Delta L &= \\alpha \\cdot L_0\\cdot\\Delta T&\n",
        "\\end{align*}\n",
        "> $(14.3) \\quad \\Delta L = \\alpha \\cdot L_0\\cdot\\Delta T$\n",
        "\n",
        "$\\alpha$ を **線膨張率** という. 単位は $\\alpha = \\frac{\\Delta L}{L_0 \\Delta T}$ より ${\\rm K^{-1}}$ です.   \n",
        "温度差 $\\Delta T$ に依存するので ${\\rm {}^\\circ C^{-1}}$ とも表記できます."
      ]
    },
    {
      "cell_type": "markdown",
      "metadata": {
        "id": "eykSHrWIRHCd"
      },
      "source": [
        "### 体膨張率 $\\beta$\n",
        "\n",
        "**三**次元の立方体を考慮することで線膨張率と同様の議論が可能で\n",
        "\n",
        "> $(14.5) \\qquad \\Delta V = \\beta\\cdot V_0 \\cdot \\Delta T$\n",
        "\n",
        "ここで $V_0$ は元の体積, $\\Delta V$ は体積の増加分です. また\n",
        ">> $\\quad \\beta = 3 \\alpha$\n",
        "\n",
        "となります."
      ]
    }
  ]
}