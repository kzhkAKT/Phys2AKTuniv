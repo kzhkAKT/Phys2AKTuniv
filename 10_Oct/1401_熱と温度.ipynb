{
  "nbformat": 4,
  "nbformat_minor": 0,
  "metadata": {
    "colab": {
      "name": "1401_熱と温度",
      "provenance": [],
      "authorship_tag": "ABX9TyPD4U3bcAmfbHwah3wD+vnN",
      "include_colab_link": true
    },
    "kernelspec": {
      "name": "python3",
      "display_name": "Python 3"
    }
  },
  "cells": [
    {
      "cell_type": "markdown",
      "metadata": {
        "id": "view-in-github",
        "colab_type": "text"
      },
      "source": [
        "<a href=\"https://colab.research.google.com/github/kzhkAKT/Phys2AKTuniv/blob/draft/10_Oct/1401_%E7%86%B1%E3%81%A8%E6%B8%A9%E5%BA%A6.ipynb\" target=\"_parent\"><img src=\"https://colab.research.google.com/assets/colab-badge.svg\" alt=\"Open In Colab\"/></a>"
      ]
    },
    {
      "cell_type": "markdown",
      "metadata": {
        "id": "kW-bh1KqKoe4",
        "colab_type": "text"
      },
      "source": [
        "# 熱"
      ]
    },
    {
      "cell_type": "markdown",
      "metadata": {
        "id": "b-7QKjA6Ktcq",
        "colab_type": "text"
      },
      "source": [
        "## 熱と温度"
      ]
    },
    {
      "cell_type": "markdown",
      "metadata": {
        "id": "OgavEzeULWCw",
        "colab_type": "text"
      },
      "source": [
        "### 熱平衡と温度"
      ]
    },
    {
      "cell_type": "markdown",
      "metadata": {
        "id": "E3vjZHuaLALv",
        "colab_type": "text"
      },
      "source": [
        "### 相と相転移"
      ]
    },
    {
      "cell_type": "markdown",
      "metadata": {
        "colab_type": "text",
        "id": "lk0APLoCM-99"
      },
      "source": [
        "#### 潜熱\n",
        "latent heat"
      ]
    },
    {
      "cell_type": "markdown",
      "metadata": {
        "id": "sAvBNOfRLEvh",
        "colab_type": "text"
      },
      "source": [
        "### 熱と分子運動, 内部エネルギー"
      ]
    },
    {
      "cell_type": "markdown",
      "metadata": {
        "id": "bkI1_hwELJfz",
        "colab_type": "text"
      },
      "source": [
        "### 熱容量と比熱容量"
      ]
    },
    {
      "cell_type": "markdown",
      "metadata": {
        "id": "KY9kLkkyMzgp",
        "colab_type": "text"
      },
      "source": [
        "#### 顕熱\n",
        "sensible heat"
      ]
    },
    {
      "cell_type": "markdown",
      "metadata": {
        "id": "x-JECkl4MW0n",
        "colab_type": "text"
      },
      "source": [
        "#### 仕事等量 $\\mathcal{J}$"
      ]
    },
    {
      "cell_type": "markdown",
      "metadata": {
        "id": "92uBKw9HLRCi",
        "colab_type": "text"
      },
      "source": [
        "### 熱膨張"
      ]
    }
  ]
}