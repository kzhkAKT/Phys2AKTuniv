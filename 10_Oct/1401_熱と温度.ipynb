{
  "nbformat": 4,
  "nbformat_minor": 0,
  "metadata": {
    "colab": {
      "name": "1401_熱と温度",
      "provenance": [],
      "toc_visible": true,
      "authorship_tag": "ABX9TyPLhv2DMOZElpNfxVa/G63+",
      "include_colab_link": true
    },
    "kernelspec": {
      "name": "python3",
      "display_name": "Python 3"
    }
  },
  "cells": [
    {
      "cell_type": "markdown",
      "metadata": {
        "id": "view-in-github",
        "colab_type": "text"
      },
      "source": [
        "<a href=\"https://colab.research.google.com/github/kzhkAKT/Phys2AKTuniv/blob/draft/10_Oct/1401_%E7%86%B1%E3%81%A8%E6%B8%A9%E5%BA%A6.ipynb\" target=\"_parent\"><img src=\"https://colab.research.google.com/assets/colab-badge.svg\" alt=\"Open In Colab\"/></a>"
      ]
    },
    {
      "cell_type": "markdown",
      "metadata": {
        "id": "kW-bh1KqKoe4"
      },
      "source": [
        "# 熱"
      ]
    },
    {
      "cell_type": "markdown",
      "metadata": {
        "id": "b-7QKjA6Ktcq"
      },
      "source": [
        "## 熱と温度"
      ]
    },
    {
      "cell_type": "markdown",
      "metadata": {
        "id": "OgavEzeULWCw"
      },
      "source": [
        "### 熱平衡と温度"
      ]
    },
    {
      "cell_type": "markdown",
      "metadata": {
        "id": "kQcu5SsYneSe"
      },
      "source": [
        "#### 温度 / Tempearture: $t, T$"
      ]
    },
    {
      "cell_type": "markdown",
      "metadata": {
        "id": "myaHJZiajMrd"
      },
      "source": [
        "![図1　熱の移動と熱平衡](https://i0.wp.com/studyphys.com/wp-content/uploads/2018/11/thermal-equilibrium.png?w=1240&ssl=1)\n",
        "\n",
        "---\n",
        "- [Dr.あゆみの物理教室](https://studyphys.com/conservation-of-heat/)\n"
      ]
    },
    {
      "cell_type": "markdown",
      "metadata": {
        "id": "-tz7Whp7kQBj"
      },
      "source": [
        "#### 熱平衡 / Thermal equilibrium\n",
        "\n",
        "\n",
        "> $\\quad t_{\\rm High} > t > t_{\\rm Low}$\n",
        "\n",
        "\n",
        "\n",
        "![Time-Temperature](http://www.physicsclassroom.com/Class/thermalP/u18l1d5.gif)\n",
        "![https://commons.wikimedia.org/wiki/File:Balance_%C3%A0_tabac_1850.JPG](https://upload.wikimedia.org/wikipedia/commons/thumb/1/17/Balance_%C3%A0_tabac_1850.JPG/256px-Balance_%C3%A0_tabac_1850.JPG)\n",
        "\n",
        "( 左図では $t_{\\rm High} = 70{\\rm\\  {}^\\circ C},\n",
        "t_{\\rm Low} = 5{\\rm\\  {}^\\circ C},\n",
        "t = 30{\\rm\\  {}^\\circ C} $)\n",
        "\n",
        "---\n",
        "[Weighing scale](https://en.wikipedia.org/wiki/Weighing_scale),  [Physics Classroom - Home](https://www.physicsclassroom.com/class/thermalP/Lesson-1/What-is-Heat)"
      ]
    },
    {
      "cell_type": "markdown",
      "metadata": {
        "id": "vBiLv562nqAf"
      },
      "source": [
        "#### 熱力学の第ゼロ法則 / Zeroth law of thermodynamics"
      ]
    },
    {
      "cell_type": "markdown",
      "metadata": {
        "id": "Grl4-G1UqPhg"
      },
      "source": [
        "\\begin{align*}\n",
        "T_{\\rm A} &= T_{\\rm B}&\\\\\n",
        "&& T_{\\rm B}  &= T_{\\rm C}& \\\\\n",
        "\\end{align*}\n",
        "\n",
        "\\begin{align*}\n",
        "T_{\\rm A} &= T_{\\rm C}\n",
        "\\end{align*}\n",
        "\n"
      ]
    },
    {
      "cell_type": "markdown",
      "metadata": {
        "id": "YrGf-8R8rJix"
      },
      "source": [
        "<img src=\"https://cdn.mos.cms.futurecdn.net/g66295pjZdMopJDcqoAjcP-1024-80.jpg.webp\" alt=\"https://www.livescience.com/50833-zeroth-law-thermodynamics.html\" width=\"300\"/>\n",
        "\n",
        "---\n",
        "[livescience](https://www.livescience.com/50833-zeroth-law-thermodynamics.html)"
      ]
    },
    {
      "cell_type": "code",
      "metadata": {
        "id": "KWhrGheppb3h",
        "cellView": "form",
        "outputId": "92fba503-65a8-473b-aba4-de276d4a2c6a",
        "colab": {
          "base_uri": "https://localhost:8080/",
          "height": 336
        }
      },
      "source": [
        "#@title What is the Zeroth Law of Thermodynamics? / The Royal Institution\n",
        "%%html\n",
        "<iframe width=\"560\" height=\"315\" src=\"https://www.youtube-nocookie.com/embed/PE_zpk-EznQ\" frameborder=\"0\" allow=\"accelerometer; autoplay; clipboard-write; encrypted-media; gyroscope; picture-in-picture\" allowfullscreen></iframe>"
      ],
      "execution_count": 3,
      "outputs": [
        {
          "output_type": "display_data",
          "data": {
            "text/html": [
              "<iframe width=\"560\" height=\"315\" src=\"https://www.youtube-nocookie.com/embed/PE_zpk-EznQ\" frameborder=\"0\" allow=\"accelerometer; autoplay; clipboard-write; encrypted-media; gyroscope; picture-in-picture\" allowfullscreen></iframe>"
            ],
            "text/plain": [
              "<IPython.core.display.HTML object>"
            ]
          },
          "metadata": {
            "tags": []
          }
        }
      ]
    },
    {
      "cell_type": "markdown",
      "metadata": {
        "id": "EqTr4g0osbNO"
      },
      "source": [
        "#### 温度の目盛り\n",
        "\n",
        "\n",
        "##### 水の相転移\n",
        "\n",
        "![Breaking Symmetry: Phase Transitions, Massive Excitations, and Gravitational Domains](https://www.researchgate.net/profile/Fikriye_Idil_Kaya/publication/321545557/figure/fig4/AS:568296684650496@1512503896521/Phase-transitions-of-water-Temperature-vs-Time-or-Heat-graph.png)\n",
        "\n",
        "\n",
        "- ice+water: 固体(固相, solid) $\\Longleftrightarrow$ 液体(液相, liquid)\n",
        "  - $\\Rightarrow$:: 融解\n",
        "  - $\\Leftarrow$:: 凝固\n",
        "- water+vapor:: 液体(液相, liquid) $\\Longleftrightarrow$ 気体(気相, gas)\n",
        "  - $\\Rightarrow$: 蒸発\n",
        "  - $\\Leftarrow$: 凝縮\n",
        "\n",
        "---\n",
        "[Breaking Symmetry: Phase Transitions, Massive Excitations, and Gravitational Domains](https://www.researchgate.net/publication/321545557_Breaking_Symmetry_Phase_Transitions_Massive_Excitations_and_Gravitational_Domains)"
      ]
    },
    {
      "cell_type": "markdown",
      "metadata": {
        "id": "3UuMWQIE3zDL"
      },
      "source": [
        "##### セルシウス温度, 摂氏温度 / Celsius temperature, $t$: ${}^\\circ {\\rm C}$\n",
        "\n",
        "- 1 気圧\n",
        "- 水の氷点 := $0 {}^\\circ {\\rm C}$\n",
        "- 水の沸点 := $100 {}^\\circ {\\rm C}$\n",
        "\n",
        "\n",
        "##### 絶対温度, 摂氏温度 / absolute temperature, $T$: ${\\rm K}$\n",
        "\n",
        "- ボイル-シャルルの法則を利用  \n",
        "  理想気体の体積(Volume, $V$)と温度(temperature, $T$)の関係を利用. 後述\n",
        "\n"
      ]
    },
    {
      "cell_type": "markdown",
      "metadata": {
        "id": "lk0APLoCM-99"
      },
      "source": [
        "#### 転移熱, Heat of Transformation\n",
        "\n",
        "- 相転移に伴う熱の出入り:= *転移熱*, **一次相転移**\n",
        "  - ice $\\rightarrow$ water:: 融解熱\n",
        "    - water $\\rightarrow$ ice:: 凝固熱\n",
        "\n",
        "  - water $\\rightarrow$ vapor:: 蒸発熱\n",
        "    - vaport $\\rightarrow$ water:: 凝縮熱\n",
        "\n",
        "  - 融解熱, 凝固熱: 分子間力に打ち勝って(完全に)自由になるために必要なエネルギー\n",
        "\n",
        "- 潜熱, _latent heat_\n",
        "  - 転移熱の別称\n",
        "  - 区間 ice+water, water+vapor に潜む熱\n"
      ]
    },
    {
      "cell_type": "markdown",
      "metadata": {
        "id": "E3vjZHuaLALv"
      },
      "source": [
        "### 相と相転移"
      ]
    },
    {
      "cell_type": "markdown",
      "metadata": {
        "id": "r4ICTYAuBWDJ"
      },
      "source": [
        "![https://ja.wikipedia.org/wiki/%E7%89%A9%E8%B3%AA%E3%81%AE%E7%8A%B6%E6%85%8B](https://upload.wikimedia.org/wikipedia/commons/thumb/d/db/Phase_change_-_ja.svg/500px-Phase_change_-_ja.svg.png)\n",
        "\n",
        "![https://en.wikipedia.org/wiki/State_of_matter](https://upload.wikimedia.org/wikipedia/commons/thumb/8/8f/Physics_matter_state_transition_1_en.svg/1000px-Physics_matter_state_transition_1_en.svg.png)\n",
        "\n",
        "---\n",
        "[物質の状態](https://ja.wikipedia.org/wiki/%E7%89%A9%E8%B3%AA%E3%81%AE%E7%8A%B6%E6%85%8B), [State of matter](https://en.wikipedia.org/wiki/State_of_matte)"
      ]
    },
    {
      "cell_type": "markdown",
      "metadata": {
        "id": "MCHVs1zUCwcN"
      },
      "source": [
        "### $p-T$ 曲線, $p$:圧力, $T$:温度\n",
        "\n",
        "相図, phase diagram"
      ]
    },
    {
      "cell_type": "markdown",
      "metadata": {
        "id": "2Q72Wi22FJok"
      },
      "source": [
        "#### 一般的な相図\n",
        "\n",
        "- 三重点\n",
        "- 臨界点\n",
        "\n",
        "![https://en.wikipedia.org/wiki/Phase_diagram](https://upload.wikimedia.org/wikipedia/commons/thumb/3/34/Phase-diag2.svg/500px-Phase-diag2.svg.png)\n",
        "\n",
        "---\n",
        "[Phase diagram](https://en.wikipedia.org/wiki/Phase_diagram)\n"
      ]
    },
    {
      "cell_type": "markdown",
      "metadata": {
        "id": "HdIe1JLHEG_W"
      },
      "source": [
        "##### 水の相図\n",
        "\n",
        "![Properties of water](https://upload.wikimedia.org/wikipedia/commons/thumb/3/33/Phase_diagram_of_water_simplified.svg/500px-Phase_diagram_of_water_simplified.svg.png)\n",
        "\n",
        "- 水は 約4℃ で体積が極大になるため, SL曲線に特徴(傾き負)が出る\n",
        "\n",
        "---\n",
        "[Properties of water](https://en.wikipedia.org/wiki/Properties_of_water#Density_of_water_and_ice), [Triple point](https://en.wikipedia.org/wiki/Triple_point), [Water Phase Diagram](http://www1.lsbu.ac.uk/water/water_phase_diagram.html)\n"
      ]
    },
    {
      "cell_type": "markdown",
      "metadata": {
        "id": "RhipEDLiE5L3"
      },
      "source": [
        "#### 二酸化炭素の相図"
      ]
    },
    {
      "cell_type": "markdown",
      "metadata": {
        "id": "sAvBNOfRLEvh"
      },
      "source": [
        "### 熱と分子運動, 内部エネルギー"
      ]
    },
    {
      "cell_type": "markdown",
      "metadata": {
        "id": "bkI1_hwELJfz"
      },
      "source": [
        "### 熱容量と比熱容量"
      ]
    },
    {
      "cell_type": "markdown",
      "metadata": {
        "id": "KY9kLkkyMzgp"
      },
      "source": [
        "#### 顕熱\n",
        "sensible heat"
      ]
    },
    {
      "cell_type": "markdown",
      "metadata": {
        "id": "x-JECkl4MW0n"
      },
      "source": [
        "#### 仕事等量 $\\mathcal{J}$"
      ]
    },
    {
      "cell_type": "markdown",
      "metadata": {
        "id": "92uBKw9HLRCi"
      },
      "source": [
        "### 熱膨張"
      ]
    }
  ]
}