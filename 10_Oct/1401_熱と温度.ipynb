{
  "nbformat": 4,
  "nbformat_minor": 0,
  "metadata": {
    "colab": {
      "name": "1401_熱と温度",
      "provenance": [],
      "toc_visible": true,
      "authorship_tag": "ABX9TyMMIpN1c8mh6pSIZLduCuaJ",
      "include_colab_link": true
    },
    "kernelspec": {
      "name": "python3",
      "display_name": "Python 3"
    }
  },
  "cells": [
    {
      "cell_type": "markdown",
      "metadata": {
        "id": "view-in-github",
        "colab_type": "text"
      },
      "source": [
        "<a href=\"https://colab.research.google.com/github/kzhkAKT/Phys2AKTuniv/blob/draft/10_Oct/1401_%E7%86%B1%E3%81%A8%E6%B8%A9%E5%BA%A6.ipynb\" target=\"_parent\"><img src=\"https://colab.research.google.com/assets/colab-badge.svg\" alt=\"Open In Colab\"/></a>"
      ]
    },
    {
      "cell_type": "markdown",
      "metadata": {
        "id": "kW-bh1KqKoe4"
      },
      "source": [
        "# 熱"
      ]
    },
    {
      "cell_type": "markdown",
      "metadata": {
        "id": "b-7QKjA6Ktcq"
      },
      "source": [
        "## 熱と温度"
      ]
    },
    {
      "cell_type": "markdown",
      "metadata": {
        "id": "OgavEzeULWCw"
      },
      "source": [
        "### 熱平衡と温度"
      ]
    },
    {
      "cell_type": "markdown",
      "metadata": {
        "id": "kQcu5SsYneSe"
      },
      "source": [
        "#### 温度 / Tempearture: $t, T$"
      ]
    },
    {
      "cell_type": "markdown",
      "metadata": {
        "id": "myaHJZiajMrd"
      },
      "source": [
        "![図1　熱の移動と熱平衡](https://i0.wp.com/studyphys.com/wp-content/uploads/2018/11/thermal-equilibrium.png?w=1240&ssl=1)\n",
        "\n",
        "---\n",
        "- [Dr.あゆみの物理教室](https://studyphys.com/conservation-of-heat/)\n"
      ]
    },
    {
      "cell_type": "markdown",
      "metadata": {
        "id": "-tz7Whp7kQBj"
      },
      "source": [
        "#### 熱平衡 / Thermal equilibrium\n",
        "\n",
        "\n",
        "> $\\quad t_{\\rm High} > t > t_{\\rm Low}$\n",
        "\n",
        "\n",
        "\n",
        "![Time-Temperature](http://www.physicsclassroom.com/Class/thermalP/u18l1d5.gif)\n",
        "![https://commons.wikimedia.org/wiki/File:Balance_%C3%A0_tabac_1850.JPG](https://upload.wikimedia.org/wikipedia/commons/thumb/1/17/Balance_%C3%A0_tabac_1850.JPG/256px-Balance_%C3%A0_tabac_1850.JPG)\n",
        "\n",
        "( 左図では $t_{\\rm High} = 70{\\rm\\  {}^\\circ C},\n",
        "t_{\\rm Low} = 5{\\rm\\  {}^\\circ C},\n",
        "t = 30{\\rm\\  {}^\\circ C} $)\n",
        "\n",
        "---\n",
        "[Weighing scale](https://en.wikipedia.org/wiki/Weighing_scale),  [Physics Classroom - Home](https://www.physicsclassroom.com/class/thermalP/Lesson-1/What-is-Heat)"
      ]
    },
    {
      "cell_type": "markdown",
      "metadata": {
        "id": "vBiLv562nqAf"
      },
      "source": [
        "#### 熱力学の第ゼロ法則 / Zeroth law of thermodynamics"
      ]
    },
    {
      "cell_type": "markdown",
      "metadata": {
        "id": "Grl4-G1UqPhg"
      },
      "source": [
        "\\begin{align*}\n",
        "T_{\\rm A} &= T_{\\rm B}&\\\\\n",
        "&& T_{\\rm B}  &= T_{\\rm C}& \\\\\n",
        "\\end{align*}\n",
        "\n",
        "\\begin{align*}\n",
        "T_{\\rm A} &= T_{\\rm C}\n",
        "\\end{align*}\n",
        "\n"
      ]
    },
    {
      "cell_type": "markdown",
      "metadata": {
        "id": "YrGf-8R8rJix"
      },
      "source": [
        "<img src=\"https://cdn.mos.cms.futurecdn.net/g66295pjZdMopJDcqoAjcP-1024-80.jpg.webp\" alt=\"https://www.livescience.com/50833-zeroth-law-thermodynamics.html\" width=\"300\"/>\n",
        "\n",
        "---\n",
        "[livescience](https://www.livescience.com/50833-zeroth-law-thermodynamics.html)"
      ]
    },
    {
      "cell_type": "code",
      "metadata": {
        "id": "KWhrGheppb3h",
        "cellView": "form",
        "outputId": "92fba503-65a8-473b-aba4-de276d4a2c6a",
        "colab": {
          "base_uri": "https://localhost:8080/",
          "height": 336
        }
      },
      "source": [
        "#@title What is the Zeroth Law of Thermodynamics? / The Royal Institution\n",
        "%%html\n",
        "<iframe width=\"560\" height=\"315\" src=\"https://www.youtube-nocookie.com/embed/PE_zpk-EznQ\" frameborder=\"0\" allow=\"accelerometer; autoplay; clipboard-write; encrypted-media; gyroscope; picture-in-picture\" allowfullscreen></iframe>"
      ],
      "execution_count": 3,
      "outputs": [
        {
          "output_type": "display_data",
          "data": {
            "text/html": [
              "<iframe width=\"560\" height=\"315\" src=\"https://www.youtube-nocookie.com/embed/PE_zpk-EznQ\" frameborder=\"0\" allow=\"accelerometer; autoplay; clipboard-write; encrypted-media; gyroscope; picture-in-picture\" allowfullscreen></iframe>"
            ],
            "text/plain": [
              "<IPython.core.display.HTML object>"
            ]
          },
          "metadata": {
            "tags": []
          }
        }
      ]
    },
    {
      "cell_type": "markdown",
      "metadata": {
        "id": "T5NlTpt7RAed"
      },
      "source": [
        "#### 温度の目盛り\n"
      ]
    },
    {
      "cell_type": "markdown",
      "metadata": {
        "id": "EBYLOijXRBRF"
      },
      "source": [
        "##### 水の相転移"
      ]
    },
    {
      "cell_type": "code",
      "metadata": {
        "id": "KhFv_Lu6Q7xj",
        "cellView": "form",
        "outputId": "1bfd57c1-a7dd-430b-853d-58aff2e5e9be",
        "colab": {
          "base_uri": "https://localhost:8080/",
          "height": 336
        }
      },
      "source": [
        "#@title 氷(ice)から水蒸気(vapor)へ\n",
        "%%html\n",
        "<iframe width=\"560\" height=\"315\" src=\"https://www.youtube-nocookie.com/embed/-w1Vnkt7J5M\" frameborder=\"0\" allow=\"accelerometer; autoplay; clipboard-write; encrypted-media; gyroscope; picture-in-picture\" allowfullscreen></iframe>"
      ],
      "execution_count": 18,
      "outputs": [
        {
          "output_type": "display_data",
          "data": {
            "text/html": [
              "<iframe width=\"560\" height=\"315\" src=\"https://www.youtube-nocookie.com/embed/-w1Vnkt7J5M\" frameborder=\"0\" allow=\"accelerometer; autoplay; clipboard-write; encrypted-media; gyroscope; picture-in-picture\" allowfullscreen></iframe>"
            ],
            "text/plain": [
              "<IPython.core.display.HTML object>"
            ]
          },
          "metadata": {
            "tags": []
          }
        }
      ]
    },
    {
      "cell_type": "code",
      "metadata": {
        "id": "cdxOgNjVR7GA",
        "cellView": "form",
        "outputId": "93ac30a6-1018-4e05-cc43-1f083a5e86f5",
        "colab": {
          "base_uri": "https://localhost:8080/",
          "height": 336
        }
      },
      "source": [
        "#@title 氷の相転移の温度変化測定\n",
        "%%html\n",
        "<iframe width=\"560\" height=\"315\" src=\"https://www.youtube-nocookie.com/embed/cutEBwkffc4?start=97\" frameborder=\"0\" allow=\"accelerometer; autoplay; clipboard-write; encrypted-media; gyroscope; picture-in-picture\" allowfullscreen></iframe>"
      ],
      "execution_count": 17,
      "outputs": [
        {
          "output_type": "display_data",
          "data": {
            "text/html": [
              "<iframe width=\"560\" height=\"315\" src=\"https://www.youtube-nocookie.com/embed/cutEBwkffc4?start=97\" frameborder=\"0\" allow=\"accelerometer; autoplay; clipboard-write; encrypted-media; gyroscope; picture-in-picture\" allowfullscreen></iframe>"
            ],
            "text/plain": [
              "<IPython.core.display.HTML object>"
            ]
          },
          "metadata": {
            "tags": []
          }
        }
      ]
    },
    {
      "cell_type": "markdown",
      "metadata": {
        "id": "EqTr4g0osbNO"
      },
      "source": [
        "\n",
        "![Breaking Symmetry: Phase Transitions, Massive Excitations, and Gravitational Domains](https://www.researchgate.net/profile/Fikriye_Idil_Kaya/publication/321545557/figure/fig4/AS:568296684650496@1512503896521/Phase-transitions-of-water-Temperature-vs-Time-or-Heat-graph.png)\n",
        "\n",
        "\n",
        "- ice+water: 固体(固相, solid) $\\Longleftrightarrow$ 液体(液相, liquid)\n",
        "  - $\\Rightarrow$:: 融解\n",
        "  - $\\Leftarrow$:: 凝固\n",
        "- water+vapor:: 液体(液相, liquid) $\\Longleftrightarrow$ 気体(気相, gas)\n",
        "  - $\\Rightarrow$: 蒸発\n",
        "  - $\\Leftarrow$: 凝縮\n",
        "\n",
        "---\n",
        "[Breaking Symmetry: Phase Transitions, Massive Excitations, and Gravitational Domains](https://www.researchgate.net/publication/321545557_Breaking_Symmetry_Phase_Transitions_Massive_Excitations_and_Gravitational_Domains)"
      ]
    },
    {
      "cell_type": "markdown",
      "metadata": {
        "id": "3UuMWQIE3zDL"
      },
      "source": [
        "##### セルシウス温度, 摂氏温度 / Celsius temperature, $t$: ${}^\\circ {\\rm C}$\n",
        "\n",
        "- 1 気圧\n",
        "- 水の氷点 := $0 {}^\\circ {\\rm C}$\n",
        "- 水の沸点 := $100 {}^\\circ {\\rm C}$\n",
        "\n",
        "\n",
        "##### 絶対温度, 摂氏温度 / absolute temperature, $T$: ${\\rm K}$\n",
        "\n",
        "- ボイル-シャルルの法則を利用  \n",
        "  理想気体の体積(Volume, $V$)と温度(temperature, $T$)の関係を利用. 後述\n",
        "\n"
      ]
    },
    {
      "cell_type": "markdown",
      "metadata": {
        "id": "lk0APLoCM-99"
      },
      "source": [
        "#### 転移熱, Heat of Transformation\n",
        "\n",
        "- 相転移に伴う熱の出入り:= *転移熱*, **一次相転移**\n",
        "  - ice $\\rightarrow$ water:: 融解熱\n",
        "    - water $\\rightarrow$ ice:: 凝固熱\n",
        "\n",
        "  - water $\\rightarrow$ vapor:: 蒸発熱\n",
        "    - vaport $\\rightarrow$ water:: 凝縮熱\n",
        "\n",
        "  - 融解熱, 凝固熱: 分子間力に打ち勝って(完全に)自由になるために必要なエネルギー"
      ]
    },
    {
      "cell_type": "markdown",
      "metadata": {
        "id": "qkK3ixVsX8Sg"
      },
      "source": [
        "##### 潜熱, _latent heat_\n",
        "  - 転移熱の別称\n",
        "  - 区間 ice+water, water+vapor に潜む熱\n"
      ]
    },
    {
      "cell_type": "markdown",
      "metadata": {
        "id": "chhW-k4wYKbi"
      },
      "source": [
        "##### 顕熱, sensible heeat\n",
        "- 熱(heat) を受けた分だけ, 温度(Temperature) が変化している熱(区間)"
      ]
    },
    {
      "cell_type": "markdown",
      "metadata": {
        "id": "E3vjZHuaLALv"
      },
      "source": [
        "### 相と相転移"
      ]
    },
    {
      "cell_type": "markdown",
      "metadata": {
        "id": "r4ICTYAuBWDJ"
      },
      "source": [
        "![https://ja.wikipedia.org/wiki/%E7%89%A9%E8%B3%AA%E3%81%AE%E7%8A%B6%E6%85%8B](https://upload.wikimedia.org/wikipedia/commons/thumb/d/db/Phase_change_-_ja.svg/500px-Phase_change_-_ja.svg.png)\n",
        "\n",
        "![https://en.wikipedia.org/wiki/State_of_matter](https://upload.wikimedia.org/wikipedia/commons/thumb/8/8f/Physics_matter_state_transition_1_en.svg/1000px-Physics_matter_state_transition_1_en.svg.png)\n",
        "\n",
        "---\n",
        "[物質の状態](https://ja.wikipedia.org/wiki/%E7%89%A9%E8%B3%AA%E3%81%AE%E7%8A%B6%E6%85%8B), [State of matter](https://en.wikipedia.org/wiki/State_of_matte)"
      ]
    },
    {
      "cell_type": "markdown",
      "metadata": {
        "id": "MCHVs1zUCwcN"
      },
      "source": [
        "### 相図, phase diagram\n",
        "\n",
        "$p-T$ 曲線, $p$:圧力, $T$:温度"
      ]
    },
    {
      "cell_type": "markdown",
      "metadata": {
        "id": "2Q72Wi22FJok"
      },
      "source": [
        "#### 一般的な相図\n",
        "\n",
        "- 三重点\n",
        "- 臨界点\n",
        "\n",
        "![https://en.wikipedia.org/wiki/Phase_diagram](https://upload.wikimedia.org/wikipedia/commons/thumb/3/34/Phase-diag2.svg/500px-Phase-diag2.svg.png)\n",
        "\n",
        "---\n",
        "[Phase diagram](https://en.wikipedia.org/wiki/Phase_diagram)\n"
      ]
    },
    {
      "cell_type": "markdown",
      "metadata": {
        "id": "QQOhO_2MHl_4"
      },
      "source": [
        "#### 二酸化炭素の相図\n",
        "![](https://upload.wikimedia.org/wikipedia/commons/thumb/1/13/Carbon_dioxide_pressure-temperature_phase_diagram.svg/500px-Carbon_dioxide_pressure-temperature_phase_diagram.svg.png)\n",
        "\n",
        "---\n",
        "[Carbon dioxide](https://en.wikipedia.org/wiki/Carbon_dioxide)"
      ]
    },
    {
      "cell_type": "markdown",
      "metadata": {
        "id": "HdIe1JLHEG_W"
      },
      "source": [
        "#### 水の相図\n",
        "\n",
        "![Properties of water](https://upload.wikimedia.org/wikipedia/commons/thumb/3/33/Phase_diagram_of_water_simplified.svg/500px-Phase_diagram_of_water_simplified.svg.png)\n",
        "\n",
        "- 水は 約4℃ で体積が極大になるため, SL曲線に特徴(傾き負)が出る\n",
        "\n",
        "---\n",
        "[Properties of water](https://en.wikipedia.org/wiki/Properties_of_water#Density_of_water_and_ice), [Triple point](https://en.wikipedia.org/wiki/Triple_point), [Water Phase Diagram](http://www1.lsbu.ac.uk/water/water_phase_diagram.html)\n"
      ]
    },
    {
      "cell_type": "markdown",
      "metadata": {
        "id": "sAvBNOfRLEvh"
      },
      "source": [
        "### 熱と分子運動, 内部エネルギー"
      ]
    },
    {
      "cell_type": "markdown",
      "metadata": {
        "id": "AlRuKghCKGBo"
      },
      "source": [
        "#### 熱と分子運動"
      ]
    },
    {
      "cell_type": "code",
      "metadata": {
        "id": "5NkiG4K-IZ7j",
        "cellView": "form",
        "outputId": "89a7eaff-40e8-45c3-8832-87173ac9ec02",
        "colab": {
          "base_uri": "https://localhost:8080/",
          "height": 625
        }
      },
      "source": [
        "#@title 熱運動の基本\n",
        "%%html\n",
        "<iframe src=\"https://phet.colorado.edu/sims/html/states-of-matter-basics/latest/states-of-matter-basics_en.html\" width=\"800\" height=\"600\" scrolling=\"no\" allowfullscreen></iframe>"
      ],
      "execution_count": 5,
      "outputs": [
        {
          "output_type": "display_data",
          "data": {
            "text/html": [
              "<iframe src=\"https://phet.colorado.edu/sims/html/states-of-matter-basics/latest/states-of-matter-basics_en.html\" width=\"800\" height=\"600\" scrolling=\"no\" allowfullscreen></iframe>"
            ],
            "text/plain": [
              "<IPython.core.display.HTML object>"
            ]
          },
          "metadata": {
            "tags": []
          }
        }
      ]
    },
    {
      "cell_type": "code",
      "metadata": {
        "id": "oneCy4t_JAFD",
        "cellView": "form",
        "outputId": "def03733-0f8c-4a58-c3c1-02cca3b69cad",
        "colab": {
          "base_uri": "https://localhost:8080/",
          "height": 625
        }
      },
      "source": [
        "#@title 熱運動(P,V,T)\n",
        "%%html\n",
        "<iframe src=\"https://phet.colorado.edu/sims/html/states-of-matter/latest/states-of-matter_en.html\" width=\"800\" height=\"600\" scrolling=\"no\" allowfullscreen></iframe>"
      ],
      "execution_count": 8,
      "outputs": [
        {
          "output_type": "display_data",
          "data": {
            "text/html": [
              "<iframe src=\"https://phet.colorado.edu/sims/html/states-of-matter/latest/states-of-matter_en.html\" width=\"800\" height=\"600\" scrolling=\"no\" allowfullscreen></iframe>"
            ],
            "text/plain": [
              "<IPython.core.display.HTML object>"
            ]
          },
          "metadata": {
            "tags": []
          }
        }
      ]
    },
    {
      "cell_type": "markdown",
      "metadata": {
        "id": "sv_tJoNFKPnm"
      },
      "source": [
        "#### 内部エネルギー, Internal energy, $U$: ${\\rm J}$"
      ]
    },
    {
      "cell_type": "markdown",
      "metadata": {
        "id": "UHlXyAtZKi1g"
      },
      "source": [
        "> 分子一個の力学的エネルギー** = 分子一個の_運動エネルギー_ + 他の分子や環境による _位置エネルギー_\n",
        "\n",
        ">> **分子一個の全エネルギー** = 分子一つの _運動エネルギー_ + (相互作用による) _ポテンシャルエネルギー_\n",
        "\n",
        "\\begin{align*}\n",
        "\\varepsilon_i  &=  k_i + u_{ij}&\n",
        "\\end{align*}\n",
        "\n",
        "**内部エネルギー**:: $\\varepsilon_i$ 注目する物質全体個数だけ足し合わせたもの\n",
        "\n",
        "\\begin{align*}\n",
        "U &= \\sum \\varepsilon_i  = \\sum_{i}  k_i + \\sum_{i,j(\\neq i)}   u_{ij}&\n",
        "\\end{align*}\n",
        "\n",
        "ここでは, 物質一つ一つに注目しているので、物体全体の運動(容器の落下や回転)は考えていません"
      ]
    },
    {
      "cell_type": "code",
      "metadata": {
        "id": "OkaGV387NNAi",
        "cellView": "form",
        "outputId": "0bda2467-3ae0-420a-877f-94b83d2d592d",
        "colab": {
          "base_uri": "https://localhost:8080/",
          "height": 625
        }
      },
      "source": [
        "#@title 熱: エネルギーの移動形態\n",
        "%%html\n",
        "<iframe src=\"https://phet.colorado.edu/sims/html/energy-forms-and-changes/latest/energy-forms-and-changes_en.html\" width=\"800\" height=\"600\" scrolling=\"no\" allowfullscreen></iframe>"
      ],
      "execution_count": 10,
      "outputs": [
        {
          "output_type": "display_data",
          "data": {
            "text/html": [
              "<iframe src=\"https://phet.colorado.edu/sims/html/energy-forms-and-changes/latest/energy-forms-and-changes_en.html\" width=\"800\" height=\"600\" scrolling=\"no\" allowfullscreen></iframe>"
            ],
            "text/plain": [
              "<IPython.core.display.HTML object>"
            ]
          },
          "metadata": {
            "tags": []
          }
        }
      ]
    },
    {
      "cell_type": "markdown",
      "metadata": {
        "id": "bkI1_hwELJfz"
      },
      "source": [
        "### 熱容量と比熱容量\n",
        "\n",
        "熱量: エネルギーの移動形態, $Q$"
      ]
    },
    {
      "cell_type": "markdown",
      "metadata": {
        "id": "ex5g0DBmODt6"
      },
      "source": [
        "#### 熱量の実用単位, calorie: ${\\rm cal}$\n",
        "\n",
        "> 定義: ${\\rm 1 g}$ の水を 温度 ${\\rm 1 {}^\\circ C}$ 上げるために必要な熱量\n",
        "\n"
      ]
    },
    {
      "cell_type": "markdown",
      "metadata": {
        "id": "aMkDM8fdPbLQ"
      },
      "source": [
        "#### 熱量の(国際)単位, Joule: ${\\rm J}$\n",
        "\n",
        "> ${\\rm J}$ はエネルギーまたは仕事の単位"
      ]
    },
    {
      "cell_type": "markdown",
      "metadata": {
        "id": "x-JECkl4MW0n"
      },
      "source": [
        "#### 仕事等量 $\\mathcal{J}$\n",
        "\n",
        "冬場、両掌を擦ることで、手が暖かくなる事を思い出しください。\n",
        "1. 両掌には接する事で, 摩擦力が働きます\n",
        "2. 手を動かすことによって, 変位が生じます\n",
        "3. 物理では, 仕事は力と変位で定義されています\n",
        "\n",
        "> Q. この動きで、私たちの掌はどうなりますか?\n",
        "\n",
        "このような簡単な考察から, 仕事が熱量に変換されたことが分かります."
      ]
    },
    {
      "cell_type": "code",
      "metadata": {
        "id": "XKzG3W61QC1l",
        "cellView": "form",
        "outputId": "1a57f4c3-7676-4cf9-e2b4-846674be6da0",
        "colab": {
          "base_uri": "https://localhost:8080/",
          "height": 336
        }
      },
      "source": [
        "#@title 仕事と熱の関係\n",
        "%%html\n",
        "<iframe width=\"560\" height=\"315\" src=\"https://www.youtube-nocookie.com/embed/ZbZjo7zhWFk\" frameborder=\"0\" allow=\"accelerometer; autoplay; clipboard-write; encrypted-media; gyroscope; picture-in-picture\" allowfullscreen></iframe>"
      ],
      "execution_count": null,
      "outputs": [
        {
          "output_type": "display_data",
          "data": {
            "text/html": [
              "<iframe width=\"560\" height=\"315\" src=\"https://www.youtube-nocookie.com/embed/ZbZjo7zhWFk\" frameborder=\"0\" allow=\"accelerometer; autoplay; clipboard-write; encrypted-media; gyroscope; picture-in-picture\" allowfullscreen></iframe>"
            ],
            "text/plain": [
              "<IPython.core.display.HTML object>"
            ]
          },
          "metadata": {
            "tags": []
          }
        }
      ]
    },
    {
      "cell_type": "code",
      "metadata": {
        "id": "G--uoKyzQD3P",
        "cellView": "form",
        "outputId": "20108986-58fc-458c-8071-6352721c0f99",
        "colab": {
          "base_uri": "https://localhost:8080/",
          "height": 336
        }
      },
      "source": [
        "#@title 仕事等量の測定: 英国人ジュールが用いた手法\n",
        "%%html\n",
        "<iframe width=\"560\" height=\"315\" src=\"https://www.youtube-nocookie.com/embed/MBrTDKc9YZ0\" frameborder=\"0\" allow=\"accelerometer; autoplay; clipboard-write; encrypted-media; gyroscope; picture-in-picture\" allowfullscreen></iframe>"
      ],
      "execution_count": null,
      "outputs": [
        {
          "output_type": "display_data",
          "data": {
            "text/html": [
              "<iframe width=\"560\" height=\"315\" src=\"https://www.youtube-nocookie.com/embed/MBrTDKc9YZ0\" frameborder=\"0\" allow=\"accelerometer; autoplay; clipboard-write; encrypted-media; gyroscope; picture-in-picture\" allowfullscreen></iframe>"
            ],
            "text/plain": [
              "<IPython.core.display.HTML object>"
            ]
          },
          "metadata": {
            "tags": []
          }
        }
      ]
    },
    {
      "cell_type": "markdown",
      "metadata": {
        "id": "FCUZ202HTf3G"
      },
      "source": [
        "仕事 $W$, 熱量 $Q$ とすると\n",
        "\\begin{align*}\n",
        "W = \\mathcal{J} \\cdot Q\n",
        "\\end{align*}\n",
        "と表現されます.\n",
        "\n",
        "ここで, $\\mathcal{J}$ は **熱の仕事等量**, Mechanical equivalent of heat, とよばれ, 実験から\n",
        "\\begin{align*}\n",
        "\\mathcal{J}\n",
        "&= 4.18065 {\\rm\\ J /cal } &\\\\\n",
        "&= \\dfrac{4.18065 {\\rm\\ J }}{\\rm 1 \\ cal}\n",
        "\\end{align*}\n",
        "であることがわかっています.\n",
        "\n",
        "---\n",
        "\n",
        "[Calorie](https://en.wikipedia.org/wiki/Calorie), https://doi.org/10.1351/pac196408020095 "
      ]
    },
    {
      "cell_type": "markdown",
      "metadata": {
        "id": "GvY06JTqV8NW"
      },
      "source": [
        "#### 熱容量, Heat capacity $C$: ${\\rm J/K}$"
      ]
    },
    {
      "cell_type": "markdown",
      "metadata": {
        "id": "KY9kLkkyMzgp"
      },
      "source": [
        "> Q. 熱($\\Delta Q$)を加えた分だけ, 物体の温度変化($\\Delta T$)する熱の区間の名称を思い出してください.\n",
        "\n",
        "熱($\\Delta Q$)の出入りによって, 物体が異なれば(水,油,金属等)の温度変化($\\Delta T$)は異なります.  \n",
        "\n",
        "そこで物体ごとの **熱容量** $C$ を次のように定義します.\n",
        "\n",
        "\\begin{align*}\n",
        "C &= \\dfrac{\\Delta Q}{\\Delta T}\n",
        "\\end{align*}\n",
        "\n",
        "これを文章で表現すれば, 熱容量 $C$ は\n",
        "\n",
        "> 物体の温度 1℃ 上げるのに必要な熱量\n",
        "\n",
        "となります. 単位は\n",
        "- 国際単位系: ${\\rm J/K, \\ J/{}^\\circ C}$\n",
        "- 生活単位: ${\\rm cal/K, \\ cal/{}^\\circ C}$\n",
        "\n"
      ]
    },
    {
      "cell_type": "markdown",
      "metadata": {
        "id": "VuOqSBIiZ5Bo"
      },
      "source": [
        "#### 比熱容量, 比熱 $c$ : ${\\rm J/g.K}$"
      ]
    },
    {
      "cell_type": "markdown",
      "metadata": {
        "id": "-EPx5hZmaqtM"
      },
      "source": [
        "物体の質量によって, 内部エネルギーを担当する分子の数が増えるため, 熱容量 $C$ は\n",
        "質量に比例します. \n",
        "\n",
        "注目する物質の質量を $m$ g とすると, 単位グラムあたりの熱容量 $c$ は\n",
        "\\begin{align*}\n",
        "c &= \\dfrac{C}{m} &\\\\\n",
        "&= \\dfrac{1}{m} \\dfrac{\\Delta Q}{\\Delta T}&\n",
        "\\end{align*}\n",
        "となります. この $c$ を **比熱容量**(比熱)と言います\n",
        "\n",
        "物体は, 体積$(V)$や圧力$(p)$によって状態が変わりますそこで\n",
        "- 物体の圧力一定 $(\\Delta p=0)$の元での比熱容量 $c$ を, 定圧比熱容量 $c_p$\n",
        "- 物体の体積一定 $(\\Delta V=0)$の元での比熱容量 $c$ を, 定積比熱容量 $c_V$"
      ]
    },
    {
      "cell_type": "markdown",
      "metadata": {
        "id": "SCIu7L1Zcq2x"
      },
      "source": [
        "### モル熱容量"
      ]
    },
    {
      "cell_type": "markdown",
      "metadata": {
        "id": "92uBKw9HLRCi"
      },
      "source": [
        "### 熱膨張"
      ]
    }
  ]
}