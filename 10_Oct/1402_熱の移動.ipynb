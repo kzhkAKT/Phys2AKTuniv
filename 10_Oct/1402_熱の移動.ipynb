{
  "nbformat": 4,
  "nbformat_minor": 0,
  "metadata": {
    "colab": {
      "name": "1402_熱の移動.ipynb",
      "provenance": [],
      "toc_visible": true,
      "authorship_tag": "ABX9TyOQRkaXJWh/8f5Je5+7S1kO",
      "include_colab_link": true
    },
    "kernelspec": {
      "name": "python3",
      "display_name": "Python 3"
    }
  },
  "cells": [
    {
      "cell_type": "markdown",
      "metadata": {
        "id": "view-in-github",
        "colab_type": "text"
      },
      "source": [
        "<a href=\"https://colab.research.google.com/github/kzhkAKT/Phys2AKTuniv/blob/draft/10_Oct/1402_%E7%86%B1%E3%81%AE%E7%A7%BB%E5%8B%95.ipynb\" target=\"_parent\"><img src=\"https://colab.research.google.com/assets/colab-badge.svg\" alt=\"Open In Colab\"/></a>"
      ]
    },
    {
      "cell_type": "markdown",
      "metadata": {
        "id": "2B_yZQM-OJp3"
      },
      "source": [
        "# 熱"
      ]
    },
    {
      "cell_type": "markdown",
      "metadata": {
        "id": "mTgJYFsCOL8Z"
      },
      "source": [
        "## 熱の移動"
      ]
    },
    {
      "cell_type": "markdown",
      "metadata": {
        "id": "VtY1ZwyiONob"
      },
      "source": [
        "### 熱伝導"
      ]
    },
    {
      "cell_type": "markdown",
      "metadata": {
        "id": "ZdgQ2C_eGHKV"
      },
      "source": [
        "thermal conduction\n",
        "\n",
        "<!--\n",
        "DOI:10.1119/1.16358\n",
        "\n",
        "https://en.wikipedia.org/wiki/Heat_transfer_coefficient\n",
        "-->"
      ]
    },
    {
      "cell_type": "code",
      "metadata": {
        "id": "MLZM5d4LCuUE",
        "cellView": "form",
        "outputId": "2dd24542-4fd2-4340-8d82-70277abdb444",
        "colab": {
          "base_uri": "https://localhost:8080/",
          "height": 430
        }
      },
      "source": [
        "#@title 熱伝導の最も簡単な概念図 by using https://app.diagrams.net/\n",
        "%%svg\n",
        "<svg xmlns=\"http://www.w3.org/2000/svg\" xmlns:xlink=\"http://www.w3.org/1999/xlink\" version=\"1.1\" width=\"402px\" viewBox=\"-0.5 -0.5 402 409\" content=\"&lt;mxfile host=&quot;app.diagrams.net&quot; modified=&quot;2020-10-10T01:24:08.425Z&quot; agent=&quot;5.0 (Macintosh; Intel Mac OS X 10_15_7) AppleWebKit/537.36 (KHTML, like Gecko) Chrome/85.0.4183.121 Safari/537.36&quot; etag=&quot;DNwDeJLRhxzQMnoSxYLo&quot; version=&quot;13.7.9&quot; type=&quot;google&quot;&gt;&lt;diagram id=&quot;cpWH90AYMOn-1b50E8TY&quot; name=&quot;Page-1&quot;&gt;7Vpbl5s2EP41PDoHiYvx43o3aR82bU42PU0eZZCNTgE5IN/66yshcYfFXoOJm+zDGo2kAc18M/pGoBmP4fG3GG39j9TDgQZ176gZTxqEwNAB/xGSk5LoDpSSTUw8JSsEL+RfnA1U0h3xcFIZyCgNGNlWhS6NIuyyigzFMT1Uh61pUL3rFm1wQ/DioqAp/Zt4zJdSyzEK+e+YbHx1ZxOojhBlY9VCEh959FASGe814zGmlMmr8PiIA2G8zCxy3oeO3vy5YhyxcyY8f9tsw/2fO30WrZDtz/963lszpWWPgp1arwbtgOtbrilXy+2FXNlhf9+JJ11+ISF3B9T/wAf+/zMNUVR0imWyU1CdITTNktSxD3wANLfH8gx7o37T25JM8CWT8BWR+qhkt8pEsDSuJC5J5UoyMaw8I4zpLvKwMJHOuw8+YfhlK9d84IjmMp+FAW8BsRISBI80oHE611g7LnZd8Tgspv/gUs/KsUxLKPRQ4qfaQX7zPY4ZPnY6EeTQ4DGFaYhZfOJD1ARHgelQQDET+SUUggx0SKF/k2sqEMIvFEguAAy8e8CA6QDjIeysWwFjuw5erUcAjGEpJKj8C88DkDMWfowW/Axl4YhGeBirAbtqNbNpNbBoMZs5ltnsvrC7OIouDtSOsHt4Lez6gomvnO/juN/NQ4cFtHodDG/p33l/WODIexB8hrfcACUJkYkExawpLllO6sFeg+X0mqpkC6vFFpksxgFiZF9V32YgdYdPlKSI7Qg1oNdsnNBd7GI1q8xvaorqma6hiJtqg1lDUeqvfNlvd6FzdYgCZ5wQfb4qRDlyntGK0/oKrFBANpHAHEcR5sl3KcKRcNr8oDpC4nlCxzLGfIVoleoTCX0rHJC6xFpq1tNr8aw4vZpcUOkyeLvDqTP49Xc6BKC6LQ6C5YwdZQiEVQV0vU7wKNhbXI89OAj2PmMkHjY5JQyH50KMu52Nhy60Y1Suc6jNI09ZpQw5b8mQo5HwrDa+Yxb+c5Ztp24A3baMA/df+P/cdZwxdSEH2iq5XyXJFSWJaVcpyXzimgSYLR6+uChRRXnJcGn3ByIeJo097c4qFHOoCqWhaOQKBVjX08RfJcpAJYqMrslrlBlwqhrGK1JA2yFWdz5pJg5u0Pj0VTS4caxM8E047Z1hwkzwdFRulK1TufUJxxyfKRyk8EjY19K1VCaV82ahSjQyTecmLL6yNDOcwcNk5PdS/qlSoLGoZS7rjSnQNCdOgZcdtN0/BidDTJ2v1onouYgBdjVhQZNb3lgUf/ZNAQTbCqdLANRxYlsmRRJn3h1RpHpYG/ZA+aFxhjK2e9s478h1cZ1TjXOyMpuq0L5LdtZTq3F25ljzGpEaJJLAoqrVvBU7y/LYa4kt8dFWXK4DfFQpbNlaAbZtmPn+J/e3fO/s2CrPJ1m93MmeMjWCGnV6a2aEtcwIbpwYz3hx/yPC40dxe+OY5q1+b5zoje346z89GOjd0ovr45D7xNX+7y+YoF07Cmw57M1fb1/5xok3i28QJWiKLzmN9/8B&lt;/diagram&gt;&lt;/mxfile&gt;\" onclick=\"(function(svg){var src=window.event.target||window.event.srcElement;while (src!=null&amp;&amp;src.nodeName.toLowerCase()!='a'){src=src.parentNode;}if(src==null){if(svg.wnd!=null&amp;&amp;!svg.wnd.closed){svg.wnd.focus();}else{var r=function(evt){if(evt.data=='ready'&amp;&amp;evt.source==svg.wnd){svg.wnd.postMessage(decodeURIComponent(svg.getAttribute('content')),'*');window.removeEventListener('message',r);}};window.addEventListener('message',r);svg.wnd=window.open('https://viewer.diagrams.net/?client=1&amp;edit=_blank');}}})(this);\" style=\"cursor:pointer;max-width:100%;max-height:409px;\"><defs/><g><rect x=\"0\" y=\"0\" width=\"80\" height=\"120\" fill=\"#f8cecc\" stroke=\"#b85450\" stroke-dasharray=\"3 3\" pointer-events=\"all\"/><g transform=\"translate(-0.5 -0.5)\"><switch><foreignObject style=\"overflow: visible; text-align: left;\" pointer-events=\"none\" width=\"100%\" height=\"100%\" requiredFeatures=\"http://www.w3.org/TR/SVG11/feature#Extensibility\"><div xmlns=\"http://www.w3.org/1999/xhtml\" style=\"display: flex; align-items: unsafe center; justify-content: unsafe center; width: 78px; height: 1px; padding-top: 60px; margin-left: 1px;\"><div style=\"box-sizing: border-box; font-size: 0; text-align: center; \"><div style=\"display: inline-block; font-size: 12px; font-family: Helvetica; color: #000000; line-height: 1.2; pointer-events: all; white-space: normal; word-wrap: normal; \"><font face=\"Times New Roman\" style=\"font-size: 24px\"><i>T</i><sub>2</sub></font></div></div></div></foreignObject><text x=\"40\" y=\"64\" fill=\"#000000\" font-family=\"Helvetica\" font-size=\"12px\" text-anchor=\"middle\">T2</text></switch></g><rect x=\"270\" y=\"20\" width=\"80\" height=\"80\" fill=\"#dae8fc\" stroke=\"#6c8ebf\" stroke-dasharray=\"3 3\" pointer-events=\"all\"/><g transform=\"translate(-0.5 -0.5)\"><switch><foreignObject style=\"overflow: visible; text-align: left;\" pointer-events=\"none\" width=\"100%\" height=\"100%\" requiredFeatures=\"http://www.w3.org/TR/SVG11/feature#Extensibility\"><div xmlns=\"http://www.w3.org/1999/xhtml\" style=\"display: flex; align-items: unsafe center; justify-content: unsafe center; width: 78px; height: 1px; padding-top: 60px; margin-left: 271px;\"><div style=\"box-sizing: border-box; font-size: 0; text-align: center; \"><div style=\"display: inline-block; font-size: 12px; font-family: Helvetica; color: #000000; line-height: 1.2; pointer-events: all; white-space: normal; word-wrap: normal; \"><font face=\"Times New Roman\" style=\"font-size: 24px\"><i>T</i><sub>1</sub></font></div></div></div></foreignObject><text x=\"310\" y=\"64\" fill=\"#000000\" font-family=\"Helvetica\" font-size=\"12px\" text-anchor=\"middle\">T1</text></switch></g><rect x=\"80\" y=\"40\" width=\"190\" height=\"40\" fill=\"none\" stroke=\"#000000\" pointer-events=\"all\"/><ellipse cx=\"180\" cy=\"60\" rx=\"10\" ry=\"20\" fill=\"#ffffff\" stroke=\"#000000\" stroke-dasharray=\"3 3\" pointer-events=\"all\"/><g transform=\"translate(-0.5 -0.5)\"><switch><foreignObject style=\"overflow: visible; text-align: left;\" pointer-events=\"none\" width=\"100%\" height=\"100%\" requiredFeatures=\"http://www.w3.org/TR/SVG11/feature#Extensibility\"><div xmlns=\"http://www.w3.org/1999/xhtml\" style=\"display: flex; align-items: unsafe center; justify-content: unsafe center; width: 18px; height: 1px; padding-top: 60px; margin-left: 171px;\"><div style=\"box-sizing: border-box; font-size: 0; text-align: center; \"><div style=\"display: inline-block; font-size: 12px; font-family: Helvetica; color: #000000; line-height: 1.2; pointer-events: all; white-space: normal; word-wrap: normal; \"><font style=\"font-size: 24px\" face=\"Times New Roman\"><i>A</i></font></div></div></div></foreignObject><text x=\"180\" y=\"64\" fill=\"#000000\" font-family=\"Helvetica\" font-size=\"12px\" text-anchor=\"middle\">A</text></switch></g><path d=\"M 86.37 100 L 263.63 100\" fill=\"none\" stroke=\"#000000\" stroke-miterlimit=\"10\" pointer-events=\"stroke\"/><path d=\"M 81.12 100 L 88.12 96.5 L 86.37 100 L 88.12 103.5 Z\" fill=\"#000000\" stroke=\"#000000\" stroke-miterlimit=\"10\" pointer-events=\"all\"/><path d=\"M 268.88 100 L 261.88 103.5 L 263.63 100 L 261.88 96.5 Z\" fill=\"#000000\" stroke=\"#000000\" stroke-miterlimit=\"10\" pointer-events=\"all\"/><g transform=\"translate(-0.5 -0.5)\"><switch><foreignObject style=\"overflow: visible; text-align: left;\" pointer-events=\"none\" width=\"100%\" height=\"100%\" requiredFeatures=\"http://www.w3.org/TR/SVG11/feature#Extensibility\"><div xmlns=\"http://www.w3.org/1999/xhtml\" style=\"display: flex; align-items: unsafe center; justify-content: unsafe center; width: 1px; height: 1px; padding-top: 111px; margin-left: 176px;\"><div style=\"box-sizing: border-box; font-size: 0; text-align: center; \"><div style=\"display: inline-block; font-size: 11px; font-family: Helvetica; color: #000000; line-height: 1.2; pointer-events: all; background-color: #ffffff; white-space: nowrap; \"><font style=\"font-size: 18px\" face=\"Times New Roman\"><i>L</i></font></div></div></div></foreignObject><text x=\"176\" y=\"114\" fill=\"#000000\" font-family=\"Helvetica\" font-size=\"11px\" text-anchor=\"middle\">L</text></switch></g><rect x=\"80\" y=\"0\" width=\"70\" height=\"20\" fill=\"none\" stroke=\"none\" pointer-events=\"all\"/><g transform=\"translate(-0.5 -0.5)\"><switch><foreignObject style=\"overflow: visible; text-align: left;\" pointer-events=\"none\" width=\"100%\" height=\"100%\" requiredFeatures=\"http://www.w3.org/TR/SVG11/feature#Extensibility\"><div xmlns=\"http://www.w3.org/1999/xhtml\" style=\"display: flex; align-items: unsafe center; justify-content: unsafe center; width: 1px; height: 1px; padding-top: 10px; margin-left: 115px;\"><div style=\"box-sizing: border-box; font-size: 0; text-align: center; \"><div style=\"display: inline-block; font-size: 12px; font-family: Helvetica; color: #000000; line-height: 1.2; pointer-events: all; white-space: nowrap; \"><font style=\"font-size: 12px\" face=\"Times New Roman\">Real system</font></div></div></div></foreignObject><text x=\"115\" y=\"14\" fill=\"#000000\" font-family=\"Helvetica\" font-size=\"12px\" text-anchor=\"middle\">Real system</text></switch></g><rect x=\"0\" y=\"160\" width=\"80\" height=\"120\" fill=\"#f8cecc\" stroke=\"#b85450\" stroke-dasharray=\"3 3\" pointer-events=\"all\"/><g transform=\"translate(-0.5 -0.5)\"><switch><foreignObject style=\"overflow: visible; text-align: left;\" pointer-events=\"none\" width=\"100%\" height=\"100%\" requiredFeatures=\"http://www.w3.org/TR/SVG11/feature#Extensibility\"><div xmlns=\"http://www.w3.org/1999/xhtml\" style=\"display: flex; align-items: unsafe center; justify-content: unsafe center; width: 78px; height: 1px; padding-top: 220px; margin-left: 1px;\"><div style=\"box-sizing: border-box; font-size: 0; text-align: center; \"><div style=\"display: inline-block; font-size: 12px; font-family: Helvetica; color: #000000; line-height: 1.2; pointer-events: all; white-space: normal; word-wrap: normal; \"><font face=\"Times New Roman\" style=\"font-size: 24px\"><i>T</i><sub>2</sub></font></div></div></div></foreignObject><text x=\"40\" y=\"224\" fill=\"#000000\" font-family=\"Helvetica\" font-size=\"12px\" text-anchor=\"middle\">T2</text></switch></g><rect x=\"270\" y=\"320\" width=\"80\" height=\"80\" fill=\"#dae8fc\" stroke=\"#6c8ebf\" stroke-dasharray=\"3 3\" pointer-events=\"all\"/><g transform=\"translate(-0.5 -0.5)\"><switch><foreignObject style=\"overflow: visible; text-align: left;\" pointer-events=\"none\" width=\"100%\" height=\"100%\" requiredFeatures=\"http://www.w3.org/TR/SVG11/feature#Extensibility\"><div xmlns=\"http://www.w3.org/1999/xhtml\" style=\"display: flex; align-items: unsafe center; justify-content: unsafe center; width: 78px; height: 1px; padding-top: 360px; margin-left: 271px;\"><div style=\"box-sizing: border-box; font-size: 0; text-align: center; \"><div style=\"display: inline-block; font-size: 12px; font-family: Helvetica; color: #000000; line-height: 1.2; pointer-events: all; white-space: normal; word-wrap: normal; \"><font face=\"Times New Roman\" style=\"font-size: 24px\"><i>T</i><sub>1</sub></font></div></div></div></foreignObject><text x=\"310\" y=\"364\" fill=\"#000000\" font-family=\"Helvetica\" font-size=\"12px\" text-anchor=\"middle\">T1</text></switch></g><ellipse cx=\"176\" cy=\"290\" rx=\"10\" ry=\"20\" fill=\"#ffffff\" stroke=\"#000000\" stroke-dasharray=\"3 3\" pointer-events=\"all\"/><g transform=\"translate(-0.5 -0.5)\"><switch><foreignObject style=\"overflow: visible; text-align: left;\" pointer-events=\"none\" width=\"100%\" height=\"100%\" requiredFeatures=\"http://www.w3.org/TR/SVG11/feature#Extensibility\"><div xmlns=\"http://www.w3.org/1999/xhtml\" style=\"display: flex; align-items: unsafe center; justify-content: unsafe center; width: 18px; height: 1px; padding-top: 290px; margin-left: 167px;\"><div style=\"box-sizing: border-box; font-size: 0; text-align: center; \"><div style=\"display: inline-block; font-size: 12px; font-family: Helvetica; color: #000000; line-height: 1.2; pointer-events: all; white-space: normal; word-wrap: normal; \"><font style=\"font-size: 24px\" face=\"Times New Roman\"><i>A</i></font></div></div></div></foreignObject><text x=\"176\" y=\"294\" fill=\"#000000\" font-family=\"Helvetica\" font-size=\"12px\" text-anchor=\"middle\">A</text></switch></g><path d=\"M 80 400 L 263.63 400\" fill=\"none\" stroke=\"#000000\" stroke-miterlimit=\"10\" pointer-events=\"stroke\"/><path d=\"M 268.88 400 L 261.88 403.5 L 263.63 400 L 261.88 396.5 Z\" fill=\"#000000\" stroke=\"#000000\" stroke-miterlimit=\"10\" pointer-events=\"all\"/><g transform=\"translate(-0.5 -0.5)\"><switch><foreignObject style=\"overflow: visible; text-align: left;\" pointer-events=\"none\" width=\"100%\" height=\"100%\" requiredFeatures=\"http://www.w3.org/TR/SVG11/feature#Extensibility\"><div xmlns=\"http://www.w3.org/1999/xhtml\" style=\"display: flex; align-items: unsafe center; justify-content: unsafe center; width: 1px; height: 1px; padding-top: 381px; margin-left: 176px;\"><div style=\"box-sizing: border-box; font-size: 0; text-align: center; \"><div style=\"display: inline-block; font-size: 11px; font-family: Helvetica; color: #000000; line-height: 1.2; pointer-events: all; background-color: #ffffff; white-space: nowrap; \"><font style=\"font-size: 18px\" face=\"Times New Roman\"><i>L</i></font></div></div></div></foreignObject><text x=\"176\" y=\"384\" fill=\"#000000\" font-family=\"Helvetica\" font-size=\"11px\" text-anchor=\"middle\">L</text></switch></g><path d=\"M 270 340 L 82 201.04\" fill=\"none\" stroke=\"#000000\" stroke-miterlimit=\"10\" pointer-events=\"stroke\"/><path d=\"M 270 380 L 82 241.04\" fill=\"none\" stroke=\"#000000\" stroke-miterlimit=\"10\" pointer-events=\"stroke\"/><path d=\"M 360 353.63 L 360 220\" fill=\"none\" stroke=\"#000000\" stroke-miterlimit=\"10\" pointer-events=\"stroke\"/><path d=\"M 360 358.88 L 356.5 351.88 L 360 353.63 L 363.5 351.88 Z\" fill=\"#000000\" stroke=\"#000000\" stroke-miterlimit=\"10\" pointer-events=\"all\"/><g transform=\"translate(-0.5 -0.5)\"><switch><foreignObject style=\"overflow: visible; text-align: left;\" pointer-events=\"none\" width=\"100%\" height=\"100%\" requiredFeatures=\"http://www.w3.org/TR/SVG11/feature#Extensibility\"><div xmlns=\"http://www.w3.org/1999/xhtml\" style=\"display: flex; align-items: unsafe center; justify-content: unsafe center; width: 1px; height: 1px; padding-top: 281px; margin-left: 381px;\"><div style=\"box-sizing: border-box; font-size: 0; text-align: center; \"><div style=\"display: inline-block; font-size: 11px; font-family: Helvetica; color: #000000; line-height: 1.2; pointer-events: all; background-color: #ffffff; white-space: nowrap; \"><font face=\"Times New Roman\" style=\"font-size: 18px\"><i>T</i><sub>2</sub>-<i>T</i><sub>1</sub></font></div></div></div></foreignObject><text x=\"381\" y=\"284\" fill=\"#000000\" font-family=\"Helvetica\" font-size=\"11px\" text-anchor=\"middle\">T2-T1</text></switch></g><path d=\"M 110.5 65 L 110.5 55 L 150.5 55 L 150.5 44.5 L 169.5 60 L 150.5 75.5 L 150.5 65 Z\" fill=\"none\" stroke=\"#000000\" stroke-linejoin=\"round\" stroke-miterlimit=\"10\" pointer-events=\"all\"/><path d=\"M 107.27 244.22 L 113.51 236.41 L 147.9 263.91 L 154.46 255.71 L 159.61 279.69 L 135.09 279.92 L 141.65 271.72 Z\" fill=\"none\" stroke=\"#000000\" stroke-linejoin=\"round\" stroke-miterlimit=\"10\" pointer-events=\"all\"/><rect x=\"186\" y=\"220\" width=\"100\" height=\"20\" fill=\"none\" stroke=\"none\" pointer-events=\"all\"/><g transform=\"translate(-0.5 -0.5)\"><switch><foreignObject style=\"overflow: visible; text-align: left;\" pointer-events=\"none\" width=\"100%\" height=\"100%\" requiredFeatures=\"http://www.w3.org/TR/SVG11/feature#Extensibility\"><div xmlns=\"http://www.w3.org/1999/xhtml\" style=\"display: flex; align-items: unsafe center; justify-content: unsafe center; width: 1px; height: 1px; padding-top: 230px; margin-left: 236px;\"><div style=\"box-sizing: border-box; font-size: 0; text-align: center; \"><div style=\"display: inline-block; font-size: 12px; font-family: Helvetica; color: #000000; line-height: 1.2; pointer-events: all; white-space: nowrap; \"><font style=\"font-size: 12px\" face=\"Times New Roman\">Schematic system</font></div></div></div></foreignObject><text x=\"236\" y=\"234\" fill=\"#000000\" font-family=\"Helvetica\" font-size=\"12px\" text-anchor=\"middle\">Schematic system</text></switch></g></g><switch><g requiredFeatures=\"http://www.w3.org/TR/SVG11/feature#Extensibility\"/><a transform=\"translate(0,-5)\" xlink:href=\"https://desk.draw.io/support/solutions/articles/16000042487\" target=\"_blank\"><text text-anchor=\"middle\" font-size=\"10px\" x=\"50%\" y=\"100%\">Viewer does not support full SVG 1.1</text></a></switch></svg>"
      ],
      "execution_count": 5,
      "outputs": [
        {
          "output_type": "display_data",
          "data": {
            "text/plain": [
              "<IPython.core.display.SVG object>"
            ],
            "image/svg+xml": "<svg content=\"&lt;mxfile host=&quot;app.diagrams.net&quot; modified=&quot;2020-10-10T01:24:08.425Z&quot; agent=&quot;5.0 (Macintosh; Intel Mac OS X 10_15_7) AppleWebKit/537.36 (KHTML, like Gecko) Chrome/85.0.4183.121 Safari/537.36&quot; etag=&quot;DNwDeJLRhxzQMnoSxYLo&quot; version=&quot;13.7.9&quot; type=&quot;google&quot;&gt;&lt;diagram id=&quot;cpWH90AYMOn-1b50E8TY&quot; name=&quot;Page-1&quot;&gt;7Vpbl5s2EP41PDoHiYvx43o3aR82bU42PU0eZZCNTgE5IN/66yshcYfFXoOJm+zDGo2kAc18M/pGoBmP4fG3GG39j9TDgQZ176gZTxqEwNAB/xGSk5LoDpSSTUw8JSsEL+RfnA1U0h3xcFIZyCgNGNlWhS6NIuyyigzFMT1Uh61pUL3rFm1wQ/DioqAp/Zt4zJdSyzEK+e+YbHx1ZxOojhBlY9VCEh959FASGe814zGmlMmr8PiIA2G8zCxy3oeO3vy5YhyxcyY8f9tsw/2fO30WrZDtz/963lszpWWPgp1arwbtgOtbrilXy+2FXNlhf9+JJ11+ISF3B9T/wAf+/zMNUVR0imWyU1CdITTNktSxD3wANLfH8gx7o37T25JM8CWT8BWR+qhkt8pEsDSuJC5J5UoyMaw8I4zpLvKwMJHOuw8+YfhlK9d84IjmMp+FAW8BsRISBI80oHE611g7LnZd8Tgspv/gUs/KsUxLKPRQ4qfaQX7zPY4ZPnY6EeTQ4DGFaYhZfOJD1ARHgelQQDET+SUUggx0SKF/k2sqEMIvFEguAAy8e8CA6QDjIeysWwFjuw5erUcAjGEpJKj8C88DkDMWfowW/Axl4YhGeBirAbtqNbNpNbBoMZs5ltnsvrC7OIouDtSOsHt4Lez6gomvnO/juN/NQ4cFtHodDG/p33l/WODIexB8hrfcACUJkYkExawpLllO6sFeg+X0mqpkC6vFFpksxgFiZF9V32YgdYdPlKSI7Qg1oNdsnNBd7GI1q8xvaorqma6hiJtqg1lDUeqvfNlvd6FzdYgCZ5wQfb4qRDlyntGK0/oKrFBANpHAHEcR5sl3KcKRcNr8oDpC4nlCxzLGfIVoleoTCX0rHJC6xFpq1tNr8aw4vZpcUOkyeLvDqTP49Xc6BKC6LQ6C5YwdZQiEVQV0vU7wKNhbXI89OAj2PmMkHjY5JQyH50KMu52Nhy60Y1Suc6jNI09ZpQw5b8mQo5HwrDa+Yxb+c5Ztp24A3baMA/df+P/cdZwxdSEH2iq5XyXJFSWJaVcpyXzimgSYLR6+uChRRXnJcGn3ByIeJo097c4qFHOoCqWhaOQKBVjX08RfJcpAJYqMrslrlBlwqhrGK1JA2yFWdz5pJg5u0Pj0VTS4caxM8E047Z1hwkzwdFRulK1TufUJxxyfKRyk8EjY19K1VCaV82ahSjQyTecmLL6yNDOcwcNk5PdS/qlSoLGoZS7rjSnQNCdOgZcdtN0/BidDTJ2v1onouYgBdjVhQZNb3lgUf/ZNAQTbCqdLANRxYlsmRRJn3h1RpHpYG/ZA+aFxhjK2e9s478h1cZ1TjXOyMpuq0L5LdtZTq3F25ljzGpEaJJLAoqrVvBU7y/LYa4kt8dFWXK4DfFQpbNlaAbZtmPn+J/e3fO/s2CrPJ1m93MmeMjWCGnV6a2aEtcwIbpwYz3hx/yPC40dxe+OY5q1+b5zoje346z89GOjd0ovr45D7xNX+7y+YoF07Cmw57M1fb1/5xok3i28QJWiKLzmN9/8B&lt;/diagram&gt;&lt;/mxfile&gt;\" onclick=\"(function(svg){var src=window.event.target||window.event.srcElement;while (src!=null&amp;&amp;src.nodeName.toLowerCase()!='a'){src=src.parentNode;}if(src==null){if(svg.wnd!=null&amp;&amp;!svg.wnd.closed){svg.wnd.focus();}else{var r=function(evt){if(evt.data=='ready'&amp;&amp;evt.source==svg.wnd){svg.wnd.postMessage(decodeURIComponent(svg.getAttribute('content')),'*');window.removeEventListener('message',r);}};window.addEventListener('message',r);svg.wnd=window.open('https://viewer.diagrams.net/?client=1&amp;edit=_blank');}}})(this);\" style=\"cursor:pointer;max-width:100%;max-height:409px;\" version=\"1.1\" viewBox=\"-0.5 -0.5 402 409\" width=\"402px\" xmlns=\"http://www.w3.org/2000/svg\" xmlns:xlink=\"http://www.w3.org/1999/xlink\"><defs/><g><rect fill=\"#f8cecc\" height=\"120\" pointer-events=\"all\" stroke=\"#b85450\" stroke-dasharray=\"3 3\" width=\"80\" x=\"0\" y=\"0\"/><g transform=\"translate(-0.5 -0.5)\"><switch><foreignObject height=\"100%\" pointer-events=\"none\" requiredFeatures=\"http://www.w3.org/TR/SVG11/feature#Extensibility\" style=\"overflow: visible; text-align: left;\" width=\"100%\"><div style=\"display: flex; align-items: unsafe center; justify-content: unsafe center; width: 78px; height: 1px; padding-top: 60px; margin-left: 1px;\" xmlns=\"http://www.w3.org/1999/xhtml\"><div style=\"box-sizing: border-box; font-size: 0; text-align: center; \"><div style=\"display: inline-block; font-size: 12px; font-family: Helvetica; color: #000000; line-height: 1.2; pointer-events: all; white-space: normal; word-wrap: normal; \"><font face=\"Times New Roman\" style=\"font-size: 24px\"><i>T</i><sub>2</sub></font></div></div></div></foreignObject><text fill=\"#000000\" font-family=\"Helvetica\" font-size=\"12px\" text-anchor=\"middle\" x=\"40\" y=\"64\">T2</text></switch></g><rect fill=\"#dae8fc\" height=\"80\" pointer-events=\"all\" stroke=\"#6c8ebf\" stroke-dasharray=\"3 3\" width=\"80\" x=\"270\" y=\"20\"/><g transform=\"translate(-0.5 -0.5)\"><switch><foreignObject height=\"100%\" pointer-events=\"none\" requiredFeatures=\"http://www.w3.org/TR/SVG11/feature#Extensibility\" style=\"overflow: visible; text-align: left;\" width=\"100%\"><div style=\"display: flex; align-items: unsafe center; justify-content: unsafe center; width: 78px; height: 1px; padding-top: 60px; margin-left: 271px;\" xmlns=\"http://www.w3.org/1999/xhtml\"><div style=\"box-sizing: border-box; font-size: 0; text-align: center; \"><div style=\"display: inline-block; font-size: 12px; font-family: Helvetica; color: #000000; line-height: 1.2; pointer-events: all; white-space: normal; word-wrap: normal; \"><font face=\"Times New Roman\" style=\"font-size: 24px\"><i>T</i><sub>1</sub></font></div></div></div></foreignObject><text fill=\"#000000\" font-family=\"Helvetica\" font-size=\"12px\" text-anchor=\"middle\" x=\"310\" y=\"64\">T1</text></switch></g><rect fill=\"none\" height=\"40\" pointer-events=\"all\" stroke=\"#000000\" width=\"190\" x=\"80\" y=\"40\"/><ellipse cx=\"180\" cy=\"60\" fill=\"#ffffff\" pointer-events=\"all\" rx=\"10\" ry=\"20\" stroke=\"#000000\" stroke-dasharray=\"3 3\"/><g transform=\"translate(-0.5 -0.5)\"><switch><foreignObject height=\"100%\" pointer-events=\"none\" requiredFeatures=\"http://www.w3.org/TR/SVG11/feature#Extensibility\" style=\"overflow: visible; text-align: left;\" width=\"100%\"><div style=\"display: flex; align-items: unsafe center; justify-content: unsafe center; width: 18px; height: 1px; padding-top: 60px; margin-left: 171px;\" xmlns=\"http://www.w3.org/1999/xhtml\"><div style=\"box-sizing: border-box; font-size: 0; text-align: center; \"><div style=\"display: inline-block; font-size: 12px; font-family: Helvetica; color: #000000; line-height: 1.2; pointer-events: all; white-space: normal; word-wrap: normal; \"><font face=\"Times New Roman\" style=\"font-size: 24px\"><i>A</i></font></div></div></div></foreignObject><text fill=\"#000000\" font-family=\"Helvetica\" font-size=\"12px\" text-anchor=\"middle\" x=\"180\" y=\"64\">A</text></switch></g><path d=\"M 86.37 100 L 263.63 100\" fill=\"none\" pointer-events=\"stroke\" stroke=\"#000000\" stroke-miterlimit=\"10\"/><path d=\"M 81.12 100 L 88.12 96.5 L 86.37 100 L 88.12 103.5 Z\" fill=\"#000000\" pointer-events=\"all\" stroke=\"#000000\" stroke-miterlimit=\"10\"/><path d=\"M 268.88 100 L 261.88 103.5 L 263.63 100 L 261.88 96.5 Z\" fill=\"#000000\" pointer-events=\"all\" stroke=\"#000000\" stroke-miterlimit=\"10\"/><g transform=\"translate(-0.5 -0.5)\"><switch><foreignObject height=\"100%\" pointer-events=\"none\" requiredFeatures=\"http://www.w3.org/TR/SVG11/feature#Extensibility\" style=\"overflow: visible; text-align: left;\" width=\"100%\"><div style=\"display: flex; align-items: unsafe center; justify-content: unsafe center; width: 1px; height: 1px; padding-top: 111px; margin-left: 176px;\" xmlns=\"http://www.w3.org/1999/xhtml\"><div style=\"box-sizing: border-box; font-size: 0; text-align: center; \"><div style=\"display: inline-block; font-size: 11px; font-family: Helvetica; color: #000000; line-height: 1.2; pointer-events: all; background-color: #ffffff; white-space: nowrap; \"><font face=\"Times New Roman\" style=\"font-size: 18px\"><i>L</i></font></div></div></div></foreignObject><text fill=\"#000000\" font-family=\"Helvetica\" font-size=\"11px\" text-anchor=\"middle\" x=\"176\" y=\"114\">L</text></switch></g><rect fill=\"none\" height=\"20\" pointer-events=\"all\" stroke=\"none\" width=\"70\" x=\"80\" y=\"0\"/><g transform=\"translate(-0.5 -0.5)\"><switch><foreignObject height=\"100%\" pointer-events=\"none\" requiredFeatures=\"http://www.w3.org/TR/SVG11/feature#Extensibility\" style=\"overflow: visible; text-align: left;\" width=\"100%\"><div style=\"display: flex; align-items: unsafe center; justify-content: unsafe center; width: 1px; height: 1px; padding-top: 10px; margin-left: 115px;\" xmlns=\"http://www.w3.org/1999/xhtml\"><div style=\"box-sizing: border-box; font-size: 0; text-align: center; \"><div style=\"display: inline-block; font-size: 12px; font-family: Helvetica; color: #000000; line-height: 1.2; pointer-events: all; white-space: nowrap; \"><font face=\"Times New Roman\" style=\"font-size: 12px\">Real system</font></div></div></div></foreignObject><text fill=\"#000000\" font-family=\"Helvetica\" font-size=\"12px\" text-anchor=\"middle\" x=\"115\" y=\"14\">Real system</text></switch></g><rect fill=\"#f8cecc\" height=\"120\" pointer-events=\"all\" stroke=\"#b85450\" stroke-dasharray=\"3 3\" width=\"80\" x=\"0\" y=\"160\"/><g transform=\"translate(-0.5 -0.5)\"><switch><foreignObject height=\"100%\" pointer-events=\"none\" requiredFeatures=\"http://www.w3.org/TR/SVG11/feature#Extensibility\" style=\"overflow: visible; text-align: left;\" width=\"100%\"><div style=\"display: flex; align-items: unsafe center; justify-content: unsafe center; width: 78px; height: 1px; padding-top: 220px; margin-left: 1px;\" xmlns=\"http://www.w3.org/1999/xhtml\"><div style=\"box-sizing: border-box; font-size: 0; text-align: center; \"><div style=\"display: inline-block; font-size: 12px; font-family: Helvetica; color: #000000; line-height: 1.2; pointer-events: all; white-space: normal; word-wrap: normal; \"><font face=\"Times New Roman\" style=\"font-size: 24px\"><i>T</i><sub>2</sub></font></div></div></div></foreignObject><text fill=\"#000000\" font-family=\"Helvetica\" font-size=\"12px\" text-anchor=\"middle\" x=\"40\" y=\"224\">T2</text></switch></g><rect fill=\"#dae8fc\" height=\"80\" pointer-events=\"all\" stroke=\"#6c8ebf\" stroke-dasharray=\"3 3\" width=\"80\" x=\"270\" y=\"320\"/><g transform=\"translate(-0.5 -0.5)\"><switch><foreignObject height=\"100%\" pointer-events=\"none\" requiredFeatures=\"http://www.w3.org/TR/SVG11/feature#Extensibility\" style=\"overflow: visible; text-align: left;\" width=\"100%\"><div style=\"display: flex; align-items: unsafe center; justify-content: unsafe center; width: 78px; height: 1px; padding-top: 360px; margin-left: 271px;\" xmlns=\"http://www.w3.org/1999/xhtml\"><div style=\"box-sizing: border-box; font-size: 0; text-align: center; \"><div style=\"display: inline-block; font-size: 12px; font-family: Helvetica; color: #000000; line-height: 1.2; pointer-events: all; white-space: normal; word-wrap: normal; \"><font face=\"Times New Roman\" style=\"font-size: 24px\"><i>T</i><sub>1</sub></font></div></div></div></foreignObject><text fill=\"#000000\" font-family=\"Helvetica\" font-size=\"12px\" text-anchor=\"middle\" x=\"310\" y=\"364\">T1</text></switch></g><ellipse cx=\"176\" cy=\"290\" fill=\"#ffffff\" pointer-events=\"all\" rx=\"10\" ry=\"20\" stroke=\"#000000\" stroke-dasharray=\"3 3\"/><g transform=\"translate(-0.5 -0.5)\"><switch><foreignObject height=\"100%\" pointer-events=\"none\" requiredFeatures=\"http://www.w3.org/TR/SVG11/feature#Extensibility\" style=\"overflow: visible; text-align: left;\" width=\"100%\"><div style=\"display: flex; align-items: unsafe center; justify-content: unsafe center; width: 18px; height: 1px; padding-top: 290px; margin-left: 167px;\" xmlns=\"http://www.w3.org/1999/xhtml\"><div style=\"box-sizing: border-box; font-size: 0; text-align: center; \"><div style=\"display: inline-block; font-size: 12px; font-family: Helvetica; color: #000000; line-height: 1.2; pointer-events: all; white-space: normal; word-wrap: normal; \"><font face=\"Times New Roman\" style=\"font-size: 24px\"><i>A</i></font></div></div></div></foreignObject><text fill=\"#000000\" font-family=\"Helvetica\" font-size=\"12px\" text-anchor=\"middle\" x=\"176\" y=\"294\">A</text></switch></g><path d=\"M 80 400 L 263.63 400\" fill=\"none\" pointer-events=\"stroke\" stroke=\"#000000\" stroke-miterlimit=\"10\"/><path d=\"M 268.88 400 L 261.88 403.5 L 263.63 400 L 261.88 396.5 Z\" fill=\"#000000\" pointer-events=\"all\" stroke=\"#000000\" stroke-miterlimit=\"10\"/><g transform=\"translate(-0.5 -0.5)\"><switch><foreignObject height=\"100%\" pointer-events=\"none\" requiredFeatures=\"http://www.w3.org/TR/SVG11/feature#Extensibility\" style=\"overflow: visible; text-align: left;\" width=\"100%\"><div style=\"display: flex; align-items: unsafe center; justify-content: unsafe center; width: 1px; height: 1px; padding-top: 381px; margin-left: 176px;\" xmlns=\"http://www.w3.org/1999/xhtml\"><div style=\"box-sizing: border-box; font-size: 0; text-align: center; \"><div style=\"display: inline-block; font-size: 11px; font-family: Helvetica; color: #000000; line-height: 1.2; pointer-events: all; background-color: #ffffff; white-space: nowrap; \"><font face=\"Times New Roman\" style=\"font-size: 18px\"><i>L</i></font></div></div></div></foreignObject><text fill=\"#000000\" font-family=\"Helvetica\" font-size=\"11px\" text-anchor=\"middle\" x=\"176\" y=\"384\">L</text></switch></g><path d=\"M 270 340 L 82 201.04\" fill=\"none\" pointer-events=\"stroke\" stroke=\"#000000\" stroke-miterlimit=\"10\"/><path d=\"M 270 380 L 82 241.04\" fill=\"none\" pointer-events=\"stroke\" stroke=\"#000000\" stroke-miterlimit=\"10\"/><path d=\"M 360 353.63 L 360 220\" fill=\"none\" pointer-events=\"stroke\" stroke=\"#000000\" stroke-miterlimit=\"10\"/><path d=\"M 360 358.88 L 356.5 351.88 L 360 353.63 L 363.5 351.88 Z\" fill=\"#000000\" pointer-events=\"all\" stroke=\"#000000\" stroke-miterlimit=\"10\"/><g transform=\"translate(-0.5 -0.5)\"><switch><foreignObject height=\"100%\" pointer-events=\"none\" requiredFeatures=\"http://www.w3.org/TR/SVG11/feature#Extensibility\" style=\"overflow: visible; text-align: left;\" width=\"100%\"><div style=\"display: flex; align-items: unsafe center; justify-content: unsafe center; width: 1px; height: 1px; padding-top: 281px; margin-left: 381px;\" xmlns=\"http://www.w3.org/1999/xhtml\"><div style=\"box-sizing: border-box; font-size: 0; text-align: center; \"><div style=\"display: inline-block; font-size: 11px; font-family: Helvetica; color: #000000; line-height: 1.2; pointer-events: all; background-color: #ffffff; white-space: nowrap; \"><font face=\"Times New Roman\" style=\"font-size: 18px\"><i>T</i><sub>2</sub>-<i>T</i><sub>1</sub></font></div></div></div></foreignObject><text fill=\"#000000\" font-family=\"Helvetica\" font-size=\"11px\" text-anchor=\"middle\" x=\"381\" y=\"284\">T2-T1</text></switch></g><path d=\"M 110.5 65 L 110.5 55 L 150.5 55 L 150.5 44.5 L 169.5 60 L 150.5 75.5 L 150.5 65 Z\" fill=\"none\" pointer-events=\"all\" stroke=\"#000000\" stroke-linejoin=\"round\" stroke-miterlimit=\"10\"/><path d=\"M 107.27 244.22 L 113.51 236.41 L 147.9 263.91 L 154.46 255.71 L 159.61 279.69 L 135.09 279.92 L 141.65 271.72 Z\" fill=\"none\" pointer-events=\"all\" stroke=\"#000000\" stroke-linejoin=\"round\" stroke-miterlimit=\"10\"/><rect fill=\"none\" height=\"20\" pointer-events=\"all\" stroke=\"none\" width=\"100\" x=\"186\" y=\"220\"/><g transform=\"translate(-0.5 -0.5)\"><switch><foreignObject height=\"100%\" pointer-events=\"none\" requiredFeatures=\"http://www.w3.org/TR/SVG11/feature#Extensibility\" style=\"overflow: visible; text-align: left;\" width=\"100%\"><div style=\"display: flex; align-items: unsafe center; justify-content: unsafe center; width: 1px; height: 1px; padding-top: 230px; margin-left: 236px;\" xmlns=\"http://www.w3.org/1999/xhtml\"><div style=\"box-sizing: border-box; font-size: 0; text-align: center; \"><div style=\"display: inline-block; font-size: 12px; font-family: Helvetica; color: #000000; line-height: 1.2; pointer-events: all; white-space: nowrap; \"><font face=\"Times New Roman\" style=\"font-size: 12px\">Schematic system</font></div></div></div></foreignObject><text fill=\"#000000\" font-family=\"Helvetica\" font-size=\"12px\" text-anchor=\"middle\" x=\"236\" y=\"234\">Schematic system</text></switch></g></g><switch><g requiredFeatures=\"http://www.w3.org/TR/SVG11/feature#Extensibility\"/><a target=\"_blank\" transform=\"translate(0,-5)\" xlink:href=\"https://desk.draw.io/support/solutions/articles/16000042487\"><text font-size=\"10px\" text-anchor=\"middle\" x=\"50%\" y=\"100%\">Viewer does not support full SVG 1.1</text></a></switch></svg>"
          },
          "metadata": {
            "tags": []
          }
        }
      ]
    },
    {
      "cell_type": "markdown",
      "metadata": {
        "id": "th2olemXH3a-"
      },
      "source": [
        "\\begin{align*}\n",
        "&\\begin{cases}\n",
        "\\dfrac{\\Delta Q}{\\Delta t} &\\propto A\\\\\n",
        "\\dfrac{\\Delta Q}{\\Delta t} &\\propto \\dfrac{T_2 - T_1}{L}\\\\\n",
        "\\end{cases}\\\\\n",
        "H &= \\dfrac{\\Delta Q}{\\Delta t}  = k A \\dfrac{T_2 - T_1}{L},\n",
        "\\end{align*}\n",
        "here time difference as $\\Delta t=t-t_0$."
      ]
    },
    {
      "cell_type": "markdown",
      "metadata": {
        "id": "3clSDloyORCI"
      },
      "source": [
        "### 対流"
      ]
    },
    {
      "cell_type": "markdown",
      "metadata": {
        "id": "Si2uSxDjGMG6"
      },
      "source": [
        "(natural) convection, convective heat transfer\n",
        "<!-- convective heat transfer https://en.wikipedia.org/wiki/Convective_heat_transfer#Convective_heat_transfer -->\n",
        "\n",
        "![thermal convection from a human hand](https://upload.wikimedia.org/wikipedia/commons/thumb/9/90/Thermal-plume-from-human-hand.jpg/421px-Thermal-plume-from-human-hand.jpg)\n",
        "\n",
        "https://en.wikipedia.org/wiki/Convection"
      ]
    },
    {
      "cell_type": "code",
      "metadata": {
        "id": "O739iFABIFHH",
        "cellView": "form",
        "outputId": "de061a6e-29fa-44ed-9c70-bee2b02409d2",
        "colab": {
          "base_uri": "https://localhost:8080/",
          "height": 336
        }
      },
      "source": [
        "#@title 熱対流\n",
        "%%html\n",
        "<iframe width=\"560\" height=\"315\" src=\"https://www.youtube-nocookie.com/embed/hYFIlmOebWs\" frameborder=\"0\" allow=\"accelerometer; autoplay; clipboard-write; encrypted-media; gyroscope; picture-in-picture\" allowfullscreen></iframe>"
      ],
      "execution_count": null,
      "outputs": [
        {
          "output_type": "display_data",
          "data": {
            "text/html": [
              "<iframe width=\"560\" height=\"315\" src=\"https://www.youtube-nocookie.com/embed/hYFIlmOebWs\" frameborder=\"0\" allow=\"accelerometer; autoplay; clipboard-write; encrypted-media; gyroscope; picture-in-picture\" allowfullscreen></iframe>"
            ],
            "text/plain": [
              "<IPython.core.display.HTML object>"
            ]
          },
          "metadata": {
            "tags": []
          }
        }
      ]
    },
    {
      "cell_type": "code",
      "metadata": {
        "id": "WP9ji33v4K7o",
        "cellView": "form",
        "outputId": "d08b78d2-770f-4240-9fc6-62c67a1aadf4",
        "colab": {
          "base_uri": "https://localhost:8080/",
          "height": 336
        }
      },
      "source": [
        "#@title thermal convection of candel\n",
        "%%html\n",
        "<iframe width=\"560\" height=\"315\" src=\"https://www.youtube-nocookie.com/embed/VooYmwTLVgY\" frameborder=\"0\" allow=\"accelerometer; autoplay; clipboard-write; encrypted-media; gyroscope; picture-in-picture\" allowfullscreen></iframe>"
      ],
      "execution_count": 2,
      "outputs": [
        {
          "output_type": "display_data",
          "data": {
            "text/html": [
              "<iframe width=\"560\" height=\"315\" src=\"https://www.youtube-nocookie.com/embed/VooYmwTLVgY\" frameborder=\"0\" allow=\"accelerometer; autoplay; clipboard-write; encrypted-media; gyroscope; picture-in-picture\" allowfullscreen></iframe>"
            ],
            "text/plain": [
              "<IPython.core.display.HTML object>"
            ]
          },
          "metadata": {
            "tags": []
          }
        }
      ]
    },
    {
      "cell_type": "markdown",
      "metadata": {
        "id": "I6_IwxXX_n5a"
      },
      "source": [
        "#### Fire Prevention in Space\n",
        "\n",
        "It is in a less gravity field.\n",
        "\n",
        "![](https://www.nasa.gov/images/content/57401main_040104_fire_prevention.jpg)\n",
        "\n",
        "https://www.nasa.gov/missions/shuttle/f_fireprevention.html\n",
        "\n"
      ]
    },
    {
      "cell_type": "markdown",
      "metadata": {
        "id": "OK5_chVSOTAa"
      },
      "source": [
        "### 熱放射"
      ]
    },
    {
      "cell_type": "markdown",
      "metadata": {
        "id": "0uXzxmnlJU5j"
      },
      "source": [
        "[thermal radiation](https://en.wikipedia.org/wiki/Thermal_radiation)"
      ]
    },
    {
      "cell_type": "code",
      "metadata": {
        "id": "vt5srSkjZfDa",
        "cellView": "form",
        "outputId": "934e53d9-d6a1-4e91-8f9e-7c641d195df0",
        "colab": {
          "base_uri": "https://localhost:8080/",
          "height": 336
        }
      },
      "source": [
        "#@title 電磁波としての熱放射\n",
        "%%html\n",
        "<iframe width=\"560\" height=\"315\" src=\"https://www.youtube-nocookie.com/embed/5GoZZKcNZiQ\" frameborder=\"0\" allow=\"accelerometer; autoplay; clipboard-write; encrypted-media; gyroscope; picture-in-picture\" allowfullscreen></iframe>"
      ],
      "execution_count": null,
      "outputs": [
        {
          "output_type": "display_data",
          "data": {
            "text/html": [
              "<iframe width=\"560\" height=\"315\" src=\"https://www.youtube-nocookie.com/embed/5GoZZKcNZiQ\" frameborder=\"0\" allow=\"accelerometer; autoplay; clipboard-write; encrypted-media; gyroscope; picture-in-picture\" allowfullscreen></iframe>"
            ],
            "text/plain": [
              "<IPython.core.display.HTML object>"
            ]
          },
          "metadata": {
            "tags": []
          }
        }
      ]
    },
    {
      "cell_type": "code",
      "metadata": {
        "id": "PzfKVqn1K92Q",
        "cellView": "form",
        "outputId": "9947211c-c8c9-4845-87f0-5551014d26c0",
        "colab": {
          "base_uri": "https://localhost:8080/",
          "height": 336
        }
      },
      "source": [
        "#@title Leslies's Cube 1/2\n",
        "%%html\n",
        "<iframe width=\"560\" height=\"315\" src=\"https://www.youtube-nocookie.com/embed/ClRrU6JuBOc\" frameborder=\"0\" allow=\"accelerometer; autoplay; clipboard-write; encrypted-media; gyroscope; picture-in-picture\" allowfullscreen></iframe>"
      ],
      "execution_count": null,
      "outputs": [
        {
          "output_type": "display_data",
          "data": {
            "text/html": [
              "<iframe width=\"560\" height=\"315\" src=\"https://www.youtube-nocookie.com/embed/ClRrU6JuBOc\" frameborder=\"0\" allow=\"accelerometer; autoplay; clipboard-write; encrypted-media; gyroscope; picture-in-picture\" allowfullscreen></iframe>"
            ],
            "text/plain": [
              "<IPython.core.display.HTML object>"
            ]
          },
          "metadata": {
            "tags": []
          }
        }
      ]
    },
    {
      "cell_type": "code",
      "metadata": {
        "id": "jbVDrVYTJwWq",
        "cellView": "form",
        "outputId": "33ff5b97-3118-4682-ab8e-d5ac18460919",
        "colab": {
          "base_uri": "https://localhost:8080/",
          "height": 336
        }
      },
      "source": [
        "#@title Leslies' cube 2/2\n",
        "%%html\n",
        "<iframe width=\"560\" height=\"315\" src=\"https://www.youtube-nocookie.com/embed/4Pz8xcEQtMU\" frameborder=\"0\" allow=\"accelerometer; autoplay; clipboard-write; encrypted-media; gyroscope; picture-in-picture\" allowfullscreen></iframe>"
      ],
      "execution_count": null,
      "outputs": [
        {
          "output_type": "display_data",
          "data": {
            "text/html": [
              "<iframe width=\"560\" height=\"315\" src=\"https://www.youtube-nocookie.com/embed/4Pz8xcEQtMU\" frameborder=\"0\" allow=\"accelerometer; autoplay; clipboard-write; encrypted-media; gyroscope; picture-in-picture\" allowfullscreen></iframe>"
            ],
            "text/plain": [
              "<IPython.core.display.HTML object>"
            ]
          },
          "metadata": {
            "tags": []
          }
        }
      ]
    },
    {
      "cell_type": "markdown",
      "metadata": {
        "id": "_7Sz1fvhYCvT"
      },
      "source": [
        "#### 波動と電磁波\n",
        "\n",
        "$v:$波の速さ, $\\lambda:$波長, $T:$周期, $f:$振動数\n",
        "\\begin{align*}\n",
        "v = \\dfrac{\\lambda}{T} = \\lambda \\cdot f,\n",
        "\\end{align*}\n",
        "\n",
        "\n",
        "$c:$光速(電磁波), $\\lambda:$波長, $f:振動数$\n",
        "\\begin{align*}\n",
        "c = \\lambda \\cdot \\nu,\n",
        "\\end{align*}"
      ]
    },
    {
      "cell_type": "markdown",
      "metadata": {
        "id": "hWt6n70kHg1-"
      },
      "source": [
        "### プランクの法則"
      ]
    },
    {
      "cell_type": "markdown",
      "metadata": {
        "id": "vb9Xott0IUnj"
      },
      "source": [
        "鍛冶仕事で見られる黒体放射の例\n",
        "\n",
        "![https://en.wikipedia.org/wiki/Black-body_radiation](https://upload.wikimedia.org/wikipedia/commons/thumb/3/3e/Blacksmith_at_work.jpg/309px-Blacksmith_at_work.jpg)"
      ]
    },
    {
      "cell_type": "code",
      "metadata": {
        "id": "zoNsLKF2Hn1I",
        "cellView": "form",
        "outputId": "76552e71-2ae6-4c3d-8f03-63e38d628919",
        "colab": {
          "base_uri": "https://localhost:8080/",
          "height": 501
        }
      },
      "source": [
        "#@title Black-body radiation, 黒体放射\n",
        "%%svg\n",
        "https://upload.wikimedia.org/wikipedia/commons/1/19/Black_body.svg"
      ],
      "execution_count": 9,
      "outputs": [
        {
          "output_type": "display_data",
          "data": {
            "text/plain": [
              "<IPython.core.display.SVG object>"
            ],
            "image/svg+xml": "<svg height=\"480\" viewBox=\"0 0 600 480\" width=\"600\" xmlns=\"http://www.w3.org/2000/svg\">\n\n<desc>Produced by GNUPLOT 4.4 patchlevel 0, background spectrum based on http://commons.wikimedia.org/wiki/File:Linear_visible_spectrum.svg</desc>\n\n<defs>\n<linearGradient id=\"grad_spectrum\" x1=\"0%\" x2=\"100%\" y1=\"0%\" y2=\"0%\">\n<stop offset=\"0.000\" stop-color=\"#020005\"/>\n<stop offset=\"0.108\" stop-color=\"#17032a\"/>\n<stop offset=\"0.121\" stop-color=\"#1f053a\"/>\n<stop offset=\"0.135\" stop-color=\"#25084b\"/>\n<stop offset=\"0.148\" stop-color=\"#290a5c\"/>\n<stop offset=\"0.162\" stop-color=\"#2b0e6f\"/>\n<stop offset=\"0.175\" stop-color=\"#291380\"/>\n<stop offset=\"0.189\" stop-color=\"#1f237b\"/>\n<stop offset=\"0.202\" stop-color=\"#132e74\"/>\n<stop offset=\"0.216\" stop-color=\"#09376c\"/>\n<stop offset=\"0.229\" stop-color=\"#0a3e66\"/>\n<stop offset=\"0.243\" stop-color=\"#0c4667\"/>\n<stop offset=\"0.256\" stop-color=\"#0e4f6a\"/>\n<stop offset=\"0.270\" stop-color=\"#10596c\"/>\n<stop offset=\"0.283\" stop-color=\"#11636d\"/>\n<stop offset=\"0.297\" stop-color=\"#146e6f\"/>\n<stop offset=\"0.310\" stop-color=\"#177970\"/>\n<stop offset=\"0.324\" stop-color=\"#178672\"/>\n<stop offset=\"0.337\" stop-color=\"#1a9574\"/>\n<stop offset=\"0.351\" stop-color=\"#1da375\"/>\n<stop offset=\"0.364\" stop-color=\"#1db273\"/>\n<stop offset=\"0.378\" stop-color=\"#20c070\"/>\n<stop offset=\"0.391\" stop-color=\"#22cb6b\"/>\n<stop offset=\"0.405\" stop-color=\"#21d662\"/>\n<stop offset=\"0.418\" stop-color=\"#23e054\"/>\n<stop offset=\"0.432\" stop-color=\"#36e842\"/>\n<stop offset=\"0.445\" stop-color=\"#50ed28\"/>\n<stop offset=\"0.459\" stop-color=\"#73eb22\"/>\n<stop offset=\"0.472\" stop-color=\"#8fe722\"/>\n<stop offset=\"0.486\" stop-color=\"#a5e221\"/>\n<stop offset=\"0.500\" stop-color=\"#b9dc22\"/>\n<stop offset=\"0.513\" stop-color=\"#cbd621\"/>\n<stop offset=\"0.527\" stop-color=\"#dcce20\"/>\n<stop offset=\"0.540\" stop-color=\"#ecc420\"/>\n<stop offset=\"0.554\" stop-color=\"#f2b735\"/>\n<stop offset=\"0.567\" stop-color=\"#f5ab42\"/>\n<stop offset=\"0.581\" stop-color=\"#f69f49\"/>\n<stop offset=\"0.594\" stop-color=\"#f7944b\"/>\n<stop offset=\"0.608\" stop-color=\"#f98848\"/>\n<stop offset=\"0.621\" stop-color=\"#fa7b42\"/>\n<stop offset=\"0.635\" stop-color=\"#fb6c39\"/>\n<stop offset=\"0.648\" stop-color=\"#fd5b2e\"/>\n<stop offset=\"0.662\" stop-color=\"#fc471f\"/>\n<stop offset=\"0.675\" stop-color=\"#f7300f\"/>\n<stop offset=\"0.689\" stop-color=\"#ea220d\"/>\n<stop offset=\"0.702\" stop-color=\"#d42215\"/>\n<stop offset=\"0.716\" stop-color=\"#bf2318\"/>\n<stop offset=\"0.729\" stop-color=\"#a92309\"/>\n<stop offset=\"0.743\" stop-color=\"#981f07\"/>\n<stop offset=\"0.756\" stop-color=\"#871b06\"/>\n<stop offset=\"0.770\" stop-color=\"#771805\"/>\n<stop offset=\"0.783\" stop-color=\"#671504\"/>\n<stop offset=\"0.797\" stop-color=\"#591303\"/>\n<stop offset=\"0.810\" stop-color=\"#4d1103\"/>\n<stop offset=\"0.824\" stop-color=\"#420e02\"/>\n<stop offset=\"0.837\" stop-color=\"#370c01\"/>\n<stop offset=\"0.851\" stop-color=\"#2e0a01\"/>\n<stop offset=\"0.864\" stop-color=\"#270801\"/>\n<stop offset=\"0.878\" stop-color=\"#210600\"/>\n<stop offset=\"0.891\" stop-color=\"#1e0400\"/>\n<stop offset=\"0.905\" stop-color=\"#1a0300\"/>\n<stop offset=\"1.000\" stop-color=\"#040100\"/>\n</linearGradient>\n</defs>\n\n<path d=\"M144 18h62v395h-62z\" fill=\"url(#grad_spectrum)\" fill-opacity=\"0.25\"/>\n<g fill=\"#999999\" font-family=\"Arial\" font-size=\"12pt\" font-weight=\"bold\" stroke=\"none\" text-anchor=\"middle\">\n <switch><text systemLanguage=\"da\" x=\"120\" y=\"16\"><tspan>UV</tspan></text><text x=\"120\" y=\"16\"><tspan>UV</tspan></text></switch>\n <switch><text systemLanguage=\"da\" x=\"175\" y=\"16\"><tspan>SYNLIGT</tspan></text><text x=\"175\" y=\"16\"><tspan>VISIBLE</tspan></text></switch>\n <switch><text systemLanguage=\"da\" x=\"372\" y=\"16\"><tspan>INFRARØD</tspan></text><text x=\"372\" y=\"16\"><tspan>INFRARED</tspan></text></switch>\n</g>\n<g style=\"fill:none;stroke-width:1;stroke-linecap:butt;stroke-linejoin:miter\">\n<path d=\"M579.1 413.4L579.1 16.7M496.1 413.4L496.1 16.7M413 413.4L413 16.7M330 413.4L330 16.7M247 413.4L247 16.7M163.9 413.4L163.9 16.7M80.9 413.4L80.9 16.7M80.9 43.1L579.1 43.1M80.9 96L579.1 96M80.9 148.9L579.1 148.9M80.9 201.8L579.1 201.8M80.9 254.7L579.1 254.7M80.9 307.6L579.1 307.6M80.9 360.5L579.1 360.5M80.9 413.4L579.1 413.4M579.1 413.4L579.1 16.7M496.1 413.4L496.1 16.7M413 413.4L413 16.7M330 413.4L330 16.7M247 413.4L247 16.7M163.9 413.4L163.9 16.7M80.9 413.4L80.9 16.7M80.9 43.1L579.1 43.1M80.9 96L579.1 96M80.9 148.9L579.1 148.9M80.9 201.8L579.1 201.8M80.9 254.7L579.1 254.7M80.9 307.6L579.1 307.6M80.9 360.5L579.1 360.5M80.9 413.4L579.1 413.4\" stroke=\"rgb(173, 216, 230)\"/>\n\n<path d=\"M579.1 413.4L579.1 422.4M496.1 413.4L496.1 422.4M413 413.4L413 422.4M330 413.4L330 422.4M247 413.4L247 422.4M163.9 413.4L163.9 422.4M80.9 413.4L80.9 422.4M80.9 43.1L71.9 43.1M80.9 96L71.9 96M80.9 148.9L71.9 148.9M80.9 201.8L71.9 201.8M80.9 254.7L71.9 254.7M80.9 307.6L71.9 307.6M80.9 360.5L71.9 360.5M579.1 413.4L579.1 422.4M496.1 413.4L496.1 422.4M413 413.4L413 422.4M330 413.4L330 422.4M247 413.4L247 422.4M163.9 413.4L163.9 422.4M80.9 413.4L80.9 422.4M80.9 43.1L71.9 43.1M80.9 96L71.9 96M80.9 148.9L71.9 148.9M80.9 201.8L71.9 201.8M80.9 254.7L71.9 254.7M80.9 307.6L71.9 307.6M80.9 360.5L71.9 360.5M80.9 413.4L71.9 413.4\" style=\"stroke:black\"/>\n<path d=\"M80.9 16.7L80.9 413.4L579.1 413.4M579.1 16.7M80.9 16.7\" style=\"stroke:black\"/>\n<path d=\"M80.9 16.7L80.9 413.4L579.1 413.4M579.1 16.7M80.9 16.7M80.9 413.4L71.9 413.4\" style=\"stroke:black\"/>\n<path d=\"M80.9 16.7L80.9 413.4L579.1 413.4M579.1 16.7M80.9 16.7\" style=\"stroke:black\"/>\n<path d=\"M80.9 16.7L80.9 413.4L579.1 413.4M579.1 16.7M80.9 16.7\" style=\"stroke:black\"/>\n\n<g style=\"stroke:none;fill:black;font-family:Arial;font-size:12pt;text-anchor:end\">\n<g transform=\"translate(63.6,417.9)\">\n<switch><text><tspan>0</tspan></text></switch>\n</g>\n<g transform=\"translate(63.6,365.0)\">\n<switch><text><tspan>2</tspan></text></switch>\n</g>\n<g transform=\"translate(63.6,312.1)\">\n<switch><text><tspan> 4</tspan></text></switch>\n</g>\n<g transform=\"translate(63.6,259.2)\">\n<switch><text><tspan> 6</tspan>\n</text></switch>\n</g>\n<g transform=\"translate(63.6,206.3)\">\n<switch><text><tspan> 8</tspan>\n</text></switch>\n</g>\n<g transform=\"translate(63.6,153.4)\">\n<switch><text><tspan> 10</tspan>\n</text></switch>\n</g>\n<g transform=\"translate(63.6,100.5)\">\n<switch><text><tspan> 12</tspan>\n</text></switch>\n</g>\n<g transform=\"translate(63.6,47.6)\">\n<switch><text><tspan> 14</tspan>\n</text></switch>\n</g>\n<g style=\"text-anchor:middle\" transform=\"translate(80.9,444.9)\">\n<switch><text><tspan> 0</tspan>\n</text></switch>\n</g>\n<g style=\"text-anchor:middle\" transform=\"translate(163.9,444.9)\">\n<switch><text><tspan> 0.5</tspan>\n</text></switch>\n</g>\n<g style=\"text-anchor:middle\" transform=\"translate(247.0,444.9)\">\n<switch><text><tspan> 1</tspan>\n</text></switch>\n</g>\n<g style=\"text-anchor:middle\" transform=\"translate(330.0,444.9)\">\n<switch><text><tspan> 1.5</tspan>\n</text></switch>\n</g>\n<g style=\"text-anchor:middle\" transform=\"translate(413.0,444.9)\">\n<switch><text><tspan> 2</tspan>\n</text></switch>\n</g>\n<g style=\"text-anchor:middle\" transform=\"translate(496.1,444.9)\">\n<switch><text><tspan> 2.5</tspan>\n</text></switch>\n</g>\n<g style=\"text-anchor:middle\" transform=\"translate(579.1,444.9)\">\n<switch><text><tspan> 3</tspan>\n</text></switch>\n</g>\n<g style=\"text-anchor:middle\" transform=\"translate(25.9,215.1) rotate(270)\">\n<switch><text systemLanguage=\"da\"><tspan>Spectral intensitet (kW · sr⁻¹ · m⁻² · nm⁻¹)</tspan>\n</text><text><tspan>Spectral radiance (kW · sr⁻¹ · m⁻² · nm⁻¹)</tspan>\n</text></switch>\n</g>\n<g style=\"text-anchor:middle\" transform=\"translate(330.0,471.9)\">\n<switch><text systemLanguage=\"da\"><tspan>Bølgelængde (µm)</tspan>\n</text><text><tspan>Wavelength (μm)</tspan>\n</text></switch>\n</g>\n<g style=\"text-anchor:start\" transform=\"translate(155.6,71.4)\">\n<switch><text><tspan>5000 K</tspan>\n</text></switch>\n</g>\n<g style=\"text-anchor:start\" transform=\"translate(180.5,297.6)\">\n<switch><text><tspan>4000 K</tspan>\n</text></switch>\n</g>\n<g style=\"text-anchor:start\" transform=\"translate(213.8,380.9)\">\n<switch><text><tspan>3000 K</tspan>\n</text></switch>\n</g>\n<g style=\"text-anchor:start\" transform=\"translate(338.3,127.0)\">\n<switch><text systemLanguage=\"da\"><tspan>Klassisk teori (5000 K)</tspan>\n</text><text><tspan>Classical theory (5000 K)</tspan>\n</text></switch>\n</g>\n</g>\n<g style=\"stroke:red;stroke-width:2\">\n<path d=\"M85.9 413.4L91 413.4L96 413.4L101 413.4L106.1 413.4L111.1 413.4L116.1 413.4L121.2 413.4L126.2 413.4L131.2 413.2L136.3 413L141.3 412.5L146.3 411.7L151.4 410.6L156.4 409.2L161.4 407.5L166.4 405.6L171.5 403.6L176.5 401.5L181.5 399.4L186.6 397.4L191.6 395.5L196.6 393.8L201.7 392.3L206.7 391L211.7 389.9L216.8 389L221.8 388.3L226.8 387.8L231.9 387.4L236.9 387.2L241.9 387.2L247 387.3L252 387.4L257 387.7L262.1 388.1L267.1 388.5L272.1 388.9L277.2 389.5L282.2 390L287.2 390.6L292.3 391.2L297.3 391.8L302.3 392.4L307.4 393L312.4 393.6L317.4 394.3L322.5 394.9L327.5 395.5L332.5 396.1L337.5 396.6L342.6 397.2L347.6 397.8L352.6 398.3L357.7 398.8L362.7 399.3L367.7 399.8L372.8 400.3L377.8 400.8L382.8 401.2L387.9 401.6L392.9 402.1L397.9 402.5L403 402.8L408 403.2L413 403.6L418.1 403.9L423.1 404.3L428.1 404.6L433.2 404.9L438.2 405.2L443.2 405.5L448.3 405.7L453.3 406L458.3 406.2L463.4 406.5L468.4 406.7L473.4 406.9L478.5 407.2L483.5 407.4L488.5 407.6L493.6 407.8L498.6 407.9L503.6 408.1L508.6 408.3L513.7 408.5L518.7 408.6L523.7 408.8L528.8 408.9L533.8 409.1L538.8 409.2L543.9 409.3L548.9 409.5L553.9 409.6L559 409.7L564 409.8L569 409.9L574.1 410L579.1 410.1\"/>\n</g>\n<g style=\"stroke:green;stroke-width:2\">\n<path d=\"M85.9 413.4L91 413.4L96 413.4L101 413.4L106.1 413.4L111.1 413.4L116.1 413.1L121.2 412.1L126.2 409.5L131.2 404.9L136.3 397.8L141.3 388.6L146.3 377.8L151.4 366.1L156.4 354.4L161.4 343.3L166.4 333.3L171.5 324.6L176.5 317.4L181.5 311.8L186.6 307.7L191.6 304.9L196.6 303.4L201.7 303L206.7 303.5L211.7 304.7L216.8 306.6L221.8 309L226.8 311.8L231.9 314.8L236.9 318L241.9 321.4L247 324.9L252 328.4L257 331.9L262.1 335.3L267.1 338.7L272.1 342L277.2 345.2L282.2 348.3L287.2 351.3L292.3 354.1L297.3 356.9L302.3 359.5L307.4 362L312.4 364.4L317.4 366.7L322.5 368.9L327.5 371L332.5 373L337.5 374.8L342.6 376.6L347.6 378.3L352.6 379.9L357.7 381.4L362.7 382.9L367.7 384.3L372.8 385.6L377.8 386.8L382.8 388L387.9 389.1L392.9 390.2L397.9 391.2L403 392.1L408 393L413 393.9L418.1 394.7L423.1 395.5L428.1 396.2L433.2 396.9L438.2 397.6L443.2 398.2L448.3 398.9L453.3 399.4L458.3 400L463.4 400.5L468.4 401L473.4 401.5L478.5 401.9L483.5 402.4L488.5 402.8L493.6 403.2L498.6 403.6L503.6 403.9L508.6 404.3L513.7 404.6L518.7 404.9L523.7 405.2L528.8 405.5L533.8 405.8L538.8 406L543.9 406.3L548.9 406.5L553.9 406.8L559 407L564 407.2L569 407.4L574.1 407.6L579.1 407.8\"/>\n</g>\n<g style=\"stroke:blue;stroke-width:2\">\n<path d=\"M85.9 413.4L91 413.4L96 413.4L101 413.4L106.1 413.2L111.1 411.3L116.1 404.1L121.2 387.4L126.2 359.4L131.2 321.6L136.3 278.1L141.3 233.5L146.3 191.6L151.4 155.1L156.4 125.5L161.4 103.3L166.4 88.2L171.5 79.6L176.5 76.4L181.5 77.9L186.6 83L191.6 91L196.6 101L201.7 112.5L206.7 125L211.7 138L216.8 151.3L221.8 164.6L226.8 177.7L231.9 190.4L236.9 202.8L241.9 214.6L247 226L252 236.8L257 247L262.1 256.7L267.1 265.8L272.1 274.4L277.2 282.4L282.2 290L287.2 297.1L292.3 303.8L297.3 310L302.3 315.9L307.4 321.4L312.4 326.5L317.4 331.3L322.5 335.9L327.5 340.1L332.5 344L337.5 347.8L342.6 351.2L347.6 354.5L352.6 357.6L357.7 360.5L362.7 363.2L367.7 365.7L372.8 368.1L377.8 370.3L382.8 372.5L387.9 374.4L392.9 376.3L397.9 378.1L403 379.8L408 381.3L413 382.8L418.1 384.2L423.1 385.5L428.1 386.8L433.2 388L438.2 389.1L443.2 390.2L448.3 391.2L453.3 392.1L458.3 393L463.4 393.9L468.4 394.7L473.4 395.5L478.5 396.2L483.5 396.9L488.5 397.6L493.6 398.2L498.6 398.8L503.6 399.4L508.6 399.9L513.7 400.4L518.7 400.9L523.7 401.4L528.8 401.8L533.8 402.3L538.8 402.7L543.9 403.1L548.9 403.4L553.9 403.8L559 404.1L564 404.5L569 404.8L574.1 405.1L579.1 405.3\"/>\n</g>\n<g style=\"stroke:none;fill:black;font-family:Arial;font-size:12pt;text-anchor:end\">\n<g transform=\"translate(63.6,417.9)\">\n<switch><text><tspan> 0</tspan>\n</text></switch>\n</g>\n<g transform=\"translate(63.6,365.0)\">\n<switch><text><tspan> 2</tspan>\n</text></switch>\n</g>\n<g transform=\"translate(63.6,312.1)\">\n<switch><text><tspan> 4</tspan>\n</text></switch>\n</g>\n<g transform=\"translate(63.6,259.2)\">\n<switch><text><tspan> 6</tspan>\n</text></switch>\n</g>\n<g transform=\"translate(63.6,206.3)\">\n<switch><text><tspan> 8</tspan>\n</text></switch>\n</g>\n<g transform=\"translate(63.6,153.4)\">\n<switch><text><tspan> 10</tspan>\n</text></switch>\n</g>\n<g transform=\"translate(63.6,100.5)\">\n<switch><text><tspan> 12</tspan>\n</text></switch>\n</g>\n<g transform=\"translate(63.6,47.6)\">\n<switch><text><tspan> 14</tspan>\n</text></switch>\n</g>\n<g style=\"text-anchor:middle\" transform=\"translate(80.9,444.9)\">\n<switch><text><tspan> 0</tspan>\n</text></switch>\n</g>\n<g style=\"text-anchor:middle\" transform=\"translate(163.9,444.9)\">\n<switch><text><tspan> 0.5</tspan>\n</text></switch>\n</g>\n<g style=\"text-anchor:middle\" transform=\"translate(247.0,444.9)\">\n<switch><text><tspan> 1</tspan>\n</text></switch>\n</g>\n<g style=\"text-anchor:middle\" transform=\"translate(330.0,444.9)\">\n<switch><text><tspan> 1.5</tspan>\n</text></switch>\n</g>\n<g style=\"text-anchor:middle\" transform=\"translate(413.0,444.9)\">\n<switch><text><tspan> 2</tspan>\n</text></switch>\n</g>\n<g style=\"text-anchor:middle\" transform=\"translate(496.1,444.9)\">\n<switch><text><tspan> 2.5</tspan>\n</text></switch>\n</g>\n<g style=\"text-anchor:middle\" transform=\"translate(579.1,444.9)\">\n<switch><text><tspan> 3</tspan>\n</text></switch>\n</g>\n<g style=\"text-anchor:middle\" transform=\"translate(25.9,215.1) rotate(270)\">\n<switch><text systemLanguage=\"da\"><tspan> Spectral intensitet (kW · sr⁻¹ · m⁻² · nm⁻¹)</tspan>\n</text><text><tspan>Spectral radiance (kW · sr⁻¹ · m⁻² · nm⁻¹)</tspan>\n</text></switch>\n</g>\n<g style=\"text-anchor:middle\" transform=\"translate(330.0,471.9)\">\n<switch><text systemLanguage=\"da\"><tspan> Bølgelængde (µm)</tspan>\n</text><text><tspan>Wavelength (μm)</tspan>\n</text></switch>\n</g>\n<g style=\"text-anchor:start\" transform=\"translate(155.6,71.4)\">\n<switch><text><tspan>5000 K</tspan>\n</text></switch>\n</g>\n<g style=\"text-anchor:start\" transform=\"translate(180.5,297.6)\">\n<switch><text><tspan>4000 K</tspan>\n</text></switch>\n</g>\n<g style=\"text-anchor:start\" transform=\"translate(213.8,380.9)\">\n<switch><text><tspan>3000 K</tspan>\n</text></switch>\n</g>\n<g style=\"text-anchor:start\" transform=\"translate(338.3,127.0)\">\n<switch><text systemLanguage=\"da\"><tspan>Klassisk teori (5000 K)</tspan>\n</text><text><tspan>Classical theory (5000 K)</tspan>\n</text></switch>\n</g>\n</g>\n<path d=\"M295 16.7L297.3 33.6L302.3 67L307.4 96.8L312.4 123.4L317.4 147.3L322.5 168.8L327.5 188.2L332.5 205.6L337.5 221.5L342.6 235.8L347.6 248.8L352.6 260.7L357.7 271.5L362.7 281.4L367.7 290.4L372.8 298.7L377.8 306.2L382.8 313.2L387.9 319.6L392.9 325.5L397.9 331L403 336L408 340.7L413 345L418.1 349L423.1 352.7L428.1 356.1L433.2 359.3L438.2 362.3L443.2 365.1L448.3 367.7L453.3 370.1L458.3 372.4L463.4 374.5L468.4 376.5L473.4 378.3L478.5 380.1L483.5 381.7L488.5 383.2L493.6 384.7L498.6 386L503.6 387.3L508.6 388.5L513.7 389.7L518.7 390.7L523.7 391.7L528.8 392.7L533.8 393.6L538.8 394.5L543.9 395.3L548.9 396L553.9 396.8L559 397.5L564 398.1L569 398.7L574.1 399.3L579.1 399.9\" style=\"stroke:#000;stroke-width:2\"/>\n</g>\n</svg>"
          },
          "metadata": {
            "tags": []
          }
        }
      ]
    },
    {
      "cell_type": "markdown",
      "metadata": {
        "id": "VUORFv3gaPRN"
      },
      "source": [
        "##### プランクの法則の理論的解釈\n",
        "\n",
        "> 放射される(光子の)エネルギーを(偏光も含めて, 統計力学を利用して)数え上げる\n",
        "\n",
        "1. 波動は波数 $|\\vec{k}|=\\sqrt{k_x^2 + k_y^2 + k_z^2}=k=2\\pi/\\lambda$ を利用することによって数を数えることができます.  \n",
        "2. 一辺の長さが $L$ の立方体の中に存在する固有振動の数を勘定します.  \n",
        "3. ここでは全空間をおおうために, 箱の表面で周期境界条件を適用します.  \n",
        "4. 固有振動としては, 三次元の各方向に $2\\pi/L$ の整数倍だけが許されます[p144, 図12.20(b)].\n",
        "\n",
        "\\begin{align*}\n",
        "N(\\nu) {\\rm d} \\nu = \\dfrac{4\\pi k^2 {\\rm d} k}{(2\\pi/L)^3} \\times 2 = \\dfrac{8\\pi L^3}{c^3} \\nu^2 {\\rm d} \\nu\n",
        "\\end{align*}\n",
        "\n",
        "\n",
        "\n"
      ]
    },
    {
      "cell_type": "markdown",
      "metadata": {
        "id": "UyTsZw_OP-Rn"
      },
      "source": [
        "ここは, 天下り出来ですが\n",
        "- **プランク定数**: $\\quad h = 6.626 \\times 10^{-34} {\\rm \\ J\\cdot s}$\n",
        "- 光子(1個)のエネルギー: $\\quad \\epsilon = h \\nu$\n",
        "- 温度 $T$ で, $n$ の光子が存在する確率: $\\quad e^{- n \\epsilon/k_{\\rm B}T}$\n",
        "  - 存在する全ての確率を加えたもの(分配関数) $\\quad Z = \\sum_{n=0}^{\\infty} e^{- n \\epsilon/k_{\\rm B}T} = 1/(1-e^{-\\epsilon/k_{\\rm B}T})$\n",
        "\n",
        "として, 光子あたりのエネルギー密度 $U(\\nu)$ を次のように求めます.\n",
        "\n",
        "\\begin{align*}\n",
        "U(\\nu) {\\rm d}\\nu \n",
        "&= \\sum_{n=0}^{\\infty} \\dfrac{n \\epsilon e^{- n \\epsilon/k_{\\rm B}T}}{Z} N(\\nu) {\\rm d}\\nu\n",
        "= \\left[ -\\dfrac{\\partial}{\\partial\\left( \\frac{1}{k_{\\rm B}T}\\right)} \\ln Z \\right]  N(\\nu) {\\rm d}\\nu\\\\\n",
        "&=\\dfrac{h \\nu}{e^{\\epsilon/k_{\\rm B}T}-1} \\dfrac{8\\pi L^3}{c^3} \\nu^2 {\\rm d} \\nu.\n",
        "\\end{align*}"
      ]
    },
    {
      "cell_type": "markdown",
      "metadata": {
        "id": "dRbbTr0eZ3T1"
      },
      "source": [
        "この式を単位体積あたりで規格化すると\n",
        "\\begin{align*}\n",
        "u(\\nu, T) {\\rm d}\\nu \n",
        "&= \\dfrac{U(\\nu)}{L^3} {\\rm d}\\nu \\\\\n",
        "&= \\dfrac{8 \\pi h \\nu^3}{c^3} \\dfrac{1}{e^{\\epsilon/k_{\\rm B}T}-1} {\\rm d} \\nu.\n",
        "\\end{align*}\n",
        "\n",
        "$c=\\lambda \\cdot \\nu$ に注意して $\\nu \\to \\lambda$ と積分2つ注意して変換すると\n",
        "\\begin{align*}\n",
        "u(\\lambda, T)\n",
        "&= - u(\\nu, T) \\dfrac{{\\rm d} \\nu}{{\\rm d} \\lambda}\\\\\n",
        "&= + u(\\nu, T) \\dfrac{ \\nu}{\\lambda}\\\\\n",
        "&= \\dfrac{8\\pi h c}{\\lambda^5} \\dfrac{1}{e^{hc/\\lambda k_{\\rm B}T}-1}\n",
        "\\end{align*}"
      ]
    },
    {
      "cell_type": "markdown",
      "metadata": {
        "id": "cWcb8VetcVKk"
      },
      "source": [
        "強度を導出するには, 黒体を小さな穴から観察する事を考える.\n",
        "- 内部の黒体の半分から小さな穴へ向かってくる\n",
        "- 小さな穴に届く場合と届かない場合がある\n",
        "\n",
        "\\begin{align*}\n",
        "I(\\lambda, T) \n",
        "&= \\dfrac{1}{2} \\left[ \\dfrac{u(\\lambda, T) \\ c}{2\\pi}\\right]\\\\\n",
        "&= \\dfrac{2 h c}{\\lambda^5} \\dfrac{1}{e^{hc/\\lambda k_{\\rm B}T}-1}\n",
        "\\end{align*}\n",
        "\n",
        "---\n",
        "https://nanohub.org/wiki/DerivationofPlancksLaw"
      ]
    },
    {
      "cell_type": "markdown",
      "metadata": {
        "id": "VsRPMNmmeDAb"
      },
      "source": [
        "### ウィーンの変位則"
      ]
    },
    {
      "cell_type": "code",
      "metadata": {
        "cellView": "form",
        "id": "MtpwuLmCeW-9",
        "outputId": "76552e71-2ae6-4c3d-8f03-63e38d628919",
        "colab": {
          "base_uri": "https://localhost:8080/",
          "height": 501
        }
      },
      "source": [
        "#@title Black-body radiation, 黒体放射\n",
        "%%svg\n",
        "https://upload.wikimedia.org/wikipedia/commons/1/19/Black_body.svg"
      ],
      "execution_count": null,
      "outputs": [
        {
          "output_type": "display_data",
          "data": {
            "text/plain": [
              "<IPython.core.display.SVG object>"
            ],
            "image/svg+xml": "<svg height=\"480\" viewBox=\"0 0 600 480\" width=\"600\" xmlns=\"http://www.w3.org/2000/svg\">\n\n<desc>Produced by GNUPLOT 4.4 patchlevel 0, background spectrum based on http://commons.wikimedia.org/wiki/File:Linear_visible_spectrum.svg</desc>\n\n<defs>\n<linearGradient id=\"grad_spectrum\" x1=\"0%\" x2=\"100%\" y1=\"0%\" y2=\"0%\">\n<stop offset=\"0.000\" stop-color=\"#020005\"/>\n<stop offset=\"0.108\" stop-color=\"#17032a\"/>\n<stop offset=\"0.121\" stop-color=\"#1f053a\"/>\n<stop offset=\"0.135\" stop-color=\"#25084b\"/>\n<stop offset=\"0.148\" stop-color=\"#290a5c\"/>\n<stop offset=\"0.162\" stop-color=\"#2b0e6f\"/>\n<stop offset=\"0.175\" stop-color=\"#291380\"/>\n<stop offset=\"0.189\" stop-color=\"#1f237b\"/>\n<stop offset=\"0.202\" stop-color=\"#132e74\"/>\n<stop offset=\"0.216\" stop-color=\"#09376c\"/>\n<stop offset=\"0.229\" stop-color=\"#0a3e66\"/>\n<stop offset=\"0.243\" stop-color=\"#0c4667\"/>\n<stop offset=\"0.256\" stop-color=\"#0e4f6a\"/>\n<stop offset=\"0.270\" stop-color=\"#10596c\"/>\n<stop offset=\"0.283\" stop-color=\"#11636d\"/>\n<stop offset=\"0.297\" stop-color=\"#146e6f\"/>\n<stop offset=\"0.310\" stop-color=\"#177970\"/>\n<stop offset=\"0.324\" stop-color=\"#178672\"/>\n<stop offset=\"0.337\" stop-color=\"#1a9574\"/>\n<stop offset=\"0.351\" stop-color=\"#1da375\"/>\n<stop offset=\"0.364\" stop-color=\"#1db273\"/>\n<stop offset=\"0.378\" stop-color=\"#20c070\"/>\n<stop offset=\"0.391\" stop-color=\"#22cb6b\"/>\n<stop offset=\"0.405\" stop-color=\"#21d662\"/>\n<stop offset=\"0.418\" stop-color=\"#23e054\"/>\n<stop offset=\"0.432\" stop-color=\"#36e842\"/>\n<stop offset=\"0.445\" stop-color=\"#50ed28\"/>\n<stop offset=\"0.459\" stop-color=\"#73eb22\"/>\n<stop offset=\"0.472\" stop-color=\"#8fe722\"/>\n<stop offset=\"0.486\" stop-color=\"#a5e221\"/>\n<stop offset=\"0.500\" stop-color=\"#b9dc22\"/>\n<stop offset=\"0.513\" stop-color=\"#cbd621\"/>\n<stop offset=\"0.527\" stop-color=\"#dcce20\"/>\n<stop offset=\"0.540\" stop-color=\"#ecc420\"/>\n<stop offset=\"0.554\" stop-color=\"#f2b735\"/>\n<stop offset=\"0.567\" stop-color=\"#f5ab42\"/>\n<stop offset=\"0.581\" stop-color=\"#f69f49\"/>\n<stop offset=\"0.594\" stop-color=\"#f7944b\"/>\n<stop offset=\"0.608\" stop-color=\"#f98848\"/>\n<stop offset=\"0.621\" stop-color=\"#fa7b42\"/>\n<stop offset=\"0.635\" stop-color=\"#fb6c39\"/>\n<stop offset=\"0.648\" stop-color=\"#fd5b2e\"/>\n<stop offset=\"0.662\" stop-color=\"#fc471f\"/>\n<stop offset=\"0.675\" stop-color=\"#f7300f\"/>\n<stop offset=\"0.689\" stop-color=\"#ea220d\"/>\n<stop offset=\"0.702\" stop-color=\"#d42215\"/>\n<stop offset=\"0.716\" stop-color=\"#bf2318\"/>\n<stop offset=\"0.729\" stop-color=\"#a92309\"/>\n<stop offset=\"0.743\" stop-color=\"#981f07\"/>\n<stop offset=\"0.756\" stop-color=\"#871b06\"/>\n<stop offset=\"0.770\" stop-color=\"#771805\"/>\n<stop offset=\"0.783\" stop-color=\"#671504\"/>\n<stop offset=\"0.797\" stop-color=\"#591303\"/>\n<stop offset=\"0.810\" stop-color=\"#4d1103\"/>\n<stop offset=\"0.824\" stop-color=\"#420e02\"/>\n<stop offset=\"0.837\" stop-color=\"#370c01\"/>\n<stop offset=\"0.851\" stop-color=\"#2e0a01\"/>\n<stop offset=\"0.864\" stop-color=\"#270801\"/>\n<stop offset=\"0.878\" stop-color=\"#210600\"/>\n<stop offset=\"0.891\" stop-color=\"#1e0400\"/>\n<stop offset=\"0.905\" stop-color=\"#1a0300\"/>\n<stop offset=\"1.000\" stop-color=\"#040100\"/>\n</linearGradient>\n</defs>\n\n<path d=\"M144 18h62v395h-62z\" fill=\"url(#grad_spectrum)\" fill-opacity=\"0.25\"/>\n<g fill=\"#999999\" font-family=\"Arial\" font-size=\"12pt\" font-weight=\"bold\" stroke=\"none\" text-anchor=\"middle\">\n <switch><text systemLanguage=\"da\" x=\"120\" y=\"16\"><tspan>UV</tspan></text><text x=\"120\" y=\"16\"><tspan>UV</tspan></text></switch>\n <switch><text systemLanguage=\"da\" x=\"175\" y=\"16\"><tspan>SYNLIGT</tspan></text><text x=\"175\" y=\"16\"><tspan>VISIBLE</tspan></text></switch>\n <switch><text systemLanguage=\"da\" x=\"372\" y=\"16\"><tspan>INFRARØD</tspan></text><text x=\"372\" y=\"16\"><tspan>INFRARED</tspan></text></switch>\n</g>\n<g style=\"fill:none;stroke-width:1;stroke-linecap:butt;stroke-linejoin:miter\">\n<path d=\"M579.1 413.4L579.1 16.7M496.1 413.4L496.1 16.7M413 413.4L413 16.7M330 413.4L330 16.7M247 413.4L247 16.7M163.9 413.4L163.9 16.7M80.9 413.4L80.9 16.7M80.9 43.1L579.1 43.1M80.9 96L579.1 96M80.9 148.9L579.1 148.9M80.9 201.8L579.1 201.8M80.9 254.7L579.1 254.7M80.9 307.6L579.1 307.6M80.9 360.5L579.1 360.5M80.9 413.4L579.1 413.4M579.1 413.4L579.1 16.7M496.1 413.4L496.1 16.7M413 413.4L413 16.7M330 413.4L330 16.7M247 413.4L247 16.7M163.9 413.4L163.9 16.7M80.9 413.4L80.9 16.7M80.9 43.1L579.1 43.1M80.9 96L579.1 96M80.9 148.9L579.1 148.9M80.9 201.8L579.1 201.8M80.9 254.7L579.1 254.7M80.9 307.6L579.1 307.6M80.9 360.5L579.1 360.5M80.9 413.4L579.1 413.4\" stroke=\"rgb(173, 216, 230)\"/>\n\n<path d=\"M579.1 413.4L579.1 422.4M496.1 413.4L496.1 422.4M413 413.4L413 422.4M330 413.4L330 422.4M247 413.4L247 422.4M163.9 413.4L163.9 422.4M80.9 413.4L80.9 422.4M80.9 43.1L71.9 43.1M80.9 96L71.9 96M80.9 148.9L71.9 148.9M80.9 201.8L71.9 201.8M80.9 254.7L71.9 254.7M80.9 307.6L71.9 307.6M80.9 360.5L71.9 360.5M579.1 413.4L579.1 422.4M496.1 413.4L496.1 422.4M413 413.4L413 422.4M330 413.4L330 422.4M247 413.4L247 422.4M163.9 413.4L163.9 422.4M80.9 413.4L80.9 422.4M80.9 43.1L71.9 43.1M80.9 96L71.9 96M80.9 148.9L71.9 148.9M80.9 201.8L71.9 201.8M80.9 254.7L71.9 254.7M80.9 307.6L71.9 307.6M80.9 360.5L71.9 360.5M80.9 413.4L71.9 413.4\" style=\"stroke:black\"/>\n<path d=\"M80.9 16.7L80.9 413.4L579.1 413.4M579.1 16.7M80.9 16.7\" style=\"stroke:black\"/>\n<path d=\"M80.9 16.7L80.9 413.4L579.1 413.4M579.1 16.7M80.9 16.7M80.9 413.4L71.9 413.4\" style=\"stroke:black\"/>\n<path d=\"M80.9 16.7L80.9 413.4L579.1 413.4M579.1 16.7M80.9 16.7\" style=\"stroke:black\"/>\n<path d=\"M80.9 16.7L80.9 413.4L579.1 413.4M579.1 16.7M80.9 16.7\" style=\"stroke:black\"/>\n\n<g style=\"stroke:none;fill:black;font-family:Arial;font-size:12pt;text-anchor:end\">\n<g transform=\"translate(63.6,417.9)\">\n<switch><text><tspan>0</tspan></text></switch>\n</g>\n<g transform=\"translate(63.6,365.0)\">\n<switch><text><tspan>2</tspan></text></switch>\n</g>\n<g transform=\"translate(63.6,312.1)\">\n<switch><text><tspan> 4</tspan></text></switch>\n</g>\n<g transform=\"translate(63.6,259.2)\">\n<switch><text><tspan> 6</tspan>\n</text></switch>\n</g>\n<g transform=\"translate(63.6,206.3)\">\n<switch><text><tspan> 8</tspan>\n</text></switch>\n</g>\n<g transform=\"translate(63.6,153.4)\">\n<switch><text><tspan> 10</tspan>\n</text></switch>\n</g>\n<g transform=\"translate(63.6,100.5)\">\n<switch><text><tspan> 12</tspan>\n</text></switch>\n</g>\n<g transform=\"translate(63.6,47.6)\">\n<switch><text><tspan> 14</tspan>\n</text></switch>\n</g>\n<g style=\"text-anchor:middle\" transform=\"translate(80.9,444.9)\">\n<switch><text><tspan> 0</tspan>\n</text></switch>\n</g>\n<g style=\"text-anchor:middle\" transform=\"translate(163.9,444.9)\">\n<switch><text><tspan> 0.5</tspan>\n</text></switch>\n</g>\n<g style=\"text-anchor:middle\" transform=\"translate(247.0,444.9)\">\n<switch><text><tspan> 1</tspan>\n</text></switch>\n</g>\n<g style=\"text-anchor:middle\" transform=\"translate(330.0,444.9)\">\n<switch><text><tspan> 1.5</tspan>\n</text></switch>\n</g>\n<g style=\"text-anchor:middle\" transform=\"translate(413.0,444.9)\">\n<switch><text><tspan> 2</tspan>\n</text></switch>\n</g>\n<g style=\"text-anchor:middle\" transform=\"translate(496.1,444.9)\">\n<switch><text><tspan> 2.5</tspan>\n</text></switch>\n</g>\n<g style=\"text-anchor:middle\" transform=\"translate(579.1,444.9)\">\n<switch><text><tspan> 3</tspan>\n</text></switch>\n</g>\n<g style=\"text-anchor:middle\" transform=\"translate(25.9,215.1) rotate(270)\">\n<switch><text systemLanguage=\"da\"><tspan>Spectral intensitet (kW · sr⁻¹ · m⁻² · nm⁻¹)</tspan>\n</text><text><tspan>Spectral radiance (kW · sr⁻¹ · m⁻² · nm⁻¹)</tspan>\n</text></switch>\n</g>\n<g style=\"text-anchor:middle\" transform=\"translate(330.0,471.9)\">\n<switch><text systemLanguage=\"da\"><tspan>Bølgelængde (µm)</tspan>\n</text><text><tspan>Wavelength (μm)</tspan>\n</text></switch>\n</g>\n<g style=\"text-anchor:start\" transform=\"translate(155.6,71.4)\">\n<switch><text><tspan>5000 K</tspan>\n</text></switch>\n</g>\n<g style=\"text-anchor:start\" transform=\"translate(180.5,297.6)\">\n<switch><text><tspan>4000 K</tspan>\n</text></switch>\n</g>\n<g style=\"text-anchor:start\" transform=\"translate(213.8,380.9)\">\n<switch><text><tspan>3000 K</tspan>\n</text></switch>\n</g>\n<g style=\"text-anchor:start\" transform=\"translate(338.3,127.0)\">\n<switch><text systemLanguage=\"da\"><tspan>Klassisk teori (5000 K)</tspan>\n</text><text><tspan>Classical theory (5000 K)</tspan>\n</text></switch>\n</g>\n</g>\n<g style=\"stroke:red;stroke-width:2\">\n<path d=\"M85.9 413.4L91 413.4L96 413.4L101 413.4L106.1 413.4L111.1 413.4L116.1 413.4L121.2 413.4L126.2 413.4L131.2 413.2L136.3 413L141.3 412.5L146.3 411.7L151.4 410.6L156.4 409.2L161.4 407.5L166.4 405.6L171.5 403.6L176.5 401.5L181.5 399.4L186.6 397.4L191.6 395.5L196.6 393.8L201.7 392.3L206.7 391L211.7 389.9L216.8 389L221.8 388.3L226.8 387.8L231.9 387.4L236.9 387.2L241.9 387.2L247 387.3L252 387.4L257 387.7L262.1 388.1L267.1 388.5L272.1 388.9L277.2 389.5L282.2 390L287.2 390.6L292.3 391.2L297.3 391.8L302.3 392.4L307.4 393L312.4 393.6L317.4 394.3L322.5 394.9L327.5 395.5L332.5 396.1L337.5 396.6L342.6 397.2L347.6 397.8L352.6 398.3L357.7 398.8L362.7 399.3L367.7 399.8L372.8 400.3L377.8 400.8L382.8 401.2L387.9 401.6L392.9 402.1L397.9 402.5L403 402.8L408 403.2L413 403.6L418.1 403.9L423.1 404.3L428.1 404.6L433.2 404.9L438.2 405.2L443.2 405.5L448.3 405.7L453.3 406L458.3 406.2L463.4 406.5L468.4 406.7L473.4 406.9L478.5 407.2L483.5 407.4L488.5 407.6L493.6 407.8L498.6 407.9L503.6 408.1L508.6 408.3L513.7 408.5L518.7 408.6L523.7 408.8L528.8 408.9L533.8 409.1L538.8 409.2L543.9 409.3L548.9 409.5L553.9 409.6L559 409.7L564 409.8L569 409.9L574.1 410L579.1 410.1\"/>\n</g>\n<g style=\"stroke:green;stroke-width:2\">\n<path d=\"M85.9 413.4L91 413.4L96 413.4L101 413.4L106.1 413.4L111.1 413.4L116.1 413.1L121.2 412.1L126.2 409.5L131.2 404.9L136.3 397.8L141.3 388.6L146.3 377.8L151.4 366.1L156.4 354.4L161.4 343.3L166.4 333.3L171.5 324.6L176.5 317.4L181.5 311.8L186.6 307.7L191.6 304.9L196.6 303.4L201.7 303L206.7 303.5L211.7 304.7L216.8 306.6L221.8 309L226.8 311.8L231.9 314.8L236.9 318L241.9 321.4L247 324.9L252 328.4L257 331.9L262.1 335.3L267.1 338.7L272.1 342L277.2 345.2L282.2 348.3L287.2 351.3L292.3 354.1L297.3 356.9L302.3 359.5L307.4 362L312.4 364.4L317.4 366.7L322.5 368.9L327.5 371L332.5 373L337.5 374.8L342.6 376.6L347.6 378.3L352.6 379.9L357.7 381.4L362.7 382.9L367.7 384.3L372.8 385.6L377.8 386.8L382.8 388L387.9 389.1L392.9 390.2L397.9 391.2L403 392.1L408 393L413 393.9L418.1 394.7L423.1 395.5L428.1 396.2L433.2 396.9L438.2 397.6L443.2 398.2L448.3 398.9L453.3 399.4L458.3 400L463.4 400.5L468.4 401L473.4 401.5L478.5 401.9L483.5 402.4L488.5 402.8L493.6 403.2L498.6 403.6L503.6 403.9L508.6 404.3L513.7 404.6L518.7 404.9L523.7 405.2L528.8 405.5L533.8 405.8L538.8 406L543.9 406.3L548.9 406.5L553.9 406.8L559 407L564 407.2L569 407.4L574.1 407.6L579.1 407.8\"/>\n</g>\n<g style=\"stroke:blue;stroke-width:2\">\n<path d=\"M85.9 413.4L91 413.4L96 413.4L101 413.4L106.1 413.2L111.1 411.3L116.1 404.1L121.2 387.4L126.2 359.4L131.2 321.6L136.3 278.1L141.3 233.5L146.3 191.6L151.4 155.1L156.4 125.5L161.4 103.3L166.4 88.2L171.5 79.6L176.5 76.4L181.5 77.9L186.6 83L191.6 91L196.6 101L201.7 112.5L206.7 125L211.7 138L216.8 151.3L221.8 164.6L226.8 177.7L231.9 190.4L236.9 202.8L241.9 214.6L247 226L252 236.8L257 247L262.1 256.7L267.1 265.8L272.1 274.4L277.2 282.4L282.2 290L287.2 297.1L292.3 303.8L297.3 310L302.3 315.9L307.4 321.4L312.4 326.5L317.4 331.3L322.5 335.9L327.5 340.1L332.5 344L337.5 347.8L342.6 351.2L347.6 354.5L352.6 357.6L357.7 360.5L362.7 363.2L367.7 365.7L372.8 368.1L377.8 370.3L382.8 372.5L387.9 374.4L392.9 376.3L397.9 378.1L403 379.8L408 381.3L413 382.8L418.1 384.2L423.1 385.5L428.1 386.8L433.2 388L438.2 389.1L443.2 390.2L448.3 391.2L453.3 392.1L458.3 393L463.4 393.9L468.4 394.7L473.4 395.5L478.5 396.2L483.5 396.9L488.5 397.6L493.6 398.2L498.6 398.8L503.6 399.4L508.6 399.9L513.7 400.4L518.7 400.9L523.7 401.4L528.8 401.8L533.8 402.3L538.8 402.7L543.9 403.1L548.9 403.4L553.9 403.8L559 404.1L564 404.5L569 404.8L574.1 405.1L579.1 405.3\"/>\n</g>\n<g style=\"stroke:none;fill:black;font-family:Arial;font-size:12pt;text-anchor:end\">\n<g transform=\"translate(63.6,417.9)\">\n<switch><text><tspan> 0</tspan>\n</text></switch>\n</g>\n<g transform=\"translate(63.6,365.0)\">\n<switch><text><tspan> 2</tspan>\n</text></switch>\n</g>\n<g transform=\"translate(63.6,312.1)\">\n<switch><text><tspan> 4</tspan>\n</text></switch>\n</g>\n<g transform=\"translate(63.6,259.2)\">\n<switch><text><tspan> 6</tspan>\n</text></switch>\n</g>\n<g transform=\"translate(63.6,206.3)\">\n<switch><text><tspan> 8</tspan>\n</text></switch>\n</g>\n<g transform=\"translate(63.6,153.4)\">\n<switch><text><tspan> 10</tspan>\n</text></switch>\n</g>\n<g transform=\"translate(63.6,100.5)\">\n<switch><text><tspan> 12</tspan>\n</text></switch>\n</g>\n<g transform=\"translate(63.6,47.6)\">\n<switch><text><tspan> 14</tspan>\n</text></switch>\n</g>\n<g style=\"text-anchor:middle\" transform=\"translate(80.9,444.9)\">\n<switch><text><tspan> 0</tspan>\n</text></switch>\n</g>\n<g style=\"text-anchor:middle\" transform=\"translate(163.9,444.9)\">\n<switch><text><tspan> 0.5</tspan>\n</text></switch>\n</g>\n<g style=\"text-anchor:middle\" transform=\"translate(247.0,444.9)\">\n<switch><text><tspan> 1</tspan>\n</text></switch>\n</g>\n<g style=\"text-anchor:middle\" transform=\"translate(330.0,444.9)\">\n<switch><text><tspan> 1.5</tspan>\n</text></switch>\n</g>\n<g style=\"text-anchor:middle\" transform=\"translate(413.0,444.9)\">\n<switch><text><tspan> 2</tspan>\n</text></switch>\n</g>\n<g style=\"text-anchor:middle\" transform=\"translate(496.1,444.9)\">\n<switch><text><tspan> 2.5</tspan>\n</text></switch>\n</g>\n<g style=\"text-anchor:middle\" transform=\"translate(579.1,444.9)\">\n<switch><text><tspan> 3</tspan>\n</text></switch>\n</g>\n<g style=\"text-anchor:middle\" transform=\"translate(25.9,215.1) rotate(270)\">\n<switch><text systemLanguage=\"da\"><tspan> Spectral intensitet (kW · sr⁻¹ · m⁻² · nm⁻¹)</tspan>\n</text><text><tspan>Spectral radiance (kW · sr⁻¹ · m⁻² · nm⁻¹)</tspan>\n</text></switch>\n</g>\n<g style=\"text-anchor:middle\" transform=\"translate(330.0,471.9)\">\n<switch><text systemLanguage=\"da\"><tspan> Bølgelængde (µm)</tspan>\n</text><text><tspan>Wavelength (μm)</tspan>\n</text></switch>\n</g>\n<g style=\"text-anchor:start\" transform=\"translate(155.6,71.4)\">\n<switch><text><tspan>5000 K</tspan>\n</text></switch>\n</g>\n<g style=\"text-anchor:start\" transform=\"translate(180.5,297.6)\">\n<switch><text><tspan>4000 K</tspan>\n</text></switch>\n</g>\n<g style=\"text-anchor:start\" transform=\"translate(213.8,380.9)\">\n<switch><text><tspan>3000 K</tspan>\n</text></switch>\n</g>\n<g style=\"text-anchor:start\" transform=\"translate(338.3,127.0)\">\n<switch><text systemLanguage=\"da\"><tspan>Klassisk teori (5000 K)</tspan>\n</text><text><tspan>Classical theory (5000 K)</tspan>\n</text></switch>\n</g>\n</g>\n<path d=\"M295 16.7L297.3 33.6L302.3 67L307.4 96.8L312.4 123.4L317.4 147.3L322.5 168.8L327.5 188.2L332.5 205.6L337.5 221.5L342.6 235.8L347.6 248.8L352.6 260.7L357.7 271.5L362.7 281.4L367.7 290.4L372.8 298.7L377.8 306.2L382.8 313.2L387.9 319.6L392.9 325.5L397.9 331L403 336L408 340.7L413 345L418.1 349L423.1 352.7L428.1 356.1L433.2 359.3L438.2 362.3L443.2 365.1L448.3 367.7L453.3 370.1L458.3 372.4L463.4 374.5L468.4 376.5L473.4 378.3L478.5 380.1L483.5 381.7L488.5 383.2L493.6 384.7L498.6 386L503.6 387.3L508.6 388.5L513.7 389.7L518.7 390.7L523.7 391.7L528.8 392.7L533.8 393.6L538.8 394.5L543.9 395.3L548.9 396L553.9 396.8L559 397.5L564 398.1L569 398.7L574.1 399.3L579.1 399.9\" style=\"stroke:#000;stroke-width:2\"/>\n</g>\n</svg>"
          },
          "metadata": {
            "tags": []
          }
        }
      ]
    },
    {
      "cell_type": "markdown",
      "metadata": {
        "id": "_ousjZnCeepO"
      },
      "source": [
        "\\begin{align*}\n",
        "\\lambda_{\\rm max} \\cdot T = 2.9 \\times 10^{-3} {\\rm \\ m\\cdot K}\n",
        "\\end{align*}\n",
        "\n",
        "$\\lambda_{\\rm max} \\cdot T$ が一定に保たれるので\n",
        "> 高温の物体ほど波長の短い電磁波を放射する\n",
        "\n",
        "ことがわかります"
      ]
    },
    {
      "cell_type": "markdown",
      "metadata": {
        "id": "bdc0nOPTurvR"
      },
      "source": [
        "#### 温度と色\n",
        "\n",
        "Planckian locus(CIE 1931 色空間の中の温度表現)\n",
        "\n",
        "![https://en.wikipedia.org/wiki/Planckian_locus](https://upload.wikimedia.org/wikipedia/commons/thumb/b/ba/PlanckianLocus.png/533px-PlanckianLocus.png)\n",
        "\n",
        "![Animation showing an approximation of the color of the Planckian Locus through the visible spectrum](https://upload.wikimedia.org/wikipedia/commons/0/08/Planck_locus.gif)\n",
        "\n",
        "https://en.wikipedia.org/wiki/Planckian_locus"
      ]
    },
    {
      "cell_type": "markdown",
      "metadata": {
        "id": "wFUho7GTeqw1"
      },
      "source": [
        "##### ウィーンの変位則の理論的解釈\n",
        "$I(\\lambda ,T)$ の極大を求めれば良い"
      ]
    },
    {
      "cell_type": "markdown",
      "metadata": {
        "id": "KzpckeJde-n4"
      },
      "source": [
        "\\begin{align*}\n",
        "\\dfrac{\\partial I}{\\partial \\lambda}\n",
        "&= 2hc\n",
        "\\left(\n",
        "  -5 \\lambda^{-6} \\dfrac{1}{e^{hc/\\lambda k_{\\rm B}T}-1}\n",
        "   + \\lambda^{-6} \\dfrac{hc/ k_{\\rm B}T e^{hc/\\lambda k_{\\rm B}T}}{(e^{hc/\\lambda k_{\\rm B}T}-1)^2} \\lambda^{-2}\n",
        "\\right)\\\\\n",
        "&= \\dfrac{2hc \\lambda^{-6} }{e^{hc/\\lambda k_{\\rm B}T}-1}\n",
        "\\left(\n",
        "  -5 + \\dfrac{hc}{\\lambda k_{\\rm B}T} \\dfrac{ e^{hc/\\lambda k_{\\rm B}T}}{e^{hc/\\lambda k_{\\rm B}T}-1}\n",
        "\\right)\n",
        "\\end{align*}\n",
        "\n",
        "つまり, $x=\\frac{hc}{\\lambda k_{\\rm B}T}$ として\n",
        "\\begin{align*}\n",
        "x \\dfrac{ e^x}{e^x-1}&=5\\\\\n",
        "xe^2 -5 e^x +5 &=0\n",
        "\\end{align*}\n",
        "を解けば良いのですが, この方程式は解析かいがわかりません.  \n",
        "そこで, ニュートン法という数値計算方法を用いると\n",
        "\\begin{align*}\n",
        "x&= x = 4.965114231744276 \\\\\n",
        "\\lambda_{\\rm max} &= \\frac{hc}{x k_{\\rm B}T} = \\dfrac{2.89777 {\\rm mm.K}}{T}\n",
        "\\end{align*}\n"
      ]
    },
    {
      "cell_type": "markdown",
      "metadata": {
        "id": "ETFl6Znjodae"
      },
      "source": [
        "### シュテファン-ボルツマンの法則"
      ]
    },
    {
      "cell_type": "markdown",
      "metadata": {
        "id": "jWRK2f4Bo5-r"
      },
      "source": [
        "$\\int_0^{\\infty} I(\\lambda, T) {\\rm d} \\lambda$ を計算すれば導出可能です"
      ]
    },
    {
      "cell_type": "markdown",
      "metadata": {
        "id": "7zBVV6kBpQby"
      },
      "source": [
        "$\\int_0^{\\infty} I(\\lambda, T) {\\rm d} \\lambda$\n",
        "\n",
        "\n",
        "\\begin{align*}\n",
        "\\int_0^{\\infty} I(\\lambda, T) \\lambda\n",
        "&= \\int_0^{\\infty} \\dfrac{2 h c}{\\lambda^5} \\dfrac{1}{e^{hc/\\lambda k_{\\rm B}T}-1} {\\rm d}\\lambda\\\\\n",
        "&= 2hc \\left(\\dfrac{k_{\\rm B}T}{hc}\\right)^{5-1} \n",
        "\\int_0^{\\infty} \\dfrac{x^5}{e^{x}-1} {\\rm d}x\\\\\n",
        "&= \\sigma T^4\n",
        "\\end{align*}\n",
        "$\\sigma = 5.67 \\times 10^{-8} {\\rm \\ W/(m^2\\cdot K^4)}$"
      ]
    },
    {
      "cell_type": "markdown",
      "metadata": {
        "id": "N2swg7BXwK3D"
      },
      "source": [
        "##### 宇宙背景放射\n",
        "Cosmic microwave background"
      ]
    },
    {
      "cell_type": "code",
      "metadata": {
        "id": "44x9xyThHgC_",
        "cellView": "form",
        "outputId": "e82fce4f-6a74-4fdd-98b2-18285467b7d4",
        "colab": {
          "base_uri": "https://localhost:8080/",
          "height": 501
        }
      },
      "source": [
        "#@title Graph of cosmic microwave background spectrum \n",
        "%%svg\n",
        "https://upload.wikimedia.org/wikipedia/commons/c/cd/Cmbr.svg"
      ],
      "execution_count": 11,
      "outputs": [
        {
          "output_type": "display_data",
          "data": {
            "text/plain": [
              "<IPython.core.display.SVG object>"
            ],
            "image/svg+xml": "<svg height=\"480\" viewBox=\"0 0 600 480\" width=\"600\" xmlns=\"http://www.w3.org/2000/svg\" xmlns:xlink=\"http://www.w3.org/1999/xlink\">\n\n<title>Produced by GNUPLOT 4.4 patchlevel 0 </title>\n<desc>Translations are included for Arabic, English, French, Russian, German. Other languages can easily be added.</desc>\n\n<defs>\n\n\t<circle id=\"gpDot\" r=\"0.5\" stroke-width=\"0.5\"/>\n\t<path d=\"M-1,0 h2 M0,-1 v2\" id=\"gpPt0\" stroke=\"currentColor\" stroke-width=\"0.444\"/>\n\t<path d=\"M-1,-1 L1,1 M1,-1 L-1,1\" id=\"gpPt1\" stroke=\"currentColor\" stroke-width=\"0.222\"/>\n\t<path d=\"M-1,0 L1,0 M0,-1 L0,1 M-1,-1 L1,1 M-1,1 L1,-1\" id=\"gpPt2\" stroke=\"currentColor\" stroke-width=\"0.222\"/>\n\t<rect height=\"2\" id=\"gpPt3\" stroke=\"currentColor\" stroke-width=\"0.222\" width=\"2\" x=\"-1\" y=\"-1\"/>\n\t<rect fill=\"currentColor\" height=\"2\" id=\"gpPt4\" stroke=\"currentColor\" stroke-width=\"0.222\" width=\"2\" x=\"-1\" y=\"-1\"/>\n\t<circle cx=\"0\" cy=\"0\" id=\"gpPt5\" r=\"1\" stroke=\"currentColor\" stroke-width=\"0.222\"/>\n\t<use fill=\"currentColor\" id=\"gpPt6\" stroke=\"none\" xlink:href=\"#gpPt5\"/>\n\t<path d=\"M0,-1.33 L-1.33,0.67 L1.33,0.67 z\" id=\"gpPt7\" stroke=\"currentColor\" stroke-width=\"0.222\"/>\n\t<use fill=\"currentColor\" id=\"gpPt8\" stroke=\"none\" xlink:href=\"#gpPt7\"/>\n\t<use id=\"gpPt9\" stroke=\"currentColor\" transform=\"rotate(180)\" xlink:href=\"#gpPt7\"/>\n\t<use fill=\"currentColor\" id=\"gpPt10\" stroke=\"none\" xlink:href=\"#gpPt9\"/>\n\t<use id=\"gpPt11\" stroke=\"currentColor\" transform=\"rotate(45)\" xlink:href=\"#gpPt3\"/>\n\t<use fill=\"currentColor\" id=\"gpPt12\" stroke=\"none\" xlink:href=\"#gpPt11\"/>\n</defs>\n<g style=\"fill:none; color:white; stroke:currentColor; stroke-width:2.00; stroke-linecap:butt; stroke-linejoin:miter\">\n</g>\n<g style=\"fill:none; color:black; stroke:currentColor; stroke-width:1.50; stroke-linecap:butt; stroke-linejoin:miter\">\n\t<path d=\"M80.2,422.4 L89.2,422.4 M579.1,422.4 L570.1,422.4 \"/>\n\t<g style=\"stroke:none; fill:black; font-family:Arial; font-size:12.00pt; text-anchor:end\" transform=\"translate(71.9,426.9)\">\n\t\t<text> 0</text>\n\t</g>\n\t<path d=\"M80.2,376.4 L89.2,376.4 M579.1,376.4 L570.1,376.4 \"/>\n\t<g style=\"stroke:none; fill:black; font-family:Arial; font-size:12.00pt; text-anchor:end\" transform=\"translate(71.9,380.9)\">\n\t\t<text> 50</text>\n\t</g>\n\t<path d=\"M80.2,330.3 L89.2,330.3 M579.1,330.3 L570.1,330.3 \"/>\n\t<g style=\"stroke:none; fill:black; font-family:Arial; font-size:12.00pt; text-anchor:end\" transform=\"translate(71.9,334.8)\">\n\t\t<text> 100</text>\n\t</g>\n\t<path d=\"M80.2,284.3 L89.2,284.3 M579.1,284.3 L570.1,284.3 \"/>\n\t<g style=\"stroke:none; fill:black; font-family:Arial; font-size:12.00pt; text-anchor:end\" transform=\"translate(71.9,288.8)\">\n\t\t<text> 150</text>\n\t</g>\n\t<path d=\"M80.2,238.2 L89.2,238.2 M579.1,238.2 L570.1,238.2 \"/>\n\t<g style=\"stroke:none; fill:black; font-family:Arial; font-size:12.00pt; text-anchor:end\" transform=\"translate(71.9,242.7)\">\n\t\t<text> 200</text>\n\t</g>\n\t<path d=\"M80.2,192.2 L89.2,192.2 M579.1,192.2 L570.1,192.2 \"/>\n\t<g style=\"stroke:none; fill:black; font-family:Arial; font-size:12.00pt; text-anchor:end\" transform=\"translate(71.9,196.7)\">\n\t\t<text> 250</text>\n\t</g>\n\t<path d=\"M80.2,146.2 L89.2,146.2 M579.1,146.2 L570.1,146.2 \"/>\n\t<g style=\"stroke:none; fill:black; font-family:Arial; font-size:12.00pt; text-anchor:end\" transform=\"translate(71.9,150.7)\">\n\t\t<text> 300</text>\n\t</g>\n\t<path d=\"M80.2,100.1 L89.2,100.1 M579.1,100.1 L570.1,100.1 \"/>\n\t<g style=\"stroke:none; fill:black; font-family:Arial; font-size:12.00pt; text-anchor:end\" transform=\"translate(71.9,104.6)\">\n\t\t<text> 350</text>\n\t</g>\n\t<path d=\"M80.2,54.1 L89.2,54.1 M579.1,54.1 L570.1,54.1 \"/>\n\t<g style=\"stroke:none; fill:black; font-family:Arial; font-size:12.00pt; text-anchor:end\" transform=\"translate(71.9,58.6)\">\n\t\t<text> 400</text>\n\t</g>\n\t<path d=\"M80.2,422.4 L80.2,413.4 M80.2,54.1 L80.2,63.1 \"/>\n\t<g style=\"stroke:none; fill:black; font-family:Arial; font-size:12.00pt; text-anchor:middle\" transform=\"translate(80.2,444.9)\">\n\t\t<text> 2</text>\n\t</g>\n\t<path d=\"M130.1,422.4 L130.1,413.4 M130.1,54.1 L130.1,63.1 \"/>\n\t<g style=\"stroke:none; fill:black; font-family:Arial; font-size:12.00pt; text-anchor:middle\" transform=\"translate(130.1,444.9)\">\n\t\t<text> 4</text>\n\t</g>\n\t<path d=\"M180.0,422.4 L180.0,413.4 M180.0,54.1 L180.0,63.1 \"/>\n\t<g style=\"stroke:none; fill:black; font-family:Arial; font-size:12.00pt; text-anchor:middle\" transform=\"translate(180.0,444.9)\">\n\t\t<text> 6</text>\n\t</g>\n\t<path d=\"M229.9,422.4 L229.9,413.4 M229.9,54.1 L229.9,63.1 \"/>\n\t<g style=\"stroke:none; fill:black; font-family:Arial; font-size:12.00pt; text-anchor:middle\" transform=\"translate(229.9,444.9)\">\n\t\t<text> 8</text>\n\t</g>\n\t<path d=\"M279.8,422.4 L279.8,413.4 M279.8,54.1 L279.8,63.1 \"/>\n\t<g style=\"stroke:none; fill:black; font-family:Arial; font-size:12.00pt; text-anchor:middle\" transform=\"translate(279.8,444.9)\">\n\t\t<text> 10</text>\n\t</g>\n\t<path d=\"M329.7,422.4 L329.7,413.4 M329.7,54.1 L329.7,63.1 \"/>\n\t<g style=\"stroke:none; fill:black; font-family:Arial; font-size:12.00pt; text-anchor:middle\" transform=\"translate(329.7,444.9)\">\n\t\t<text> 12</text>\n\t</g>\n\t<path d=\"M379.5,422.4 L379.5,413.4 M379.5,54.1 L379.5,63.1 \"/>\n\t<g style=\"stroke:none; fill:black; font-family:Arial; font-size:12.00pt; text-anchor:middle\" transform=\"translate(379.5,444.9)\">\n\t\t<text> 14</text>\n\t</g>\n\t<path d=\"M429.4,422.4 L429.4,413.4 M429.4,54.1 L429.4,63.1 \"/>\n\t<g style=\"stroke:none; fill:black; font-family:Arial; font-size:12.00pt; text-anchor:middle\" transform=\"translate(429.4,444.9)\">\n\t\t<text> 16</text>\n\t</g>\n\t<path d=\"M479.3,422.4 L479.3,413.4 M479.3,54.1 L479.3,63.1 \"/>\n\t<g style=\"stroke:none; fill:black; font-family:Arial; font-size:12.00pt; text-anchor:middle\" transform=\"translate(479.3,444.9)\">\n\t\t<text> 18</text>\n\t</g>\n\t<path d=\"M529.2,422.4 L529.2,413.4 M529.2,54.1 L529.2,63.1 \"/>\n\t<g style=\"stroke:none; fill:black; font-family:Arial; font-size:12.00pt; text-anchor:middle\" transform=\"translate(529.2,444.9)\">\n\t\t<text> 20</text>\n\t</g>\n\t<path d=\"M579.1,422.4 L579.1,413.4 M579.1,54.1 L579.1,63.1 \"/>\n\t<g style=\"stroke:none; fill:black; font-family:Arial; font-size:12.00pt; text-anchor:middle\" transform=\"translate(579.1,444.9)\">\n\t\t<text> 22</text>\n\t</g>\n\t<path d=\"M80.2,54.1 L80.2,422.4 L579.1,422.4 L579.1,54.1 L80.2,54.1 Z \"/>\n\t<g style=\"stroke:none; fill:black; font-family:Arial; font-size:12.00pt; text-anchor:middle\" transform=\"translate(25.9,238.3) rotate(270)\">\n\t\t<switch>\n\t\t  <text systemLanguage=\"ar\">القوَّة [جانسكي\\ستراديان]</text>\n\t\t  <text systemLanguage=\"ca\">Intensitat [MJy/sr]</text>\n\t\t  <text systemLanguage=\"en\">Intensity [MJy/sr]</text>\n\t\t  <text systemLanguage=\"fr\">Intensité [MJy/sr]</text>\n\t\t  <text systemLanguage=\"ru\">Плотность потока [МЯн/ср]</text>\n\t\t  <text systemLanguage=\"de\">Intensität [MJy/sr]</text>\n\t\t  <text>Intensity [MJy/sr]</text>\n\t\t</switch>\n\t</g>\n\t<g style=\"stroke:none; fill:black; font-family:Arial; font-size:12.00pt; text-anchor:middle\" transform=\"translate(329.6,471.9)\">\n\t\t<switch>\n\t\t  <text systemLanguage=\"ar\">التردد [1\\سنتم]</text>\n\t\t  <text systemLanguage=\"ca\">Freqüència [1/cm]</text>\n\t\t  <text systemLanguage=\"en\">Frequency [1/cm]</text>\n\t\t  <text systemLanguage=\"fr\">Fréquence [1/cm]</text>\n\t\t  <text systemLanguage=\"ru\">Частота [1/см]</text>\n\t\t  <text systemLanguage=\"de\">Frequenz [1/cm]</text>\n\t\t  <text>Frequency [1/cm]</text>\n\t\t</switch>\n\t</g>\n\t<g style=\"stroke:none; fill:black; font-family:Arial; font-size:12.00pt; text-anchor:middle\" transform=\"translate(329.6,31.6)\">\n\t\t<switch>\n\t\t  <text systemLanguage=\"ar\">طيف إشعاع الخلفيَّة الكونية الميكروي من مُستكشف الخلفيَّة الكونيَّة</text>\n\t\t  <text systemLanguage=\"ca\">Espectre de la radiació còsmica de fons (del COBE)</text>\n\t\t  <text systemLanguage=\"en\">Cosmic microwave background spectrum (from COBE)</text>\n\t\t  <text systemLanguage=\"fr\">Spectre du fond diffus cosmologique (selon COBE)</text>\n\t\t  <text systemLanguage=\"ru\">Спектр реликтового излучения (по данным COBE)</text>\n\t\t  <text systemLanguage=\"de\">Spektrum der Kosmischen Hintergrundstrahlung (von COBE)</text>\n\t\t  <text>Cosmic microwave background spectrum (from COBE)</text>\n\t\t</switch>\n\t</g>\n</g>\n\n<!-- \"Plot #1\" -->\n\n<g style=\"fill:none; color:red; stroke:currentColor; stroke-width:2.00; stroke-linecap:butt; stroke-linejoin:miter\">\n\t<g style=\"stroke:none; fill:black; font-family:Arial; font-size:12.00pt; text-anchor:end\" transform=\"translate(512.0,76.6)\">\n\t\t<switch>\n\t\t  <text systemLanguage=\"ar\">بيانات مستكشف الخلفيَّة الكونيَّة</text>\n\t\t  <text systemLanguage=\"ca\">Dades del COBE</text>\n\t\t  <text systemLanguage=\"en\">COBE data</text>\n\t\t  <text systemLanguage=\"fr\">Données de COBE</text>\n\t\t  <text systemLanguage=\"ru\">Данные COBE</text>\n\t\t  <text systemLanguage=\"de\">Daten von COBE</text>\n\t\t  <text>COBE data</text>\n\t\t</switch>\n\t</g>\n\t<path d=\"M520.3,72.1 L562.5,72.1 M520.3,67.6 L520.3,76.6 M562.5,67.6 L562.5,76.6 M86.9,237.6 M82.4,237.6    L91.4,237.6 M82.4,237.6 L91.4,237.6 M98.2,192.7 L98.2,192.6 M93.7,192.7 L102.7,192.7 M93.7,192.6    L102.7,192.6 M109.6,152.6 M105.1,152.6 L114.1,152.6 M105.1,152.6 L114.1,152.6 M120.9,120.6 M116.4,120.6    L125.4,120.6 M116.4,120.6 L125.4,120.6 M132.1,96.4 M127.6,96.4 L136.6,96.4 M127.6,96.4 L136.6,96.4    M143.6,79.8 M139.1,79.8 L148.1,79.8 M139.1,79.8 L148.1,79.8 M154.8,71.2 L154.8,71.1 M150.3,71.2    L159.3,71.2 M150.3,71.1 L159.3,71.1 M166.3,69.3 M161.8,69.3 L170.8,69.3 M161.8,69.3 L170.8,69.3    M177.5,73.5 M173.0,73.5 L182.0,73.5 M173.0,73.5 L182.0,73.5 M188.7,82.8 M184.2,82.8 L193.2,82.8    M184.2,82.8 L193.2,82.8 M200.2,96.4 M195.7,96.4 L204.7,96.4 M195.7,96.4 L204.7,96.4 M211.4,112.8    M206.9,112.8 L215.9,112.8 M206.9,112.8 L215.9,112.8 M222.6,131.4 M218.1,131.4 L227.1,131.4 M218.1,131.4    L227.1,131.4 M234.1,151.8 M229.6,151.8 L238.6,151.8 M229.6,151.8 L238.6,151.8 M245.3,172.5 M240.8,172.5    L249.8,172.5 M240.8,172.5 L249.8,172.5 M256.8,193.8 M252.3,193.8 L261.3,193.8 M252.3,193.8 L261.3,193.8    M268.0,214.4 M263.5,214.4 L272.5,214.4 M263.5,214.4 L272.5,214.4 M279.3,234.3 M274.8,234.3 L283.8,234.3    M274.8,234.3 L283.8,234.3 M290.7,253.7 L290.7,253.6 M286.2,253.7 L295.2,253.7 M286.2,253.6 L295.2,253.6    M302.0,271.6 L302.0,271.5 M297.5,271.6 L306.5,271.6 M297.5,271.5 L306.5,271.5 M313.2,288.2 M308.7,288.2    L317.7,288.2 M308.7,288.2 L317.7,288.2 M324.7,303.8 M320.2,303.8 L329.2,303.8 M320.2,303.8 L329.2,303.8    M335.9,317.9 L335.9,317.8 M331.4,317.9 L340.4,317.9 M331.4,317.8 L340.4,317.8 M347.4,330.9 L347.4,330.8    M342.9,330.9 L351.9,330.9 M342.9,330.8 L351.9,330.8 M358.6,342.3 L358.6,342.2 M354.1,342.3 L363.1,342.3    M354.1,342.2 L363.1,342.2 M369.8,352.6 L369.8,352.5 M365.3,352.6 L374.3,352.6 M365.3,352.5 L374.3,352.5    M381.3,361.9 L381.3,361.8 M376.8,361.9 L385.8,361.9 M376.8,361.8 L385.8,361.8 M392.5,369.9 M388.0,369.9    L397.0,369.9 M388.0,369.9 L397.0,369.9 M403.7,377.1 M399.2,377.1 L408.2,377.1 M399.2,377.1 L408.2,377.1    M415.2,383.5 M410.7,383.5 L419.7,383.5 M410.7,383.5 L419.7,383.5 M426.4,388.9 M421.9,388.9 L430.9,388.9    M421.9,388.9 L430.9,388.9 M437.9,393.8 M433.4,393.8 L442.4,393.8 M433.4,393.8 L442.4,393.8 M449.1,398.0    L449.1,397.9 M444.6,398.0 L453.6,398.0 M444.6,397.9 L453.6,397.9 M460.4,401.6 L460.4,401.5 M455.9,401.6    L464.9,401.6 M455.9,401.5 L464.9,401.5 M471.8,404.7 L471.8,404.6 M467.3,404.7 L476.3,404.7 M467.3,404.6    L476.3,404.6 M483.1,407.3 M478.6,407.3 L487.6,407.3 M478.6,407.3 L487.6,407.3 M494.5,409.7 M490.0,409.7    L499.0,409.7 M490.0,409.7 L499.0,409.7 M505.8,411.6 M501.3,411.6 L510.3,411.6 M501.3,411.6 L510.3,411.6    M517.0,413.3 L517.0,413.2 M512.5,413.3 L521.5,413.3 M512.5,413.2 L521.5,413.2 M528.5,414.7 L528.5,414.6    M524.0,414.7 L533.0,414.7 M524.0,414.6 L533.0,414.6 M539.7,416.0 L539.7,415.8 M535.2,416.0 L544.2,416.0    M535.2,415.8 L544.2,415.8 M550.9,417.2 L550.9,416.9 M546.4,417.2 L555.4,417.2 M546.4,416.9 L555.4,416.9    M562.4,418.5 L562.4,418.0 M557.9,418.5 L566.9,418.5 M557.9,418.0 L566.9,418.0 \"/>\n\t<use transform=\"translate(86.9,237.6) scale(4.50)\" xlink:href=\"#gpPt0\"/>\n\t<use transform=\"translate(98.2,192.7) scale(4.50)\" xlink:href=\"#gpPt0\"/>\n\t<use transform=\"translate(109.6,152.6) scale(4.50)\" xlink:href=\"#gpPt0\"/>\n\t<use transform=\"translate(120.9,120.6) scale(4.50)\" xlink:href=\"#gpPt0\"/>\n\t<use transform=\"translate(132.1,96.4) scale(4.50)\" xlink:href=\"#gpPt0\"/>\n\t<use transform=\"translate(143.6,79.8) scale(4.50)\" xlink:href=\"#gpPt0\"/>\n\t<use transform=\"translate(154.8,71.1) scale(4.50)\" xlink:href=\"#gpPt0\"/>\n\t<use transform=\"translate(166.3,69.3) scale(4.50)\" xlink:href=\"#gpPt0\"/>\n\t<use transform=\"translate(177.5,73.5) scale(4.50)\" xlink:href=\"#gpPt0\"/>\n\t<use transform=\"translate(188.7,82.8) scale(4.50)\" xlink:href=\"#gpPt0\"/>\n\t<use transform=\"translate(200.2,96.4) scale(4.50)\" xlink:href=\"#gpPt0\"/>\n\t<use transform=\"translate(211.4,112.8) scale(4.50)\" xlink:href=\"#gpPt0\"/>\n\t<use transform=\"translate(222.6,131.4) scale(4.50)\" xlink:href=\"#gpPt0\"/>\n\t<use transform=\"translate(234.1,151.8) scale(4.50)\" xlink:href=\"#gpPt0\"/>\n\t<use transform=\"translate(245.3,172.5) scale(4.50)\" xlink:href=\"#gpPt0\"/>\n\t<use transform=\"translate(256.8,193.8) scale(4.50)\" xlink:href=\"#gpPt0\"/>\n\t<use transform=\"translate(268.0,214.4) scale(4.50)\" xlink:href=\"#gpPt0\"/>\n\t<use transform=\"translate(279.3,234.3) scale(4.50)\" xlink:href=\"#gpPt0\"/>\n\t<use transform=\"translate(290.7,253.7) scale(4.50)\" xlink:href=\"#gpPt0\"/>\n\t<use transform=\"translate(302.0,271.6) scale(4.50)\" xlink:href=\"#gpPt0\"/>\n\t<use transform=\"translate(313.2,288.2) scale(4.50)\" xlink:href=\"#gpPt0\"/>\n\t<use transform=\"translate(324.7,303.8) scale(4.50)\" xlink:href=\"#gpPt0\"/>\n\t<use transform=\"translate(335.9,317.8) scale(4.50)\" xlink:href=\"#gpPt0\"/>\n\t<use transform=\"translate(347.4,330.8) scale(4.50)\" xlink:href=\"#gpPt0\"/>\n\t<use transform=\"translate(358.6,342.3) scale(4.50)\" xlink:href=\"#gpPt0\"/>\n\t<use transform=\"translate(369.8,352.5) scale(4.50)\" xlink:href=\"#gpPt0\"/>\n\t<use transform=\"translate(381.3,361.8) scale(4.50)\" xlink:href=\"#gpPt0\"/>\n\t<use transform=\"translate(392.5,369.9) scale(4.50)\" xlink:href=\"#gpPt0\"/>\n\t<use transform=\"translate(403.7,377.1) scale(4.50)\" xlink:href=\"#gpPt0\"/>\n\t<use transform=\"translate(415.2,383.5) scale(4.50)\" xlink:href=\"#gpPt0\"/>\n\t<use transform=\"translate(426.4,388.9) scale(4.50)\" xlink:href=\"#gpPt0\"/>\n\t<use transform=\"translate(437.9,393.8) scale(4.50)\" xlink:href=\"#gpPt0\"/>\n\t<use transform=\"translate(449.1,397.9) scale(4.50)\" xlink:href=\"#gpPt0\"/>\n\t<use transform=\"translate(460.4,401.6) scale(4.50)\" xlink:href=\"#gpPt0\"/>\n\t<use transform=\"translate(471.8,404.7) scale(4.50)\" xlink:href=\"#gpPt0\"/>\n\t<use transform=\"translate(483.1,407.3) scale(4.50)\" xlink:href=\"#gpPt0\"/>\n\t<use transform=\"translate(494.5,409.7) scale(4.50)\" xlink:href=\"#gpPt0\"/>\n\t<use transform=\"translate(505.8,411.6) scale(4.50)\" xlink:href=\"#gpPt0\"/>\n\t<use transform=\"translate(517.0,413.3) scale(4.50)\" xlink:href=\"#gpPt0\"/>\n\t<use transform=\"translate(528.5,414.7) scale(4.50)\" xlink:href=\"#gpPt0\"/>\n\t<use transform=\"translate(539.7,415.9) scale(4.50)\" xlink:href=\"#gpPt0\"/>\n\t<use transform=\"translate(550.9,417.1) scale(4.50)\" xlink:href=\"#gpPt0\"/>\n\t<use transform=\"translate(562.4,418.2) scale(4.50)\" xlink:href=\"#gpPt0\"/>\n\t<use transform=\"translate(541.4,72.1) scale(4.50)\" xlink:href=\"#gpPt0\"/>\n</g>\n\n<!-- \"Plot #2\" -->\n\n<g style=\"fill:none; color:blue; stroke:currentColor; stroke-width:2.00; stroke-linecap:butt; stroke-linejoin:miter\">\n\t<g style=\"stroke:none; fill:black; font-family:Arial; font-size:12.00pt; text-anchor:end\" transform=\"translate(512.0,94.6)\">\n\t\t<switch>\n\t\t  <text systemLanguage=\"ar\">طيف الجسم الأسود</text>\n\t\t  <text systemLanguage=\"ca\">Espectre del cos negre</text>\n\t\t  <text systemLanguage=\"en\">Black body spectrum</text>\n\t\t  <text systemLanguage=\"fr\">Spectre de corps noir</text>\n\t\t  <text systemLanguage=\"ru\">Спектр абсолютно чёрного тела</text>\n\t\t  <text systemLanguage=\"de\">Schwarzkörper-Spektrum</text>\n\t\t  <text>Black body spectrum</text>\n\t\t</switch>\n\t</g>\n\t<path d=\"M520.3,90.1 L562.5,90.1 M86.9,237.6 L91.7,217.8 L96.5,198.9 L101.3,180.9 L106.1,164.1 L110.9,148.5    L115.8,134.2 L120.6,121.4 L125.4,110.0 L130.2,100.0 L135.0,91.5 L139.8,84.4 L144.6,78.7 L149.4,74.4    L154.2,71.4 L159.0,69.7 L163.8,69.1 L168.6,69.7 L173.4,71.4 L178.2,74.0 L183.0,77.5 L187.8,81.9    L192.6,87.0 L197.4,92.8 L202.2,99.1 L207.0,106.0 L211.8,113.4 L216.6,121.2 L221.4,129.2 L226.2,137.6    L231.0,146.2 L235.8,154.9 L240.6,163.7 L245.4,172.6 L250.2,181.6 L255.0,190.5 L259.8,199.4 L264.6,208.2    L269.4,216.9 L274.2,225.5 L279.0,233.9 L283.8,242.1 L288.6,250.2 L293.4,258.1 L298.2,265.8 L303.0,273.2    L307.9,280.4 L312.7,287.4 L317.5,294.2 L322.3,300.7 L327.1,306.9 L331.9,313.0 L336.7,318.8 L341.5,324.3    L346.3,329.6 L351.1,334.7 L355.9,339.6 L360.7,344.3 L365.5,348.7 L370.3,352.9 L375.1,357.0 L379.9,360.8    L384.7,364.4 L389.5,367.9 L394.3,371.1 L399.1,374.2 L403.9,377.2 L408.7,379.9 L413.5,382.6 L418.3,385.1    L423.1,387.4 L427.9,389.6 L432.7,391.7 L437.5,393.7 L442.3,395.5 L447.1,397.2 L451.9,398.9 L456.7,400.4    L461.5,401.9 L466.3,403.2 L471.1,404.5 L475.9,405.7 L480.7,406.8 L485.5,407.9 L490.3,408.9 L495.2,409.8    L500.0,410.6 L504.8,411.4 L509.6,412.2 L514.4,412.9 L519.2,413.6 L524.0,414.2 L528.8,414.8 L533.6,415.3    L538.4,415.8 L543.2,416.3 L548.0,416.7 L552.8,417.1 L557.6,417.5 L562.4,417.8 \"/>\n</g>\n</svg>"
          },
          "metadata": {
            "tags": []
          }
        }
      ]
    },
    {
      "cell_type": "code",
      "metadata": {
        "id": "RdNUutsKyWm7",
        "cellView": "form",
        "outputId": "1f99ad54-fb75-4278-c023-ce6302e513d6",
        "colab": {
          "base_uri": "https://localhost:8080/",
          "height": 336
        }
      },
      "source": [
        "#@title 宇宙背景放射の動画\n",
        "%%html\n",
        "<iframe width=\"560\" height=\"315\" src=\"https://www.youtube-nocookie.com/embed/3tCMd1ytvWg\" frameborder=\"0\" allow=\"accelerometer; autoplay; clipboard-write; encrypted-media; gyroscope; picture-in-picture\" allowfullscreen></iframe>"
      ],
      "execution_count": null,
      "outputs": [
        {
          "output_type": "display_data",
          "data": {
            "text/html": [
              "<iframe width=\"560\" height=\"315\" src=\"https://www.youtube-nocookie.com/embed/3tCMd1ytvWg\" frameborder=\"0\" allow=\"accelerometer; autoplay; clipboard-write; encrypted-media; gyroscope; picture-in-picture\" allowfullscreen></iframe>"
            ],
            "text/plain": [
              "<IPython.core.display.HTML object>"
            ]
          },
          "metadata": {
            "tags": []
          }
        }
      ]
    }
  ]
}