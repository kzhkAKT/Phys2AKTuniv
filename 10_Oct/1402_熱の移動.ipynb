{
  "nbformat": 4,
  "nbformat_minor": 0,
  "metadata": {
    "colab": {
      "name": "1402_熱の移動.ipynb",
      "provenance": [],
      "toc_visible": true,
      "authorship_tag": "ABX9TyOdEKft5wREpZzbPA0eteth",
      "include_colab_link": true
    },
    "kernelspec": {
      "name": "python3",
      "display_name": "Python 3"
    }
  },
  "cells": [
    {
      "cell_type": "markdown",
      "metadata": {
        "id": "view-in-github",
        "colab_type": "text"
      },
      "source": [
        "<a href=\"https://colab.research.google.com/github/kzhkAKT/Phys2AKTuniv/blob/draft/10_Oct/1402_%E7%86%B1%E3%81%AE%E7%A7%BB%E5%8B%95.ipynb\" target=\"_parent\"><img src=\"https://colab.research.google.com/assets/colab-badge.svg\" alt=\"Open In Colab\"/></a>"
      ]
    },
    {
      "cell_type": "markdown",
      "metadata": {
        "id": "2B_yZQM-OJp3"
      },
      "source": [
        "# 熱"
      ]
    },
    {
      "cell_type": "markdown",
      "metadata": {
        "id": "mTgJYFsCOL8Z"
      },
      "source": [
        "## 熱の移動"
      ]
    },
    {
      "cell_type": "markdown",
      "metadata": {
        "id": "VtY1ZwyiONob"
      },
      "source": [
        "### 熱伝導\n",
        "\n",
        "DOI:10.1119/1.16358"
      ]
    },
    {
      "cell_type": "markdown",
      "metadata": {
        "id": "th2olemXH3a-"
      },
      "source": [
        "\\begin{align*}\n",
        "H = \\dfrac{\\Delta Q}{\\Delta t}  = k A \\dfrac{T_2 - T_1}{L},\n",
        "\\end{align*}\n",
        "here $\\Delta t=t-t_0$."
      ]
    },
    {
      "cell_type": "markdown",
      "metadata": {
        "id": "ZdgQ2C_eGHKV"
      },
      "source": [
        "thermal conduction\n",
        "\n",
        "<!--\n",
        "convective heat transfer https://en.wikipedia.org/wiki/Convective_heat_transfer#Convective_heat_transfer\n",
        "\n",
        "https://en.wikipedia.org/wiki/Heat_transfer_coefficient\n",
        "-->"
      ]
    },
    {
      "cell_type": "markdown",
      "metadata": {
        "id": "3clSDloyORCI"
      },
      "source": [
        "### 対流"
      ]
    },
    {
      "cell_type": "markdown",
      "metadata": {
        "id": "Si2uSxDjGMG6"
      },
      "source": [
        "convection, convective heat transfer"
      ]
    },
    {
      "cell_type": "code",
      "metadata": {
        "id": "O739iFABIFHH",
        "cellView": "form",
        "outputId": "de061a6e-29fa-44ed-9c70-bee2b02409d2",
        "colab": {
          "base_uri": "https://localhost:8080/",
          "height": 336
        }
      },
      "source": [
        "#@title 熱対流\n",
        "%%html\n",
        "<iframe width=\"560\" height=\"315\" src=\"https://www.youtube-nocookie.com/embed/hYFIlmOebWs\" frameborder=\"0\" allow=\"accelerometer; autoplay; clipboard-write; encrypted-media; gyroscope; picture-in-picture\" allowfullscreen></iframe>"
      ],
      "execution_count": null,
      "outputs": [
        {
          "output_type": "display_data",
          "data": {
            "text/html": [
              "<iframe width=\"560\" height=\"315\" src=\"https://www.youtube-nocookie.com/embed/hYFIlmOebWs\" frameborder=\"0\" allow=\"accelerometer; autoplay; clipboard-write; encrypted-media; gyroscope; picture-in-picture\" allowfullscreen></iframe>"
            ],
            "text/plain": [
              "<IPython.core.display.HTML object>"
            ]
          },
          "metadata": {
            "tags": []
          }
        }
      ]
    },
    {
      "cell_type": "markdown",
      "metadata": {
        "id": "OK5_chVSOTAa"
      },
      "source": [
        "### 熱放射"
      ]
    },
    {
      "cell_type": "markdown",
      "metadata": {
        "id": "0uXzxmnlJU5j"
      },
      "source": [
        "thermal radiation"
      ]
    },
    {
      "cell_type": "code",
      "metadata": {
        "id": "vt5srSkjZfDa",
        "cellView": "form",
        "outputId": "934e53d9-d6a1-4e91-8f9e-7c641d195df0",
        "colab": {
          "base_uri": "https://localhost:8080/",
          "height": 336
        }
      },
      "source": [
        "#@title 電磁波としての熱放射\n",
        "%%html\n",
        "<iframe width=\"560\" height=\"315\" src=\"https://www.youtube-nocookie.com/embed/5GoZZKcNZiQ\" frameborder=\"0\" allow=\"accelerometer; autoplay; clipboard-write; encrypted-media; gyroscope; picture-in-picture\" allowfullscreen></iframe>"
      ],
      "execution_count": 7,
      "outputs": [
        {
          "output_type": "display_data",
          "data": {
            "text/html": [
              "<iframe width=\"560\" height=\"315\" src=\"https://www.youtube-nocookie.com/embed/5GoZZKcNZiQ\" frameborder=\"0\" allow=\"accelerometer; autoplay; clipboard-write; encrypted-media; gyroscope; picture-in-picture\" allowfullscreen></iframe>"
            ],
            "text/plain": [
              "<IPython.core.display.HTML object>"
            ]
          },
          "metadata": {
            "tags": []
          }
        }
      ]
    },
    {
      "cell_type": "code",
      "metadata": {
        "id": "PzfKVqn1K92Q",
        "cellView": "form",
        "outputId": "9947211c-c8c9-4845-87f0-5551014d26c0",
        "colab": {
          "base_uri": "https://localhost:8080/",
          "height": 336
        }
      },
      "source": [
        "#@title Leslies's Cube 1/2\n",
        "%%html\n",
        "<iframe width=\"560\" height=\"315\" src=\"https://www.youtube-nocookie.com/embed/ClRrU6JuBOc\" frameborder=\"0\" allow=\"accelerometer; autoplay; clipboard-write; encrypted-media; gyroscope; picture-in-picture\" allowfullscreen></iframe>"
      ],
      "execution_count": 6,
      "outputs": [
        {
          "output_type": "display_data",
          "data": {
            "text/html": [
              "<iframe width=\"560\" height=\"315\" src=\"https://www.youtube-nocookie.com/embed/ClRrU6JuBOc\" frameborder=\"0\" allow=\"accelerometer; autoplay; clipboard-write; encrypted-media; gyroscope; picture-in-picture\" allowfullscreen></iframe>"
            ],
            "text/plain": [
              "<IPython.core.display.HTML object>"
            ]
          },
          "metadata": {
            "tags": []
          }
        }
      ]
    },
    {
      "cell_type": "code",
      "metadata": {
        "id": "jbVDrVYTJwWq",
        "cellView": "form",
        "outputId": "33ff5b97-3118-4682-ab8e-d5ac18460919",
        "colab": {
          "base_uri": "https://localhost:8080/",
          "height": 336
        }
      },
      "source": [
        "#@title Leslies' cube 2/2\n",
        "%%html\n",
        "<iframe width=\"560\" height=\"315\" src=\"https://www.youtube-nocookie.com/embed/4Pz8xcEQtMU\" frameborder=\"0\" allow=\"accelerometer; autoplay; clipboard-write; encrypted-media; gyroscope; picture-in-picture\" allowfullscreen></iframe>"
      ],
      "execution_count": 5,
      "outputs": [
        {
          "output_type": "display_data",
          "data": {
            "text/html": [
              "<iframe width=\"560\" height=\"315\" src=\"https://www.youtube-nocookie.com/embed/4Pz8xcEQtMU\" frameborder=\"0\" allow=\"accelerometer; autoplay; clipboard-write; encrypted-media; gyroscope; picture-in-picture\" allowfullscreen></iframe>"
            ],
            "text/plain": [
              "<IPython.core.display.HTML object>"
            ]
          },
          "metadata": {
            "tags": []
          }
        }
      ]
    },
    {
      "cell_type": "markdown",
      "metadata": {
        "id": "_7Sz1fvhYCvT"
      },
      "source": [
        "#### 波動と電磁波\n",
        "\n",
        "$v:$波の速さ, $\\lambda:$波長, $T:$周期, $f:$振動数\n",
        "\\begin{align*}\n",
        "v = \\dfrac{\\lambda}{T} = \\lambda \\cdot f,\n",
        "\\end{align*}\n",
        "\n",
        "\n",
        "$c:$光速(電磁波), $\\lambda:$波長, $f:振動数$\n",
        "\\begin{align*}\n",
        "c = \\lambda \\cdot \\nu,\n",
        "\\end{align*}"
      ]
    },
    {
      "cell_type": "markdown",
      "metadata": {
        "id": "VUORFv3gaPRN"
      },
      "source": [
        "#### ブランクの法則の裏側\n",
        "\n",
        "放射される(光子の)エネルギーを(偏光も含めて)[統計力学を利用して]数え上げる\n"
      ]
    }
  ]
}