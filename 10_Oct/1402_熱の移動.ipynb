{
  "nbformat": 4,
  "nbformat_minor": 0,
  "metadata": {
    "colab": {
      "name": "1402_熱の移動.ipynb",
      "provenance": [],
      "authorship_tag": "ABX9TyPjpQzlubc+IdiMrsQQPTRF",
      "include_colab_link": true
    },
    "kernelspec": {
      "name": "python3",
      "display_name": "Python 3"
    }
  },
  "cells": [
    {
      "cell_type": "markdown",
      "metadata": {
        "id": "view-in-github",
        "colab_type": "text"
      },
      "source": [
        "<a href=\"https://colab.research.google.com/github/kzhkAKT/Phys2AKTuniv/blob/draft/10_Oct/1402_%E7%86%B1%E3%81%AE%E7%A7%BB%E5%8B%95.ipynb\" target=\"_parent\"><img src=\"https://colab.research.google.com/assets/colab-badge.svg\" alt=\"Open In Colab\"/></a>"
      ]
    },
    {
      "cell_type": "markdown",
      "metadata": {
        "id": "2B_yZQM-OJp3"
      },
      "source": [
        "# 熱"
      ]
    },
    {
      "cell_type": "markdown",
      "metadata": {
        "id": "mTgJYFsCOL8Z"
      },
      "source": [
        "## 熱の移動"
      ]
    },
    {
      "cell_type": "markdown",
      "metadata": {
        "id": "VtY1ZwyiONob"
      },
      "source": [
        "### 熱伝導\n",
        "\n",
        "DOI:10.1119/1.16358"
      ]
    },
    {
      "cell_type": "markdown",
      "metadata": {
        "id": "ZdgQ2C_eGHKV"
      },
      "source": [
        "thermal conduction\n",
        "\n",
        "<!--\n",
        "convective heat transfer https://en.wikipedia.org/wiki/Convective_heat_transfer#Convective_heat_transfer\n",
        "\n",
        "https://en.wikipedia.org/wiki/Heat_transfer_coefficient\n",
        "-->"
      ]
    },
    {
      "cell_type": "markdown",
      "metadata": {
        "id": "3clSDloyORCI"
      },
      "source": [
        "### 対流"
      ]
    },
    {
      "cell_type": "markdown",
      "metadata": {
        "id": "Si2uSxDjGMG6"
      },
      "source": [
        "convection, convective heat transfer"
      ]
    },
    {
      "cell_type": "code",
      "metadata": {
        "id": "O739iFABIFHH",
        "cellView": "form",
        "outputId": "de061a6e-29fa-44ed-9c70-bee2b02409d2",
        "colab": {
          "base_uri": "https://localhost:8080/",
          "height": 336
        }
      },
      "source": [
        "#@title 熱対流\n",
        "%%html\n",
        "<iframe width=\"560\" height=\"315\" src=\"https://www.youtube-nocookie.com/embed/hYFIlmOebWs\" frameborder=\"0\" allow=\"accelerometer; autoplay; clipboard-write; encrypted-media; gyroscope; picture-in-picture\" allowfullscreen></iframe>"
      ],
      "execution_count": 2,
      "outputs": [
        {
          "output_type": "display_data",
          "data": {
            "text/html": [
              "<iframe width=\"560\" height=\"315\" src=\"https://www.youtube-nocookie.com/embed/hYFIlmOebWs\" frameborder=\"0\" allow=\"accelerometer; autoplay; clipboard-write; encrypted-media; gyroscope; picture-in-picture\" allowfullscreen></iframe>"
            ],
            "text/plain": [
              "<IPython.core.display.HTML object>"
            ]
          },
          "metadata": {
            "tags": []
          }
        }
      ]
    },
    {
      "cell_type": "markdown",
      "metadata": {
        "id": "OK5_chVSOTAa"
      },
      "source": [
        "### 熱放射"
      ]
    }
  ]
}