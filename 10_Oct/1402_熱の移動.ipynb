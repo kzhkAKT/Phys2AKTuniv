{
  "nbformat": 4,
  "nbformat_minor": 0,
  "metadata": {
    "colab": {
      "name": "1402_熱の移動.ipynb",
      "provenance": [],
      "authorship_tag": "ABX9TyPeKIcFpUZ80HDtKjbWEfl5"
    },
    "kernelspec": {
      "name": "python3",
      "display_name": "Python 3"
    }
  },
  "cells": [
    {
      "cell_type": "markdown",
      "metadata": {
        "id": "2B_yZQM-OJp3"
      },
      "source": [
        "# 熱"
      ]
    },
    {
      "cell_type": "markdown",
      "metadata": {
        "id": "mTgJYFsCOL8Z"
      },
      "source": [
        "## 熱の移動"
      ]
    },
    {
      "cell_type": "markdown",
      "metadata": {
        "id": "VtY1ZwyiONob"
      },
      "source": [
        "### 熱伝導"
      ]
    },
    {
      "cell_type": "markdown",
      "metadata": {
        "id": "3clSDloyORCI"
      },
      "source": [
        "### 対流"
      ]
    },
    {
      "cell_type": "markdown",
      "metadata": {
        "id": "OK5_chVSOTAa"
      },
      "source": [
        "### 熱放射"
      ]
    }
  ]
}