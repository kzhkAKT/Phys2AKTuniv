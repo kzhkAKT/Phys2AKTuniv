{
  "nbformat": 4,
  "nbformat_minor": 0,
  "metadata": {
    "colab": {
      "name": "1402_熱の移動.ipynb",
      "provenance": [],
      "authorship_tag": "ABX9TyP+SIc+m6j8CYwY91kU0/No",
      "include_colab_link": true
    },
    "kernelspec": {
      "name": "python3",
      "display_name": "Python 3"
    }
  },
  "cells": [
    {
      "cell_type": "markdown",
      "metadata": {
        "id": "view-in-github",
        "colab_type": "text"
      },
      "source": [
        "<a href=\"https://colab.research.google.com/github/kzhkAKT/Phys2AKTuniv/blob/draft/10_Oct/1402_%E7%86%B1%E3%81%AE%E7%A7%BB%E5%8B%95.ipynb\" target=\"_parent\"><img src=\"https://colab.research.google.com/assets/colab-badge.svg\" alt=\"Open In Colab\"/></a>"
      ]
    },
    {
      "cell_type": "markdown",
      "metadata": {
        "id": "2B_yZQM-OJp3"
      },
      "source": [
        "# 熱"
      ]
    },
    {
      "cell_type": "markdown",
      "metadata": {
        "id": "mTgJYFsCOL8Z"
      },
      "source": [
        "## 熱の移動"
      ]
    },
    {
      "cell_type": "markdown",
      "metadata": {
        "id": "UtvbgVm8FWVN"
      },
      "source": [
        "### 熱伝導\n",
        "Thermal conduction"
      ]
    },
    {
      "cell_type": "markdown",
      "metadata": {
        "id": "VtY1ZwyiONob"
      },
      "source": [
        "### 対流\n",
        "convection, convective heat transfer"
      ]
    },
    {
      "cell_type": "markdown",
      "metadata": {
        "id": "OK5_chVSOTAa"
      },
      "source": [
        "### 熱放射"
      ]
    }
  ]
}