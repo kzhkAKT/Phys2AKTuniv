{
  "nbformat": 4,
  "nbformat_minor": 0,
  "metadata": {
    "colab": {
      "name": "1403_気体の分子運動論.ipynb",
      "provenance": [],
      "authorship_tag": "ABX9TyMsTutdBEz6Q8Pw4u/o5Bkz",
      "include_colab_link": true
    },
    "kernelspec": {
      "name": "python3",
      "display_name": "Python 3"
    }
  },
  "cells": [
    {
      "cell_type": "markdown",
      "metadata": {
        "id": "view-in-github",
        "colab_type": "text"
      },
      "source": [
        "<a href=\"https://colab.research.google.com/github/kzhkAKT/Phys2AKTuniv/blob/draft/10_Oct/1403_%E6%B0%97%E4%BD%93%E3%81%AE%E5%88%86%E5%AD%90%E9%81%8B%E5%8B%95%E8%AB%96.ipynb\" target=\"_parent\"><img src=\"https://colab.research.google.com/assets/colab-badge.svg\" alt=\"Open In Colab\"/></a>"
      ]
    },
    {
      "cell_type": "markdown",
      "metadata": {
        "id": "2B_yZQM-OJp3"
      },
      "source": [
        "# 熱"
      ]
    },
    {
      "cell_type": "markdown",
      "metadata": {
        "id": "mTgJYFsCOL8Z"
      },
      "source": [
        "## 理想気体の状態方程式"
      ]
    },
    {
      "cell_type": "markdown",
      "metadata": {
        "id": "YsjkCwdVF3Tk"
      },
      "source": [
        "### \b一定温度での 圧力(P) と 体積 (V) の関係: Boyle 1679yr\n",
        "\n",
        "一定温度(T)のことを **等温**  といい,\n",
        "$T_{\\rm 後}-T_{\\rm 初}=0$ から\n",
        "$\\Delta T=0$ と表します."
      ]
    },
    {
      "cell_type": "code",
      "metadata": {
        "id": "L8ArvFjDj49M",
        "cellView": "form",
        "colab": {
          "base_uri": "https://localhost:8080/",
          "height": 336
        },
        "outputId": "7607a3b4-24f3-45e0-b1d1-84c04ac2bed7"
      },
      "source": [
        "#@title Boyle's law: p V= constant / p is proportional to  1/V\n",
        "%%html\n",
        "<iframe width=\"560\" height=\"315\" src=\"https://www.youtube-nocookie.com/embed/N5xft2fIqQU\" frameborder=\"0\" allow=\"accelerometer; autoplay; encrypted-media; gyroscope; picture-in-picture\" allowfullscreen></iframe>"
      ],
      "execution_count": null,
      "outputs": [
        {
          "output_type": "display_data",
          "data": {
            "text/html": [
              "<iframe width=\"560\" height=\"315\" src=\"https://www.youtube-nocookie.com/embed/N5xft2fIqQU\" frameborder=\"0\" allow=\"accelerometer; autoplay; encrypted-media; gyroscope; picture-in-picture\" allowfullscreen></iframe>"
            ],
            "text/plain": [
              "<IPython.core.display.HTML object>"
            ]
          },
          "metadata": {
            "tags": []
          }
        }
      ]
    },
    {
      "cell_type": "code",
      "metadata": {
        "cellView": "form",
        "id": "VnO5iw03k3Fu",
        "colab": {
          "base_uri": "https://localhost:8080/",
          "height": 398
        },
        "outputId": "cf530f29-d263-4f57-9e37-9963eb5c23aa"
      },
      "source": [
        "#@title A graph of Boyle's original: data https://en.wikipedia.org/wiki/Boyle%27s_law\n",
        "%%svg\n",
        "https://upload.wikimedia.org/wikipedia/commons/e/ea/Boyles_Law.svg"
      ],
      "execution_count": null,
      "outputs": [
        {
          "output_type": "display_data",
          "data": {
            "text/plain": [
              "<IPython.core.display.SVG object>"
            ],
            "image/svg+xml": "<svg height=\"283pt\" id=\"svg1\" version=\"1.1\" viewBox=\"0 0 290 283\" width=\"290pt\" xmlns=\"http://www.w3.org/2000/svg\" xmlns:xlink=\"http://www.w3.org/1999/xlink\">\n<filter id=\"colorAdd\"><feComposite in=\"SourceGraphic\" in2=\"BackgroundImage\" k2=\"1\" k3=\"1\" operator=\"arithmetic\"/></filter>\n<g id=\"figure1\">\n<g id=\"patch1\">\n<path d=\"M0.000000 283.914062L290.315625 283.914062L290.315625 0.000000 L0.000000 0.000000z\" style=\"fill: #ffffff; stroke: #ffffff; stroke-width: 1.000000; stroke-linejoin: round; stroke-linecap: square;  opacity: 1.000000\"/>\n</g>\n<g id=\"axes1\">\n<g id=\"patch2\">\n<path d=\"M49.534375 245.739062L272.734375 245.739062L272.734375 15.339063 L49.534375 15.339063z\" style=\"fill: #ffffff; opacity: 1.000000\"/>\n</g>\n<g id=\"line2d1\">\n<defs>\n  <clipPath id=\"p31357e1f28b93beffcc591b280283ca9\">\n<rect height=\"230.400000\" width=\"223.200000\" x=\"49.534375\" y=\"15.339063\"/>\n  </clipPath>\n</defs><path clip-path=\"url(#p31357e1f28b93beffcc591b280283ca9)\" d=\"M60.694375 20.955062L66.274375 43.419062L71.854375 60.411062 L77.434375 77.403062L83.014375 89.355062L88.594375 101.163062 L94.174375 112.395062L99.754375 121.035062L105.334375 128.955062 L110.914375 137.307062L116.494375 144.219062L122.074375 150.555062 L127.654375 156.315062L138.814375 166.683062L149.974375 175.899062 L161.134375 183.387062L172.294375 190.011062L183.454375 195.915062 L194.614375 201.243062L205.774375 206.571062L216.934375 210.459062 L228.094375 214.635062L239.254375 218.235062L250.414375 221.403062 L261.574375 224.715062\" style=\"fill: none; stroke: #0000ff; stroke-width: 1.000000; stroke-linejoin: round; stroke-linecap: square;  opacity: 1.000000\"/>\n</g>\n<g id=\"line2d2\">\n<defs><path d=\"M0.000000 3.000000C0.795609 3.000000 1.558740 2.683901 2.121320 2.121320 C2.683901 1.558740 3.000000 0.795609 3.000000 0.000000 C3.000000 -0.795609 2.683901 -1.558740 2.121320 -2.121320 C1.558740 -2.683901 0.795609 -3.000000 0.000000 -3.000000 C-0.795609 -3.000000 -1.558740 -2.683901 -2.121320 -2.121320 C-2.683901 -1.558740 -3.000000 -0.795609 -3.000000 0.000000 C-3.000000 0.795609 -2.683901 1.558740 -2.121320 2.121320 C-1.558740 2.683901 -0.795609 3.000000 0.000000 3.000000z\" id=\"m87f81da4bcf58d853202912065521dc1\"/></defs>\n<g clip-path=\"url(#p31357e1f28b93beffcc591b280283ca9)\"><use style=\"fill: #ff0000; stroke: #000000; stroke-width: 0.500000; stroke-linejoin: round; stroke-linecap: butt;  opacity: 1.000000\" x=\"60.694375\" xlink:href=\"#m87f81da4bcf58d853202912065521dc1\" y=\"20.955062\"/>\n<use style=\"fill: #ff0000; stroke: #000000; stroke-width: 0.500000; stroke-linejoin: round; stroke-linecap: butt;  opacity: 1.000000\" x=\"66.274375\" xlink:href=\"#m87f81da4bcf58d853202912065521dc1\" y=\"43.419062\"/>\n<use style=\"fill: #ff0000; stroke: #000000; stroke-width: 0.500000; stroke-linejoin: round; stroke-linecap: butt;  opacity: 1.000000\" x=\"71.854375\" xlink:href=\"#m87f81da4bcf58d853202912065521dc1\" y=\"60.411062\"/>\n<use style=\"fill: #ff0000; stroke: #000000; stroke-width: 0.500000; stroke-linejoin: round; stroke-linecap: butt;  opacity: 1.000000\" x=\"77.434375\" xlink:href=\"#m87f81da4bcf58d853202912065521dc1\" y=\"77.403062\"/>\n<use style=\"fill: #ff0000; stroke: #000000; stroke-width: 0.500000; stroke-linejoin: round; stroke-linecap: butt;  opacity: 1.000000\" x=\"83.014375\" xlink:href=\"#m87f81da4bcf58d853202912065521dc1\" y=\"89.355062\"/>\n<use style=\"fill: #ff0000; stroke: #000000; stroke-width: 0.500000; stroke-linejoin: round; stroke-linecap: butt;  opacity: 1.000000\" x=\"88.594375\" xlink:href=\"#m87f81da4bcf58d853202912065521dc1\" y=\"101.163062\"/>\n<use style=\"fill: #ff0000; stroke: #000000; stroke-width: 0.500000; stroke-linejoin: round; stroke-linecap: butt;  opacity: 1.000000\" x=\"94.174375\" xlink:href=\"#m87f81da4bcf58d853202912065521dc1\" y=\"112.395062\"/>\n<use style=\"fill: #ff0000; stroke: #000000; stroke-width: 0.500000; stroke-linejoin: round; stroke-linecap: butt;  opacity: 1.000000\" x=\"99.754375\" xlink:href=\"#m87f81da4bcf58d853202912065521dc1\" y=\"121.035062\"/>\n<use style=\"fill: #ff0000; stroke: #000000; stroke-width: 0.500000; stroke-linejoin: round; stroke-linecap: butt;  opacity: 1.000000\" x=\"105.334375\" xlink:href=\"#m87f81da4bcf58d853202912065521dc1\" y=\"128.955062\"/>\n<use style=\"fill: #ff0000; stroke: #000000; stroke-width: 0.500000; stroke-linejoin: round; stroke-linecap: butt;  opacity: 1.000000\" x=\"110.914375\" xlink:href=\"#m87f81da4bcf58d853202912065521dc1\" y=\"137.307062\"/>\n<use style=\"fill: #ff0000; stroke: #000000; stroke-width: 0.500000; stroke-linejoin: round; stroke-linecap: butt;  opacity: 1.000000\" x=\"116.494375\" xlink:href=\"#m87f81da4bcf58d853202912065521dc1\" y=\"144.219062\"/>\n<use style=\"fill: #ff0000; stroke: #000000; stroke-width: 0.500000; stroke-linejoin: round; stroke-linecap: butt;  opacity: 1.000000\" x=\"122.074375\" xlink:href=\"#m87f81da4bcf58d853202912065521dc1\" y=\"150.555062\"/>\n<use style=\"fill: #ff0000; stroke: #000000; stroke-width: 0.500000; stroke-linejoin: round; stroke-linecap: butt;  opacity: 1.000000\" x=\"127.654375\" xlink:href=\"#m87f81da4bcf58d853202912065521dc1\" y=\"156.315062\"/>\n<use style=\"fill: #ff0000; stroke: #000000; stroke-width: 0.500000; stroke-linejoin: round; stroke-linecap: butt;  opacity: 1.000000\" x=\"138.814375\" xlink:href=\"#m87f81da4bcf58d853202912065521dc1\" y=\"166.683062\"/>\n<use style=\"fill: #ff0000; stroke: #000000; stroke-width: 0.500000; stroke-linejoin: round; stroke-linecap: butt;  opacity: 1.000000\" x=\"149.974375\" xlink:href=\"#m87f81da4bcf58d853202912065521dc1\" y=\"175.899062\"/>\n<use style=\"fill: #ff0000; stroke: #000000; stroke-width: 0.500000; stroke-linejoin: round; stroke-linecap: butt;  opacity: 1.000000\" x=\"161.134375\" xlink:href=\"#m87f81da4bcf58d853202912065521dc1\" y=\"183.387062\"/>\n<use style=\"fill: #ff0000; stroke: #000000; stroke-width: 0.500000; stroke-linejoin: round; stroke-linecap: butt;  opacity: 1.000000\" x=\"172.294375\" xlink:href=\"#m87f81da4bcf58d853202912065521dc1\" y=\"190.011062\"/>\n<use style=\"fill: #ff0000; stroke: #000000; stroke-width: 0.500000; stroke-linejoin: round; stroke-linecap: butt;  opacity: 1.000000\" x=\"183.454375\" xlink:href=\"#m87f81da4bcf58d853202912065521dc1\" y=\"195.915062\"/>\n<use style=\"fill: #ff0000; stroke: #000000; stroke-width: 0.500000; stroke-linejoin: round; stroke-linecap: butt;  opacity: 1.000000\" x=\"194.614375\" xlink:href=\"#m87f81da4bcf58d853202912065521dc1\" y=\"201.243062\"/>\n<use style=\"fill: #ff0000; stroke: #000000; stroke-width: 0.500000; stroke-linejoin: round; stroke-linecap: butt;  opacity: 1.000000\" x=\"205.774375\" xlink:href=\"#m87f81da4bcf58d853202912065521dc1\" y=\"206.571062\"/>\n<use style=\"fill: #ff0000; stroke: #000000; stroke-width: 0.500000; stroke-linejoin: round; stroke-linecap: butt;  opacity: 1.000000\" x=\"216.934375\" xlink:href=\"#m87f81da4bcf58d853202912065521dc1\" y=\"210.459062\"/>\n<use style=\"fill: #ff0000; stroke: #000000; stroke-width: 0.500000; stroke-linejoin: round; stroke-linecap: butt;  opacity: 1.000000\" x=\"228.094375\" xlink:href=\"#m87f81da4bcf58d853202912065521dc1\" y=\"214.635062\"/>\n<use style=\"fill: #ff0000; stroke: #000000; stroke-width: 0.500000; stroke-linejoin: round; stroke-linecap: butt;  opacity: 1.000000\" x=\"239.254375\" xlink:href=\"#m87f81da4bcf58d853202912065521dc1\" y=\"218.235062\"/>\n<use style=\"fill: #ff0000; stroke: #000000; stroke-width: 0.500000; stroke-linejoin: round; stroke-linecap: butt;  opacity: 1.000000\" x=\"250.414375\" xlink:href=\"#m87f81da4bcf58d853202912065521dc1\" y=\"221.403062\"/>\n<use style=\"fill: #ff0000; stroke: #000000; stroke-width: 0.500000; stroke-linejoin: round; stroke-linecap: butt;  opacity: 1.000000\" x=\"261.574375\" xlink:href=\"#m87f81da4bcf58d853202912065521dc1\" y=\"224.715062\"/>\n</g></g>\n<g id=\"matplotlib.axis1\">\n<g id=\"xtick1\">\n<g id=\"line2d3\">\n<path clip-path=\"url(#p31357e1f28b93beffcc591b280283ca9)\" d=\"M49.534375 245.739062L49.534375 15.339063\" style=\"fill: none; stroke: #000000; stroke-width: 0.500000; stroke-linejoin: round; stroke-linecap: butt; stroke-dasharray: 1.000000,3.000000; stroke-dashoffset: 0.000000; opacity: 1.000000\"/>\n</g>\n<g id=\"line2d4\">\n<defs><path d=\"M0.000000 0.000000L0.000000 -4.000000\" id=\"m30e32995789d870ad79a2e54c91cf9c6\"/></defs>\n<g><use style=\"fill: none; stroke: #000000; stroke-width: 0.500000; stroke-linejoin: round; stroke-linecap: butt;  opacity: 1.000000\" x=\"49.534375\" xlink:href=\"#m30e32995789d870ad79a2e54c91cf9c6\" y=\"245.739062\"/>\n</g></g>\n<g id=\"line2d5\">\n<defs><path d=\"M0.000000 0.000000L0.000000 4.000000\" id=\"m9281cae24120827b11d5ea8a7ad3e96b\"/></defs>\n<g><use style=\"fill: none; stroke: #000000; stroke-width: 0.500000; stroke-linejoin: round; stroke-linecap: butt;  opacity: 1.000000\" x=\"49.534375\" xlink:href=\"#m9281cae24120827b11d5ea8a7ad3e96b\" y=\"15.339063\"/>\n</g></g>\n<g id=\"text1\">\n<defs>\n<path d=\"M12.406250 -8.296875l16.109375 0.000000l0.000000 -55.625000l-17.531250 3.515625l0.000000 -8.984375l17.437500 -3.515625l9.859375 0.000000l0.000000 64.609375l16.109375 0.000000l0.000000 8.296875l-41.984375 0.000000z\" id=\"c_42baa63129a918535c52adb20d687ea7\"/>\n<path d=\"M31.781250 -66.406250q-7.609375 0.000000 -11.453125 7.500000q-3.828125 7.484375 -3.828125 22.531250q0.000000 14.984375 3.828125 22.484375q3.843750 7.500000 11.453125 7.500000q7.671875 0.000000 11.500000 -7.500000q3.843750 -7.500000 3.843750 -22.484375q0.000000 -15.046875 -3.843750 -22.531250q-3.828125 -7.500000 -11.500000 -7.500000M31.781250 -74.218750q12.265625 0.000000 18.734375 9.703125q6.468750 9.687500 6.468750 28.140625q0.000000 18.406250 -6.468750 28.109375q-6.468750 9.687500 -18.734375 9.687500q-12.250000 0.000000 -18.718750 -9.687500q-6.468750 -9.703125 -6.468750 -28.109375q0.000000 -18.453125 6.468750 -28.140625q6.468750 -9.703125 18.718750 -9.703125\" id=\"c_7a2040fe3b94fcd41d0a72c84e93b115\"/>\n</defs>\n<g style=\"fill: #000000; opacity: 1.000000\" transform=\"translate(42.948438,258.645312)scale(0.120000)\">\n<use xlink:href=\"#c_42baa63129a918535c52adb20d687ea7\"/>\n<use x=\"63.623047\" xlink:href=\"#c_7a2040fe3b94fcd41d0a72c84e93b115\"/>\n</g>\n</g>\n</g>\n<g id=\"xtick2\">\n<g id=\"line2d6\">\n<path clip-path=\"url(#p31357e1f28b93beffcc591b280283ca9)\" d=\"M77.434375 245.739062L77.434375 15.339063\" style=\"fill: none; stroke: #000000; stroke-width: 0.500000; stroke-linejoin: round; stroke-linecap: butt; stroke-dasharray: 1.000000,3.000000; stroke-dashoffset: 0.000000; opacity: 1.000000\"/>\n</g>\n<g id=\"line2d7\">\n<g><use style=\"fill: none; stroke: #000000; stroke-width: 0.500000; stroke-linejoin: round; stroke-linecap: butt;  opacity: 1.000000\" x=\"77.434375\" xlink:href=\"#m30e32995789d870ad79a2e54c91cf9c6\" y=\"245.739062\"/>\n</g></g>\n<g id=\"line2d8\">\n<g><use style=\"fill: none; stroke: #000000; stroke-width: 0.500000; stroke-linejoin: round; stroke-linecap: butt;  opacity: 1.000000\" x=\"77.434375\" xlink:href=\"#m9281cae24120827b11d5ea8a7ad3e96b\" y=\"15.339063\"/>\n</g></g>\n<g id=\"text2\">\n<defs>\n<path d=\"M10.796875 -72.906250l38.718750 0.000000l0.000000 8.312500l-29.687500 0.000000l0.000000 17.859375q2.140625 -0.734375 4.281250 -1.093750q2.156250 -0.359375 4.312500 -0.359375q12.203125 0.000000 19.328125 6.687500q7.140625 6.687500 7.140625 18.109375q0.000000 11.765625 -7.328125 18.296875q-7.328125 6.515625 -20.656250 6.515625q-4.593750 0.000000 -9.359375 -0.781250q-4.750000 -0.781250 -9.828125 -2.343750l0.000000 -9.921875q4.390625 2.390625 9.078125 3.562500q4.687500 1.171875 9.906250 1.171875q8.453125 0.000000 13.375000 -4.437500q4.937500 -4.437500 4.937500 -12.062500q0.000000 -7.609375 -4.937500 -12.046875q-4.921875 -4.453125 -13.375000 -4.453125q-3.953125 0.000000 -7.890625 0.875000q-3.921875 0.875000 -8.015625 2.734375z\" id=\"c_1260a2df50f305f3db244e29828f968e\"/>\n</defs>\n<g style=\"fill: #000000; opacity: 1.000000\" transform=\"translate(70.973438,258.489062)scale(0.120000)\">\n<use xlink:href=\"#c_42baa63129a918535c52adb20d687ea7\"/>\n<use x=\"63.623047\" xlink:href=\"#c_1260a2df50f305f3db244e29828f968e\"/>\n</g>\n</g>\n</g>\n<g id=\"xtick3\">\n<g id=\"line2d9\">\n<path clip-path=\"url(#p31357e1f28b93beffcc591b280283ca9)\" d=\"M105.334375 245.739062L105.334375 15.339063\" style=\"fill: none; stroke: #000000; stroke-width: 0.500000; stroke-linejoin: round; stroke-linecap: butt; stroke-dasharray: 1.000000,3.000000; stroke-dashoffset: 0.000000; opacity: 1.000000\"/>\n</g>\n<g id=\"line2d10\">\n<g><use style=\"fill: none; stroke: #000000; stroke-width: 0.500000; stroke-linejoin: round; stroke-linecap: butt;  opacity: 1.000000\" x=\"105.334375\" xlink:href=\"#m30e32995789d870ad79a2e54c91cf9c6\" y=\"245.739062\"/>\n</g></g>\n<g id=\"line2d11\">\n<g><use style=\"fill: none; stroke: #000000; stroke-width: 0.500000; stroke-linejoin: round; stroke-linecap: butt;  opacity: 1.000000\" x=\"105.334375\" xlink:href=\"#m9281cae24120827b11d5ea8a7ad3e96b\" y=\"15.339063\"/>\n</g></g>\n<g id=\"text3\">\n<defs>\n<path d=\"M19.187500 -8.296875l34.421875 0.000000l0.000000 8.296875l-46.281250 0.000000l0.000000 -8.296875q5.609375 -5.812500 15.296875 -15.593750q9.703125 -9.796875 12.187500 -12.640625q4.734375 -5.312500 6.609375 -9.000000q1.890625 -3.687500 1.890625 -7.250000q0.000000 -5.812500 -4.078125 -9.468750q-4.078125 -3.671875 -10.625000 -3.671875q-4.640625 0.000000 -9.796875 1.609375q-5.140625 1.609375 -11.000000 4.890625l0.000000 -9.968750q5.953125 -2.390625 11.125000 -3.609375q5.187500 -1.218750 9.484375 -1.218750q11.328125 0.000000 18.062500 5.671875q6.734375 5.656250 6.734375 15.125000q0.000000 4.500000 -1.687500 8.531250q-1.671875 4.015625 -6.125000 9.484375q-1.218750 1.421875 -7.765625 8.187500q-6.531250 6.765625 -18.453125 18.921875\" id=\"c_ed3f3ed3ebfbd18bcb9c012009a68ad1\"/>\n</defs>\n<g style=\"fill: #000000; opacity: 1.000000\" transform=\"translate(98.529687,258.645312)scale(0.120000)\">\n<use xlink:href=\"#c_ed3f3ed3ebfbd18bcb9c012009a68ad1\"/>\n<use x=\"63.623047\" xlink:href=\"#c_7a2040fe3b94fcd41d0a72c84e93b115\"/>\n</g>\n</g>\n</g>\n<g id=\"xtick4\">\n<g id=\"line2d12\">\n<path clip-path=\"url(#p31357e1f28b93beffcc591b280283ca9)\" d=\"M133.234375 245.739062L133.234375 15.339063\" style=\"fill: none; stroke: #000000; stroke-width: 0.500000; stroke-linejoin: round; stroke-linecap: butt; stroke-dasharray: 1.000000,3.000000; stroke-dashoffset: 0.000000; opacity: 1.000000\"/>\n</g>\n<g id=\"line2d13\">\n<g><use style=\"fill: none; stroke: #000000; stroke-width: 0.500000; stroke-linejoin: round; stroke-linecap: butt;  opacity: 1.000000\" x=\"133.234375\" xlink:href=\"#m30e32995789d870ad79a2e54c91cf9c6\" y=\"245.739062\"/>\n</g></g>\n<g id=\"line2d14\">\n<g><use style=\"fill: none; stroke: #000000; stroke-width: 0.500000; stroke-linejoin: round; stroke-linecap: butt;  opacity: 1.000000\" x=\"133.234375\" xlink:href=\"#m9281cae24120827b11d5ea8a7ad3e96b\" y=\"15.339063\"/>\n</g></g>\n<g id=\"text4\">\n<g style=\"fill: #000000; opacity: 1.000000\" transform=\"translate(126.554688,258.645312)scale(0.120000)\">\n<use xlink:href=\"#c_ed3f3ed3ebfbd18bcb9c012009a68ad1\"/>\n<use x=\"63.623047\" xlink:href=\"#c_1260a2df50f305f3db244e29828f968e\"/>\n</g>\n</g>\n</g>\n<g id=\"xtick5\">\n<g id=\"line2d15\">\n<path clip-path=\"url(#p31357e1f28b93beffcc591b280283ca9)\" d=\"M161.134375 245.739062L161.134375 15.339063\" style=\"fill: none; stroke: #000000; stroke-width: 0.500000; stroke-linejoin: round; stroke-linecap: butt; stroke-dasharray: 1.000000,3.000000; stroke-dashoffset: 0.000000; opacity: 1.000000\"/>\n</g>\n<g id=\"line2d16\">\n<g><use style=\"fill: none; stroke: #000000; stroke-width: 0.500000; stroke-linejoin: round; stroke-linecap: butt;  opacity: 1.000000\" x=\"161.134375\" xlink:href=\"#m30e32995789d870ad79a2e54c91cf9c6\" y=\"245.739062\"/>\n</g></g>\n<g id=\"line2d17\">\n<g><use style=\"fill: none; stroke: #000000; stroke-width: 0.500000; stroke-linejoin: round; stroke-linecap: butt;  opacity: 1.000000\" x=\"161.134375\" xlink:href=\"#m9281cae24120827b11d5ea8a7ad3e96b\" y=\"15.339063\"/>\n</g></g>\n<g id=\"text5\">\n<defs>\n<path d=\"M40.578125 -39.312500q7.078125 1.515625 11.046875 6.312500q3.984375 4.781250 3.984375 11.812500q0.000000 10.781250 -7.421875 16.703125q-7.421875 5.906250 -21.093750 5.906250q-4.578125 0.000000 -9.437500 -0.906250q-4.859375 -0.906250 -10.031250 -2.718750l0.000000 -9.515625q4.093750 2.390625 8.968750 3.609375q4.890625 1.218750 10.218750 1.218750q9.265625 0.000000 14.125000 -3.656250q4.859375 -3.656250 4.859375 -10.640625q0.000000 -6.453125 -4.515625 -10.078125q-4.515625 -3.640625 -12.562500 -3.640625l-8.500000 0.000000l0.000000 -8.109375l8.890625 0.000000q7.265625 0.000000 11.125000 -2.906250q3.859375 -2.906250 3.859375 -8.375000q0.000000 -5.609375 -3.984375 -8.609375q-3.968750 -3.015625 -11.390625 -3.015625q-4.062500 0.000000 -8.703125 0.890625q-4.640625 0.875000 -10.203125 2.718750l0.000000 -8.781250q5.625000 -1.562500 10.531250 -2.343750q4.906250 -0.781250 9.250000 -0.781250q11.234375 0.000000 17.765625 5.109375q6.546875 5.093750 6.546875 13.781250q0.000000 6.062500 -3.468750 10.234375q-3.468750 4.171875 -9.859375 5.781250\" id=\"c_3dcfa38a02242cb63ec6726c6e70be7a\"/>\n</defs>\n<g style=\"fill: #000000; opacity: 1.000000\" transform=\"translate(154.353125,258.645312)scale(0.120000)\">\n<use xlink:href=\"#c_3dcfa38a02242cb63ec6726c6e70be7a\"/>\n<use x=\"63.623047\" xlink:href=\"#c_7a2040fe3b94fcd41d0a72c84e93b115\"/>\n</g>\n</g>\n</g>\n<g id=\"xtick6\">\n<g id=\"line2d18\">\n<path clip-path=\"url(#p31357e1f28b93beffcc591b280283ca9)\" d=\"M189.034375 245.739062L189.034375 15.339063\" style=\"fill: none; stroke: #000000; stroke-width: 0.500000; stroke-linejoin: round; stroke-linecap: butt; stroke-dasharray: 1.000000,3.000000; stroke-dashoffset: 0.000000; opacity: 1.000000\"/>\n</g>\n<g id=\"line2d19\">\n<g><use style=\"fill: none; stroke: #000000; stroke-width: 0.500000; stroke-linejoin: round; stroke-linecap: butt;  opacity: 1.000000\" x=\"189.034375\" xlink:href=\"#m30e32995789d870ad79a2e54c91cf9c6\" y=\"245.739062\"/>\n</g></g>\n<g id=\"line2d20\">\n<g><use style=\"fill: none; stroke: #000000; stroke-width: 0.500000; stroke-linejoin: round; stroke-linecap: butt;  opacity: 1.000000\" x=\"189.034375\" xlink:href=\"#m9281cae24120827b11d5ea8a7ad3e96b\" y=\"15.339063\"/>\n</g></g>\n<g id=\"text6\">\n<g style=\"fill: #000000; opacity: 1.000000\" transform=\"translate(182.378125,258.645312)scale(0.120000)\">\n<use xlink:href=\"#c_3dcfa38a02242cb63ec6726c6e70be7a\"/>\n<use x=\"63.623047\" xlink:href=\"#c_1260a2df50f305f3db244e29828f968e\"/>\n</g>\n</g>\n</g>\n<g id=\"xtick7\">\n<g id=\"line2d21\">\n<path clip-path=\"url(#p31357e1f28b93beffcc591b280283ca9)\" d=\"M216.934375 245.739062L216.934375 15.339063\" style=\"fill: none; stroke: #000000; stroke-width: 0.500000; stroke-linejoin: round; stroke-linecap: butt; stroke-dasharray: 1.000000,3.000000; stroke-dashoffset: 0.000000; opacity: 1.000000\"/>\n</g>\n<g id=\"line2d22\">\n<g><use style=\"fill: none; stroke: #000000; stroke-width: 0.500000; stroke-linejoin: round; stroke-linecap: butt;  opacity: 1.000000\" x=\"216.934375\" xlink:href=\"#m30e32995789d870ad79a2e54c91cf9c6\" y=\"245.739062\"/>\n</g></g>\n<g id=\"line2d23\">\n<g><use style=\"fill: none; stroke: #000000; stroke-width: 0.500000; stroke-linejoin: round; stroke-linecap: butt;  opacity: 1.000000\" x=\"216.934375\" xlink:href=\"#m9281cae24120827b11d5ea8a7ad3e96b\" y=\"15.339063\"/>\n</g></g>\n<g id=\"text7\">\n<defs>\n<path d=\"M37.796875 -64.312500l-24.906250 38.921875l24.906250 0.000000zM35.203125 -72.906250l12.406250 0.000000l0.000000 47.515625l10.406250 0.000000l0.000000 8.203125l-10.406250 0.000000l0.000000 17.187500l-9.812500 0.000000l0.000000 -17.187500l-32.906250 0.000000l0.000000 -9.515625z\" id=\"c_a0416418d96557a09b8c1332d34883ba\"/>\n</defs>\n<g style=\"fill: #000000; opacity: 1.000000\" transform=\"translate(209.989062,258.645312)scale(0.120000)\">\n<use xlink:href=\"#c_a0416418d96557a09b8c1332d34883ba\"/>\n<use x=\"63.623047\" xlink:href=\"#c_7a2040fe3b94fcd41d0a72c84e93b115\"/>\n</g>\n</g>\n</g>\n<g id=\"xtick8\">\n<g id=\"line2d24\">\n<path clip-path=\"url(#p31357e1f28b93beffcc591b280283ca9)\" d=\"M244.834375 245.739062L244.834375 15.339063\" style=\"fill: none; stroke: #000000; stroke-width: 0.500000; stroke-linejoin: round; stroke-linecap: butt; stroke-dasharray: 1.000000,3.000000; stroke-dashoffset: 0.000000; opacity: 1.000000\"/>\n</g>\n<g id=\"line2d25\">\n<g><use style=\"fill: none; stroke: #000000; stroke-width: 0.500000; stroke-linejoin: round; stroke-linecap: butt;  opacity: 1.000000\" x=\"244.834375\" xlink:href=\"#m30e32995789d870ad79a2e54c91cf9c6\" y=\"245.739062\"/>\n</g></g>\n<g id=\"line2d26\">\n<g><use style=\"fill: none; stroke: #000000; stroke-width: 0.500000; stroke-linejoin: round; stroke-linecap: butt;  opacity: 1.000000\" x=\"244.834375\" xlink:href=\"#m9281cae24120827b11d5ea8a7ad3e96b\" y=\"15.339063\"/>\n</g></g>\n<g id=\"text8\">\n<g style=\"fill: #000000; opacity: 1.000000\" transform=\"translate(238.014062,258.489062)scale(0.120000)\">\n<use xlink:href=\"#c_a0416418d96557a09b8c1332d34883ba\"/>\n<use x=\"63.623047\" xlink:href=\"#c_1260a2df50f305f3db244e29828f968e\"/>\n</g>\n</g>\n</g>\n<g id=\"xtick9\">\n<g id=\"line2d27\">\n<path clip-path=\"url(#p31357e1f28b93beffcc591b280283ca9)\" d=\"M272.734375 245.739062L272.734375 15.339063\" style=\"fill: none; stroke: #000000; stroke-width: 0.500000; stroke-linejoin: round; stroke-linecap: butt; stroke-dasharray: 1.000000,3.000000; stroke-dashoffset: 0.000000; opacity: 1.000000\"/>\n</g>\n<g id=\"line2d28\">\n<g><use style=\"fill: none; stroke: #000000; stroke-width: 0.500000; stroke-linejoin: round; stroke-linecap: butt;  opacity: 1.000000\" x=\"272.734375\" xlink:href=\"#m30e32995789d870ad79a2e54c91cf9c6\" y=\"245.739062\"/>\n</g></g>\n<g id=\"line2d29\">\n<g><use style=\"fill: none; stroke: #000000; stroke-width: 0.500000; stroke-linejoin: round; stroke-linecap: butt;  opacity: 1.000000\" x=\"272.734375\" xlink:href=\"#m9281cae24120827b11d5ea8a7ad3e96b\" y=\"15.339063\"/>\n</g></g>\n<g id=\"text9\">\n<g style=\"fill: #000000; opacity: 1.000000\" transform=\"translate(265.953125,258.645312)scale(0.120000)\">\n<use xlink:href=\"#c_1260a2df50f305f3db244e29828f968e\"/>\n<use x=\"63.623047\" xlink:href=\"#c_7a2040fe3b94fcd41d0a72c84e93b115\"/>\n</g>\n</g>\n</g>\n<g id=\"text10\">\n<defs>\n<path d=\"M28.609375 -0.000000l-27.828125 -72.906250l10.296875 0.000000l23.109375 61.375000l23.140625 -61.375000l10.250000 0.000000l-27.781250 72.906250z\" id=\"c_ae70b0af174184799fa4976b9c5da571\"/>\n<path d=\"M30.609375 -48.390625q-7.218750 0.000000 -11.421875 5.640625q-4.203125 5.640625 -4.203125 15.453125q0.000000 9.812500 4.171875 15.453125q4.187500 5.640625 11.453125 5.640625q7.187500 0.000000 11.375000 -5.656250q4.203125 -5.671875 4.203125 -15.437500q0.000000 -9.718750 -4.203125 -15.406250q-4.187500 -5.687500 -11.375000 -5.687500M30.609375 -56.000000q11.718750 0.000000 18.406250 7.625000q6.703125 7.609375 6.703125 21.078125q0.000000 13.421875 -6.703125 21.078125q-6.687500 7.640625 -18.406250 7.640625q-11.765625 0.000000 -18.437500 -7.640625q-6.656250 -7.656250 -6.656250 -21.078125q0.000000 -13.468750 6.656250 -21.078125q6.671875 -7.625000 18.437500 -7.625000\" id=\"c_f05dd90d41f04bb96ef1ca503cc2044b\"/>\n<path d=\"M9.421875 -75.984375l8.984375 0.000000l0.000000 75.984375l-8.984375 0.000000z\" id=\"c_5099edb83619131346ae654950954dea\"/>\n<path d=\"M8.500000 -21.578125l0.000000 -33.109375l8.984375 0.000000l0.000000 32.765625q0.000000 7.765625 3.015625 11.656250q3.031250 3.875000 9.093750 3.875000q7.265625 0.000000 11.484375 -4.640625q4.234375 -4.640625 4.234375 -12.656250l0.000000 -31.000000l8.984375 0.000000l0.000000 54.687500l-8.984375 0.000000l0.000000 -8.406250q-3.265625 4.984375 -7.593750 7.406250q-4.312500 2.421875 -10.031250 2.421875q-9.421875 0.000000 -14.312500 -5.859375q-4.875000 -5.859375 -4.875000 -17.140625\" id=\"c_c438d87e693443c2861ebd6359e6491e\"/>\n<path d=\"M52.000000 -44.187500q3.375000 -6.062500 8.062500 -8.937500q4.687500 -2.875000 11.031250 -2.875000q8.546875 0.000000 13.187500 5.984375q4.640625 5.968750 4.640625 17.000000l0.000000 33.015625l-9.031250 0.000000l0.000000 -32.718750q0.000000 -7.859375 -2.796875 -11.656250q-2.781250 -3.812500 -8.484375 -3.812500q-6.984375 0.000000 -11.046875 4.640625q-4.046875 4.625000 -4.046875 12.640625l0.000000 30.906250l-9.031250 0.000000l0.000000 -32.718750q0.000000 -7.906250 -2.781250 -11.687500q-2.781250 -3.781250 -8.593750 -3.781250q-6.890625 0.000000 -10.953125 4.656250q-4.046875 4.656250 -4.046875 12.625000l0.000000 30.906250l-9.031250 0.000000l0.000000 -54.687500l9.031250 0.000000l0.000000 8.500000q3.078125 -5.031250 7.375000 -7.421875q4.296875 -2.390625 10.203125 -2.390625q5.968750 0.000000 10.140625 3.031250q4.171875 3.015625 6.171875 8.781250\" id=\"c_4653c6dfde66c7610eae0911760d3490\"/>\n<path d=\"M56.203125 -29.593750l0.000000 4.390625l-41.312500 0.000000q0.593750 9.281250 5.593750 14.140625q5.000000 4.859375 13.937500 4.859375q5.171875 0.000000 10.031250 -1.265625q4.859375 -1.265625 9.656250 -3.812500l0.000000 8.500000q-4.843750 2.046875 -9.921875 3.125000q-5.078125 1.078125 -10.296875 1.078125q-13.093750 0.000000 -20.734375 -7.609375q-7.640625 -7.625000 -7.640625 -20.625000q0.000000 -13.421875 7.250000 -21.296875q7.250000 -7.890625 19.562500 -7.890625q11.031250 0.000000 17.453125 7.109375q6.421875 7.093750 6.421875 19.296875M47.218750 -32.234375q-0.093750 -7.359375 -4.125000 -11.750000q-4.031250 -4.406250 -10.671875 -4.406250q-7.515625 0.000000 -12.031250 4.250000q-4.515625 4.250000 -5.203125 11.968750z\" id=\"c_0bce5afba2dc6b9024b26277c38ad8e8\"/>\n</defs>\n<g style=\"fill: #000000; opacity: 1.000000\" transform=\"translate(139.157813,272.942187)scale(0.120000)\">\n<use xlink:href=\"#c_ae70b0af174184799fa4976b9c5da571\"/>\n<use x=\"60.658203\" xlink:href=\"#c_f05dd90d41f04bb96ef1ca503cc2044b\"/>\n<use x=\"121.839844\" xlink:href=\"#c_5099edb83619131346ae654950954dea\"/>\n<use x=\"149.623047\" xlink:href=\"#c_c438d87e693443c2861ebd6359e6491e\"/>\n<use x=\"213.001953\" xlink:href=\"#c_4653c6dfde66c7610eae0911760d3490\"/>\n<use x=\"310.414062\" xlink:href=\"#c_0bce5afba2dc6b9024b26277c38ad8e8\"/>\n</g>\n</g>\n</g>\n<g id=\"matplotlib.axis2\">\n<g id=\"ytick1\">\n<g id=\"line2d30\">\n<path clip-path=\"url(#p31357e1f28b93beffcc591b280283ca9)\" d=\"M49.534375 245.739062L272.734375 245.739062\" style=\"fill: none; stroke: #000000; stroke-width: 0.500000; stroke-linejoin: round; stroke-linecap: butt; stroke-dasharray: 1.000000,3.000000; stroke-dashoffset: 0.000000; opacity: 1.000000\"/>\n</g>\n<g id=\"line2d31\">\n<defs><path d=\"M0.000000 0.000000L4.000000 0.000000\" id=\"m3400efa6b1638b3fea9e19e898273957\"/></defs>\n<g><use style=\"fill: none; stroke: #000000; stroke-width: 0.500000; stroke-linejoin: round; stroke-linecap: butt;  opacity: 1.000000\" x=\"49.534375\" xlink:href=\"#m3400efa6b1638b3fea9e19e898273957\" y=\"245.739062\"/>\n</g></g>\n<g id=\"line2d32\">\n<defs><path d=\"M0.000000 0.000000L-4.000000 0.000000\" id=\"m20b58b2501143cb5e0a5e8f1ef6f1643\"/></defs>\n<g><use style=\"fill: none; stroke: #000000; stroke-width: 0.500000; stroke-linejoin: round; stroke-linecap: butt;  opacity: 1.000000\" x=\"272.734375\" xlink:href=\"#m20b58b2501143cb5e0a5e8f1ef6f1643\" y=\"245.739062\"/>\n</g></g>\n<g id=\"text11\">\n<g style=\"fill: #000000; opacity: 1.000000\" transform=\"translate(31.925000,250.106250)scale(0.120000)\">\n<use xlink:href=\"#c_ed3f3ed3ebfbd18bcb9c012009a68ad1\"/>\n<use x=\"63.623047\" xlink:href=\"#c_7a2040fe3b94fcd41d0a72c84e93b115\"/>\n</g>\n</g>\n</g>\n<g id=\"ytick2\">\n<g id=\"line2d33\">\n<path clip-path=\"url(#p31357e1f28b93beffcc591b280283ca9)\" d=\"M49.534375 199.659063L272.734375 199.659063\" style=\"fill: none; stroke: #000000; stroke-width: 0.500000; stroke-linejoin: round; stroke-linecap: butt; stroke-dasharray: 1.000000,3.000000; stroke-dashoffset: 0.000000; opacity: 1.000000\"/>\n</g>\n<g id=\"line2d34\">\n<g><use style=\"fill: none; stroke: #000000; stroke-width: 0.500000; stroke-linejoin: round; stroke-linecap: butt;  opacity: 1.000000\" x=\"49.534375\" xlink:href=\"#m3400efa6b1638b3fea9e19e898273957\" y=\"199.659063\"/>\n</g></g>\n<g id=\"line2d35\">\n<g><use style=\"fill: none; stroke: #000000; stroke-width: 0.500000; stroke-linejoin: round; stroke-linecap: butt;  opacity: 1.000000\" x=\"272.734375\" xlink:href=\"#m20b58b2501143cb5e0a5e8f1ef6f1643\" y=\"199.659063\"/>\n</g></g>\n<g id=\"text12\">\n<g style=\"fill: #000000; opacity: 1.000000\" transform=\"translate(31.643750,204.026250)scale(0.120000)\">\n<use xlink:href=\"#c_a0416418d96557a09b8c1332d34883ba\"/>\n<use x=\"63.623047\" xlink:href=\"#c_7a2040fe3b94fcd41d0a72c84e93b115\"/>\n</g>\n</g>\n</g>\n<g id=\"ytick3\">\n<g id=\"line2d36\">\n<path clip-path=\"url(#p31357e1f28b93beffcc591b280283ca9)\" d=\"M49.534375 153.579063L272.734375 153.579063\" style=\"fill: none; stroke: #000000; stroke-width: 0.500000; stroke-linejoin: round; stroke-linecap: butt; stroke-dasharray: 1.000000,3.000000; stroke-dashoffset: 0.000000; opacity: 1.000000\"/>\n</g>\n<g id=\"line2d37\">\n<g><use style=\"fill: none; stroke: #000000; stroke-width: 0.500000; stroke-linejoin: round; stroke-linecap: butt;  opacity: 1.000000\" x=\"49.534375\" xlink:href=\"#m3400efa6b1638b3fea9e19e898273957\" y=\"153.579063\"/>\n</g></g>\n<g id=\"line2d38\">\n<g><use style=\"fill: none; stroke: #000000; stroke-width: 0.500000; stroke-linejoin: round; stroke-linecap: butt;  opacity: 1.000000\" x=\"272.734375\" xlink:href=\"#m20b58b2501143cb5e0a5e8f1ef6f1643\" y=\"153.579063\"/>\n</g></g>\n<g id=\"text13\">\n<defs>\n<path d=\"M33.015625 -40.375000q-6.640625 0.000000 -10.531250 4.546875q-3.875000 4.531250 -3.875000 12.437500q0.000000 7.859375 3.875000 12.437500q3.890625 4.562500 10.531250 4.562500q6.640625 0.000000 10.515625 -4.562500q3.875000 -4.578125 3.875000 -12.437500q0.000000 -7.906250 -3.875000 -12.437500q-3.875000 -4.546875 -10.515625 -4.546875M52.593750 -71.296875l0.000000 8.984375q-3.718750 -1.750000 -7.500000 -2.671875q-3.781250 -0.937500 -7.500000 -0.937500q-9.765625 0.000000 -14.921875 6.593750q-5.140625 6.593750 -5.875000 19.921875q2.875000 -4.250000 7.218750 -6.515625q4.359375 -2.265625 9.578125 -2.265625q10.984375 0.000000 17.359375 6.671875q6.375000 6.656250 6.375000 18.125000q0.000000 11.234375 -6.640625 18.031250q-6.640625 6.781250 -17.671875 6.781250q-12.656250 0.000000 -19.343750 -9.687500q-6.687500 -9.703125 -6.687500 -28.109375q0.000000 -17.281250 8.203125 -27.562500q8.203125 -10.281250 22.015625 -10.281250q3.718750 0.000000 7.500000 0.734375q3.781250 0.734375 7.890625 2.187500\" id=\"c_cc8d6d580d1b10c8632f7a42cd53db8a\"/>\n</defs>\n<g style=\"fill: #000000; opacity: 1.000000\" transform=\"translate(31.893750,157.946250)scale(0.120000)\">\n<use xlink:href=\"#c_cc8d6d580d1b10c8632f7a42cd53db8a\"/>\n<use x=\"63.623047\" xlink:href=\"#c_7a2040fe3b94fcd41d0a72c84e93b115\"/>\n</g>\n</g>\n</g>\n<g id=\"ytick4\">\n<g id=\"line2d39\">\n<path clip-path=\"url(#p31357e1f28b93beffcc591b280283ca9)\" d=\"M49.534375 107.499063L272.734375 107.499063\" style=\"fill: none; stroke: #000000; stroke-width: 0.500000; stroke-linejoin: round; stroke-linecap: butt; stroke-dasharray: 1.000000,3.000000; stroke-dashoffset: 0.000000; opacity: 1.000000\"/>\n</g>\n<g id=\"line2d40\">\n<g><use style=\"fill: none; stroke: #000000; stroke-width: 0.500000; stroke-linejoin: round; stroke-linecap: butt;  opacity: 1.000000\" x=\"49.534375\" xlink:href=\"#m3400efa6b1638b3fea9e19e898273957\" y=\"107.499063\"/>\n</g></g>\n<g id=\"line2d41\">\n<g><use style=\"fill: none; stroke: #000000; stroke-width: 0.500000; stroke-linejoin: round; stroke-linecap: butt;  opacity: 1.000000\" x=\"272.734375\" xlink:href=\"#m20b58b2501143cb5e0a5e8f1ef6f1643\" y=\"107.499063\"/>\n</g></g>\n<g id=\"text14\">\n<defs>\n<path d=\"M31.781250 -34.625000q-7.031250 0.000000 -11.062500 3.765625q-4.015625 3.765625 -4.015625 10.343750q0.000000 6.593750 4.015625 10.359375q4.031250 3.765625 11.062500 3.765625q7.031250 0.000000 11.078125 -3.781250q4.062500 -3.796875 4.062500 -10.343750q0.000000 -6.578125 -4.031250 -10.343750q-4.015625 -3.765625 -11.109375 -3.765625M21.921875 -38.812500q-6.343750 -1.562500 -9.890625 -5.906250q-3.531250 -4.359375 -3.531250 -10.609375q0.000000 -8.734375 6.218750 -13.812500q6.234375 -5.078125 17.062500 -5.078125q10.890625 0.000000 17.093750 5.078125q6.203125 5.078125 6.203125 13.812500q0.000000 6.250000 -3.546875 10.609375q-3.531250 4.343750 -9.828125 5.906250q7.125000 1.656250 11.093750 6.500000q3.984375 4.828125 3.984375 11.796875q0.000000 10.609375 -6.468750 16.281250q-6.468750 5.656250 -18.531250 5.656250q-12.046875 0.000000 -18.531250 -5.656250q-6.468750 -5.671875 -6.468750 -16.281250q0.000000 -6.968750 4.000000 -11.796875q4.015625 -4.843750 11.140625 -6.500000M18.312500 -54.390625q0.000000 5.656250 3.531250 8.828125q3.546875 3.171875 9.937500 3.171875q6.359375 0.000000 9.937500 -3.171875q3.593750 -3.171875 3.593750 -8.828125q0.000000 -5.671875 -3.593750 -8.843750q-3.578125 -3.171875 -9.937500 -3.171875q-6.390625 0.000000 -9.937500 3.171875q-3.531250 3.171875 -3.531250 8.843750\" id=\"c_bef35738d52871942e50b9de9b122bab\"/>\n</defs>\n<g style=\"fill: #000000; opacity: 1.000000\" transform=\"translate(31.862500,111.866250)scale(0.120000)\">\n<use xlink:href=\"#c_bef35738d52871942e50b9de9b122bab\"/>\n<use x=\"63.623047\" xlink:href=\"#c_7a2040fe3b94fcd41d0a72c84e93b115\"/>\n</g>\n</g>\n</g>\n<g id=\"ytick5\">\n<g id=\"line2d42\">\n<path clip-path=\"url(#p31357e1f28b93beffcc591b280283ca9)\" d=\"M49.534375 61.419063L272.734375 61.419063\" style=\"fill: none; stroke: #000000; stroke-width: 0.500000; stroke-linejoin: round; stroke-linecap: butt; stroke-dasharray: 1.000000,3.000000; stroke-dashoffset: 0.000000; opacity: 1.000000\"/>\n</g>\n<g id=\"line2d43\">\n<g><use style=\"fill: none; stroke: #000000; stroke-width: 0.500000; stroke-linejoin: round; stroke-linecap: butt;  opacity: 1.000000\" x=\"49.534375\" xlink:href=\"#m3400efa6b1638b3fea9e19e898273957\" y=\"61.419063\"/>\n</g></g>\n<g id=\"line2d44\">\n<g><use style=\"fill: none; stroke: #000000; stroke-width: 0.500000; stroke-linejoin: round; stroke-linecap: butt;  opacity: 1.000000\" x=\"272.734375\" xlink:href=\"#m20b58b2501143cb5e0a5e8f1ef6f1643\" y=\"61.419063\"/>\n</g></g>\n<g id=\"text15\">\n<g style=\"fill: #000000; opacity: 1.000000\" transform=\"translate(24.721875,65.786250)scale(0.120000)\">\n<use xlink:href=\"#c_42baa63129a918535c52adb20d687ea7\"/>\n<use x=\"63.623047\" xlink:href=\"#c_7a2040fe3b94fcd41d0a72c84e93b115\"/>\n<use x=\"127.246094\" xlink:href=\"#c_7a2040fe3b94fcd41d0a72c84e93b115\"/>\n</g>\n</g>\n</g>\n<g id=\"ytick6\">\n<g id=\"line2d45\">\n<path clip-path=\"url(#p31357e1f28b93beffcc591b280283ca9)\" d=\"M49.534375 15.339063L272.734375 15.339063\" style=\"fill: none; stroke: #000000; stroke-width: 0.500000; stroke-linejoin: round; stroke-linecap: butt; stroke-dasharray: 1.000000,3.000000; stroke-dashoffset: 0.000000; opacity: 1.000000\"/>\n</g>\n<g id=\"line2d46\">\n<g><use style=\"fill: none; stroke: #000000; stroke-width: 0.500000; stroke-linejoin: round; stroke-linecap: butt;  opacity: 1.000000\" x=\"49.534375\" xlink:href=\"#m3400efa6b1638b3fea9e19e898273957\" y=\"15.339063\"/>\n</g></g>\n<g id=\"line2d47\">\n<g><use style=\"fill: none; stroke: #000000; stroke-width: 0.500000; stroke-linejoin: round; stroke-linecap: butt;  opacity: 1.000000\" x=\"272.734375\" xlink:href=\"#m20b58b2501143cb5e0a5e8f1ef6f1643\" y=\"15.339063\"/>\n</g></g>\n<g id=\"text16\">\n<g style=\"fill: #000000; opacity: 1.000000\" transform=\"translate(24.721875,19.706250)scale(0.120000)\">\n<use xlink:href=\"#c_42baa63129a918535c52adb20d687ea7\"/>\n<use x=\"63.623047\" xlink:href=\"#c_ed3f3ed3ebfbd18bcb9c012009a68ad1\"/>\n<use x=\"127.246094\" xlink:href=\"#c_7a2040fe3b94fcd41d0a72c84e93b115\"/>\n</g>\n</g>\n</g>\n<g id=\"text17\">\n<defs>\n<path d=\"M19.671875 -64.796875l0.000000 27.390625l12.406250 0.000000q6.890625 0.000000 10.640625 -3.562500q3.765625 -3.562500 3.765625 -10.156250q0.000000 -6.546875 -3.765625 -10.109375q-3.750000 -3.562500 -10.640625 -3.562500zM9.812500 -72.906250l22.265625 0.000000q12.265625 0.000000 18.531250 5.546875q6.281250 5.546875 6.281250 16.234375q0.000000 10.796875 -6.281250 16.312500q-6.265625 5.515625 -18.531250 5.515625l-12.406250 0.000000l0.000000 29.296875l-9.859375 0.000000z\" id=\"c_518d586bee075aa0153eaebfcb5ab11f\"/>\n<path d=\"M41.109375 -46.296875q-1.515625 -0.875000 -3.296875 -1.281250q-1.781250 -0.421875 -3.921875 -0.421875q-7.625000 0.000000 -11.703125 4.953125q-4.078125 4.953125 -4.078125 14.234375l0.000000 28.812500l-9.031250 0.000000l0.000000 -54.687500l9.031250 0.000000l0.000000 8.500000q2.843750 -4.984375 7.375000 -7.390625q4.546875 -2.421875 11.046875 -2.421875q0.921875 0.000000 2.046875 0.125000q1.125000 0.109375 2.484375 0.359375z\" id=\"c_6ec8d5749226675394676a5d2a3b468b\"/>\n<path d=\"M44.281250 -53.078125l0.000000 8.500000q-3.796875 -1.953125 -7.906250 -2.921875q-4.093750 -0.984375 -8.500000 -0.984375q-6.687500 0.000000 -10.031250 2.046875q-3.343750 2.046875 -3.343750 6.156250q0.000000 3.125000 2.390625 4.906250q2.390625 1.781250 9.625000 3.390625l3.078125 0.687500q9.562500 2.046875 13.593750 5.781250q4.031250 3.734375 4.031250 10.421875q0.000000 7.625000 -6.031250 12.078125q-6.031250 4.437500 -16.578125 4.437500q-4.390625 0.000000 -9.156250 -0.859375q-4.765625 -0.859375 -10.031250 -2.562500l0.000000 -9.281250q4.984375 2.593750 9.812500 3.890625q4.828125 1.281250 9.578125 1.281250q6.343750 0.000000 9.750000 -2.171875q3.421875 -2.171875 3.421875 -6.125000q0.000000 -3.656250 -2.468750 -5.609375q-2.453125 -1.953125 -10.812500 -3.765625l-3.125000 -0.734375q-8.343750 -1.750000 -12.062500 -5.390625q-3.703125 -3.640625 -3.703125 -9.984375q0.000000 -7.718750 5.468750 -11.906250q5.468750 -4.203125 15.531250 -4.203125q4.968750 0.000000 9.359375 0.734375q4.406250 0.718750 8.109375 2.187500\" id=\"c_8e0810ad13fe20a2a87a2619799b154d\"/>\n</defs>\n<g style=\"fill: #000000; opacity: 1.000000\" transform=\"translate(19.721875,155.085938)rotate(-90.0)scale(0.120000)\">\n<use xlink:href=\"#c_518d586bee075aa0153eaebfcb5ab11f\"/>\n<use x=\"58.552734\" xlink:href=\"#c_6ec8d5749226675394676a5d2a3b468b\"/>\n<use x=\"97.416016\" xlink:href=\"#c_0bce5afba2dc6b9024b26277c38ad8e8\"/>\n<use x=\"158.939453\" xlink:href=\"#c_8e0810ad13fe20a2a87a2619799b154d\"/>\n<use x=\"211.039062\" xlink:href=\"#c_8e0810ad13fe20a2a87a2619799b154d\"/>\n<use x=\"263.138672\" xlink:href=\"#c_c438d87e693443c2861ebd6359e6491e\"/>\n<use x=\"326.517578\" xlink:href=\"#c_6ec8d5749226675394676a5d2a3b468b\"/>\n<use x=\"365.380859\" xlink:href=\"#c_0bce5afba2dc6b9024b26277c38ad8e8\"/>\n</g>\n</g>\n</g>\n<g id=\"patch3\">\n<path d=\"M49.534375 15.339063L272.734375 15.339063\" style=\"fill: none; stroke: #000000; stroke-width: 1.000000; stroke-linejoin: round; stroke-linecap: square;  opacity: 1.000000\"/>\n</g>\n<g id=\"patch4\">\n<path d=\"M272.734375 245.739062L272.734375 15.339063\" style=\"fill: none; stroke: #000000; stroke-width: 1.000000; stroke-linejoin: round; stroke-linecap: square;  opacity: 1.000000\"/>\n</g>\n<g id=\"patch5\">\n<path d=\"M49.534375 245.739062L272.734375 245.739062\" style=\"fill: none; stroke: #000000; stroke-width: 1.000000; stroke-linejoin: round; stroke-linecap: square;  opacity: 1.000000\"/>\n</g>\n<g id=\"patch6\">\n<path d=\"M49.534375 245.739062L49.534375 15.339063\" style=\"fill: none; stroke: #000000; stroke-width: 1.000000; stroke-linejoin: round; stroke-linecap: square;  opacity: 1.000000\"/>\n</g>\n</g>\n</g>\n</svg>"
          },
          "metadata": {
            "tags": []
          }
        }
      ]
    },
    {
      "cell_type": "markdown",
      "metadata": {
        "id": "X4auxIGWG08i"
      },
      "source": [
        "### 一定圧力下での 体積(V) と 温度(T) の関係: Charles 1780yr\n",
        "\n",
        "一定圧力(P)のことを **定圧** といい,\n",
        "$P_{\\rm 後}-P_{\\rm 初}=0$ から\n",
        "$\\Delta P=0$ と表します."
      ]
    },
    {
      "cell_type": "code",
      "metadata": {
        "id": "WlKr5eF3kavD",
        "cellView": "form",
        "colab": {
          "base_uri": "https://localhost:8080/",
          "height": 336
        },
        "outputId": "62a7e097-0950-4db5-935f-ddbdc7bc48d1"
      },
      "source": [
        "#@title Charles's law: V/T = constant / V is proportional to T\n",
        "%%html\n",
        "<iframe width=\"560\" height=\"315\" src=\"https://www.youtube-nocookie.com/embed/5M8GR6_zIps\" frameborder=\"0\" allow=\"accelerometer; autoplay; encrypted-media; gyroscope; picture-in-picture\" allowfullscreen></iframe>"
      ],
      "execution_count": null,
      "outputs": [
        {
          "output_type": "display_data",
          "data": {
            "text/html": [
              "<iframe width=\"560\" height=\"315\" src=\"https://www.youtube-nocookie.com/embed/5M8GR6_zIps\" frameborder=\"0\" allow=\"accelerometer; autoplay; encrypted-media; gyroscope; picture-in-picture\" allowfullscreen></iframe>"
            ],
            "text/plain": [
              "<IPython.core.display.HTML object>"
            ]
          },
          "metadata": {
            "tags": []
          }
        }
      ]
    },
    {
      "cell_type": "markdown",
      "metadata": {
        "id": "2qMCmiuXHj2O"
      },
      "source": [
        "![wikipedia: Charles's law](https://upload.wikimedia.org/wikipedia/commons/e/e4/Charles_and_Gay-Lussac%27s_Law_animated.gif)"
      ]
    },
    {
      "cell_type": "markdown",
      "metadata": {
        "id": "7sOBysWPmLFT"
      },
      "source": [
        "### 摂氏温度による表現と絶対温度による表現\n",
        "\n",
        "#### 摂氏温度 ${\\rm {}^\\circ C}$ による表現: Charles's experiment\n",
        "\\begin{align*}\n",
        "\\begin{cases}\n",
        "V(t) -V_0 &\\propto V_0\\\\\n",
        "V(t) -V_0 &\\propto t\n",
        "\\end{cases}&\\\\\n",
        "V(t) -V_0 &\\propto V_0 \\cdot t\\\\\n",
        "V(t) -V_0 &= \\dfrac{1}{273.15} V_0 \\cdot t\\\\\n",
        "V(t) &= \\left( 1 + \\dfrac{t}{273.15}\\right) V_0\n",
        "\\end{align*}\n",
        "\n",
        "#### 絶対温度 ${\\rm K}$ による表現\n",
        "\\begin{align*}\n",
        "V &= \\left( 1 + \\dfrac{t}{273.15}\\right) V_0\\\\\n",
        "&= \\left( \\dfrac{273.15 + t}{273.15}\\right) V_0\\\\\n",
        "V(T) &= \\dfrac{T}{273.15} V_0\n",
        "\\end{align*}\n",
        "\n",
        "ここで $T$ を絶対温度といいます\n",
        "\\begin{align*}\n",
        "T = 273.15 + t\n",
        "\\end{align*}\n",
        "\n",
        "絶対温度で考えれば,\n",
        "> ${\\rm 0\\ K}$ では, (理想的には)体積がゼロになる\n",
        "\n",
        "ということができます.\n",
        "\n"
      ]
    },
    {
      "cell_type": "markdown",
      "metadata": {
        "id": "iXtv94F6L5_g"
      },
      "source": [
        "### 一定体積の下での 圧力(P) と 温度(T) の関係: Gay-Lussac 1808yr/Amontons 1699yr\n",
        "\n",
        "一定体積(V)のことを **定積** といい,\n",
        "$V_{\\rm 後}-V_{\\rm 初}=0$ から\n",
        "$\\Delta V=0$ と表します.\n"
      ]
    },
    {
      "cell_type": "code",
      "metadata": {
        "id": "rPBOrxm5HpRb",
        "cellView": "form",
        "colab": {
          "base_uri": "https://localhost:8080/",
          "height": 336
        },
        "outputId": "0c11ae5e-a732-470f-f83c-76b21523cf70"
      },
      "source": [
        "#@title Gay Lussac's Law: P/T = constant. P is proportional to T\n",
        "%%html\n",
        "<iframe width=\"560\" height=\"315\" src=\"https://www.youtube-nocookie.com/embed/1pVVZGOBIVg\" frameborder=\"0\" allow=\"accelerometer; autoplay; encrypted-media; gyroscope; picture-in-picture\" allowfullscreen></iframe>"
      ],
      "execution_count": null,
      "outputs": [
        {
          "output_type": "display_data",
          "data": {
            "text/html": [
              "<iframe width=\"560\" height=\"315\" src=\"https://www.youtube-nocookie.com/embed/1pVVZGOBIVg\" frameborder=\"0\" allow=\"accelerometer; autoplay; encrypted-media; gyroscope; picture-in-picture\" allowfullscreen></iframe>"
            ],
            "text/plain": [
              "<IPython.core.display.HTML object>"
            ]
          },
          "metadata": {
            "tags": []
          }
        }
      ]
    },
    {
      "cell_type": "code",
      "metadata": {
        "id": "g35sq0sXT-Gb",
        "cellView": "form",
        "colab": {
          "base_uri": "https://localhost:8080/",
          "height": 336
        },
        "outputId": "e9e54313-dcce-4c79-d720-9f07020817e3"
      },
      "source": [
        "#@title Gay-Lussac's Law\n",
        "%%html\n",
        "<iframe width=\"560\" height=\"315\" src=\"https://www.youtube-nocookie.com/embed/Q0FdZQlUEGA\" frameborder=\"0\" allow=\"accelerometer; autoplay; encrypted-media; gyroscope; picture-in-picture\" allowfullscreen></iframe>"
      ],
      "execution_count": null,
      "outputs": [
        {
          "output_type": "display_data",
          "data": {
            "text/html": [
              "<iframe width=\"560\" height=\"315\" src=\"https://www.youtube-nocookie.com/embed/Q0FdZQlUEGA\" frameborder=\"0\" allow=\"accelerometer; autoplay; encrypted-media; gyroscope; picture-in-picture\" allowfullscreen></iframe>"
            ],
            "text/plain": [
              "<IPython.core.display.HTML object>"
            ]
          },
          "metadata": {
            "tags": []
          }
        }
      ]
    },
    {
      "cell_type": "markdown",
      "metadata": {
        "id": "Qu8TRFGrOp-L"
      },
      "source": [
        "### ボイル-シャルルの法則: 三つの実験の統合\n",
        "\n",
        "風船に閉じ込められた一定量の理想気体を考えながら,\n",
        "これまでの関係式を整理すると\n",
        "\\begin{align*}\n",
        "P\\cdot V &= constant & (\\Delta T=0)&\\\\\n",
        "V/T &= constant& (\\Delta P=0)&\\\\\n",
        "P/T &= constant& (\\Delta V=0)&\n",
        "\\end{align*}\n",
        "となります.\n",
        "\n",
        "これらを統合すると, 一定量の理想気体では\n",
        "\\begin{align*}\n",
        "\\dfrac{P\\cdot V}{T} &= constant&\n",
        "\\end{align*}\n",
        "が成立します. この関係が **ボイル-シャルルの法則** です."
      ]
    },
    {
      "cell_type": "code",
      "metadata": {
        "id": "E8T7MpzqQiUG",
        "cellView": "form",
        "colab": {
          "base_uri": "https://localhost:8080/",
          "height": 162
        },
        "outputId": "8caae8e5-d2a2-45ac-8bdf-22502c9037ad"
      },
      "source": [
        "#@title ボイル-シャルル法則の適応例\n",
        "%%svg\n",
        "<svg xmlns=\"http://www.w3.org/2000/svg\" xmlns:xlink=\"http://www.w3.org/1999/xlink\" version=\"1.1\" width=\"381px\" viewBox=\"-0.5 -0.5 381 141\" content=\"&lt;mxfile host=&quot;app.diagrams.net&quot; modified=&quot;2020-06-04T12:57:43.525Z&quot; agent=&quot;5.0 (Macintosh; Intel Mac OS X 10_15_5) AppleWebKit/537.36 (KHTML, like Gecko) Chrome/83.0.4103.61 Safari/537.36&quot; etag=&quot;5DmYU-qQYoEvYif0_UwD&quot; version=&quot;13.1.14&quot; type=&quot;google&quot;&gt;&lt;diagram id=&quot;AvyVPRUh3zMHWMHEv4ot&quot; name=&quot;Page-1&quot;&gt;3ZfLjtowFIafxsuRSEIuLLnNdNFKaKiml52JTxKrTpw6DoQ+fR3iXAEBHVCrbmbi38fH8e/v2AFZ87h4ETiNPnECDJkjUiBrgUxz7JrqbynsK8EeaSEUlFSS0Qpr+gu0ONJqTglkvUDJOZM07Ys+TxLwZU/DQvBdPyzgrD9rikM4EtY+ZsfqF0pkVKme6bb6B6BhVM9sOJOqJ8Z1sF5JFmHCdx3JWiJrLjiX1VNczIGV3tW+VOOez/Q2LyYgkdcM+G6vkuf127fXbDOhfv7R/fpqPuksW8xyvWBkOkzlmwVcpVVvLffaCudnzuuOp+ywUVMVYHhp0XaWFmO/P+AFuAgp7gY5of5/mIrWwlutqFXQYVSWb2pp2onryMico9KEQdbVQ7J+fm/WRq2crmWzZ7qp9lChrhqzXUQlrNPK3Z0qNqVFMmaqZZTbQhmbc8bFYZxFMHiBX76KFPwHdHoc34NN0My1BSGhOMuU0ZCqKhx4DFLsVYge4Gq2dXEbnm7v2lIxav6jTpnUcVhXZ9hkbgFWD5rhG3g2L/F8DZ23Q/9OnmcP4fm2rNfyfDbrnXnGWVqd5wEtgBwDHng++CcB33j22B7dB3DLGhDuXEl4I94dcesE4gOT1VWTlo8Bg2JaXoLKDEiIflz4DGcZ9ft+V0mAHF2HF63qWGGfcKLWBDAs6baf/pQ7eoYVp4eK1TvRfBHonTCHBmc8Fz7oUd17cJDIupRIYhGCPEp02Kxm2X++f+5fvXKXLvKmaOagpYM8G3nl8Om1xavqSPap6RdfwhMYVKqWMKNhUqKnYAKlz8qqpOoza6o7YkoIO3csCJ4npDwEFncq64l9sardEyg/rKa9f46Jqw/0/4YJyx5AMX4YFKrZfvdX50r748la/gY=&lt;/diagram&gt;&lt;/mxfile&gt;\" onclick=\"(function(svg){var src=window.event.target||window.event.srcElement;while (src!=null&amp;&amp;src.nodeName.toLowerCase()!='a'){src=src.parentNode;}if(src==null){if(svg.wnd!=null&amp;&amp;!svg.wnd.closed){svg.wnd.focus();}else{var r=function(evt){if(evt.data=='ready'&amp;&amp;evt.source==svg.wnd){svg.wnd.postMessage(decodeURIComponent(svg.getAttribute('content')),'*');window.removeEventListener('message',r);}};window.addEventListener('message',r);svg.wnd=window.open('https://app.diagrams.net/?client=1&amp;lightbox=1&amp;edit=_blank');}}})(this);\" style=\"cursor:pointer;max-width:100%;max-height:141px;\"><defs/><g><ellipse cx=\"60\" cy=\"80\" rx=\"60\" ry=\"40\" fill=\"#dae8fc\" stroke=\"#6c8ebf\" pointer-events=\"all\"/><g transform=\"translate(-0.5 -0.5)\"><switch><foreignObject style=\"overflow: visible; text-align: left;\" pointer-events=\"none\" width=\"100%\" height=\"100%\" requiredFeatures=\"http://www.w3.org/TR/SVG11/feature#Extensibility\"><div xmlns=\"http://www.w3.org/1999/xhtml\" style=\"display: flex; align-items: unsafe center; justify-content: unsafe center; width: 118px; height: 1px; padding-top: 80px; margin-left: 1px;\"><div style=\"box-sizing: border-box; font-size: 0; text-align: center; \"><div style=\"display: inline-block; font-size: 12px; font-family: Helvetica; color: #000000; line-height: 1.2; pointer-events: all; white-space: normal; word-wrap: normal; \"><font style=\"font-size: 18px\" face=\"Georgia\"><i>V</i><sub>A</sub>, <i>P</i><sub>A</sub>, <i>T</i><sub>A</sub></font></div></div></div></foreignObject><text x=\"60\" y=\"84\" fill=\"#000000\" font-family=\"Helvetica\" font-size=\"12px\" text-anchor=\"middle\">VA, PA, TA</text></switch></g><ellipse cx=\"320\" cy=\"80\" rx=\"60\" ry=\"60\" fill=\"#f8cecc\" stroke=\"#b85450\" pointer-events=\"all\"/><g transform=\"translate(-0.5 -0.5)\"><switch><foreignObject style=\"overflow: visible; text-align: left;\" pointer-events=\"none\" width=\"100%\" height=\"100%\" requiredFeatures=\"http://www.w3.org/TR/SVG11/feature#Extensibility\"><div xmlns=\"http://www.w3.org/1999/xhtml\" style=\"display: flex; align-items: unsafe center; justify-content: unsafe center; width: 118px; height: 1px; padding-top: 80px; margin-left: 261px;\"><div style=\"box-sizing: border-box; font-size: 0; text-align: center; \"><div style=\"display: inline-block; font-size: 12px; font-family: Helvetica; color: #000000; line-height: 1.2; pointer-events: all; white-space: normal; word-wrap: normal; \"><font face=\"Georgia\" style=\"font-size: 18px\"><i>V</i><sub>B</sub>, <i>P</i><sub>B</sub>, <i>T</i><sub>B</sub></font></div></div></div></foreignObject><text x=\"320\" y=\"84\" fill=\"#000000\" font-family=\"Helvetica\" font-size=\"12px\" text-anchor=\"middle\">VB, PB, TB</text></switch></g><path d=\"M 140.5 85 L 140.5 75 L 220.5 75 L 220.5 64.5 L 239.5 80 L 220.5 95.5 L 220.5 85 Z\" fill=\"none\" stroke=\"#000000\" stroke-linejoin=\"round\" stroke-miterlimit=\"10\" pointer-events=\"all\"/><rect x=\"25\" y=\"20\" width=\"70\" height=\"20\" fill=\"none\" stroke=\"none\" pointer-events=\"all\"/><g transform=\"translate(-0.5 -0.5)\"><switch><foreignObject style=\"overflow: visible; text-align: left;\" pointer-events=\"none\" width=\"100%\" height=\"100%\" requiredFeatures=\"http://www.w3.org/TR/SVG11/feature#Extensibility\"><div xmlns=\"http://www.w3.org/1999/xhtml\" style=\"display: flex; align-items: unsafe center; justify-content: unsafe center; width: 68px; height: 1px; padding-top: 30px; margin-left: 26px;\"><div style=\"box-sizing: border-box; font-size: 0; text-align: center; \"><div style=\"display: inline-block; font-size: 12px; font-family: Helvetica; color: #000000; line-height: 1.2; pointer-events: all; white-space: normal; word-wrap: normal; \"><font style=\"font-size: 18px\" face=\"Georgia\">状態 A</font></div></div></div></foreignObject><text x=\"60\" y=\"34\" fill=\"#000000\" font-family=\"Helvetica\" font-size=\"12px\" text-anchor=\"middle\">状態 A</text></switch></g><rect x=\"285\" y=\"0\" width=\"70\" height=\"20\" fill=\"none\" stroke=\"none\" pointer-events=\"all\"/><g transform=\"translate(-0.5 -0.5)\"><switch><foreignObject style=\"overflow: visible; text-align: left;\" pointer-events=\"none\" width=\"100%\" height=\"100%\" requiredFeatures=\"http://www.w3.org/TR/SVG11/feature#Extensibility\"><div xmlns=\"http://www.w3.org/1999/xhtml\" style=\"display: flex; align-items: unsafe center; justify-content: unsafe center; width: 68px; height: 1px; padding-top: 10px; margin-left: 286px;\"><div style=\"box-sizing: border-box; font-size: 0; text-align: center; \"><div style=\"display: inline-block; font-size: 12px; font-family: Helvetica; color: #000000; line-height: 1.2; pointer-events: all; white-space: normal; word-wrap: normal; \"><font style=\"font-size: 18px\" face=\"Georgia\">状態 B</font></div></div></div></foreignObject><text x=\"320\" y=\"14\" fill=\"#000000\" font-family=\"Helvetica\" font-size=\"12px\" text-anchor=\"middle\">状態 B</text></switch></g></g><switch><g requiredFeatures=\"http://www.w3.org/TR/SVG11/feature#Extensibility\"/><a transform=\"translate(0,-5)\" xlink:href=\"https://desk.draw.io/support/solutions/articles/16000042487\" target=\"_blank\"><text text-anchor=\"middle\" font-size=\"10px\" x=\"50%\" y=\"100%\">Viewer does not support full SVG 1.1</text></a></switch></svg>"
      ],
      "execution_count": null,
      "outputs": [
        {
          "output_type": "display_data",
          "data": {
            "text/plain": [
              "<IPython.core.display.SVG object>"
            ],
            "image/svg+xml": "<svg content=\"&lt;mxfile host=&quot;app.diagrams.net&quot; modified=&quot;2020-06-04T12:57:43.525Z&quot; agent=&quot;5.0 (Macintosh; Intel Mac OS X 10_15_5) AppleWebKit/537.36 (KHTML, like Gecko) Chrome/83.0.4103.61 Safari/537.36&quot; etag=&quot;5DmYU-qQYoEvYif0_UwD&quot; version=&quot;13.1.14&quot; type=&quot;google&quot;&gt;&lt;diagram id=&quot;AvyVPRUh3zMHWMHEv4ot&quot; name=&quot;Page-1&quot;&gt;3ZfLjtowFIafxsuRSEIuLLnNdNFKaKiml52JTxKrTpw6DoQ+fR3iXAEBHVCrbmbi38fH8e/v2AFZ87h4ETiNPnECDJkjUiBrgUxz7JrqbynsK8EeaSEUlFSS0Qpr+gu0ONJqTglkvUDJOZM07Ys+TxLwZU/DQvBdPyzgrD9rikM4EtY+ZsfqF0pkVKme6bb6B6BhVM9sOJOqJ8Z1sF5JFmHCdx3JWiJrLjiX1VNczIGV3tW+VOOez/Q2LyYgkdcM+G6vkuf127fXbDOhfv7R/fpqPuksW8xyvWBkOkzlmwVcpVVvLffaCudnzuuOp+ywUVMVYHhp0XaWFmO/P+AFuAgp7gY5of5/mIrWwlutqFXQYVSWb2pp2onryMico9KEQdbVQ7J+fm/WRq2crmWzZ7qp9lChrhqzXUQlrNPK3Z0qNqVFMmaqZZTbQhmbc8bFYZxFMHiBX76KFPwHdHoc34NN0My1BSGhOMuU0ZCqKhx4DFLsVYge4Gq2dXEbnm7v2lIxav6jTpnUcVhXZ9hkbgFWD5rhG3g2L/F8DZ23Q/9OnmcP4fm2rNfyfDbrnXnGWVqd5wEtgBwDHng++CcB33j22B7dB3DLGhDuXEl4I94dcesE4gOT1VWTlo8Bg2JaXoLKDEiIflz4DGcZ9ft+V0mAHF2HF63qWGGfcKLWBDAs6baf/pQ7eoYVp4eK1TvRfBHonTCHBmc8Fz7oUd17cJDIupRIYhGCPEp02Kxm2X++f+5fvXKXLvKmaOagpYM8G3nl8Om1xavqSPap6RdfwhMYVKqWMKNhUqKnYAKlz8qqpOoza6o7YkoIO3csCJ4npDwEFncq64l9sardEyg/rKa9f46Jqw/0/4YJyx5AMX4YFKrZfvdX50r748la/gY=&lt;/diagram&gt;&lt;/mxfile&gt;\" onclick=\"(function(svg){var src=window.event.target||window.event.srcElement;while (src!=null&amp;&amp;src.nodeName.toLowerCase()!='a'){src=src.parentNode;}if(src==null){if(svg.wnd!=null&amp;&amp;!svg.wnd.closed){svg.wnd.focus();}else{var r=function(evt){if(evt.data=='ready'&amp;&amp;evt.source==svg.wnd){svg.wnd.postMessage(decodeURIComponent(svg.getAttribute('content')),'*');window.removeEventListener('message',r);}};window.addEventListener('message',r);svg.wnd=window.open('https://app.diagrams.net/?client=1&amp;lightbox=1&amp;edit=_blank');}}})(this);\" style=\"cursor:pointer;max-width:100%;max-height:141px;\" version=\"1.1\" viewBox=\"-0.5 -0.5 381 141\" width=\"381px\" xmlns=\"http://www.w3.org/2000/svg\" xmlns:xlink=\"http://www.w3.org/1999/xlink\"><defs/><g><ellipse cx=\"60\" cy=\"80\" fill=\"#dae8fc\" pointer-events=\"all\" rx=\"60\" ry=\"40\" stroke=\"#6c8ebf\"/><g transform=\"translate(-0.5 -0.5)\"><switch><foreignObject height=\"100%\" pointer-events=\"none\" requiredFeatures=\"http://www.w3.org/TR/SVG11/feature#Extensibility\" style=\"overflow: visible; text-align: left;\" width=\"100%\"><div style=\"display: flex; align-items: unsafe center; justify-content: unsafe center; width: 118px; height: 1px; padding-top: 80px; margin-left: 1px;\" xmlns=\"http://www.w3.org/1999/xhtml\"><div style=\"box-sizing: border-box; font-size: 0; text-align: center; \"><div style=\"display: inline-block; font-size: 12px; font-family: Helvetica; color: #000000; line-height: 1.2; pointer-events: all; white-space: normal; word-wrap: normal; \"><font face=\"Georgia\" style=\"font-size: 18px\"><i>V</i><sub>A</sub>, <i>P</i><sub>A</sub>, <i>T</i><sub>A</sub></font></div></div></div></foreignObject><text fill=\"#000000\" font-family=\"Helvetica\" font-size=\"12px\" text-anchor=\"middle\" x=\"60\" y=\"84\">VA, PA, TA</text></switch></g><ellipse cx=\"320\" cy=\"80\" fill=\"#f8cecc\" pointer-events=\"all\" rx=\"60\" ry=\"60\" stroke=\"#b85450\"/><g transform=\"translate(-0.5 -0.5)\"><switch><foreignObject height=\"100%\" pointer-events=\"none\" requiredFeatures=\"http://www.w3.org/TR/SVG11/feature#Extensibility\" style=\"overflow: visible; text-align: left;\" width=\"100%\"><div style=\"display: flex; align-items: unsafe center; justify-content: unsafe center; width: 118px; height: 1px; padding-top: 80px; margin-left: 261px;\" xmlns=\"http://www.w3.org/1999/xhtml\"><div style=\"box-sizing: border-box; font-size: 0; text-align: center; \"><div style=\"display: inline-block; font-size: 12px; font-family: Helvetica; color: #000000; line-height: 1.2; pointer-events: all; white-space: normal; word-wrap: normal; \"><font face=\"Georgia\" style=\"font-size: 18px\"><i>V</i><sub>B</sub>, <i>P</i><sub>B</sub>, <i>T</i><sub>B</sub></font></div></div></div></foreignObject><text fill=\"#000000\" font-family=\"Helvetica\" font-size=\"12px\" text-anchor=\"middle\" x=\"320\" y=\"84\">VB, PB, TB</text></switch></g><path d=\"M 140.5 85 L 140.5 75 L 220.5 75 L 220.5 64.5 L 239.5 80 L 220.5 95.5 L 220.5 85 Z\" fill=\"none\" pointer-events=\"all\" stroke=\"#000000\" stroke-linejoin=\"round\" stroke-miterlimit=\"10\"/><rect fill=\"none\" height=\"20\" pointer-events=\"all\" stroke=\"none\" width=\"70\" x=\"25\" y=\"20\"/><g transform=\"translate(-0.5 -0.5)\"><switch><foreignObject height=\"100%\" pointer-events=\"none\" requiredFeatures=\"http://www.w3.org/TR/SVG11/feature#Extensibility\" style=\"overflow: visible; text-align: left;\" width=\"100%\"><div style=\"display: flex; align-items: unsafe center; justify-content: unsafe center; width: 68px; height: 1px; padding-top: 30px; margin-left: 26px;\" xmlns=\"http://www.w3.org/1999/xhtml\"><div style=\"box-sizing: border-box; font-size: 0; text-align: center; \"><div style=\"display: inline-block; font-size: 12px; font-family: Helvetica; color: #000000; line-height: 1.2; pointer-events: all; white-space: normal; word-wrap: normal; \"><font face=\"Georgia\" style=\"font-size: 18px\">状態 A</font></div></div></div></foreignObject><text fill=\"#000000\" font-family=\"Helvetica\" font-size=\"12px\" text-anchor=\"middle\" x=\"60\" y=\"34\">状態 A</text></switch></g><rect fill=\"none\" height=\"20\" pointer-events=\"all\" stroke=\"none\" width=\"70\" x=\"285\" y=\"0\"/><g transform=\"translate(-0.5 -0.5)\"><switch><foreignObject height=\"100%\" pointer-events=\"none\" requiredFeatures=\"http://www.w3.org/TR/SVG11/feature#Extensibility\" style=\"overflow: visible; text-align: left;\" width=\"100%\"><div style=\"display: flex; align-items: unsafe center; justify-content: unsafe center; width: 68px; height: 1px; padding-top: 10px; margin-left: 286px;\" xmlns=\"http://www.w3.org/1999/xhtml\"><div style=\"box-sizing: border-box; font-size: 0; text-align: center; \"><div style=\"display: inline-block; font-size: 12px; font-family: Helvetica; color: #000000; line-height: 1.2; pointer-events: all; white-space: normal; word-wrap: normal; \"><font face=\"Georgia\" style=\"font-size: 18px\">状態 B</font></div></div></div></foreignObject><text fill=\"#000000\" font-family=\"Helvetica\" font-size=\"12px\" text-anchor=\"middle\" x=\"320\" y=\"14\">状態 B</text></switch></g></g><switch><g requiredFeatures=\"http://www.w3.org/TR/SVG11/feature#Extensibility\"/><a target=\"_blank\" transform=\"translate(0,-5)\" xlink:href=\"https://desk.draw.io/support/solutions/articles/16000042487\"><text font-size=\"10px\" text-anchor=\"middle\" x=\"50%\" y=\"100%\">Viewer does not support full SVG 1.1</text></a></switch></svg>"
          },
          "metadata": {
            "tags": []
          }
        }
      ]
    },
    {
      "cell_type": "markdown",
      "metadata": {
        "id": "PzYgVvKNaglX"
      },
      "source": [
        "閉じ込められた一定量の理想気体について, 二つの状態で関係式を立てると\n",
        "\\begin{align*}\n",
        "\\frac{P_{\\rm A} V_{\\rm A}}{T_{\\rm A}}\n",
        "&=constant=\n",
        "\\frac{P_{\\rm B} V_{\\rm B}}{T_{\\rm B}}&\n",
        "\\end{align*}\n",
        "定数(constant)部分を省略して\n",
        "\\begin{align*}\n",
        "\\frac{P_{\\rm A} V_{\\rm A}}{T_{\\rm A}}\n",
        "=\n",
        "\\frac{P_{\\rm B} V_{\\rm B}}{T_{\\rm B}}\n",
        "\\end{align*}\n",
        "これを利用すると, 理想気体について状態Aをもとに, 次のように 状態B 一部の情報を元に 体積, 圧力, 温度 を求めることができます.\n",
        "\\begin{align*}\n",
        "&P_{\\rm B}\n",
        "= P_{\\rm A}\n",
        "\\frac{V_{\\rm A}}{V_{\\rm B}}\\frac{T_{\\rm B}}{T_{\\rm A}},\n",
        "\\qquad\n",
        "V_{\\rm B}\n",
        "= V_{\\rm A}\n",
        "\\frac{P_{\\rm A}}{P_{\\rm B}}\\frac{T_{\\rm B}}{T_{\\rm A}},\n",
        "\\qquad\n",
        "T_{\\rm B}\n",
        "= T_{\\rm A}\n",
        "\\frac{P_{\\rm B}}{P_{\\rm A}}\\frac{V_{\\rm B}}{V_{\\rm A}}&\n",
        "\\end{align*}"
      ]
    },
    {
      "cell_type": "markdown",
      "metadata": {
        "id": "mKBhZHmadQVo"
      },
      "source": [
        "### 理想気体の状態方程式: ボイル-シャルルの法則の拡張\n",
        "\n"
      ]
    },
    {
      "cell_type": "code",
      "metadata": {
        "id": "dnoVIiYdgaIK",
        "cellView": "form",
        "colab": {
          "base_uri": "https://localhost:8080/",
          "height": 367
        },
        "outputId": "2cdb0a2e-d85c-446f-862d-06b80b7ad910"
      },
      "source": [
        "#@title 標準状態におけるボイル-シャルルの法則から理想気体の状態方程式へ\n",
        "%%svg\n",
        "<svg xmlns=\"http://www.w3.org/2000/svg\" xmlns:xlink=\"http://www.w3.org/1999/xlink\" version=\"1.1\" width=\"776px\" viewBox=\"-0.5 -0.5 776 346\" content=\"&lt;mxfile host=&quot;app.diagrams.net&quot; modified=&quot;2020-06-05T00:00:09.723Z&quot; agent=&quot;5.0 (Macintosh; Intel Mac OS X 10_10_5) AppleWebKit/537.36 (KHTML, like Gecko) Chrome/83.0.4103.61 Safari/537.36&quot; etag=&quot;o3pxEv5wa4A0PYvmqVfc&quot; version=&quot;13.1.3&quot; type=&quot;google&quot;&gt;&lt;diagram id=&quot;a8Y1USlVCGHWpXz7_NcF&quot; name=&quot;Page-1&quot;&gt;7Vvdc6M2EP9r/HgZkPgwj7Fzufamd71p2rumLx3ZyDYtBgo4se/h/vZKIPEhiRh7CFYysR9AK7GsftpdraRlAufb/YcUJZtPsY/DCTD8/QTeTAAwAbTIhVIOjGIYXklZp4HPaDXhLviOeUNG3QU+zloN8zgO8yBpE5dxFOFl3qKhNI0f281Wcdh+a4LWWCLcLVEoU78Ffr4pqVPg1vSfcLDe8DebDuvfFvHGrCfZBvnxY4ME30/gPI3jvLzb7uc4pOhxXMrnbjtqK8FSHOV9HvjjI/y2mEXXKHxwfv1nEfy1+uy/Y1weULhjHZ4AJyT8ZquYsCVS5wcGhfPfLuYV77JioK5JA3Oa7OtKCjFath/4gON0HaBmI2fNrsWrAk74wimkF4HYKtstOMlotGuQJX4TMCcCfS0vvw/DnFBLaDgZtFACBHSim6Qwe9wEOb5LSjgeiX0Q2ibfhqRkkluUJaXCroI99imwQRjO4zBOC0ZwZdM/lS1P439xo8YpfmwoGvTyVwnVVA0+zjjN8b5BYqpChmiL8/RAmrBai2ktt1uHlR9rIzC5Zm+aBsCJiBneumJd6ya5Yep5gqoChaoK2J+K+AA4AdtuA+WCK1uCyrNlpDhtcKDg8ED5KNvQm6J2ANSg0UaN/BSoWQrUrOdCzdJSvaypYIeeOyJQX+Hf3z/dbPaz+9XD/NZ173/5+WMf9Vru0odKXXDkX9OJmBSXIcqyYNmGjYCTHv4kBYMX7mnhyubFm32z8ubASuVbsS/N3xLcWbxL2Zz0pMXkKF3j/JiOyGPVGAlb4RI5LcUhyoOHtriq4WFv+BIHxRTMbUZQBeBUqsCZlB1lzzVDAYGVBQVWpsSqxEJiRUYSHRrNEtog6xZaelMldJdsUjdN4QlyU0pRq3A1Fudrtcr8TwuEgHV+IFS06hVeEL+RC24nDNYRNS6i9phEAjPqXQISwV6zim3g+/TxWYqJtGhRsKIWxAaP8LVnE/uG8trlcdmjhqeXvJXCyDodmOmJwykHElBhNEOEEcqBdo67r/NDuAEAE/AyXZXDN6vpsh17iVY8GGqu5qjVKHE9s1UB68ioTTVHzRSifHUYNjpsnu6wmQJsOugal0lb1IAUyuqAmmoDRCfUIDCvgODa4PTK1cBMzR4rct2wU6+fxoeuxyLqssbqSBMq1AO5Huv0iyJneY5ksCbUw2BtBXbVlmnXCmeFtkF4KNc4pAptkwIoCC1yXVdLmjadti0XQU/vFvfZ901QdFHpztojLqWW9qUv2o3em+GvAPEXvmwGtuh/TUv2IJ5i4Qyfa+FsqsJyHRT7zXuM6T3eoB4H6jcPrbeHtmxhOeso42NjTBcNVKtZPVSaPR4tsuKit3JTJdHbQ7Th1BrNbRxyWRZpTwd8caGLuk6Q9dOIz6OrQI8ZgZN6pxJBVdeuG11rH429vJmdvtQYfahOEdG5MugMMpnDiefSVkY9sAlvBGAL/OQo+C99rq/PRfiWjqU8KXEUs739bLN993YOszjpBHotn0CffrDdkWz3Q3aYhkgaOsHv6fXIOQmDtwOlCdaPFshKHE1uYULz3zocBMoVwhpRJ/dXmk5gi/kkhirqBu6oUbfqcFyL6eaUqFsvUbWeIxsR7Wub6Zz2NGdxQ2oYl8q2ni1bB/RIocg2KKG3qxDvWabh0aTDksnx5MFLJft5dnVixD2dJx0M9U33k5lBS2LWkfA3VH4deJG7x5d2isdPbM49+hQ/Npgu8ZLaiPSxwWJq062uQbyLcC4KVR8VqIyq2kUbPplZ96wZYZcR6pA0A3XPXvDEw7MqqfiisOmeulAdMfLZX5GrOz5qqlWuTqiJIRPUATTds5zFFErL0gE13bOcTSjuQ+nh2PrkOdcBeRRHuI1VGXTw72uBKgy5vfXI7wVE7rYr7FBY5rlxuwtEVqDN6OyYnRTrD4/L5vX32/D9/w==&lt;/diagram&gt;&lt;/mxfile&gt;\" onclick=\"(function(svg){var src=window.event.target||window.event.srcElement;while (src!=null&amp;&amp;src.nodeName.toLowerCase()!='a'){src=src.parentNode;}if(src==null){if(svg.wnd!=null&amp;&amp;!svg.wnd.closed){svg.wnd.focus();}else{var r=function(evt){if(evt.data=='ready'&amp;&amp;evt.source==svg.wnd){svg.wnd.postMessage(decodeURIComponent(svg.getAttribute('content')),'*');window.removeEventListener('message',r);}};window.addEventListener('message',r);svg.wnd=window.open('https://app.diagrams.net/?client=1&amp;lightbox=1&amp;edit=_blank');}}})(this);\" style=\"cursor:pointer;max-width:100%;max-height:346px;\"><defs/><g><ellipse cx=\"75\" cy=\"75\" rx=\"60\" ry=\"60\" fill=\"#f5f5f5\" stroke=\"#666666\" pointer-events=\"all\"/><g transform=\"translate(-0.5 -0.5)\"><switch><foreignObject style=\"overflow: visible; text-align: left;\" pointer-events=\"none\" width=\"100%\" height=\"100%\" requiredFeatures=\"http://www.w3.org/TR/SVG11/feature#Extensibility\"><div xmlns=\"http://www.w3.org/1999/xhtml\" style=\"display: flex; align-items: unsafe center; justify-content: unsafe center; width: 118px; height: 1px; padding-top: 75px; margin-left: 16px;\"><div style=\"box-sizing: border-box; font-size: 0; text-align: center; \"><div style=\"display: inline-block; font-size: 12px; font-family: Helvetica; color: #333333; line-height: 1.2; pointer-events: all; white-space: normal; word-wrap: normal; \"><font style=\"font-size: 18px\" face=\"Georgia\"><i>P</i><sub>0</sub><i>, V, T</i><sub>0</sub></font></div></div></div></foreignObject><text x=\"75\" y=\"79\" fill=\"#333333\" font-family=\"Helvetica\" font-size=\"12px\" text-anchor=\"middle\">P0, V, T0</text></switch></g><rect x=\"230\" y=\"27.5\" width=\"95\" height=\"95\" fill=\"#ffffff\" stroke=\"#000000\" pointer-events=\"all\"/><rect x=\"280\" y=\"77.5\" width=\"45\" height=\"45\" fill=\"#ffffff\" stroke=\"#000000\" stroke-dasharray=\"3 3\" pointer-events=\"all\"/><rect x=\"455\" y=\"52.5\" width=\"45\" height=\"45\" fill=\"#ffffff\" stroke=\"#000000\" pointer-events=\"all\"/><path d=\"M 325 104.94 Q 405 122.5 380 97.5 Q 355 72.5 448.63 74.84\" fill=\"none\" stroke=\"#000000\" stroke-miterlimit=\"10\" pointer-events=\"stroke\"/><path d=\"M 453.88 74.97 L 446.8 78.3 L 448.63 74.84 L 446.97 71.3 Z\" fill=\"#000000\" stroke=\"#000000\" stroke-miterlimit=\"10\" pointer-events=\"all\"/><rect x=\"165\" y=\"65\" width=\"30\" height=\"20\" fill=\"none\" stroke=\"none\" pointer-events=\"all\"/><g transform=\"translate(-0.5 -0.5)\"><switch><foreignObject style=\"overflow: visible; text-align: left;\" pointer-events=\"none\" width=\"100%\" height=\"100%\" requiredFeatures=\"http://www.w3.org/TR/SVG11/feature#Extensibility\"><div xmlns=\"http://www.w3.org/1999/xhtml\" style=\"display: flex; align-items: unsafe center; justify-content: unsafe center; width: 1px; height: 1px; padding-top: 75px; margin-left: 180px;\"><div style=\"box-sizing: border-box; font-size: 0; text-align: center; \"><div style=\"display: inline-block; font-size: 12px; font-family: Helvetica; color: #000000; line-height: 1.2; pointer-events: all; white-space: nowrap; \"><font style=\"font-size: 24px\" face=\"Georgia\">=</font></div></div></div></foreignObject><text x=\"180\" y=\"79\" fill=\"#000000\" font-family=\"Helvetica\" font-size=\"12px\" text-anchor=\"middle\">=</text></switch></g><ellipse cx=\"71.25\" cy=\"38.75\" rx=\"6.25\" ry=\"6.25\" fill=\"#ffffff\" stroke=\"#000000\" pointer-events=\"all\"/><ellipse cx=\"58.75\" cy=\"111.25\" rx=\"6.25\" ry=\"6.25\" fill=\"#ffffff\" stroke=\"#000000\" pointer-events=\"all\"/><ellipse cx=\"121.25\" cy=\"83.75\" rx=\"6.25\" ry=\"6.25\" fill=\"#ffffff\" stroke=\"#000000\" pointer-events=\"all\"/><ellipse cx=\"91.25\" cy=\"111.25\" rx=\"6.25\" ry=\"6.25\" fill=\"#ffffff\" stroke=\"#000000\" pointer-events=\"all\"/><ellipse cx=\"261.25\" cy=\"51.25\" rx=\"6.25\" ry=\"6.25\" fill=\"#ffffff\" stroke=\"#000000\" pointer-events=\"all\"/><ellipse cx=\"302.5\" cy=\"100\" rx=\"6.25\" ry=\"6.25\" fill=\"#ffffff\" stroke=\"#000000\" pointer-events=\"all\"/><ellipse cx=\"302.5\" cy=\"58.75\" rx=\"6.25\" ry=\"6.25\" fill=\"#ffffff\" stroke=\"#000000\" pointer-events=\"all\"/><ellipse cx=\"248.75\" cy=\"98.75\" rx=\"6.25\" ry=\"6.25\" fill=\"#ffffff\" stroke=\"#000000\" pointer-events=\"all\"/><ellipse cx=\"477.5\" cy=\"75\" rx=\"6.25\" ry=\"6.25\" fill=\"#ffffff\" stroke=\"#000000\" pointer-events=\"all\"/><rect x=\"232.5\" y=\"0\" width=\"90\" height=\"30\" fill=\"none\" stroke=\"none\" pointer-events=\"all\"/><g transform=\"translate(-0.5 -0.5)\"><switch><foreignObject style=\"overflow: visible; text-align: left;\" pointer-events=\"none\" width=\"100%\" height=\"100%\" requiredFeatures=\"http://www.w3.org/TR/SVG11/feature#Extensibility\"><div xmlns=\"http://www.w3.org/1999/xhtml\" style=\"display: flex; align-items: unsafe center; justify-content: unsafe center; width: 1px; height: 1px; padding-top: 15px; margin-left: 278px;\"><div style=\"box-sizing: border-box; font-size: 0; text-align: center; \"><div style=\"display: inline-block; font-size: 12px; font-family: Helvetica; color: #000000; line-height: 1.2; pointer-events: all; white-space: nowrap; \"><i style=\"font-family: &quot;georgia&quot; ; font-size: 18px\">P</i><span style=\"font-family: &quot;georgia&quot; ; font-size: 18px\"><sub>0</sub></span><i style=\"font-family: &quot;georgia&quot; ; font-size: 18px\">, V, T</i><span style=\"font-family: &quot;georgia&quot; ; font-size: 18px\"><sub>0</sub></span></div></div></div></foreignObject><text x=\"278\" y=\"19\" fill=\"#000000\" font-family=\"Helvetica\" font-size=\"12px\" text-anchor=\"middle\">P0, V, T0</text></switch></g><rect x=\"425\" y=\"22.5\" width=\"100\" height=\"30\" fill=\"none\" stroke=\"none\" pointer-events=\"all\"/><g transform=\"translate(-0.5 -0.5)\"><switch><foreignObject style=\"overflow: visible; text-align: left;\" pointer-events=\"none\" width=\"100%\" height=\"100%\" requiredFeatures=\"http://www.w3.org/TR/SVG11/feature#Extensibility\"><div xmlns=\"http://www.w3.org/1999/xhtml\" style=\"display: flex; align-items: unsafe center; justify-content: unsafe center; width: 1px; height: 1px; padding-top: 38px; margin-left: 475px;\"><div style=\"box-sizing: border-box; font-size: 0; text-align: center; \"><div style=\"display: inline-block; font-size: 12px; font-family: Helvetica; color: #000000; line-height: 1.2; pointer-events: all; white-space: nowrap; \"><i style=\"font-family: &quot;georgia&quot; ; font-size: 18px\">P</i><span style=\"font-family: &quot;georgia&quot; ; font-size: 18px\"><sub>0</sub></span><i style=\"font-family: &quot;georgia&quot; ; font-size: 18px\">, V</i><span style=\"font-family: &quot;georgia&quot; ; font-size: 18px\"><sub>0</sub></span><i style=\"font-family: &quot;georgia&quot; ; font-size: 18px\">, T</i><span style=\"font-family: &quot;georgia&quot; ; font-size: 18px\"><sub>0</sub></span></div></div></div></foreignObject><text x=\"475\" y=\"41\" fill=\"#000000\" font-family=\"Helvetica\" font-size=\"12px\" text-anchor=\"middle\">P0, V0, T0</text></switch></g><rect x=\"397.5\" y=\"97.5\" width=\"160\" height=\"50\" fill=\"none\" stroke=\"none\" pointer-events=\"all\"/><g transform=\"translate(-0.5 -0.5)\"><switch><foreignObject style=\"overflow: visible; text-align: left;\" pointer-events=\"none\" width=\"100%\" height=\"100%\" requiredFeatures=\"http://www.w3.org/TR/SVG11/feature#Extensibility\"><div xmlns=\"http://www.w3.org/1999/xhtml\" style=\"display: flex; align-items: unsafe center; justify-content: unsafe center; width: 1px; height: 1px; padding-top: 123px; margin-left: 478px;\"><div style=\"box-sizing: border-box; font-size: 0; text-align: center; \"><div style=\"display: inline-block; font-size: 12px; font-family: Helvetica; color: #000000; line-height: 1.2; pointer-events: all; white-space: nowrap; \"><i style=\"font-family: &quot;georgia&quot; ; font-size: 18px\"> n</i><span style=\"font-family: &quot;georgia&quot; ; font-size: 18px\">=1</span><i style=\"font-family: &quot;georgia&quot; ; font-size: 18px\"> </i><span style=\"font-family: &quot;georgia&quot; ; font-size: 18px\">mol<br /></span><span style=\"font-family: &quot;georgia&quot; ; font-size: 18px\">: </span><i style=\"font-family: &quot;georgia&quot; ; font-size: 18px\">N</i><span style=\"font-family: &quot;georgia&quot;\"><sub><font style=\"font-size: 13px\">A</font></sub></span><i style=\"font-family: &quot;georgia&quot; ; font-size: 18px\">= </i><span style=\"font-family: &quot;georgia&quot; ; font-size: 18px\">6.02 × 10<sup>23</sup></span></div></div></div></foreignObject><text x=\"478\" y=\"126\" fill=\"#000000\" font-family=\"Helvetica\" font-size=\"12px\" text-anchor=\"middle\">n=1 mol...</text></switch></g><rect x=\"505\" y=\"62.5\" width=\"270\" height=\"30\" fill=\"none\" stroke=\"none\" pointer-events=\"all\"/><g transform=\"translate(-0.5 -0.5)\"><switch><foreignObject style=\"overflow: visible; text-align: left;\" pointer-events=\"none\" width=\"100%\" height=\"100%\" requiredFeatures=\"http://www.w3.org/TR/SVG11/feature#Extensibility\"><div xmlns=\"http://www.w3.org/1999/xhtml\" style=\"display: flex; align-items: unsafe center; justify-content: unsafe center; width: 1px; height: 1px; padding-top: 78px; margin-left: 640px;\"><div style=\"box-sizing: border-box; font-size: 0; text-align: center; \"><div style=\"display: inline-block; font-size: 12px; font-family: Helvetica; color: #000000; line-height: 1.2; pointer-events: all; white-space: nowrap; \"><font face=\"georgia\" style=\"font-size: 24px\"><i>~   P</i><sub>0</sub><i>V</i><sub>0</sub><i>/T</i><sub>0</sub><i>=</i>1×<i>R </i>at<i> n=</i>1</font></div></div></div></foreignObject><text x=\"640\" y=\"81\" fill=\"#000000\" font-family=\"Helvetica\" font-size=\"12px\" text-anchor=\"middle\">~   P0V0/T0=1×R at n=1</text></switch></g><rect x=\"40\" y=\"325\" width=\"70\" height=\"20\" fill=\"none\" stroke=\"none\" pointer-events=\"all\"/><g transform=\"translate(-0.5 -0.5)\"><switch><foreignObject style=\"overflow: visible; text-align: left;\" pointer-events=\"none\" width=\"100%\" height=\"100%\" requiredFeatures=\"http://www.w3.org/TR/SVG11/feature#Extensibility\"><div xmlns=\"http://www.w3.org/1999/xhtml\" style=\"display: flex; align-items: unsafe center; justify-content: unsafe center; width: 1px; height: 1px; padding-top: 335px; margin-left: 75px;\"><div style=\"box-sizing: border-box; font-size: 0; text-align: center; \"><div style=\"display: inline-block; font-size: 12px; font-family: Helvetica; color: #000000; line-height: 1.2; pointer-events: all; white-space: nowrap; \"><i style=\"font-family: &quot;georgia&quot; ; font-size: 18px\"> n</i><i style=\"font-family: &quot;georgia&quot; ; font-size: 18px\"> </i><span style=\"font-family: &quot;georgia&quot; ; font-size: 18px\">mol</span></div></div></div></foreignObject><text x=\"75\" y=\"339\" fill=\"#000000\" font-family=\"Helvetica\" font-size=\"12px\" text-anchor=\"middle\"> n mol</text></switch></g><path d=\"M 65.75 148 L 75.75 148 L 75.75 178 L 86.25 178 L 70.75 197 L 55.25 178 L 65.75 178 Z\" fill=\"none\" stroke=\"#000000\" stroke-linejoin=\"round\" stroke-miterlimit=\"10\" pointer-events=\"all\"/><ellipse cx=\"75\" cy=\"265\" rx=\"75\" ry=\"50\" fill=\"#f8cecc\" stroke=\"#b85450\" pointer-events=\"all\"/><g transform=\"translate(-0.5 -0.5)\"><switch><foreignObject style=\"overflow: visible; text-align: left;\" pointer-events=\"none\" width=\"100%\" height=\"100%\" requiredFeatures=\"http://www.w3.org/TR/SVG11/feature#Extensibility\"><div xmlns=\"http://www.w3.org/1999/xhtml\" style=\"display: flex; align-items: unsafe center; justify-content: unsafe center; width: 148px; height: 1px; padding-top: 265px; margin-left: 1px;\"><div style=\"box-sizing: border-box; font-size: 0; text-align: center; \"><div style=\"display: inline-block; font-size: 12px; font-family: Helvetica; color: #000000; line-height: 1.2; pointer-events: all; white-space: normal; word-wrap: normal; \"><i style=\"font-family: &quot;georgia&quot; ; font-size: 18px\">P</i><i style=\"font-family: &quot;georgia&quot; ; font-size: 18px\">, V, T</i></div></div></div></foreignObject><text x=\"75\" y=\"269\" fill=\"#000000\" font-family=\"Helvetica\" font-size=\"12px\" text-anchor=\"middle\">P, V, T</text></switch></g><ellipse cx=\"31.25\" cy=\"251.25\" rx=\"6.25\" ry=\"6.25\" fill=\"#ffffff\" stroke=\"#000000\" pointer-events=\"all\"/><ellipse cx=\"78.75\" cy=\"241.25\" rx=\"6.25\" ry=\"6.25\" fill=\"#ffffff\" stroke=\"#000000\" pointer-events=\"all\"/><ellipse cx=\"126.25\" cy=\"271.25\" rx=\"6.25\" ry=\"6.25\" fill=\"#ffffff\" stroke=\"#000000\" pointer-events=\"all\"/><ellipse cx=\"46.25\" cy=\"291.25\" rx=\"6.25\" ry=\"6.25\" fill=\"#ffffff\" stroke=\"#000000\" pointer-events=\"all\"/><ellipse cx=\"91.25\" cy=\"301.25\" rx=\"6.25\" ry=\"6.25\" fill=\"#ffffff\" stroke=\"#000000\" pointer-events=\"all\"/><ellipse cx=\"113.75\" cy=\"241.25\" rx=\"6.25\" ry=\"6.25\" fill=\"#ffffff\" stroke=\"#000000\" pointer-events=\"all\"/><path d=\"M 545 96.5 L 695 97\" fill=\"none\" stroke=\"#ff9999\" stroke-width=\"2\" stroke-miterlimit=\"10\" pointer-events=\"stroke\"/></g><switch><g requiredFeatures=\"http://www.w3.org/TR/SVG11/feature#Extensibility\"/><a transform=\"translate(0,-5)\" xlink:href=\"https://desk.draw.io/support/solutions/articles/16000042487\" target=\"_blank\"><text text-anchor=\"middle\" font-size=\"10px\" x=\"50%\" y=\"100%\">Viewer does not support full SVG 1.1</text></a></switch></svg>"
      ],
      "execution_count": null,
      "outputs": [
        {
          "output_type": "display_data",
          "data": {
            "text/plain": [
              "<IPython.core.display.SVG object>"
            ],
            "image/svg+xml": "<svg content=\"&lt;mxfile host=&quot;app.diagrams.net&quot; modified=&quot;2020-06-05T00:00:09.723Z&quot; agent=&quot;5.0 (Macintosh; Intel Mac OS X 10_10_5) AppleWebKit/537.36 (KHTML, like Gecko) Chrome/83.0.4103.61 Safari/537.36&quot; etag=&quot;o3pxEv5wa4A0PYvmqVfc&quot; version=&quot;13.1.3&quot; type=&quot;google&quot;&gt;&lt;diagram id=&quot;a8Y1USlVCGHWpXz7_NcF&quot; name=&quot;Page-1&quot;&gt;7Vvdc6M2EP9r/HgZkPgwj7Fzufamd71p2rumLx3ZyDYtBgo4se/h/vZKIPEhiRh7CFYysR9AK7GsftpdraRlAufb/YcUJZtPsY/DCTD8/QTeTAAwAbTIhVIOjGIYXklZp4HPaDXhLviOeUNG3QU+zloN8zgO8yBpE5dxFOFl3qKhNI0f281Wcdh+a4LWWCLcLVEoU78Ffr4pqVPg1vSfcLDe8DebDuvfFvHGrCfZBvnxY4ME30/gPI3jvLzb7uc4pOhxXMrnbjtqK8FSHOV9HvjjI/y2mEXXKHxwfv1nEfy1+uy/Y1weULhjHZ4AJyT8ZquYsCVS5wcGhfPfLuYV77JioK5JA3Oa7OtKCjFath/4gON0HaBmI2fNrsWrAk74wimkF4HYKtstOMlotGuQJX4TMCcCfS0vvw/DnFBLaDgZtFACBHSim6Qwe9wEOb5LSjgeiX0Q2ibfhqRkkluUJaXCroI99imwQRjO4zBOC0ZwZdM/lS1P439xo8YpfmwoGvTyVwnVVA0+zjjN8b5BYqpChmiL8/RAmrBai2ktt1uHlR9rIzC5Zm+aBsCJiBneumJd6ya5Yep5gqoChaoK2J+K+AA4AdtuA+WCK1uCyrNlpDhtcKDg8ED5KNvQm6J2ANSg0UaN/BSoWQrUrOdCzdJSvaypYIeeOyJQX+Hf3z/dbPaz+9XD/NZ173/5+WMf9Vru0odKXXDkX9OJmBSXIcqyYNmGjYCTHv4kBYMX7mnhyubFm32z8ubASuVbsS/N3xLcWbxL2Zz0pMXkKF3j/JiOyGPVGAlb4RI5LcUhyoOHtriq4WFv+BIHxRTMbUZQBeBUqsCZlB1lzzVDAYGVBQVWpsSqxEJiRUYSHRrNEtog6xZaelMldJdsUjdN4QlyU0pRq3A1Fudrtcr8TwuEgHV+IFS06hVeEL+RC24nDNYRNS6i9phEAjPqXQISwV6zim3g+/TxWYqJtGhRsKIWxAaP8LVnE/uG8trlcdmjhqeXvJXCyDodmOmJwykHElBhNEOEEcqBdo67r/NDuAEAE/AyXZXDN6vpsh17iVY8GGqu5qjVKHE9s1UB68ioTTVHzRSifHUYNjpsnu6wmQJsOugal0lb1IAUyuqAmmoDRCfUIDCvgODa4PTK1cBMzR4rct2wU6+fxoeuxyLqssbqSBMq1AO5Huv0iyJneY5ksCbUw2BtBXbVlmnXCmeFtkF4KNc4pAptkwIoCC1yXVdLmjadti0XQU/vFvfZ901QdFHpztojLqWW9qUv2o3em+GvAPEXvmwGtuh/TUv2IJ5i4Qyfa+FsqsJyHRT7zXuM6T3eoB4H6jcPrbeHtmxhOeso42NjTBcNVKtZPVSaPR4tsuKit3JTJdHbQ7Th1BrNbRxyWRZpTwd8caGLuk6Q9dOIz6OrQI8ZgZN6pxJBVdeuG11rH429vJmdvtQYfahOEdG5MugMMpnDiefSVkY9sAlvBGAL/OQo+C99rq/PRfiWjqU8KXEUs739bLN993YOszjpBHotn0CffrDdkWz3Q3aYhkgaOsHv6fXIOQmDtwOlCdaPFshKHE1uYULz3zocBMoVwhpRJ/dXmk5gi/kkhirqBu6oUbfqcFyL6eaUqFsvUbWeIxsR7Wub6Zz2NGdxQ2oYl8q2ni1bB/RIocg2KKG3qxDvWabh0aTDksnx5MFLJft5dnVixD2dJx0M9U33k5lBS2LWkfA3VH4deJG7x5d2isdPbM49+hQ/Npgu8ZLaiPSxwWJq062uQbyLcC4KVR8VqIyq2kUbPplZ96wZYZcR6pA0A3XPXvDEw7MqqfiisOmeulAdMfLZX5GrOz5qqlWuTqiJIRPUATTds5zFFErL0gE13bOcTSjuQ+nh2PrkOdcBeRRHuI1VGXTw72uBKgy5vfXI7wVE7rYr7FBY5rlxuwtEVqDN6OyYnRTrD4/L5vX32/D9/w==&lt;/diagram&gt;&lt;/mxfile&gt;\" onclick=\"(function(svg){var src=window.event.target||window.event.srcElement;while (src!=null&amp;&amp;src.nodeName.toLowerCase()!='a'){src=src.parentNode;}if(src==null){if(svg.wnd!=null&amp;&amp;!svg.wnd.closed){svg.wnd.focus();}else{var r=function(evt){if(evt.data=='ready'&amp;&amp;evt.source==svg.wnd){svg.wnd.postMessage(decodeURIComponent(svg.getAttribute('content')),'*');window.removeEventListener('message',r);}};window.addEventListener('message',r);svg.wnd=window.open('https://app.diagrams.net/?client=1&amp;lightbox=1&amp;edit=_blank');}}})(this);\" style=\"cursor:pointer;max-width:100%;max-height:346px;\" version=\"1.1\" viewBox=\"-0.5 -0.5 776 346\" width=\"776px\" xmlns=\"http://www.w3.org/2000/svg\" xmlns:xlink=\"http://www.w3.org/1999/xlink\"><defs/><g><ellipse cx=\"75\" cy=\"75\" fill=\"#f5f5f5\" pointer-events=\"all\" rx=\"60\" ry=\"60\" stroke=\"#666666\"/><g transform=\"translate(-0.5 -0.5)\"><switch><foreignObject height=\"100%\" pointer-events=\"none\" requiredFeatures=\"http://www.w3.org/TR/SVG11/feature#Extensibility\" style=\"overflow: visible; text-align: left;\" width=\"100%\"><div style=\"display: flex; align-items: unsafe center; justify-content: unsafe center; width: 118px; height: 1px; padding-top: 75px; margin-left: 16px;\" xmlns=\"http://www.w3.org/1999/xhtml\"><div style=\"box-sizing: border-box; font-size: 0; text-align: center; \"><div style=\"display: inline-block; font-size: 12px; font-family: Helvetica; color: #333333; line-height: 1.2; pointer-events: all; white-space: normal; word-wrap: normal; \"><font face=\"Georgia\" style=\"font-size: 18px\"><i>P</i><sub>0</sub><i>, V, T</i><sub>0</sub></font></div></div></div></foreignObject><text fill=\"#333333\" font-family=\"Helvetica\" font-size=\"12px\" text-anchor=\"middle\" x=\"75\" y=\"79\">P0, V, T0</text></switch></g><rect fill=\"#ffffff\" height=\"95\" pointer-events=\"all\" stroke=\"#000000\" width=\"95\" x=\"230\" y=\"27.5\"/><rect fill=\"#ffffff\" height=\"45\" pointer-events=\"all\" stroke=\"#000000\" stroke-dasharray=\"3 3\" width=\"45\" x=\"280\" y=\"77.5\"/><rect fill=\"#ffffff\" height=\"45\" pointer-events=\"all\" stroke=\"#000000\" width=\"45\" x=\"455\" y=\"52.5\"/><path d=\"M 325 104.94 Q 405 122.5 380 97.5 Q 355 72.5 448.63 74.84\" fill=\"none\" pointer-events=\"stroke\" stroke=\"#000000\" stroke-miterlimit=\"10\"/><path d=\"M 453.88 74.97 L 446.8 78.3 L 448.63 74.84 L 446.97 71.3 Z\" fill=\"#000000\" pointer-events=\"all\" stroke=\"#000000\" stroke-miterlimit=\"10\"/><rect fill=\"none\" height=\"20\" pointer-events=\"all\" stroke=\"none\" width=\"30\" x=\"165\" y=\"65\"/><g transform=\"translate(-0.5 -0.5)\"><switch><foreignObject height=\"100%\" pointer-events=\"none\" requiredFeatures=\"http://www.w3.org/TR/SVG11/feature#Extensibility\" style=\"overflow: visible; text-align: left;\" width=\"100%\"><div style=\"display: flex; align-items: unsafe center; justify-content: unsafe center; width: 1px; height: 1px; padding-top: 75px; margin-left: 180px;\" xmlns=\"http://www.w3.org/1999/xhtml\"><div style=\"box-sizing: border-box; font-size: 0; text-align: center; \"><div style=\"display: inline-block; font-size: 12px; font-family: Helvetica; color: #000000; line-height: 1.2; pointer-events: all; white-space: nowrap; \"><font face=\"Georgia\" style=\"font-size: 24px\">=</font></div></div></div></foreignObject><text fill=\"#000000\" font-family=\"Helvetica\" font-size=\"12px\" text-anchor=\"middle\" x=\"180\" y=\"79\">=</text></switch></g><ellipse cx=\"71.25\" cy=\"38.75\" fill=\"#ffffff\" pointer-events=\"all\" rx=\"6.25\" ry=\"6.25\" stroke=\"#000000\"/><ellipse cx=\"58.75\" cy=\"111.25\" fill=\"#ffffff\" pointer-events=\"all\" rx=\"6.25\" ry=\"6.25\" stroke=\"#000000\"/><ellipse cx=\"121.25\" cy=\"83.75\" fill=\"#ffffff\" pointer-events=\"all\" rx=\"6.25\" ry=\"6.25\" stroke=\"#000000\"/><ellipse cx=\"91.25\" cy=\"111.25\" fill=\"#ffffff\" pointer-events=\"all\" rx=\"6.25\" ry=\"6.25\" stroke=\"#000000\"/><ellipse cx=\"261.25\" cy=\"51.25\" fill=\"#ffffff\" pointer-events=\"all\" rx=\"6.25\" ry=\"6.25\" stroke=\"#000000\"/><ellipse cx=\"302.5\" cy=\"100\" fill=\"#ffffff\" pointer-events=\"all\" rx=\"6.25\" ry=\"6.25\" stroke=\"#000000\"/><ellipse cx=\"302.5\" cy=\"58.75\" fill=\"#ffffff\" pointer-events=\"all\" rx=\"6.25\" ry=\"6.25\" stroke=\"#000000\"/><ellipse cx=\"248.75\" cy=\"98.75\" fill=\"#ffffff\" pointer-events=\"all\" rx=\"6.25\" ry=\"6.25\" stroke=\"#000000\"/><ellipse cx=\"477.5\" cy=\"75\" fill=\"#ffffff\" pointer-events=\"all\" rx=\"6.25\" ry=\"6.25\" stroke=\"#000000\"/><rect fill=\"none\" height=\"30\" pointer-events=\"all\" stroke=\"none\" width=\"90\" x=\"232.5\" y=\"0\"/><g transform=\"translate(-0.5 -0.5)\"><switch><foreignObject height=\"100%\" pointer-events=\"none\" requiredFeatures=\"http://www.w3.org/TR/SVG11/feature#Extensibility\" style=\"overflow: visible; text-align: left;\" width=\"100%\"><div style=\"display: flex; align-items: unsafe center; justify-content: unsafe center; width: 1px; height: 1px; padding-top: 15px; margin-left: 278px;\" xmlns=\"http://www.w3.org/1999/xhtml\"><div style=\"box-sizing: border-box; font-size: 0; text-align: center; \"><div style=\"display: inline-block; font-size: 12px; font-family: Helvetica; color: #000000; line-height: 1.2; pointer-events: all; white-space: nowrap; \"><i style=\"font-family: &quot;georgia&quot; ; font-size: 18px\">P</i><span style=\"font-family: &quot;georgia&quot; ; font-size: 18px\"><sub>0</sub></span><i style=\"font-family: &quot;georgia&quot; ; font-size: 18px\">, V, T</i><span style=\"font-family: &quot;georgia&quot; ; font-size: 18px\"><sub>0</sub></span></div></div></div></foreignObject><text fill=\"#000000\" font-family=\"Helvetica\" font-size=\"12px\" text-anchor=\"middle\" x=\"278\" y=\"19\">P0, V, T0</text></switch></g><rect fill=\"none\" height=\"30\" pointer-events=\"all\" stroke=\"none\" width=\"100\" x=\"425\" y=\"22.5\"/><g transform=\"translate(-0.5 -0.5)\"><switch><foreignObject height=\"100%\" pointer-events=\"none\" requiredFeatures=\"http://www.w3.org/TR/SVG11/feature#Extensibility\" style=\"overflow: visible; text-align: left;\" width=\"100%\"><div style=\"display: flex; align-items: unsafe center; justify-content: unsafe center; width: 1px; height: 1px; padding-top: 38px; margin-left: 475px;\" xmlns=\"http://www.w3.org/1999/xhtml\"><div style=\"box-sizing: border-box; font-size: 0; text-align: center; \"><div style=\"display: inline-block; font-size: 12px; font-family: Helvetica; color: #000000; line-height: 1.2; pointer-events: all; white-space: nowrap; \"><i style=\"font-family: &quot;georgia&quot; ; font-size: 18px\">P</i><span style=\"font-family: &quot;georgia&quot; ; font-size: 18px\"><sub>0</sub></span><i style=\"font-family: &quot;georgia&quot; ; font-size: 18px\">, V</i><span style=\"font-family: &quot;georgia&quot; ; font-size: 18px\"><sub>0</sub></span><i style=\"font-family: &quot;georgia&quot; ; font-size: 18px\">, T</i><span style=\"font-family: &quot;georgia&quot; ; font-size: 18px\"><sub>0</sub></span></div></div></div></foreignObject><text fill=\"#000000\" font-family=\"Helvetica\" font-size=\"12px\" text-anchor=\"middle\" x=\"475\" y=\"41\">P0, V0, T0</text></switch></g><rect fill=\"none\" height=\"50\" pointer-events=\"all\" stroke=\"none\" width=\"160\" x=\"397.5\" y=\"97.5\"/><g transform=\"translate(-0.5 -0.5)\"><switch><foreignObject height=\"100%\" pointer-events=\"none\" requiredFeatures=\"http://www.w3.org/TR/SVG11/feature#Extensibility\" style=\"overflow: visible; text-align: left;\" width=\"100%\"><div style=\"display: flex; align-items: unsafe center; justify-content: unsafe center; width: 1px; height: 1px; padding-top: 123px; margin-left: 478px;\" xmlns=\"http://www.w3.org/1999/xhtml\"><div style=\"box-sizing: border-box; font-size: 0; text-align: center; \"><div style=\"display: inline-block; font-size: 12px; font-family: Helvetica; color: #000000; line-height: 1.2; pointer-events: all; white-space: nowrap; \"><i style=\"font-family: &quot;georgia&quot; ; font-size: 18px\"> n</i><span style=\"font-family: &quot;georgia&quot; ; font-size: 18px\">=1</span><i style=\"font-family: &quot;georgia&quot; ; font-size: 18px\"> </i><span style=\"font-family: &quot;georgia&quot; ; font-size: 18px\">mol<br/></span><span style=\"font-family: &quot;georgia&quot; ; font-size: 18px\">: </span><i style=\"font-family: &quot;georgia&quot; ; font-size: 18px\">N</i><span style=\"font-family: &quot;georgia&quot;\"><sub><font style=\"font-size: 13px\">A</font></sub></span><i style=\"font-family: &quot;georgia&quot; ; font-size: 18px\">= </i><span style=\"font-family: &quot;georgia&quot; ; font-size: 18px\">6.02 × 10<sup>23</sup></span></div></div></div></foreignObject><text fill=\"#000000\" font-family=\"Helvetica\" font-size=\"12px\" text-anchor=\"middle\" x=\"478\" y=\"126\">n=1 mol...</text></switch></g><rect fill=\"none\" height=\"30\" pointer-events=\"all\" stroke=\"none\" width=\"270\" x=\"505\" y=\"62.5\"/><g transform=\"translate(-0.5 -0.5)\"><switch><foreignObject height=\"100%\" pointer-events=\"none\" requiredFeatures=\"http://www.w3.org/TR/SVG11/feature#Extensibility\" style=\"overflow: visible; text-align: left;\" width=\"100%\"><div style=\"display: flex; align-items: unsafe center; justify-content: unsafe center; width: 1px; height: 1px; padding-top: 78px; margin-left: 640px;\" xmlns=\"http://www.w3.org/1999/xhtml\"><div style=\"box-sizing: border-box; font-size: 0; text-align: center; \"><div style=\"display: inline-block; font-size: 12px; font-family: Helvetica; color: #000000; line-height: 1.2; pointer-events: all; white-space: nowrap; \"><font face=\"georgia\" style=\"font-size: 24px\"><i>~   P</i><sub>0</sub><i>V</i><sub>0</sub><i>/T</i><sub>0</sub><i>=</i>1×<i>R </i>at<i> n=</i>1</font></div></div></div></foreignObject><text fill=\"#000000\" font-family=\"Helvetica\" font-size=\"12px\" text-anchor=\"middle\" x=\"640\" y=\"81\">~   P0V0/T0=1×R at n=1</text></switch></g><rect fill=\"none\" height=\"20\" pointer-events=\"all\" stroke=\"none\" width=\"70\" x=\"40\" y=\"325\"/><g transform=\"translate(-0.5 -0.5)\"><switch><foreignObject height=\"100%\" pointer-events=\"none\" requiredFeatures=\"http://www.w3.org/TR/SVG11/feature#Extensibility\" style=\"overflow: visible; text-align: left;\" width=\"100%\"><div style=\"display: flex; align-items: unsafe center; justify-content: unsafe center; width: 1px; height: 1px; padding-top: 335px; margin-left: 75px;\" xmlns=\"http://www.w3.org/1999/xhtml\"><div style=\"box-sizing: border-box; font-size: 0; text-align: center; \"><div style=\"display: inline-block; font-size: 12px; font-family: Helvetica; color: #000000; line-height: 1.2; pointer-events: all; white-space: nowrap; \"><i style=\"font-family: &quot;georgia&quot; ; font-size: 18px\"> n</i><i style=\"font-family: &quot;georgia&quot; ; font-size: 18px\"> </i><span style=\"font-family: &quot;georgia&quot; ; font-size: 18px\">mol</span></div></div></div></foreignObject><text fill=\"#000000\" font-family=\"Helvetica\" font-size=\"12px\" text-anchor=\"middle\" x=\"75\" y=\"339\"> n mol</text></switch></g><path d=\"M 65.75 148 L 75.75 148 L 75.75 178 L 86.25 178 L 70.75 197 L 55.25 178 L 65.75 178 Z\" fill=\"none\" pointer-events=\"all\" stroke=\"#000000\" stroke-linejoin=\"round\" stroke-miterlimit=\"10\"/><ellipse cx=\"75\" cy=\"265\" fill=\"#f8cecc\" pointer-events=\"all\" rx=\"75\" ry=\"50\" stroke=\"#b85450\"/><g transform=\"translate(-0.5 -0.5)\"><switch><foreignObject height=\"100%\" pointer-events=\"none\" requiredFeatures=\"http://www.w3.org/TR/SVG11/feature#Extensibility\" style=\"overflow: visible; text-align: left;\" width=\"100%\"><div style=\"display: flex; align-items: unsafe center; justify-content: unsafe center; width: 148px; height: 1px; padding-top: 265px; margin-left: 1px;\" xmlns=\"http://www.w3.org/1999/xhtml\"><div style=\"box-sizing: border-box; font-size: 0; text-align: center; \"><div style=\"display: inline-block; font-size: 12px; font-family: Helvetica; color: #000000; line-height: 1.2; pointer-events: all; white-space: normal; word-wrap: normal; \"><i style=\"font-family: &quot;georgia&quot; ; font-size: 18px\">P</i><i style=\"font-family: &quot;georgia&quot; ; font-size: 18px\">, V, T</i></div></div></div></foreignObject><text fill=\"#000000\" font-family=\"Helvetica\" font-size=\"12px\" text-anchor=\"middle\" x=\"75\" y=\"269\">P, V, T</text></switch></g><ellipse cx=\"31.25\" cy=\"251.25\" fill=\"#ffffff\" pointer-events=\"all\" rx=\"6.25\" ry=\"6.25\" stroke=\"#000000\"/><ellipse cx=\"78.75\" cy=\"241.25\" fill=\"#ffffff\" pointer-events=\"all\" rx=\"6.25\" ry=\"6.25\" stroke=\"#000000\"/><ellipse cx=\"126.25\" cy=\"271.25\" fill=\"#ffffff\" pointer-events=\"all\" rx=\"6.25\" ry=\"6.25\" stroke=\"#000000\"/><ellipse cx=\"46.25\" cy=\"291.25\" fill=\"#ffffff\" pointer-events=\"all\" rx=\"6.25\" ry=\"6.25\" stroke=\"#000000\"/><ellipse cx=\"91.25\" cy=\"301.25\" fill=\"#ffffff\" pointer-events=\"all\" rx=\"6.25\" ry=\"6.25\" stroke=\"#000000\"/><ellipse cx=\"113.75\" cy=\"241.25\" fill=\"#ffffff\" pointer-events=\"all\" rx=\"6.25\" ry=\"6.25\" stroke=\"#000000\"/><path d=\"M 545 96.5 L 695 97\" fill=\"none\" pointer-events=\"stroke\" stroke=\"#ff9999\" stroke-miterlimit=\"10\" stroke-width=\"2\"/></g><switch><g requiredFeatures=\"http://www.w3.org/TR/SVG11/feature#Extensibility\"/><a target=\"_blank\" transform=\"translate(0,-5)\" xlink:href=\"https://desk.draw.io/support/solutions/articles/16000042487\"><text font-size=\"10px\" text-anchor=\"middle\" x=\"50%\" y=\"100%\">Viewer does not support full SVG 1.1</text></a></switch></svg>"
          },
          "metadata": {
            "tags": []
          }
        }
      ]
    },
    {
      "cell_type": "markdown",
      "metadata": {
        "id": "CsRsgC64zSgU"
      },
      "source": [
        "ボイル-シャルルの法則の右辺の定数を決めるため, 直上図のような実験を  \n",
        "標準状態\n",
        "> 温度=\b0℃=273.15K, 圧力 1気圧= $1.013\\times 10 ^5\\ {\\rm Pa}$  \n",
        "> (Standard Temperature and Pressure)\n",
        "\n",
        "で行いました. 体積(V)によって閉じ込めら気体分子の数が変わってしまうので\n",
        "> アボガドロ数 $N_{\\rm A}=6.02\\times 10^{23}$ 個\n",
        "\n",
        "あつめた集団を一つの単位として **物質量** として\n",
        "> 1 mol\n",
        "\n",
        "として調べたところ, 気体の種類によらず(ほぼ)一定の値, **気体定数 $R$**, に落ち着くことがわかりました.\n",
        "\n",
        "これを $n$ mol の閉じ込められた理想期待まで拡張し\n",
        "\\begin{align*}\n",
        "\\dfrac{P\\cdot V}{T} = n \\cdot R\n",
        "\\end{align*}\n",
        "が得られます. これを変形したものが\n",
        ">> \\begin{align*}\n",
        "P V= n R T\n",
        "\\end{align*}\n",
        "\n",
        "で **理想気体の状態方程式** と呼ばれます.   \n",
        "この方程式には, 閉じ込められた 物質量 $n$ mol の理想気体の **状態量**:\n",
        "1. 圧力: P\n",
        "2. 体積: V\n",
        "3. 温度: T  \n",
        "\n",
        "が含まれています."
      ]
    },
    {
      "cell_type": "markdown",
      "metadata": {
        "id": "yukCy9SBo7Lu"
      },
      "source": [
        "## 気体の分子運動論"
      ]
    },
    {
      "cell_type": "markdown",
      "metadata": {
        "id": "m7-HYg4Vxd74"
      },
      "source": [
        "金属などの固体では, 原子/分子の熱運動によって線膨張や体膨張が起こりました.\n",
        "\n",
        "理想気体(大きさを無視した質点の原子/分子 + 相互作用を無視)では,   \n",
        "  気体の状態を与える 体積$V$, 圧力$P$, 温度$T$ がどのように  \n",
        "  熱運動と関わっていくか調べていきます"
      ]
    },
    {
      "cell_type": "markdown",
      "metadata": {
        "id": "_KvA9xomqOD8"
      },
      "source": [
        "### 気体の圧力と気体分子の運動"
      ]
    },
    {
      "cell_type": "code",
      "metadata": {
        "id": "3zVErX9hyfT1",
        "cellView": "form",
        "colab": {
          "base_uri": "https://localhost:8080/",
          "height": 475
        },
        "outputId": "9c2a6eef-ed9a-48a9-eada-460d49027965"
      },
      "source": [
        "#@title 気体分子の熱運動のシミュレーション: choose a small red one.\n",
        "%%html\n",
        "<iframe src=\"https://phet.colorado.edu/sims/html/gases-intro/latest/gases-intro_en.html\" width=\"600\" height=\"450\" scrolling=\"no\" allowfullscreen></iframe>"
      ],
      "execution_count": null,
      "outputs": [
        {
          "output_type": "display_data",
          "data": {
            "text/html": [
              "<iframe src=\"https://phet.colorado.edu/sims/html/gases-intro/latest/gases-intro_en.html\" width=\"600\" height=\"450\" scrolling=\"no\" allowfullscreen></iframe>"
            ],
            "text/plain": [
              "<IPython.core.display.HTML object>"
            ]
          },
          "metadata": {
            "tags": []
          }
        }
      ]
    },
    {
      "cell_type": "markdown",
      "metadata": {
        "id": "qpxZy0xf0f7h"
      },
      "source": [
        "上のシミュレーションを現実に適応すると\n",
        "- 分子が壁に当たることで圧力(Pa=${\\rm N/m^2}$)が現れた\n",
        "- 温度を上げると, 気体分子の運動は激しくなり, 圧力も上がった\n",
        "- 温度を下げると, 気体分子の運動は緩やかになり, 圧力も下がった\n",
        "\n",
        "このことから\n",
        "> 運動エネルギーを持つ分子(質量 $m$)が壁に当たることで,  \n",
        "閉じ込められた気体の圧力が生まれている\n",
        "\n",
        "ことがわかります.\n",
        "\n",
        "一般の気体分子の運動は3次元かつ, 複雑な形状(風船など)で考える必要がありますが, 話を簡単にするために\n",
        "> 絶対温度$T$のもと, 一辺の長さが $L$ の立方体(体積 $V=L^3$)に閉じ込められた  $n$ mol の気体\n",
        "\n",
        "について考えていきます.\n",
        "\n",
        "ここで, この立方体の中では $n$ mol の気体が 圧力 $P$ を持っているものとします.   \n",
        "圧力は容器の内部では, パスカルの原理より, 立方体のどの面で圧力を測っても同じものとします.\n",
        "\n",
        "どの面を見ても同じなら, 3次元($xyz$)のうち一次元の($x$)の議論を   \n",
        "しっかりやってから, 3次元に拡張することが可能です.\n"
      ]
    },
    {
      "cell_type": "code",
      "metadata": {
        "id": "m2pYG_PL5MQz",
        "cellView": "form",
        "colab": {
          "base_uri": "https://localhost:8080/",
          "height": 245
        },
        "outputId": "ccc497ab-ed98-4381-c229-f1d12f08c676"
      },
      "source": [
        "#@title 立方体に閉じ込めらた気体\n",
        "%%svg\n",
        "<svg xmlns=\"http://www.w3.org/2000/svg\" xmlns:xlink=\"http://www.w3.org/1999/xlink\" version=\"1.1\" width=\"431px\" viewBox=\"-0.5 -0.5 431 224\" content=\"&lt;mxfile host=&quot;app.diagrams.net&quot; modified=&quot;2020-06-11T10:23:44.924Z&quot; agent=&quot;5.0 (Macintosh; Intel Mac OS X 10_15_5) AppleWebKit/537.36 (KHTML, like Gecko) Chrome/83.0.4103.97 Safari/537.36&quot; etag=&quot;m55aADyUA414-DRKpyCS&quot; version=&quot;13.2.1&quot; type=&quot;google&quot;&gt;&lt;diagram id=&quot;DSozb1oCj-Pgmqun-L3D&quot; name=&quot;Page-1&quot;&gt;7Vtbj9o6EP41SD0PoNyBx4XtRVUrVdqjnqpv3sQEq06cTcwC/fXHwXYS5wYEAqUsQtowsSfjmc+fZwZ2YM6DzccYRMuvxIN4YGjeZmA+DgxjbBiD9K15Wy6wrSkX+DHyuEjPBU/oNxRCTUhXyIOJMpASgimKVKFLwhC6VJGBOCZrddiCYPWpEfBhRfDkAlyV/oc8uuTSiTHO5Z8g8pfyyboj1hcAOVisJFkCj6wLIvP9wJzHhFB+FWzmEKe+k37h8z403M0Mi2FID5nw8jl6Wc9Xy58e/fx7Mpwvvv94GhoOV/MK8EqsWFhLt9IFfkxW0cCcLUhI5wSTeCc257sXkwsNMKZwUxcT8Cw1aVWb9cwTDEGQBJDGWzZEKLLEDAEeXWpY56HIxiwLYTA0IQQi/H6mOvcQuxBOOsJhurXfYeslovApAm76ec22BXPSkgbsOY86uwRJxJG6QBvopY5FGEvHhiSEbT4t+q4lolWPblWPFjyoOzUezITn9+DkUMidgqujfLMprbngnMll0TXd7xsYeg8pseVgKWCLj4ZehdT2eIYHpeqZgifsGk9IWQwxoOhVfWidd8QTvhHEzMlAWXFoQlaxC8WoIqeVJlqleRTEPqSVebtYZKvqHh4JtDsLT9nLe6OzUffOpaKj31d0Sl6WZ2SZuP/UaBn3Fa3OVHdgmHsOl3kq9SU0Jr+yHDqVeCBZpvnPLUZTBGV47s13rejWZbUOpiLrV8LsvKyIvDFMdgXbAxugT6JNfjMttXj+m8uYnbGPQHGQ44u/u0chKQikhC0GlUcxGbdJissoxJgVhyn6js3DOUTrSpyjS5/OuN1ImlDwUJOYGrWJaTOAT8pLjQOqnl7Iuiljf0t8Ck6y6op4Zfe6GXbzvWdqu5eyZy+6y7+ctMsZlL6AZ4hLexojP2TXLoMVZCuepXsTuQA/iBsB8rxUxyyGbFWihNTY5yiNzi5e9mxgP/bV72jZXo1koI10hQ2M85xdujGamorioTMyVTVksUhgP/mfffaE4sZIpoEsDiWZSxe/1riRZVAtdQjSSWkj9p/fMWvZmz1bK1z9k15yIkmJZgEChLd8DlMEgohTFctPzJmfMYsqV1U0c1Ur6/zV9GK30stQG2mTsa0ywYkcI9XIdukF+OSAtmIrn5ylHLkulYynIzWMneuRXNOl2KUufG/scgvs0l7JMHYxzkwuUvNUL8N9cjG2ObVRf8tsc+utLLORat6aHb00O/Z971bqduiy2XitdofZnOreM0JEw6CCkEzeG0JkQCRA9GsDpDlbuWeAXJFC9BKFXBkg1tsZ0wKDZuD0BxBNBcj42gA5rqP+jIn7q63/xZY+Y+M/IHyjLXcRJ1vtSOq60S3HHKt6Jsal69m69ub1COD1D++1N+77zmWp1d5TH/bTVDdGznhafJUSF2s0cWpu91+wWnUFa6fviDqh8Hi0cxVhG26TCITdVbMbAcG8U1R4Cld6tgV863MB/Zr+vUfTdzPa7D7VNcd815ikvzXlIrNoVi4+zVguTq1FlJGmO2hqKdqdw3y0BU0e63o4cS3/Nh4prdbvO4DYoUD7O3vAihK+sJ3qk2qX9p+zm1q5X1nza+y65Mo8Pg1lH/P/LeCnSP4PGub7/wE=&lt;/diagram&gt;&lt;/mxfile&gt;\" onclick=\"(function(svg){var src=window.event.target||window.event.srcElement;while (src!=null&amp;&amp;src.nodeName.toLowerCase()!='a'){src=src.parentNode;}if(src==null){if(svg.wnd!=null&amp;&amp;!svg.wnd.closed){svg.wnd.focus();}else{var r=function(evt){if(evt.data=='ready'&amp;&amp;evt.source==svg.wnd){svg.wnd.postMessage(decodeURIComponent(svg.getAttribute('content')),'*');window.removeEventListener('message',r);}};window.addEventListener('message',r);svg.wnd=window.open('https://app.diagrams.net/?client=1&amp;lightbox=1&amp;edit=_blank');}}})(this);\" style=\"cursor:pointer;max-width:100%;max-height:224px;\"><defs/><g><rect x=\"15\" y=\"62\" width=\"160\" height=\"160\" fill=\"none\" stroke=\"#000000\" pointer-events=\"all\"/><path d=\"M 175 222 L 175 62\" fill=\"none\" stroke=\"#000000\" stroke-miterlimit=\"10\" pointer-events=\"stroke\"/><path d=\"M 175 62 L 255 22\" fill=\"none\" stroke=\"#000000\" stroke-miterlimit=\"10\" pointer-events=\"stroke\"/><path d=\"M 255 182 L 255 22\" fill=\"none\" stroke=\"#000000\" stroke-miterlimit=\"10\" pointer-events=\"stroke\"/><path d=\"M 175 222 L 255 182\" fill=\"none\" stroke=\"#000000\" stroke-miterlimit=\"10\" pointer-events=\"stroke\"/><path d=\"M 95 182 L 255 182\" fill=\"none\" stroke=\"#000000\" stroke-miterlimit=\"10\" stroke-dasharray=\"3 3\" pointer-events=\"stroke\"/><ellipse cx=\"205\" cy=\"92\" rx=\"10\" ry=\"10\" fill=\"#ffffff\" stroke=\"#cccccc\" pointer-events=\"all\"/><g transform=\"translate(-0.5 -0.5)\"><switch><foreignObject style=\"overflow: visible; text-align: left;\" pointer-events=\"none\" width=\"100%\" height=\"100%\" requiredFeatures=\"http://www.w3.org/TR/SVG11/feature#Extensibility\"><div xmlns=\"http://www.w3.org/1999/xhtml\" style=\"display: flex; align-items: unsafe center; justify-content: unsafe center; width: 18px; height: 1px; padding-top: 92px; margin-left: 196px;\"><div style=\"box-sizing: border-box; font-size: 0; text-align: center; \"><div style=\"display: inline-block; font-size: 12px; font-family: Helvetica; color: #CCCCCC; line-height: 1.2; pointer-events: all; white-space: normal; word-wrap: normal; \"><font style=\"font-size: 18px\" face=\"Georgia\"><i>m</i></font></div></div></div></foreignObject><text x=\"205\" y=\"96\" fill=\"#CCCCCC\" font-family=\"Helvetica\" font-size=\"12px\" text-anchor=\"middle\">m</text></switch></g><path d=\"M 15 62 L 95 22\" fill=\"none\" stroke=\"#000000\" stroke-miterlimit=\"10\" pointer-events=\"stroke\"/><g transform=\"translate(-0.5 -0.5)\"><switch><foreignObject style=\"overflow: visible; text-align: left;\" pointer-events=\"none\" width=\"100%\" height=\"100%\" requiredFeatures=\"http://www.w3.org/TR/SVG11/feature#Extensibility\"><div xmlns=\"http://www.w3.org/1999/xhtml\" style=\"display: flex; align-items: unsafe center; justify-content: unsafe center; width: 1px; height: 1px; padding-top: 32px; margin-left: 46px;\"><div style=\"box-sizing: border-box; font-size: 0; text-align: center; \"><div style=\"display: inline-block; font-size: 11px; font-family: Helvetica; color: #CCCCCC; line-height: 1.2; pointer-events: all; background-color: #ffffff; white-space: nowrap; \"><font color=\"#000000\" style=\"font-size: 18px\" face=\"Georgia\"><i>L</i></font></div></div></div></foreignObject><text x=\"46\" y=\"36\" fill=\"#CCCCCC\" font-family=\"Helvetica\" font-size=\"11px\" text-anchor=\"middle\">L</text></switch></g><path d=\"M 95 22 L 255 22\" fill=\"none\" stroke=\"#000000\" stroke-miterlimit=\"10\" pointer-events=\"stroke\"/><g transform=\"translate(-0.5 -0.5)\"><switch><foreignObject style=\"overflow: visible; text-align: left;\" pointer-events=\"none\" width=\"100%\" height=\"100%\" requiredFeatures=\"http://www.w3.org/TR/SVG11/feature#Extensibility\"><div xmlns=\"http://www.w3.org/1999/xhtml\" style=\"display: flex; align-items: unsafe center; justify-content: unsafe center; width: 1px; height: 1px; padding-top: 11px; margin-left: 169px;\"><div style=\"box-sizing: border-box; font-size: 0; text-align: center; \"><div style=\"display: inline-block; font-size: 11px; font-family: Helvetica; color: #CCCCCC; line-height: 1.2; pointer-events: all; background-color: #ffffff; white-space: nowrap; \"><i style=\"color: rgb(0 , 0 , 0) ; font-family: &quot;georgia&quot; ; font-size: 18px\">L</i></div></div></div></foreignObject><text x=\"169\" y=\"14\" fill=\"#CCCCCC\" font-family=\"Helvetica\" font-size=\"11px\" text-anchor=\"middle\">L</text></switch></g><path d=\"M 94.5 182 L 94.5 22\" fill=\"none\" stroke=\"#000000\" stroke-miterlimit=\"10\" stroke-dasharray=\"3 3\" pointer-events=\"stroke\"/><g transform=\"translate(-0.5 -0.5)\"><switch><foreignObject style=\"overflow: visible; text-align: left;\" pointer-events=\"none\" width=\"100%\" height=\"100%\" requiredFeatures=\"http://www.w3.org/TR/SVG11/feature#Extensibility\"><div xmlns=\"http://www.w3.org/1999/xhtml\" style=\"display: flex; align-items: unsafe center; justify-content: unsafe center; width: 1px; height: 1px; padding-top: 143px; margin-left: 6px;\"><div style=\"box-sizing: border-box; font-size: 0; text-align: center; \"><div style=\"display: inline-block; font-size: 11px; font-family: Helvetica; color: #CCCCCC; line-height: 1.2; pointer-events: all; background-color: #ffffff; white-space: nowrap; \"><i style=\"color: rgb(0 , 0 , 0) ; font-family: &quot;georgia&quot; ; font-size: 18px\">L</i></div></div></div></foreignObject><text x=\"6\" y=\"146\" fill=\"#CCCCCC\" font-family=\"Helvetica\" font-size=\"11px\" text-anchor=\"middle\">L</text></switch></g><path d=\"M 15 222 L 95 182\" fill=\"none\" stroke=\"#000000\" stroke-miterlimit=\"10\" stroke-dasharray=\"3 3\" pointer-events=\"stroke\"/><ellipse cx=\"145\" cy=\"162\" rx=\"10\" ry=\"10\" fill=\"#ffffff\" stroke=\"#cccccc\" pointer-events=\"all\"/><g transform=\"translate(-0.5 -0.5)\"><switch><foreignObject style=\"overflow: visible; text-align: left;\" pointer-events=\"none\" width=\"100%\" height=\"100%\" requiredFeatures=\"http://www.w3.org/TR/SVG11/feature#Extensibility\"><div xmlns=\"http://www.w3.org/1999/xhtml\" style=\"display: flex; align-items: unsafe center; justify-content: unsafe center; width: 18px; height: 1px; padding-top: 162px; margin-left: 136px;\"><div style=\"box-sizing: border-box; font-size: 0; text-align: center; \"><div style=\"display: inline-block; font-size: 12px; font-family: Helvetica; color: #CCCCCC; line-height: 1.2; pointer-events: all; white-space: normal; word-wrap: normal; \"><font style=\"font-size: 18px\" face=\"Georgia\"><i>m</i></font></div></div></div></foreignObject><text x=\"145\" y=\"166\" fill=\"#CCCCCC\" font-family=\"Helvetica\" font-size=\"12px\" text-anchor=\"middle\">m</text></switch></g><ellipse cx=\"62\" cy=\"142\" rx=\"10\" ry=\"10\" fill=\"#ffffff\" stroke=\"#000000\" pointer-events=\"all\"/><g transform=\"translate(-0.5 -0.5)\"><switch><foreignObject style=\"overflow: visible; text-align: left;\" pointer-events=\"none\" width=\"100%\" height=\"100%\" requiredFeatures=\"http://www.w3.org/TR/SVG11/feature#Extensibility\"><div xmlns=\"http://www.w3.org/1999/xhtml\" style=\"display: flex; align-items: unsafe center; justify-content: unsafe center; width: 18px; height: 1px; padding-top: 142px; margin-left: 53px;\"><div style=\"box-sizing: border-box; font-size: 0; text-align: center; \"><div style=\"display: inline-block; font-size: 12px; font-family: Helvetica; color: #000000; line-height: 1.2; pointer-events: all; white-space: normal; word-wrap: normal; \"><font style=\"font-size: 18px\" face=\"Georgia\"><i>m</i></font></div></div></div></foreignObject><text x=\"62\" y=\"146\" fill=\"#000000\" font-family=\"Helvetica\" font-size=\"12px\" text-anchor=\"middle\">m</text></switch></g><ellipse cx=\"135\" cy=\"42\" rx=\"10\" ry=\"10\" fill=\"#ffffff\" stroke=\"#cccccc\" pointer-events=\"all\"/><g transform=\"translate(-0.5 -0.5)\"><switch><foreignObject style=\"overflow: visible; text-align: left;\" pointer-events=\"none\" width=\"100%\" height=\"100%\" requiredFeatures=\"http://www.w3.org/TR/SVG11/feature#Extensibility\"><div xmlns=\"http://www.w3.org/1999/xhtml\" style=\"display: flex; align-items: unsafe center; justify-content: unsafe center; width: 18px; height: 1px; padding-top: 42px; margin-left: 126px;\"><div style=\"box-sizing: border-box; font-size: 0; text-align: center; \"><div style=\"display: inline-block; font-size: 12px; font-family: Helvetica; color: #CCCCCC; line-height: 1.2; pointer-events: all; white-space: normal; word-wrap: normal; \"><font style=\"font-size: 18px\" face=\"Georgia\"><i>m</i></font></div></div></div></foreignObject><text x=\"135\" y=\"46\" fill=\"#CCCCCC\" font-family=\"Helvetica\" font-size=\"12px\" text-anchor=\"middle\">m</text></switch></g><ellipse cx=\"125\" cy=\"102\" rx=\"10\" ry=\"10\" fill=\"#ffffff\" stroke=\"#cccccc\" pointer-events=\"all\"/><g transform=\"translate(-0.5 -0.5)\"><switch><foreignObject style=\"overflow: visible; text-align: left;\" pointer-events=\"none\" width=\"100%\" height=\"100%\" requiredFeatures=\"http://www.w3.org/TR/SVG11/feature#Extensibility\"><div xmlns=\"http://www.w3.org/1999/xhtml\" style=\"display: flex; align-items: unsafe center; justify-content: unsafe center; width: 18px; height: 1px; padding-top: 102px; margin-left: 116px;\"><div style=\"box-sizing: border-box; font-size: 0; text-align: center; \"><div style=\"display: inline-block; font-size: 12px; font-family: Helvetica; color: #CCCCCC; line-height: 1.2; pointer-events: all; white-space: normal; word-wrap: normal; \"><font style=\"font-size: 18px\" face=\"Georgia\"><i>m</i></font></div></div></div></foreignObject><text x=\"125\" y=\"106\" fill=\"#CCCCCC\" font-family=\"Helvetica\" font-size=\"12px\" text-anchor=\"middle\">m</text></switch></g><path d=\"M 68 134 L 82.26 112.97\" fill=\"none\" stroke=\"#000000\" stroke-width=\"2\" stroke-miterlimit=\"10\" pointer-events=\"stroke\"/><path d=\"M 86.75 106.35 L 85.57 115.22 L 78.95 110.73 Z\" fill=\"#000000\" stroke=\"#000000\" stroke-width=\"2\" stroke-miterlimit=\"10\" pointer-events=\"all\"/><g transform=\"translate(-0.5 -0.5)\"><switch><foreignObject style=\"overflow: visible; text-align: left;\" pointer-events=\"none\" width=\"100%\" height=\"100%\" requiredFeatures=\"http://www.w3.org/TR/SVG11/feature#Extensibility\"><div xmlns=\"http://www.w3.org/1999/xhtml\" style=\"display: flex; align-items: unsafe center; justify-content: unsafe center; width: 1px; height: 1px; padding-top: 135px; margin-left: 79px;\"><div style=\"box-sizing: border-box; font-size: 0; text-align: center; \"><div style=\"display: inline-block; font-size: 11px; font-family: Helvetica; color: #000000; line-height: 1.2; pointer-events: all; background-color: #ffffff; white-space: nowrap; \"><font style=\"font-size: 18px\" face=\"Georgia\"><i>v</i></font></div></div></div></foreignObject><text x=\"79\" y=\"138\" fill=\"#000000\" font-family=\"Helvetica\" font-size=\"11px\" text-anchor=\"middle\">v</text></switch></g><rect x=\"280\" y=\"82\" width=\"150\" height=\"30\" fill=\"none\" stroke=\"none\" pointer-events=\"all\"/><g transform=\"translate(-0.5 -0.5)\"><switch><foreignObject style=\"overflow: visible; text-align: left;\" pointer-events=\"none\" width=\"100%\" height=\"100%\" requiredFeatures=\"http://www.w3.org/TR/SVG11/feature#Extensibility\"><div xmlns=\"http://www.w3.org/1999/xhtml\" style=\"display: flex; align-items: unsafe center; justify-content: unsafe center; width: 1px; height: 1px; padding-top: 97px; margin-left: 355px;\"><div style=\"box-sizing: border-box; font-size: 0; text-align: center; \"><div style=\"display: inline-block; font-size: 12px; font-family: Helvetica; color: #CCCCCC; line-height: 1.2; pointer-events: all; white-space: nowrap; \"><font color=\"#000000\" face=\"Georgia\"><i style=\"font-size: 18px\">n</i><span style=\"font-size: 18px\"> mol, </span><i style=\"font-size: 18px\">P</i><span style=\"font-size: 18px\">, </span><i style=\"font-size: 18px\">V</i><span style=\"font-size: 18px\">=</span><span style=\"font-size: 18px\"><i>L</i><sup>3</sup></span><span style=\"font-style: italic ; font-size: 15px\">, </span><span style=\"font-style: italic\"><font style=\"font-size: 18px\">T</font></span></font></div></div></div></foreignObject><text x=\"355\" y=\"101\" fill=\"#CCCCCC\" font-family=\"Helvetica\" font-size=\"12px\" text-anchor=\"middle\">n mol, P, V=L3, T</text></switch></g></g><switch><g requiredFeatures=\"http://www.w3.org/TR/SVG11/feature#Extensibility\"/><a transform=\"translate(0,-5)\" xlink:href=\"https://desk.draw.io/support/solutions/articles/16000042487\" target=\"_blank\"><text text-anchor=\"middle\" font-size=\"10px\" x=\"50%\" y=\"100%\">Viewer does not support full SVG 1.1</text></a></switch></svg>"
      ],
      "execution_count": null,
      "outputs": [
        {
          "output_type": "display_data",
          "data": {
            "text/plain": [
              "<IPython.core.display.SVG object>"
            ],
            "image/svg+xml": "<svg content=\"&lt;mxfile host=&quot;app.diagrams.net&quot; modified=&quot;2020-06-11T10:23:44.924Z&quot; agent=&quot;5.0 (Macintosh; Intel Mac OS X 10_15_5) AppleWebKit/537.36 (KHTML, like Gecko) Chrome/83.0.4103.97 Safari/537.36&quot; etag=&quot;m55aADyUA414-DRKpyCS&quot; version=&quot;13.2.1&quot; type=&quot;google&quot;&gt;&lt;diagram id=&quot;DSozb1oCj-Pgmqun-L3D&quot; name=&quot;Page-1&quot;&gt;7Vtbj9o6EP41SD0PoNyBx4XtRVUrVdqjnqpv3sQEq06cTcwC/fXHwXYS5wYEAqUsQtowsSfjmc+fZwZ2YM6DzccYRMuvxIN4YGjeZmA+DgxjbBiD9K15Wy6wrSkX+DHyuEjPBU/oNxRCTUhXyIOJMpASgimKVKFLwhC6VJGBOCZrddiCYPWpEfBhRfDkAlyV/oc8uuTSiTHO5Z8g8pfyyboj1hcAOVisJFkCj6wLIvP9wJzHhFB+FWzmEKe+k37h8z403M0Mi2FID5nw8jl6Wc9Xy58e/fx7Mpwvvv94GhoOV/MK8EqsWFhLt9IFfkxW0cCcLUhI5wSTeCc257sXkwsNMKZwUxcT8Cw1aVWb9cwTDEGQBJDGWzZEKLLEDAEeXWpY56HIxiwLYTA0IQQi/H6mOvcQuxBOOsJhurXfYeslovApAm76ec22BXPSkgbsOY86uwRJxJG6QBvopY5FGEvHhiSEbT4t+q4lolWPblWPFjyoOzUezITn9+DkUMidgqujfLMprbngnMll0TXd7xsYeg8pseVgKWCLj4ZehdT2eIYHpeqZgifsGk9IWQwxoOhVfWidd8QTvhHEzMlAWXFoQlaxC8WoIqeVJlqleRTEPqSVebtYZKvqHh4JtDsLT9nLe6OzUffOpaKj31d0Sl6WZ2SZuP/UaBn3Fa3OVHdgmHsOl3kq9SU0Jr+yHDqVeCBZpvnPLUZTBGV47s13rejWZbUOpiLrV8LsvKyIvDFMdgXbAxugT6JNfjMttXj+m8uYnbGPQHGQ44u/u0chKQikhC0GlUcxGbdJissoxJgVhyn6js3DOUTrSpyjS5/OuN1ImlDwUJOYGrWJaTOAT8pLjQOqnl7Iuiljf0t8Ck6y6op4Zfe6GXbzvWdqu5eyZy+6y7+ctMsZlL6AZ4hLexojP2TXLoMVZCuepXsTuQA/iBsB8rxUxyyGbFWihNTY5yiNzi5e9mxgP/bV72jZXo1koI10hQ2M85xdujGamorioTMyVTVksUhgP/mfffaE4sZIpoEsDiWZSxe/1riRZVAtdQjSSWkj9p/fMWvZmz1bK1z9k15yIkmJZgEChLd8DlMEgohTFctPzJmfMYsqV1U0c1Ur6/zV9GK30stQG2mTsa0ywYkcI9XIdukF+OSAtmIrn5ylHLkulYynIzWMneuRXNOl2KUufG/scgvs0l7JMHYxzkwuUvNUL8N9cjG2ObVRf8tsc+utLLORat6aHb00O/Z971bqduiy2XitdofZnOreM0JEw6CCkEzeG0JkQCRA9GsDpDlbuWeAXJFC9BKFXBkg1tsZ0wKDZuD0BxBNBcj42gA5rqP+jIn7q63/xZY+Y+M/IHyjLXcRJ1vtSOq60S3HHKt6Jsal69m69ub1COD1D++1N+77zmWp1d5TH/bTVDdGznhafJUSF2s0cWpu91+wWnUFa6fviDqh8Hi0cxVhG26TCITdVbMbAcG8U1R4Cld6tgV863MB/Zr+vUfTdzPa7D7VNcd815ikvzXlIrNoVi4+zVguTq1FlJGmO2hqKdqdw3y0BU0e63o4cS3/Nh4prdbvO4DYoUD7O3vAihK+sJ3qk2qX9p+zm1q5X1nza+y65Mo8Pg1lH/P/LeCnSP4PGub7/wE=&lt;/diagram&gt;&lt;/mxfile&gt;\" onclick=\"(function(svg){var src=window.event.target||window.event.srcElement;while (src!=null&amp;&amp;src.nodeName.toLowerCase()!='a'){src=src.parentNode;}if(src==null){if(svg.wnd!=null&amp;&amp;!svg.wnd.closed){svg.wnd.focus();}else{var r=function(evt){if(evt.data=='ready'&amp;&amp;evt.source==svg.wnd){svg.wnd.postMessage(decodeURIComponent(svg.getAttribute('content')),'*');window.removeEventListener('message',r);}};window.addEventListener('message',r);svg.wnd=window.open('https://app.diagrams.net/?client=1&amp;lightbox=1&amp;edit=_blank');}}})(this);\" style=\"cursor:pointer;max-width:100%;max-height:224px;\" version=\"1.1\" viewBox=\"-0.5 -0.5 431 224\" width=\"431px\" xmlns=\"http://www.w3.org/2000/svg\" xmlns:xlink=\"http://www.w3.org/1999/xlink\"><defs/><g><rect fill=\"none\" height=\"160\" pointer-events=\"all\" stroke=\"#000000\" width=\"160\" x=\"15\" y=\"62\"/><path d=\"M 175 222 L 175 62\" fill=\"none\" pointer-events=\"stroke\" stroke=\"#000000\" stroke-miterlimit=\"10\"/><path d=\"M 175 62 L 255 22\" fill=\"none\" pointer-events=\"stroke\" stroke=\"#000000\" stroke-miterlimit=\"10\"/><path d=\"M 255 182 L 255 22\" fill=\"none\" pointer-events=\"stroke\" stroke=\"#000000\" stroke-miterlimit=\"10\"/><path d=\"M 175 222 L 255 182\" fill=\"none\" pointer-events=\"stroke\" stroke=\"#000000\" stroke-miterlimit=\"10\"/><path d=\"M 95 182 L 255 182\" fill=\"none\" pointer-events=\"stroke\" stroke=\"#000000\" stroke-dasharray=\"3 3\" stroke-miterlimit=\"10\"/><ellipse cx=\"205\" cy=\"92\" fill=\"#ffffff\" pointer-events=\"all\" rx=\"10\" ry=\"10\" stroke=\"#cccccc\"/><g transform=\"translate(-0.5 -0.5)\"><switch><foreignObject height=\"100%\" pointer-events=\"none\" requiredFeatures=\"http://www.w3.org/TR/SVG11/feature#Extensibility\" style=\"overflow: visible; text-align: left;\" width=\"100%\"><div style=\"display: flex; align-items: unsafe center; justify-content: unsafe center; width: 18px; height: 1px; padding-top: 92px; margin-left: 196px;\" xmlns=\"http://www.w3.org/1999/xhtml\"><div style=\"box-sizing: border-box; font-size: 0; text-align: center; \"><div style=\"display: inline-block; font-size: 12px; font-family: Helvetica; color: #CCCCCC; line-height: 1.2; pointer-events: all; white-space: normal; word-wrap: normal; \"><font face=\"Georgia\" style=\"font-size: 18px\"><i>m</i></font></div></div></div></foreignObject><text fill=\"#CCCCCC\" font-family=\"Helvetica\" font-size=\"12px\" text-anchor=\"middle\" x=\"205\" y=\"96\">m</text></switch></g><path d=\"M 15 62 L 95 22\" fill=\"none\" pointer-events=\"stroke\" stroke=\"#000000\" stroke-miterlimit=\"10\"/><g transform=\"translate(-0.5 -0.5)\"><switch><foreignObject height=\"100%\" pointer-events=\"none\" requiredFeatures=\"http://www.w3.org/TR/SVG11/feature#Extensibility\" style=\"overflow: visible; text-align: left;\" width=\"100%\"><div style=\"display: flex; align-items: unsafe center; justify-content: unsafe center; width: 1px; height: 1px; padding-top: 32px; margin-left: 46px;\" xmlns=\"http://www.w3.org/1999/xhtml\"><div style=\"box-sizing: border-box; font-size: 0; text-align: center; \"><div style=\"display: inline-block; font-size: 11px; font-family: Helvetica; color: #CCCCCC; line-height: 1.2; pointer-events: all; background-color: #ffffff; white-space: nowrap; \"><font color=\"#000000\" face=\"Georgia\" style=\"font-size: 18px\"><i>L</i></font></div></div></div></foreignObject><text fill=\"#CCCCCC\" font-family=\"Helvetica\" font-size=\"11px\" text-anchor=\"middle\" x=\"46\" y=\"36\">L</text></switch></g><path d=\"M 95 22 L 255 22\" fill=\"none\" pointer-events=\"stroke\" stroke=\"#000000\" stroke-miterlimit=\"10\"/><g transform=\"translate(-0.5 -0.5)\"><switch><foreignObject height=\"100%\" pointer-events=\"none\" requiredFeatures=\"http://www.w3.org/TR/SVG11/feature#Extensibility\" style=\"overflow: visible; text-align: left;\" width=\"100%\"><div style=\"display: flex; align-items: unsafe center; justify-content: unsafe center; width: 1px; height: 1px; padding-top: 11px; margin-left: 169px;\" xmlns=\"http://www.w3.org/1999/xhtml\"><div style=\"box-sizing: border-box; font-size: 0; text-align: center; \"><div style=\"display: inline-block; font-size: 11px; font-family: Helvetica; color: #CCCCCC; line-height: 1.2; pointer-events: all; background-color: #ffffff; white-space: nowrap; \"><i style=\"color: rgb(0 , 0 , 0) ; font-family: &quot;georgia&quot; ; font-size: 18px\">L</i></div></div></div></foreignObject><text fill=\"#CCCCCC\" font-family=\"Helvetica\" font-size=\"11px\" text-anchor=\"middle\" x=\"169\" y=\"14\">L</text></switch></g><path d=\"M 94.5 182 L 94.5 22\" fill=\"none\" pointer-events=\"stroke\" stroke=\"#000000\" stroke-dasharray=\"3 3\" stroke-miterlimit=\"10\"/><g transform=\"translate(-0.5 -0.5)\"><switch><foreignObject height=\"100%\" pointer-events=\"none\" requiredFeatures=\"http://www.w3.org/TR/SVG11/feature#Extensibility\" style=\"overflow: visible; text-align: left;\" width=\"100%\"><div style=\"display: flex; align-items: unsafe center; justify-content: unsafe center; width: 1px; height: 1px; padding-top: 143px; margin-left: 6px;\" xmlns=\"http://www.w3.org/1999/xhtml\"><div style=\"box-sizing: border-box; font-size: 0; text-align: center; \"><div style=\"display: inline-block; font-size: 11px; font-family: Helvetica; color: #CCCCCC; line-height: 1.2; pointer-events: all; background-color: #ffffff; white-space: nowrap; \"><i style=\"color: rgb(0 , 0 , 0) ; font-family: &quot;georgia&quot; ; font-size: 18px\">L</i></div></div></div></foreignObject><text fill=\"#CCCCCC\" font-family=\"Helvetica\" font-size=\"11px\" text-anchor=\"middle\" x=\"6\" y=\"146\">L</text></switch></g><path d=\"M 15 222 L 95 182\" fill=\"none\" pointer-events=\"stroke\" stroke=\"#000000\" stroke-dasharray=\"3 3\" stroke-miterlimit=\"10\"/><ellipse cx=\"145\" cy=\"162\" fill=\"#ffffff\" pointer-events=\"all\" rx=\"10\" ry=\"10\" stroke=\"#cccccc\"/><g transform=\"translate(-0.5 -0.5)\"><switch><foreignObject height=\"100%\" pointer-events=\"none\" requiredFeatures=\"http://www.w3.org/TR/SVG11/feature#Extensibility\" style=\"overflow: visible; text-align: left;\" width=\"100%\"><div style=\"display: flex; align-items: unsafe center; justify-content: unsafe center; width: 18px; height: 1px; padding-top: 162px; margin-left: 136px;\" xmlns=\"http://www.w3.org/1999/xhtml\"><div style=\"box-sizing: border-box; font-size: 0; text-align: center; \"><div style=\"display: inline-block; font-size: 12px; font-family: Helvetica; color: #CCCCCC; line-height: 1.2; pointer-events: all; white-space: normal; word-wrap: normal; \"><font face=\"Georgia\" style=\"font-size: 18px\"><i>m</i></font></div></div></div></foreignObject><text fill=\"#CCCCCC\" font-family=\"Helvetica\" font-size=\"12px\" text-anchor=\"middle\" x=\"145\" y=\"166\">m</text></switch></g><ellipse cx=\"62\" cy=\"142\" fill=\"#ffffff\" pointer-events=\"all\" rx=\"10\" ry=\"10\" stroke=\"#000000\"/><g transform=\"translate(-0.5 -0.5)\"><switch><foreignObject height=\"100%\" pointer-events=\"none\" requiredFeatures=\"http://www.w3.org/TR/SVG11/feature#Extensibility\" style=\"overflow: visible; text-align: left;\" width=\"100%\"><div style=\"display: flex; align-items: unsafe center; justify-content: unsafe center; width: 18px; height: 1px; padding-top: 142px; margin-left: 53px;\" xmlns=\"http://www.w3.org/1999/xhtml\"><div style=\"box-sizing: border-box; font-size: 0; text-align: center; \"><div style=\"display: inline-block; font-size: 12px; font-family: Helvetica; color: #000000; line-height: 1.2; pointer-events: all; white-space: normal; word-wrap: normal; \"><font face=\"Georgia\" style=\"font-size: 18px\"><i>m</i></font></div></div></div></foreignObject><text fill=\"#000000\" font-family=\"Helvetica\" font-size=\"12px\" text-anchor=\"middle\" x=\"62\" y=\"146\">m</text></switch></g><ellipse cx=\"135\" cy=\"42\" fill=\"#ffffff\" pointer-events=\"all\" rx=\"10\" ry=\"10\" stroke=\"#cccccc\"/><g transform=\"translate(-0.5 -0.5)\"><switch><foreignObject height=\"100%\" pointer-events=\"none\" requiredFeatures=\"http://www.w3.org/TR/SVG11/feature#Extensibility\" style=\"overflow: visible; text-align: left;\" width=\"100%\"><div style=\"display: flex; align-items: unsafe center; justify-content: unsafe center; width: 18px; height: 1px; padding-top: 42px; margin-left: 126px;\" xmlns=\"http://www.w3.org/1999/xhtml\"><div style=\"box-sizing: border-box; font-size: 0; text-align: center; \"><div style=\"display: inline-block; font-size: 12px; font-family: Helvetica; color: #CCCCCC; line-height: 1.2; pointer-events: all; white-space: normal; word-wrap: normal; \"><font face=\"Georgia\" style=\"font-size: 18px\"><i>m</i></font></div></div></div></foreignObject><text fill=\"#CCCCCC\" font-family=\"Helvetica\" font-size=\"12px\" text-anchor=\"middle\" x=\"135\" y=\"46\">m</text></switch></g><ellipse cx=\"125\" cy=\"102\" fill=\"#ffffff\" pointer-events=\"all\" rx=\"10\" ry=\"10\" stroke=\"#cccccc\"/><g transform=\"translate(-0.5 -0.5)\"><switch><foreignObject height=\"100%\" pointer-events=\"none\" requiredFeatures=\"http://www.w3.org/TR/SVG11/feature#Extensibility\" style=\"overflow: visible; text-align: left;\" width=\"100%\"><div style=\"display: flex; align-items: unsafe center; justify-content: unsafe center; width: 18px; height: 1px; padding-top: 102px; margin-left: 116px;\" xmlns=\"http://www.w3.org/1999/xhtml\"><div style=\"box-sizing: border-box; font-size: 0; text-align: center; \"><div style=\"display: inline-block; font-size: 12px; font-family: Helvetica; color: #CCCCCC; line-height: 1.2; pointer-events: all; white-space: normal; word-wrap: normal; \"><font face=\"Georgia\" style=\"font-size: 18px\"><i>m</i></font></div></div></div></foreignObject><text fill=\"#CCCCCC\" font-family=\"Helvetica\" font-size=\"12px\" text-anchor=\"middle\" x=\"125\" y=\"106\">m</text></switch></g><path d=\"M 68 134 L 82.26 112.97\" fill=\"none\" pointer-events=\"stroke\" stroke=\"#000000\" stroke-miterlimit=\"10\" stroke-width=\"2\"/><path d=\"M 86.75 106.35 L 85.57 115.22 L 78.95 110.73 Z\" fill=\"#000000\" pointer-events=\"all\" stroke=\"#000000\" stroke-miterlimit=\"10\" stroke-width=\"2\"/><g transform=\"translate(-0.5 -0.5)\"><switch><foreignObject height=\"100%\" pointer-events=\"none\" requiredFeatures=\"http://www.w3.org/TR/SVG11/feature#Extensibility\" style=\"overflow: visible; text-align: left;\" width=\"100%\"><div style=\"display: flex; align-items: unsafe center; justify-content: unsafe center; width: 1px; height: 1px; padding-top: 135px; margin-left: 79px;\" xmlns=\"http://www.w3.org/1999/xhtml\"><div style=\"box-sizing: border-box; font-size: 0; text-align: center; \"><div style=\"display: inline-block; font-size: 11px; font-family: Helvetica; color: #000000; line-height: 1.2; pointer-events: all; background-color: #ffffff; white-space: nowrap; \"><font face=\"Georgia\" style=\"font-size: 18px\"><i>v</i></font></div></div></div></foreignObject><text fill=\"#000000\" font-family=\"Helvetica\" font-size=\"11px\" text-anchor=\"middle\" x=\"79\" y=\"138\">v</text></switch></g><rect fill=\"none\" height=\"30\" pointer-events=\"all\" stroke=\"none\" width=\"150\" x=\"280\" y=\"82\"/><g transform=\"translate(-0.5 -0.5)\"><switch><foreignObject height=\"100%\" pointer-events=\"none\" requiredFeatures=\"http://www.w3.org/TR/SVG11/feature#Extensibility\" style=\"overflow: visible; text-align: left;\" width=\"100%\"><div style=\"display: flex; align-items: unsafe center; justify-content: unsafe center; width: 1px; height: 1px; padding-top: 97px; margin-left: 355px;\" xmlns=\"http://www.w3.org/1999/xhtml\"><div style=\"box-sizing: border-box; font-size: 0; text-align: center; \"><div style=\"display: inline-block; font-size: 12px; font-family: Helvetica; color: #CCCCCC; line-height: 1.2; pointer-events: all; white-space: nowrap; \"><font color=\"#000000\" face=\"Georgia\"><i style=\"font-size: 18px\">n</i><span style=\"font-size: 18px\"> mol, </span><i style=\"font-size: 18px\">P</i><span style=\"font-size: 18px\">, </span><i style=\"font-size: 18px\">V</i><span style=\"font-size: 18px\">=</span><span style=\"font-size: 18px\"><i>L</i><sup>3</sup></span><span style=\"font-style: italic ; font-size: 15px\">, </span><span style=\"font-style: italic\"><font style=\"font-size: 18px\">T</font></span></font></div></div></div></foreignObject><text fill=\"#CCCCCC\" font-family=\"Helvetica\" font-size=\"12px\" text-anchor=\"middle\" x=\"355\" y=\"101\">n mol, P, V=L3, T</text></switch></g></g><switch><g requiredFeatures=\"http://www.w3.org/TR/SVG11/feature#Extensibility\"/><a target=\"_blank\" transform=\"translate(0,-5)\" xlink:href=\"https://desk.draw.io/support/solutions/articles/16000042487\"><text font-size=\"10px\" text-anchor=\"middle\" x=\"50%\" y=\"100%\">Viewer does not support full SVG 1.1</text></a></switch></svg>"
          },
          "metadata": {
            "tags": []
          }
        }
      ]
    },
    {
      "cell_type": "markdown",
      "metadata": {
        "id": "RUjPal6O4OvU"
      },
      "source": [
        "#### 一次元 $x軸$ で壁への衝突で受ける力"
      ]
    },
    {
      "cell_type": "markdown",
      "metadata": {
        "id": "qC0el01T4lqn"
      },
      "source": [
        "理想気体を考えているので\n",
        "1. 分子の質量は $m$ で, その大きさは無視\n",
        "2. 分子同士は相互作用がないので互いに衝突しない\n",
        "4. 分子一つの質量は大変小さいので, 重力の影響は無視\n",
        "3. 分子も壁もお互い十分硬く, 完全弾性衝突 $e=1$\n",
        "\n",
        "とします.\n",
        "\n",
        "最後の条件から\n",
        "> 壁に当たる前後の一つの原子/分子の速さの比は 1\n",
        ">>  衝突前後の速さは等しいが, 方向が真逆\n",
        "\n",
        "ということがいえます.\n",
        "これらを利用すると, 理想気体では\n",
        "> 質量 $m$ の物体が壁に与える衝撃が圧力の源\n",
        "\n",
        "になることが見えてきました.\n"
      ]
    },
    {
      "cell_type": "code",
      "metadata": {
        "cellView": "form",
        "id": "3zils7SzEe7d",
        "colab": {
          "base_uri": "https://localhost:8080/",
          "height": 223
        },
        "outputId": "38743fdd-a655-4d60-f957-8dea11512310"
      },
      "source": [
        "#@title 一分子の壁への衝突(一次元)\n",
        "%%svg\n",
        "<svg xmlns=\"http://www.w3.org/2000/svg\" xmlns:xlink=\"http://www.w3.org/1999/xlink\" version=\"1.1\" width=\"210px\" viewBox=\"-0.5 -0.5 210 202\" content=\"&lt;mxfile host=&quot;app.diagrams.net&quot; modified=&quot;2020-06-12T03:29:09.871Z&quot; agent=&quot;5.0 (Macintosh; Intel Mac OS X 10_10_5) AppleWebKit/537.36 (KHTML, like Gecko) Chrome/83.0.4103.97 Safari/537.36&quot; etag=&quot;aBEyafdamUeQyH44B1Rc&quot; version=&quot;13.2.3&quot; type=&quot;google&quot;&gt;&lt;diagram id=&quot;uP_LLFMEPptDomEBrm82&quot; name=&quot;Page-1&quot;&gt;5VjBctowEP0aH8nINhA4BgJpZ9I2nRw67U3Ysq2JbLmyAKdf3zWWwJKBQEhomlzAfl7tSvveSms7/jgtbwTOky88JMzxUFg6/rXjeQPvEn4r4LEGXISGNRILGipsA9zTP0QbKnROQ1IYhpJzJmluggHPMhJIA8NC8KVpFnFmRs1xTFrAfYBZG/1BQ5lY66rwT4TGiY7s9tX6UqyN1UqKBId82YD8ieOPBeeyvkrLMWFV8nRe6nHTHU/XExMkk4cM+D7+Ov2JkiDld78+R8uJm3RvO8rLArO5WrCarHzUGSBZeFUlEu4ChouCBo4/SmTKAHDhspBYSG3BwZPGppRpm/ZcVWASGulXM78hPCVSPILBcpP0nkpk0si3xgRhWNKFSRpW3Mdrd+sId5zCTDykdapGKJV6veFFz/RR8LkIiBrWzLLlyesi01UfmY4gMzGRLUdw0Vj3BlqReASh3hZC+wyyNYr4ap4RDuoH/d/zSnojCCpiijeAQb8Gq9GdYlWeV2DgDvKyOaIfV//fdCyYeh2uxtuaAtpv8YwwU0qY0TirdAYyIQKABRGSQjFeqQcpDcPKx0gQmAuerfwhuM+rfK4y3Bs5veutkttbABCIlNt2FBXEKFpDoWpUx5SQvj1RmJZXd2g64FFUkFfRkf8yOtL7ucbctmi0X/p83d02dEdtvx9Qi+hi0DV3oRcRo4/Opb7uU+o7WigH6bUlyBpIT5IXY9CrVDpZJlSS+7yexxLaJUtwRV43MBEtSbjv0GwJZKcQ7HNNM9g4Vb0tp6qHdkvDoPpYXntHtRszxoMHu9kQ/GHdicHKR2D/HzUaLrIY6VqpPrTPcH2039Er9xn9N1WhC40U85nGykaFNuD3cVToQjq9bUEXliJfpm8ZWN3Q4FxHx+VRW0zGM2KS+dZ3EM/aQXz7BePgNxV7K0Ln3UEGH4yoVn4PJso6xd0zv1IOPxhRz68oiyjf7qNemSj9zez9MvVUgv99ScHt5pNebb75MOpP/gI=&lt;/diagram&gt;&lt;/mxfile&gt;\" onclick=\"(function(svg){var src=window.event.target||window.event.srcElement;while (src!=null&amp;&amp;src.nodeName.toLowerCase()!='a'){src=src.parentNode;}if(src==null){if(svg.wnd!=null&amp;&amp;!svg.wnd.closed){svg.wnd.focus();}else{var r=function(evt){if(evt.data=='ready'&amp;&amp;evt.source==svg.wnd){svg.wnd.postMessage(decodeURIComponent(svg.getAttribute('content')),'*');window.removeEventListener('message',r);}};window.addEventListener('message',r);svg.wnd=window.open('https://app.diagrams.net/?client=1&amp;lightbox=1&amp;edit=_blank');}}})(this);\" style=\"cursor:pointer;max-width:100%;max-height:202px;\"><defs/><g><path d=\"M 11 99.51 L 160.63 99.98\" fill=\"none\" stroke=\"#000000\" stroke-miterlimit=\"10\" pointer-events=\"stroke\"/><ellipse cx=\"8\" cy=\"99.5\" rx=\"3\" ry=\"3\" fill=\"#000000\" stroke=\"#000000\" pointer-events=\"all\"/><path d=\"M 165.88 100 L 158.87 103.47 L 160.63 99.98 L 158.89 96.47 Z\" fill=\"#000000\" stroke=\"#000000\" stroke-miterlimit=\"10\" pointer-events=\"all\"/><g transform=\"translate(-0.5 -0.5)\"><switch><foreignObject style=\"overflow: visible; text-align: left;\" pointer-events=\"none\" width=\"100%\" height=\"100%\" requiredFeatures=\"http://www.w3.org/TR/SVG11/feature#Extensibility\"><div xmlns=\"http://www.w3.org/1999/xhtml\" style=\"display: flex; align-items: unsafe center; justify-content: unsafe center; width: 1px; height: 1px; padding-top: 120px; margin-left: 7px;\"><div style=\"box-sizing: border-box; font-size: 0; text-align: center; \"><div style=\"display: inline-block; font-size: 11px; font-family: Helvetica; color: #000000; line-height: 1.2; pointer-events: all; background-color: #ffffff; white-space: nowrap; \"><font face=\"Georgia\" style=\"font-size: 18px\">O</font></div></div></div></foreignObject><text x=\"7\" y=\"123\" fill=\"#000000\" font-family=\"Helvetica\" font-size=\"11px\" text-anchor=\"middle\">O</text></switch></g><g transform=\"translate(-0.5 -0.5)\"><switch><foreignObject style=\"overflow: visible; text-align: left;\" pointer-events=\"none\" width=\"100%\" height=\"100%\" requiredFeatures=\"http://www.w3.org/TR/SVG11/feature#Extensibility\"><div xmlns=\"http://www.w3.org/1999/xhtml\" style=\"display: flex; align-items: unsafe center; justify-content: unsafe center; width: 1px; height: 1px; padding-top: 98px; margin-left: 185px;\"><div style=\"box-sizing: border-box; font-size: 0; text-align: center; \"><div style=\"display: inline-block; font-size: 11px; font-family: Helvetica; color: #000000; line-height: 1.2; pointer-events: all; background-color: #ffffff; white-space: nowrap; \"><font face=\"Georgia\" size=\"1\"><i style=\"font-size: 18px\">L</i></font></div></div></div></foreignObject><text x=\"185\" y=\"102\" fill=\"#000000\" font-family=\"Helvetica\" font-size=\"11px\" text-anchor=\"middle\">L</text></switch></g><ellipse cx=\"18\" cy=\"80\" rx=\"10\" ry=\"10\" fill=\"#ffffff\" stroke=\"#000000\" pointer-events=\"all\"/><g transform=\"translate(-0.5 -0.5)\"><switch><foreignObject style=\"overflow: visible; text-align: left;\" pointer-events=\"none\" width=\"100%\" height=\"100%\" requiredFeatures=\"http://www.w3.org/TR/SVG11/feature#Extensibility\"><div xmlns=\"http://www.w3.org/1999/xhtml\" style=\"display: flex; align-items: unsafe center; justify-content: unsafe center; width: 18px; height: 1px; padding-top: 80px; margin-left: 9px;\"><div style=\"box-sizing: border-box; font-size: 0; text-align: center; \"><div style=\"display: inline-block; font-size: 12px; font-family: Helvetica; color: #000000; line-height: 1.2; pointer-events: all; white-space: normal; word-wrap: normal; \"><font style=\"font-size: 18px\" face=\"Georgia\"><i>m</i></font></div></div></div></foreignObject><text x=\"18\" y=\"84\" fill=\"#000000\" font-family=\"Helvetica\" font-size=\"12px\" text-anchor=\"middle\">m</text></switch></g><path d=\"M 28 80 L 46.76 80\" fill=\"none\" stroke=\"#000000\" stroke-width=\"2\" stroke-miterlimit=\"10\" pointer-events=\"stroke\"/><path d=\"M 54.76 80 L 46.76 84 L 46.76 76 Z\" fill=\"#000000\" stroke=\"#000000\" stroke-width=\"2\" stroke-miterlimit=\"10\" pointer-events=\"all\"/><g transform=\"translate(-0.5 -0.5)\"><switch><foreignObject style=\"overflow: visible; text-align: left;\" pointer-events=\"none\" width=\"100%\" height=\"100%\" requiredFeatures=\"http://www.w3.org/TR/SVG11/feature#Extensibility\"><div xmlns=\"http://www.w3.org/1999/xhtml\" style=\"display: flex; align-items: unsafe center; justify-content: unsafe center; width: 1px; height: 1px; padding-top: 61px; margin-left: 34px;\"><div style=\"box-sizing: border-box; font-size: 0; text-align: center; \"><div style=\"display: inline-block; font-size: 11px; font-family: Helvetica; color: #000000; line-height: 1.2; pointer-events: all; background-color: #ffffff; white-space: nowrap; \"><font style=\"font-size: 18px\" face=\"Georgia\"><i>v<sub>x</sub></i></font></div></div></div></foreignObject><text x=\"34\" y=\"64\" fill=\"#000000\" font-family=\"Helvetica\" font-size=\"11px\" text-anchor=\"middle\">vx</text></switch></g><path d=\"M 128 200 L 128 40\" fill=\"none\" stroke=\"#000000\" stroke-miterlimit=\"10\" pointer-events=\"stroke\"/><path d=\"M 128 40 L 208 0\" fill=\"none\" stroke=\"#000000\" stroke-miterlimit=\"10\" pointer-events=\"stroke\"/><path d=\"M 128 200 L 208 160\" fill=\"none\" stroke=\"#000000\" stroke-miterlimit=\"10\" pointer-events=\"stroke\"/><path d=\"M 208 160 L 208 0\" fill=\"none\" stroke=\"#000000\" stroke-miterlimit=\"10\" pointer-events=\"stroke\"/></g><switch><g requiredFeatures=\"http://www.w3.org/TR/SVG11/feature#Extensibility\"/><a transform=\"translate(0,-5)\" xlink:href=\"https://desk.draw.io/support/solutions/articles/16000042487\" target=\"_blank\"><text text-anchor=\"middle\" font-size=\"10px\" x=\"50%\" y=\"100%\">Viewer does not support full SVG 1.1</text></a></switch></svg>"
      ],
      "execution_count": null,
      "outputs": [
        {
          "output_type": "display_data",
          "data": {
            "text/plain": [
              "<IPython.core.display.SVG object>"
            ],
            "image/svg+xml": "<svg content=\"&lt;mxfile host=&quot;app.diagrams.net&quot; modified=&quot;2020-06-12T03:29:09.871Z&quot; agent=&quot;5.0 (Macintosh; Intel Mac OS X 10_10_5) AppleWebKit/537.36 (KHTML, like Gecko) Chrome/83.0.4103.97 Safari/537.36&quot; etag=&quot;aBEyafdamUeQyH44B1Rc&quot; version=&quot;13.2.3&quot; type=&quot;google&quot;&gt;&lt;diagram id=&quot;uP_LLFMEPptDomEBrm82&quot; name=&quot;Page-1&quot;&gt;5VjBctowEP0aH8nINhA4BgJpZ9I2nRw67U3Ysq2JbLmyAKdf3zWWwJKBQEhomlzAfl7tSvveSms7/jgtbwTOky88JMzxUFg6/rXjeQPvEn4r4LEGXISGNRILGipsA9zTP0QbKnROQ1IYhpJzJmluggHPMhJIA8NC8KVpFnFmRs1xTFrAfYBZG/1BQ5lY66rwT4TGiY7s9tX6UqyN1UqKBId82YD8ieOPBeeyvkrLMWFV8nRe6nHTHU/XExMkk4cM+D7+Ov2JkiDld78+R8uJm3RvO8rLArO5WrCarHzUGSBZeFUlEu4ChouCBo4/SmTKAHDhspBYSG3BwZPGppRpm/ZcVWASGulXM78hPCVSPILBcpP0nkpk0si3xgRhWNKFSRpW3Mdrd+sId5zCTDykdapGKJV6veFFz/RR8LkIiBrWzLLlyesi01UfmY4gMzGRLUdw0Vj3BlqReASh3hZC+wyyNYr4ap4RDuoH/d/zSnojCCpiijeAQb8Gq9GdYlWeV2DgDvKyOaIfV//fdCyYeh2uxtuaAtpv8YwwU0qY0TirdAYyIQKABRGSQjFeqQcpDcPKx0gQmAuerfwhuM+rfK4y3Bs5veutkttbABCIlNt2FBXEKFpDoWpUx5SQvj1RmJZXd2g64FFUkFfRkf8yOtL7ucbctmi0X/p83d02dEdtvx9Qi+hi0DV3oRcRo4/Opb7uU+o7WigH6bUlyBpIT5IXY9CrVDpZJlSS+7yexxLaJUtwRV43MBEtSbjv0GwJZKcQ7HNNM9g4Vb0tp6qHdkvDoPpYXntHtRszxoMHu9kQ/GHdicHKR2D/HzUaLrIY6VqpPrTPcH2039Er9xn9N1WhC40U85nGykaFNuD3cVToQjq9bUEXliJfpm8ZWN3Q4FxHx+VRW0zGM2KS+dZ3EM/aQXz7BePgNxV7K0Ln3UEGH4yoVn4PJso6xd0zv1IOPxhRz68oiyjf7qNemSj9zez9MvVUgv99ScHt5pNebb75MOpP/gI=&lt;/diagram&gt;&lt;/mxfile&gt;\" onclick=\"(function(svg){var src=window.event.target||window.event.srcElement;while (src!=null&amp;&amp;src.nodeName.toLowerCase()!='a'){src=src.parentNode;}if(src==null){if(svg.wnd!=null&amp;&amp;!svg.wnd.closed){svg.wnd.focus();}else{var r=function(evt){if(evt.data=='ready'&amp;&amp;evt.source==svg.wnd){svg.wnd.postMessage(decodeURIComponent(svg.getAttribute('content')),'*');window.removeEventListener('message',r);}};window.addEventListener('message',r);svg.wnd=window.open('https://app.diagrams.net/?client=1&amp;lightbox=1&amp;edit=_blank');}}})(this);\" style=\"cursor:pointer;max-width:100%;max-height:202px;\" version=\"1.1\" viewBox=\"-0.5 -0.5 210 202\" width=\"210px\" xmlns=\"http://www.w3.org/2000/svg\" xmlns:xlink=\"http://www.w3.org/1999/xlink\"><defs/><g><path d=\"M 11 99.51 L 160.63 99.98\" fill=\"none\" pointer-events=\"stroke\" stroke=\"#000000\" stroke-miterlimit=\"10\"/><ellipse cx=\"8\" cy=\"99.5\" fill=\"#000000\" pointer-events=\"all\" rx=\"3\" ry=\"3\" stroke=\"#000000\"/><path d=\"M 165.88 100 L 158.87 103.47 L 160.63 99.98 L 158.89 96.47 Z\" fill=\"#000000\" pointer-events=\"all\" stroke=\"#000000\" stroke-miterlimit=\"10\"/><g transform=\"translate(-0.5 -0.5)\"><switch><foreignObject height=\"100%\" pointer-events=\"none\" requiredFeatures=\"http://www.w3.org/TR/SVG11/feature#Extensibility\" style=\"overflow: visible; text-align: left;\" width=\"100%\"><div style=\"display: flex; align-items: unsafe center; justify-content: unsafe center; width: 1px; height: 1px; padding-top: 120px; margin-left: 7px;\" xmlns=\"http://www.w3.org/1999/xhtml\"><div style=\"box-sizing: border-box; font-size: 0; text-align: center; \"><div style=\"display: inline-block; font-size: 11px; font-family: Helvetica; color: #000000; line-height: 1.2; pointer-events: all; background-color: #ffffff; white-space: nowrap; \"><font face=\"Georgia\" style=\"font-size: 18px\">O</font></div></div></div></foreignObject><text fill=\"#000000\" font-family=\"Helvetica\" font-size=\"11px\" text-anchor=\"middle\" x=\"7\" y=\"123\">O</text></switch></g><g transform=\"translate(-0.5 -0.5)\"><switch><foreignObject height=\"100%\" pointer-events=\"none\" requiredFeatures=\"http://www.w3.org/TR/SVG11/feature#Extensibility\" style=\"overflow: visible; text-align: left;\" width=\"100%\"><div style=\"display: flex; align-items: unsafe center; justify-content: unsafe center; width: 1px; height: 1px; padding-top: 98px; margin-left: 185px;\" xmlns=\"http://www.w3.org/1999/xhtml\"><div style=\"box-sizing: border-box; font-size: 0; text-align: center; \"><div style=\"display: inline-block; font-size: 11px; font-family: Helvetica; color: #000000; line-height: 1.2; pointer-events: all; background-color: #ffffff; white-space: nowrap; \"><font face=\"Georgia\" size=\"1\"><i style=\"font-size: 18px\">L</i></font></div></div></div></foreignObject><text fill=\"#000000\" font-family=\"Helvetica\" font-size=\"11px\" text-anchor=\"middle\" x=\"185\" y=\"102\">L</text></switch></g><ellipse cx=\"18\" cy=\"80\" fill=\"#ffffff\" pointer-events=\"all\" rx=\"10\" ry=\"10\" stroke=\"#000000\"/><g transform=\"translate(-0.5 -0.5)\"><switch><foreignObject height=\"100%\" pointer-events=\"none\" requiredFeatures=\"http://www.w3.org/TR/SVG11/feature#Extensibility\" style=\"overflow: visible; text-align: left;\" width=\"100%\"><div style=\"display: flex; align-items: unsafe center; justify-content: unsafe center; width: 18px; height: 1px; padding-top: 80px; margin-left: 9px;\" xmlns=\"http://www.w3.org/1999/xhtml\"><div style=\"box-sizing: border-box; font-size: 0; text-align: center; \"><div style=\"display: inline-block; font-size: 12px; font-family: Helvetica; color: #000000; line-height: 1.2; pointer-events: all; white-space: normal; word-wrap: normal; \"><font face=\"Georgia\" style=\"font-size: 18px\"><i>m</i></font></div></div></div></foreignObject><text fill=\"#000000\" font-family=\"Helvetica\" font-size=\"12px\" text-anchor=\"middle\" x=\"18\" y=\"84\">m</text></switch></g><path d=\"M 28 80 L 46.76 80\" fill=\"none\" pointer-events=\"stroke\" stroke=\"#000000\" stroke-miterlimit=\"10\" stroke-width=\"2\"/><path d=\"M 54.76 80 L 46.76 84 L 46.76 76 Z\" fill=\"#000000\" pointer-events=\"all\" stroke=\"#000000\" stroke-miterlimit=\"10\" stroke-width=\"2\"/><g transform=\"translate(-0.5 -0.5)\"><switch><foreignObject height=\"100%\" pointer-events=\"none\" requiredFeatures=\"http://www.w3.org/TR/SVG11/feature#Extensibility\" style=\"overflow: visible; text-align: left;\" width=\"100%\"><div style=\"display: flex; align-items: unsafe center; justify-content: unsafe center; width: 1px; height: 1px; padding-top: 61px; margin-left: 34px;\" xmlns=\"http://www.w3.org/1999/xhtml\"><div style=\"box-sizing: border-box; font-size: 0; text-align: center; \"><div style=\"display: inline-block; font-size: 11px; font-family: Helvetica; color: #000000; line-height: 1.2; pointer-events: all; background-color: #ffffff; white-space: nowrap; \"><font face=\"Georgia\" style=\"font-size: 18px\"><i>v<sub>x</sub></i></font></div></div></div></foreignObject><text fill=\"#000000\" font-family=\"Helvetica\" font-size=\"11px\" text-anchor=\"middle\" x=\"34\" y=\"64\">vx</text></switch></g><path d=\"M 128 200 L 128 40\" fill=\"none\" pointer-events=\"stroke\" stroke=\"#000000\" stroke-miterlimit=\"10\"/><path d=\"M 128 40 L 208 0\" fill=\"none\" pointer-events=\"stroke\" stroke=\"#000000\" stroke-miterlimit=\"10\"/><path d=\"M 128 200 L 208 160\" fill=\"none\" pointer-events=\"stroke\" stroke=\"#000000\" stroke-miterlimit=\"10\"/><path d=\"M 208 160 L 208 0\" fill=\"none\" pointer-events=\"stroke\" stroke=\"#000000\" stroke-miterlimit=\"10\"/></g><switch><g requiredFeatures=\"http://www.w3.org/TR/SVG11/feature#Extensibility\"/><a target=\"_blank\" transform=\"translate(0,-5)\" xlink:href=\"https://desk.draw.io/support/solutions/articles/16000042487\"><text font-size=\"10px\" text-anchor=\"middle\" x=\"50%\" y=\"100%\">Viewer does not support full SVG 1.1</text></a></switch></svg>"
          },
          "metadata": {
            "tags": []
          }
        }
      ]
    },
    {
      "cell_type": "markdown",
      "metadata": {
        "id": "aJDjAzOg7Fhj"
      },
      "source": [
        "##### 壁が受ける衝撃 ~ 作用反作用 ~ 力積\n",
        "\n",
        "壁に分子が衝突したとき\n",
        "- 壁から分子は力を受けます: 作用\n",
        "- 壁の方は分子から力を受けます: 反作用\n",
        "- 壁と分子には接触時間 $\b\\Delta t$ が必要です\n",
        "\n",
        "以上3点から衝撃を求める準備として, 力と接触時間で表現される **力積** の取り扱いが必要になってきます.\n",
        "\n"
      ]
    },
    {
      "cell_type": "markdown",
      "metadata": {
        "id": "6tabbhdN-xrs"
      },
      "source": [
        "##### 運動量変化と力積の関係\n",
        "\n",
        "1. 加速度の定義:\n",
        "$\\qquad \\bar{a}\n",
        "=\\dfrac{\\Delta v}{\\Delta t}\n",
        "=\\dfrac{v - v_0}{\\Delta t}$\n",
        "1. 運動方程式: $\\qquad m a = F$\n",
        "\n",
        "分子一個の短い衝突を考えていれば $\\bar{a} = a$, かつ短い時間で変化する力を平均化して $F=\\bar{F}$ として代入整理すると\n",
        "\n",
        "\\begin{align*}\n",
        "m a &= \\bar{F}&\\\\\n",
        "m \\left( \\dfrac{v - v_0}{\\Delta t}\\right) &= \\bar{F}&\n",
        "\\end{align*}\n",
        "\n",
        ">> $\\qquad m v - mv_0 = \\bar{F}\\Delta t$\n",
        "\n",
        "\n",
        "この関係を利用して壁が受ける衝撃を計算していきます.\n",
        "\n",
        "> 力積 $\\bar{F}\\Delta t$ を $I$ で表します. (英語: **i**mpulse)\n"
      ]
    },
    {
      "cell_type": "markdown",
      "metadata": {
        "id": "tW_ESDDoA3yO"
      },
      "source": [
        "##### 一回の衝突で, 分子が受ける力積 $I_0$, 壁が受ける力積$I$\n",
        "\n",
        "質量 $m$ の分子が$x$軸上を, 原点から$x$が正の方向へ速度 $+v_x$ で $L$ 進み, そこで壁にぶつかり, 速度が$-v_x$ となりました.\n",
        "\n",
        "このとき分子が受けた力積 $I_0$ は\n",
        "\\begin{align*}\n",
        "I_0 &= m\\left( -v_x \\right) - m\\left( +v_x \\right)\n",
        "= - 2 m v_x\n",
        "\\end{align*}\n",
        "となります. これを利用すると壁が受ける力積 $I$ は, 作用反作用の法則を利用し,\n",
        "\\begin{align*}\n",
        "I &= - I_0 = + 2 m v_x&\n",
        "\\end{align*}\n",
        "\n"
      ]
    },
    {
      "cell_type": "code",
      "metadata": {
        "id": "umv7jc1n6UHV",
        "cellView": "form",
        "colab": {
          "base_uri": "https://localhost:8080/",
          "height": 205
        },
        "outputId": "6b6b0e51-b6c5-417d-e594-5e50c16ce7d5"
      },
      "source": [
        "#@title 一回の衝突で分子が受ける力積: $I_0$ , 壁に与える力積: $I$\n",
        "%%svg\n",
        "<svg xmlns=\"http://www.w3.org/2000/svg\" xmlns:xlink=\"http://www.w3.org/1999/xlink\" version=\"1.1\" width=\"370px\" viewBox=\"-0.5 -0.5 370 184\" content=\"&lt;mxfile host=&quot;app.diagrams.net&quot; modified=&quot;2020-06-12T03:32:45.882Z&quot; agent=&quot;5.0 (Macintosh; Intel Mac OS X 10_10_5) AppleWebKit/537.36 (KHTML, like Gecko) Chrome/83.0.4103.97 Safari/537.36&quot; etag=&quot;samMI7hPfTVLhxJ84oim&quot; version=&quot;13.2.3&quot; type=&quot;google&quot;&gt;&lt;diagram id=&quot;DfjQp_101D8rqvViM4WK&quot; name=&quot;Page-1&quot;&gt;7Vpdc5s4FP01ntl9sAfEpx9jN+l2tunsTh76LIMMmgqLBRyT/voVSAIkHGzHH7GbJpkYH8SRkM49V1x7ZM2T8nMG0/iRhoiMgBGWI+vTCADbs9j/CnjhgON5HIgyHHLIbIEn/BMJ0BDoGocoVxoWlJICpyoY0NUKBYWCwSyjG7XZkhK11xRGqAc8BZD00e84LGKO+sBr8b8QjmLZs+lO+ZkEysbiTvIYhnTTgaz7kTXPKC34UVLOEanmTs4Lv+7hlbPNwDK0Kva54P4OlACAR+PL5qF8TL49/f393zHgLM+QrMUNi8EWL3IG0Cq8qyaSvQsIzHMcjKxZXCSEASY7zAuYFf0WNfyAiWzGeVHYm+52/GYzK0xNiCaoyF5Yk007746Yy7gz5RLLEIEFflbpoVj+qKFreviHYtYxMIRSLVfcuhCqZRsqRU7XWYDEVd151ogc2XdLNHFUKjY1ESp6VOygc+MtVC/kAYtqbVlUl7Dpmi1pPdIlDPgJ9791Jb8Z6zSLMGyBSgIyFiVmdk+7kXitebEiGdmq6m3Mae5YA9NPyz7FV8nBbhXrvAzjQ5awrk0mp69wwSxHkSQkOFpVamTSQhkDnlFWYBbUd+JEgsOw4phliI0PLmo+g71PqzWpV8mZjZxPTZ8VASq3OY64uI3zrqJfj7m+zAW7MfFtRT/gJPIeu/7EUIVpWhPHNjo/rkpKl8scnUWg9kGus6IrpK7vtXuJA5qQP95NdCrT16jO7CbOLjc5OPD38p+ewXAgOcouCGH7hkpMmxgX6Cnl49iwnYtmIHnKNxNLXKJwyAX20JxcScNQ49oSqu9oEmzRJDBel5+y1ocurHtQFC4IDX7omT+jP5ptEbv1GWt/Qylfz9TABm8MUscYJjpziHpXFaLPEsnXC4mVnRDtwB8u97uDFjE2JpoiT5P7fYV0bPqXSvT+VQnzlnOHpgv5lPleuWP64XOHviKerz/l7Zs9bE/LHt70otlDllquJErHv/PHjri7eP5wFVJzqiv9fAnENHcbTR7DtDpcElQKx5ntLlp17ccUip5TQrOa1JrXP7dgRPom1tUo9rUhFxjDROe2IXC0DQF7W4VJYwmaRW4bWrwAcioL+3KQL12NXQ2HwCltzBze7lQ+ZpqqrmVV88hwcdViiixFXcDJtlVlL+pkvGXnzKz+vQmP22FNe2+13tvjtlU+32+rNehTnW2WsXP39YGsyxq0LmPiqU/bp7GtsZblL+hb2+q/rz/q9Yv1Iczj6jn4Jh7rLFc1iDfX7XWiS1ftzW3V3aEP68S2qLKYLFr8wUbL/ljfRufoz+qQm05lSkuYYPLCr2FEMEn5Zsqy2WvUuJCKqxRv/HTwlzYYZ9feCHjaJuZEj3lTs/dR0/Euw96233Hgzdsvilj3/wM=&lt;/diagram&gt;&lt;/mxfile&gt;\" onclick=\"(function(svg){var src=window.event.target||window.event.srcElement;while (src!=null&amp;&amp;src.nodeName.toLowerCase()!='a'){src=src.parentNode;}if(src==null){if(svg.wnd!=null&amp;&amp;!svg.wnd.closed){svg.wnd.focus();}else{var r=function(evt){if(evt.data=='ready'&amp;&amp;evt.source==svg.wnd){svg.wnd.postMessage(decodeURIComponent(svg.getAttribute('content')),'*');window.removeEventListener('message',r);}};window.addEventListener('message',r);svg.wnd=window.open('https://app.diagrams.net/?client=1&amp;lightbox=1&amp;edit=_blank');}}})(this);\" style=\"cursor:pointer;max-width:100%;max-height:184px;\"><defs/><g><path d=\"M 102.37 160.02 L 248.63 160.48\" fill=\"none\" stroke=\"#000000\" stroke-miterlimit=\"10\" pointer-events=\"stroke\"/><path d=\"M 97.12 160 L 104.13 156.53 L 102.37 160.02 L 104.11 163.53 Z\" fill=\"#000000\" stroke=\"#000000\" stroke-miterlimit=\"10\" pointer-events=\"all\"/><path d=\"M 253.88 160.5 L 246.87 163.97 L 248.63 160.48 L 246.89 156.97 Z\" fill=\"#000000\" stroke=\"#000000\" stroke-miterlimit=\"10\" pointer-events=\"all\"/><g transform=\"translate(-0.5 -0.5)\"><switch><foreignObject style=\"overflow: visible; text-align: left;\" pointer-events=\"none\" width=\"100%\" height=\"100%\" requiredFeatures=\"http://www.w3.org/TR/SVG11/feature#Extensibility\"><div xmlns=\"http://www.w3.org/1999/xhtml\" style=\"display: flex; align-items: unsafe center; justify-content: unsafe center; width: 1px; height: 1px; padding-top: 172px; margin-left: 175px;\"><div style=\"box-sizing: border-box; font-size: 0; text-align: center; \"><div style=\"display: inline-block; font-size: 11px; font-family: Helvetica; color: #000000; line-height: 1.2; pointer-events: all; background-color: #ffffff; white-space: nowrap; \"><font face=\"Georgia\" size=\"1\"><i style=\"font-size: 18px\">L</i></font></div></div></div></foreignObject><text x=\"175\" y=\"176\" fill=\"#000000\" font-family=\"Helvetica\" font-size=\"11px\" text-anchor=\"middle\">L</text></switch></g><path d=\"M 254.5 160 L 254.5 0\" fill=\"none\" stroke=\"#000000\" stroke-miterlimit=\"10\" pointer-events=\"stroke\"/><ellipse cx=\"244\" cy=\"62\" rx=\"10\" ry=\"10\" fill=\"#ffffff\" stroke=\"#000000\" pointer-events=\"all\"/><g transform=\"translate(-0.5 -0.5)\"><switch><foreignObject style=\"overflow: visible; text-align: left;\" pointer-events=\"none\" width=\"100%\" height=\"100%\" requiredFeatures=\"http://www.w3.org/TR/SVG11/feature#Extensibility\"><div xmlns=\"http://www.w3.org/1999/xhtml\" style=\"display: flex; align-items: unsafe center; justify-content: unsafe center; width: 18px; height: 1px; padding-top: 62px; margin-left: 235px;\"><div style=\"box-sizing: border-box; font-size: 0; text-align: center; \"><div style=\"display: inline-block; font-size: 12px; font-family: Helvetica; color: #000000; line-height: 1.2; pointer-events: all; white-space: normal; word-wrap: normal; \"><font style=\"font-size: 18px\" face=\"Georgia\"><i>m</i></font></div></div></div></foreignObject><text x=\"244\" y=\"66\" fill=\"#000000\" font-family=\"Helvetica\" font-size=\"12px\" text-anchor=\"middle\">m</text></switch></g><path d=\"M 255 62 L 273.76 62\" fill=\"none\" stroke=\"#000000\" stroke-width=\"2\" stroke-miterlimit=\"10\" pointer-events=\"stroke\"/><path d=\"M 281.76 62 L 273.76 66 L 273.76 58 Z\" fill=\"#000000\" stroke=\"#000000\" stroke-width=\"2\" stroke-miterlimit=\"10\" pointer-events=\"all\"/><g transform=\"translate(-0.5 -0.5)\"><switch><foreignObject style=\"overflow: visible; text-align: left;\" pointer-events=\"none\" width=\"100%\" height=\"100%\" requiredFeatures=\"http://www.w3.org/TR/SVG11/feature#Extensibility\"><div xmlns=\"http://www.w3.org/1999/xhtml\" style=\"display: flex; align-items: unsafe center; justify-content: unsafe center; width: 1px; height: 1px; padding-top: 42px; margin-left: 260px;\"><div style=\"box-sizing: border-box; font-size: 0; text-align: center; \"><div style=\"display: inline-block; font-size: 11px; font-family: Helvetica; color: #000000; line-height: 1.2; pointer-events: all; background-color: #ffffff; white-space: nowrap; \"><font style=\"font-size: 18px\" face=\"Georgia\"><i>v<sub>x</sub></i></font></div></div></div></foreignObject><text x=\"260\" y=\"46\" fill=\"#000000\" font-family=\"Helvetica\" font-size=\"11px\" text-anchor=\"middle\">vx</text></switch></g><ellipse cx=\"245\" cy=\"99\" rx=\"10\" ry=\"10\" fill=\"#ffffff\" stroke=\"#000000\" pointer-events=\"all\"/><g transform=\"translate(-0.5 -0.5)\"><switch><foreignObject style=\"overflow: visible; text-align: left;\" pointer-events=\"none\" width=\"100%\" height=\"100%\" requiredFeatures=\"http://www.w3.org/TR/SVG11/feature#Extensibility\"><div xmlns=\"http://www.w3.org/1999/xhtml\" style=\"display: flex; align-items: unsafe center; justify-content: unsafe center; width: 18px; height: 1px; padding-top: 99px; margin-left: 236px;\"><div style=\"box-sizing: border-box; font-size: 0; text-align: center; \"><div style=\"display: inline-block; font-size: 12px; font-family: Helvetica; color: #000000; line-height: 1.2; pointer-events: all; white-space: normal; word-wrap: normal; \"><font style=\"font-size: 18px\" face=\"Georgia\"><i>m</i></font></div></div></div></foreignObject><text x=\"245\" y=\"103\" fill=\"#000000\" font-family=\"Helvetica\" font-size=\"12px\" text-anchor=\"middle\">m</text></switch></g><path d=\"M 235 98.5 L 214.23 98.83\" fill=\"none\" stroke=\"#000000\" stroke-width=\"2\" stroke-miterlimit=\"10\" pointer-events=\"stroke\"/><path d=\"M 206.24 98.96 L 214.17 94.84 L 214.3 102.83 Z\" fill=\"#000000\" stroke=\"#000000\" stroke-width=\"2\" stroke-miterlimit=\"10\" pointer-events=\"all\"/><g transform=\"translate(-0.5 -0.5)\"><switch><foreignObject style=\"overflow: visible; text-align: left;\" pointer-events=\"none\" width=\"100%\" height=\"100%\" requiredFeatures=\"http://www.w3.org/TR/SVG11/feature#Extensibility\"><div xmlns=\"http://www.w3.org/1999/xhtml\" style=\"display: flex; align-items: unsafe center; justify-content: unsafe center; width: 1px; height: 1px; padding-top: 121px; margin-left: 216px;\"><div style=\"box-sizing: border-box; font-size: 0; text-align: center; \"><div style=\"display: inline-block; font-size: 11px; font-family: Helvetica; color: #000000; line-height: 1.2; pointer-events: all; background-color: #ffffff; white-space: nowrap; \"><font style=\"font-size: 18px\" face=\"Georgia\"><i>-v<sub>x</sub></i></font></div></div></div></foreignObject><text x=\"216\" y=\"124\" fill=\"#000000\" font-family=\"Helvetica\" font-size=\"11px\" text-anchor=\"middle\">-vx</text></switch></g><path d=\"M 255.5 86 L 255.5 76 L 334.5 76 L 334.5 65.5 L 353.5 81 L 334.5 96.5 L 334.5 86 Z\" fill=\"none\" stroke=\"#000000\" stroke-linejoin=\"round\" stroke-miterlimit=\"10\" pointer-events=\"all\"/><g transform=\"translate(-0.5 -0.5)\"><switch><foreignObject style=\"overflow: visible; text-align: left;\" pointer-events=\"none\" width=\"100%\" height=\"100%\" requiredFeatures=\"http://www.w3.org/TR/SVG11/feature#Extensibility\"><div xmlns=\"http://www.w3.org/1999/xhtml\" style=\"display: flex; align-items: unsafe center; justify-content: unsafe center; width: 1px; height: 1px; padding-top: 80px; margin-left: 364px;\"><div style=\"box-sizing: border-box; font-size: 0; text-align: center; \"><div style=\"display: inline-block; font-size: 11px; font-family: Helvetica; color: #CCCCCC; line-height: 1.2; pointer-events: all; background-color: #ffffff; white-space: nowrap; \"><font style=\"font-size: 24px\"><font color=\"#000000\" face=\"Georgia\"><i>I</i></font></font></div></div></div></foreignObject><text x=\"364\" y=\"84\" fill=\"#CCCCCC\" font-family=\"Helvetica\" font-size=\"11px\" text-anchor=\"middle\">I</text></switch></g><path d=\"M 253.5 76 L 253.5 86 L 173.5 86 L 173.5 96.5 L 154.5 81 L 173.5 65.5 L 173.5 76 Z\" fill=\"none\" stroke=\"#b3b3b3\" stroke-linejoin=\"round\" stroke-miterlimit=\"10\" pointer-events=\"all\"/><g transform=\"translate(-0.5 -0.5)\"><switch><foreignObject style=\"overflow: visible; text-align: left;\" pointer-events=\"none\" width=\"100%\" height=\"100%\" requiredFeatures=\"http://www.w3.org/TR/SVG11/feature#Extensibility\"><div xmlns=\"http://www.w3.org/1999/xhtml\" style=\"display: flex; align-items: unsafe center; justify-content: unsafe center; width: 1px; height: 1px; padding-top: 80px; margin-left: 144px;\"><div style=\"box-sizing: border-box; font-size: 0; text-align: center; \"><div style=\"display: inline-block; font-size: 11px; font-family: Helvetica; color: #CCCCCC; line-height: 1.2; pointer-events: all; background-color: #ffffff; white-space: nowrap; \"><font style=\"font-size: 18px\" face=\"Georgia\"><i>I</i><sub>0</sub></font></div></div></div></foreignObject><text x=\"144\" y=\"84\" fill=\"#CCCCCC\" font-family=\"Helvetica\" font-size=\"11px\" text-anchor=\"middle\">I0</text></switch></g><path d=\"M 94 160 L 94 0\" fill=\"none\" stroke=\"#000000\" stroke-miterlimit=\"10\" stroke-dasharray=\"3 3\" pointer-events=\"stroke\"/><g transform=\"translate(-0.5 -0.5)\"><switch><foreignObject style=\"overflow: visible; text-align: left;\" pointer-events=\"none\" width=\"100%\" height=\"100%\" requiredFeatures=\"http://www.w3.org/TR/SVG11/feature#Extensibility\"><div xmlns=\"http://www.w3.org/1999/xhtml\" style=\"display: flex; align-items: unsafe center; justify-content: unsafe center; width: 1px; height: 1px; padding-top: 120px; margin-left: 5px;\"><div style=\"box-sizing: border-box; font-size: 0; text-align: center; \"><div style=\"display: inline-block; font-size: 11px; font-family: Helvetica; color: #CCCCCC; line-height: 1.2; pointer-events: all; background-color: #ffffff; white-space: nowrap; \"><i style=\"color: rgb(0 , 0 , 0) ; font-family: &quot;georgia&quot; ; font-size: 18px\">L</i></div></div></div></foreignObject><text x=\"5\" y=\"123\" fill=\"#CCCCCC\" font-family=\"Helvetica\" font-size=\"11px\" text-anchor=\"middle\">L</text></switch></g></g><switch><g requiredFeatures=\"http://www.w3.org/TR/SVG11/feature#Extensibility\"/><a transform=\"translate(0,-5)\" xlink:href=\"https://desk.draw.io/support/solutions/articles/16000042487\" target=\"_blank\"><text text-anchor=\"middle\" font-size=\"10px\" x=\"50%\" y=\"100%\">Viewer does not support full SVG 1.1</text></a></switch></svg>"
      ],
      "execution_count": 2,
      "outputs": [
        {
          "output_type": "display_data",
          "data": {
            "text/plain": [
              "<IPython.core.display.SVG object>"
            ],
            "image/svg+xml": "<svg xmlns=\"http://www.w3.org/2000/svg\" xmlns:xlink=\"http://www.w3.org/1999/xlink\" version=\"1.1\" width=\"370px\" viewBox=\"-0.5 -0.5 370 184\" content=\"&lt;mxfile host=&quot;app.diagrams.net&quot; modified=&quot;2020-06-12T03:32:45.882Z&quot; agent=&quot;5.0 (Macintosh; Intel Mac OS X 10_10_5) AppleWebKit/537.36 (KHTML, like Gecko) Chrome/83.0.4103.97 Safari/537.36&quot; etag=&quot;samMI7hPfTVLhxJ84oim&quot; version=&quot;13.2.3&quot; type=&quot;google&quot;&gt;&lt;diagram id=&quot;DfjQp_101D8rqvViM4WK&quot; name=&quot;Page-1&quot;&gt;7Vpdc5s4FP01ntl9sAfEpx9jN+l2tunsTh76LIMMmgqLBRyT/voVSAIkHGzHH7GbJpkYH8SRkM49V1x7ZM2T8nMG0/iRhoiMgBGWI+vTCADbs9j/CnjhgON5HIgyHHLIbIEn/BMJ0BDoGocoVxoWlJICpyoY0NUKBYWCwSyjG7XZkhK11xRGqAc8BZD00e84LGKO+sBr8b8QjmLZs+lO+ZkEysbiTvIYhnTTgaz7kTXPKC34UVLOEanmTs4Lv+7hlbPNwDK0Kva54P4OlACAR+PL5qF8TL49/f393zHgLM+QrMUNi8EWL3IG0Cq8qyaSvQsIzHMcjKxZXCSEASY7zAuYFf0WNfyAiWzGeVHYm+52/GYzK0xNiCaoyF5Yk007746Yy7gz5RLLEIEFflbpoVj+qKFreviHYtYxMIRSLVfcuhCqZRsqRU7XWYDEVd151ogc2XdLNHFUKjY1ESp6VOygc+MtVC/kAYtqbVlUl7Dpmi1pPdIlDPgJ9791Jb8Z6zSLMGyBSgIyFiVmdk+7kXitebEiGdmq6m3Mae5YA9NPyz7FV8nBbhXrvAzjQ5awrk0mp69wwSxHkSQkOFpVamTSQhkDnlFWYBbUd+JEgsOw4phliI0PLmo+g71PqzWpV8mZjZxPTZ8VASq3OY64uI3zrqJfj7m+zAW7MfFtRT/gJPIeu/7EUIVpWhPHNjo/rkpKl8scnUWg9kGus6IrpK7vtXuJA5qQP95NdCrT16jO7CbOLjc5OPD38p+ewXAgOcouCGH7hkpMmxgX6Cnl49iwnYtmIHnKNxNLXKJwyAX20JxcScNQ49oSqu9oEmzRJDBel5+y1ocurHtQFC4IDX7omT+jP5ptEbv1GWt/Qylfz9TABm8MUscYJjpziHpXFaLPEsnXC4mVnRDtwB8u97uDFjE2JpoiT5P7fYV0bPqXSvT+VQnzlnOHpgv5lPleuWP64XOHviKerz/l7Zs9bE/LHt70otlDllquJErHv/PHjri7eP5wFVJzqiv9fAnENHcbTR7DtDpcElQKx5ntLlp17ccUip5TQrOa1JrXP7dgRPom1tUo9rUhFxjDROe2IXC0DQF7W4VJYwmaRW4bWrwAcioL+3KQL12NXQ2HwCltzBze7lQ+ZpqqrmVV88hwcdViiixFXcDJtlVlL+pkvGXnzKz+vQmP22FNe2+13tvjtlU+32+rNehTnW2WsXP39YGsyxq0LmPiqU/bp7GtsZblL+hb2+q/rz/q9Yv1Iczj6jn4Jh7rLFc1iDfX7XWiS1ftzW3V3aEP68S2qLKYLFr8wUbL/ljfRufoz+qQm05lSkuYYPLCr2FEMEn5Zsqy2WvUuJCKqxRv/HTwlzYYZ9feCHjaJuZEj3lTs/dR0/Euw96233Hgzdsvilj3/wM=&lt;/diagram&gt;&lt;/mxfile&gt;\" onclick=\"(function(svg){var src=window.event.target||window.event.srcElement;while (src!=null&amp;&amp;src.nodeName.toLowerCase()!='a'){src=src.parentNode;}if(src==null){if(svg.wnd!=null&amp;&amp;!svg.wnd.closed){svg.wnd.focus();}else{var r=function(evt){if(evt.data=='ready'&amp;&amp;evt.source==svg.wnd){svg.wnd.postMessage(decodeURIComponent(svg.getAttribute('content')),'*');window.removeEventListener('message',r);}};window.addEventListener('message',r);svg.wnd=window.open('https://app.diagrams.net/?client=1&amp;lightbox=1&amp;edit=_blank');}}})(this);\" style=\"cursor:pointer;max-width:100%;max-height:184px;\"><defs/><g><path d=\"M 102.37 160.02 L 248.63 160.48\" fill=\"none\" stroke=\"#000000\" stroke-miterlimit=\"10\" pointer-events=\"stroke\"/><path d=\"M 97.12 160 L 104.13 156.53 L 102.37 160.02 L 104.11 163.53 Z\" fill=\"#000000\" stroke=\"#000000\" stroke-miterlimit=\"10\" pointer-events=\"all\"/><path d=\"M 253.88 160.5 L 246.87 163.97 L 248.63 160.48 L 246.89 156.97 Z\" fill=\"#000000\" stroke=\"#000000\" stroke-miterlimit=\"10\" pointer-events=\"all\"/><g transform=\"translate(-0.5 -0.5)\"><switch><foreignObject style=\"overflow: visible; text-align: left;\" pointer-events=\"none\" width=\"100%\" height=\"100%\" requiredFeatures=\"http://www.w3.org/TR/SVG11/feature#Extensibility\"><div xmlns=\"http://www.w3.org/1999/xhtml\" style=\"display: flex; align-items: unsafe center; justify-content: unsafe center; width: 1px; height: 1px; padding-top: 172px; margin-left: 175px;\"><div style=\"box-sizing: border-box; font-size: 0; text-align: center; \"><div style=\"display: inline-block; font-size: 11px; font-family: Helvetica; color: #000000; line-height: 1.2; pointer-events: all; background-color: #ffffff; white-space: nowrap; \"><font face=\"Georgia\" size=\"1\"><i style=\"font-size: 18px\">L</i></font></div></div></div></foreignObject><text x=\"175\" y=\"176\" fill=\"#000000\" font-family=\"Helvetica\" font-size=\"11px\" text-anchor=\"middle\">L</text></switch></g><path d=\"M 254.5 160 L 254.5 0\" fill=\"none\" stroke=\"#000000\" stroke-miterlimit=\"10\" pointer-events=\"stroke\"/><ellipse cx=\"244\" cy=\"62\" rx=\"10\" ry=\"10\" fill=\"#ffffff\" stroke=\"#000000\" pointer-events=\"all\"/><g transform=\"translate(-0.5 -0.5)\"><switch><foreignObject style=\"overflow: visible; text-align: left;\" pointer-events=\"none\" width=\"100%\" height=\"100%\" requiredFeatures=\"http://www.w3.org/TR/SVG11/feature#Extensibility\"><div xmlns=\"http://www.w3.org/1999/xhtml\" style=\"display: flex; align-items: unsafe center; justify-content: unsafe center; width: 18px; height: 1px; padding-top: 62px; margin-left: 235px;\"><div style=\"box-sizing: border-box; font-size: 0; text-align: center; \"><div style=\"display: inline-block; font-size: 12px; font-family: Helvetica; color: #000000; line-height: 1.2; pointer-events: all; white-space: normal; word-wrap: normal; \"><font style=\"font-size: 18px\" face=\"Georgia\"><i>m</i></font></div></div></div></foreignObject><text x=\"244\" y=\"66\" fill=\"#000000\" font-family=\"Helvetica\" font-size=\"12px\" text-anchor=\"middle\">m</text></switch></g><path d=\"M 255 62 L 273.76 62\" fill=\"none\" stroke=\"#000000\" stroke-width=\"2\" stroke-miterlimit=\"10\" pointer-events=\"stroke\"/><path d=\"M 281.76 62 L 273.76 66 L 273.76 58 Z\" fill=\"#000000\" stroke=\"#000000\" stroke-width=\"2\" stroke-miterlimit=\"10\" pointer-events=\"all\"/><g transform=\"translate(-0.5 -0.5)\"><switch><foreignObject style=\"overflow: visible; text-align: left;\" pointer-events=\"none\" width=\"100%\" height=\"100%\" requiredFeatures=\"http://www.w3.org/TR/SVG11/feature#Extensibility\"><div xmlns=\"http://www.w3.org/1999/xhtml\" style=\"display: flex; align-items: unsafe center; justify-content: unsafe center; width: 1px; height: 1px; padding-top: 42px; margin-left: 260px;\"><div style=\"box-sizing: border-box; font-size: 0; text-align: center; \"><div style=\"display: inline-block; font-size: 11px; font-family: Helvetica; color: #000000; line-height: 1.2; pointer-events: all; background-color: #ffffff; white-space: nowrap; \"><font style=\"font-size: 18px\" face=\"Georgia\"><i>v<sub>x</sub></i></font></div></div></div></foreignObject><text x=\"260\" y=\"46\" fill=\"#000000\" font-family=\"Helvetica\" font-size=\"11px\" text-anchor=\"middle\">vx</text></switch></g><ellipse cx=\"245\" cy=\"99\" rx=\"10\" ry=\"10\" fill=\"#ffffff\" stroke=\"#000000\" pointer-events=\"all\"/><g transform=\"translate(-0.5 -0.5)\"><switch><foreignObject style=\"overflow: visible; text-align: left;\" pointer-events=\"none\" width=\"100%\" height=\"100%\" requiredFeatures=\"http://www.w3.org/TR/SVG11/feature#Extensibility\"><div xmlns=\"http://www.w3.org/1999/xhtml\" style=\"display: flex; align-items: unsafe center; justify-content: unsafe center; width: 18px; height: 1px; padding-top: 99px; margin-left: 236px;\"><div style=\"box-sizing: border-box; font-size: 0; text-align: center; \"><div style=\"display: inline-block; font-size: 12px; font-family: Helvetica; color: #000000; line-height: 1.2; pointer-events: all; white-space: normal; word-wrap: normal; \"><font style=\"font-size: 18px\" face=\"Georgia\"><i>m</i></font></div></div></div></foreignObject><text x=\"245\" y=\"103\" fill=\"#000000\" font-family=\"Helvetica\" font-size=\"12px\" text-anchor=\"middle\">m</text></switch></g><path d=\"M 235 98.5 L 214.23 98.83\" fill=\"none\" stroke=\"#000000\" stroke-width=\"2\" stroke-miterlimit=\"10\" pointer-events=\"stroke\"/><path d=\"M 206.24 98.96 L 214.17 94.84 L 214.3 102.83 Z\" fill=\"#000000\" stroke=\"#000000\" stroke-width=\"2\" stroke-miterlimit=\"10\" pointer-events=\"all\"/><g transform=\"translate(-0.5 -0.5)\"><switch><foreignObject style=\"overflow: visible; text-align: left;\" pointer-events=\"none\" width=\"100%\" height=\"100%\" requiredFeatures=\"http://www.w3.org/TR/SVG11/feature#Extensibility\"><div xmlns=\"http://www.w3.org/1999/xhtml\" style=\"display: flex; align-items: unsafe center; justify-content: unsafe center; width: 1px; height: 1px; padding-top: 121px; margin-left: 216px;\"><div style=\"box-sizing: border-box; font-size: 0; text-align: center; \"><div style=\"display: inline-block; font-size: 11px; font-family: Helvetica; color: #000000; line-height: 1.2; pointer-events: all; background-color: #ffffff; white-space: nowrap; \"><font style=\"font-size: 18px\" face=\"Georgia\"><i>-v<sub>x</sub></i></font></div></div></div></foreignObject><text x=\"216\" y=\"124\" fill=\"#000000\" font-family=\"Helvetica\" font-size=\"11px\" text-anchor=\"middle\">-vx</text></switch></g><path d=\"M 255.5 86 L 255.5 76 L 334.5 76 L 334.5 65.5 L 353.5 81 L 334.5 96.5 L 334.5 86 Z\" fill=\"none\" stroke=\"#000000\" stroke-linejoin=\"round\" stroke-miterlimit=\"10\" pointer-events=\"all\"/><g transform=\"translate(-0.5 -0.5)\"><switch><foreignObject style=\"overflow: visible; text-align: left;\" pointer-events=\"none\" width=\"100%\" height=\"100%\" requiredFeatures=\"http://www.w3.org/TR/SVG11/feature#Extensibility\"><div xmlns=\"http://www.w3.org/1999/xhtml\" style=\"display: flex; align-items: unsafe center; justify-content: unsafe center; width: 1px; height: 1px; padding-top: 80px; margin-left: 364px;\"><div style=\"box-sizing: border-box; font-size: 0; text-align: center; \"><div style=\"display: inline-block; font-size: 11px; font-family: Helvetica; color: #CCCCCC; line-height: 1.2; pointer-events: all; background-color: #ffffff; white-space: nowrap; \"><font style=\"font-size: 24px\"><font color=\"#000000\" face=\"Georgia\"><i>I</i></font></font></div></div></div></foreignObject><text x=\"364\" y=\"84\" fill=\"#CCCCCC\" font-family=\"Helvetica\" font-size=\"11px\" text-anchor=\"middle\">I</text></switch></g><path d=\"M 253.5 76 L 253.5 86 L 173.5 86 L 173.5 96.5 L 154.5 81 L 173.5 65.5 L 173.5 76 Z\" fill=\"none\" stroke=\"#b3b3b3\" stroke-linejoin=\"round\" stroke-miterlimit=\"10\" pointer-events=\"all\"/><g transform=\"translate(-0.5 -0.5)\"><switch><foreignObject style=\"overflow: visible; text-align: left;\" pointer-events=\"none\" width=\"100%\" height=\"100%\" requiredFeatures=\"http://www.w3.org/TR/SVG11/feature#Extensibility\"><div xmlns=\"http://www.w3.org/1999/xhtml\" style=\"display: flex; align-items: unsafe center; justify-content: unsafe center; width: 1px; height: 1px; padding-top: 80px; margin-left: 144px;\"><div style=\"box-sizing: border-box; font-size: 0; text-align: center; \"><div style=\"display: inline-block; font-size: 11px; font-family: Helvetica; color: #CCCCCC; line-height: 1.2; pointer-events: all; background-color: #ffffff; white-space: nowrap; \"><font style=\"font-size: 18px\" face=\"Georgia\"><i>I</i><sub>0</sub></font></div></div></div></foreignObject><text x=\"144\" y=\"84\" fill=\"#CCCCCC\" font-family=\"Helvetica\" font-size=\"11px\" text-anchor=\"middle\">I0</text></switch></g><path d=\"M 94 160 L 94 0\" fill=\"none\" stroke=\"#000000\" stroke-miterlimit=\"10\" stroke-dasharray=\"3 3\" pointer-events=\"stroke\"/><g transform=\"translate(-0.5 -0.5)\"><switch><foreignObject style=\"overflow: visible; text-align: left;\" pointer-events=\"none\" width=\"100%\" height=\"100%\" requiredFeatures=\"http://www.w3.org/TR/SVG11/feature#Extensibility\"><div xmlns=\"http://www.w3.org/1999/xhtml\" style=\"display: flex; align-items: unsafe center; justify-content: unsafe center; width: 1px; height: 1px; padding-top: 120px; margin-left: 5px;\"><div style=\"box-sizing: border-box; font-size: 0; text-align: center; \"><div style=\"display: inline-block; font-size: 11px; font-family: Helvetica; color: #CCCCCC; line-height: 1.2; pointer-events: all; background-color: #ffffff; white-space: nowrap; \"><i style=\"color: rgb(0 , 0 , 0) ; font-family: &quot;georgia&quot; ; font-size: 18px\">L</i></div></div></div></foreignObject><text x=\"5\" y=\"123\" fill=\"#CCCCCC\" font-family=\"Helvetica\" font-size=\"11px\" text-anchor=\"middle\">L</text></switch></g></g><switch><g requiredFeatures=\"http://www.w3.org/TR/SVG11/feature#Extensibility\"/><a transform=\"translate(0,-5)\" xlink:href=\"https://desk.draw.io/support/solutions/articles/16000042487\" target=\"_blank\"><text text-anchor=\"middle\" font-size=\"10px\" x=\"50%\" y=\"100%\">Viewer does not support full SVG 1.1</text></a></switch></svg>"
          },
          "metadata": {}
        }
      ]
    },
    {
      "cell_type": "markdown",
      "metadata": {
        "id": "wHMvOlAnCdiy"
      },
      "source": [
        "##### 一次元の衝突の繰り返し\n",
        "\n",
        "速度 $v_x$ で $x=L$ の壁に衝突した一分子は,\n",
        "1. 再び $x=0$ で壁にぶつかり, $x=0$ から出発した状態に戻ります\n",
        "\n",
        "2. この分子は $2L$ 進むごとに, 必ず $x＝L$ にある壁に一度衝突します\n",
        "\n",
        "\n",
        "<!--\n",
        "この関係を整理すると\n",
        "> $\\qquad \\Delta t = \\dfrac{2L}{v_x}$\n",
        "\n",
        "の間に $x=L$の壁に 一回の衝突をしていることになります.\n",
        "\n",
        "速度 $v_x$ で分子が $2L$ 進む間に, 衝突の間に壁に働く力 $f$ は\n",
        "複雑に変化しますが,   \n",
        "その力を往復時間 $\\Delta t$ で平均化した力を $\\bar{f}$ として, 運動量変化と力積の関係に適応すると\n",
        "\\begin{align*}\n",
        " I &= \\bar{f} \\Delta t.&\n",
        "\\end{align*}\n",
        "\n",
        "($\\bar{f}$の $f-t$ グラフは 教科書 下 p19 図3.19 参照)\n",
        "\n",
        "これを利用すると, 一つの分子が一回の衝突で壁に与える平均の力$\\bar{f}$ は\n",
        "\\begin{align*}\n",
        "\\bar{f}\n",
        "&= \\dfrac{I}{\\Delta t}&\\\\\n",
        "&= \\dfrac{2mv_x}{2L/v_x}\n",
        "= \\dfrac{mv_x^2}{L}\n",
        "\\end{align*}\n",
        "今は一回の衝突だけを考慮しましたが,\n",
        "実際には多数の分子が衝突していますので, $v_x^2$ を平均化し\n",
        "$\\bar{f}$ は\n",
        "\\begin{align*}\n",
        "\\bar{f}\n",
        "= \\dfrac{m\\bar{v_x^2}}{L}\n",
        "\\end{align*}\n",
        "としておきます.\n",
        "-->"
      ]
    },
    {
      "cell_type": "markdown",
      "metadata": {
        "id": "PPuFDjVcr_uG"
      },
      "source": [
        "$\\require{cancel}$\n",
        "このことから\n",
        "- 一往復に要する時間 $: \\quad \\dfrac{2L}{v_x}$\n",
        "- $t$ 秒間にこの同じ分子が衝突する回数 $: \\quad \\dfrac{t}{\\frac{2L}{v_x}} = \\dfrac{v_x t}{2 L}$\n",
        "\n",
        "$t$ 秒間の間に一個の分子が壁に及ぼす力積は p165(14.20)\n",
        "\\begin{align*}\n",
        "I_{t:1} = 2mv_x \\times \\dfrac{v_x t}{2L} = \\dfrac{mv_x^2}{L} t.\n",
        "\\end{align*}\n",
        "いま分子の数は $n N_{\\rm A}$ あり, これが平均化された速度成分 $<v_x^2>$ で壁に衝突すると\n",
        "\\begin{align*}\n",
        "I_{t:n N_A} = \\dfrac{n N_{\\rm A} m<v_x^2>}{L} t.\n",
        "\\end{align*}\n",
        "\n",
        "一方向では $I_{t:n N_A}= F_x \\cdot t$ なので\n",
        "\\begin{align*}\n",
        "F_x = \\dfrac{n N_{\\rm A} m<v_x^2>}{L},\n",
        "\\end{align*}\n",
        "$x$ に直交する壁の面積は $L^2$ なので, この壁に加わる圧力 $P$ は\n",
        "\\begin{align*}\n",
        "p &= \\dfrac{F_x}{L^2} = \\dfrac{n N_{\\rm A} m<v_x^2>}{\\cancelto{V}{L^3}}\\\\\n",
        "&= \\dfrac{n N_{\\rm A} m<v_x^2>}{V}\n",
        "\\end{align*}\n"
      ]
    },
    {
      "cell_type": "code",
      "metadata": {
        "id": "oTnq2Rbd6az0",
        "cellView": "form",
        "colab": {
          "base_uri": "https://localhost:8080/",
          "height": 245
        },
        "outputId": "ccc497ab-ed98-4381-c229-f1d12f08c676"
      },
      "source": [
        "#@title 3次元への拡張\n",
        "%%svg\n",
        "<svg xmlns=\"http://www.w3.org/2000/svg\" xmlns:xlink=\"http://www.w3.org/1999/xlink\" version=\"1.1\" width=\"431px\" viewBox=\"-0.5 -0.5 431 224\" content=\"&lt;mxfile host=&quot;app.diagrams.net&quot; modified=&quot;2020-06-11T10:23:44.924Z&quot; agent=&quot;5.0 (Macintosh; Intel Mac OS X 10_15_5) AppleWebKit/537.36 (KHTML, like Gecko) Chrome/83.0.4103.97 Safari/537.36&quot; etag=&quot;m55aADyUA414-DRKpyCS&quot; version=&quot;13.2.1&quot; type=&quot;google&quot;&gt;&lt;diagram id=&quot;DSozb1oCj-Pgmqun-L3D&quot; name=&quot;Page-1&quot;&gt;7Vtbj9o6EP41SD0PoNyBx4XtRVUrVdqjnqpv3sQEq06cTcwC/fXHwXYS5wYEAqUsQtowsSfjmc+fZwZ2YM6DzccYRMuvxIN4YGjeZmA+DgxjbBiD9K15Wy6wrSkX+DHyuEjPBU/oNxRCTUhXyIOJMpASgimKVKFLwhC6VJGBOCZrddiCYPWpEfBhRfDkAlyV/oc8uuTSiTHO5Z8g8pfyyboj1hcAOVisJFkCj6wLIvP9wJzHhFB+FWzmEKe+k37h8z403M0Mi2FID5nw8jl6Wc9Xy58e/fx7Mpwvvv94GhoOV/MK8EqsWFhLt9IFfkxW0cCcLUhI5wSTeCc257sXkwsNMKZwUxcT8Cw1aVWb9cwTDEGQBJDGWzZEKLLEDAEeXWpY56HIxiwLYTA0IQQi/H6mOvcQuxBOOsJhurXfYeslovApAm76ec22BXPSkgbsOY86uwRJxJG6QBvopY5FGEvHhiSEbT4t+q4lolWPblWPFjyoOzUezITn9+DkUMidgqujfLMprbngnMll0TXd7xsYeg8pseVgKWCLj4ZehdT2eIYHpeqZgifsGk9IWQwxoOhVfWidd8QTvhHEzMlAWXFoQlaxC8WoIqeVJlqleRTEPqSVebtYZKvqHh4JtDsLT9nLe6OzUffOpaKj31d0Sl6WZ2SZuP/UaBn3Fa3OVHdgmHsOl3kq9SU0Jr+yHDqVeCBZpvnPLUZTBGV47s13rejWZbUOpiLrV8LsvKyIvDFMdgXbAxugT6JNfjMttXj+m8uYnbGPQHGQ44u/u0chKQikhC0GlUcxGbdJissoxJgVhyn6js3DOUTrSpyjS5/OuN1ImlDwUJOYGrWJaTOAT8pLjQOqnl7Iuiljf0t8Ck6y6op4Zfe6GXbzvWdqu5eyZy+6y7+ctMsZlL6AZ4hLexojP2TXLoMVZCuepXsTuQA/iBsB8rxUxyyGbFWihNTY5yiNzi5e9mxgP/bV72jZXo1koI10hQ2M85xdujGamorioTMyVTVksUhgP/mfffaE4sZIpoEsDiWZSxe/1riRZVAtdQjSSWkj9p/fMWvZmz1bK1z9k15yIkmJZgEChLd8DlMEgohTFctPzJmfMYsqV1U0c1Ur6/zV9GK30stQG2mTsa0ywYkcI9XIdukF+OSAtmIrn5ylHLkulYynIzWMneuRXNOl2KUufG/scgvs0l7JMHYxzkwuUvNUL8N9cjG2ObVRf8tsc+utLLORat6aHb00O/Z971bqduiy2XitdofZnOreM0JEw6CCkEzeG0JkQCRA9GsDpDlbuWeAXJFC9BKFXBkg1tsZ0wKDZuD0BxBNBcj42gA5rqP+jIn7q63/xZY+Y+M/IHyjLXcRJ1vtSOq60S3HHKt6Jsal69m69ub1COD1D++1N+77zmWp1d5TH/bTVDdGznhafJUSF2s0cWpu91+wWnUFa6fviDqh8Hi0cxVhG26TCITdVbMbAcG8U1R4Cld6tgV863MB/Zr+vUfTdzPa7D7VNcd815ikvzXlIrNoVi4+zVguTq1FlJGmO2hqKdqdw3y0BU0e63o4cS3/Nh4prdbvO4DYoUD7O3vAihK+sJ3qk2qX9p+zm1q5X1nza+y65Mo8Pg1lH/P/LeCnSP4PGub7/wE=&lt;/diagram&gt;&lt;/mxfile&gt;\" onclick=\"(function(svg){var src=window.event.target||window.event.srcElement;while (src!=null&amp;&amp;src.nodeName.toLowerCase()!='a'){src=src.parentNode;}if(src==null){if(svg.wnd!=null&amp;&amp;!svg.wnd.closed){svg.wnd.focus();}else{var r=function(evt){if(evt.data=='ready'&amp;&amp;evt.source==svg.wnd){svg.wnd.postMessage(decodeURIComponent(svg.getAttribute('content')),'*');window.removeEventListener('message',r);}};window.addEventListener('message',r);svg.wnd=window.open('https://app.diagrams.net/?client=1&amp;lightbox=1&amp;edit=_blank');}}})(this);\" style=\"cursor:pointer;max-width:100%;max-height:224px;\"><defs/><g><rect x=\"15\" y=\"62\" width=\"160\" height=\"160\" fill=\"none\" stroke=\"#000000\" pointer-events=\"all\"/><path d=\"M 175 222 L 175 62\" fill=\"none\" stroke=\"#000000\" stroke-miterlimit=\"10\" pointer-events=\"stroke\"/><path d=\"M 175 62 L 255 22\" fill=\"none\" stroke=\"#000000\" stroke-miterlimit=\"10\" pointer-events=\"stroke\"/><path d=\"M 255 182 L 255 22\" fill=\"none\" stroke=\"#000000\" stroke-miterlimit=\"10\" pointer-events=\"stroke\"/><path d=\"M 175 222 L 255 182\" fill=\"none\" stroke=\"#000000\" stroke-miterlimit=\"10\" pointer-events=\"stroke\"/><path d=\"M 95 182 L 255 182\" fill=\"none\" stroke=\"#000000\" stroke-miterlimit=\"10\" stroke-dasharray=\"3 3\" pointer-events=\"stroke\"/><ellipse cx=\"205\" cy=\"92\" rx=\"10\" ry=\"10\" fill=\"#ffffff\" stroke=\"#cccccc\" pointer-events=\"all\"/><g transform=\"translate(-0.5 -0.5)\"><switch><foreignObject style=\"overflow: visible; text-align: left;\" pointer-events=\"none\" width=\"100%\" height=\"100%\" requiredFeatures=\"http://www.w3.org/TR/SVG11/feature#Extensibility\"><div xmlns=\"http://www.w3.org/1999/xhtml\" style=\"display: flex; align-items: unsafe center; justify-content: unsafe center; width: 18px; height: 1px; padding-top: 92px; margin-left: 196px;\"><div style=\"box-sizing: border-box; font-size: 0; text-align: center; \"><div style=\"display: inline-block; font-size: 12px; font-family: Helvetica; color: #CCCCCC; line-height: 1.2; pointer-events: all; white-space: normal; word-wrap: normal; \"><font style=\"font-size: 18px\" face=\"Georgia\"><i>m</i></font></div></div></div></foreignObject><text x=\"205\" y=\"96\" fill=\"#CCCCCC\" font-family=\"Helvetica\" font-size=\"12px\" text-anchor=\"middle\">m</text></switch></g><path d=\"M 15 62 L 95 22\" fill=\"none\" stroke=\"#000000\" stroke-miterlimit=\"10\" pointer-events=\"stroke\"/><g transform=\"translate(-0.5 -0.5)\"><switch><foreignObject style=\"overflow: visible; text-align: left;\" pointer-events=\"none\" width=\"100%\" height=\"100%\" requiredFeatures=\"http://www.w3.org/TR/SVG11/feature#Extensibility\"><div xmlns=\"http://www.w3.org/1999/xhtml\" style=\"display: flex; align-items: unsafe center; justify-content: unsafe center; width: 1px; height: 1px; padding-top: 32px; margin-left: 46px;\"><div style=\"box-sizing: border-box; font-size: 0; text-align: center; \"><div style=\"display: inline-block; font-size: 11px; font-family: Helvetica; color: #CCCCCC; line-height: 1.2; pointer-events: all; background-color: #ffffff; white-space: nowrap; \"><font color=\"#000000\" style=\"font-size: 18px\" face=\"Georgia\"><i>L</i></font></div></div></div></foreignObject><text x=\"46\" y=\"36\" fill=\"#CCCCCC\" font-family=\"Helvetica\" font-size=\"11px\" text-anchor=\"middle\">L</text></switch></g><path d=\"M 95 22 L 255 22\" fill=\"none\" stroke=\"#000000\" stroke-miterlimit=\"10\" pointer-events=\"stroke\"/><g transform=\"translate(-0.5 -0.5)\"><switch><foreignObject style=\"overflow: visible; text-align: left;\" pointer-events=\"none\" width=\"100%\" height=\"100%\" requiredFeatures=\"http://www.w3.org/TR/SVG11/feature#Extensibility\"><div xmlns=\"http://www.w3.org/1999/xhtml\" style=\"display: flex; align-items: unsafe center; justify-content: unsafe center; width: 1px; height: 1px; padding-top: 11px; margin-left: 169px;\"><div style=\"box-sizing: border-box; font-size: 0; text-align: center; \"><div style=\"display: inline-block; font-size: 11px; font-family: Helvetica; color: #CCCCCC; line-height: 1.2; pointer-events: all; background-color: #ffffff; white-space: nowrap; \"><i style=\"color: rgb(0 , 0 , 0) ; font-family: &quot;georgia&quot; ; font-size: 18px\">L</i></div></div></div></foreignObject><text x=\"169\" y=\"14\" fill=\"#CCCCCC\" font-family=\"Helvetica\" font-size=\"11px\" text-anchor=\"middle\">L</text></switch></g><path d=\"M 94.5 182 L 94.5 22\" fill=\"none\" stroke=\"#000000\" stroke-miterlimit=\"10\" stroke-dasharray=\"3 3\" pointer-events=\"stroke\"/><g transform=\"translate(-0.5 -0.5)\"><switch><foreignObject style=\"overflow: visible; text-align: left;\" pointer-events=\"none\" width=\"100%\" height=\"100%\" requiredFeatures=\"http://www.w3.org/TR/SVG11/feature#Extensibility\"><div xmlns=\"http://www.w3.org/1999/xhtml\" style=\"display: flex; align-items: unsafe center; justify-content: unsafe center; width: 1px; height: 1px; padding-top: 143px; margin-left: 6px;\"><div style=\"box-sizing: border-box; font-size: 0; text-align: center; \"><div style=\"display: inline-block; font-size: 11px; font-family: Helvetica; color: #CCCCCC; line-height: 1.2; pointer-events: all; background-color: #ffffff; white-space: nowrap; \"><i style=\"color: rgb(0 , 0 , 0) ; font-family: &quot;georgia&quot; ; font-size: 18px\">L</i></div></div></div></foreignObject><text x=\"6\" y=\"146\" fill=\"#CCCCCC\" font-family=\"Helvetica\" font-size=\"11px\" text-anchor=\"middle\">L</text></switch></g><path d=\"M 15 222 L 95 182\" fill=\"none\" stroke=\"#000000\" stroke-miterlimit=\"10\" stroke-dasharray=\"3 3\" pointer-events=\"stroke\"/><ellipse cx=\"145\" cy=\"162\" rx=\"10\" ry=\"10\" fill=\"#ffffff\" stroke=\"#cccccc\" pointer-events=\"all\"/><g transform=\"translate(-0.5 -0.5)\"><switch><foreignObject style=\"overflow: visible; text-align: left;\" pointer-events=\"none\" width=\"100%\" height=\"100%\" requiredFeatures=\"http://www.w3.org/TR/SVG11/feature#Extensibility\"><div xmlns=\"http://www.w3.org/1999/xhtml\" style=\"display: flex; align-items: unsafe center; justify-content: unsafe center; width: 18px; height: 1px; padding-top: 162px; margin-left: 136px;\"><div style=\"box-sizing: border-box; font-size: 0; text-align: center; \"><div style=\"display: inline-block; font-size: 12px; font-family: Helvetica; color: #CCCCCC; line-height: 1.2; pointer-events: all; white-space: normal; word-wrap: normal; \"><font style=\"font-size: 18px\" face=\"Georgia\"><i>m</i></font></div></div></div></foreignObject><text x=\"145\" y=\"166\" fill=\"#CCCCCC\" font-family=\"Helvetica\" font-size=\"12px\" text-anchor=\"middle\">m</text></switch></g><ellipse cx=\"62\" cy=\"142\" rx=\"10\" ry=\"10\" fill=\"#ffffff\" stroke=\"#000000\" pointer-events=\"all\"/><g transform=\"translate(-0.5 -0.5)\"><switch><foreignObject style=\"overflow: visible; text-align: left;\" pointer-events=\"none\" width=\"100%\" height=\"100%\" requiredFeatures=\"http://www.w3.org/TR/SVG11/feature#Extensibility\"><div xmlns=\"http://www.w3.org/1999/xhtml\" style=\"display: flex; align-items: unsafe center; justify-content: unsafe center; width: 18px; height: 1px; padding-top: 142px; margin-left: 53px;\"><div style=\"box-sizing: border-box; font-size: 0; text-align: center; \"><div style=\"display: inline-block; font-size: 12px; font-family: Helvetica; color: #000000; line-height: 1.2; pointer-events: all; white-space: normal; word-wrap: normal; \"><font style=\"font-size: 18px\" face=\"Georgia\"><i>m</i></font></div></div></div></foreignObject><text x=\"62\" y=\"146\" fill=\"#000000\" font-family=\"Helvetica\" font-size=\"12px\" text-anchor=\"middle\">m</text></switch></g><ellipse cx=\"135\" cy=\"42\" rx=\"10\" ry=\"10\" fill=\"#ffffff\" stroke=\"#cccccc\" pointer-events=\"all\"/><g transform=\"translate(-0.5 -0.5)\"><switch><foreignObject style=\"overflow: visible; text-align: left;\" pointer-events=\"none\" width=\"100%\" height=\"100%\" requiredFeatures=\"http://www.w3.org/TR/SVG11/feature#Extensibility\"><div xmlns=\"http://www.w3.org/1999/xhtml\" style=\"display: flex; align-items: unsafe center; justify-content: unsafe center; width: 18px; height: 1px; padding-top: 42px; margin-left: 126px;\"><div style=\"box-sizing: border-box; font-size: 0; text-align: center; \"><div style=\"display: inline-block; font-size: 12px; font-family: Helvetica; color: #CCCCCC; line-height: 1.2; pointer-events: all; white-space: normal; word-wrap: normal; \"><font style=\"font-size: 18px\" face=\"Georgia\"><i>m</i></font></div></div></div></foreignObject><text x=\"135\" y=\"46\" fill=\"#CCCCCC\" font-family=\"Helvetica\" font-size=\"12px\" text-anchor=\"middle\">m</text></switch></g><ellipse cx=\"125\" cy=\"102\" rx=\"10\" ry=\"10\" fill=\"#ffffff\" stroke=\"#cccccc\" pointer-events=\"all\"/><g transform=\"translate(-0.5 -0.5)\"><switch><foreignObject style=\"overflow: visible; text-align: left;\" pointer-events=\"none\" width=\"100%\" height=\"100%\" requiredFeatures=\"http://www.w3.org/TR/SVG11/feature#Extensibility\"><div xmlns=\"http://www.w3.org/1999/xhtml\" style=\"display: flex; align-items: unsafe center; justify-content: unsafe center; width: 18px; height: 1px; padding-top: 102px; margin-left: 116px;\"><div style=\"box-sizing: border-box; font-size: 0; text-align: center; \"><div style=\"display: inline-block; font-size: 12px; font-family: Helvetica; color: #CCCCCC; line-height: 1.2; pointer-events: all; white-space: normal; word-wrap: normal; \"><font style=\"font-size: 18px\" face=\"Georgia\"><i>m</i></font></div></div></div></foreignObject><text x=\"125\" y=\"106\" fill=\"#CCCCCC\" font-family=\"Helvetica\" font-size=\"12px\" text-anchor=\"middle\">m</text></switch></g><path d=\"M 68 134 L 82.26 112.97\" fill=\"none\" stroke=\"#000000\" stroke-width=\"2\" stroke-miterlimit=\"10\" pointer-events=\"stroke\"/><path d=\"M 86.75 106.35 L 85.57 115.22 L 78.95 110.73 Z\" fill=\"#000000\" stroke=\"#000000\" stroke-width=\"2\" stroke-miterlimit=\"10\" pointer-events=\"all\"/><g transform=\"translate(-0.5 -0.5)\"><switch><foreignObject style=\"overflow: visible; text-align: left;\" pointer-events=\"none\" width=\"100%\" height=\"100%\" requiredFeatures=\"http://www.w3.org/TR/SVG11/feature#Extensibility\"><div xmlns=\"http://www.w3.org/1999/xhtml\" style=\"display: flex; align-items: unsafe center; justify-content: unsafe center; width: 1px; height: 1px; padding-top: 135px; margin-left: 79px;\"><div style=\"box-sizing: border-box; font-size: 0; text-align: center; \"><div style=\"display: inline-block; font-size: 11px; font-family: Helvetica; color: #000000; line-height: 1.2; pointer-events: all; background-color: #ffffff; white-space: nowrap; \"><font style=\"font-size: 18px\" face=\"Georgia\"><i>v</i></font></div></div></div></foreignObject><text x=\"79\" y=\"138\" fill=\"#000000\" font-family=\"Helvetica\" font-size=\"11px\" text-anchor=\"middle\">v</text></switch></g><rect x=\"280\" y=\"82\" width=\"150\" height=\"30\" fill=\"none\" stroke=\"none\" pointer-events=\"all\"/><g transform=\"translate(-0.5 -0.5)\"><switch><foreignObject style=\"overflow: visible; text-align: left;\" pointer-events=\"none\" width=\"100%\" height=\"100%\" requiredFeatures=\"http://www.w3.org/TR/SVG11/feature#Extensibility\"><div xmlns=\"http://www.w3.org/1999/xhtml\" style=\"display: flex; align-items: unsafe center; justify-content: unsafe center; width: 1px; height: 1px; padding-top: 97px; margin-left: 355px;\"><div style=\"box-sizing: border-box; font-size: 0; text-align: center; \"><div style=\"display: inline-block; font-size: 12px; font-family: Helvetica; color: #CCCCCC; line-height: 1.2; pointer-events: all; white-space: nowrap; \"><font color=\"#000000\" face=\"Georgia\"><i style=\"font-size: 18px\">n</i><span style=\"font-size: 18px\"> mol, </span><i style=\"font-size: 18px\">P</i><span style=\"font-size: 18px\">, </span><i style=\"font-size: 18px\">V</i><span style=\"font-size: 18px\">=</span><span style=\"font-size: 18px\"><i>L</i><sup>3</sup></span><span style=\"font-style: italic ; font-size: 15px\">, </span><span style=\"font-style: italic\"><font style=\"font-size: 18px\">T</font></span></font></div></div></div></foreignObject><text x=\"355\" y=\"101\" fill=\"#CCCCCC\" font-family=\"Helvetica\" font-size=\"12px\" text-anchor=\"middle\">n mol, P, V=L3, T</text></switch></g></g><switch><g requiredFeatures=\"http://www.w3.org/TR/SVG11/feature#Extensibility\"/><a transform=\"translate(0,-5)\" xlink:href=\"https://desk.draw.io/support/solutions/articles/16000042487\" target=\"_blank\"><text text-anchor=\"middle\" font-size=\"10px\" x=\"50%\" y=\"100%\">Viewer does not support full SVG 1.1</text></a></switch></svg>"
      ],
      "execution_count": null,
      "outputs": [
        {
          "output_type": "display_data",
          "data": {
            "text/plain": [
              "<IPython.core.display.SVG object>"
            ],
            "image/svg+xml": "<svg content=\"&lt;mxfile host=&quot;app.diagrams.net&quot; modified=&quot;2020-06-11T10:23:44.924Z&quot; agent=&quot;5.0 (Macintosh; Intel Mac OS X 10_15_5) AppleWebKit/537.36 (KHTML, like Gecko) Chrome/83.0.4103.97 Safari/537.36&quot; etag=&quot;m55aADyUA414-DRKpyCS&quot; version=&quot;13.2.1&quot; type=&quot;google&quot;&gt;&lt;diagram id=&quot;DSozb1oCj-Pgmqun-L3D&quot; name=&quot;Page-1&quot;&gt;7Vtbj9o6EP41SD0PoNyBx4XtRVUrVdqjnqpv3sQEq06cTcwC/fXHwXYS5wYEAqUsQtowsSfjmc+fZwZ2YM6DzccYRMuvxIN4YGjeZmA+DgxjbBiD9K15Wy6wrSkX+DHyuEjPBU/oNxRCTUhXyIOJMpASgimKVKFLwhC6VJGBOCZrddiCYPWpEfBhRfDkAlyV/oc8uuTSiTHO5Z8g8pfyyboj1hcAOVisJFkCj6wLIvP9wJzHhFB+FWzmEKe+k37h8z403M0Mi2FID5nw8jl6Wc9Xy58e/fx7Mpwvvv94GhoOV/MK8EqsWFhLt9IFfkxW0cCcLUhI5wSTeCc257sXkwsNMKZwUxcT8Cw1aVWb9cwTDEGQBJDGWzZEKLLEDAEeXWpY56HIxiwLYTA0IQQi/H6mOvcQuxBOOsJhurXfYeslovApAm76ec22BXPSkgbsOY86uwRJxJG6QBvopY5FGEvHhiSEbT4t+q4lolWPblWPFjyoOzUezITn9+DkUMidgqujfLMprbngnMll0TXd7xsYeg8pseVgKWCLj4ZehdT2eIYHpeqZgifsGk9IWQwxoOhVfWidd8QTvhHEzMlAWXFoQlaxC8WoIqeVJlqleRTEPqSVebtYZKvqHh4JtDsLT9nLe6OzUffOpaKj31d0Sl6WZ2SZuP/UaBn3Fa3OVHdgmHsOl3kq9SU0Jr+yHDqVeCBZpvnPLUZTBGV47s13rejWZbUOpiLrV8LsvKyIvDFMdgXbAxugT6JNfjMttXj+m8uYnbGPQHGQ44u/u0chKQikhC0GlUcxGbdJissoxJgVhyn6js3DOUTrSpyjS5/OuN1ImlDwUJOYGrWJaTOAT8pLjQOqnl7Iuiljf0t8Ck6y6op4Zfe6GXbzvWdqu5eyZy+6y7+ctMsZlL6AZ4hLexojP2TXLoMVZCuepXsTuQA/iBsB8rxUxyyGbFWihNTY5yiNzi5e9mxgP/bV72jZXo1koI10hQ2M85xdujGamorioTMyVTVksUhgP/mfffaE4sZIpoEsDiWZSxe/1riRZVAtdQjSSWkj9p/fMWvZmz1bK1z9k15yIkmJZgEChLd8DlMEgohTFctPzJmfMYsqV1U0c1Ur6/zV9GK30stQG2mTsa0ywYkcI9XIdukF+OSAtmIrn5ylHLkulYynIzWMneuRXNOl2KUufG/scgvs0l7JMHYxzkwuUvNUL8N9cjG2ObVRf8tsc+utLLORat6aHb00O/Z971bqduiy2XitdofZnOreM0JEw6CCkEzeG0JkQCRA9GsDpDlbuWeAXJFC9BKFXBkg1tsZ0wKDZuD0BxBNBcj42gA5rqP+jIn7q63/xZY+Y+M/IHyjLXcRJ1vtSOq60S3HHKt6Jsal69m69ub1COD1D++1N+77zmWp1d5TH/bTVDdGznhafJUSF2s0cWpu91+wWnUFa6fviDqh8Hi0cxVhG26TCITdVbMbAcG8U1R4Cld6tgV863MB/Zr+vUfTdzPa7D7VNcd815ikvzXlIrNoVi4+zVguTq1FlJGmO2hqKdqdw3y0BU0e63o4cS3/Nh4prdbvO4DYoUD7O3vAihK+sJ3qk2qX9p+zm1q5X1nza+y65Mo8Pg1lH/P/LeCnSP4PGub7/wE=&lt;/diagram&gt;&lt;/mxfile&gt;\" onclick=\"(function(svg){var src=window.event.target||window.event.srcElement;while (src!=null&amp;&amp;src.nodeName.toLowerCase()!='a'){src=src.parentNode;}if(src==null){if(svg.wnd!=null&amp;&amp;!svg.wnd.closed){svg.wnd.focus();}else{var r=function(evt){if(evt.data=='ready'&amp;&amp;evt.source==svg.wnd){svg.wnd.postMessage(decodeURIComponent(svg.getAttribute('content')),'*');window.removeEventListener('message',r);}};window.addEventListener('message',r);svg.wnd=window.open('https://app.diagrams.net/?client=1&amp;lightbox=1&amp;edit=_blank');}}})(this);\" style=\"cursor:pointer;max-width:100%;max-height:224px;\" version=\"1.1\" viewBox=\"-0.5 -0.5 431 224\" width=\"431px\" xmlns=\"http://www.w3.org/2000/svg\" xmlns:xlink=\"http://www.w3.org/1999/xlink\"><defs/><g><rect fill=\"none\" height=\"160\" pointer-events=\"all\" stroke=\"#000000\" width=\"160\" x=\"15\" y=\"62\"/><path d=\"M 175 222 L 175 62\" fill=\"none\" pointer-events=\"stroke\" stroke=\"#000000\" stroke-miterlimit=\"10\"/><path d=\"M 175 62 L 255 22\" fill=\"none\" pointer-events=\"stroke\" stroke=\"#000000\" stroke-miterlimit=\"10\"/><path d=\"M 255 182 L 255 22\" fill=\"none\" pointer-events=\"stroke\" stroke=\"#000000\" stroke-miterlimit=\"10\"/><path d=\"M 175 222 L 255 182\" fill=\"none\" pointer-events=\"stroke\" stroke=\"#000000\" stroke-miterlimit=\"10\"/><path d=\"M 95 182 L 255 182\" fill=\"none\" pointer-events=\"stroke\" stroke=\"#000000\" stroke-dasharray=\"3 3\" stroke-miterlimit=\"10\"/><ellipse cx=\"205\" cy=\"92\" fill=\"#ffffff\" pointer-events=\"all\" rx=\"10\" ry=\"10\" stroke=\"#cccccc\"/><g transform=\"translate(-0.5 -0.5)\"><switch><foreignObject height=\"100%\" pointer-events=\"none\" requiredFeatures=\"http://www.w3.org/TR/SVG11/feature#Extensibility\" style=\"overflow: visible; text-align: left;\" width=\"100%\"><div style=\"display: flex; align-items: unsafe center; justify-content: unsafe center; width: 18px; height: 1px; padding-top: 92px; margin-left: 196px;\" xmlns=\"http://www.w3.org/1999/xhtml\"><div style=\"box-sizing: border-box; font-size: 0; text-align: center; \"><div style=\"display: inline-block; font-size: 12px; font-family: Helvetica; color: #CCCCCC; line-height: 1.2; pointer-events: all; white-space: normal; word-wrap: normal; \"><font face=\"Georgia\" style=\"font-size: 18px\"><i>m</i></font></div></div></div></foreignObject><text fill=\"#CCCCCC\" font-family=\"Helvetica\" font-size=\"12px\" text-anchor=\"middle\" x=\"205\" y=\"96\">m</text></switch></g><path d=\"M 15 62 L 95 22\" fill=\"none\" pointer-events=\"stroke\" stroke=\"#000000\" stroke-miterlimit=\"10\"/><g transform=\"translate(-0.5 -0.5)\"><switch><foreignObject height=\"100%\" pointer-events=\"none\" requiredFeatures=\"http://www.w3.org/TR/SVG11/feature#Extensibility\" style=\"overflow: visible; text-align: left;\" width=\"100%\"><div style=\"display: flex; align-items: unsafe center; justify-content: unsafe center; width: 1px; height: 1px; padding-top: 32px; margin-left: 46px;\" xmlns=\"http://www.w3.org/1999/xhtml\"><div style=\"box-sizing: border-box; font-size: 0; text-align: center; \"><div style=\"display: inline-block; font-size: 11px; font-family: Helvetica; color: #CCCCCC; line-height: 1.2; pointer-events: all; background-color: #ffffff; white-space: nowrap; \"><font color=\"#000000\" face=\"Georgia\" style=\"font-size: 18px\"><i>L</i></font></div></div></div></foreignObject><text fill=\"#CCCCCC\" font-family=\"Helvetica\" font-size=\"11px\" text-anchor=\"middle\" x=\"46\" y=\"36\">L</text></switch></g><path d=\"M 95 22 L 255 22\" fill=\"none\" pointer-events=\"stroke\" stroke=\"#000000\" stroke-miterlimit=\"10\"/><g transform=\"translate(-0.5 -0.5)\"><switch><foreignObject height=\"100%\" pointer-events=\"none\" requiredFeatures=\"http://www.w3.org/TR/SVG11/feature#Extensibility\" style=\"overflow: visible; text-align: left;\" width=\"100%\"><div style=\"display: flex; align-items: unsafe center; justify-content: unsafe center; width: 1px; height: 1px; padding-top: 11px; margin-left: 169px;\" xmlns=\"http://www.w3.org/1999/xhtml\"><div style=\"box-sizing: border-box; font-size: 0; text-align: center; \"><div style=\"display: inline-block; font-size: 11px; font-family: Helvetica; color: #CCCCCC; line-height: 1.2; pointer-events: all; background-color: #ffffff; white-space: nowrap; \"><i style=\"color: rgb(0 , 0 , 0) ; font-family: &quot;georgia&quot; ; font-size: 18px\">L</i></div></div></div></foreignObject><text fill=\"#CCCCCC\" font-family=\"Helvetica\" font-size=\"11px\" text-anchor=\"middle\" x=\"169\" y=\"14\">L</text></switch></g><path d=\"M 94.5 182 L 94.5 22\" fill=\"none\" pointer-events=\"stroke\" stroke=\"#000000\" stroke-dasharray=\"3 3\" stroke-miterlimit=\"10\"/><g transform=\"translate(-0.5 -0.5)\"><switch><foreignObject height=\"100%\" pointer-events=\"none\" requiredFeatures=\"http://www.w3.org/TR/SVG11/feature#Extensibility\" style=\"overflow: visible; text-align: left;\" width=\"100%\"><div style=\"display: flex; align-items: unsafe center; justify-content: unsafe center; width: 1px; height: 1px; padding-top: 143px; margin-left: 6px;\" xmlns=\"http://www.w3.org/1999/xhtml\"><div style=\"box-sizing: border-box; font-size: 0; text-align: center; \"><div style=\"display: inline-block; font-size: 11px; font-family: Helvetica; color: #CCCCCC; line-height: 1.2; pointer-events: all; background-color: #ffffff; white-space: nowrap; \"><i style=\"color: rgb(0 , 0 , 0) ; font-family: &quot;georgia&quot; ; font-size: 18px\">L</i></div></div></div></foreignObject><text fill=\"#CCCCCC\" font-family=\"Helvetica\" font-size=\"11px\" text-anchor=\"middle\" x=\"6\" y=\"146\">L</text></switch></g><path d=\"M 15 222 L 95 182\" fill=\"none\" pointer-events=\"stroke\" stroke=\"#000000\" stroke-dasharray=\"3 3\" stroke-miterlimit=\"10\"/><ellipse cx=\"145\" cy=\"162\" fill=\"#ffffff\" pointer-events=\"all\" rx=\"10\" ry=\"10\" stroke=\"#cccccc\"/><g transform=\"translate(-0.5 -0.5)\"><switch><foreignObject height=\"100%\" pointer-events=\"none\" requiredFeatures=\"http://www.w3.org/TR/SVG11/feature#Extensibility\" style=\"overflow: visible; text-align: left;\" width=\"100%\"><div style=\"display: flex; align-items: unsafe center; justify-content: unsafe center; width: 18px; height: 1px; padding-top: 162px; margin-left: 136px;\" xmlns=\"http://www.w3.org/1999/xhtml\"><div style=\"box-sizing: border-box; font-size: 0; text-align: center; \"><div style=\"display: inline-block; font-size: 12px; font-family: Helvetica; color: #CCCCCC; line-height: 1.2; pointer-events: all; white-space: normal; word-wrap: normal; \"><font face=\"Georgia\" style=\"font-size: 18px\"><i>m</i></font></div></div></div></foreignObject><text fill=\"#CCCCCC\" font-family=\"Helvetica\" font-size=\"12px\" text-anchor=\"middle\" x=\"145\" y=\"166\">m</text></switch></g><ellipse cx=\"62\" cy=\"142\" fill=\"#ffffff\" pointer-events=\"all\" rx=\"10\" ry=\"10\" stroke=\"#000000\"/><g transform=\"translate(-0.5 -0.5)\"><switch><foreignObject height=\"100%\" pointer-events=\"none\" requiredFeatures=\"http://www.w3.org/TR/SVG11/feature#Extensibility\" style=\"overflow: visible; text-align: left;\" width=\"100%\"><div style=\"display: flex; align-items: unsafe center; justify-content: unsafe center; width: 18px; height: 1px; padding-top: 142px; margin-left: 53px;\" xmlns=\"http://www.w3.org/1999/xhtml\"><div style=\"box-sizing: border-box; font-size: 0; text-align: center; \"><div style=\"display: inline-block; font-size: 12px; font-family: Helvetica; color: #000000; line-height: 1.2; pointer-events: all; white-space: normal; word-wrap: normal; \"><font face=\"Georgia\" style=\"font-size: 18px\"><i>m</i></font></div></div></div></foreignObject><text fill=\"#000000\" font-family=\"Helvetica\" font-size=\"12px\" text-anchor=\"middle\" x=\"62\" y=\"146\">m</text></switch></g><ellipse cx=\"135\" cy=\"42\" fill=\"#ffffff\" pointer-events=\"all\" rx=\"10\" ry=\"10\" stroke=\"#cccccc\"/><g transform=\"translate(-0.5 -0.5)\"><switch><foreignObject height=\"100%\" pointer-events=\"none\" requiredFeatures=\"http://www.w3.org/TR/SVG11/feature#Extensibility\" style=\"overflow: visible; text-align: left;\" width=\"100%\"><div style=\"display: flex; align-items: unsafe center; justify-content: unsafe center; width: 18px; height: 1px; padding-top: 42px; margin-left: 126px;\" xmlns=\"http://www.w3.org/1999/xhtml\"><div style=\"box-sizing: border-box; font-size: 0; text-align: center; \"><div style=\"display: inline-block; font-size: 12px; font-family: Helvetica; color: #CCCCCC; line-height: 1.2; pointer-events: all; white-space: normal; word-wrap: normal; \"><font face=\"Georgia\" style=\"font-size: 18px\"><i>m</i></font></div></div></div></foreignObject><text fill=\"#CCCCCC\" font-family=\"Helvetica\" font-size=\"12px\" text-anchor=\"middle\" x=\"135\" y=\"46\">m</text></switch></g><ellipse cx=\"125\" cy=\"102\" fill=\"#ffffff\" pointer-events=\"all\" rx=\"10\" ry=\"10\" stroke=\"#cccccc\"/><g transform=\"translate(-0.5 -0.5)\"><switch><foreignObject height=\"100%\" pointer-events=\"none\" requiredFeatures=\"http://www.w3.org/TR/SVG11/feature#Extensibility\" style=\"overflow: visible; text-align: left;\" width=\"100%\"><div style=\"display: flex; align-items: unsafe center; justify-content: unsafe center; width: 18px; height: 1px; padding-top: 102px; margin-left: 116px;\" xmlns=\"http://www.w3.org/1999/xhtml\"><div style=\"box-sizing: border-box; font-size: 0; text-align: center; \"><div style=\"display: inline-block; font-size: 12px; font-family: Helvetica; color: #CCCCCC; line-height: 1.2; pointer-events: all; white-space: normal; word-wrap: normal; \"><font face=\"Georgia\" style=\"font-size: 18px\"><i>m</i></font></div></div></div></foreignObject><text fill=\"#CCCCCC\" font-family=\"Helvetica\" font-size=\"12px\" text-anchor=\"middle\" x=\"125\" y=\"106\">m</text></switch></g><path d=\"M 68 134 L 82.26 112.97\" fill=\"none\" pointer-events=\"stroke\" stroke=\"#000000\" stroke-miterlimit=\"10\" stroke-width=\"2\"/><path d=\"M 86.75 106.35 L 85.57 115.22 L 78.95 110.73 Z\" fill=\"#000000\" pointer-events=\"all\" stroke=\"#000000\" stroke-miterlimit=\"10\" stroke-width=\"2\"/><g transform=\"translate(-0.5 -0.5)\"><switch><foreignObject height=\"100%\" pointer-events=\"none\" requiredFeatures=\"http://www.w3.org/TR/SVG11/feature#Extensibility\" style=\"overflow: visible; text-align: left;\" width=\"100%\"><div style=\"display: flex; align-items: unsafe center; justify-content: unsafe center; width: 1px; height: 1px; padding-top: 135px; margin-left: 79px;\" xmlns=\"http://www.w3.org/1999/xhtml\"><div style=\"box-sizing: border-box; font-size: 0; text-align: center; \"><div style=\"display: inline-block; font-size: 11px; font-family: Helvetica; color: #000000; line-height: 1.2; pointer-events: all; background-color: #ffffff; white-space: nowrap; \"><font face=\"Georgia\" style=\"font-size: 18px\"><i>v</i></font></div></div></div></foreignObject><text fill=\"#000000\" font-family=\"Helvetica\" font-size=\"11px\" text-anchor=\"middle\" x=\"79\" y=\"138\">v</text></switch></g><rect fill=\"none\" height=\"30\" pointer-events=\"all\" stroke=\"none\" width=\"150\" x=\"280\" y=\"82\"/><g transform=\"translate(-0.5 -0.5)\"><switch><foreignObject height=\"100%\" pointer-events=\"none\" requiredFeatures=\"http://www.w3.org/TR/SVG11/feature#Extensibility\" style=\"overflow: visible; text-align: left;\" width=\"100%\"><div style=\"display: flex; align-items: unsafe center; justify-content: unsafe center; width: 1px; height: 1px; padding-top: 97px; margin-left: 355px;\" xmlns=\"http://www.w3.org/1999/xhtml\"><div style=\"box-sizing: border-box; font-size: 0; text-align: center; \"><div style=\"display: inline-block; font-size: 12px; font-family: Helvetica; color: #CCCCCC; line-height: 1.2; pointer-events: all; white-space: nowrap; \"><font color=\"#000000\" face=\"Georgia\"><i style=\"font-size: 18px\">n</i><span style=\"font-size: 18px\"> mol, </span><i style=\"font-size: 18px\">P</i><span style=\"font-size: 18px\">, </span><i style=\"font-size: 18px\">V</i><span style=\"font-size: 18px\">=</span><span style=\"font-size: 18px\"><i>L</i><sup>3</sup></span><span style=\"font-style: italic ; font-size: 15px\">, </span><span style=\"font-style: italic\"><font style=\"font-size: 18px\">T</font></span></font></div></div></div></foreignObject><text fill=\"#CCCCCC\" font-family=\"Helvetica\" font-size=\"12px\" text-anchor=\"middle\" x=\"355\" y=\"101\">n mol, P, V=L3, T</text></switch></g></g><switch><g requiredFeatures=\"http://www.w3.org/TR/SVG11/feature#Extensibility\"/><a target=\"_blank\" transform=\"translate(0,-5)\" xlink:href=\"https://desk.draw.io/support/solutions/articles/16000042487\"><text font-size=\"10px\" text-anchor=\"middle\" x=\"50%\" y=\"100%\">Viewer does not support full SVG 1.1</text></a></switch></svg>"
          },
          "metadata": {
            "tags": []
          }
        }
      ]
    },
    {
      "cell_type": "markdown",
      "metadata": {
        "id": "xGj-W0JmNIkC"
      },
      "source": [
        "#### 3次元への拡張\n",
        "\n",
        "3次元の物体の速度ベクトルは\n",
        "\\begin{align*}\n",
        "\\vec{v} &= \\left( v_x, v_y, v_z\\right)&\n",
        "\\end{align*}\n",
        "この速度ベクトルの内積 $\\vec{v}\\cdot\\vec{v}$をとると\n",
        "\\begin{align*}\n",
        "v^2 &= v_x^2 + v_y^2 + v_z^2 &.\n",
        "\\end{align*}\n",
        "立方体内部での圧力はどの方向であっても等しいことを踏まえると\n",
        "\\begin{align*}\n",
        "<v_x^2> = <v_y^2> = <v_z^2>, &\n",
        "\\end{align*}\n",
        "これを3次元の速度の大きさの二乗を含む ${v^2}$ も平均化して当てはめると\n",
        "($<>$は平均化の記号です)\n",
        "\\begin{align*}\n",
        "<v^2>\n",
        "&= <v_x^2 + v_y^2 + v_z^2>\\\\\n",
        "&=<v_x^2> + <v_y^2> + <v_z^2>\\\\\n",
        "&=3 <v_x^2>\\\\\n",
        "\\end{align*}\n",
        "よって\n",
        "\\begin{align*}\n",
        "<v_x^2> &= \\dfrac{1}{3}<v^2>\n",
        "\\end{align*}\n"
      ]
    },
    {
      "cell_type": "markdown",
      "metadata": {
        "id": "cmwRCEHUveuu"
      },
      "source": [
        "ところで, 閉じ込めらた理想気体の運動エネルギーを$E$として数え上げると\n",
        "\\begin{align*}\n",
        "E = n N_{\\rm A}\\left(\\dfrac{1}{2} m <v^2>\\right).\n",
        "\\end{align*}"
      ]
    },
    {
      "cell_type": "markdown",
      "metadata": {
        "id": "xfYeyQtVvKfT"
      },
      "source": [
        "これらを利用すると\n",
        "\\begin{align*}\n",
        "p &= \\dfrac{n N_{\\rm A} m<v_x^2>}{V}\\\\\n",
        "&=  \\dfrac{n N_{\\rm A} m\\frac{<v^2>}{3}}{V}\\\\\n",
        "p V &= \\dfrac{1}{3} n N_{\\rm A} m <v^2>\\\\\n",
        "pV &= \\dfrac{2}{3} E\n",
        "\\end{align*}"
      ]
    },
    {
      "cell_type": "markdown",
      "metadata": {
        "id": "oQ-qn6JUwFD3"
      },
      "source": [
        "ボイルシャルルの法則から\n",
        "\\begin{align*}\n",
        " E& =\\dfrac{3}{2}pV = \\dfrac{3}{2} n R T\n",
        "\\end{align*}\n",
        "\n",
        "また数え上げた運動エネルギー $E$ を用いると\n",
        "\\begin{align*}\n",
        "\\dfrac{1}{2} m <v^2> &= \\dfrac{E}{nN_{\\rm A}}= \\dfrac{3}{2} \\dfrac{R}{N_{\\rm A}} T\\\\[2mm]\n",
        "&= \\dfrac{3}{2} k_{\\rm B} T\\\\[3mm]\n",
        "&= \\dfrac{1}{2} k_{\\rm B} T\n",
        "+ \\dfrac{1}{2} k_{\\rm B} T\n",
        "+ \\dfrac{1}{2} k_{\\rm B} T\n",
        "\\end{align*}\n",
        "\n",
        "> $k_{\\rm B} = 1.38 \\times 10^{-23} {\\rm \\ J/K}$ : ボルツマン定数\n"
      ]
    },
    {
      "cell_type": "code",
      "metadata": {
        "id": "FZaeoZAsx-eZ",
        "cellView": "form",
        "colab": {
          "base_uri": "https://localhost:8080/",
          "height": 475
        },
        "outputId": "a6c076d9-29e2-43ab-bb12-85cfc1c67843"
      },
      "source": [
        "#@title 再現: 教科書 p166, 例3の直下の文章\n",
        "%%html\n",
        "<iframe src=\"https://phet.colorado.edu/sims/html/diffusion/latest/diffusion_en.html\" width=\"600\" height=\"450\" scrolling=\"no\" allowfullscreen></iframe>"
      ],
      "execution_count": null,
      "outputs": [
        {
          "output_type": "display_data",
          "data": {
            "text/html": [
              "<iframe src=\"https://phet.colorado.edu/sims/html/diffusion/latest/diffusion_en.html\" width=\"600\" height=\"450\" scrolling=\"no\" allowfullscreen></iframe>"
            ],
            "text/plain": [
              "<IPython.core.display.HTML object>"
            ]
          },
          "metadata": {
            "tags": []
          }
        }
      ]
    },
    {
      "cell_type": "markdown",
      "metadata": {
        "id": "HxSXl5OyXNKq"
      },
      "source": [
        "#### マクスウェル分布"
      ]
    },
    {
      "cell_type": "code",
      "metadata": {
        "id": "K1MbKF2zcOLY",
        "colab": {
          "base_uri": "https://localhost:8080/",
          "height": 484
        },
        "cellView": "form",
        "outputId": "7b0b2447-f726-4bf4-bfbf-c9acc794b0fc"
      },
      "source": [
        "#@title\n",
        "%%svg\n",
        "https://upload.wikimedia.org/wikipedia/commons/0/01/MaxwellBoltzmann-en.svg"
      ],
      "execution_count": null,
      "outputs": [
        {
          "output_type": "display_data",
          "data": {
            "text/plain": [
              "<IPython.core.display.SVG object>"
            ],
            "image/svg+xml": "<svg height=\"463\" id=\"svg2\" inkscape:output_extension=\"org.inkscape.output.svg.inkscape\" inkscape:version=\"0.46\" sodipodi:docbase=\"F:\\WP images\\SCHEMA 1\" sodipodi:docname=\"MaxwellBoltzmann-en.svg\" sodipodi:version=\"0.32\" version=\"1.0\" width=\"700\" xmlns=\"http://www.w3.org/2000/svg\" xmlns:cc=\"http://creativecommons.org/ns#\" xmlns:dc=\"http://purl.org/dc/elements/1.1/\" xmlns:inkscape=\"http://www.inkscape.org/namespaces/inkscape\" xmlns:rdf=\"http://www.w3.org/1999/02/22-rdf-syntax-ns#\" xmlns:sodipodi=\"http://sodipodi.sourceforge.net/DTD/sodipodi-0.dtd\" xmlns:svg=\"http://www.w3.org/2000/svg\">\n  <defs id=\"defs4\">\n    <inkscape:perspective id=\"perspective101\" inkscape:persp3d-origin=\"333.5 : 154.33333 : 1\" inkscape:vp_x=\"0 : 231.5 : 1\" inkscape:vp_y=\"0 : 1000 : 0\" inkscape:vp_z=\"667 : 231.5 : 1\" sodipodi:type=\"inkscape:persp3d\"/>\n  </defs>\n  <sodipodi:namedview bordercolor=\"#666666\" borderopacity=\"1.0\" height=\"463px\" id=\"base\" inkscape:current-layer=\"layer6\" inkscape:cx=\"390.45664\" inkscape:cy=\"368.91113\" inkscape:document-units=\"px\" inkscape:pageopacity=\"0.0\" inkscape:pageshadow=\"2\" inkscape:window-height=\"809\" inkscape:window-width=\"1152\" inkscape:window-x=\"-4\" inkscape:window-y=\"-4\" inkscape:zoom=\"0.7\" pagecolor=\"#ffffff\" showgrid=\"true\" width=\"667px\"/>\n  <metadata id=\"metadata7\">\n    <rdf:RDF>\n      <cc:Work rdf:about=\"\">\n        <dc:format>image/svg+xml</dc:format>\n        <dc:type rdf:resource=\"http://purl.org/dc/dcmitype/StillImage\"/>\n      </cc:Work>\n    </rdf:RDF>\n  </metadata>\n  <g id=\"layer3\" inkscape:groupmode=\"layer\" inkscape:label=\"grey\" style=\"display: inline;\">\n    <path d=\"M 108.85714,349 L 582.85714,349\" id=\"path2258\" style=\"fill: none; fill-opacity: 1; fill-rule: evenodd; stroke: rgb(204, 204, 204); stroke-width: 1px; stroke-linecap: butt; stroke-linejoin: miter; stroke-opacity: 1;\"/>\n    <path d=\"M 108.86143,316 L 582.86143,316\" id=\"path3241\" style=\"fill: rgb(153, 153, 153); fill-opacity: 1; fill-rule: evenodd; stroke: rgb(153, 153, 153); stroke-width: 1px; stroke-linecap: butt; stroke-linejoin: miter; stroke-opacity: 1;\"/>\n    <path d=\"M 108.35714,282 L 582.35714,282\" id=\"path3245\" style=\"fill: none; fill-opacity: 1; fill-rule: evenodd; stroke: rgb(204, 204, 204); stroke-width: 1px; stroke-linecap: butt; stroke-linejoin: miter; stroke-opacity: 1;\"/>\n    <path d=\"M 109.35714,249 L 583.35714,249\" id=\"path3247\" style=\"fill: none; fill-opacity: 1; fill-rule: evenodd; stroke: rgb(153, 153, 153); stroke-width: 1px; stroke-linecap: butt; stroke-linejoin: miter; stroke-opacity: 1;\"/>\n    <path d=\"M 109.35714,216 L 583.35714,216\" id=\"path3249\" style=\"fill: none; fill-opacity: 1; fill-rule: evenodd; stroke: rgb(204, 204, 204); stroke-width: 1px; stroke-linecap: butt; stroke-linejoin: miter; stroke-opacity: 1;\"/>\n    <path d=\"M 109.35714,183 L 583.35714,183\" id=\"path3251\" style=\"fill: none; fill-opacity: 1; fill-rule: evenodd; stroke: rgb(153, 153, 153); stroke-width: 1px; stroke-linecap: butt; stroke-linejoin: miter; stroke-opacity: 1;\"/>\n    <path d=\"M 109.35714,149 L 583.35713,149\" id=\"path3253\" style=\"fill: none; fill-opacity: 1; fill-rule: evenodd; stroke: rgb(204, 204, 204); stroke-width: 1px; stroke-linecap: butt; stroke-linejoin: miter; stroke-opacity: 1;\"/>\n    <path d=\"M 109.35713,116 L 583.35714,116\" id=\"path3255\" style=\"fill: none; fill-opacity: 1; fill-rule: evenodd; stroke: rgb(153, 153, 153); stroke-width: 1px; stroke-linecap: butt; stroke-linejoin: miter; stroke-opacity: 1;\"/>\n    <path d=\"M 487.85714,381 L 487.85714,83\" id=\"path3265\" style=\"fill: none; fill-rule: evenodd; stroke: rgb(153, 153, 153); stroke-width: 1px; stroke-linecap: butt; stroke-linejoin: miter; stroke-opacity: 1;\"/>\n    <path d=\"M 392.85714,381 L 392.85714,83\" id=\"path3267\" style=\"fill: none; fill-rule: evenodd; stroke: rgb(153, 153, 153); stroke-width: 1px; stroke-linecap: butt; stroke-linejoin: miter; stroke-opacity: 1;\"/>\n    <path d=\"M 298.85714,381 L 298.85714,83\" id=\"path3269\" style=\"fill: none; fill-rule: evenodd; stroke: rgb(153, 153, 153); stroke-width: 1px; stroke-linecap: butt; stroke-linejoin: miter; stroke-opacity: 1;\"/>\n    <path d=\"M 203.85714,381.65679 L 203.85714,83.033881\" id=\"path3271\" style=\"fill: none; fill-rule: evenodd; stroke: rgb(153, 153, 153); stroke-width: 1.00104px; stroke-linecap: butt; stroke-linejoin: miter; stroke-opacity: 1;\"/>\n    <path d=\"M 109.35714,83 L 583.35715,83\" id=\"path3257\" style=\"fill: none; fill-opacity: 1; fill-rule: evenodd; stroke: rgb(204, 204, 204); stroke-width: 1px; stroke-linecap: butt; stroke-linejoin: miter; stroke-opacity: 1;\"/>\n    <path d=\"M 582.85714,380.99916 L 582.85714,82.500836\" id=\"path3263\" style=\"fill: none; fill-rule: evenodd; stroke: rgb(153, 153, 153); stroke-width: 1.00084px; stroke-linecap: butt; stroke-linejoin: miter; stroke-opacity: 1;\"/>\n    <path d=\"M 563.85714,381 L 563.85714,83\" id=\"path3273\" style=\"fill: rgb(204, 204, 204); fill-opacity: 1; fill-rule: evenodd; stroke: rgb(204, 204, 204); stroke-width: 1px; stroke-linecap: butt; stroke-linejoin: miter; stroke-opacity: 1;\"/>\n    <path d=\"M 544.85714,381 L 544.85714,83\" id=\"path3275\" style=\"fill: rgb(204, 204, 204); fill-opacity: 1; fill-rule: evenodd; stroke: rgb(204, 204, 204); stroke-width: 1px; stroke-linecap: butt; stroke-linejoin: miter; stroke-opacity: 1;\"/>\n    <path d=\"M 525.85714,381 L 525.85714,83\" id=\"path3277\" style=\"fill: rgb(204, 204, 204); fill-opacity: 1; fill-rule: evenodd; stroke: rgb(204, 204, 204); stroke-width: 1px; stroke-linecap: butt; stroke-linejoin: miter; stroke-opacity: 1;\"/>\n    <path d=\"M 506.85714,381 L 506.85714,83\" id=\"path3279\" style=\"fill: rgb(204, 204, 204); fill-opacity: 1; fill-rule: evenodd; stroke: rgb(204, 204, 204); stroke-width: 1px; stroke-linecap: butt; stroke-linejoin: miter; stroke-opacity: 1;\"/>\n    <path d=\"M 468.85714,381 L 468.85714,83\" id=\"path3281\" style=\"fill: rgb(204, 204, 204); fill-opacity: 1; fill-rule: evenodd; stroke: rgb(204, 204, 204); stroke-width: 1px; stroke-linecap: butt; stroke-linejoin: miter; stroke-opacity: 1;\"/>\n    <path d=\"M 449.85714,381 L 449.85714,83\" id=\"path3283\" style=\"fill: rgb(204, 204, 204); fill-opacity: 1; fill-rule: evenodd; stroke: rgb(204, 204, 204); stroke-width: 1px; stroke-linecap: butt; stroke-linejoin: miter; stroke-opacity: 1;\"/>\n    <path d=\"M 430.85714,381 L 430.85714,83\" id=\"path3285\" style=\"fill: rgb(204, 204, 204); fill-opacity: 1; fill-rule: evenodd; stroke: rgb(204, 204, 204); stroke-width: 1px; stroke-linecap: butt; stroke-linejoin: miter; stroke-opacity: 1;\"/>\n    <path d=\"M 411.85714,381 L 411.85714,83\" id=\"path3287\" style=\"fill: rgb(204, 204, 204); fill-opacity: 1; fill-rule: evenodd; stroke: rgb(204, 204, 204); stroke-width: 1px; stroke-linecap: butt; stroke-linejoin: miter; stroke-opacity: 1;\"/>\n    <path d=\"M 373.85714,381 L 373.85714,83\" id=\"path3289\" style=\"fill: rgb(204, 204, 204); fill-opacity: 1; fill-rule: evenodd; stroke: rgb(204, 204, 204); stroke-width: 1px; stroke-linecap: butt; stroke-linejoin: miter; stroke-opacity: 1;\"/>\n    <path d=\"M 354.85714,381 L 354.85714,83\" id=\"path3291\" style=\"fill: rgb(204, 204, 204); fill-opacity: 1; fill-rule: evenodd; stroke: rgb(204, 204, 204); stroke-width: 1px; stroke-linecap: butt; stroke-linejoin: miter; stroke-opacity: 1;\"/>\n    <path d=\"M 336.85714,381 L 336.85714,83\" id=\"path3293\" style=\"fill: rgb(204, 204, 204); fill-opacity: 1; fill-rule: evenodd; stroke: rgb(204, 204, 204); stroke-width: 1px; stroke-linecap: butt; stroke-linejoin: miter; stroke-opacity: 1;\"/>\n    <path d=\"M 279.85714,381 L 279.85714,83\" id=\"path3295\" style=\"fill: rgb(204, 204, 204); fill-opacity: 1; fill-rule: evenodd; stroke: rgb(204, 204, 204); stroke-width: 1px; stroke-linecap: butt; stroke-linejoin: miter; stroke-opacity: 1;\"/>\n    <path d=\"M 317.85714,381 L 317.85714,83\" id=\"path3297\" style=\"fill: rgb(204, 204, 204); fill-opacity: 1; fill-rule: evenodd; stroke: rgb(204, 204, 204); stroke-width: 1px; stroke-linecap: butt; stroke-linejoin: miter; stroke-opacity: 1;\"/>\n    <path d=\"M 260.85714,381 L 260.85714,83\" id=\"path3299\" style=\"fill: rgb(204, 204, 204); fill-opacity: 1; fill-rule: evenodd; stroke: rgb(204, 204, 204); stroke-width: 1px; stroke-linecap: butt; stroke-linejoin: miter; stroke-opacity: 1;\"/>\n    <path d=\"M 241.85714,381 L 241.85714,83\" id=\"path3301\" style=\"fill: rgb(204, 204, 204); fill-opacity: 1; fill-rule: evenodd; stroke: rgb(204, 204, 204); stroke-width: 1px; stroke-linecap: butt; stroke-linejoin: miter; stroke-opacity: 1;\"/>\n    <path d=\"M 222.85714,381 L 222.85714,83\" id=\"path3303\" style=\"fill: rgb(204, 204, 204); fill-opacity: 1; fill-rule: evenodd; stroke: rgb(204, 204, 204); stroke-width: 1px; stroke-linecap: butt; stroke-linejoin: miter; stroke-opacity: 1;\"/>\n    <path d=\"M 184.85714,381 L 184.85714,83\" id=\"path3305\" style=\"fill: rgb(204, 204, 204); fill-opacity: 1; fill-rule: evenodd; stroke: rgb(204, 204, 204); stroke-width: 1px; stroke-linecap: butt; stroke-linejoin: miter; stroke-opacity: 1;\"/>\n    <path d=\"M 165.85714,381 L 165.85714,83\" id=\"path3307\" style=\"fill: rgb(204, 204, 204); fill-opacity: 1; fill-rule: evenodd; stroke: rgb(204, 204, 204); stroke-width: 1px; stroke-linecap: butt; stroke-linejoin: miter; stroke-opacity: 1;\"/>\n    <path d=\"M 146.85714,381 L 146.85714,83\" id=\"path3309\" style=\"fill: rgb(204, 204, 204); fill-opacity: 1; fill-rule: evenodd; stroke: rgb(204, 204, 204); stroke-width: 1px; stroke-linecap: butt; stroke-linejoin: miter; stroke-opacity: 1;\"/>\n    <path d=\"M 127.85714,381 L 127.85714,83\" id=\"path3311\" style=\"fill: rgb(204, 204, 204); fill-opacity: 1; fill-rule: evenodd; stroke: rgb(204, 204, 204); stroke-width: 1px; stroke-linecap: butt; stroke-linejoin: miter; stroke-opacity: 1;\"/>\n  </g>\n  <g id=\"layer4\" inkscape:groupmode=\"layer\" inkscape:label=\"tracer\" style=\"display: inline;\">\n    <path d=\"M 116.42857,381.21429 C 149.51404,353.58927 171.4151,270.45594 202.85714,270.5 C 237.51348,269.47263 273.27854,382.18202 363.15116,380.6894\" id=\"path3317\" sodipodi:nodetypes=\"ccc\" style=\"fill: none; fill-opacity: 1; fill-rule: evenodd; stroke: rgb(255, 204, 0); stroke-width: 3; stroke-linecap: round; stroke-linejoin: miter; stroke-miterlimit: 4; stroke-dasharray: none; stroke-opacity: 1;\"/>\n    <path d=\"M 108.41518,381.95536 C 134.97752,379.87137 148.0527,225.35529 175.6922,224.98281 C 189.78432,225.26312 198.5992,259.73735 216.64408,300.43613 C 235.96956,344.02321 251.53687,378.38203 294.32199,380.67256\" id=\"path3321\" sodipodi:nodetypes=\"ccsc\" style=\"fill: none; fill-opacity: 1; fill-rule: evenodd; stroke: rgb(0, 255, 255); stroke-width: 3; stroke-linecap: round; stroke-linejoin: miter; stroke-miterlimit: 4; stroke-dasharray: none; stroke-opacity: 1;\"/>\n    <path d=\"M 111.07143,382.28571 C 198.57792,374.87412 247.13197,332.15917 317.34091,331.65809 C 385.61454,331.91807 480.19994,372.25507 581.74107,377.28571\" id=\"path3319\" sodipodi:nodetypes=\"ccc\" style=\"fill: none; fill-rule: evenodd; stroke: rgb(0, 0, 255); stroke-width: 3; stroke-linecap: round; stroke-linejoin: miter; stroke-miterlimit: 4; stroke-dasharray: none; stroke-opacity: 1;\"/>\n    <path d=\"M 581.875,380.99107 C 581.875,380.99107 237.2824,380.68196 218.75,380.5 C 180.58007,378.63216 178.28666,298.02521 168.86338,237.82449 C 158.18605,167.95446 155.08005,97.886119 145.57904,97.812454 C 130.08027,97.991327 123.83512,381.71039 108.57143,381.92857\" id=\"path3314\" sodipodi:nodetypes=\"ccccc\" style=\"fill: none; fill-opacity: 1; fill-rule: evenodd; stroke: rgb(102, 0, 153); stroke-width: 3; stroke-linecap: round; stroke-linejoin: miter; stroke-miterlimit: 4; stroke-dasharray: none; stroke-opacity: 1;\"/>\n    <path d=\"M 582.85714,381.55271 L 582.85714,82.500836\" id=\"path3338\" sodipodi:nodetypes=\"cc\" style=\"fill: none; fill-rule: evenodd; stroke: rgb(153, 153, 153); stroke-width: 1.00084px; stroke-linecap: butt; stroke-linejoin: miter; stroke-opacity: 1; display: inline;\"/>\n  </g>\n  <g id=\"layer5\" inkscape:groupmode=\"layer\" inkscape:label=\"eff\">\n    <path d=\"M 105.85714,383 L 124.85714,383\" id=\"path3332\" style=\"fill: none; fill-rule: evenodd; stroke: rgb(255, 255, 255); stroke-width: 2; stroke-linecap: butt; stroke-linejoin: miter; stroke-miterlimit: 4; stroke-dasharray: none; stroke-opacity: 1;\"/>\n    <path d=\"M 105.63393,380.85715 L 108.5625,381.125\" id=\"path3334\" sodipodi:nodetypes=\"cc\" style=\"fill: none; fill-rule: evenodd; stroke: rgb(255, 255, 255); stroke-width: 2; stroke-linecap: butt; stroke-linejoin: miter; stroke-miterlimit: 4; stroke-dasharray: none; stroke-opacity: 1;\"/>\n  </g>\n  <g id=\"layer2\" inkscape:groupmode=\"layer\" inkscape:label=\"1\" style=\"display: inline;\">\n    <path d=\"M 102.85714,382 L 582.85714,382 L 582.85714,388\" id=\"path2237\" style=\"fill: none; fill-rule: evenodd; stroke: rgb(0, 0, 0); stroke-width: 1px; stroke-linecap: butt; stroke-linejoin: miter; stroke-opacity: 1;\"/>\n    <path d=\"M 487.85714,388 L 487.85714,382\" id=\"path2239\" style=\"fill: none; fill-rule: evenodd; stroke: rgb(0, 0, 0); stroke-width: 1px; stroke-linecap: butt; stroke-linejoin: miter; stroke-opacity: 1;\"/>\n    <path d=\"M 392.85714,388 L 392.85714,382\" id=\"path2241\" style=\"fill: none; fill-rule: evenodd; stroke: rgb(0, 0, 0); stroke-width: 1px; stroke-linecap: butt; stroke-linejoin: miter; stroke-opacity: 1;\"/>\n    <path d=\"M 298.85714,388 L 298.85714,382\" id=\"path2243\" style=\"fill: none; fill-rule: evenodd; stroke: rgb(0, 0, 0); stroke-width: 1px; stroke-linecap: butt; stroke-linejoin: miter; stroke-opacity: 1;\"/>\n    <path d=\"M 203.85714,388 L 203.85714,382\" id=\"path2245\" style=\"fill: none; fill-rule: evenodd; stroke: rgb(0, 0, 0); stroke-width: 1px; stroke-linecap: butt; stroke-linejoin: miter; stroke-opacity: 1;\"/>\n    <path d=\"M 108.85714,388.40097 L 108.85714,82.500816\" id=\"path2247\" sodipodi:nodetypes=\"cc\" style=\"fill: none; fill-rule: evenodd; stroke: rgb(0, 0, 0); stroke-width: 1.00082px; stroke-linecap: butt; stroke-linejoin: miter; stroke-opacity: 1;\"/>\n    <path d=\"M 102.85714,116 L 108.85714,116\" id=\"path2249\" style=\"fill: none; fill-rule: evenodd; stroke: rgb(0, 0, 0); stroke-width: 1px; stroke-linecap: butt; stroke-linejoin: miter; stroke-opacity: 1;\"/>\n    <path d=\"M 102.85714,183 L 108.85714,183\" id=\"path2251\" style=\"fill: none; fill-rule: evenodd; stroke: rgb(0, 0, 0); stroke-width: 1px; stroke-linecap: butt; stroke-linejoin: miter; stroke-opacity: 1;\"/>\n    <path d=\"M 102.85714,249 L 108.85714,249\" id=\"path2253\" style=\"fill: none; fill-rule: evenodd; stroke: rgb(0, 0, 0); stroke-width: 1px; stroke-linecap: butt; stroke-linejoin: miter; stroke-opacity: 1;\"/>\n    <path d=\"M 102.85714,316 L 108.85714,316\" id=\"path2255\" style=\"fill: none; fill-rule: evenodd; stroke: rgb(0, 0, 0); stroke-width: 1px; stroke-linecap: butt; stroke-linejoin: miter; stroke-opacity: 1;\"/>\n  </g>\n  <g id=\"layer6\" inkscape:groupmode=\"layer\" inkscape:label=\"Texte\" style=\"display:inline\">\n    <text id=\"text3342\" style=\"font-size:20px;font-style:normal;font-variant:normal;font-weight:bold;font-stretch:normal;fill:#000000;fill-opacity:1;stroke:none;stroke-width:1px;stroke-linecap:butt;stroke-linejoin:miter;stroke-opacity:1;font-family:DejaVu Sans Condensed;-inkscape-font-specification:'DejaVu Sans Condensed, Bold'\" x=\"18.82061\" xml:space=\"preserve\" y=\"44.435299\"><tspan id=\"tspan3344\" sodipodi:role=\"line\" x=\"18.82061\" y=\"44.435299\">Maxwell-Boltzmann Molecular Speed Distribution for Noble Gases</tspan></text>\n    <rect height=\"101.2678\" id=\"rect3346\" style=\"opacity:1;fill:none;fill-opacity:1;stroke:#000000;stroke-width:2;stroke-linecap:round;stroke-linejoin:round;stroke-miterlimit:4;stroke-dasharray:none;stroke-dashoffset:0;stroke-opacity:1\" width=\"88.506226\" x=\"605.45111\" y=\"181.16743\"/>\n    <path d=\"M 610.61342,195.05704 L 634.3418,195.05704\" id=\"path3348\" style=\"fill:#0000ff;fill-rule:evenodd;stroke:#0000ff;stroke-width:3;stroke-linecap:butt;stroke-linejoin:miter;stroke-miterlimit:4;stroke-dasharray:none;stroke-opacity:1\"/>\n    <path d=\"M 610.61342,220.057 L 634.3418,220.057\" id=\"path3350\" style=\"fill:#ffcc00;fill-opacity:1;fill-rule:evenodd;stroke:#ffcc00;stroke-width:3;stroke-linecap:butt;stroke-linejoin:miter;stroke-miterlimit:4;stroke-dasharray:none;stroke-opacity:1\"/>\n    <path d=\"M 610.61342,244.957 L 634.3418,244.957\" id=\"path3352\" style=\"fill:#00ffff;fill-opacity:1;fill-rule:evenodd;stroke:#00ffff;stroke-width:3;stroke-linecap:butt;stroke-linejoin:miter;stroke-miterlimit:4;stroke-dasharray:none;stroke-opacity:1\"/>\n    <path d=\"M 610.61342,269.957 L 634.3418,269.957\" id=\"path3354\" style=\"fill:#990099;fill-opacity:1;fill-rule:evenodd;stroke:#990099;stroke-width:3;stroke-linecap:butt;stroke-linejoin:miter;stroke-miterlimit:4;stroke-dasharray:none;stroke-opacity:1\"/>\n    <text id=\"text3356\" style=\"font-size:14px;font-style:normal;font-weight:bold;fill:#000000;fill-opacity:1;stroke:none;stroke-width:1px;stroke-linecap:butt;stroke-linejoin:miter;stroke-opacity:1;font-family:DejaVu Sans Condensed;-inkscape-font-specification:'DejaVu Sans Condensed, Bold';font-stretch:normal;font-variant:normal\" x=\"653.05402\" xml:space=\"preserve\" y=\"196.32001\"><tspan id=\"tspan3358\" sodipodi:role=\"line\" x=\"653.05402\" y=\"196.32001\">4</tspan></text>\n    <text id=\"text3360\" style=\"font-size:20px;font-style:normal;font-variant:normal;font-weight:bold;font-stretch:normal;fill:#000000;fill-opacity:1;stroke:none;stroke-width:1px;stroke-linecap:butt;stroke-linejoin:miter;stroke-opacity:1;font-family:DejaVu Sans Condensed;-inkscape-font-specification:'DejaVu Sans Condensed, Bold'\" x=\"663.73608\" xml:space=\"preserve\" y=\"203.39101\"><tspan id=\"tspan3362\" sodipodi:role=\"line\" x=\"663.73608\" y=\"203.39101\">He</tspan></text>\n    <text id=\"text3364\" style=\"font-size:14px;font-style:normal;font-weight:bold;fill:#000000;fill-opacity:1;stroke:none;stroke-width:1px;stroke-linecap:butt;stroke-linejoin:miter;stroke-opacity:1;font-family:DejaVu Sans Condensed;-inkscape-font-specification:'DejaVu Sans Condensed, Bold';font-stretch:normal;font-variant:normal\" x=\"645.55798\" xml:space=\"preserve\" y=\"219.68401\"><tspan id=\"tspan3366\" sodipodi:role=\"line\" x=\"645.55798\" y=\"219.68401\">20</tspan></text>\n    <text id=\"text3368\" style=\"font-size:20px;font-style:normal;font-variant:normal;font-weight:bold;font-stretch:normal;fill:#000000;fill-opacity:1;stroke:none;stroke-width:1px;stroke-linecap:butt;stroke-linejoin:miter;stroke-opacity:1;font-family:DejaVu Sans Condensed;-inkscape-font-specification:'DejaVu Sans Condensed, Bold'\" x=\"664.19507\" xml:space=\"preserve\" y=\"227.76601\"><tspan id=\"tspan3370\" sodipodi:role=\"line\" x=\"664.19507\" y=\"227.76601\">Ne</tspan></text>\n    <text id=\"text3372\" style=\"font-size:14px;font-style:normal;font-weight:bold;fill:#000000;fill-opacity:1;stroke:none;stroke-width:1px;stroke-linecap:butt;stroke-linejoin:miter;stroke-opacity:1;font-family:DejaVu Sans Condensed;-inkscape-font-specification:'DejaVu Sans Condensed, Bold';font-stretch:normal;font-variant:normal\" x=\"647.07397\" xml:space=\"preserve\" y=\"245.42799\"><tspan id=\"tspan3374\" sodipodi:role=\"line\" x=\"647.07397\" y=\"245.42799\">40</tspan></text>\n    <text id=\"text3376\" style=\"font-size:20px;font-style:normal;font-variant:normal;font-weight:bold;font-stretch:normal;fill:#000000;fill-opacity:1;stroke:none;stroke-width:1px;stroke-linecap:butt;stroke-linejoin:miter;stroke-opacity:1;font-family:DejaVu Sans Condensed;-inkscape-font-specification:'DejaVu Sans Condensed, Bold'\" x=\"664.06708\" xml:space=\"preserve\" y=\"252.31599\"><tspan id=\"tspan3378\" sodipodi:role=\"line\" x=\"664.06708\" y=\"252.31599\">Ar</tspan></text>\n    <text id=\"text3380\" style=\"font-size:14px;font-style:normal;font-weight:bold;fill:#000000;fill-opacity:1;stroke:none;stroke-width:1px;stroke-linecap:butt;stroke-linejoin:miter;stroke-opacity:1;font-family:DejaVu Sans Condensed;-inkscape-font-specification:'DejaVu Sans Condensed, Bold';font-stretch:normal;font-variant:normal\" x=\"637.09802\" xml:space=\"preserve\" y=\"268.67401\"><tspan id=\"tspan3382\" sodipodi:role=\"line\" x=\"637.09802\" y=\"268.67401\">132</tspan></text>\n    <text id=\"text3384\" style=\"font-size:20px;font-style:normal;font-variant:normal;font-weight:bold;font-stretch:normal;fill:#000000;fill-opacity:1;stroke:none;stroke-width:1px;stroke-linecap:butt;stroke-linejoin:miter;stroke-opacity:1;font-family:DejaVu Sans Condensed;-inkscape-font-specification:'DejaVu Sans Condensed, Bold'\" x=\"664.06812\" xml:space=\"preserve\" y=\"277.76599\"><tspan id=\"tspan3386\" sodipodi:role=\"line\" x=\"664.06812\" y=\"277.76599\">Xe</tspan></text>\n    <text id=\"text3388\" style=\"font-size:20px;font-style:normal;font-weight:bold;fill:#000000;fill-opacity:1;stroke:none;stroke-width:1px;stroke-linecap:butt;stroke-linejoin:miter;stroke-opacity:1;font-family:DejaVu Sans Condensed;-inkscape-font-specification:'DejaVu Sans Condensed, Bold';font-stretch:normal;font-variant:normal\" transform=\"matrix(2.09308e-3,-0.999998,0.999998,2.09308e-3,0,0)\" x=\"-348.67001\" xml:space=\"preserve\" y=\"29.8694\"><tspan id=\"tspan3390\" sodipodi:role=\"line\" x=\"-348.67001\" y=\"29.8694\">Probability density (s/m)</tspan></text>\n    <text id=\"text3392\" style=\"font-size:20px;font-style:normal;font-weight:bold;fill:#000000;fill-opacity:1;stroke:none;stroke-width:1px;stroke-linecap:butt;stroke-linejoin:miter;stroke-opacity:1;font-family:DejaVu Sans Condensed;-inkscape-font-specification:'DejaVu Sans Condensed, Bold';font-stretch:normal;font-variant:normal\" x=\"284.28299\" xml:space=\"preserve\" y=\"446.83801\"><tspan id=\"tspan3394\" sodipodi:role=\"line\" x=\"284.28299\" y=\"446.83801\">Speed (m/s)</tspan></text>\n    <text id=\"text2239\" style=\"font-size:20px;font-style:normal;font-weight:bold;fill:#000000;fill-opacity:1;stroke:none;stroke-width:1px;stroke-linecap:butt;stroke-linejoin:miter;stroke-opacity:1;font-family:DejaVu Sans Condensed;-inkscape-font-specification:'DejaVu Sans Condensed, Bold';font-stretch:normal;font-variant:normal\" x=\"103.466\" xml:space=\"preserve\" y=\"404.53699\"><tspan id=\"tspan2241\" sodipodi:role=\"line\" x=\"103.466\" y=\"404.53699\">0</tspan></text>\n    <text id=\"text2243\" style=\"font-size:20px;font-style:normal;font-weight:bold;fill:#000000;fill-opacity:1;stroke:none;stroke-width:1px;stroke-linecap:butt;stroke-linejoin:miter;stroke-opacity:1;font-family:DejaVu Sans Condensed;-inkscape-font-specification:'DejaVu Sans Condensed, Bold';font-stretch:normal;font-variant:normal\" x=\"187.166\" xml:space=\"preserve\" y=\"404.53699\"><tspan id=\"tspan2245\" sodipodi:role=\"line\" x=\"187.166\" y=\"404.53699\">500</tspan></text>\n    <text id=\"text2247\" style=\"font-size:20px;font-style:normal;font-weight:bold;fill:#000000;fill-opacity:1;stroke:none;stroke-width:1px;stroke-linecap:butt;stroke-linejoin:miter;stroke-opacity:1;font-family:DejaVu Sans Condensed;-inkscape-font-specification:'DejaVu Sans Condensed, Bold';font-stretch:normal;font-variant:normal\" x=\"276.26599\" xml:space=\"preserve\" y=\"404.53699\"><tspan id=\"tspan2249\" sodipodi:role=\"line\" x=\"276.26599\" y=\"404.53699\">1000</tspan></text>\n    <text id=\"text2251\" style=\"font-size:20px;font-style:normal;font-weight:bold;fill:#000000;fill-opacity:1;stroke:none;stroke-width:1px;stroke-linecap:butt;stroke-linejoin:miter;stroke-opacity:1;font-family:DejaVu Sans Condensed;-inkscape-font-specification:'DejaVu Sans Condensed, Bold';font-stretch:normal;font-variant:normal\" x=\"370.16599\" xml:space=\"preserve\" y=\"404.53699\"><tspan id=\"tspan2253\" sodipodi:role=\"line\" x=\"370.16599\" y=\"404.53699\">1500</tspan></text>\n    <text id=\"text2255\" style=\"font-size:20px;font-style:normal;font-weight:bold;fill:#000000;fill-opacity:1;stroke:none;stroke-width:1px;stroke-linecap:butt;stroke-linejoin:miter;stroke-opacity:1;font-family:DejaVu Sans Condensed;-inkscape-font-specification:'DejaVu Sans Condensed, Bold';font-stretch:normal;font-variant:normal\" x=\"465.866\" xml:space=\"preserve\" y=\"404.53699\"><tspan id=\"tspan2257\" sodipodi:role=\"line\" x=\"465.866\" y=\"404.53699\">2000</tspan></text>\n    <text id=\"text2259\" style=\"font-size:20px;font-style:normal;font-weight:bold;fill:#000000;fill-opacity:1;stroke:none;stroke-width:1px;stroke-linecap:butt;stroke-linejoin:miter;stroke-opacity:1;font-family:DejaVu Sans Condensed;-inkscape-font-specification:'DejaVu Sans Condensed, Bold';font-stretch:normal;font-variant:normal\" x=\"560.86603\" xml:space=\"preserve\" y=\"404.53699\"><tspan id=\"tspan2261\" sodipodi:role=\"line\" x=\"560.86603\" y=\"404.53699\">2500</tspan></text>\n    <text id=\"text2474\" style=\"font-size:18px;font-style:normal;font-weight:bold;opacity:1;fill:#000000;fill-opacity:1;stroke:none;stroke-width:1px;stroke-linecap:butt;stroke-linejoin:miter;stroke-opacity:1;font-family:DejaVu Sans Condensed;-inkscape-font-specification:'DejaVu Sans Condensed, Bold';font-stretch:normal;font-variant:normal\" x=\"48.5714\" xml:space=\"preserve\" y=\"121.571\"><tspan id=\"tspan2476\" sodipodi:role=\"line\" x=\"48.5714\" y=\"121.571\">0.004</tspan></text>\n    <text id=\"text2478\" style=\"font-size:18px;font-style:normal;font-weight:bold;fill:#000000;fill-opacity:1;stroke:none;stroke-width:1px;stroke-linecap:butt;stroke-linejoin:miter;stroke-opacity:1;font-family:DejaVu Sans Condensed;-inkscape-font-specification:'DejaVu Sans Condensed, Bold';font-stretch:normal;font-variant:normal\" x=\"45.714298\" xml:space=\"preserve\" y=\"188.714\"><tspan id=\"tspan2480\" sodipodi:role=\"line\" x=\"45.714298\" y=\"188.714\">0.003</tspan></text>\n    <text id=\"text2482\" style=\"font-size:18px;font-style:normal;font-weight:bold;fill:#000000;fill-opacity:1;stroke:none;stroke-width:1px;stroke-linecap:butt;stroke-linejoin:miter;stroke-opacity:1;font-family:DejaVu Sans Condensed;-inkscape-font-specification:'DejaVu Sans Condensed, Bold';font-stretch:normal;font-variant:normal\" x=\"44.285702\" xml:space=\"preserve\" y=\"254.429\"><tspan id=\"tspan2484\" sodipodi:role=\"line\" x=\"44.285702\" y=\"254.429\">0.002</tspan></text>\n    <text id=\"text2486\" style=\"font-size:18px;font-style:normal;font-weight:bold;fill:#000000;fill-opacity:1;stroke:none;stroke-width:1px;stroke-linecap:butt;stroke-linejoin:miter;stroke-opacity:1;font-family:DejaVu Sans Condensed;-inkscape-font-specification:'DejaVu Sans Condensed, Bold';font-stretch:normal;font-variant:normal\" x=\"44.285702\" xml:space=\"preserve\" y=\"321.57101\"><tspan id=\"tspan2488\" sodipodi:role=\"line\" x=\"44.285702\" y=\"321.57101\">0.001</tspan></text>\n  </g>\n</svg>"
          },
          "metadata": {
            "tags": []
          }
        }
      ]
    },
    {
      "cell_type": "markdown",
      "metadata": {
        "id": "oqTcqp0V7mef"
      },
      "source": [
        "---\n",
        "\n",
        "- 基本的な導出方針は次の文献の p5　参照 https://arxiv.org/abs/1702.01411\n",
        "- 原著論文はこちら https://www.jstor.org/stable/108968"
      ]
    },
    {
      "cell_type": "markdown",
      "metadata": {
        "id": "KeA0dbiOb2qP"
      },
      "source": [
        "#### ボルツマン分布"
      ]
    },
    {
      "cell_type": "markdown",
      "metadata": {
        "id": "urWjjVtmDQpM"
      },
      "source": [
        "$$\n",
        "{\\displaystyle p_{i}\\propto e^{-{\\varepsilon _{i}}/{kT}}}\n",
        "$$\n",
        "\n",
        "<div>\n",
        "<img src=\"https://upload.wikimedia.org/wikipedia/commons/thumb/0/02/Exponential_probability_density.svg/600px-Exponential_probability_density.svg.png\" alt=\"https://en.wikipedia.org/wiki/Boltzmann_distribution\" align=\"center\" width=\"350\"/>\n",
        "</div>\n",
        "\n"
      ]
    },
    {
      "cell_type": "code",
      "metadata": {
        "id": "j-woOxcJd8eb",
        "colab": {
          "base_uri": "https://localhost:8080/",
          "height": 361
        },
        "cellView": "form",
        "outputId": "579d6a23-557c-4a4e-82ff-3ab0d6cf5282"
      },
      "source": [
        "#@title\n",
        "%%svg\n",
        "https://upload.wikimedia.org/wikipedia/commons/b/bd/Boltzmann_distribution_graph.svg"
      ],
      "execution_count": null,
      "outputs": [
        {
          "output_type": "display_data",
          "data": {
            "text/plain": [
              "<IPython.core.display.SVG object>"
            ],
            "image/svg+xml": "<svg height=\"340\" viewBox=\"0 0 390 272\" width=\"480\" xmlns=\"http://www.w3.org/2000/svg\" xmlns:xlink=\"http://www.w3.org/1999/xlink\">\n<rect fill=\"#FFF\" height=\"272\" width=\"390\"/>\n<g fill=\"none\" stroke=\"#000\">\n<path d=\"M48.3 40.67C93.36 17.82 178.84 14.06 243.9 13.41s64.16-.52 139.19-.77\" stroke=\"#00F\"/>\n<path d=\"M48.3 96.92C93.97 27.64 169.63 22.65 199.71 18.93s98.53-6.65 183.39-6.1\" stroke=\"#008000\"/>\n<path d=\"M61.9 235.75C84.14 150.81 111.76 83.69 170.06 47.76S328.75 14.81 383.09 13.49\" stroke=\"#F00\"/>\n<path d=\"M126.26 235.75c15.51-57.45 35.65-118.26 75.78-161.87S303.89 18.59 383.09 15.36\" stroke=\"#00BFBF\"/>\n<path d=\"M196.98 235.75C239.24 72.36 297.3 35.07 383.09 21.91\" stroke=\"#BF00BF\"/>\n<path d=\"M261.47 235.75C288.91 134.91 320.48 70.76 383.09 40.66\" stroke=\"#BFBF00\"/>\n<path d=\"M332.13 235.75c13.65-51.54 28.28-91.19 50.96-129.46\"/>\n<rect height=\"223.2\" width=\"334.8\" x=\"48.3\" y=\"12.55\"/>\n<g stroke-width=\".5\">\n<g id=\"gridV\">\n<path d=\"M88.99 235.75V12.55M112.79 235.75V12.55M129.67 235.75V12.55M142.77 235.75V12.55M153.47 235.75V12.55M162.52 235.75V12.55M170.36 235.75V12.55M177.27 235.75V12.55M183.46 235.75V12.55\" stroke-dasharray=\"1,3\"/>\n<path d=\"M88.99 12.55v2m0 219.2v2m23.8 0v-2m0-219.2v-2m16.88 0v2m0 219.2v2m13.1 0v-2m0-219.2v-2m10.7 0v2m0 219.2v2m9.05 0v-2m0-219.2v-2m7.84 0v2m0 219.2v2m6.91 0v-2m0-219.2v-2m6.19 0v4m0 215.2v4\"/>\n</g>\n<use x=\"135.15\" xlink:href=\"#gridV\"/>\n<path d=\"M359.3 235.75V12.55\" stroke-dasharray=\"1,3\"/>\n<path d=\"M359.3 12.55v2m0 219.2v2\"/>\n<g id=\"gridH2\">\n<g id=\"gridH\">\n<path d=\"M48.3 12.55H383.1M48.3 15.1H383.1M48.3 17.96H383.1M48.3 21.19H383.1M48.3 24.93H383.1M48.3 29.35H383.1M48.3 34.76H383.1M48.3 41.73H383.1M48.3 51.55H383.1\" stroke-dasharray=\"1,3\"/>\n<path d=\"M48.3 12.55h4m326.8 0h4m0 2.55h-2m-330.8 0h-2m0 2.86h2m330.8 0h2m0 3.23h-2m-330.8 0h-2m0 3.74h2m330.8 0h2m0 4.42h-2m-330.8 0h-2m0 5.41h2m330.8 0h2m0 6.97h-2m-330.8 0h-2m0 9.82h2m330.8 0h2\"/>\n</g>\n<use xlink:href=\"#gridH\" y=\"55.8\"/>\n</g>\n<use xlink:href=\"#gridH2\" y=\"111.6\"/>\n</g>\n</g>\n<g font-family=\"DejaVu Sans Condensed\" font-size=\"11\">\n<text x=\"68\" y=\"42\">1meV</text>\n<text x=\"68\" y=\"85.5\">3meV</text>\n<text x=\"79.5\" y=\"209.5\">10meV</text>\n<text x=\"143\" y=\"209.5\">30meV</text>\n<text x=\"211\" y=\"209.5\">100meV</text>\n<text x=\"274.5\" y=\"209.5\">300meV</text>\n<text x=\"353\" y=\"209.5\">1eV</text>\n<g text-anchor=\"middle\">\n<text x=\"216\" y=\"263\">Temperature [K]</text>\n<text transform=\"matrix(0,-1,1,0,15,124)\">F(E<tspan dy=\"2\" font-size=\"7\">2</tspan><tspan dy=\"-2\">)/F(E</tspan><tspan dy=\"2\" font-size=\"7\">1</tspan><tspan dy=\"-2\">)</tspan></text>\n<text x=\"47.3\" y=\"248.5\">10<tspan dy=\"-5\" font-size=\"7\">1</tspan></text>\n<text x=\"182.45\" y=\"248.5\">10<tspan dy=\"-5\" font-size=\"7\">2</tspan></text>\n<text x=\"317.6\" y=\"248.5\">10<tspan dy=\"-5\" font-size=\"7\">3</tspan></text>\n</g>\n<g text-anchor=\"end\">\n<text x=\"42\" y=\"16\">10<tspan dy=\"-5\" font-size=\"7\">0</tspan></text>\n<text x=\"42\" y=\"71.8\">10<tspan dy=\"-5\" font-size=\"7\">-1</tspan></text>\n<text x=\"42\" y=\"127.6\">10<tspan dy=\"-5\" font-size=\"7\">-2</tspan></text>\n<text x=\"42\" y=\"183.4\">10<tspan dy=\"-5\" font-size=\"7\">-3</tspan></text>\n<text x=\"42\" y=\"239.2\">10<tspan dy=\"-5\" font-size=\"7\">-4</tspan></text>\n</g>\n</g>\n</svg>"
          },
          "metadata": {
            "tags": []
          }
        }
      ]
    },
    {
      "cell_type": "markdown",
      "metadata": {
        "id": "Bpu1pw1DdBL0"
      },
      "source": [
        "### 平行自由行程"
      ]
    },
    {
      "cell_type": "markdown",
      "metadata": {
        "id": "vmr3LuB8dvGw"
      },
      "source": [
        "<div>\n",
        "<img src=\"https://upload.wikimedia.org/wikipedia/commons/a/a4/ParticleMeanFreePath.PNG\" alt=\"https://ja.wikipedia.org/wiki/%E5%B9%B3%E5%9D%87%E8%87%AA%E7%94%B1%E8%A1%8C%E7%A8%8B\" align=\"center\" width=\"200\"/>\n",
        "</div>"
      ]
    },
    {
      "cell_type": "markdown",
      "metadata": {
        "id": "N-MQ-94leCOX"
      },
      "source": [
        "最も簡単な条件\n",
        "\n",
        "- 二つの分子の半径が作る断面積 $\\pi d^2$\n",
        "- 距離 $L$ 進むと一回衝突する\n",
        "\n",
        "を用いると\n",
        "\n",
        "\\begin{align*}\n",
        "N (\\pi d^2 \\cdot L) &= 1\\\\\n",
        "L = \\dfrac{1}{\\pi N d^2}\n",
        "\\end{align*}\n",
        "\n",
        "---\n",
        "$N$: 単位体積あたりの粒子の個数\n"
      ]
    },
    {
      "cell_type": "markdown",
      "metadata": {
        "id": "uqvAG9bHq1c4"
      },
      "source": [
        "教科書ではこれに\n",
        "- 二つの粒子間の相対速度の自乗平均速度 $\\sqrt{<v_r^2>}=\\sqrt{2}\\sqrt{<v^2>}$\n",
        "\n",
        "を考慮しています。\n",
        "\\begin{align*}\n",
        "L = \\dfrac{1}{\\sqrt{2}\\pi N d^2}\n",
        "\\end{align*}\n",
        "\n",
        "---\n",
        "自乗平均速度\n",
        "\\begin{align}\n",
        "\\require{cancel}\n",
        "\\vec{v_r} = \\vec{v} - \\vec{v_0}, \\qquad\n",
        "&\n",
        "\\left|\\vec{v_r}\\right|^2\n",
        "= \\vec{v}^2 + \\vec{v_0}^2 - 2 \\vec{v}\\vec{v_0}\\\\\n",
        "%\n",
        "\\left<\\vec{v_r}^2\\right>\n",
        "&=\\left<\\vec{v}^2\\right> + \\left<\\vec{v_\\bcancel{0}}^2\\right>\n",
        "- 2 \\cancelto{0}{\\left<\\vec{v}\\vec{v_0}\\right>}\n",
        "= 2 \\left<\\vec{v}^2\\right>\n",
        "%\n",
        "%\\sqrt{\\dfrac{\\left<\\vec{v_r}^2\\right> }{\\left<\\vec{v}^2\\right>}} &= \\sqrt{2}\n",
        "\\end{align}"
      ]
    },
    {
      "cell_type": "markdown",
      "metadata": {
        "id": "slVU2BRselAb"
      },
      "source": [
        "### 理想気体の内部エネルギー"
      ]
    },
    {
      "cell_type": "markdown",
      "metadata": {
        "id": "4J1PMBIBBTrJ"
      },
      "source": [
        "#### (理想気体) 1つ の原子/分子の運動エネルギー $\\epsilon$\n",
        "\\begin{align*}\n",
        "\\epsilon &=  \\dfrac{1}{2} m \b<{v^2}> =  \\dfrac{3}{2} k_{\\rm B} T&\\\\\n",
        "&k_{\\rm B} = \\dfrac{R}{N_{\\rm A}}&\n",
        "\\end{align*}\n",
        "$k_{\\rm B}$:: ボルツマン定数\n",
        "\n",
        "この関係を拡張していきます.\n",
        "\n",
        "1. アボガドロ定数 $N_{\\rm A} = 6.02 \\times 10^{23} {\\rm\\ 個/1\\ mol}$\n",
        "1. ${\\rm1\\ mol}$ の物質量(集団)の中には,\n",
        "$6.02 \\times 10^{23} {\\rm\\ 個}$ の分子が存在\n",
        "  - *一つの点で表せる* **理想気体**なので, 大きさも無視します\n",
        "  - 相互作用も無視して構いません"
      ]
    },
    {
      "cell_type": "markdown",
      "metadata": {
        "id": "xRmx8fXDtgTP"
      },
      "source": [
        "####  $n {\\rm\\ mol}$ の(理想気体) が持つ運動エネルギーの総和 $K$\n",
        "\n",
        "$\\require{cancel}$\n",
        "容器の中には,\n",
        "1. 物質量として $n\\ {\\rm mol}$ の理想気体分子が存在\n",
        "1. 全体の分子の個数 $N$ は, アボガドロ数 $N_{\\rm A}$ を掛けて: $\\qquad N= n \\cdot N_{\\rm A}$\n",
        "1. 絶対温度 $T$ で, **1つの原子/分子が持つ** 運動エネルギー: $\\epsilon = \\dfrac{1}{2} m \\bar{v^2} = \\dfrac{3}{2} k_{\\rm B}T$  \n",
        "絶対温度のみに依存\n",
        "\n",
        "よって\n",
        "> 絶対温度 $T$ の環境下で, 物質量 $n\\ {\\rm mol}$ の理想気体の  \n",
        "容器の中の運動エネルギーの総和:\n",
        "\\begin{align*}\n",
        "K&= N \\cdot \\epsilon = n  N_{\\rm A} \\cdot \\epsilon&\\\\\n",
        "&= n  N_{\\rm A} \\left(\\dfrac{3}{2} k_{\\rm B}T\\right)&\\\\\n",
        "&= n  \\bcancel{N_{\\rm A}} \\left(\\dfrac{3}{2} \\dfrac{R}{\\bcancel{N_{\\rm A}}}T\\right)\n",
        "= n \\dfrac{3}{2} R T&\n",
        "\\end{align*}\n",
        "\n",
        "\n",
        "この考察から,\n",
        "\n",
        ">> 絶対温度 $T$ の環境下で, 物質量 $n\\ {\\rm mol}$ の理想気体が持つ  \n",
        "運動エネルギーの総和 $K$ は, **絶対温度 $T$ のみによって決まり**\n",
        "\\begin{align*}\n",
        "K &=  n \\dfrac{3}{2} R T&\n",
        "\\end{align*}\n",
        "\n",
        "となることがわかりました."
      ]
    },
    {
      "cell_type": "markdown",
      "metadata": {
        "id": "flOhirevx5ef"
      },
      "source": [
        "### 理想気体の内部エネルギー $U$"
      ]
    },
    {
      "cell_type": "markdown",
      "metadata": {
        "id": "OB6ptncXKoaW"
      },
      "source": [
        "#### 復習: 力学的エネルギー $E$\n",
        "\n",
        "> 力学的エネルギー = 運動エネルギー +  位置エネルギー\n",
        "\\begin{align*}\n",
        "E \\quad\n",
        "&= \\quad K \\quad  + \\quad U&\\\\\n",
        "&= \\quad E_K \\quad  + \\quad U&\\\\\n",
        "&= \\quad \\dfrac{1}{2} m v^2 \\quad  + \\quad mgh&\\\\\n",
        "&= \\quad \\dfrac{1}{2} m v^2 \\quad  + \\quad \\dfrac{1}{2} k x^2&\\\\\n",
        "&= \\quad \\dfrac{1}{2} m v^2 \\quad  + \\quad \\left( mgh+ \\dfrac{1}{2} k x^2\\right)&\\\\\n",
        "\\end{align*}\n",
        "\n",
        "などがありました. 覚えていますか?\n"
      ]
    },
    {
      "cell_type": "markdown",
      "metadata": {
        "id": "m9-FmPv6MsQv"
      },
      "source": [
        "#### 理想気体の力学的エネルギー $\\cancelto{U}{E}$"
      ]
    },
    {
      "cell_type": "code",
      "metadata": {
        "cellView": "form",
        "id": "hRDF4xFxMym6",
        "colab": {
          "base_uri": "https://localhost:8080/",
          "height": 475
        },
        "outputId": "2d9a243e-ff60-430a-a623-351ebbf42c1a"
      },
      "source": [
        "#@title 理想気体の相互作用\n",
        "%%html\n",
        "<iframe src=\"https://phet.colorado.edu/sims/html/gas-properties/latest/gas-properties_en.html\" width=\"600\" height=\"450\" scrolling=\"no\" allowfullscreen></iframe>"
      ],
      "execution_count": null,
      "outputs": [
        {
          "output_type": "display_data",
          "data": {
            "text/html": [
              "<iframe src=\"https://phet.colorado.edu/sims/html/gas-properties/latest/gas-properties_en.html\" width=\"600\" height=\"450\" scrolling=\"no\" allowfullscreen></iframe>"
            ],
            "text/plain": [
              "<IPython.core.display.HTML object>"
            ]
          },
          "metadata": {
            "tags": []
          }
        }
      ]
    },
    {
      "cell_type": "markdown",
      "metadata": {
        "id": "3FJJMivEKqnF"
      },
      "source": [
        "\n",
        "理想気体では, 相互作用(お互いが引きあったりすること)がないので,\n",
        "位置エネルギーの効果がなくなります.\n",
        "\\begin{align*}\n",
        "E \\quad\n",
        "&= \\quad K \\quad  + \\quad \\cancelto{0}{U}&\n",
        "\\end{align*}\n",
        "\n",
        "つまり理想気体では,\n",
        "> 運動エネルギーを考えれば, 力学的エネルギーが表現できる\n",
        "\n",
        "ことになります.\n",
        "\n",
        "理想気体では, 容器の中で多数の気体原子や分子が飛び交っており,    \n",
        "石がガラスにぶつかるように運動エネルギーから他の物体に  \n",
        "直接仕事を加えることはできません.   \n",
        "\n",
        "そこで容器内の運動エネルギーを  \n",
        "容器にある気体分子の状態 **内部エネルギー $U$** を表現する量に置き換えることにします.\n",
        "\n",
        "\\begin{align*}\n",
        "\\cancelto{U}{E} \\quad\n",
        "&= \\quad K \\quad  + \\quad \\cancelto{0}{U}&\n",
        "\\end{align*}\n",
        "\n",
        "これらの考察から, 絶対温度 $T$ で $n {\\rm\\  mol}$ の  \n",
        "理想気体が持つ内部エネルギー $U$ は  \n",
        "> \\begin{align*}\n",
        "U &= n \\dfrac{3}{2}R T\n",
        "\\end{align*}\n",
        "\n",
        "となり,\n",
        "\n",
        "> (絶対)温度 $T$ はその気体の持つ内部エネルギー $U$ に比例している\n",
        "\n",
        "ことがわかります. また *理想気体であれば*\n",
        "\n",
        ">> (絶対)温度 $T$ によって内部エネルギーを指定することができる\n",
        "\n",
        "といえます."
      ]
    },
    {
      "cell_type": "code",
      "metadata": {
        "id": "pcZ4amj8ODVU",
        "cellView": "form",
        "colab": {
          "base_uri": "https://localhost:8080/",
          "height": 162
        },
        "outputId": "0909d6f6-933d-4341-8343-5b111aaa5d5e"
      },
      "source": [
        "#@title 内部エネルギーの変化は絶対温度だけで決まります\n",
        "%%svg\n",
        "<svg xmlns=\"http://www.w3.org/2000/svg\" xmlns:xlink=\"http://www.w3.org/1999/xlink\" version=\"1.1\" width=\"381px\" viewBox=\"-0.5 -0.5 381 141\" content=\"&lt;mxfile host=&quot;app.diagrams.net&quot; modified=&quot;2020-06-18T11:49:07.717Z&quot; agent=&quot;5.0 (Macintosh; Intel Mac OS X 10_15_5) AppleWebKit/537.36 (KHTML, like Gecko) Chrome/83.0.4103.97 Safari/537.36&quot; etag=&quot;lGCrGhO4hZUz8hstJ_u-&quot; version=&quot;13.2.6&quot; type=&quot;google&quot;&gt;&lt;diagram id=&quot;AvyVPRUh3zMHWMHEv4ot&quot; name=&quot;Page-1&quot;&gt;7VdNc9sgEP01HNOxkfXho+046aGdycSdtM0NA5KYYqEiFCv99UURSEKyGzt1J5d6PDa8XRbYfQ8k4K121a1EefpZEMoBnJAKeNcAwhBCUH8n5LkB/Nm8ARLJSANNO2DDflEDTgxaMkILx1EJwRXLXRCLLKNYORiSUuxdt1hwd9YcJXQEbDDiY/QrIypt0AiGHf6RsiS1M08Ds78dss5mJ0WKiNj3IG8NvJUUQjWtXbWivM6dzUsz7uaItV2YpJk6ZcCjf5fdbB6+3xfbOcPlp/DbPbwyUZ4QL82GAQy4jreMhQ6rV62eTSqCn6WwhqvipVAL7TCN8qoz1ilG2B1wS4VMGOo7BYn570+FBRfSGQmgN59jHMfHxzILPFhEZ4ANvYpya6FJz68HA7gCcDKKendiVPGHqK2h2ae1jCf78rdbODITdOoINS20enRnuU+Zopu8Kdhe61djqdpx3ZvWdWGcr9qieATRKMb1UpQUP2jPEuCIbuN2rj4nLcGoVLTqQYajmhs7quSzdrEnhpGLOS+mkenvO/VNraTSnvKsHzKCT9rInSZ0w8jiDInA1yRyCuHP19HpEonjuf68XSLnEL/vO+LZOXS+GElRkTfnfswqSsasjSNM8UHWbiN/5k8uw1rPG9A2OJG2LXhx3noHeDtIsr6S8roZc1ot6stSJ4NmxDSvMUdFwbCb76PJosS5Scep6qXCP5AJi0nKkWJP7v17KDtmhjvBXrRhKtE+OZhKwGGCC1FKTM2o/n05COS9FkghmVA1CvRSrHbbb69f+K5X89oHixBEuqF/F2AZgHUAIr9GTlSwVo5yqeMqMBMZHcjVQIizJKv5pylGNb6sdcj0M9nCGHaMEH7sbJCizEh9ElxfSNsR/OC/Ku65P2b0P5N29L7UCMFSEwH+pwb0/AEzZmNmhAfOujcwQ3e7d4XmjOleuLz1bw==&lt;/diagram&gt;&lt;/mxfile&gt;\" onclick=\"(function(svg){var src=window.event.target||window.event.srcElement;while (src!=null&amp;&amp;src.nodeName.toLowerCase()!='a'){src=src.parentNode;}if(src==null){if(svg.wnd!=null&amp;&amp;!svg.wnd.closed){svg.wnd.focus();}else{var r=function(evt){if(evt.data=='ready'&amp;&amp;evt.source==svg.wnd){svg.wnd.postMessage(decodeURIComponent(svg.getAttribute('content')),'*');window.removeEventListener('message',r);}};window.addEventListener('message',r);svg.wnd=window.open('https://app.diagrams.net/?client=1&amp;lightbox=1&amp;edit=_blank');}}})(this);\" style=\"cursor:pointer;max-width:100%;max-height:141px;\"><defs/><g><ellipse cx=\"60\" cy=\"80\" rx=\"60\" ry=\"40\" fill=\"#dae8fc\" stroke=\"#6c8ebf\" pointer-events=\"all\"/><g transform=\"translate(-0.5 -0.5)\"><switch><foreignObject style=\"overflow: visible; text-align: left;\" pointer-events=\"none\" width=\"100%\" height=\"100%\" requiredFeatures=\"http://www.w3.org/TR/SVG11/feature#Extensibility\"><div xmlns=\"http://www.w3.org/1999/xhtml\" style=\"display: flex; align-items: unsafe center; justify-content: unsafe center; width: 118px; height: 1px; padding-top: 80px; margin-left: 1px;\"><div style=\"box-sizing: border-box; font-size: 0; text-align: center; \"><div style=\"display: inline-block; font-size: 12px; font-family: Helvetica; color: #000000; line-height: 1.2; pointer-events: all; white-space: normal; word-wrap: normal; \"><font style=\"font-size: 18px\" face=\"Georgia\"><font color=\"#99ccff\"><i>V</i><sub>0</sub>, <i>P</i><sub>o</sub>,</font> <i>T</i><sub>0</sub></font></div></div></div></foreignObject><text x=\"60\" y=\"84\" fill=\"#000000\" font-family=\"Helvetica\" font-size=\"12px\" text-anchor=\"middle\">V0, Po, T0</text></switch></g><ellipse cx=\"320\" cy=\"80\" rx=\"60\" ry=\"60\" fill=\"#f8cecc\" stroke=\"#b85450\" pointer-events=\"all\"/><g transform=\"translate(-0.5 -0.5)\"><switch><foreignObject style=\"overflow: visible; text-align: left;\" pointer-events=\"none\" width=\"100%\" height=\"100%\" requiredFeatures=\"http://www.w3.org/TR/SVG11/feature#Extensibility\"><div xmlns=\"http://www.w3.org/1999/xhtml\" style=\"display: flex; align-items: unsafe center; justify-content: unsafe center; width: 118px; height: 1px; padding-top: 80px; margin-left: 261px;\"><div style=\"box-sizing: border-box; font-size: 0; text-align: center; \"><div style=\"display: inline-block; font-size: 12px; font-family: Helvetica; color: #000000; line-height: 1.2; pointer-events: all; white-space: normal; word-wrap: normal; \"><font face=\"Georgia\" style=\"font-size: 18px\"><font color=\"#ff9999\"><i>V</i>, <i>P</i>, </font><i>T</i></font></div></div></div></foreignObject><text x=\"320\" y=\"84\" fill=\"#000000\" font-family=\"Helvetica\" font-size=\"12px\" text-anchor=\"middle\">V, P, T</text></switch></g><path d=\"M 140.5 85 L 140.5 75 L 220.5 75 L 220.5 64.5 L 239.5 80 L 220.5 95.5 L 220.5 85 Z\" fill=\"none\" stroke=\"#000000\" stroke-linejoin=\"round\" stroke-miterlimit=\"10\" pointer-events=\"all\"/><rect x=\"12.5\" y=\"20\" width=\"95\" height=\"20\" fill=\"none\" stroke=\"none\" pointer-events=\"all\"/><g transform=\"translate(-0.5 -0.5)\"><switch><foreignObject style=\"overflow: visible; text-align: left;\" pointer-events=\"none\" width=\"100%\" height=\"100%\" requiredFeatures=\"http://www.w3.org/TR/SVG11/feature#Extensibility\"><div xmlns=\"http://www.w3.org/1999/xhtml\" style=\"display: flex; align-items: unsafe center; justify-content: unsafe center; width: 93px; height: 1px; padding-top: 30px; margin-left: 14px;\"><div style=\"box-sizing: border-box; font-size: 0; text-align: center; \"><div style=\"display: inline-block; font-size: 12px; font-family: Helvetica; color: #000000; line-height: 1.2; pointer-events: all; white-space: normal; word-wrap: normal; \"><font style=\"font-size: 18px\" face=\"Georgia\">始状態</font></div></div></div></foreignObject><text x=\"60\" y=\"34\" fill=\"#000000\" font-family=\"Helvetica\" font-size=\"12px\" text-anchor=\"middle\">始状態</text></switch></g><rect x=\"285\" y=\"0\" width=\"70\" height=\"20\" fill=\"none\" stroke=\"none\" pointer-events=\"all\"/><g transform=\"translate(-0.5 -0.5)\"><switch><foreignObject style=\"overflow: visible; text-align: left;\" pointer-events=\"none\" width=\"100%\" height=\"100%\" requiredFeatures=\"http://www.w3.org/TR/SVG11/feature#Extensibility\"><div xmlns=\"http://www.w3.org/1999/xhtml\" style=\"display: flex; align-items: unsafe center; justify-content: unsafe center; width: 68px; height: 1px; padding-top: 10px; margin-left: 286px;\"><div style=\"box-sizing: border-box; font-size: 0; text-align: center; \"><div style=\"display: inline-block; font-size: 12px; font-family: Helvetica; color: #000000; line-height: 1.2; pointer-events: all; white-space: normal; word-wrap: normal; \"><font style=\"font-size: 18px\" face=\"Georgia\">終状態</font></div></div></div></foreignObject><text x=\"320\" y=\"14\" fill=\"#000000\" font-family=\"Helvetica\" font-size=\"12px\" text-anchor=\"middle\">終状態</text></switch></g></g><switch><g requiredFeatures=\"http://www.w3.org/TR/SVG11/feature#Extensibility\"/><a transform=\"translate(0,-5)\" xlink:href=\"https://desk.draw.io/support/solutions/articles/16000042487\" target=\"_blank\"><text text-anchor=\"middle\" font-size=\"10px\" x=\"50%\" y=\"100%\">Viewer does not support full SVG 1.1</text></a></switch></svg>"
      ],
      "execution_count": null,
      "outputs": [
        {
          "output_type": "display_data",
          "data": {
            "text/plain": [
              "<IPython.core.display.SVG object>"
            ],
            "image/svg+xml": "<svg content=\"&lt;mxfile host=&quot;app.diagrams.net&quot; modified=&quot;2020-06-18T11:49:07.717Z&quot; agent=&quot;5.0 (Macintosh; Intel Mac OS X 10_15_5) AppleWebKit/537.36 (KHTML, like Gecko) Chrome/83.0.4103.97 Safari/537.36&quot; etag=&quot;lGCrGhO4hZUz8hstJ_u-&quot; version=&quot;13.2.6&quot; type=&quot;google&quot;&gt;&lt;diagram id=&quot;AvyVPRUh3zMHWMHEv4ot&quot; name=&quot;Page-1&quot;&gt;7VdNc9sgEP01HNOxkfXho+046aGdycSdtM0NA5KYYqEiFCv99UURSEKyGzt1J5d6PDa8XRbYfQ8k4K121a1EefpZEMoBnJAKeNcAwhBCUH8n5LkB/Nm8ARLJSANNO2DDflEDTgxaMkILx1EJwRXLXRCLLKNYORiSUuxdt1hwd9YcJXQEbDDiY/QrIypt0AiGHf6RsiS1M08Ds78dss5mJ0WKiNj3IG8NvJUUQjWtXbWivM6dzUsz7uaItV2YpJk6ZcCjf5fdbB6+3xfbOcPlp/DbPbwyUZ4QL82GAQy4jreMhQ6rV62eTSqCn6WwhqvipVAL7TCN8qoz1ilG2B1wS4VMGOo7BYn570+FBRfSGQmgN59jHMfHxzILPFhEZ4ANvYpya6FJz68HA7gCcDKKendiVPGHqK2h2ae1jCf78rdbODITdOoINS20enRnuU+Zopu8Kdhe61djqdpx3ZvWdWGcr9qieATRKMb1UpQUP2jPEuCIbuN2rj4nLcGoVLTqQYajmhs7quSzdrEnhpGLOS+mkenvO/VNraTSnvKsHzKCT9rInSZ0w8jiDInA1yRyCuHP19HpEonjuf68XSLnEL/vO+LZOXS+GElRkTfnfswqSsasjSNM8UHWbiN/5k8uw1rPG9A2OJG2LXhx3noHeDtIsr6S8roZc1ot6stSJ4NmxDSvMUdFwbCb76PJosS5Scep6qXCP5AJi0nKkWJP7v17KDtmhjvBXrRhKtE+OZhKwGGCC1FKTM2o/n05COS9FkghmVA1CvRSrHbbb69f+K5X89oHixBEuqF/F2AZgHUAIr9GTlSwVo5yqeMqMBMZHcjVQIizJKv5pylGNb6sdcj0M9nCGHaMEH7sbJCizEh9ElxfSNsR/OC/Ku65P2b0P5N29L7UCMFSEwH+pwb0/AEzZmNmhAfOujcwQ3e7d4XmjOleuLz1bw==&lt;/diagram&gt;&lt;/mxfile&gt;\" onclick=\"(function(svg){var src=window.event.target||window.event.srcElement;while (src!=null&amp;&amp;src.nodeName.toLowerCase()!='a'){src=src.parentNode;}if(src==null){if(svg.wnd!=null&amp;&amp;!svg.wnd.closed){svg.wnd.focus();}else{var r=function(evt){if(evt.data=='ready'&amp;&amp;evt.source==svg.wnd){svg.wnd.postMessage(decodeURIComponent(svg.getAttribute('content')),'*');window.removeEventListener('message',r);}};window.addEventListener('message',r);svg.wnd=window.open('https://app.diagrams.net/?client=1&amp;lightbox=1&amp;edit=_blank');}}})(this);\" style=\"cursor:pointer;max-width:100%;max-height:141px;\" version=\"1.1\" viewBox=\"-0.5 -0.5 381 141\" width=\"381px\" xmlns=\"http://www.w3.org/2000/svg\" xmlns:xlink=\"http://www.w3.org/1999/xlink\"><defs/><g><ellipse cx=\"60\" cy=\"80\" fill=\"#dae8fc\" pointer-events=\"all\" rx=\"60\" ry=\"40\" stroke=\"#6c8ebf\"/><g transform=\"translate(-0.5 -0.5)\"><switch><foreignObject height=\"100%\" pointer-events=\"none\" requiredFeatures=\"http://www.w3.org/TR/SVG11/feature#Extensibility\" style=\"overflow: visible; text-align: left;\" width=\"100%\"><div style=\"display: flex; align-items: unsafe center; justify-content: unsafe center; width: 118px; height: 1px; padding-top: 80px; margin-left: 1px;\" xmlns=\"http://www.w3.org/1999/xhtml\"><div style=\"box-sizing: border-box; font-size: 0; text-align: center; \"><div style=\"display: inline-block; font-size: 12px; font-family: Helvetica; color: #000000; line-height: 1.2; pointer-events: all; white-space: normal; word-wrap: normal; \"><font face=\"Georgia\" style=\"font-size: 18px\"><font color=\"#99ccff\"><i>V</i><sub>0</sub>, <i>P</i><sub>o</sub>,</font> <i>T</i><sub>0</sub></font></div></div></div></foreignObject><text fill=\"#000000\" font-family=\"Helvetica\" font-size=\"12px\" text-anchor=\"middle\" x=\"60\" y=\"84\">V0, Po, T0</text></switch></g><ellipse cx=\"320\" cy=\"80\" fill=\"#f8cecc\" pointer-events=\"all\" rx=\"60\" ry=\"60\" stroke=\"#b85450\"/><g transform=\"translate(-0.5 -0.5)\"><switch><foreignObject height=\"100%\" pointer-events=\"none\" requiredFeatures=\"http://www.w3.org/TR/SVG11/feature#Extensibility\" style=\"overflow: visible; text-align: left;\" width=\"100%\"><div style=\"display: flex; align-items: unsafe center; justify-content: unsafe center; width: 118px; height: 1px; padding-top: 80px; margin-left: 261px;\" xmlns=\"http://www.w3.org/1999/xhtml\"><div style=\"box-sizing: border-box; font-size: 0; text-align: center; \"><div style=\"display: inline-block; font-size: 12px; font-family: Helvetica; color: #000000; line-height: 1.2; pointer-events: all; white-space: normal; word-wrap: normal; \"><font face=\"Georgia\" style=\"font-size: 18px\"><font color=\"#ff9999\"><i>V</i>, <i>P</i>, </font><i>T</i></font></div></div></div></foreignObject><text fill=\"#000000\" font-family=\"Helvetica\" font-size=\"12px\" text-anchor=\"middle\" x=\"320\" y=\"84\">V, P, T</text></switch></g><path d=\"M 140.5 85 L 140.5 75 L 220.5 75 L 220.5 64.5 L 239.5 80 L 220.5 95.5 L 220.5 85 Z\" fill=\"none\" pointer-events=\"all\" stroke=\"#000000\" stroke-linejoin=\"round\" stroke-miterlimit=\"10\"/><rect fill=\"none\" height=\"20\" pointer-events=\"all\" stroke=\"none\" width=\"95\" x=\"12.5\" y=\"20\"/><g transform=\"translate(-0.5 -0.5)\"><switch><foreignObject height=\"100%\" pointer-events=\"none\" requiredFeatures=\"http://www.w3.org/TR/SVG11/feature#Extensibility\" style=\"overflow: visible; text-align: left;\" width=\"100%\"><div style=\"display: flex; align-items: unsafe center; justify-content: unsafe center; width: 93px; height: 1px; padding-top: 30px; margin-left: 14px;\" xmlns=\"http://www.w3.org/1999/xhtml\"><div style=\"box-sizing: border-box; font-size: 0; text-align: center; \"><div style=\"display: inline-block; font-size: 12px; font-family: Helvetica; color: #000000; line-height: 1.2; pointer-events: all; white-space: normal; word-wrap: normal; \"><font face=\"Georgia\" style=\"font-size: 18px\">始状態</font></div></div></div></foreignObject><text fill=\"#000000\" font-family=\"Helvetica\" font-size=\"12px\" text-anchor=\"middle\" x=\"60\" y=\"34\">始状態</text></switch></g><rect fill=\"none\" height=\"20\" pointer-events=\"all\" stroke=\"none\" width=\"70\" x=\"285\" y=\"0\"/><g transform=\"translate(-0.5 -0.5)\"><switch><foreignObject height=\"100%\" pointer-events=\"none\" requiredFeatures=\"http://www.w3.org/TR/SVG11/feature#Extensibility\" style=\"overflow: visible; text-align: left;\" width=\"100%\"><div style=\"display: flex; align-items: unsafe center; justify-content: unsafe center; width: 68px; height: 1px; padding-top: 10px; margin-left: 286px;\" xmlns=\"http://www.w3.org/1999/xhtml\"><div style=\"box-sizing: border-box; font-size: 0; text-align: center; \"><div style=\"display: inline-block; font-size: 12px; font-family: Helvetica; color: #000000; line-height: 1.2; pointer-events: all; white-space: normal; word-wrap: normal; \"><font face=\"Georgia\" style=\"font-size: 18px\">終状態</font></div></div></div></foreignObject><text fill=\"#000000\" font-family=\"Helvetica\" font-size=\"12px\" text-anchor=\"middle\" x=\"320\" y=\"14\">終状態</text></switch></g></g><switch><g requiredFeatures=\"http://www.w3.org/TR/SVG11/feature#Extensibility\"/><a target=\"_blank\" transform=\"translate(0,-5)\" xlink:href=\"https://desk.draw.io/support/solutions/articles/16000042487\"><text font-size=\"10px\" text-anchor=\"middle\" x=\"50%\" y=\"100%\">Viewer does not support full SVG 1.1</text></a></switch></svg>"
          },
          "metadata": {
            "tags": []
          }
        }
      ]
    },
    {
      "cell_type": "markdown",
      "metadata": {
        "id": "9i958OeDQT3a"
      },
      "source": [
        "#### 状態変化の基本\n",
        "> 状態変化 = 後状態 - 初期状態"
      ]
    },
    {
      "cell_type": "markdown",
      "metadata": {
        "id": "311ZgLIZQ364"
      },
      "source": [
        "#### $\\Delta U$: 内部エネルギー変化\n",
        "(理想気体の)内部エネルギー変化 $\\Delta U$\n",
        "\n",
        "> \\begin{align*}\n",
        "\\Delta U &= U_{\\text{終状態}} - U_{\\text{始状態}}&\\\\\n",
        "&=n \\dfrac{3}{2} R T - n \\dfrac{3}{2} R T_0&\\\\\n",
        "&=n \\dfrac{3}{2} R \\left( T-T_0\\right)&\n",
        "\\end{align*}\n",
        "\n",
        ">> \\begin{align*}\n",
        "\\Delta U &=n \\dfrac{3}{2} R \\Delta T&\n",
        "\\end{align*}"
      ]
    },
    {
      "cell_type": "markdown",
      "metadata": {
        "id": "bD97_PdwR6tg"
      },
      "source": [
        "### 実在気体への準備\n",
        "\n",
        "単原子分子と二原子分子 ~ 多原子分子への移行"
      ]
    },
    {
      "cell_type": "code",
      "source": [
        "#@title real molecule\n",
        "%%html\n",
        "<iframe src=\"https://phet.colorado.edu/sims/html/states-of-matter/latest/states-of-matter_en.html\"\n",
        "        width=\"600\"\n",
        "        height=\"400\"\n",
        "        allowfullscreen>\n",
        "</iframe>"
      ],
      "metadata": {
        "cellView": "form",
        "id": "y5zFmm5gDUF5",
        "outputId": "3de755cc-6ce1-400a-90ae-597197433041",
        "colab": {
          "base_uri": "https://localhost:8080/",
          "height": 425
        }
      },
      "execution_count": 6,
      "outputs": [
        {
          "output_type": "display_data",
          "data": {
            "text/plain": [
              "<IPython.core.display.HTML object>"
            ],
            "text/html": [
              "<iframe src=\"https://phet.colorado.edu/sims/html/states-of-matter/latest/states-of-matter_en.html\"\n",
              "        width=\"600\"\n",
              "        height=\"400\"\n",
              "        allowfullscreen>\n",
              "</iframe>\n"
            ]
          },
          "metadata": {}
        }
      ]
    },
    {
      "cell_type": "markdown",
      "metadata": {
        "id": "xLrlI6g2Sp5r"
      },
      "source": [
        "#### 単原子分子\n",
        "\n",
        "これまでこれまで考えてきたのは, 質点一点だけで表される原子や分子で\n",
        "> **単原子分子**\n",
        "\n",
        "と呼ばれます. 考察を簡単にするために, 単原子分子とみなして理想気体を考えるとき\n",
        "\n",
        "> **単原子分子の理想気体**\n",
        "\n",
        "とも言います.\n"
      ]
    },
    {
      "cell_type": "markdown",
      "metadata": {
        "id": "7mmMyx9xS_5y"
      },
      "source": [
        "$\\require{mhchem}$\n",
        "#### 二原子分子\n",
        "\n",
        "身近な $\\ce{O2}, \\ce{N2}, \\ce{H2}$ は二つの元素が  \n",
        "結びついた下の図のような形をしています.\n",
        "\n",
        "![https://en.wikipedia.org/wiki/Diatomic_molecule](https://upload.wikimedia.org/wikipedia/commons/thumb/2/20/Dinitrogen-3D-vdW.png/317px-Dinitrogen-3D-vdW.png)\n"
      ]
    },
    {
      "cell_type": "markdown",
      "metadata": {
        "id": "T7vg_9QGUwz9"
      },
      "source": [
        "$\\require{mhchem}$\n",
        "#### 三原子分子\n",
        "\n",
        "身近な $\\ce{O3}, \\ce{H2O}$ は三つの元素が  \n",
        "結びついた下の図のような形をしています.\n",
        "\n",
        "![https://upload.wikimedia.org/wikipedia/commons/thumb/1/1e/Ozone-CRC-MW-3D-vdW.png/320px-Ozone-CRC-MW-3D-vdW.png](https://upload.wikimedia.org/wikipedia/commons/thumb/1/1e/Ozone-CRC-MW-3D-vdW.png/320px-Ozone-CRC-MW-3D-vdW.png)\n"
      ]
    },
    {
      "cell_type": "markdown",
      "metadata": {
        "id": "Tg-_PWv2VY0O"
      },
      "source": [
        "#### 多原子分子\n",
        "\n",
        "##### 単原子分子と多原子分子の大きな違い\n",
        "\n",
        "> 単原子分子では, 一つの質点として考えてきたので,   \n",
        "*分子の回転* を**無視できました**\n",
        "\n",
        ">> 多原子分子では, 複数の分子が距離を持って配置しているため,  \n",
        "*分子の回転* を**無視することができません**\n",
        "\n",
        "単原子分子と多原子分子では, 回転の要素を考える必要が生じます."
      ]
    },
    {
      "cell_type": "markdown",
      "metadata": {
        "id": "VjqRsxnxwPIW"
      },
      "source": [
        "### 二原子分子の自由度と内部エネルギー\n",
        "\n"
      ]
    },
    {
      "cell_type": "markdown",
      "metadata": {
        "id": "bb47cMqjzCCk"
      },
      "source": [
        "![https://en.wikipedia.org/wiki/Diatomic_molecule](https://upload.wikimedia.org/wikipedia/commons/thumb/2/20/Dinitrogen-3D-vdW.png/317px-Dinitrogen-3D-vdW.png)\n",
        "\n",
        "![https://phys.libretexts.org/Courses/University_of_California_Davis/UCD%3A_Physics_9B_%E2%80%93_Waves%2C_Sound%2C_Optics%2C_Thermodynamics%2C_and_Fluids/5%3A_Fundamentals_of_Thermodynamics/5.6%3A_Equipartition_of_Energy](https://phys.libretexts.org/@api/deki/files/16088/diatomic_molecule_axes.png?revision=1)"
      ]
    },
    {
      "cell_type": "markdown",
      "metadata": {
        "id": "Di-6FjxJ0S6z"
      },
      "source": [
        "もっとも簡潔な条件として\n",
        "- 両端の原子分子も質点とする\n",
        "- 二原子分子の重心の **回転のみ** 扱う\n",
        "- 二原子分子の分子間の *振動は無視する*\n",
        "\n",
        "こととします."
      ]
    },
    {
      "cell_type": "code",
      "metadata": {
        "cellView": "form",
        "id": "LY4hHpzGJa8d",
        "colab": {
          "base_uri": "https://localhost:8080/",
          "height": 475
        },
        "outputId": "984b82ec-3159-4437-c25c-0588a42c640c"
      },
      "source": [
        "#@title 二原子分子の運動エネルギー: State > Oxygen in Gas\n",
        "%%html\n",
        "<iframe src=\"https://phet.colorado.edu/sims/html/states-of-matter-basics/latest/states-of-matter-basics_en.html\" width=\"600\" height=\"450\" scrolling=\"no\" allowfullscreen></iframe>"
      ],
      "execution_count": null,
      "outputs": [
        {
          "output_type": "display_data",
          "data": {
            "text/html": [
              "<iframe src=\"https://phet.colorado.edu/sims/html/states-of-matter-basics/latest/states-of-matter-basics_en.html\" width=\"600\" height=\"450\" scrolling=\"no\" allowfullscreen></iframe>"
            ],
            "text/plain": [
              "<IPython.core.display.HTML object>"
            ]
          },
          "metadata": {
            "tags": []
          }
        }
      ]
    },
    {
      "cell_type": "markdown",
      "metadata": {
        "id": "xVqrI4UuJk5w"
      },
      "source": [
        "上記のシミュレーションでは二原子分子の動きを示しています.  \n",
        "単原子分子と二原子分子の相違を考えてみましょう.\n",
        "1. 分子の重心に注目すると, その動きは単原子分子と同じ\n",
        "  - 重心の運動については, **自由度 3** 流用できます.\n",
        "2. 二原子分子は大きさをもつため回転が生じています.  \n",
        "  - *3次元* での回転の運動を決める回転軸は **自由度 2** $(\\theta, \\phi)$ をもちます"
      ]
    },
    {
      "cell_type": "markdown",
      "metadata": {
        "id": "wjooJ8ywP8Up"
      },
      "source": [
        "#### 二原子分子の内部エネルギー\n",
        "\n",
        "絶対温度 $T$ の環境では, エネルギー等分配の法則から\n",
        "- 一つの分子の 1自由度に対して, $\\dfrac{1}{2} k_{\\rm B} T$ が配分される\n",
        "\n",
        "ことを学びました.\n",
        "\n",
        "これを利用すると単原子分子では, **重心の自由度 3** から,\n",
        "一つの単原子分子の内部エネルギーが\n",
        "\\begin{align*}\n",
        "u_1 &=\n",
        "\\dfrac{1}{2} k_{\\rm B} T\n",
        "+\\dfrac{1}{2} k_{\\rm B} T\n",
        "+\\dfrac{1}{2} k_{\\rm B} T\n",
        "= \\dfrac{3}{2} k_{\\rm B} T\n",
        "\\end{align*}\n",
        "となりました\n",
        "\n"
      ]
    },
    {
      "cell_type": "markdown",
      "metadata": {
        "id": "ZdlDHHudRDl6"
      },
      "source": [
        "これを二原子分子に適用し, 二原子分子の内部エネルギーを表現しましょう.\n",
        "\n",
        "二原子分子の自由度は\n",
        "1. 重心運動の **自由度 3**\n",
        "2. 回転運動の **自由度 2**\n",
        "\n",
        "と合計すると **自由度は 5**(=3+2) となります.\n",
        "\n",
        "これより, 絶対温度 $T$ の環境での一つの二原子分子の内部エネルギー $u_2$ は\n",
        "\\begin{align*}\n",
        "u_2 &=\n",
        "\\left(\n",
        "\\dfrac{1}{2} k_{\\rm B} T\n",
        "+\\dfrac{1}{2} k_{\\rm B} T\n",
        "+\\dfrac{1}{2} k_{\\rm B} T\n",
        "\\right)\n",
        "+\n",
        "\\left(\n",
        "\\dfrac{1}{2} k_{\\rm B} T\n",
        "+\\dfrac{1}{2} k_{\\rm B} T\n",
        "\\right)&\\\\\n",
        "u_2 &= \\dfrac{5}{2} k_{\\rm B} T&\n",
        "\\end{align*}\n",
        "となります."
      ]
    },
    {
      "cell_type": "markdown",
      "metadata": {
        "id": "2hxPKZAXTc5x"
      },
      "source": [
        "$\\require{cancel}$\n",
        "この関係を, 物質量 $\bn$ mol の *二原子分子* の理想気体を考えると,  \n",
        "全分子の運動エネルギーの総和が内部エネルギー $U$ となるので($k_{\\rm B} = R/N_{\\rm A}$),\n",
        "\\begin{align*}\n",
        "U\n",
        "&= n N_{\\rm A} u_2\n",
        "= n N_{\\rm A} \\dfrac{5}{2} k_{\\rm B} T\n",
        "= n \\bcancel{N_{\\rm A}} \\ \\dfrac{5}{2} \\dfrac{\\bcancel{R}}{N_{\\rm A}} T&\\\\\n",
        "&= n \\dfrac{5}{2} R T&\n",
        "\\end{align*}\n",
        "これより, 内部エネルギーの変化 $\\Delta U$ は\n",
        "\\begin{align*}\n",
        "\\Delta U\n",
        "&= n \\dfrac{5}{2} R \\Delta T&\n",
        "\\end{align*}"
      ]
    },
    {
      "cell_type": "markdown",
      "metadata": {
        "id": "evNzAoJwgLIp"
      },
      "source": [
        "一般化すると, 自由度が $f$ ならば\n",
        "\\begin{align*}\n",
        "U &= \\dfrac{f}{2} nRT \\\\\n",
        "\\Delta U &= \\dfrac{f}{2} nR \\Delta T \\\\\n",
        "\\end{align*}"
      ]
    }
  ]
}