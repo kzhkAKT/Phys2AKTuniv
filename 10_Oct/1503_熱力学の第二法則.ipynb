{
  "nbformat": 4,
  "nbformat_minor": 0,
  "metadata": {
    "colab": {
      "name": "1503_熱力学の第二法則.ipynb",
      "provenance": [],
      "authorship_tag": "ABX9TyOtcL/z+T0+ARMFBawrVrKh",
      "include_colab_link": true
    },
    "kernelspec": {
      "name": "python3",
      "display_name": "Python 3"
    }
  },
  "cells": [
    {
      "cell_type": "markdown",
      "metadata": {
        "id": "view-in-github",
        "colab_type": "text"
      },
      "source": [
        "<a href=\"https://colab.research.google.com/github/kzhkAKT/Phys2AKTuniv/blob/draft/10_Oct/1503_%E7%86%B1%E5%8A%9B%E5%AD%A6%E3%81%AE%E7%AC%AC%E4%BA%8C%E6%B3%95%E5%89%87.ipynb\" target=\"_parent\"><img src=\"https://colab.research.google.com/assets/colab-badge.svg\" alt=\"Open In Colab\"/></a>"
      ]
    },
    {
      "cell_type": "markdown",
      "metadata": {
        "id": "XtJ2WLlngJM3"
      },
      "source": [
        "# 熱力学"
      ]
    },
    {
      "cell_type": "markdown",
      "metadata": {
        "id": "wD89xTGOnaNM"
      },
      "source": [
        "## 熱力学の第二法則"
      ]
    }
  ]
}