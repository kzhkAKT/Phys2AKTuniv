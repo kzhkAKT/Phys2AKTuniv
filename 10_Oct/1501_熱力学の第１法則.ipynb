{
  "nbformat": 4,
  "nbformat_minor": 0,
  "metadata": {
    "colab": {
      "name": "1501_熱力学の第１法則.ipynb",
      "provenance": [],
      "collapsed_sections": [],
      "toc_visible": true,
      "authorship_tag": "ABX9TyMLpFugqZYaBfW1v6w8QMI3",
      "include_colab_link": true
    },
    "kernelspec": {
      "name": "python3",
      "display_name": "Python 3"
    }
  },
  "cells": [
    {
      "cell_type": "markdown",
      "metadata": {
        "id": "view-in-github",
        "colab_type": "text"
      },
      "source": [
        "<a href=\"https://colab.research.google.com/github/kzhkAKT/Phys2AKTuniv/blob/draft/10_Oct/1501_%E7%86%B1%E5%8A%9B%E5%AD%A6%E3%81%AE%E7%AC%AC%EF%BC%91%E6%B3%95%E5%89%87.ipynb\" target=\"_parent\"><img src=\"https://colab.research.google.com/assets/colab-badge.svg\" alt=\"Open In Colab\"/></a>"
      ]
    },
    {
      "cell_type": "markdown",
      "metadata": {
        "id": "qJ9qNDydJScq"
      },
      "source": [
        "# 熱力学"
      ]
    },
    {
      "cell_type": "markdown",
      "metadata": {
        "id": "yf9YTJ7kJUZf"
      },
      "source": [
        "## 熱力学の第１法則"
      ]
    },
    {
      "cell_type": "markdown",
      "metadata": {
        "id": "6I9UGbtkJYSv"
      },
      "source": [
        "### 状態量と状態方程式"
      ]
    },
    {
      "cell_type": "markdown",
      "metadata": {
        "id": "V12cY6F1KBUi"
      },
      "source": [
        "#### 物体の状態を表す物理量\n",
        "\\begin{align*}\n",
        "\\begin{cases}\n",
        "V: &\\text{volume}\\\\\n",
        "p: &\\text{pressure}\\\\\n",
        "T: &\\text{temperature}\\\\\n",
        "U: &\\text{internal energy}\n",
        "\\end{cases}\n",
        "\\end{align*}"
      ]
    },
    {
      "cell_type": "code",
      "metadata": {
        "id": "btgDlxzp_idl",
        "cellView": "form",
        "colab": {
          "base_uri": "https://localhost:8080/",
          "height": 523
        },
        "outputId": "c0086a81-f156-416d-f8e3-f8a15a12e81c"
      },
      "source": [
        "#@title 概念図: 熱力学第1法則\n",
        "%%svg\n",
        "<svg xmlns=\"http://www.w3.org/2000/svg\" xmlns:xlink=\"http://www.w3.org/1999/xlink\" version=\"1.1\" width=\"784px\" viewBox=\"-0.5 -0.5 784 502\" content=\"&lt;mxfile host=&quot;app.diagrams.net&quot; modified=&quot;2020-07-10T03:23:31.089Z&quot; agent=&quot;5.0 (Macintosh; Intel Mac OS X 10_15_5) AppleWebKit/537.36 (KHTML, like Gecko) Chrome/83.0.4103.116 Safari/537.36&quot; etag=&quot;E7_5hdtVMHSmayAr-orp&quot; version=&quot;13.4.1&quot; type=&quot;google&quot;&gt;&lt;diagram id=&quot;ENIwG9ka_4GWkHSK4sv_&quot; name=&quot;Page-1&quot;&gt;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&lt;/diagram&gt;&lt;/mxfile&gt;\" onclick=\"(function(svg){var src=window.event.target||window.event.srcElement;while (src!=null&amp;&amp;src.nodeName.toLowerCase()!='a'){src=src.parentNode;}if(src==null){if(svg.wnd!=null&amp;&amp;!svg.wnd.closed){svg.wnd.focus();}else{var r=function(evt){if(evt.data=='ready'&amp;&amp;evt.source==svg.wnd){svg.wnd.postMessage(decodeURIComponent(svg.getAttribute('content')),'*');window.removeEventListener('message',r);}};window.addEventListener('message',r);svg.wnd=window.open('https://app.diagrams.net/?client=1&amp;lightbox=1&amp;edit=_blank');}}})(this);\" style=\"cursor:pointer;max-width:100%;max-height:502px;\"><defs/><g><ellipse cx=\"60\" cy=\"340\" rx=\"60\" ry=\"40\" fill=\"#dae8fc\" stroke=\"#6c8ebf\" pointer-events=\"all\"/><g transform=\"translate(-0.5 -0.5)\"><switch><foreignObject style=\"overflow: visible; text-align: left;\" pointer-events=\"none\" width=\"100%\" height=\"100%\" requiredFeatures=\"http://www.w3.org/TR/SVG11/feature#Extensibility\"><div xmlns=\"http://www.w3.org/1999/xhtml\" style=\"display: flex; align-items: unsafe center; justify-content: unsafe center; width: 118px; height: 1px; padding-top: 340px; margin-left: 1px;\"><div style=\"box-sizing: border-box; font-size: 0; text-align: center; \"><div style=\"display: inline-block; font-size: 12px; font-family: Helvetica; color: #000000; line-height: 1.2; pointer-events: all; white-space: normal; word-wrap: normal; \"><font style=\"font-size: 18px\" face=\"Georgia\"><font color=\"#99ccff\"><i>V</i><sub>0</sub>, <i>P</i><sub>o</sub>,</font> <i>T</i><sub>0</sub></font></div></div></div></foreignObject><text x=\"60\" y=\"344\" fill=\"#000000\" font-family=\"Helvetica\" font-size=\"12px\" text-anchor=\"middle\">V0, Po, T0</text></switch></g><ellipse cx=\"200\" cy=\"70\" rx=\"60\" ry=\"60\" fill=\"#f8cecc\" stroke=\"#b85450\" pointer-events=\"all\"/><g transform=\"translate(-0.5 -0.5)\"><switch><foreignObject style=\"overflow: visible; text-align: left;\" pointer-events=\"none\" width=\"100%\" height=\"100%\" requiredFeatures=\"http://www.w3.org/TR/SVG11/feature#Extensibility\"><div xmlns=\"http://www.w3.org/1999/xhtml\" style=\"display: flex; align-items: unsafe center; justify-content: unsafe center; width: 118px; height: 1px; padding-top: 70px; margin-left: 141px;\"><div style=\"box-sizing: border-box; font-size: 0; text-align: center; \"><div style=\"display: inline-block; font-size: 12px; font-family: Helvetica; color: #000000; line-height: 1.2; pointer-events: all; white-space: normal; word-wrap: normal; \"><font face=\"Georgia\" style=\"font-size: 18px\"><font color=\"#ff9999\"><i>V</i>, <i>P</i>, </font><i>T</i></font></div></div></div></foreignObject><text x=\"200\" y=\"74\" fill=\"#000000\" font-family=\"Helvetica\" font-size=\"12px\" text-anchor=\"middle\">V, P, T</text></switch></g><path d=\"M 330 470 L 330 36.37\" fill=\"none\" stroke=\"#000000\" stroke-miterlimit=\"10\" pointer-events=\"stroke\"/><path d=\"M 330 31.12 L 333.5 38.12 L 330 36.37 L 326.5 38.12 Z\" fill=\"#000000\" stroke=\"#000000\" stroke-miterlimit=\"10\" pointer-events=\"all\"/><g transform=\"translate(-0.5 -0.5)\"><switch><foreignObject style=\"overflow: visible; text-align: left;\" pointer-events=\"none\" width=\"100%\" height=\"100%\" requiredFeatures=\"http://www.w3.org/TR/SVG11/feature#Extensibility\"><div xmlns=\"http://www.w3.org/1999/xhtml\" style=\"display: flex; align-items: unsafe center; justify-content: unsafe center; width: 1px; height: 1px; padding-top: 11px; margin-left: 331px;\"><div style=\"box-sizing: border-box; font-size: 0; text-align: center; \"><div style=\"display: inline-block; font-size: 11px; font-family: Helvetica; color: #000000; line-height: 1.2; pointer-events: all; background-color: #ffffff; white-space: nowrap; \"><font face=\"Georgia\" style=\"font-size: 18px\">内部エネルギー</font></div></div></div></foreignObject><text x=\"331\" y=\"14\" fill=\"#000000\" font-family=\"Helvetica\" font-size=\"11px\" text-anchor=\"middle\">内部エネルギー</text></switch></g><path d=\"M 60 380 L 360 380\" fill=\"none\" stroke=\"#000000\" stroke-miterlimit=\"10\" stroke-dasharray=\"3 3\" pointer-events=\"stroke\"/><g transform=\"translate(-0.5 -0.5)\"><switch><foreignObject style=\"overflow: visible; text-align: left;\" pointer-events=\"none\" width=\"100%\" height=\"100%\" requiredFeatures=\"http://www.w3.org/TR/SVG11/feature#Extensibility\"><div xmlns=\"http://www.w3.org/1999/xhtml\" style=\"display: flex; align-items: unsafe center; justify-content: unsafe center; width: 1px; height: 1px; padding-top: 361px; margin-left: 352px;\"><div style=\"box-sizing: border-box; font-size: 0; text-align: center; \"><div style=\"display: inline-block; font-size: 11px; font-family: Helvetica; color: #000000; line-height: 1.2; pointer-events: all; white-space: nowrap; \"><i style=\"font-family: &quot;georgia&quot; ; font-size: 24px\">U</i><span style=\"font-family: &quot;georgia&quot; ; font-size: 24px\"><sub>0</sub></span></div></div></div></foreignObject><text x=\"352\" y=\"364\" fill=\"#000000\" font-family=\"Helvetica\" font-size=\"11px\" text-anchor=\"middle\">U0</text></switch></g><path d=\"M 220 130 L 360 130\" fill=\"none\" stroke=\"#000000\" stroke-miterlimit=\"10\" stroke-dasharray=\"3 3\" pointer-events=\"stroke\"/><g transform=\"translate(-0.5 -0.5)\"><switch><foreignObject style=\"overflow: visible; text-align: left;\" pointer-events=\"none\" width=\"100%\" height=\"100%\" requiredFeatures=\"http://www.w3.org/TR/SVG11/feature#Extensibility\"><div xmlns=\"http://www.w3.org/1999/xhtml\" style=\"display: flex; align-items: unsafe center; justify-content: unsafe center; width: 1px; height: 1px; padding-top: 111px; margin-left: 346px;\"><div style=\"box-sizing: border-box; font-size: 0; text-align: center; \"><div style=\"display: inline-block; font-size: 11px; font-family: Helvetica; color: #000000; line-height: 1.2; pointer-events: all; white-space: nowrap; \"><i style=\"font-family: &quot;georgia&quot; ; font-size: 24px\">U</i></div></div></div></foreignObject><text x=\"346\" y=\"114\" fill=\"#000000\" font-family=\"Helvetica\" font-size=\"11px\" text-anchor=\"middle\">U</text></switch></g><path d=\"M 285 378.5 L 275 378.5 L 275 149.5 L 264.5 149.5 L 280 130.5 L 295.5 149.5 L 285 149.5 Z\" fill=\"none\" stroke=\"#000000\" stroke-linejoin=\"round\" stroke-miterlimit=\"10\" pointer-events=\"all\"/><g transform=\"translate(-0.5 -0.5)rotate(90 309.5 260.5)\"><switch><foreignObject style=\"overflow: visible; text-align: left;\" pointer-events=\"none\" width=\"100%\" height=\"100%\" requiredFeatures=\"http://www.w3.org/TR/SVG11/feature#Extensibility\"><div xmlns=\"http://www.w3.org/1999/xhtml\" style=\"display: flex; align-items: unsafe center; justify-content: unsafe center; width: 1px; height: 1px; padding-top: 261px; margin-left: 310px;\"><div style=\"box-sizing: border-box; font-size: 0; text-align: center; \"><div style=\"display: inline-block; font-size: 11px; font-family: Helvetica; color: #000000; line-height: 1.2; pointer-events: all; white-space: nowrap; \"><span style=\"font-family: &quot;georgia&quot; ; font-size: 24px\"><font color=\"#ff0000\">Δ</font></span><i style=\"font-family: &quot;georgia&quot; ; font-size: 24px\"><font color=\"#ff0000\">U</font>=</i><i style=\"font-family: &quot;georgia&quot; ; font-size: 24px\">U</i><span style=\"font-family: &quot;georgia&quot; ; font-size: 24px\">-</span><i style=\"font-family: &quot;georgia&quot; ; font-size: 24px\">U</i><span style=\"font-family: &quot;georgia&quot; ; font-size: 24px\"><sub>0</sub></span></div></div></div></foreignObject><text x=\"310\" y=\"264\" fill=\"#000000\" font-family=\"Helvetica\" font-size=\"11px\" text-anchor=\"middle\">ΔU=U-U0</text></switch></g><path d=\"M 75.96 300 Q 130 290 125 208 Q 120 126 171.67 126.04\" fill=\"none\" stroke=\"#000000\" stroke-opacity=\"0.3\" stroke-miterlimit=\"10\" pointer-events=\"stroke\"/><path d=\"M 176.92 126.04 L 169.92 129.53 L 171.67 126.04 L 169.92 122.53 Z\" fill-opacity=\"0.3\" fill=\"#000000\" stroke=\"#000000\" stroke-opacity=\"0.3\" stroke-miterlimit=\"10\" pointer-events=\"all\"/><ellipse cx=\"130\" cy=\"210\" rx=\"60\" ry=\"50\" fill=\"#ffffff\" stroke=\"#000000\" pointer-events=\"all\"/><path d=\"M 210 240 L 178.96 207.33\" fill=\"none\" stroke=\"#000000\" stroke-width=\"3\" stroke-miterlimit=\"10\" pointer-events=\"stroke\"/><path d=\"M 174.31 202.43 L 183.77 205.86 L 178.96 207.33 L 177.25 212.06 Z\" fill=\"#000000\" stroke=\"#000000\" stroke-width=\"3\" stroke-miterlimit=\"10\" pointer-events=\"all\"/><g transform=\"translate(-0.5 -0.5)\"><switch><foreignObject style=\"overflow: visible; text-align: left;\" pointer-events=\"none\" width=\"100%\" height=\"100%\" requiredFeatures=\"http://www.w3.org/TR/SVG11/feature#Extensibility\"><div xmlns=\"http://www.w3.org/1999/xhtml\" style=\"display: flex; align-items: unsafe center; justify-content: unsafe center; width: 1px; height: 1px; padding-top: 185px; margin-left: 145px;\"><div style=\"box-sizing: border-box; font-size: 0; text-align: center; \"><div style=\"display: inline-block; font-size: 11px; font-family: Helvetica; color: #000000; line-height: 1.2; pointer-events: all; white-space: nowrap; \"><span style=\"font-family: &quot;georgia&quot; ; font-size: 18px\"><font color=\"#ff0000\">Δ<i>W</i><sub>in</sub></font></span></div></div></div></foreignObject><text x=\"145\" y=\"188\" fill=\"#000000\" font-family=\"Helvetica\" font-size=\"11px\" text-anchor=\"middle\">ΔWin</text></switch></g><path d=\"M 50 180 L 82.86 212.86\" fill=\"none\" stroke=\"#000000\" stroke-width=\"3\" stroke-miterlimit=\"10\" pointer-events=\"stroke\"/><path d=\"M 87.63 217.63 L 78.08 214.45 L 82.86 212.86 L 84.45 208.08 Z\" fill=\"#000000\" stroke=\"#000000\" stroke-width=\"3\" stroke-miterlimit=\"10\" pointer-events=\"all\"/><g transform=\"translate(-0.5 -0.5)\"><switch><foreignObject style=\"overflow: visible; text-align: left;\" pointer-events=\"none\" width=\"100%\" height=\"100%\" requiredFeatures=\"http://www.w3.org/TR/SVG11/feature#Extensibility\"><div xmlns=\"http://www.w3.org/1999/xhtml\" style=\"display: flex; align-items: unsafe center; justify-content: unsafe center; width: 1px; height: 1px; padding-top: 237px; margin-left: 117px;\"><div style=\"box-sizing: border-box; font-size: 0; text-align: center; \"><div style=\"display: inline-block; font-size: 11px; font-family: Helvetica; color: #000000; line-height: 1.2; pointer-events: all; white-space: nowrap; \"><font style=\"font-size: 18px\" face=\"Georgia\" color=\"#ff0000\">Δ<i>Q</i><sub>in</sub></font></div></div></div></foreignObject><text x=\"117\" y=\"240\" fill=\"#000000\" font-family=\"Helvetica\" font-size=\"11px\" text-anchor=\"middle\">ΔQin</text></switch></g><path d=\"M 44.04 303.04 Q 30 250 35 200 Q 40 150 60.98 118 Q 81.96 86 133.63 86.04\" fill=\"none\" stroke=\"#000000\" stroke-opacity=\"0.3\" stroke-miterlimit=\"10\" pointer-events=\"stroke\"/><path d=\"M 138.88 86.04 L 131.88 89.53 L 133.63 86.04 L 131.88 82.53 Z\" fill-opacity=\"0.3\" fill=\"#000000\" stroke=\"#000000\" stroke-opacity=\"0.3\" stroke-miterlimit=\"10\" pointer-events=\"all\"/><path d=\"M 107.84 315.86 Q 171.96 284 200.98 262 Q 230 240 230 210 Q 230 180 220 160 Q 210 140 209.39 135.7\" fill=\"none\" stroke=\"#000000\" stroke-opacity=\"0.3\" stroke-miterlimit=\"10\" pointer-events=\"stroke\"/><path d=\"M 208.64 130.5 L 213.1 136.94 L 209.39 135.7 L 206.17 137.93 Z\" fill-opacity=\"0.3\" fill=\"#000000\" stroke=\"#000000\" stroke-opacity=\"0.3\" stroke-miterlimit=\"10\" pointer-events=\"all\"/><ellipse cx=\"510\" cy=\"340\" rx=\"60\" ry=\"40\" fill=\"#dae8fc\" stroke=\"#6c8ebf\" pointer-events=\"all\"/><g transform=\"translate(-0.5 -0.5)\"><switch><foreignObject style=\"overflow: visible; text-align: left;\" pointer-events=\"none\" width=\"100%\" height=\"100%\" requiredFeatures=\"http://www.w3.org/TR/SVG11/feature#Extensibility\"><div xmlns=\"http://www.w3.org/1999/xhtml\" style=\"display: flex; align-items: unsafe center; justify-content: unsafe center; width: 118px; height: 1px; padding-top: 340px; margin-left: 451px;\"><div style=\"box-sizing: border-box; font-size: 0; text-align: center; \"><div style=\"display: inline-block; font-size: 12px; font-family: Helvetica; color: #000000; line-height: 1.2; pointer-events: all; white-space: normal; word-wrap: normal; \"><font style=\"font-size: 18px\" face=\"Georgia\"><font color=\"#99ccff\"><i>V</i><sub>0</sub>, <i>P</i><sub>o</sub>,</font> <i>T</i><sub>0</sub></font></div></div></div></foreignObject><text x=\"510\" y=\"344\" fill=\"#000000\" font-family=\"Helvetica\" font-size=\"12px\" text-anchor=\"middle\">V0, Po, T0</text></switch></g><path d=\"M 720 470 L 720 36.37\" fill=\"none\" stroke=\"#000000\" stroke-miterlimit=\"10\" pointer-events=\"stroke\"/><path d=\"M 720 31.12 L 723.5 38.12 L 720 36.37 L 716.5 38.12 Z\" fill=\"#000000\" stroke=\"#000000\" stroke-miterlimit=\"10\" pointer-events=\"all\"/><g transform=\"translate(-0.5 -0.5)\"><switch><foreignObject style=\"overflow: visible; text-align: left;\" pointer-events=\"none\" width=\"100%\" height=\"100%\" requiredFeatures=\"http://www.w3.org/TR/SVG11/feature#Extensibility\"><div xmlns=\"http://www.w3.org/1999/xhtml\" style=\"display: flex; align-items: unsafe center; justify-content: unsafe center; width: 1px; height: 1px; padding-top: 11px; margin-left: 721px;\"><div style=\"box-sizing: border-box; font-size: 0; text-align: center; \"><div style=\"display: inline-block; font-size: 11px; font-family: Helvetica; color: #000000; line-height: 1.2; pointer-events: all; background-color: #ffffff; white-space: nowrap; \"><font face=\"Georgia\" style=\"font-size: 18px\">内部エネルギー</font></div></div></div></foreignObject><text x=\"721\" y=\"14\" fill=\"#000000\" font-family=\"Helvetica\" font-size=\"11px\" text-anchor=\"middle\">内部エネルギー</text></switch></g><path d=\"M 450 380 L 760 380\" fill=\"none\" stroke=\"#000000\" stroke-miterlimit=\"10\" stroke-dasharray=\"3 3\" pointer-events=\"stroke\"/><g transform=\"translate(-0.5 -0.5)\"><switch><foreignObject style=\"overflow: visible; text-align: left;\" pointer-events=\"none\" width=\"100%\" height=\"100%\" requiredFeatures=\"http://www.w3.org/TR/SVG11/feature#Extensibility\"><div xmlns=\"http://www.w3.org/1999/xhtml\" style=\"display: flex; align-items: unsafe center; justify-content: unsafe center; width: 1px; height: 1px; padding-top: 361px; margin-left: 752px;\"><div style=\"box-sizing: border-box; font-size: 0; text-align: center; \"><div style=\"display: inline-block; font-size: 11px; font-family: Helvetica; color: #000000; line-height: 1.2; pointer-events: all; white-space: nowrap; \"><i style=\"font-family: &quot;georgia&quot; ; font-size: 24px\">U</i><span style=\"font-family: &quot;georgia&quot; ; font-size: 24px\"><sub>0</sub></span></div></div></div></foreignObject><text x=\"752\" y=\"364\" fill=\"#000000\" font-family=\"Helvetica\" font-size=\"11px\" text-anchor=\"middle\">U0</text></switch></g><path d=\"M 540 500 L 760 500\" fill=\"none\" stroke=\"#000000\" stroke-miterlimit=\"10\" stroke-dasharray=\"3 3\" pointer-events=\"stroke\"/><g transform=\"translate(-0.5 -0.5)\"><switch><foreignObject style=\"overflow: visible; text-align: left;\" pointer-events=\"none\" width=\"100%\" height=\"100%\" requiredFeatures=\"http://www.w3.org/TR/SVG11/feature#Extensibility\"><div xmlns=\"http://www.w3.org/1999/xhtml\" style=\"display: flex; align-items: unsafe center; justify-content: unsafe center; width: 1px; height: 1px; padding-top: 481px; margin-left: 742px;\"><div style=\"box-sizing: border-box; font-size: 0; text-align: center; \"><div style=\"display: inline-block; font-size: 11px; font-family: Helvetica; color: #000000; line-height: 1.2; pointer-events: all; white-space: nowrap; \"><i style=\"font-family: &quot;georgia&quot; ; font-size: 24px\">U</i></div></div></div></foreignObject><text x=\"742\" y=\"484\" fill=\"#000000\" font-family=\"Helvetica\" font-size=\"11px\" text-anchor=\"middle\">U</text></switch></g><path d=\"M 665 381.5 L 675 381.5 L 675 480.5 L 685.5 480.5 L 670 499.5 L 654.5 480.5 L 665 480.5 Z\" fill=\"none\" stroke=\"#000000\" stroke-linejoin=\"round\" stroke-miterlimit=\"10\" pointer-events=\"all\"/><g transform=\"translate(-0.5 -0.5)rotate(90 699.5 441.5)\"><switch><foreignObject style=\"overflow: visible; text-align: left;\" pointer-events=\"none\" width=\"100%\" height=\"100%\" requiredFeatures=\"http://www.w3.org/TR/SVG11/feature#Extensibility\"><div xmlns=\"http://www.w3.org/1999/xhtml\" style=\"display: flex; align-items: unsafe center; justify-content: unsafe center; width: 1px; height: 1px; padding-top: 442px; margin-left: 700px;\"><div style=\"box-sizing: border-box; font-size: 0; text-align: center; \"><div style=\"display: inline-block; font-size: 11px; font-family: Helvetica; color: #000000; line-height: 1.2; pointer-events: all; white-space: nowrap; \"><span style=\"font-family: &quot;georgia&quot; ; font-size: 24px\"><font color=\"#0000ff\">Δ</font></span><i style=\"font-family: &quot;georgia&quot; ; font-size: 24px\"><font color=\"#0000ff\">U</font>=</i><i style=\"font-family: &quot;georgia&quot; ; font-size: 24px\">U</i><span style=\"font-family: &quot;georgia&quot; ; font-size: 24px\">-</span><i style=\"font-family: &quot;georgia&quot; ; font-size: 24px\">U</i><span style=\"font-family: &quot;georgia&quot; ; font-size: 24px\"><sub>0</sub></span></div></div></div></foreignObject><text x=\"700\" y=\"445\" fill=\"#000000\" font-family=\"Helvetica\" font-size=\"11px\" text-anchor=\"middle\">ΔU=U-U0</text></switch></g><ellipse cx=\"605\" cy=\"470\" rx=\"45\" ry=\"30\" fill=\"#1ba1e2\" stroke=\"#006eaf\" pointer-events=\"all\"/><g transform=\"translate(-0.5 -0.5)\"><switch><foreignObject style=\"overflow: visible; text-align: left;\" pointer-events=\"none\" width=\"100%\" height=\"100%\" requiredFeatures=\"http://www.w3.org/TR/SVG11/feature#Extensibility\"><div xmlns=\"http://www.w3.org/1999/xhtml\" style=\"display: flex; align-items: unsafe center; justify-content: unsafe center; width: 88px; height: 1px; padding-top: 470px; margin-left: 561px;\"><div style=\"box-sizing: border-box; font-size: 0; text-align: center; \"><div style=\"display: inline-block; font-size: 12px; font-family: Helvetica; color: #ffffff; line-height: 1.2; pointer-events: all; white-space: normal; word-wrap: normal; \"><font style=\"font-size: 18px\" face=\"Georgia\"><font color=\"#99ccff\"><i>V</i>, <i>P</i>,</font> <i>T</i></font></div></div></div></foreignObject><text x=\"605\" y=\"474\" fill=\"#ffffff\" font-family=\"Helvetica\" font-size=\"12px\" text-anchor=\"middle\">V, P, T</text></switch></g><path d=\"M 500.14 379.46 Q 500 380 495 395 Q 490 410 490 430 Q 490 450 510 470.5 Q 530 491 557.38 483.33\" fill=\"none\" stroke=\"#000000\" stroke-opacity=\"0.3\" stroke-miterlimit=\"10\" pointer-events=\"stroke\"/><path d=\"M 562.43 481.92 L 556.64 487.18 L 557.38 483.33 L 554.75 480.44 Z\" fill-opacity=\"0.3\" fill=\"#000000\" stroke=\"#000000\" stroke-opacity=\"0.3\" stroke-miterlimit=\"10\" pointer-events=\"all\"/><path d=\"M 460.14 360 Q 430 400 425 415.27 Q 420 430.54 445 470.27 Q 470 510 575.65 495.86\" fill=\"none\" stroke=\"#000000\" stroke-opacity=\"0.3\" stroke-miterlimit=\"10\" pointer-events=\"stroke\"/><path d=\"M 580.85 495.17 L 574.38 499.57 L 575.65 495.86 L 573.45 492.63 Z\" fill-opacity=\"0.3\" fill=\"#000000\" stroke=\"#000000\" stroke-opacity=\"0.3\" stroke-miterlimit=\"10\" pointer-events=\"all\"/><ellipse cx=\"480\" cy=\"451.66\" rx=\"50\" ry=\"41.665\" fill=\"#ffffff\" stroke=\"#000000\" pointer-events=\"all\"/><path d=\"M 410 420 L 442.86 452.86\" fill=\"none\" stroke=\"#000000\" stroke-width=\"3\" stroke-miterlimit=\"10\" pointer-events=\"stroke\"/><path d=\"M 447.63 457.63 L 438.08 454.45 L 442.86 452.86 L 444.45 448.08 Z\" fill=\"#000000\" stroke=\"#000000\" stroke-width=\"3\" stroke-miterlimit=\"10\" pointer-events=\"all\"/><g transform=\"translate(-0.5 -0.5)\"><switch><foreignObject style=\"overflow: visible; text-align: left;\" pointer-events=\"none\" width=\"100%\" height=\"100%\" requiredFeatures=\"http://www.w3.org/TR/SVG11/feature#Extensibility\"><div xmlns=\"http://www.w3.org/1999/xhtml\" style=\"display: flex; align-items: unsafe center; justify-content: unsafe center; width: 1px; height: 1px; padding-top: 477px; margin-left: 477px;\"><div style=\"box-sizing: border-box; font-size: 0; text-align: center; \"><div style=\"display: inline-block; font-size: 11px; font-family: Helvetica; color: #000000; line-height: 1.2; pointer-events: all; white-space: nowrap; \"><font style=\"font-size: 18px\" face=\"Georgia\" color=\"#0000ff\">Δ<i>Q</i><sub>in</sub></font></div></div></div></foreignObject><text x=\"477\" y=\"480\" fill=\"#000000\" font-family=\"Helvetica\" font-size=\"11px\" text-anchor=\"middle\">ΔQin</text></switch></g><path d=\"M 550 486.67 L 517.45 456.83\" fill=\"none\" stroke=\"#000000\" stroke-width=\"3\" stroke-miterlimit=\"10\" pointer-events=\"stroke\"/><path d=\"M 512.47 452.27 L 522.15 455.03 L 517.45 456.83 L 516.07 461.67 Z\" fill=\"#000000\" stroke=\"#000000\" stroke-width=\"3\" stroke-miterlimit=\"10\" pointer-events=\"all\"/><g transform=\"translate(-0.5 -0.5)\"><switch><foreignObject style=\"overflow: visible; text-align: left;\" pointer-events=\"none\" width=\"100%\" height=\"100%\" requiredFeatures=\"http://www.w3.org/TR/SVG11/feature#Extensibility\"><div xmlns=\"http://www.w3.org/1999/xhtml\" style=\"display: flex; align-items: unsafe center; justify-content: unsafe center; width: 1px; height: 1px; padding-top: 435px; margin-left: 483px;\"><div style=\"box-sizing: border-box; font-size: 0; text-align: center; \"><div style=\"display: inline-block; font-size: 11px; font-family: Helvetica; color: #000000; line-height: 1.2; pointer-events: all; white-space: nowrap; \"><span style=\"font-family: &quot;georgia&quot; ; font-size: 18px\"><font color=\"#0000ff\">Δ<i>W</i><sub>in</sub></font></span></div></div></div></foreignObject><text x=\"483\" y=\"438\" fill=\"#000000\" font-family=\"Helvetica\" font-size=\"11px\" text-anchor=\"middle\">ΔWin</text></switch></g></g><switch><g requiredFeatures=\"http://www.w3.org/TR/SVG11/feature#Extensibility\"/><a transform=\"translate(0,-5)\" xlink:href=\"https://desk.draw.io/support/solutions/articles/16000042487\" target=\"_blank\"><text text-anchor=\"middle\" font-size=\"10px\" x=\"50%\" y=\"100%\">Viewer does not support full SVG 1.1</text></a></switch></svg>"
      ],
      "execution_count": null,
      "outputs": [
        {
          "output_type": "display_data",
          "data": {
            "text/plain": [
              "<IPython.core.display.SVG object>"
            ],
            "image/svg+xml": "<svg content=\"&lt;mxfile host=&quot;app.diagrams.net&quot; modified=&quot;2020-07-10T03:23:31.089Z&quot; agent=&quot;5.0 (Macintosh; Intel Mac OS X 10_15_5) AppleWebKit/537.36 (KHTML, like Gecko) Chrome/83.0.4103.116 Safari/537.36&quot; etag=&quot;E7_5hdtVMHSmayAr-orp&quot; version=&quot;13.4.1&quot; type=&quot;google&quot;&gt;&lt;diagram id=&quot;ENIwG9ka_4GWkHSK4sv_&quot; name=&quot;Page-1&quot;&gt;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&lt;/diagram&gt;&lt;/mxfile&gt;\" onclick=\"(function(svg){var src=window.event.target||window.event.srcElement;while (src!=null&amp;&amp;src.nodeName.toLowerCase()!='a'){src=src.parentNode;}if(src==null){if(svg.wnd!=null&amp;&amp;!svg.wnd.closed){svg.wnd.focus();}else{var r=function(evt){if(evt.data=='ready'&amp;&amp;evt.source==svg.wnd){svg.wnd.postMessage(decodeURIComponent(svg.getAttribute('content')),'*');window.removeEventListener('message',r);}};window.addEventListener('message',r);svg.wnd=window.open('https://app.diagrams.net/?client=1&amp;lightbox=1&amp;edit=_blank');}}})(this);\" style=\"cursor:pointer;max-width:100%;max-height:502px;\" version=\"1.1\" viewBox=\"-0.5 -0.5 784 502\" width=\"784px\" xmlns=\"http://www.w3.org/2000/svg\" xmlns:xlink=\"http://www.w3.org/1999/xlink\"><defs/><g><ellipse cx=\"60\" cy=\"340\" fill=\"#dae8fc\" pointer-events=\"all\" rx=\"60\" ry=\"40\" stroke=\"#6c8ebf\"/><g transform=\"translate(-0.5 -0.5)\"><switch><foreignObject height=\"100%\" pointer-events=\"none\" requiredFeatures=\"http://www.w3.org/TR/SVG11/feature#Extensibility\" style=\"overflow: visible; text-align: left;\" width=\"100%\"><div style=\"display: flex; align-items: unsafe center; justify-content: unsafe center; width: 118px; height: 1px; padding-top: 340px; margin-left: 1px;\" xmlns=\"http://www.w3.org/1999/xhtml\"><div style=\"box-sizing: border-box; font-size: 0; text-align: center; \"><div style=\"display: inline-block; font-size: 12px; font-family: Helvetica; color: #000000; line-height: 1.2; pointer-events: all; white-space: normal; word-wrap: normal; \"><font face=\"Georgia\" style=\"font-size: 18px\"><font color=\"#99ccff\"><i>V</i><sub>0</sub>, <i>P</i><sub>o</sub>,</font> <i>T</i><sub>0</sub></font></div></div></div></foreignObject><text fill=\"#000000\" font-family=\"Helvetica\" font-size=\"12px\" text-anchor=\"middle\" x=\"60\" y=\"344\">V0, Po, T0</text></switch></g><ellipse cx=\"200\" cy=\"70\" fill=\"#f8cecc\" pointer-events=\"all\" rx=\"60\" ry=\"60\" stroke=\"#b85450\"/><g transform=\"translate(-0.5 -0.5)\"><switch><foreignObject height=\"100%\" pointer-events=\"none\" requiredFeatures=\"http://www.w3.org/TR/SVG11/feature#Extensibility\" style=\"overflow: visible; text-align: left;\" width=\"100%\"><div style=\"display: flex; align-items: unsafe center; justify-content: unsafe center; width: 118px; height: 1px; padding-top: 70px; margin-left: 141px;\" xmlns=\"http://www.w3.org/1999/xhtml\"><div style=\"box-sizing: border-box; font-size: 0; text-align: center; \"><div style=\"display: inline-block; font-size: 12px; font-family: Helvetica; color: #000000; line-height: 1.2; pointer-events: all; white-space: normal; word-wrap: normal; \"><font face=\"Georgia\" style=\"font-size: 18px\"><font color=\"#ff9999\"><i>V</i>, <i>P</i>, </font><i>T</i></font></div></div></div></foreignObject><text fill=\"#000000\" font-family=\"Helvetica\" font-size=\"12px\" text-anchor=\"middle\" x=\"200\" y=\"74\">V, P, T</text></switch></g><path d=\"M 330 470 L 330 36.37\" fill=\"none\" pointer-events=\"stroke\" stroke=\"#000000\" stroke-miterlimit=\"10\"/><path d=\"M 330 31.12 L 333.5 38.12 L 330 36.37 L 326.5 38.12 Z\" fill=\"#000000\" pointer-events=\"all\" stroke=\"#000000\" stroke-miterlimit=\"10\"/><g transform=\"translate(-0.5 -0.5)\"><switch><foreignObject height=\"100%\" pointer-events=\"none\" requiredFeatures=\"http://www.w3.org/TR/SVG11/feature#Extensibility\" style=\"overflow: visible; text-align: left;\" width=\"100%\"><div style=\"display: flex; align-items: unsafe center; justify-content: unsafe center; width: 1px; height: 1px; padding-top: 11px; margin-left: 331px;\" xmlns=\"http://www.w3.org/1999/xhtml\"><div style=\"box-sizing: border-box; font-size: 0; text-align: center; \"><div style=\"display: inline-block; font-size: 11px; font-family: Helvetica; color: #000000; line-height: 1.2; pointer-events: all; background-color: #ffffff; white-space: nowrap; \"><font face=\"Georgia\" style=\"font-size: 18px\">内部エネルギー</font></div></div></div></foreignObject><text fill=\"#000000\" font-family=\"Helvetica\" font-size=\"11px\" text-anchor=\"middle\" x=\"331\" y=\"14\">内部エネルギー</text></switch></g><path d=\"M 60 380 L 360 380\" fill=\"none\" pointer-events=\"stroke\" stroke=\"#000000\" stroke-dasharray=\"3 3\" stroke-miterlimit=\"10\"/><g transform=\"translate(-0.5 -0.5)\"><switch><foreignObject height=\"100%\" pointer-events=\"none\" requiredFeatures=\"http://www.w3.org/TR/SVG11/feature#Extensibility\" style=\"overflow: visible; text-align: left;\" width=\"100%\"><div style=\"display: flex; align-items: unsafe center; justify-content: unsafe center; width: 1px; height: 1px; padding-top: 361px; margin-left: 352px;\" xmlns=\"http://www.w3.org/1999/xhtml\"><div style=\"box-sizing: border-box; font-size: 0; text-align: center; \"><div style=\"display: inline-block; font-size: 11px; font-family: Helvetica; color: #000000; line-height: 1.2; pointer-events: all; white-space: nowrap; \"><i style=\"font-family: &quot;georgia&quot; ; font-size: 24px\">U</i><span style=\"font-family: &quot;georgia&quot; ; font-size: 24px\"><sub>0</sub></span></div></div></div></foreignObject><text fill=\"#000000\" font-family=\"Helvetica\" font-size=\"11px\" text-anchor=\"middle\" x=\"352\" y=\"364\">U0</text></switch></g><path d=\"M 220 130 L 360 130\" fill=\"none\" pointer-events=\"stroke\" stroke=\"#000000\" stroke-dasharray=\"3 3\" stroke-miterlimit=\"10\"/><g transform=\"translate(-0.5 -0.5)\"><switch><foreignObject height=\"100%\" pointer-events=\"none\" requiredFeatures=\"http://www.w3.org/TR/SVG11/feature#Extensibility\" style=\"overflow: visible; text-align: left;\" width=\"100%\"><div style=\"display: flex; align-items: unsafe center; justify-content: unsafe center; width: 1px; height: 1px; padding-top: 111px; margin-left: 346px;\" xmlns=\"http://www.w3.org/1999/xhtml\"><div style=\"box-sizing: border-box; font-size: 0; text-align: center; \"><div style=\"display: inline-block; font-size: 11px; font-family: Helvetica; color: #000000; line-height: 1.2; pointer-events: all; white-space: nowrap; \"><i style=\"font-family: &quot;georgia&quot; ; font-size: 24px\">U</i></div></div></div></foreignObject><text fill=\"#000000\" font-family=\"Helvetica\" font-size=\"11px\" text-anchor=\"middle\" x=\"346\" y=\"114\">U</text></switch></g><path d=\"M 285 378.5 L 275 378.5 L 275 149.5 L 264.5 149.5 L 280 130.5 L 295.5 149.5 L 285 149.5 Z\" fill=\"none\" pointer-events=\"all\" stroke=\"#000000\" stroke-linejoin=\"round\" stroke-miterlimit=\"10\"/><g transform=\"translate(-0.5 -0.5)rotate(90 309.5 260.5)\"><switch><foreignObject height=\"100%\" pointer-events=\"none\" requiredFeatures=\"http://www.w3.org/TR/SVG11/feature#Extensibility\" style=\"overflow: visible; text-align: left;\" width=\"100%\"><div style=\"display: flex; align-items: unsafe center; justify-content: unsafe center; width: 1px; height: 1px; padding-top: 261px; margin-left: 310px;\" xmlns=\"http://www.w3.org/1999/xhtml\"><div style=\"box-sizing: border-box; font-size: 0; text-align: center; \"><div style=\"display: inline-block; font-size: 11px; font-family: Helvetica; color: #000000; line-height: 1.2; pointer-events: all; white-space: nowrap; \"><span style=\"font-family: &quot;georgia&quot; ; font-size: 24px\"><font color=\"#ff0000\">Δ</font></span><i style=\"font-family: &quot;georgia&quot; ; font-size: 24px\"><font color=\"#ff0000\">U</font>=</i><i style=\"font-family: &quot;georgia&quot; ; font-size: 24px\">U</i><span style=\"font-family: &quot;georgia&quot; ; font-size: 24px\">-</span><i style=\"font-family: &quot;georgia&quot; ; font-size: 24px\">U</i><span style=\"font-family: &quot;georgia&quot; ; font-size: 24px\"><sub>0</sub></span></div></div></div></foreignObject><text fill=\"#000000\" font-family=\"Helvetica\" font-size=\"11px\" text-anchor=\"middle\" x=\"310\" y=\"264\">ΔU=U-U0</text></switch></g><path d=\"M 75.96 300 Q 130 290 125 208 Q 120 126 171.67 126.04\" fill=\"none\" pointer-events=\"stroke\" stroke=\"#000000\" stroke-miterlimit=\"10\" stroke-opacity=\"0.3\"/><path d=\"M 176.92 126.04 L 169.92 129.53 L 171.67 126.04 L 169.92 122.53 Z\" fill=\"#000000\" fill-opacity=\"0.3\" pointer-events=\"all\" stroke=\"#000000\" stroke-miterlimit=\"10\" stroke-opacity=\"0.3\"/><ellipse cx=\"130\" cy=\"210\" fill=\"#ffffff\" pointer-events=\"all\" rx=\"60\" ry=\"50\" stroke=\"#000000\"/><path d=\"M 210 240 L 178.96 207.33\" fill=\"none\" pointer-events=\"stroke\" stroke=\"#000000\" stroke-miterlimit=\"10\" stroke-width=\"3\"/><path d=\"M 174.31 202.43 L 183.77 205.86 L 178.96 207.33 L 177.25 212.06 Z\" fill=\"#000000\" pointer-events=\"all\" stroke=\"#000000\" stroke-miterlimit=\"10\" stroke-width=\"3\"/><g transform=\"translate(-0.5 -0.5)\"><switch><foreignObject height=\"100%\" pointer-events=\"none\" requiredFeatures=\"http://www.w3.org/TR/SVG11/feature#Extensibility\" style=\"overflow: visible; text-align: left;\" width=\"100%\"><div style=\"display: flex; align-items: unsafe center; justify-content: unsafe center; width: 1px; height: 1px; padding-top: 185px; margin-left: 145px;\" xmlns=\"http://www.w3.org/1999/xhtml\"><div style=\"box-sizing: border-box; font-size: 0; text-align: center; \"><div style=\"display: inline-block; font-size: 11px; font-family: Helvetica; color: #000000; line-height: 1.2; pointer-events: all; white-space: nowrap; \"><span style=\"font-family: &quot;georgia&quot; ; font-size: 18px\"><font color=\"#ff0000\">Δ<i>W</i><sub>in</sub></font></span></div></div></div></foreignObject><text fill=\"#000000\" font-family=\"Helvetica\" font-size=\"11px\" text-anchor=\"middle\" x=\"145\" y=\"188\">ΔWin</text></switch></g><path d=\"M 50 180 L 82.86 212.86\" fill=\"none\" pointer-events=\"stroke\" stroke=\"#000000\" stroke-miterlimit=\"10\" stroke-width=\"3\"/><path d=\"M 87.63 217.63 L 78.08 214.45 L 82.86 212.86 L 84.45 208.08 Z\" fill=\"#000000\" pointer-events=\"all\" stroke=\"#000000\" stroke-miterlimit=\"10\" stroke-width=\"3\"/><g transform=\"translate(-0.5 -0.5)\"><switch><foreignObject height=\"100%\" pointer-events=\"none\" requiredFeatures=\"http://www.w3.org/TR/SVG11/feature#Extensibility\" style=\"overflow: visible; text-align: left;\" width=\"100%\"><div style=\"display: flex; align-items: unsafe center; justify-content: unsafe center; width: 1px; height: 1px; padding-top: 237px; margin-left: 117px;\" xmlns=\"http://www.w3.org/1999/xhtml\"><div style=\"box-sizing: border-box; font-size: 0; text-align: center; \"><div style=\"display: inline-block; font-size: 11px; font-family: Helvetica; color: #000000; line-height: 1.2; pointer-events: all; white-space: nowrap; \"><font color=\"#ff0000\" face=\"Georgia\" style=\"font-size: 18px\">Δ<i>Q</i><sub>in</sub></font></div></div></div></foreignObject><text fill=\"#000000\" font-family=\"Helvetica\" font-size=\"11px\" text-anchor=\"middle\" x=\"117\" y=\"240\">ΔQin</text></switch></g><path d=\"M 44.04 303.04 Q 30 250 35 200 Q 40 150 60.98 118 Q 81.96 86 133.63 86.04\" fill=\"none\" pointer-events=\"stroke\" stroke=\"#000000\" stroke-miterlimit=\"10\" stroke-opacity=\"0.3\"/><path d=\"M 138.88 86.04 L 131.88 89.53 L 133.63 86.04 L 131.88 82.53 Z\" fill=\"#000000\" fill-opacity=\"0.3\" pointer-events=\"all\" stroke=\"#000000\" stroke-miterlimit=\"10\" stroke-opacity=\"0.3\"/><path d=\"M 107.84 315.86 Q 171.96 284 200.98 262 Q 230 240 230 210 Q 230 180 220 160 Q 210 140 209.39 135.7\" fill=\"none\" pointer-events=\"stroke\" stroke=\"#000000\" stroke-miterlimit=\"10\" stroke-opacity=\"0.3\"/><path d=\"M 208.64 130.5 L 213.1 136.94 L 209.39 135.7 L 206.17 137.93 Z\" fill=\"#000000\" fill-opacity=\"0.3\" pointer-events=\"all\" stroke=\"#000000\" stroke-miterlimit=\"10\" stroke-opacity=\"0.3\"/><ellipse cx=\"510\" cy=\"340\" fill=\"#dae8fc\" pointer-events=\"all\" rx=\"60\" ry=\"40\" stroke=\"#6c8ebf\"/><g transform=\"translate(-0.5 -0.5)\"><switch><foreignObject height=\"100%\" pointer-events=\"none\" requiredFeatures=\"http://www.w3.org/TR/SVG11/feature#Extensibility\" style=\"overflow: visible; text-align: left;\" width=\"100%\"><div style=\"display: flex; align-items: unsafe center; justify-content: unsafe center; width: 118px; height: 1px; padding-top: 340px; margin-left: 451px;\" xmlns=\"http://www.w3.org/1999/xhtml\"><div style=\"box-sizing: border-box; font-size: 0; text-align: center; \"><div style=\"display: inline-block; font-size: 12px; font-family: Helvetica; color: #000000; line-height: 1.2; pointer-events: all; white-space: normal; word-wrap: normal; \"><font face=\"Georgia\" style=\"font-size: 18px\"><font color=\"#99ccff\"><i>V</i><sub>0</sub>, <i>P</i><sub>o</sub>,</font> <i>T</i><sub>0</sub></font></div></div></div></foreignObject><text fill=\"#000000\" font-family=\"Helvetica\" font-size=\"12px\" text-anchor=\"middle\" x=\"510\" y=\"344\">V0, Po, T0</text></switch></g><path d=\"M 720 470 L 720 36.37\" fill=\"none\" pointer-events=\"stroke\" stroke=\"#000000\" stroke-miterlimit=\"10\"/><path d=\"M 720 31.12 L 723.5 38.12 L 720 36.37 L 716.5 38.12 Z\" fill=\"#000000\" pointer-events=\"all\" stroke=\"#000000\" stroke-miterlimit=\"10\"/><g transform=\"translate(-0.5 -0.5)\"><switch><foreignObject height=\"100%\" pointer-events=\"none\" requiredFeatures=\"http://www.w3.org/TR/SVG11/feature#Extensibility\" style=\"overflow: visible; text-align: left;\" width=\"100%\"><div style=\"display: flex; align-items: unsafe center; justify-content: unsafe center; width: 1px; height: 1px; padding-top: 11px; margin-left: 721px;\" xmlns=\"http://www.w3.org/1999/xhtml\"><div style=\"box-sizing: border-box; font-size: 0; text-align: center; \"><div style=\"display: inline-block; font-size: 11px; font-family: Helvetica; color: #000000; line-height: 1.2; pointer-events: all; background-color: #ffffff; white-space: nowrap; \"><font face=\"Georgia\" style=\"font-size: 18px\">内部エネルギー</font></div></div></div></foreignObject><text fill=\"#000000\" font-family=\"Helvetica\" font-size=\"11px\" text-anchor=\"middle\" x=\"721\" y=\"14\">内部エネルギー</text></switch></g><path d=\"M 450 380 L 760 380\" fill=\"none\" pointer-events=\"stroke\" stroke=\"#000000\" stroke-dasharray=\"3 3\" stroke-miterlimit=\"10\"/><g transform=\"translate(-0.5 -0.5)\"><switch><foreignObject height=\"100%\" pointer-events=\"none\" requiredFeatures=\"http://www.w3.org/TR/SVG11/feature#Extensibility\" style=\"overflow: visible; text-align: left;\" width=\"100%\"><div style=\"display: flex; align-items: unsafe center; justify-content: unsafe center; width: 1px; height: 1px; padding-top: 361px; margin-left: 752px;\" xmlns=\"http://www.w3.org/1999/xhtml\"><div style=\"box-sizing: border-box; font-size: 0; text-align: center; \"><div style=\"display: inline-block; font-size: 11px; font-family: Helvetica; color: #000000; line-height: 1.2; pointer-events: all; white-space: nowrap; \"><i style=\"font-family: &quot;georgia&quot; ; font-size: 24px\">U</i><span style=\"font-family: &quot;georgia&quot; ; font-size: 24px\"><sub>0</sub></span></div></div></div></foreignObject><text fill=\"#000000\" font-family=\"Helvetica\" font-size=\"11px\" text-anchor=\"middle\" x=\"752\" y=\"364\">U0</text></switch></g><path d=\"M 540 500 L 760 500\" fill=\"none\" pointer-events=\"stroke\" stroke=\"#000000\" stroke-dasharray=\"3 3\" stroke-miterlimit=\"10\"/><g transform=\"translate(-0.5 -0.5)\"><switch><foreignObject height=\"100%\" pointer-events=\"none\" requiredFeatures=\"http://www.w3.org/TR/SVG11/feature#Extensibility\" style=\"overflow: visible; text-align: left;\" width=\"100%\"><div style=\"display: flex; align-items: unsafe center; justify-content: unsafe center; width: 1px; height: 1px; padding-top: 481px; margin-left: 742px;\" xmlns=\"http://www.w3.org/1999/xhtml\"><div style=\"box-sizing: border-box; font-size: 0; text-align: center; \"><div style=\"display: inline-block; font-size: 11px; font-family: Helvetica; color: #000000; line-height: 1.2; pointer-events: all; white-space: nowrap; \"><i style=\"font-family: &quot;georgia&quot; ; font-size: 24px\">U</i></div></div></div></foreignObject><text fill=\"#000000\" font-family=\"Helvetica\" font-size=\"11px\" text-anchor=\"middle\" x=\"742\" y=\"484\">U</text></switch></g><path d=\"M 665 381.5 L 675 381.5 L 675 480.5 L 685.5 480.5 L 670 499.5 L 654.5 480.5 L 665 480.5 Z\" fill=\"none\" pointer-events=\"all\" stroke=\"#000000\" stroke-linejoin=\"round\" stroke-miterlimit=\"10\"/><g transform=\"translate(-0.5 -0.5)rotate(90 699.5 441.5)\"><switch><foreignObject height=\"100%\" pointer-events=\"none\" requiredFeatures=\"http://www.w3.org/TR/SVG11/feature#Extensibility\" style=\"overflow: visible; text-align: left;\" width=\"100%\"><div style=\"display: flex; align-items: unsafe center; justify-content: unsafe center; width: 1px; height: 1px; padding-top: 442px; margin-left: 700px;\" xmlns=\"http://www.w3.org/1999/xhtml\"><div style=\"box-sizing: border-box; font-size: 0; text-align: center; \"><div style=\"display: inline-block; font-size: 11px; font-family: Helvetica; color: #000000; line-height: 1.2; pointer-events: all; white-space: nowrap; \"><span style=\"font-family: &quot;georgia&quot; ; font-size: 24px\"><font color=\"#0000ff\">Δ</font></span><i style=\"font-family: &quot;georgia&quot; ; font-size: 24px\"><font color=\"#0000ff\">U</font>=</i><i style=\"font-family: &quot;georgia&quot; ; font-size: 24px\">U</i><span style=\"font-family: &quot;georgia&quot; ; font-size: 24px\">-</span><i style=\"font-family: &quot;georgia&quot; ; font-size: 24px\">U</i><span style=\"font-family: &quot;georgia&quot; ; font-size: 24px\"><sub>0</sub></span></div></div></div></foreignObject><text fill=\"#000000\" font-family=\"Helvetica\" font-size=\"11px\" text-anchor=\"middle\" x=\"700\" y=\"445\">ΔU=U-U0</text></switch></g><ellipse cx=\"605\" cy=\"470\" fill=\"#1ba1e2\" pointer-events=\"all\" rx=\"45\" ry=\"30\" stroke=\"#006eaf\"/><g transform=\"translate(-0.5 -0.5)\"><switch><foreignObject height=\"100%\" pointer-events=\"none\" requiredFeatures=\"http://www.w3.org/TR/SVG11/feature#Extensibility\" style=\"overflow: visible; text-align: left;\" width=\"100%\"><div style=\"display: flex; align-items: unsafe center; justify-content: unsafe center; width: 88px; height: 1px; padding-top: 470px; margin-left: 561px;\" xmlns=\"http://www.w3.org/1999/xhtml\"><div style=\"box-sizing: border-box; font-size: 0; text-align: center; \"><div style=\"display: inline-block; font-size: 12px; font-family: Helvetica; color: #ffffff; line-height: 1.2; pointer-events: all; white-space: normal; word-wrap: normal; \"><font face=\"Georgia\" style=\"font-size: 18px\"><font color=\"#99ccff\"><i>V</i>, <i>P</i>,</font> <i>T</i></font></div></div></div></foreignObject><text fill=\"#ffffff\" font-family=\"Helvetica\" font-size=\"12px\" text-anchor=\"middle\" x=\"605\" y=\"474\">V, P, T</text></switch></g><path d=\"M 500.14 379.46 Q 500 380 495 395 Q 490 410 490 430 Q 490 450 510 470.5 Q 530 491 557.38 483.33\" fill=\"none\" pointer-events=\"stroke\" stroke=\"#000000\" stroke-miterlimit=\"10\" stroke-opacity=\"0.3\"/><path d=\"M 562.43 481.92 L 556.64 487.18 L 557.38 483.33 L 554.75 480.44 Z\" fill=\"#000000\" fill-opacity=\"0.3\" pointer-events=\"all\" stroke=\"#000000\" stroke-miterlimit=\"10\" stroke-opacity=\"0.3\"/><path d=\"M 460.14 360 Q 430 400 425 415.27 Q 420 430.54 445 470.27 Q 470 510 575.65 495.86\" fill=\"none\" pointer-events=\"stroke\" stroke=\"#000000\" stroke-miterlimit=\"10\" stroke-opacity=\"0.3\"/><path d=\"M 580.85 495.17 L 574.38 499.57 L 575.65 495.86 L 573.45 492.63 Z\" fill=\"#000000\" fill-opacity=\"0.3\" pointer-events=\"all\" stroke=\"#000000\" stroke-miterlimit=\"10\" stroke-opacity=\"0.3\"/><ellipse cx=\"480\" cy=\"451.66\" fill=\"#ffffff\" pointer-events=\"all\" rx=\"50\" ry=\"41.665\" stroke=\"#000000\"/><path d=\"M 410 420 L 442.86 452.86\" fill=\"none\" pointer-events=\"stroke\" stroke=\"#000000\" stroke-miterlimit=\"10\" stroke-width=\"3\"/><path d=\"M 447.63 457.63 L 438.08 454.45 L 442.86 452.86 L 444.45 448.08 Z\" fill=\"#000000\" pointer-events=\"all\" stroke=\"#000000\" stroke-miterlimit=\"10\" stroke-width=\"3\"/><g transform=\"translate(-0.5 -0.5)\"><switch><foreignObject height=\"100%\" pointer-events=\"none\" requiredFeatures=\"http://www.w3.org/TR/SVG11/feature#Extensibility\" style=\"overflow: visible; text-align: left;\" width=\"100%\"><div style=\"display: flex; align-items: unsafe center; justify-content: unsafe center; width: 1px; height: 1px; padding-top: 477px; margin-left: 477px;\" xmlns=\"http://www.w3.org/1999/xhtml\"><div style=\"box-sizing: border-box; font-size: 0; text-align: center; \"><div style=\"display: inline-block; font-size: 11px; font-family: Helvetica; color: #000000; line-height: 1.2; pointer-events: all; white-space: nowrap; \"><font color=\"#0000ff\" face=\"Georgia\" style=\"font-size: 18px\">Δ<i>Q</i><sub>in</sub></font></div></div></div></foreignObject><text fill=\"#000000\" font-family=\"Helvetica\" font-size=\"11px\" text-anchor=\"middle\" x=\"477\" y=\"480\">ΔQin</text></switch></g><path d=\"M 550 486.67 L 517.45 456.83\" fill=\"none\" pointer-events=\"stroke\" stroke=\"#000000\" stroke-miterlimit=\"10\" stroke-width=\"3\"/><path d=\"M 512.47 452.27 L 522.15 455.03 L 517.45 456.83 L 516.07 461.67 Z\" fill=\"#000000\" pointer-events=\"all\" stroke=\"#000000\" stroke-miterlimit=\"10\" stroke-width=\"3\"/><g transform=\"translate(-0.5 -0.5)\"><switch><foreignObject height=\"100%\" pointer-events=\"none\" requiredFeatures=\"http://www.w3.org/TR/SVG11/feature#Extensibility\" style=\"overflow: visible; text-align: left;\" width=\"100%\"><div style=\"display: flex; align-items: unsafe center; justify-content: unsafe center; width: 1px; height: 1px; padding-top: 435px; margin-left: 483px;\" xmlns=\"http://www.w3.org/1999/xhtml\"><div style=\"box-sizing: border-box; font-size: 0; text-align: center; \"><div style=\"display: inline-block; font-size: 11px; font-family: Helvetica; color: #000000; line-height: 1.2; pointer-events: all; white-space: nowrap; \"><span style=\"font-family: &quot;georgia&quot; ; font-size: 18px\"><font color=\"#0000ff\">Δ<i>W</i><sub>in</sub></font></span></div></div></div></foreignObject><text fill=\"#000000\" font-family=\"Helvetica\" font-size=\"11px\" text-anchor=\"middle\" x=\"483\" y=\"438\">ΔWin</text></switch></g></g><switch><g requiredFeatures=\"http://www.w3.org/TR/SVG11/feature#Extensibility\"/><a target=\"_blank\" transform=\"translate(0,-5)\" xlink:href=\"https://desk.draw.io/support/solutions/articles/16000042487\"><text font-size=\"10px\" text-anchor=\"middle\" x=\"50%\" y=\"100%\">Viewer does not support full SVG 1.1</text></a></switch></svg>"
          },
          "metadata": {
            "tags": []
          }
        }
      ]
    },
    {
      "cell_type": "markdown",
      "metadata": {
        "id": "6ZCK_1fmAzEf"
      },
      "source": [
        "\\begin{align*}\n",
        "U_{後} - U_{始} &= Q + W\\\\\n",
        "\\Delta U &= Q + W\\\\\n",
        "&= Q_{\\rm in} + W_{\\rm in}\\\\\n",
        "&= Q_{\\rm in} - W_{\\rm out}\\\\\n",
        "\\end{align*}"
      ]
    },
    {
      "cell_type": "markdown",
      "metadata": {
        "id": "FCaFsCVBLatX"
      },
      "source": [
        "熱や仕事の変化を強調するために, 熱の変化 $\\Delta Q$ と仕事の変化 $\\Delta W$ を考えると\n",
        "\\begin{align*}\n",
        "\\Delta U\n",
        "&= \\Delta  Q_{\\rm in} + \\Delta W_{\\rm in}\\\\\n",
        "&= \\Delta  Q_{\\rm in} - \\Delta W_{\\rm out}\\\\\n",
        "\\end{align*}"
      ]
    },
    {
      "cell_type": "code",
      "metadata": {
        "id": "eSykOB7fB3mH",
        "cellView": "form",
        "colab": {
          "base_uri": "https://localhost:8080/",
          "height": 336
        },
        "outputId": "83069f1d-04ca-46b6-bdc8-713f128498ed"
      },
      "source": [
        "#@title 注目する系(システム)に熱を加える\n",
        "%%html\n",
        "<iframe width=\"560\" height=\"315\" src=\"https://www.youtube-nocookie.com/embed/ZPErStqSSMk?start=40\" frameborder=\"0\" allow=\"accelerometer; autoplay; encrypted-media; gyroscope; picture-in-picture\" allowfullscreen></iframe>"
      ],
      "execution_count": null,
      "outputs": [
        {
          "output_type": "display_data",
          "data": {
            "text/html": [
              "<iframe width=\"560\" height=\"315\" src=\"https://www.youtube-nocookie.com/embed/ZPErStqSSMk?start=40\" frameborder=\"0\" allow=\"accelerometer; autoplay; encrypted-media; gyroscope; picture-in-picture\" allowfullscreen></iframe>"
            ],
            "text/plain": [
              "<IPython.core.display.HTML object>"
            ]
          },
          "metadata": {
            "tags": []
          }
        }
      ]
    },
    {
      "cell_type": "code",
      "metadata": {
        "id": "fLLqir55A6VN",
        "cellView": "form",
        "colab": {
          "base_uri": "https://localhost:8080/",
          "height": 336
        },
        "outputId": "0424ab6e-fd57-46ed-e6a9-ce540a4115d4"
      },
      "source": [
        "#@title 注目する系(sysytem)に仕事を加える\n",
        "%%html\n",
        "<iframe width=\"560\" height=\"315\" src=\"https://www.youtube-nocookie.com/embed/ZbZjo7zhWFk\" frameborder=\"0\" allow=\"accelerometer; autoplay; encrypted-media; gyroscope; picture-in-picture\" allowfullscreen></iframe>"
      ],
      "execution_count": null,
      "outputs": [
        {
          "output_type": "display_data",
          "data": {
            "text/html": [
              "<iframe width=\"560\" height=\"315\" src=\"https://www.youtube-nocookie.com/embed/ZbZjo7zhWFk\" frameborder=\"0\" allow=\"accelerometer; autoplay; encrypted-media; gyroscope; picture-in-picture\" allowfullscreen></iframe>"
            ],
            "text/plain": [
              "<IPython.core.display.HTML object>"
            ]
          },
          "metadata": {
            "tags": []
          }
        }
      ]
    },
    {
      "cell_type": "markdown",
      "metadata": {
        "id": "ymPd9BXzL_PR"
      },
      "source": [
        "### 気体がする仕事"
      ]
    },
    {
      "cell_type": "code",
      "metadata": {
        "id": "nKmtuMZmsLqA",
        "cellView": "form",
        "colab": {
          "base_uri": "https://localhost:8080/",
          "height": 336
        },
        "outputId": "2c4adc99-f610-468c-c87b-4028d9f12c1e"
      },
      "source": [
        "#@title 産業革命を支えた蒸気機関\n",
        "%%html\n",
        "<iframe width=\"560\" height=\"315\" src=\"https://www.youtube-nocookie.com/embed/FcDP_QykK3s\" frameborder=\"0\" allow=\"accelerometer; autoplay; encrypted-media; gyroscope; picture-in-picture\" allowfullscreen></iframe>"
      ],
      "execution_count": null,
      "outputs": [
        {
          "output_type": "display_data",
          "data": {
            "text/html": [
              "<iframe width=\"560\" height=\"315\" src=\"https://www.youtube-nocookie.com/embed/FcDP_QykK3s\" frameborder=\"0\" allow=\"accelerometer; autoplay; encrypted-media; gyroscope; picture-in-picture\" allowfullscreen></iframe>"
            ],
            "text/plain": [
              "<IPython.core.display.HTML object>"
            ]
          },
          "metadata": {
            "tags": []
          }
        }
      ]
    },
    {
      "cell_type": "code",
      "metadata": {
        "id": "qoRRR48CqC2G",
        "cellView": "form",
        "colab": {
          "base_uri": "https://localhost:8080/",
          "height": 336
        },
        "outputId": "e6f05ae8-7c35-4004-f880-bd18931690b0"
      },
      "source": [
        "#@title SL: steam locomotion\n",
        "%%html\n",
        "<iframe width=\"560\" height=\"315\" src=\"https://www.youtube-nocookie.com/embed/IVVf_3xpZb0\" frameborder=\"0\" allow=\"accelerometer; autoplay; encrypted-media; gyroscope; picture-in-picture\" allowfullscreen></iframe>"
      ],
      "execution_count": null,
      "outputs": [
        {
          "output_type": "display_data",
          "data": {
            "text/html": [
              "<iframe width=\"560\" height=\"315\" src=\"https://www.youtube-nocookie.com/embed/IVVf_3xpZb0\" frameborder=\"0\" allow=\"accelerometer; autoplay; encrypted-media; gyroscope; picture-in-picture\" allowfullscreen></iframe>"
            ],
            "text/plain": [
              "<IPython.core.display.HTML object>"
            ]
          },
          "metadata": {
            "tags": []
          }
        }
      ]
    },
    {
      "cell_type": "markdown",
      "metadata": {
        "id": "EHXudzqGsoig"
      },
      "source": [
        "### 復習: (物理における)仕事の定義\n",
        "\n",
        "- $W$: work, 仕事\n",
        "- $F$: force, 力\n",
        "- $s$: displacement, 変位\n",
        "\n",
        "\\begin{align*}\n",
        "W = F \\cdot s\n",
        "\\end{align*}\n",
        "\n",
        "> 変位と同じ方向の **力に変位を掛けたものを力と定義する** と読むことができます.\n",
        "\n",
        "単位は\n",
        "> $\\qquad {\\rm 1\\ J} = {\\rm 1\\ N \\cdot 1\\ m} \\left[= {\\rm 1\\ (kg\\cdot m/s^2) \\cdot 1\\ m}\\right]$\n",
        "\n",
        "今後は, \n",
        "\n",
        ">> - $\\Delta W$: work, 仕事 $\\qquad \\Delta W =W_{\\rm 終状態} - W_{\\rm 始状態}$\n",
        "- $F$: force, 力\n",
        "- $\\Delta x$: displacement, 変位 $\\qquad \\Delta x =x_{\\rm 終状態} - x_{\\rm 始状態}$\n",
        "\\begin{align*}\n",
        "\\Delta W = F \\cdot \\Delta x\n",
        "\\end{align*}\n",
        "\n",
        "と表現します.\n",
        "\n",
        "$\\qquad \\Delta$ は ギリシャ文字 の第四番目の(大)文字で 「**デルタ**」と読みます.  \n",
        "英語のアルファベットの四番目の文字は **d** なので, **difference** を表します.  \n",
        "物理では difference を考えるときは, (時間的に)\n",
        "\n",
        "> **後の状態 - 始めの状態**\n",
        "\n",
        "を必ず意識してください.\n",
        "\n",
        "> Q. 仕事の定義から, どのようなグラフの面積が仕事として定義できるか考えてください.\n"
      ]
    },
    {
      "cell_type": "code",
      "metadata": {
        "id": "WqtoUI3UssPG",
        "cellView": "form",
        "colab": {
          "base_uri": "https://localhost:8080/",
          "height": 326
        },
        "outputId": "f1cd8f24-ef56-4a2f-a02d-5a28ebc7d851"
      },
      "source": [
        "#@title 気体が(外部に)する仕事\n",
        "%%svg\n",
        "<svg xmlns=\"http://www.w3.org/2000/svg\" xmlns:xlink=\"http://www.w3.org/1999/xlink\" version=\"1.1\" width=\"541px\" viewBox=\"-0.5 -0.5 541 305\" content=\"&lt;mxfile host=&quot;www.draw.io&quot; modified=&quot;2020-07-02T11:12:08.598Z&quot; agent=&quot;5.0 (Macintosh; Intel Mac OS X 10_15_5) AppleWebKit/537.36 (KHTML, like Gecko) Chrome/83.0.4103.116 Safari/537.36&quot; etag=&quot;wUeVuYqrCzAOIN7D7q34&quot; version=&quot;13.3.0&quot; type=&quot;google&quot;&gt;&lt;diagram id=&quot;9bHa5pdwqvTCAj580ojm&quot; name=&quot;Page-1&quot;&gt;7Vvfk6I4EP5rqHtySxJQfBTXubmqmbqtmoe71wxESS0SDnB05q+/RBL5ERyQBRxXq3wITeiQ/rq/dDqowcVm/2eEQu+ZutjXwNjda/C7BsAUAI3/xu57KjCNWSpYR8RNRXomeCEfWAjHQrolLo4LHRNK/YSERaFDgwA7SUGGoojuit1W1C+OGqI1VgQvDvJV6T/ETbxUaoFpJn/EZO3JkfWJmN8Gyc5iJrGHXLrLieBSg4uI0iRtbfYL7HPbSbukzz2cuHt8sQgHSZMHPt4+Hp1Hb/XX8vn9+Sm0DHfz70ia+Q35WzFj8bbJuzRBRLeBi7mWsQbtnUcS/BIih9/dMcyZzEs2PrvSWTNOIvoTL6hPIyYJaMC62Svi+1KkAbiyHOw4TC7GxlGC9ydnpR9txXwM0w1OonfWRTwAJ2IGwr90ae5dhpYu+3g5pCwhQ8JB1kfVmQ1ZQ5jxDJPCeoviwJ1z38wslLNg2hu7il/WmiQ3ZbNixlIWYR8l5K2ovsoMYoQflLCB6y0uVcR0GzlYPJV3yJIis05RgqI1ThRFB1SO024PlHFjQIFxR0ApivoGClQgNfGZtexX1ljzhracarapWYA3rLlmT7TlRLOYxJZ92dhZdwVpBuMTemWLVwFj5JN1wNoOgxQz+rI5WRG2PMzFjQ1xXa7DjnBMPtDrQR/nyZBb42Af09bM75wFaZCIBU63xPUD2hCfm5WZKVoTxMQ+fwsbOT/XB+ItUelJyhQLoHiDbNnJu+PpMDjJr6Pxt1kR/E58ExQ9aqSXNNDVKsa9OJN+a/zcOuxrib7nsNcbEPRZucnJ2GmebpigQboxZLahmx0b6dIJ3NFUOYtag1p0cmsEUTZl67ygrKhvgpjeGFLH619FSlHUM1JmRUwtTW0+5elZRcJ2T84KLv5ZdmZNigtSJ46nF5WOdFDU0GN6Zt1jul16Njj7zuqRGjo9M4z6ZGLQ9ExO4Tx3dlHsHaymX5dvl7Njo3XFoaRo6IoDqMos0ioCkSWEpz9yhQVyBYWF7lenmmhki5MFYZHtOvGz0XSo5UiG623ErwGLtZ7W8VtWNHS+CdRd8dMXjsxDN/Fi0uG6DFNQG6bWrJvALMI+GyxMq7LGEl//qKbrVBZvj6Xhca5fTqy4D4Mn6c9z0DahsfCcDij+jAoXLFW4DFNJoYwKCoK9pVBVeeYd21bYltIqOL4wtvC8MzjHR3FMnCIyn3Fqzqpffu01esqdFUU9r72wqiKdRh3HpADu5L8tlTdGaUjMWQdghPvs5jFKF0ttZiixv/8s9pksHfTLZ+dDV5Zg7bmfXnCjUTeVJeMyCQJsUNSPPRTy5srHe8E4dkfkIylEh6lOcc+8Bl4qnwK2rkGXj87M2TdzWGZqsKvvhqoeTvLPVVUMBuekyXmcBDrx8FG52K34ZY+81KDcfeelyvL3tFRiUGFrXa1QVfXNTA32OHdmuiQzWbfGTEaDD0uu+iBOrztjaHwQd+HDCuN3/2BFQartBysKUgMfmRq/+wcrnSFVG5x9I9UgLxv6cBuUD7elTS51uC2d5l6Z/XVsrXpsB63MmlWfSZewfWmWNPo+CWNcHyIoDtN/cK3InodV000MZRpJwvsY427QgPVgDPpJqtmgTH7fJVauI+W4gq13iQr9qqr6/orydGX9vkv8CrtE88ya+vXvEs374ezB0/g7/d35OqRkwWZvWQG7zP6KnHpH9n9uuPwf&lt;/diagram&gt;&lt;/mxfile&gt;\" onclick=\"(function(svg){var src=window.event.target||window.event.srcElement;while (src!=null&amp;&amp;src.nodeName.toLowerCase()!='a'){src=src.parentNode;}if(src==null){if(svg.wnd!=null&amp;&amp;!svg.wnd.closed){svg.wnd.focus();}else{var r=function(evt){if(evt.data=='ready'&amp;&amp;evt.source==svg.wnd){svg.wnd.postMessage(decodeURIComponent(svg.getAttribute('content')),'*');window.removeEventListener('message',r);}};window.addEventListener('message',r);svg.wnd=window.open('https://www.draw.io/?client=1&amp;lightbox=1&amp;edit=_blank');}}})(this);\" style=\"cursor:pointer;max-width:100%;max-height:305px;\"><defs/><g><rect x=\"330\" y=\"0\" width=\"160\" height=\"80\" fill=\"#f8cecc\" stroke=\"none\" pointer-events=\"all\"/><path d=\"M 330 0 L 530 0\" fill=\"none\" stroke=\"#000000\" stroke-miterlimit=\"10\" pointer-events=\"stroke\"/><path d=\"M 330 80 L 530 80\" fill=\"none\" stroke=\"#000000\" stroke-miterlimit=\"10\" pointer-events=\"stroke\"/><g transform=\"translate(-0.5 -0.5)\"><switch><foreignObject style=\"overflow: visible; text-align: left;\" pointer-events=\"none\" width=\"100%\" height=\"100%\" requiredFeatures=\"http://www.w3.org/TR/SVG11/feature#Extensibility\"><div xmlns=\"http://www.w3.org/1999/xhtml\" style=\"display: flex; align-items: unsafe center; justify-content: unsafe center; width: 1px; height: 1px; padding-top: 68px; margin-left: 361px;\"><div style=\"box-sizing: border-box; font-size: 0; text-align: center; \"><div style=\"display: inline-block; font-size: 18px; font-family: Georgia; color: #000000; line-height: 1.2; pointer-events: all; white-space: nowrap; \"><b>終状態</b></div></div></div></foreignObject><text x=\"361\" y=\"73\" fill=\"#000000\" font-family=\"Georgia\" font-size=\"18px\" text-anchor=\"middle\">終状態</text></switch></g><path d=\"M 330 80 L 330 0\" fill=\"none\" stroke=\"#000000\" stroke-miterlimit=\"10\" pointer-events=\"stroke\"/><rect x=\"490\" y=\"0\" width=\"10\" height=\"80\" fill=\"#ffffff\" stroke=\"#000000\" pointer-events=\"all\"/><rect x=\"330\" y=\"160\" width=\"80\" height=\"80\" fill=\"#f8cecc\" stroke=\"none\" pointer-events=\"all\"/><path d=\"M 330 160 L 530 160\" fill=\"none\" stroke=\"#000000\" stroke-miterlimit=\"10\" pointer-events=\"stroke\"/><path d=\"M 330 240 L 530 240\" fill=\"none\" stroke=\"#000000\" stroke-miterlimit=\"10\" pointer-events=\"stroke\"/><g transform=\"translate(-0.5 -0.5)\"><switch><foreignObject style=\"overflow: visible; text-align: left;\" pointer-events=\"none\" width=\"100%\" height=\"100%\" requiredFeatures=\"http://www.w3.org/TR/SVG11/feature#Extensibility\"><div xmlns=\"http://www.w3.org/1999/xhtml\" style=\"display: flex; align-items: unsafe center; justify-content: unsafe center; width: 1px; height: 1px; padding-top: 228px; margin-left: 361px;\"><div style=\"box-sizing: border-box; font-size: 0; text-align: center; \"><div style=\"display: inline-block; font-size: 18px; font-family: Georgia; color: #000000; line-height: 1.2; pointer-events: all; white-space: nowrap; \">始状態</div></div></div></foreignObject><text x=\"361\" y=\"233\" fill=\"#000000\" font-family=\"Georgia\" font-size=\"18px\" text-anchor=\"middle\">始状態</text></switch></g><path d=\"M 330 240 L 330 160\" fill=\"none\" stroke=\"#000000\" stroke-miterlimit=\"10\" pointer-events=\"stroke\"/><rect x=\"410\" y=\"160\" width=\"10\" height=\"80\" fill=\"#ffffff\" stroke=\"#000000\" pointer-events=\"all\"/><path d=\"M 490 280 L 490 80\" fill=\"none\" stroke=\"#000000\" stroke-miterlimit=\"10\" stroke-dasharray=\"3 3\" pointer-events=\"stroke\"/><g transform=\"translate(-0.5 -0.5)\"><switch><foreignObject style=\"overflow: visible; text-align: left;\" pointer-events=\"none\" width=\"100%\" height=\"100%\" requiredFeatures=\"http://www.w3.org/TR/SVG11/feature#Extensibility\"><div xmlns=\"http://www.w3.org/1999/xhtml\" style=\"display: flex; align-items: unsafe center; justify-content: unsafe center; width: 1px; height: 1px; padding-top: 93px; margin-left: 481px;\"><div style=\"box-sizing: border-box; font-size: 0; text-align: center; \"><div style=\"display: inline-block; font-size: 18px; font-family: Georgia; color: #000000; line-height: 1.2; pointer-events: all; background-color: #ffffff; white-space: nowrap; \"><i>L'</i></div></div></div></foreignObject><text x=\"481\" y=\"98\" fill=\"#000000\" font-family=\"Georgia\" font-size=\"18px\" text-anchor=\"middle\">L'</text></switch></g><path d=\"M 409 280 L 409 240\" fill=\"none\" stroke=\"#000000\" stroke-miterlimit=\"10\" stroke-dasharray=\"3 3\" pointer-events=\"stroke\"/><g transform=\"translate(-0.5 -0.5)\"><switch><foreignObject style=\"overflow: visible; text-align: left;\" pointer-events=\"none\" width=\"100%\" height=\"100%\" requiredFeatures=\"http://www.w3.org/TR/SVG11/feature#Extensibility\"><div xmlns=\"http://www.w3.org/1999/xhtml\" style=\"display: flex; align-items: unsafe center; justify-content: unsafe center; width: 1px; height: 1px; padding-top: 252px; margin-left: 401px;\"><div style=\"box-sizing: border-box; font-size: 0; text-align: center; \"><div style=\"display: inline-block; font-size: 18px; font-family: Georgia; color: #000000; line-height: 1.2; pointer-events: all; font-style: italic; background-color: #ffffff; white-space: nowrap; \">L</div></div></div></foreignObject><text x=\"401\" y=\"257\" fill=\"#000000\" font-family=\"Georgia\" font-size=\"18px\" text-anchor=\"middle\" font-style=\"italic\">L</text></switch></g><rect x=\"500\" y=\"25\" width=\"40\" height=\"30\" fill=\"none\" stroke=\"none\" pointer-events=\"all\"/><g transform=\"translate(-0.5 -0.5)\"><switch><foreignObject style=\"overflow: visible; text-align: left;\" pointer-events=\"none\" width=\"100%\" height=\"100%\" requiredFeatures=\"http://www.w3.org/TR/SVG11/feature#Extensibility\"><div xmlns=\"http://www.w3.org/1999/xhtml\" style=\"display: flex; align-items: unsafe center; justify-content: unsafe center; width: 1px; height: 1px; padding-top: 40px; margin-left: 520px;\"><div style=\"box-sizing: border-box; font-size: 0; text-align: center; \"><div style=\"display: inline-block; font-size: 18px; font-family: Georgia; color: #000000; line-height: 1.2; pointer-events: all; white-space: nowrap; \"><i>P</i><sub>0</sub></div></div></div></foreignObject><text x=\"520\" y=\"45\" fill=\"#000000\" font-family=\"Georgia\" font-size=\"18px\" text-anchor=\"middle\">P0</text></switch></g><rect x=\"490\" y=\"185\" width=\"40\" height=\"30\" fill=\"none\" stroke=\"none\" pointer-events=\"all\"/><g transform=\"translate(-0.5 -0.5)\"><switch><foreignObject style=\"overflow: visible; text-align: left;\" pointer-events=\"none\" width=\"100%\" height=\"100%\" requiredFeatures=\"http://www.w3.org/TR/SVG11/feature#Extensibility\"><div xmlns=\"http://www.w3.org/1999/xhtml\" style=\"display: flex; align-items: unsafe center; justify-content: unsafe center; width: 1px; height: 1px; padding-top: 200px; margin-left: 510px;\"><div style=\"box-sizing: border-box; font-size: 0; text-align: center; \"><div style=\"display: inline-block; font-size: 18px; font-family: Georgia; color: #000000; line-height: 1.2; pointer-events: all; white-space: nowrap; \"><i>P</i><sub>0</sub></div></div></div></foreignObject><text x=\"510\" y=\"205\" fill=\"#000000\" font-family=\"Georgia\" font-size=\"18px\" text-anchor=\"middle\">P0</text></switch></g><path d=\"M 410 280 L 483.63 280\" fill=\"none\" stroke=\"#000000\" stroke-miterlimit=\"10\" pointer-events=\"stroke\"/><path d=\"M 488.88 280 L 481.88 283.5 L 483.63 280 L 481.88 276.5 Z\" fill=\"#000000\" stroke=\"#000000\" stroke-miterlimit=\"10\" pointer-events=\"all\"/><g transform=\"translate(-0.5 -0.5)\"><switch><foreignObject style=\"overflow: visible; text-align: left;\" pointer-events=\"none\" width=\"100%\" height=\"100%\" requiredFeatures=\"http://www.w3.org/TR/SVG11/feature#Extensibility\"><div xmlns=\"http://www.w3.org/1999/xhtml\" style=\"display: flex; align-items: unsafe center; justify-content: unsafe center; width: 1px; height: 1px; padding-top: 291px; margin-left: 451px;\"><div style=\"box-sizing: border-box; font-size: 0; text-align: center; \"><div style=\"display: inline-block; font-size: 18px; font-family: Georgia; color: #000000; line-height: 1.2; pointer-events: all; white-space: nowrap; \"><font style=\"font-size: 24px\">Δ<i>x</i></font></div></div></div></foreignObject><text x=\"451\" y=\"296\" fill=\"#000000\" font-family=\"Georgia\" font-size=\"18px\" text-anchor=\"middle\">Δx</text></switch></g><path d=\"M 430.55 46.5 L 430.45 33.5 L 473.45 33.14 L 473.36 22.64 L 489.5 39.5 L 473.64 56.64 L 473.55 46.14 Z\" fill=\"none\" stroke=\"#000000\" stroke-linejoin=\"round\" stroke-miterlimit=\"10\" pointer-events=\"all\"/><g transform=\"translate(-0.5 -0.5)\"><switch><foreignObject style=\"overflow: visible; text-align: left;\" pointer-events=\"none\" width=\"100%\" height=\"100%\" requiredFeatures=\"http://www.w3.org/TR/SVG11/feature#Extensibility\"><div xmlns=\"http://www.w3.org/1999/xhtml\" style=\"display: flex; align-items: unsafe center; justify-content: unsafe center; width: 1px; height: 1px; padding-top: 19px; margin-left: 451px;\"><div style=\"box-sizing: border-box; font-size: 0; text-align: center; \"><div style=\"display: inline-block; font-size: 18px; font-family: Georgia; color: #000000; line-height: 1.2; pointer-events: all; white-space: nowrap; \"><i><font style=\"font-size: 24px\">F</font></i></div></div></div></foreignObject><text x=\"451\" y=\"24\" fill=\"#000000\" font-family=\"Georgia\" font-size=\"18px\" text-anchor=\"middle\">F</text></switch></g><path d=\"M 349.5 206 L 349.5 193 L 392.5 193 L 392.5 182.5 L 408.5 199.5 L 392.5 216.5 L 392.5 206 Z\" fill=\"none\" stroke=\"#000000\" stroke-linejoin=\"round\" stroke-miterlimit=\"10\" pointer-events=\"all\"/><g transform=\"translate(-0.5 -0.5)\"><switch><foreignObject style=\"overflow: visible; text-align: left;\" pointer-events=\"none\" width=\"100%\" height=\"100%\" requiredFeatures=\"http://www.w3.org/TR/SVG11/feature#Extensibility\"><div xmlns=\"http://www.w3.org/1999/xhtml\" style=\"display: flex; align-items: unsafe center; justify-content: unsafe center; width: 1px; height: 1px; padding-top: 179px; margin-left: 371px;\"><div style=\"box-sizing: border-box; font-size: 0; text-align: center; \"><div style=\"display: inline-block; font-size: 18px; font-family: Georgia; color: #000000; line-height: 1.2; pointer-events: all; white-space: nowrap; \"><i><font style=\"font-size: 24px\">F</font></i></div></div></div></foreignObject><text x=\"371\" y=\"184\" fill=\"#000000\" font-family=\"Georgia\" font-size=\"18px\" text-anchor=\"middle\">F</text></switch></g><path d=\"M 90 80 L 290 80\" fill=\"none\" stroke=\"#000000\" stroke-miterlimit=\"10\" pointer-events=\"stroke\"/><path d=\"M 90 160 L 290 160\" fill=\"none\" stroke=\"#000000\" stroke-miterlimit=\"10\" pointer-events=\"stroke\"/><path d=\"M 90 160 L 90 80\" fill=\"none\" stroke=\"#000000\" stroke-miterlimit=\"10\" pointer-events=\"stroke\"/><rect x=\"210\" y=\"80\" width=\"10\" height=\"80\" fill=\"#ffffff\" stroke=\"#000000\" pointer-events=\"all\"/><rect x=\"250\" y=\"80\" width=\"40\" height=\"30\" fill=\"none\" stroke=\"none\" pointer-events=\"all\"/><g transform=\"translate(-0.5 -0.5)\"><switch><foreignObject style=\"overflow: visible; text-align: left;\" pointer-events=\"none\" width=\"100%\" height=\"100%\" requiredFeatures=\"http://www.w3.org/TR/SVG11/feature#Extensibility\"><div xmlns=\"http://www.w3.org/1999/xhtml\" style=\"display: flex; align-items: unsafe center; justify-content: unsafe center; width: 1px; height: 1px; padding-top: 95px; margin-left: 270px;\"><div style=\"box-sizing: border-box; font-size: 0; text-align: center; \"><div style=\"display: inline-block; font-size: 18px; font-family: Georgia; color: #000000; line-height: 1.2; pointer-events: all; white-space: nowrap; \"><i>P</i><sub>0</sub></div></div></div></foreignObject><text x=\"270\" y=\"100\" fill=\"#000000\" font-family=\"Georgia\" font-size=\"18px\" text-anchor=\"middle\">P0</text></switch></g><ellipse cx=\"40\" cy=\"120\" rx=\"40\" ry=\"40\" fill-opacity=\"0.4\" fill=\"#ffffff\" stroke=\"#000000\" stroke-opacity=\"0.4\" pointer-events=\"all\"/><g transform=\"translate(-0.5 -0.5)\"><switch><foreignObject style=\"overflow: visible; text-align: left;\" pointer-events=\"none\" width=\"100%\" height=\"100%\" requiredFeatures=\"http://www.w3.org/TR/SVG11/feature#Extensibility\"><div xmlns=\"http://www.w3.org/1999/xhtml\" style=\"display: flex; align-items: unsafe center; justify-content: unsafe center; width: 78px; height: 1px; padding-top: 120px; margin-left: 1px;\"><div style=\"box-sizing: border-box; font-size: 0; text-align: center; \"><div style=\"display: inline-block; font-size: 18px; font-family: Georgia; color: #000000; line-height: 1.2; pointer-events: all; white-space: normal; word-wrap: normal; \"><i>S</i></div></div></div></foreignObject><text x=\"40\" y=\"125\" fill=\"#000000\" font-family=\"Georgia\" font-size=\"18px\" text-anchor=\"middle\">S</text></switch></g><path d=\"M 150.5 126 L 150.5 113 L 193.5 113 L 193.5 102.5 L 209.5 119.5 L 193.5 136.5 L 193.5 126 Z\" fill=\"none\" stroke=\"#000000\" stroke-linejoin=\"round\" stroke-miterlimit=\"10\" pointer-events=\"all\"/><g transform=\"translate(-0.5 -0.5)\"><switch><foreignObject style=\"overflow: visible; text-align: left;\" pointer-events=\"none\" width=\"100%\" height=\"100%\" requiredFeatures=\"http://www.w3.org/TR/SVG11/feature#Extensibility\"><div xmlns=\"http://www.w3.org/1999/xhtml\" style=\"display: flex; align-items: unsafe center; justify-content: unsafe center; width: 1px; height: 1px; padding-top: 99px; margin-left: 172px;\"><div style=\"box-sizing: border-box; font-size: 0; text-align: center; \"><div style=\"display: inline-block; font-size: 18px; font-family: Georgia; color: #000000; line-height: 1.2; pointer-events: all; white-space: nowrap; \"><i><font style=\"font-size: 24px\">F</font></i></div></div></div></foreignObject><text x=\"172\" y=\"104\" fill=\"#000000\" font-family=\"Georgia\" font-size=\"18px\" text-anchor=\"middle\">F</text></switch></g><rect x=\"90\" y=\"130\" width=\"40\" height=\"30\" fill=\"none\" stroke=\"none\" pointer-events=\"all\"/><g transform=\"translate(-0.5 -0.5)\" opacity=\"0.4\"><switch><foreignObject style=\"overflow: visible; text-align: left;\" pointer-events=\"none\" width=\"100%\" height=\"100%\" requiredFeatures=\"http://www.w3.org/TR/SVG11/feature#Extensibility\"><div xmlns=\"http://www.w3.org/1999/xhtml\" style=\"display: flex; align-items: unsafe center; justify-content: unsafe center; width: 1px; height: 1px; padding-top: 145px; margin-left: 110px;\"><div style=\"box-sizing: border-box; font-size: 0; text-align: center; \"><div style=\"display: inline-block; font-size: 18px; font-family: Georgia; color: #000000; line-height: 1.2; pointer-events: all; white-space: nowrap; \"><i>P</i><sub>0</sub></div></div></div></foreignObject><text x=\"110\" y=\"150\" fill=\"#000000\" font-family=\"Georgia\" font-size=\"18px\" text-anchor=\"middle\">P0</text></switch></g></g><switch><g requiredFeatures=\"http://www.w3.org/TR/SVG11/feature#Extensibility\"/><a transform=\"translate(0,-5)\" xlink:href=\"https://desk.draw.io/support/solutions/articles/16000042487\" target=\"_blank\"><text text-anchor=\"middle\" font-size=\"10px\" x=\"50%\" y=\"100%\">Viewer does not support full SVG 1.1</text></a></switch></svg>"
      ],
      "execution_count": null,
      "outputs": [
        {
          "output_type": "display_data",
          "data": {
            "text/plain": [
              "<IPython.core.display.SVG object>"
            ],
            "image/svg+xml": "<svg content=\"&lt;mxfile host=&quot;www.draw.io&quot; modified=&quot;2020-07-02T11:12:08.598Z&quot; agent=&quot;5.0 (Macintosh; Intel Mac OS X 10_15_5) AppleWebKit/537.36 (KHTML, like Gecko) Chrome/83.0.4103.116 Safari/537.36&quot; etag=&quot;wUeVuYqrCzAOIN7D7q34&quot; version=&quot;13.3.0&quot; type=&quot;google&quot;&gt;&lt;diagram id=&quot;9bHa5pdwqvTCAj580ojm&quot; name=&quot;Page-1&quot;&gt;7Vvfk6I4EP5rqHtySxJQfBTXubmqmbqtmoe71wxESS0SDnB05q+/RBL5ERyQBRxXq3wITeiQ/rq/dDqowcVm/2eEQu+ZutjXwNjda/C7BsAUAI3/xu57KjCNWSpYR8RNRXomeCEfWAjHQrolLo4LHRNK/YSERaFDgwA7SUGGoojuit1W1C+OGqI1VgQvDvJV6T/ETbxUaoFpJn/EZO3JkfWJmN8Gyc5iJrGHXLrLieBSg4uI0iRtbfYL7HPbSbukzz2cuHt8sQgHSZMHPt4+Hp1Hb/XX8vn9+Sm0DHfz70ia+Q35WzFj8bbJuzRBRLeBi7mWsQbtnUcS/BIih9/dMcyZzEs2PrvSWTNOIvoTL6hPIyYJaMC62Svi+1KkAbiyHOw4TC7GxlGC9ydnpR9txXwM0w1OonfWRTwAJ2IGwr90ae5dhpYu+3g5pCwhQ8JB1kfVmQ1ZQ5jxDJPCeoviwJ1z38wslLNg2hu7il/WmiQ3ZbNixlIWYR8l5K2ovsoMYoQflLCB6y0uVcR0GzlYPJV3yJIis05RgqI1ThRFB1SO024PlHFjQIFxR0ApivoGClQgNfGZtexX1ljzhracarapWYA3rLlmT7TlRLOYxJZ92dhZdwVpBuMTemWLVwFj5JN1wNoOgxQz+rI5WRG2PMzFjQ1xXa7DjnBMPtDrQR/nyZBb42Af09bM75wFaZCIBU63xPUD2hCfm5WZKVoTxMQ+fwsbOT/XB+ItUelJyhQLoHiDbNnJu+PpMDjJr6Pxt1kR/E58ExQ9aqSXNNDVKsa9OJN+a/zcOuxrib7nsNcbEPRZucnJ2GmebpigQboxZLahmx0b6dIJ3NFUOYtag1p0cmsEUTZl67ygrKhvgpjeGFLH619FSlHUM1JmRUwtTW0+5elZRcJ2T84KLv5ZdmZNigtSJ46nF5WOdFDU0GN6Zt1jul16Njj7zuqRGjo9M4z6ZGLQ9ExO4Tx3dlHsHaymX5dvl7Njo3XFoaRo6IoDqMos0ioCkSWEpz9yhQVyBYWF7lenmmhki5MFYZHtOvGz0XSo5UiG623ErwGLtZ7W8VtWNHS+CdRd8dMXjsxDN/Fi0uG6DFNQG6bWrJvALMI+GyxMq7LGEl//qKbrVBZvj6Xhca5fTqy4D4Mn6c9z0DahsfCcDij+jAoXLFW4DFNJoYwKCoK9pVBVeeYd21bYltIqOL4wtvC8MzjHR3FMnCIyn3Fqzqpffu01esqdFUU9r72wqiKdRh3HpADu5L8tlTdGaUjMWQdghPvs5jFKF0ttZiixv/8s9pksHfTLZ+dDV5Zg7bmfXnCjUTeVJeMyCQJsUNSPPRTy5srHe8E4dkfkIylEh6lOcc+8Bl4qnwK2rkGXj87M2TdzWGZqsKvvhqoeTvLPVVUMBuekyXmcBDrx8FG52K34ZY+81KDcfeelyvL3tFRiUGFrXa1QVfXNTA32OHdmuiQzWbfGTEaDD0uu+iBOrztjaHwQd+HDCuN3/2BFQartBysKUgMfmRq/+wcrnSFVG5x9I9UgLxv6cBuUD7elTS51uC2d5l6Z/XVsrXpsB63MmlWfSZewfWmWNPo+CWNcHyIoDtN/cK3InodV000MZRpJwvsY427QgPVgDPpJqtmgTH7fJVauI+W4gq13iQr9qqr6/orydGX9vkv8CrtE88ya+vXvEs374ezB0/g7/d35OqRkwWZvWQG7zP6KnHpH9n9uuPwf&lt;/diagram&gt;&lt;/mxfile&gt;\" onclick=\"(function(svg){var src=window.event.target||window.event.srcElement;while (src!=null&amp;&amp;src.nodeName.toLowerCase()!='a'){src=src.parentNode;}if(src==null){if(svg.wnd!=null&amp;&amp;!svg.wnd.closed){svg.wnd.focus();}else{var r=function(evt){if(evt.data=='ready'&amp;&amp;evt.source==svg.wnd){svg.wnd.postMessage(decodeURIComponent(svg.getAttribute('content')),'*');window.removeEventListener('message',r);}};window.addEventListener('message',r);svg.wnd=window.open('https://www.draw.io/?client=1&amp;lightbox=1&amp;edit=_blank');}}})(this);\" style=\"cursor:pointer;max-width:100%;max-height:305px;\" version=\"1.1\" viewBox=\"-0.5 -0.5 541 305\" width=\"541px\" xmlns=\"http://www.w3.org/2000/svg\" xmlns:xlink=\"http://www.w3.org/1999/xlink\"><defs/><g><rect fill=\"#f8cecc\" height=\"80\" pointer-events=\"all\" stroke=\"none\" width=\"160\" x=\"330\" y=\"0\"/><path d=\"M 330 0 L 530 0\" fill=\"none\" pointer-events=\"stroke\" stroke=\"#000000\" stroke-miterlimit=\"10\"/><path d=\"M 330 80 L 530 80\" fill=\"none\" pointer-events=\"stroke\" stroke=\"#000000\" stroke-miterlimit=\"10\"/><g transform=\"translate(-0.5 -0.5)\"><switch><foreignObject height=\"100%\" pointer-events=\"none\" requiredFeatures=\"http://www.w3.org/TR/SVG11/feature#Extensibility\" style=\"overflow: visible; text-align: left;\" width=\"100%\"><div style=\"display: flex; align-items: unsafe center; justify-content: unsafe center; width: 1px; height: 1px; padding-top: 68px; margin-left: 361px;\" xmlns=\"http://www.w3.org/1999/xhtml\"><div style=\"box-sizing: border-box; font-size: 0; text-align: center; \"><div style=\"display: inline-block; font-size: 18px; font-family: Georgia; color: #000000; line-height: 1.2; pointer-events: all; white-space: nowrap; \"><b>終状態</b></div></div></div></foreignObject><text fill=\"#000000\" font-family=\"Georgia\" font-size=\"18px\" text-anchor=\"middle\" x=\"361\" y=\"73\">終状態</text></switch></g><path d=\"M 330 80 L 330 0\" fill=\"none\" pointer-events=\"stroke\" stroke=\"#000000\" stroke-miterlimit=\"10\"/><rect fill=\"#ffffff\" height=\"80\" pointer-events=\"all\" stroke=\"#000000\" width=\"10\" x=\"490\" y=\"0\"/><rect fill=\"#f8cecc\" height=\"80\" pointer-events=\"all\" stroke=\"none\" width=\"80\" x=\"330\" y=\"160\"/><path d=\"M 330 160 L 530 160\" fill=\"none\" pointer-events=\"stroke\" stroke=\"#000000\" stroke-miterlimit=\"10\"/><path d=\"M 330 240 L 530 240\" fill=\"none\" pointer-events=\"stroke\" stroke=\"#000000\" stroke-miterlimit=\"10\"/><g transform=\"translate(-0.5 -0.5)\"><switch><foreignObject height=\"100%\" pointer-events=\"none\" requiredFeatures=\"http://www.w3.org/TR/SVG11/feature#Extensibility\" style=\"overflow: visible; text-align: left;\" width=\"100%\"><div style=\"display: flex; align-items: unsafe center; justify-content: unsafe center; width: 1px; height: 1px; padding-top: 228px; margin-left: 361px;\" xmlns=\"http://www.w3.org/1999/xhtml\"><div style=\"box-sizing: border-box; font-size: 0; text-align: center; \"><div style=\"display: inline-block; font-size: 18px; font-family: Georgia; color: #000000; line-height: 1.2; pointer-events: all; white-space: nowrap; \">始状態</div></div></div></foreignObject><text fill=\"#000000\" font-family=\"Georgia\" font-size=\"18px\" text-anchor=\"middle\" x=\"361\" y=\"233\">始状態</text></switch></g><path d=\"M 330 240 L 330 160\" fill=\"none\" pointer-events=\"stroke\" stroke=\"#000000\" stroke-miterlimit=\"10\"/><rect fill=\"#ffffff\" height=\"80\" pointer-events=\"all\" stroke=\"#000000\" width=\"10\" x=\"410\" y=\"160\"/><path d=\"M 490 280 L 490 80\" fill=\"none\" pointer-events=\"stroke\" stroke=\"#000000\" stroke-dasharray=\"3 3\" stroke-miterlimit=\"10\"/><g transform=\"translate(-0.5 -0.5)\"><switch><foreignObject height=\"100%\" pointer-events=\"none\" requiredFeatures=\"http://www.w3.org/TR/SVG11/feature#Extensibility\" style=\"overflow: visible; text-align: left;\" width=\"100%\"><div style=\"display: flex; align-items: unsafe center; justify-content: unsafe center; width: 1px; height: 1px; padding-top: 93px; margin-left: 481px;\" xmlns=\"http://www.w3.org/1999/xhtml\"><div style=\"box-sizing: border-box; font-size: 0; text-align: center; \"><div style=\"display: inline-block; font-size: 18px; font-family: Georgia; color: #000000; line-height: 1.2; pointer-events: all; background-color: #ffffff; white-space: nowrap; \"><i>L'</i></div></div></div></foreignObject><text fill=\"#000000\" font-family=\"Georgia\" font-size=\"18px\" text-anchor=\"middle\" x=\"481\" y=\"98\">L'</text></switch></g><path d=\"M 409 280 L 409 240\" fill=\"none\" pointer-events=\"stroke\" stroke=\"#000000\" stroke-dasharray=\"3 3\" stroke-miterlimit=\"10\"/><g transform=\"translate(-0.5 -0.5)\"><switch><foreignObject height=\"100%\" pointer-events=\"none\" requiredFeatures=\"http://www.w3.org/TR/SVG11/feature#Extensibility\" style=\"overflow: visible; text-align: left;\" width=\"100%\"><div style=\"display: flex; align-items: unsafe center; justify-content: unsafe center; width: 1px; height: 1px; padding-top: 252px; margin-left: 401px;\" xmlns=\"http://www.w3.org/1999/xhtml\"><div style=\"box-sizing: border-box; font-size: 0; text-align: center; \"><div style=\"display: inline-block; font-size: 18px; font-family: Georgia; color: #000000; line-height: 1.2; pointer-events: all; font-style: italic; background-color: #ffffff; white-space: nowrap; \">L</div></div></div></foreignObject><text fill=\"#000000\" font-family=\"Georgia\" font-size=\"18px\" font-style=\"italic\" text-anchor=\"middle\" x=\"401\" y=\"257\">L</text></switch></g><rect fill=\"none\" height=\"30\" pointer-events=\"all\" stroke=\"none\" width=\"40\" x=\"500\" y=\"25\"/><g transform=\"translate(-0.5 -0.5)\"><switch><foreignObject height=\"100%\" pointer-events=\"none\" requiredFeatures=\"http://www.w3.org/TR/SVG11/feature#Extensibility\" style=\"overflow: visible; text-align: left;\" width=\"100%\"><div style=\"display: flex; align-items: unsafe center; justify-content: unsafe center; width: 1px; height: 1px; padding-top: 40px; margin-left: 520px;\" xmlns=\"http://www.w3.org/1999/xhtml\"><div style=\"box-sizing: border-box; font-size: 0; text-align: center; \"><div style=\"display: inline-block; font-size: 18px; font-family: Georgia; color: #000000; line-height: 1.2; pointer-events: all; white-space: nowrap; \"><i>P</i><sub>0</sub></div></div></div></foreignObject><text fill=\"#000000\" font-family=\"Georgia\" font-size=\"18px\" text-anchor=\"middle\" x=\"520\" y=\"45\">P0</text></switch></g><rect fill=\"none\" height=\"30\" pointer-events=\"all\" stroke=\"none\" width=\"40\" x=\"490\" y=\"185\"/><g transform=\"translate(-0.5 -0.5)\"><switch><foreignObject height=\"100%\" pointer-events=\"none\" requiredFeatures=\"http://www.w3.org/TR/SVG11/feature#Extensibility\" style=\"overflow: visible; text-align: left;\" width=\"100%\"><div style=\"display: flex; align-items: unsafe center; justify-content: unsafe center; width: 1px; height: 1px; padding-top: 200px; margin-left: 510px;\" xmlns=\"http://www.w3.org/1999/xhtml\"><div style=\"box-sizing: border-box; font-size: 0; text-align: center; \"><div style=\"display: inline-block; font-size: 18px; font-family: Georgia; color: #000000; line-height: 1.2; pointer-events: all; white-space: nowrap; \"><i>P</i><sub>0</sub></div></div></div></foreignObject><text fill=\"#000000\" font-family=\"Georgia\" font-size=\"18px\" text-anchor=\"middle\" x=\"510\" y=\"205\">P0</text></switch></g><path d=\"M 410 280 L 483.63 280\" fill=\"none\" pointer-events=\"stroke\" stroke=\"#000000\" stroke-miterlimit=\"10\"/><path d=\"M 488.88 280 L 481.88 283.5 L 483.63 280 L 481.88 276.5 Z\" fill=\"#000000\" pointer-events=\"all\" stroke=\"#000000\" stroke-miterlimit=\"10\"/><g transform=\"translate(-0.5 -0.5)\"><switch><foreignObject height=\"100%\" pointer-events=\"none\" requiredFeatures=\"http://www.w3.org/TR/SVG11/feature#Extensibility\" style=\"overflow: visible; text-align: left;\" width=\"100%\"><div style=\"display: flex; align-items: unsafe center; justify-content: unsafe center; width: 1px; height: 1px; padding-top: 291px; margin-left: 451px;\" xmlns=\"http://www.w3.org/1999/xhtml\"><div style=\"box-sizing: border-box; font-size: 0; text-align: center; \"><div style=\"display: inline-block; font-size: 18px; font-family: Georgia; color: #000000; line-height: 1.2; pointer-events: all; white-space: nowrap; \"><font style=\"font-size: 24px\">Δ<i>x</i></font></div></div></div></foreignObject><text fill=\"#000000\" font-family=\"Georgia\" font-size=\"18px\" text-anchor=\"middle\" x=\"451\" y=\"296\">Δx</text></switch></g><path d=\"M 430.55 46.5 L 430.45 33.5 L 473.45 33.14 L 473.36 22.64 L 489.5 39.5 L 473.64 56.64 L 473.55 46.14 Z\" fill=\"none\" pointer-events=\"all\" stroke=\"#000000\" stroke-linejoin=\"round\" stroke-miterlimit=\"10\"/><g transform=\"translate(-0.5 -0.5)\"><switch><foreignObject height=\"100%\" pointer-events=\"none\" requiredFeatures=\"http://www.w3.org/TR/SVG11/feature#Extensibility\" style=\"overflow: visible; text-align: left;\" width=\"100%\"><div style=\"display: flex; align-items: unsafe center; justify-content: unsafe center; width: 1px; height: 1px; padding-top: 19px; margin-left: 451px;\" xmlns=\"http://www.w3.org/1999/xhtml\"><div style=\"box-sizing: border-box; font-size: 0; text-align: center; \"><div style=\"display: inline-block; font-size: 18px; font-family: Georgia; color: #000000; line-height: 1.2; pointer-events: all; white-space: nowrap; \"><i><font style=\"font-size: 24px\">F</font></i></div></div></div></foreignObject><text fill=\"#000000\" font-family=\"Georgia\" font-size=\"18px\" text-anchor=\"middle\" x=\"451\" y=\"24\">F</text></switch></g><path d=\"M 349.5 206 L 349.5 193 L 392.5 193 L 392.5 182.5 L 408.5 199.5 L 392.5 216.5 L 392.5 206 Z\" fill=\"none\" pointer-events=\"all\" stroke=\"#000000\" stroke-linejoin=\"round\" stroke-miterlimit=\"10\"/><g transform=\"translate(-0.5 -0.5)\"><switch><foreignObject height=\"100%\" pointer-events=\"none\" requiredFeatures=\"http://www.w3.org/TR/SVG11/feature#Extensibility\" style=\"overflow: visible; text-align: left;\" width=\"100%\"><div style=\"display: flex; align-items: unsafe center; justify-content: unsafe center; width: 1px; height: 1px; padding-top: 179px; margin-left: 371px;\" xmlns=\"http://www.w3.org/1999/xhtml\"><div style=\"box-sizing: border-box; font-size: 0; text-align: center; \"><div style=\"display: inline-block; font-size: 18px; font-family: Georgia; color: #000000; line-height: 1.2; pointer-events: all; white-space: nowrap; \"><i><font style=\"font-size: 24px\">F</font></i></div></div></div></foreignObject><text fill=\"#000000\" font-family=\"Georgia\" font-size=\"18px\" text-anchor=\"middle\" x=\"371\" y=\"184\">F</text></switch></g><path d=\"M 90 80 L 290 80\" fill=\"none\" pointer-events=\"stroke\" stroke=\"#000000\" stroke-miterlimit=\"10\"/><path d=\"M 90 160 L 290 160\" fill=\"none\" pointer-events=\"stroke\" stroke=\"#000000\" stroke-miterlimit=\"10\"/><path d=\"M 90 160 L 90 80\" fill=\"none\" pointer-events=\"stroke\" stroke=\"#000000\" stroke-miterlimit=\"10\"/><rect fill=\"#ffffff\" height=\"80\" pointer-events=\"all\" stroke=\"#000000\" width=\"10\" x=\"210\" y=\"80\"/><rect fill=\"none\" height=\"30\" pointer-events=\"all\" stroke=\"none\" width=\"40\" x=\"250\" y=\"80\"/><g transform=\"translate(-0.5 -0.5)\"><switch><foreignObject height=\"100%\" pointer-events=\"none\" requiredFeatures=\"http://www.w3.org/TR/SVG11/feature#Extensibility\" style=\"overflow: visible; text-align: left;\" width=\"100%\"><div style=\"display: flex; align-items: unsafe center; justify-content: unsafe center; width: 1px; height: 1px; padding-top: 95px; margin-left: 270px;\" xmlns=\"http://www.w3.org/1999/xhtml\"><div style=\"box-sizing: border-box; font-size: 0; text-align: center; \"><div style=\"display: inline-block; font-size: 18px; font-family: Georgia; color: #000000; line-height: 1.2; pointer-events: all; white-space: nowrap; \"><i>P</i><sub>0</sub></div></div></div></foreignObject><text fill=\"#000000\" font-family=\"Georgia\" font-size=\"18px\" text-anchor=\"middle\" x=\"270\" y=\"100\">P0</text></switch></g><ellipse cx=\"40\" cy=\"120\" fill=\"#ffffff\" fill-opacity=\"0.4\" pointer-events=\"all\" rx=\"40\" ry=\"40\" stroke=\"#000000\" stroke-opacity=\"0.4\"/><g transform=\"translate(-0.5 -0.5)\"><switch><foreignObject height=\"100%\" pointer-events=\"none\" requiredFeatures=\"http://www.w3.org/TR/SVG11/feature#Extensibility\" style=\"overflow: visible; text-align: left;\" width=\"100%\"><div style=\"display: flex; align-items: unsafe center; justify-content: unsafe center; width: 78px; height: 1px; padding-top: 120px; margin-left: 1px;\" xmlns=\"http://www.w3.org/1999/xhtml\"><div style=\"box-sizing: border-box; font-size: 0; text-align: center; \"><div style=\"display: inline-block; font-size: 18px; font-family: Georgia; color: #000000; line-height: 1.2; pointer-events: all; white-space: normal; word-wrap: normal; \"><i>S</i></div></div></div></foreignObject><text fill=\"#000000\" font-family=\"Georgia\" font-size=\"18px\" text-anchor=\"middle\" x=\"40\" y=\"125\">S</text></switch></g><path d=\"M 150.5 126 L 150.5 113 L 193.5 113 L 193.5 102.5 L 209.5 119.5 L 193.5 136.5 L 193.5 126 Z\" fill=\"none\" pointer-events=\"all\" stroke=\"#000000\" stroke-linejoin=\"round\" stroke-miterlimit=\"10\"/><g transform=\"translate(-0.5 -0.5)\"><switch><foreignObject height=\"100%\" pointer-events=\"none\" requiredFeatures=\"http://www.w3.org/TR/SVG11/feature#Extensibility\" style=\"overflow: visible; text-align: left;\" width=\"100%\"><div style=\"display: flex; align-items: unsafe center; justify-content: unsafe center; width: 1px; height: 1px; padding-top: 99px; margin-left: 172px;\" xmlns=\"http://www.w3.org/1999/xhtml\"><div style=\"box-sizing: border-box; font-size: 0; text-align: center; \"><div style=\"display: inline-block; font-size: 18px; font-family: Georgia; color: #000000; line-height: 1.2; pointer-events: all; white-space: nowrap; \"><i><font style=\"font-size: 24px\">F</font></i></div></div></div></foreignObject><text fill=\"#000000\" font-family=\"Georgia\" font-size=\"18px\" text-anchor=\"middle\" x=\"172\" y=\"104\">F</text></switch></g><rect fill=\"none\" height=\"30\" pointer-events=\"all\" stroke=\"none\" width=\"40\" x=\"90\" y=\"130\"/><g opacity=\"0.4\" transform=\"translate(-0.5 -0.5)\"><switch><foreignObject height=\"100%\" pointer-events=\"none\" requiredFeatures=\"http://www.w3.org/TR/SVG11/feature#Extensibility\" style=\"overflow: visible; text-align: left;\" width=\"100%\"><div style=\"display: flex; align-items: unsafe center; justify-content: unsafe center; width: 1px; height: 1px; padding-top: 145px; margin-left: 110px;\" xmlns=\"http://www.w3.org/1999/xhtml\"><div style=\"box-sizing: border-box; font-size: 0; text-align: center; \"><div style=\"display: inline-block; font-size: 18px; font-family: Georgia; color: #000000; line-height: 1.2; pointer-events: all; white-space: nowrap; \"><i>P</i><sub>0</sub></div></div></div></foreignObject><text fill=\"#000000\" font-family=\"Georgia\" font-size=\"18px\" text-anchor=\"middle\" x=\"110\" y=\"150\">P0</text></switch></g></g><switch><g requiredFeatures=\"http://www.w3.org/TR/SVG11/feature#Extensibility\"/><a target=\"_blank\" transform=\"translate(0,-5)\" xlink:href=\"https://desk.draw.io/support/solutions/articles/16000042487\"><text font-size=\"10px\" text-anchor=\"middle\" x=\"50%\" y=\"100%\">Viewer does not support full SVG 1.1</text></a></switch></svg>"
          },
          "metadata": {
            "tags": []
          }
        }
      ]
    },
    {
      "cell_type": "markdown",
      "metadata": {
        "id": "St-GTj5t8Yu6"
      },
      "source": [
        "> Q. 上の図はピストンに閉じ込められた気体の模式図です.   \n",
        "最も左の図を利用し, 気体がピストンを押す力 $F$ を外部の圧力 $P_0$   \n",
        "と ピストンの断面積 $\bS$ で示してください.\n",
        "\n",
        "> Q. 仕事の定義を用いて, 上図右の 始状態から    \n",
        "終状態に気体が(非常にゆっくり)膨張したとき, 気体が(外部に)した  \n",
        "仕事 $\\Delta W_{\\rm out}$ を $P_0, S, L, L'$ を用いて示してください.\n",
        "\n",
        "> Q. 気体の体積増加 $\\Delta V$ を, $S,L,L'$ を用いて示してください."
      ]
    },
    {
      "cell_type": "markdown",
      "metadata": {
        "id": "pF1J0bOVTYRq"
      },
      "source": [
        "$$\n",
        "\\Delta W_{\\rm out} = P \\Delta V\n",
        "$$"
      ]
    },
    {
      "cell_type": "markdown",
      "metadata": {
        "id": "HA_HSe1eoAtR"
      },
      "source": [
        "> 教科書 p174 の例題1 に取り組んでください"
      ]
    },
    {
      "cell_type": "markdown",
      "metadata": {
        "id": "VQEmyrZxTzZd"
      },
      "source": [
        "$\\require{cancel}$\n",
        "### $P-V$ グラフ\n",
        "\n",
        "\\begin{align*}\n",
        "\\Delta W_{\\rm out} = P \\Delta V\n",
        "\\end{align*}\n",
        "\n",
        "- $V$ を横軸, $P$ を縦軸にとると $\\Delta W_{\\rm out}$ は面積に相当\n",
        "\n",
        "1. $P \\geqq 0$\n",
        "1. $\\Delta W_{\\rm out}$ と　$\\Delta V$ は同じ符号\n",
        "1. $\\Delta V$ が非常に小さいときは, $P=P_0$ 一定として差し支えない"
      ]
    },
    {
      "cell_type": "code",
      "metadata": {
        "id": "vkt04HRWUSkv",
        "cellView": "form",
        "colab": {
          "base_uri": "https://localhost:8080/",
          "height": 343
        },
        "outputId": "60660c15-0cee-4fa0-9589-dff02e65cbcf"
      },
      "source": [
        "#@title 等圧過程での気体による仕事\n",
        "%%svg\n",
        "<svg xmlns=\"http://www.w3.org/2000/svg\" xmlns:xlink=\"http://www.w3.org/1999/xlink\" version=\"1.1\" width=\"386px\" viewBox=\"-0.5 -0.5 386 322\" content=\"&lt;mxfile host=&quot;www.draw.io&quot; modified=&quot;2020-07-08T05:12:53.440Z&quot; agent=&quot;5.0 (Macintosh; Intel Mac OS X 10_10_5) AppleWebKit/537.36 (KHTML, like Gecko) Chrome/83.0.4103.116 Safari/537.36&quot; etag=&quot;RjDJ0-b7COzZRkA7qkp0&quot; version=&quot;13.3.9&quot; type=&quot;google&quot;&gt;&lt;diagram id=&quot;zdGFQRVHOF5PxiKdzEUs&quot; name=&quot;Page-1&quot;&gt;5VjJdpswFP0aLZ3DbHmJp3bRIac5bZOlDAKUYkSFHNv9+gqQAHlobMdxhnpjdKX3JL179XgC2KP56gNDefKZhjgFlhGugD0GlmUasC/+SmStEGNQIzEjocRa4Ib8wWqgRBckxIU2kFOacpLrYECzDAdcwxBjdKkPi2iqz5qjGG8BNwFKt9GfJORJjbrQbvGPmMSJnBlacsNzpMbKjRQJCumyA9kTYI8Ypbx+mq9GOC2Dp8JS20339DbrYjjjhxjE33KO7v07fP/1S3I7/X5/u8A96eUBpQu5X7lYvlYBwFnol3EUrSBFRUECYA8TPk8FYIrH2gCHW2FsF2Y22xU6wXSOOVuLIctOPGWQkk4oFcZwijh50N0jSWvcuGtmuKZETGwZUoNQupECbNrKQ0EXLMDSqBu/DT+O84gjjliM+ZYj8dDZdQtV9BxBlbeDKi8VsRpGtFpny5n3e0FVR6+ojpQvBlhOvmo7y8OAAt1ALJPFBHUHebH8r6YiCvihELEXsjlKYPWaFLwpKSGWT2gmUoWmJJSSOCtlJoSDmQAeMONEHEVfdsxJGJY+hgyLXaFZ5c8Q7bwMekWDOwTuuJmzdIBXmnBknpDG7fHs6nX/UdkWsfRuXA1M09QEog7XE/VreTu9Kgc0igr8LIKz3n9uMC39TNvWiclh05Fz2dzQf1W54fq/yw3WI7kBuv3z5gblZlNnz5cNnCdLzIS6xKQAJn3gjwEcgIkLBiPg98EEAugBH5bIcASG7qHaYXSRhTiUxC8TwvFNXut4KcpTXVERSdMRTSmrbO0IBjgo01fBGf2FOz0z6Dqu8S/dHJDPlIGn54kmb3TyHdyR7xq7XdrQqD6WV3cvr0WOsvPy2jz0wRACf9LhtZ7sGXgNEYbRTl69AOJZdB5ebeu18Qqf/vauI6ZuPfauGE6nhviJHhEntr6VhlXjTtJVNcYrrbWWrUPrA3Hnq16gj+WnF6sj9h3rY+uI5torHfUvW0cMLiKaUjLT6RsoDx3jTLTuTQ8X4lWp6kBiM5qVlVSIiqTKuqZOcYlfIy7qsKxCLMPeIt56A/RuFu0n0+vYL0yvvfclfmpxdkT935T7xWKmMKP7am/hd30JMI3dYpbue8bVYPMyb59Fxz3b0k1OuQWIZvstsh7eftG1J38B&lt;/diagram&gt;&lt;/mxfile&gt;\" onclick=\"(function(svg){var src=window.event.target||window.event.srcElement;while (src!=null&amp;&amp;src.nodeName.toLowerCase()!='a'){src=src.parentNode;}if(src==null){if(svg.wnd!=null&amp;&amp;!svg.wnd.closed){svg.wnd.focus();}else{var r=function(evt){if(evt.data=='ready'&amp;&amp;evt.source==svg.wnd){svg.wnd.postMessage(decodeURIComponent(svg.getAttribute('content')),'*');window.removeEventListener('message',r);}};window.addEventListener('message',r);svg.wnd=window.open('https://www.draw.io/?client=1&amp;lightbox=1&amp;edit=_blank');}}})(this);\" style=\"cursor:pointer;max-width:100%;max-height:322px;\"><defs/><g><path d=\"M 7 273 L 360.63 273\" fill=\"none\" stroke=\"#000000\" stroke-miterlimit=\"10\" pointer-events=\"stroke\"/><path d=\"M 365.88 273 L 358.88 276.5 L 360.63 273 L 358.88 269.5 Z\" fill=\"#000000\" stroke=\"#000000\" stroke-miterlimit=\"10\" pointer-events=\"all\"/><g transform=\"translate(-0.5 -0.5)\"><switch><foreignObject style=\"overflow: visible; text-align: left;\" pointer-events=\"none\" width=\"100%\" height=\"100%\" requiredFeatures=\"http://www.w3.org/TR/SVG11/feature#Extensibility\"><div xmlns=\"http://www.w3.org/1999/xhtml\" style=\"display: flex; align-items: unsafe center; justify-content: unsafe center; width: 1px; height: 1px; padding-top: 274px; margin-left: 378px;\"><div style=\"box-sizing: border-box; font-size: 0; text-align: center; \"><div style=\"display: inline-block; font-size: 11px; font-family: Helvetica; color: #000000; line-height: 1.2; pointer-events: all; background-color: #ffffff; white-space: nowrap; \"><font style=\"font-size: 24px\" face=\"Georgia\"><i>V</i></font></div></div></div></foreignObject><text x=\"378\" y=\"277\" fill=\"#000000\" font-family=\"Helvetica\" font-size=\"11px\" text-anchor=\"middle\">V</text></switch></g><path d=\"M 47 313 L 47 39.37\" fill=\"none\" stroke=\"#000000\" stroke-miterlimit=\"10\" pointer-events=\"stroke\"/><path d=\"M 47 34.12 L 50.5 41.12 L 47 39.37 L 43.5 41.12 Z\" fill=\"#000000\" stroke=\"#000000\" stroke-miterlimit=\"10\" pointer-events=\"all\"/><g transform=\"translate(-0.5 -0.5)\"><switch><foreignObject style=\"overflow: visible; text-align: left;\" pointer-events=\"none\" width=\"100%\" height=\"100%\" requiredFeatures=\"http://www.w3.org/TR/SVG11/feature#Extensibility\"><div xmlns=\"http://www.w3.org/1999/xhtml\" style=\"display: flex; align-items: unsafe center; justify-content: unsafe center; width: 1px; height: 1px; padding-top: 14px; margin-left: 49px;\"><div style=\"box-sizing: border-box; font-size: 0; text-align: center; \"><div style=\"display: inline-block; font-size: 11px; font-family: Helvetica; color: #000000; line-height: 1.2; pointer-events: all; background-color: #ffffff; white-space: nowrap; \"><font style=\"font-size: 24px\" face=\"Georgia\"><i>P</i></font></div></div></div></foreignObject><text x=\"49\" y=\"17\" fill=\"#000000\" font-family=\"Helvetica\" font-size=\"11px\" text-anchor=\"middle\">P</text></switch></g><rect x=\"87\" y=\"113\" width=\"80\" height=\"160\" fill=\"#f8cecc\" stroke=\"#b85450\" pointer-events=\"all\"/><g transform=\"translate(-0.5 -0.5)\"><switch><foreignObject style=\"overflow: visible; text-align: left;\" pointer-events=\"none\" width=\"100%\" height=\"100%\" requiredFeatures=\"http://www.w3.org/TR/SVG11/feature#Extensibility\"><div xmlns=\"http://www.w3.org/1999/xhtml\" style=\"display: flex; align-items: unsafe center; justify-content: unsafe center; width: 78px; height: 1px; padding-top: 193px; margin-left: 88px;\"><div style=\"box-sizing: border-box; font-size: 0; text-align: center; \"><div style=\"display: inline-block; font-size: 12px; font-family: Helvetica; color: #000000; line-height: 1.2; pointer-events: all; white-space: normal; word-wrap: normal; \"><font style=\"font-size: 18px\">等圧膨張</font></div></div></div></foreignObject><text x=\"127\" y=\"197\" fill=\"#000000\" font-family=\"Helvetica\" font-size=\"12px\" text-anchor=\"middle\">等圧膨張</text></switch></g><rect x=\"247\" y=\"113\" width=\"80\" height=\"160\" fill=\"#dae8fc\" stroke=\"#6c8ebf\" pointer-events=\"all\"/><g transform=\"translate(-0.5 -0.5)\"><switch><foreignObject style=\"overflow: visible; text-align: left;\" pointer-events=\"none\" width=\"100%\" height=\"100%\" requiredFeatures=\"http://www.w3.org/TR/SVG11/feature#Extensibility\"><div xmlns=\"http://www.w3.org/1999/xhtml\" style=\"display: flex; align-items: unsafe center; justify-content: unsafe center; width: 78px; height: 1px; padding-top: 193px; margin-left: 248px;\"><div style=\"box-sizing: border-box; font-size: 0; text-align: center; \"><div style=\"display: inline-block; font-size: 12px; font-family: Helvetica; color: #000000; line-height: 1.2; pointer-events: all; white-space: normal; word-wrap: normal; \"><span style=\"font-size: 18px\">等圧圧縮</span></div></div></div></foreignObject><text x=\"287\" y=\"197\" fill=\"#000000\" font-family=\"Helvetica\" font-size=\"12px\" text-anchor=\"middle\">等圧圧縮</text></switch></g><path d=\"M 87 113 L 156.9 113\" fill=\"none\" stroke=\"#ff0000\" stroke-width=\"3\" stroke-miterlimit=\"10\" pointer-events=\"stroke\"/><path d=\"M 163.65 113 L 154.65 117.5 L 156.9 113 L 154.65 108.5 Z\" fill=\"#ff0000\" stroke=\"#ff0000\" stroke-width=\"3\" stroke-miterlimit=\"10\" pointer-events=\"all\"/><path d=\"M 327 113 L 257.1 113\" fill=\"none\" stroke=\"#0000ff\" stroke-width=\"3\" stroke-miterlimit=\"10\" pointer-events=\"stroke\"/><path d=\"M 250.35 113 L 259.35 108.5 L 257.1 113 L 259.35 117.5 Z\" fill=\"#0000ff\" stroke=\"#0000ff\" stroke-width=\"3\" stroke-miterlimit=\"10\" pointer-events=\"all\"/><path d=\"M 47 113 L 357 113\" fill=\"none\" stroke=\"#000000\" stroke-width=\"2\" stroke-miterlimit=\"10\" stroke-dasharray=\"2 6\" pointer-events=\"stroke\"/><g transform=\"translate(-0.5 -0.5)\"><switch><foreignObject style=\"overflow: visible; text-align: left;\" pointer-events=\"none\" width=\"100%\" height=\"100%\" requiredFeatures=\"http://www.w3.org/TR/SVG11/feature#Extensibility\"><div xmlns=\"http://www.w3.org/1999/xhtml\" style=\"display: flex; align-items: unsafe center; justify-content: unsafe center; width: 1px; height: 1px; padding-top: 111px; margin-left: 28px;\"><div style=\"box-sizing: border-box; font-size: 0; text-align: center; \"><div style=\"display: inline-block; font-size: 11px; font-family: Helvetica; color: #000000; line-height: 1.2; pointer-events: all; background-color: #ffffff; white-space: nowrap; \"><font style=\"font-size: 18px\" face=\"Georgia\">P<sub>0</sub></font></div></div></div></foreignObject><text x=\"28\" y=\"114\" fill=\"#000000\" font-family=\"Helvetica\" font-size=\"11px\" text-anchor=\"middle\">P0</text></switch></g></g><switch><g requiredFeatures=\"http://www.w3.org/TR/SVG11/feature#Extensibility\"/><a transform=\"translate(0,-5)\" xlink:href=\"https://desk.draw.io/support/solutions/articles/16000042487\" target=\"_blank\"><text text-anchor=\"middle\" font-size=\"10px\" x=\"50%\" y=\"100%\">Viewer does not support full SVG 1.1</text></a></switch></svg>"
      ],
      "execution_count": null,
      "outputs": [
        {
          "output_type": "display_data",
          "data": {
            "text/plain": [
              "<IPython.core.display.SVG object>"
            ],
            "image/svg+xml": "<svg content=\"&lt;mxfile host=&quot;www.draw.io&quot; modified=&quot;2020-07-08T05:12:53.440Z&quot; agent=&quot;5.0 (Macintosh; Intel Mac OS X 10_10_5) AppleWebKit/537.36 (KHTML, like Gecko) Chrome/83.0.4103.116 Safari/537.36&quot; etag=&quot;RjDJ0-b7COzZRkA7qkp0&quot; version=&quot;13.3.9&quot; type=&quot;google&quot;&gt;&lt;diagram id=&quot;zdGFQRVHOF5PxiKdzEUs&quot; name=&quot;Page-1&quot;&gt;5VjJdpswFP0aLZ3DbHmJp3bRIac5bZOlDAKUYkSFHNv9+gqQAHlobMdxhnpjdKX3JL179XgC2KP56gNDefKZhjgFlhGugD0GlmUasC/+SmStEGNQIzEjocRa4Ib8wWqgRBckxIU2kFOacpLrYECzDAdcwxBjdKkPi2iqz5qjGG8BNwFKt9GfJORJjbrQbvGPmMSJnBlacsNzpMbKjRQJCumyA9kTYI8Ypbx+mq9GOC2Dp8JS20339DbrYjjjhxjE33KO7v07fP/1S3I7/X5/u8A96eUBpQu5X7lYvlYBwFnol3EUrSBFRUECYA8TPk8FYIrH2gCHW2FsF2Y22xU6wXSOOVuLIctOPGWQkk4oFcZwijh50N0jSWvcuGtmuKZETGwZUoNQupECbNrKQ0EXLMDSqBu/DT+O84gjjliM+ZYj8dDZdQtV9BxBlbeDKi8VsRpGtFpny5n3e0FVR6+ojpQvBlhOvmo7y8OAAt1ALJPFBHUHebH8r6YiCvihELEXsjlKYPWaFLwpKSGWT2gmUoWmJJSSOCtlJoSDmQAeMONEHEVfdsxJGJY+hgyLXaFZ5c8Q7bwMekWDOwTuuJmzdIBXmnBknpDG7fHs6nX/UdkWsfRuXA1M09QEog7XE/VreTu9Kgc0igr8LIKz3n9uMC39TNvWiclh05Fz2dzQf1W54fq/yw3WI7kBuv3z5gblZlNnz5cNnCdLzIS6xKQAJn3gjwEcgIkLBiPg98EEAugBH5bIcASG7qHaYXSRhTiUxC8TwvFNXut4KcpTXVERSdMRTSmrbO0IBjgo01fBGf2FOz0z6Dqu8S/dHJDPlIGn54kmb3TyHdyR7xq7XdrQqD6WV3cvr0WOsvPy2jz0wRACf9LhtZ7sGXgNEYbRTl69AOJZdB5ebeu18Qqf/vauI6ZuPfauGE6nhviJHhEntr6VhlXjTtJVNcYrrbWWrUPrA3Hnq16gj+WnF6sj9h3rY+uI5torHfUvW0cMLiKaUjLT6RsoDx3jTLTuTQ8X4lWp6kBiM5qVlVSIiqTKuqZOcYlfIy7qsKxCLMPeIt56A/RuFu0n0+vYL0yvvfclfmpxdkT935T7xWKmMKP7am/hd30JMI3dYpbue8bVYPMyb59Fxz3b0k1OuQWIZvstsh7eftG1J38B&lt;/diagram&gt;&lt;/mxfile&gt;\" onclick=\"(function(svg){var src=window.event.target||window.event.srcElement;while (src!=null&amp;&amp;src.nodeName.toLowerCase()!='a'){src=src.parentNode;}if(src==null){if(svg.wnd!=null&amp;&amp;!svg.wnd.closed){svg.wnd.focus();}else{var r=function(evt){if(evt.data=='ready'&amp;&amp;evt.source==svg.wnd){svg.wnd.postMessage(decodeURIComponent(svg.getAttribute('content')),'*');window.removeEventListener('message',r);}};window.addEventListener('message',r);svg.wnd=window.open('https://www.draw.io/?client=1&amp;lightbox=1&amp;edit=_blank');}}})(this);\" style=\"cursor:pointer;max-width:100%;max-height:322px;\" version=\"1.1\" viewBox=\"-0.5 -0.5 386 322\" width=\"386px\" xmlns=\"http://www.w3.org/2000/svg\" xmlns:xlink=\"http://www.w3.org/1999/xlink\"><defs/><g><path d=\"M 7 273 L 360.63 273\" fill=\"none\" pointer-events=\"stroke\" stroke=\"#000000\" stroke-miterlimit=\"10\"/><path d=\"M 365.88 273 L 358.88 276.5 L 360.63 273 L 358.88 269.5 Z\" fill=\"#000000\" pointer-events=\"all\" stroke=\"#000000\" stroke-miterlimit=\"10\"/><g transform=\"translate(-0.5 -0.5)\"><switch><foreignObject height=\"100%\" pointer-events=\"none\" requiredFeatures=\"http://www.w3.org/TR/SVG11/feature#Extensibility\" style=\"overflow: visible; text-align: left;\" width=\"100%\"><div style=\"display: flex; align-items: unsafe center; justify-content: unsafe center; width: 1px; height: 1px; padding-top: 274px; margin-left: 378px;\" xmlns=\"http://www.w3.org/1999/xhtml\"><div style=\"box-sizing: border-box; font-size: 0; text-align: center; \"><div style=\"display: inline-block; font-size: 11px; font-family: Helvetica; color: #000000; line-height: 1.2; pointer-events: all; background-color: #ffffff; white-space: nowrap; \"><font face=\"Georgia\" style=\"font-size: 24px\"><i>V</i></font></div></div></div></foreignObject><text fill=\"#000000\" font-family=\"Helvetica\" font-size=\"11px\" text-anchor=\"middle\" x=\"378\" y=\"277\">V</text></switch></g><path d=\"M 47 313 L 47 39.37\" fill=\"none\" pointer-events=\"stroke\" stroke=\"#000000\" stroke-miterlimit=\"10\"/><path d=\"M 47 34.12 L 50.5 41.12 L 47 39.37 L 43.5 41.12 Z\" fill=\"#000000\" pointer-events=\"all\" stroke=\"#000000\" stroke-miterlimit=\"10\"/><g transform=\"translate(-0.5 -0.5)\"><switch><foreignObject height=\"100%\" pointer-events=\"none\" requiredFeatures=\"http://www.w3.org/TR/SVG11/feature#Extensibility\" style=\"overflow: visible; text-align: left;\" width=\"100%\"><div style=\"display: flex; align-items: unsafe center; justify-content: unsafe center; width: 1px; height: 1px; padding-top: 14px; margin-left: 49px;\" xmlns=\"http://www.w3.org/1999/xhtml\"><div style=\"box-sizing: border-box; font-size: 0; text-align: center; \"><div style=\"display: inline-block; font-size: 11px; font-family: Helvetica; color: #000000; line-height: 1.2; pointer-events: all; background-color: #ffffff; white-space: nowrap; \"><font face=\"Georgia\" style=\"font-size: 24px\"><i>P</i></font></div></div></div></foreignObject><text fill=\"#000000\" font-family=\"Helvetica\" font-size=\"11px\" text-anchor=\"middle\" x=\"49\" y=\"17\">P</text></switch></g><rect fill=\"#f8cecc\" height=\"160\" pointer-events=\"all\" stroke=\"#b85450\" width=\"80\" x=\"87\" y=\"113\"/><g transform=\"translate(-0.5 -0.5)\"><switch><foreignObject height=\"100%\" pointer-events=\"none\" requiredFeatures=\"http://www.w3.org/TR/SVG11/feature#Extensibility\" style=\"overflow: visible; text-align: left;\" width=\"100%\"><div style=\"display: flex; align-items: unsafe center; justify-content: unsafe center; width: 78px; height: 1px; padding-top: 193px; margin-left: 88px;\" xmlns=\"http://www.w3.org/1999/xhtml\"><div style=\"box-sizing: border-box; font-size: 0; text-align: center; \"><div style=\"display: inline-block; font-size: 12px; font-family: Helvetica; color: #000000; line-height: 1.2; pointer-events: all; white-space: normal; word-wrap: normal; \"><font style=\"font-size: 18px\">等圧膨張</font></div></div></div></foreignObject><text fill=\"#000000\" font-family=\"Helvetica\" font-size=\"12px\" text-anchor=\"middle\" x=\"127\" y=\"197\">等圧膨張</text></switch></g><rect fill=\"#dae8fc\" height=\"160\" pointer-events=\"all\" stroke=\"#6c8ebf\" width=\"80\" x=\"247\" y=\"113\"/><g transform=\"translate(-0.5 -0.5)\"><switch><foreignObject height=\"100%\" pointer-events=\"none\" requiredFeatures=\"http://www.w3.org/TR/SVG11/feature#Extensibility\" style=\"overflow: visible; text-align: left;\" width=\"100%\"><div style=\"display: flex; align-items: unsafe center; justify-content: unsafe center; width: 78px; height: 1px; padding-top: 193px; margin-left: 248px;\" xmlns=\"http://www.w3.org/1999/xhtml\"><div style=\"box-sizing: border-box; font-size: 0; text-align: center; \"><div style=\"display: inline-block; font-size: 12px; font-family: Helvetica; color: #000000; line-height: 1.2; pointer-events: all; white-space: normal; word-wrap: normal; \"><span style=\"font-size: 18px\">等圧圧縮</span></div></div></div></foreignObject><text fill=\"#000000\" font-family=\"Helvetica\" font-size=\"12px\" text-anchor=\"middle\" x=\"287\" y=\"197\">等圧圧縮</text></switch></g><path d=\"M 87 113 L 156.9 113\" fill=\"none\" pointer-events=\"stroke\" stroke=\"#ff0000\" stroke-miterlimit=\"10\" stroke-width=\"3\"/><path d=\"M 163.65 113 L 154.65 117.5 L 156.9 113 L 154.65 108.5 Z\" fill=\"#ff0000\" pointer-events=\"all\" stroke=\"#ff0000\" stroke-miterlimit=\"10\" stroke-width=\"3\"/><path d=\"M 327 113 L 257.1 113\" fill=\"none\" pointer-events=\"stroke\" stroke=\"#0000ff\" stroke-miterlimit=\"10\" stroke-width=\"3\"/><path d=\"M 250.35 113 L 259.35 108.5 L 257.1 113 L 259.35 117.5 Z\" fill=\"#0000ff\" pointer-events=\"all\" stroke=\"#0000ff\" stroke-miterlimit=\"10\" stroke-width=\"3\"/><path d=\"M 47 113 L 357 113\" fill=\"none\" pointer-events=\"stroke\" stroke=\"#000000\" stroke-dasharray=\"2 6\" stroke-miterlimit=\"10\" stroke-width=\"2\"/><g transform=\"translate(-0.5 -0.5)\"><switch><foreignObject height=\"100%\" pointer-events=\"none\" requiredFeatures=\"http://www.w3.org/TR/SVG11/feature#Extensibility\" style=\"overflow: visible; text-align: left;\" width=\"100%\"><div style=\"display: flex; align-items: unsafe center; justify-content: unsafe center; width: 1px; height: 1px; padding-top: 111px; margin-left: 28px;\" xmlns=\"http://www.w3.org/1999/xhtml\"><div style=\"box-sizing: border-box; font-size: 0; text-align: center; \"><div style=\"display: inline-block; font-size: 11px; font-family: Helvetica; color: #000000; line-height: 1.2; pointer-events: all; background-color: #ffffff; white-space: nowrap; \"><font face=\"Georgia\" style=\"font-size: 18px\">P<sub>0</sub></font></div></div></div></foreignObject><text fill=\"#000000\" font-family=\"Helvetica\" font-size=\"11px\" text-anchor=\"middle\" x=\"28\" y=\"114\">P0</text></switch></g></g><switch><g requiredFeatures=\"http://www.w3.org/TR/SVG11/feature#Extensibility\"/><a target=\"_blank\" transform=\"translate(0,-5)\" xlink:href=\"https://desk.draw.io/support/solutions/articles/16000042487\"><text font-size=\"10px\" text-anchor=\"middle\" x=\"50%\" y=\"100%\">Viewer does not support full SVG 1.1</text></a></switch></svg>"
          },
          "metadata": {
            "tags": []
          }
        }
      ]
    },
    {
      "cell_type": "markdown",
      "metadata": {
        "id": "pPc7ias2T0kC"
      },
      "source": [
        "\n",
        "> $\\Delta V <0$ のとき\n",
        ">> $\\color{#0000FF}{\\Delta W_{\\rm out}} < 0$ となり気体が *(外部から)* **される** 仕事\n"
      ]
    },
    {
      "cell_type": "markdown",
      "metadata": {
        "id": "ONkGczbLRRpL"
      },
      "source": [
        "#### $P$ が変化するときの $W_{\\rm out}$\n",
        "\n",
        "$P$ が滑らかに変化するときの $\\Delta W_{\\rm out}$ を 全て足し合わせてみましょう.\n",
        "- 足し合わせる記号は, ギリシャ文字の $\\Sigma$ (シグマ) を利用します.  \n",
        "  $\\Sigma$ は *s* に相当し, sum を表します.\n",
        "\n",
        "それでは横軸 $V$ を $\\Delta V$ と分割して足し合わせていきましょう.  \n",
        "($\\Delta V$ を調べる間は $P$ はほぼ変化しないと考えてください)\n",
        "\\begin{align*}\n",
        "\\Sigma \\Delta W_{\\rm out} \n",
        "&= \\Sigma P \\Delta V.&\n",
        "\\end{align*}\n",
        "ですが, 足し合わせる始めと終わりが必要ですので\n",
        "\\begin{align*}\n",
        "\\Sigma_{\\rm 状態:0}^{\\rm 状態:1} \\Delta W_{\\rm out} \n",
        "&= \\Sigma_{\\rm 状態:0}^{\\rm 状態:1} P \\Delta V.&\n",
        "\\end{align*}\n",
        "と 状態:0 から 状態:1 まで足し合わせることにします.\n",
        "\n",
        "> Q. $\\Delta V \\to 0$ とすると, 数学的にどのような意味があったか思い出してください.\n"
      ]
    },
    {
      "cell_type": "code",
      "metadata": {
        "id": "O0vJQJKZTIAj",
        "cellView": "form",
        "colab": {
          "base_uri": "https://localhost:8080/",
          "height": 343
        },
        "outputId": "dc121f21-6bd3-40fd-fd99-351f5823a4ea"
      },
      "source": [
        "#@title 等温変化における P-V 曲線と気体のする仕事\n",
        "%%svg\n",
        "<svg xmlns=\"http://www.w3.org/2000/svg\" xmlns:xlink=\"http://www.w3.org/1999/xlink\" version=\"1.1\" width=\"386px\" viewBox=\"-0.5 -0.5 386 322\" content=\"&lt;mxfile host=&quot;www.draw.io&quot; modified=&quot;2020-07-08T05:24:09.165Z&quot; agent=&quot;5.0 (Macintosh; Intel Mac OS X 10_10_5) AppleWebKit/537.36 (KHTML, like Gecko) Chrome/83.0.4103.116 Safari/537.36&quot; etag=&quot;kr2EfJNGdikzJGnLdvEB&quot; version=&quot;13.3.9&quot; type=&quot;google&quot;&gt;&lt;diagram id=&quot;RsM2KXtBu-M1ImHkZ3zI&quot; name=&quot;Page-1&quot;&gt;5VjLctsgFP0aLZ0Rellaxq900c5k6jSd6Y5IWGKKhYpw7PTrCxJIFpZjx7EzSeqNxeFygcPlcMFyx8vNDYNF9o0miFiOnWwsd2I5DrDDofiTyJNG7KhGUoYThbXAHP9F2lChK5ygsmPIKSUcF10wpnmOYt7BIGN03TVbUNLttYAp2gHmMSS76E+c8KxG/dBt8S8Ip5nqOXTUhJdQ26qJlBlM6HoLcqeWO2aU8vpruRkjIsnTtNTtZntqm3ExlPNjGgzWN9EEBPNfvCh/TGaT6WTtDkBYu3mEZKUmrEbLnzQDjK7yBEkvtuWO1hnmaF7AWNauxaILLONLIkpAfCp3iHG02TtQ0ExfxA2iS8TZkzDRDULFmA4ZT5XXLf+a1GyL+sYOqiVPG9ctLeJDMfMSlqL3x5JjGywNj2QJXIol3du7YskxWIqOYym6WCgNz0zSAhMypoSyqq27CGMUxwIvOaO/0VbNQ+h7vnRIhS/MJSGufaYdG3RZPnLDOhfbsM5hklGeXMvjQZRiAssSx33Bh5Kd0+EgKVuz9ntmrTGGCOT4seu+jwnVwy3FouOGc0Mkm7L2UNIVi5FqtH0sGH4874AjDlmK+I6jal2aWZ++VG7PUgWEy8im1TjbNQv+rKiuGJRVpnAtDByv2LSV8oyv90qLiWGyFMNtoyBV/1VXWAP3GhFzwaaVwOoxadgMKREsX+GDyIA6kQQJTnMZZiJwkNiMI7nXsMgwrlXFEieJ9DFiSMwKPlT+5NYsJOnVMvgjy588t1lV+qMat1nHdrzu3yp7d7Z9FQEAOgEyAGeJXyfo9aod0MWiRBcJOO/zawMwTj3XOVEcTEemYF9YG/x3pQ23/502eAe0IfSH59UG7caMs8upAXhZqpDTHHVXUC7sXNlSxjOa0hySaYuO4hV7rLI50KRl+ibpfAAx8YyLxo4IHC0me7LENxITELxaTUB4RjW5l+H0/c5yxHTsXmkZT63I22l4V3e4Y25/aikCz+cpA/sK+JEhRr53ntMU+B2/wHszceo7AF+Yq3QFx+27Gc5mtvh9ACkyFeT0S4+paW986XGOSEI/3CuAa15Jj3wGOOEVQBTbh9N6UdrnZ3f6Dw==&lt;/diagram&gt;&lt;/mxfile&gt;\" onclick=\"(function(svg){var src=window.event.target||window.event.srcElement;while (src!=null&amp;&amp;src.nodeName.toLowerCase()!='a'){src=src.parentNode;}if(src==null){if(svg.wnd!=null&amp;&amp;!svg.wnd.closed){svg.wnd.focus();}else{var r=function(evt){if(evt.data=='ready'&amp;&amp;evt.source==svg.wnd){svg.wnd.postMessage(decodeURIComponent(svg.getAttribute('content')),'*');window.removeEventListener('message',r);}};window.addEventListener('message',r);svg.wnd=window.open('https://www.draw.io/?client=1&amp;lightbox=1&amp;edit=_blank');}}})(this);\" style=\"cursor:pointer;max-width:100%;max-height:322px;\"><defs/><g><rect x=\"107\" y=\"133\" width=\"20\" height=\"140\" fill=\"#ffffff\" stroke=\"#000000\" pointer-events=\"all\"/><rect x=\"127\" y=\"163\" width=\"20\" height=\"110\" fill=\"#ffffff\" stroke=\"#000000\" pointer-events=\"all\"/><rect x=\"147\" y=\"183\" width=\"20\" height=\"90\" fill=\"#ffffff\" stroke=\"#000000\" pointer-events=\"all\"/><rect x=\"87\" y=\"33\" width=\"20\" height=\"240\" fill-opacity=\"0.3\" fill=\"#f8cecc\" stroke=\"#b85450\" stroke-opacity=\"0.3\" pointer-events=\"all\"/><path d=\"M 7 273 L 360.63 273\" fill=\"none\" stroke=\"#000000\" stroke-miterlimit=\"10\" pointer-events=\"stroke\"/><path d=\"M 365.88 273 L 358.88 276.5 L 360.63 273 L 358.88 269.5 Z\" fill=\"#000000\" stroke=\"#000000\" stroke-miterlimit=\"10\" pointer-events=\"all\"/><g transform=\"translate(-0.5 -0.5)\"><switch><foreignObject style=\"overflow: visible; text-align: left;\" pointer-events=\"none\" width=\"100%\" height=\"100%\" requiredFeatures=\"http://www.w3.org/TR/SVG11/feature#Extensibility\"><div xmlns=\"http://www.w3.org/1999/xhtml\" style=\"display: flex; align-items: unsafe center; justify-content: unsafe center; width: 1px; height: 1px; padding-top: 274px; margin-left: 378px;\"><div style=\"box-sizing: border-box; font-size: 0; text-align: center; \"><div style=\"display: inline-block; font-size: 11px; font-family: Helvetica; color: #000000; line-height: 1.2; pointer-events: all; background-color: #ffffff; white-space: nowrap; \"><font style=\"font-size: 24px\" face=\"Georgia\"><i>V</i></font></div></div></div></foreignObject><text x=\"378\" y=\"277\" fill=\"#000000\" font-family=\"Helvetica\" font-size=\"11px\" text-anchor=\"middle\">V</text></switch></g><path d=\"M 47 313 L 47 39.37\" fill=\"none\" stroke=\"#000000\" stroke-miterlimit=\"10\" pointer-events=\"stroke\"/><path d=\"M 47 34.12 L 50.5 41.12 L 47 39.37 L 43.5 41.12 Z\" fill=\"#000000\" stroke=\"#000000\" stroke-miterlimit=\"10\" pointer-events=\"all\"/><g transform=\"translate(-0.5 -0.5)\"><switch><foreignObject style=\"overflow: visible; text-align: left;\" pointer-events=\"none\" width=\"100%\" height=\"100%\" requiredFeatures=\"http://www.w3.org/TR/SVG11/feature#Extensibility\"><div xmlns=\"http://www.w3.org/1999/xhtml\" style=\"display: flex; align-items: unsafe center; justify-content: unsafe center; width: 1px; height: 1px; padding-top: 14px; margin-left: 49px;\"><div style=\"box-sizing: border-box; font-size: 0; text-align: center; \"><div style=\"display: inline-block; font-size: 11px; font-family: Helvetica; color: #000000; line-height: 1.2; pointer-events: all; background-color: #ffffff; white-space: nowrap; \"><font style=\"font-size: 24px\" face=\"Georgia\"><i>P</i></font></div></div></div></foreignObject><text x=\"49\" y=\"17\" fill=\"#000000\" font-family=\"Helvetica\" font-size=\"11px\" text-anchor=\"middle\">P</text></switch></g><path d=\"M 327 233 Q 87 233 87 33\" fill=\"none\" stroke=\"#000000\" stroke-width=\"2\" stroke-miterlimit=\"10\" pointer-events=\"stroke\"/><g transform=\"translate(-0.5 -0.5)\"><switch><foreignObject style=\"overflow: visible; text-align: left;\" pointer-events=\"none\" width=\"100%\" height=\"100%\" requiredFeatures=\"http://www.w3.org/TR/SVG11/feature#Extensibility\"><div xmlns=\"http://www.w3.org/1999/xhtml\" style=\"display: flex; align-items: unsafe center; justify-content: unsafe center; width: 1px; height: 1px; padding-top: 194px; margin-left: 258px;\"><div style=\"box-sizing: border-box; font-size: 0; text-align: center; \"><div style=\"display: inline-block; font-size: 11px; font-family: Helvetica; color: #000000; line-height: 1.2; pointer-events: all; background-color: #ffffff; white-space: nowrap; \"><font style=\"font-size: 18px\" face=\"Georgia\"><i>PV=nRT, </i>Δ<i>T=</i>0</font></div></div></div></foreignObject><text x=\"258\" y=\"197\" fill=\"#000000\" font-family=\"Helvetica\" font-size=\"11px\" text-anchor=\"middle\">PV=nRT, ΔT=0</text></switch></g><path d=\"M 87 273 L 316.9 273\" fill=\"none\" stroke=\"#ff0000\" stroke-width=\"3\" stroke-miterlimit=\"10\" pointer-events=\"stroke\"/><path d=\"M 323.65 273 L 314.65 277.5 L 316.9 273 L 314.65 268.5 Z\" fill=\"#ff0000\" stroke=\"#ff0000\" stroke-width=\"3\" stroke-miterlimit=\"10\" pointer-events=\"all\"/><rect x=\"307\" y=\"233\" width=\"20\" height=\"40\" fill-opacity=\"0.3\" fill=\"#f8cecc\" stroke=\"#b85450\" stroke-opacity=\"0.3\" pointer-events=\"all\"/></g><switch><g requiredFeatures=\"http://www.w3.org/TR/SVG11/feature#Extensibility\"/><a transform=\"translate(0,-5)\" xlink:href=\"https://desk.draw.io/support/solutions/articles/16000042487\" target=\"_blank\"><text text-anchor=\"middle\" font-size=\"10px\" x=\"50%\" y=\"100%\">Viewer does not support full SVG 1.1</text></a></switch></svg>"
      ],
      "execution_count": null,
      "outputs": [
        {
          "output_type": "display_data",
          "data": {
            "text/plain": [
              "<IPython.core.display.SVG object>"
            ],
            "image/svg+xml": "<svg content=\"&lt;mxfile host=&quot;www.draw.io&quot; modified=&quot;2020-07-08T05:24:09.165Z&quot; agent=&quot;5.0 (Macintosh; Intel Mac OS X 10_10_5) AppleWebKit/537.36 (KHTML, like Gecko) Chrome/83.0.4103.116 Safari/537.36&quot; etag=&quot;kr2EfJNGdikzJGnLdvEB&quot; version=&quot;13.3.9&quot; type=&quot;google&quot;&gt;&lt;diagram id=&quot;RsM2KXtBu-M1ImHkZ3zI&quot; name=&quot;Page-1&quot;&gt;5VjLctsgFP0aLZ0Rellaxq900c5k6jSd6Y5IWGKKhYpw7PTrCxJIFpZjx7EzSeqNxeFygcPlcMFyx8vNDYNF9o0miFiOnWwsd2I5DrDDofiTyJNG7KhGUoYThbXAHP9F2lChK5ygsmPIKSUcF10wpnmOYt7BIGN03TVbUNLttYAp2gHmMSS76E+c8KxG/dBt8S8Ip5nqOXTUhJdQ26qJlBlM6HoLcqeWO2aU8vpruRkjIsnTtNTtZntqm3ExlPNjGgzWN9EEBPNfvCh/TGaT6WTtDkBYu3mEZKUmrEbLnzQDjK7yBEkvtuWO1hnmaF7AWNauxaILLONLIkpAfCp3iHG02TtQ0ExfxA2iS8TZkzDRDULFmA4ZT5XXLf+a1GyL+sYOqiVPG9ctLeJDMfMSlqL3x5JjGywNj2QJXIol3du7YskxWIqOYym6WCgNz0zSAhMypoSyqq27CGMUxwIvOaO/0VbNQ+h7vnRIhS/MJSGufaYdG3RZPnLDOhfbsM5hklGeXMvjQZRiAssSx33Bh5Kd0+EgKVuz9ntmrTGGCOT4seu+jwnVwy3FouOGc0Mkm7L2UNIVi5FqtH0sGH4874AjDlmK+I6jal2aWZ++VG7PUgWEy8im1TjbNQv+rKiuGJRVpnAtDByv2LSV8oyv90qLiWGyFMNtoyBV/1VXWAP3GhFzwaaVwOoxadgMKREsX+GDyIA6kQQJTnMZZiJwkNiMI7nXsMgwrlXFEieJ9DFiSMwKPlT+5NYsJOnVMvgjy588t1lV+qMat1nHdrzu3yp7d7Z9FQEAOgEyAGeJXyfo9aod0MWiRBcJOO/zawMwTj3XOVEcTEemYF9YG/x3pQ23/502eAe0IfSH59UG7caMs8upAXhZqpDTHHVXUC7sXNlSxjOa0hySaYuO4hV7rLI50KRl+ibpfAAx8YyLxo4IHC0me7LENxITELxaTUB4RjW5l+H0/c5yxHTsXmkZT63I22l4V3e4Y25/aikCz+cpA/sK+JEhRr53ntMU+B2/wHszceo7AF+Yq3QFx+27Gc5mtvh9ACkyFeT0S4+paW986XGOSEI/3CuAa15Jj3wGOOEVQBTbh9N6UdrnZ3f6Dw==&lt;/diagram&gt;&lt;/mxfile&gt;\" onclick=\"(function(svg){var src=window.event.target||window.event.srcElement;while (src!=null&amp;&amp;src.nodeName.toLowerCase()!='a'){src=src.parentNode;}if(src==null){if(svg.wnd!=null&amp;&amp;!svg.wnd.closed){svg.wnd.focus();}else{var r=function(evt){if(evt.data=='ready'&amp;&amp;evt.source==svg.wnd){svg.wnd.postMessage(decodeURIComponent(svg.getAttribute('content')),'*');window.removeEventListener('message',r);}};window.addEventListener('message',r);svg.wnd=window.open('https://www.draw.io/?client=1&amp;lightbox=1&amp;edit=_blank');}}})(this);\" style=\"cursor:pointer;max-width:100%;max-height:322px;\" version=\"1.1\" viewBox=\"-0.5 -0.5 386 322\" width=\"386px\" xmlns=\"http://www.w3.org/2000/svg\" xmlns:xlink=\"http://www.w3.org/1999/xlink\"><defs/><g><rect fill=\"#ffffff\" height=\"140\" pointer-events=\"all\" stroke=\"#000000\" width=\"20\" x=\"107\" y=\"133\"/><rect fill=\"#ffffff\" height=\"110\" pointer-events=\"all\" stroke=\"#000000\" width=\"20\" x=\"127\" y=\"163\"/><rect fill=\"#ffffff\" height=\"90\" pointer-events=\"all\" stroke=\"#000000\" width=\"20\" x=\"147\" y=\"183\"/><rect fill=\"#f8cecc\" fill-opacity=\"0.3\" height=\"240\" pointer-events=\"all\" stroke=\"#b85450\" stroke-opacity=\"0.3\" width=\"20\" x=\"87\" y=\"33\"/><path d=\"M 7 273 L 360.63 273\" fill=\"none\" pointer-events=\"stroke\" stroke=\"#000000\" stroke-miterlimit=\"10\"/><path d=\"M 365.88 273 L 358.88 276.5 L 360.63 273 L 358.88 269.5 Z\" fill=\"#000000\" pointer-events=\"all\" stroke=\"#000000\" stroke-miterlimit=\"10\"/><g transform=\"translate(-0.5 -0.5)\"><switch><foreignObject height=\"100%\" pointer-events=\"none\" requiredFeatures=\"http://www.w3.org/TR/SVG11/feature#Extensibility\" style=\"overflow: visible; text-align: left;\" width=\"100%\"><div style=\"display: flex; align-items: unsafe center; justify-content: unsafe center; width: 1px; height: 1px; padding-top: 274px; margin-left: 378px;\" xmlns=\"http://www.w3.org/1999/xhtml\"><div style=\"box-sizing: border-box; font-size: 0; text-align: center; \"><div style=\"display: inline-block; font-size: 11px; font-family: Helvetica; color: #000000; line-height: 1.2; pointer-events: all; background-color: #ffffff; white-space: nowrap; \"><font face=\"Georgia\" style=\"font-size: 24px\"><i>V</i></font></div></div></div></foreignObject><text fill=\"#000000\" font-family=\"Helvetica\" font-size=\"11px\" text-anchor=\"middle\" x=\"378\" y=\"277\">V</text></switch></g><path d=\"M 47 313 L 47 39.37\" fill=\"none\" pointer-events=\"stroke\" stroke=\"#000000\" stroke-miterlimit=\"10\"/><path d=\"M 47 34.12 L 50.5 41.12 L 47 39.37 L 43.5 41.12 Z\" fill=\"#000000\" pointer-events=\"all\" stroke=\"#000000\" stroke-miterlimit=\"10\"/><g transform=\"translate(-0.5 -0.5)\"><switch><foreignObject height=\"100%\" pointer-events=\"none\" requiredFeatures=\"http://www.w3.org/TR/SVG11/feature#Extensibility\" style=\"overflow: visible; text-align: left;\" width=\"100%\"><div style=\"display: flex; align-items: unsafe center; justify-content: unsafe center; width: 1px; height: 1px; padding-top: 14px; margin-left: 49px;\" xmlns=\"http://www.w3.org/1999/xhtml\"><div style=\"box-sizing: border-box; font-size: 0; text-align: center; \"><div style=\"display: inline-block; font-size: 11px; font-family: Helvetica; color: #000000; line-height: 1.2; pointer-events: all; background-color: #ffffff; white-space: nowrap; \"><font face=\"Georgia\" style=\"font-size: 24px\"><i>P</i></font></div></div></div></foreignObject><text fill=\"#000000\" font-family=\"Helvetica\" font-size=\"11px\" text-anchor=\"middle\" x=\"49\" y=\"17\">P</text></switch></g><path d=\"M 327 233 Q 87 233 87 33\" fill=\"none\" pointer-events=\"stroke\" stroke=\"#000000\" stroke-miterlimit=\"10\" stroke-width=\"2\"/><g transform=\"translate(-0.5 -0.5)\"><switch><foreignObject height=\"100%\" pointer-events=\"none\" requiredFeatures=\"http://www.w3.org/TR/SVG11/feature#Extensibility\" style=\"overflow: visible; text-align: left;\" width=\"100%\"><div style=\"display: flex; align-items: unsafe center; justify-content: unsafe center; width: 1px; height: 1px; padding-top: 194px; margin-left: 258px;\" xmlns=\"http://www.w3.org/1999/xhtml\"><div style=\"box-sizing: border-box; font-size: 0; text-align: center; \"><div style=\"display: inline-block; font-size: 11px; font-family: Helvetica; color: #000000; line-height: 1.2; pointer-events: all; background-color: #ffffff; white-space: nowrap; \"><font face=\"Georgia\" style=\"font-size: 18px\"><i>PV=nRT, </i>Δ<i>T=</i>0</font></div></div></div></foreignObject><text fill=\"#000000\" font-family=\"Helvetica\" font-size=\"11px\" text-anchor=\"middle\" x=\"258\" y=\"197\">PV=nRT, ΔT=0</text></switch></g><path d=\"M 87 273 L 316.9 273\" fill=\"none\" pointer-events=\"stroke\" stroke=\"#ff0000\" stroke-miterlimit=\"10\" stroke-width=\"3\"/><path d=\"M 323.65 273 L 314.65 277.5 L 316.9 273 L 314.65 268.5 Z\" fill=\"#ff0000\" pointer-events=\"all\" stroke=\"#ff0000\" stroke-miterlimit=\"10\" stroke-width=\"3\"/><rect fill=\"#f8cecc\" fill-opacity=\"0.3\" height=\"40\" pointer-events=\"all\" stroke=\"#b85450\" stroke-opacity=\"0.3\" width=\"20\" x=\"307\" y=\"233\"/></g><switch><g requiredFeatures=\"http://www.w3.org/TR/SVG11/feature#Extensibility\"/><a target=\"_blank\" transform=\"translate(0,-5)\" xlink:href=\"https://desk.draw.io/support/solutions/articles/16000042487\"><text font-size=\"10px\" text-anchor=\"middle\" x=\"50%\" y=\"100%\">Viewer does not support full SVG 1.1</text></a></switch></svg>"
          },
          "metadata": {
            "tags": []
          }
        }
      ]
    },
    {
      "cell_type": "markdown",
      "metadata": {
        "id": "Hhn2xlIeUY6h"
      },
      "source": [
        "\\begin{align*}\n",
        "\\int_{\\rm 状態:0}^{\\rm 状態:1} {\\rm d} W_{\\rm out} \n",
        "&= \\int_{\\rm 状態:0}^{\\rm 状態:1} P {\\rm d} V.&\\\\\n",
        "W_{\\rm out:1} - W_{\\rm out:0} &= \\int_{\\rm 状態:0}^{\\rm 状態:1} P {\\rm d} V.&\n",
        "\\end{align*}\n",
        "\n",
        "この式から\n",
        "> 状態:0 から状態:1 に変化したとき, 気体がなす仕事は $P-V$ グラフの面積で表せる\n",
        "\n",
        "ということができます.\n",
        "\n",
        ">> - $P\\geqq0$\n",
        "- 状態:0 から状態:1 に変化しとき\n",
        "  - $\\color{#FF0000}{V_1 \\geqq V_0}$ なら, $W_{\\rm out:1} - W_{\\rm out:0} \n",
        "   \\color{#FF0000}{\\geqq} 0$\n",
        "  - $\\color{#0000FF}{V_1 \\leqq V_0}$ なら, $W_{\\rm out:1} - W_{\\rm out:0} \n",
        "  \\color{#0000FF}{\\leqq} 0$\n",
        "\n",
        "となります."
      ]
    },
    {
      "cell_type": "markdown",
      "metadata": {
        "id": "beDGH43sW82B"
      },
      "source": [
        "### 定圧変化\n",
        "\n",
        "$\\Delta P = P_{終状態}-P_{始状態}=0 \\quad \\to \\quad P_{終状態}=P_{始状態}$"
      ]
    },
    {
      "cell_type": "markdown",
      "metadata": {
        "id": "R_R21R2XXWkm"
      },
      "source": [
        "\\begin{align*}\n",
        "W_{\\rm out:1} - W_{\\rm out:0}\n",
        "&= \\int_{\\rm 状態:0}^{\\rm 状態:1} P {\\rm d} V.\\\\\n",
        "&= P \\int_{\\rm 状態:0}^{\\rm 状態:1} {\\rm d} V \\\\\n",
        "&= P (V_1 - V_0)\n",
        "\\end{align*}\n"
      ]
    },
    {
      "cell_type": "code",
      "metadata": {
        "cellView": "form",
        "id": "oXBU3XaqlUdN",
        "colab": {
          "base_uri": "https://localhost:8080/",
          "height": 343
        },
        "outputId": "60660c15-0cee-4fa0-9589-dff02e65cbcf"
      },
      "source": [
        "#@title 等圧過程での気体による仕事\n",
        "%%svg\n",
        "<svg xmlns=\"http://www.w3.org/2000/svg\" xmlns:xlink=\"http://www.w3.org/1999/xlink\" version=\"1.1\" width=\"386px\" viewBox=\"-0.5 -0.5 386 322\" content=\"&lt;mxfile host=&quot;www.draw.io&quot; modified=&quot;2020-07-08T05:12:53.440Z&quot; agent=&quot;5.0 (Macintosh; Intel Mac OS X 10_10_5) AppleWebKit/537.36 (KHTML, like Gecko) Chrome/83.0.4103.116 Safari/537.36&quot; etag=&quot;RjDJ0-b7COzZRkA7qkp0&quot; version=&quot;13.3.9&quot; type=&quot;google&quot;&gt;&lt;diagram id=&quot;zdGFQRVHOF5PxiKdzEUs&quot; name=&quot;Page-1&quot;&gt;5VjJdpswFP0aLZ3DbHmJp3bRIac5bZOlDAKUYkSFHNv9+gqQAHlobMdxhnpjdKX3JL179XgC2KP56gNDefKZhjgFlhGugD0GlmUasC/+SmStEGNQIzEjocRa4Ib8wWqgRBckxIU2kFOacpLrYECzDAdcwxBjdKkPi2iqz5qjGG8BNwFKt9GfJORJjbrQbvGPmMSJnBlacsNzpMbKjRQJCumyA9kTYI8Ypbx+mq9GOC2Dp8JS20339DbrYjjjhxjE33KO7v07fP/1S3I7/X5/u8A96eUBpQu5X7lYvlYBwFnol3EUrSBFRUECYA8TPk8FYIrH2gCHW2FsF2Y22xU6wXSOOVuLIctOPGWQkk4oFcZwijh50N0jSWvcuGtmuKZETGwZUoNQupECbNrKQ0EXLMDSqBu/DT+O84gjjliM+ZYj8dDZdQtV9BxBlbeDKi8VsRpGtFpny5n3e0FVR6+ojpQvBlhOvmo7y8OAAt1ALJPFBHUHebH8r6YiCvihELEXsjlKYPWaFLwpKSGWT2gmUoWmJJSSOCtlJoSDmQAeMONEHEVfdsxJGJY+hgyLXaFZ5c8Q7bwMekWDOwTuuJmzdIBXmnBknpDG7fHs6nX/UdkWsfRuXA1M09QEog7XE/VreTu9Kgc0igr8LIKz3n9uMC39TNvWiclh05Fz2dzQf1W54fq/yw3WI7kBuv3z5gblZlNnz5cNnCdLzIS6xKQAJn3gjwEcgIkLBiPg98EEAugBH5bIcASG7qHaYXSRhTiUxC8TwvFNXut4KcpTXVERSdMRTSmrbO0IBjgo01fBGf2FOz0z6Dqu8S/dHJDPlIGn54kmb3TyHdyR7xq7XdrQqD6WV3cvr0WOsvPy2jz0wRACf9LhtZ7sGXgNEYbRTl69AOJZdB5ebeu18Qqf/vauI6ZuPfauGE6nhviJHhEntr6VhlXjTtJVNcYrrbWWrUPrA3Hnq16gj+WnF6sj9h3rY+uI5torHfUvW0cMLiKaUjLT6RsoDx3jTLTuTQ8X4lWp6kBiM5qVlVSIiqTKuqZOcYlfIy7qsKxCLMPeIt56A/RuFu0n0+vYL0yvvfclfmpxdkT935T7xWKmMKP7am/hd30JMI3dYpbue8bVYPMyb59Fxz3b0k1OuQWIZvstsh7eftG1J38B&lt;/diagram&gt;&lt;/mxfile&gt;\" onclick=\"(function(svg){var src=window.event.target||window.event.srcElement;while (src!=null&amp;&amp;src.nodeName.toLowerCase()!='a'){src=src.parentNode;}if(src==null){if(svg.wnd!=null&amp;&amp;!svg.wnd.closed){svg.wnd.focus();}else{var r=function(evt){if(evt.data=='ready'&amp;&amp;evt.source==svg.wnd){svg.wnd.postMessage(decodeURIComponent(svg.getAttribute('content')),'*');window.removeEventListener('message',r);}};window.addEventListener('message',r);svg.wnd=window.open('https://www.draw.io/?client=1&amp;lightbox=1&amp;edit=_blank');}}})(this);\" style=\"cursor:pointer;max-width:100%;max-height:322px;\"><defs/><g><path d=\"M 7 273 L 360.63 273\" fill=\"none\" stroke=\"#000000\" stroke-miterlimit=\"10\" pointer-events=\"stroke\"/><path d=\"M 365.88 273 L 358.88 276.5 L 360.63 273 L 358.88 269.5 Z\" fill=\"#000000\" stroke=\"#000000\" stroke-miterlimit=\"10\" pointer-events=\"all\"/><g transform=\"translate(-0.5 -0.5)\"><switch><foreignObject style=\"overflow: visible; text-align: left;\" pointer-events=\"none\" width=\"100%\" height=\"100%\" requiredFeatures=\"http://www.w3.org/TR/SVG11/feature#Extensibility\"><div xmlns=\"http://www.w3.org/1999/xhtml\" style=\"display: flex; align-items: unsafe center; justify-content: unsafe center; width: 1px; height: 1px; padding-top: 274px; margin-left: 378px;\"><div style=\"box-sizing: border-box; font-size: 0; text-align: center; \"><div style=\"display: inline-block; font-size: 11px; font-family: Helvetica; color: #000000; line-height: 1.2; pointer-events: all; background-color: #ffffff; white-space: nowrap; \"><font style=\"font-size: 24px\" face=\"Georgia\"><i>V</i></font></div></div></div></foreignObject><text x=\"378\" y=\"277\" fill=\"#000000\" font-family=\"Helvetica\" font-size=\"11px\" text-anchor=\"middle\">V</text></switch></g><path d=\"M 47 313 L 47 39.37\" fill=\"none\" stroke=\"#000000\" stroke-miterlimit=\"10\" pointer-events=\"stroke\"/><path d=\"M 47 34.12 L 50.5 41.12 L 47 39.37 L 43.5 41.12 Z\" fill=\"#000000\" stroke=\"#000000\" stroke-miterlimit=\"10\" pointer-events=\"all\"/><g transform=\"translate(-0.5 -0.5)\"><switch><foreignObject style=\"overflow: visible; text-align: left;\" pointer-events=\"none\" width=\"100%\" height=\"100%\" requiredFeatures=\"http://www.w3.org/TR/SVG11/feature#Extensibility\"><div xmlns=\"http://www.w3.org/1999/xhtml\" style=\"display: flex; align-items: unsafe center; justify-content: unsafe center; width: 1px; height: 1px; padding-top: 14px; margin-left: 49px;\"><div style=\"box-sizing: border-box; font-size: 0; text-align: center; \"><div style=\"display: inline-block; font-size: 11px; font-family: Helvetica; color: #000000; line-height: 1.2; pointer-events: all; background-color: #ffffff; white-space: nowrap; \"><font style=\"font-size: 24px\" face=\"Georgia\"><i>P</i></font></div></div></div></foreignObject><text x=\"49\" y=\"17\" fill=\"#000000\" font-family=\"Helvetica\" font-size=\"11px\" text-anchor=\"middle\">P</text></switch></g><rect x=\"87\" y=\"113\" width=\"80\" height=\"160\" fill=\"#f8cecc\" stroke=\"#b85450\" pointer-events=\"all\"/><g transform=\"translate(-0.5 -0.5)\"><switch><foreignObject style=\"overflow: visible; text-align: left;\" pointer-events=\"none\" width=\"100%\" height=\"100%\" requiredFeatures=\"http://www.w3.org/TR/SVG11/feature#Extensibility\"><div xmlns=\"http://www.w3.org/1999/xhtml\" style=\"display: flex; align-items: unsafe center; justify-content: unsafe center; width: 78px; height: 1px; padding-top: 193px; margin-left: 88px;\"><div style=\"box-sizing: border-box; font-size: 0; text-align: center; \"><div style=\"display: inline-block; font-size: 12px; font-family: Helvetica; color: #000000; line-height: 1.2; pointer-events: all; white-space: normal; word-wrap: normal; \"><font style=\"font-size: 18px\">等圧膨張</font></div></div></div></foreignObject><text x=\"127\" y=\"197\" fill=\"#000000\" font-family=\"Helvetica\" font-size=\"12px\" text-anchor=\"middle\">等圧膨張</text></switch></g><rect x=\"247\" y=\"113\" width=\"80\" height=\"160\" fill=\"#dae8fc\" stroke=\"#6c8ebf\" pointer-events=\"all\"/><g transform=\"translate(-0.5 -0.5)\"><switch><foreignObject style=\"overflow: visible; text-align: left;\" pointer-events=\"none\" width=\"100%\" height=\"100%\" requiredFeatures=\"http://www.w3.org/TR/SVG11/feature#Extensibility\"><div xmlns=\"http://www.w3.org/1999/xhtml\" style=\"display: flex; align-items: unsafe center; justify-content: unsafe center; width: 78px; height: 1px; padding-top: 193px; margin-left: 248px;\"><div style=\"box-sizing: border-box; font-size: 0; text-align: center; \"><div style=\"display: inline-block; font-size: 12px; font-family: Helvetica; color: #000000; line-height: 1.2; pointer-events: all; white-space: normal; word-wrap: normal; \"><span style=\"font-size: 18px\">等圧圧縮</span></div></div></div></foreignObject><text x=\"287\" y=\"197\" fill=\"#000000\" font-family=\"Helvetica\" font-size=\"12px\" text-anchor=\"middle\">等圧圧縮</text></switch></g><path d=\"M 87 113 L 156.9 113\" fill=\"none\" stroke=\"#ff0000\" stroke-width=\"3\" stroke-miterlimit=\"10\" pointer-events=\"stroke\"/><path d=\"M 163.65 113 L 154.65 117.5 L 156.9 113 L 154.65 108.5 Z\" fill=\"#ff0000\" stroke=\"#ff0000\" stroke-width=\"3\" stroke-miterlimit=\"10\" pointer-events=\"all\"/><path d=\"M 327 113 L 257.1 113\" fill=\"none\" stroke=\"#0000ff\" stroke-width=\"3\" stroke-miterlimit=\"10\" pointer-events=\"stroke\"/><path d=\"M 250.35 113 L 259.35 108.5 L 257.1 113 L 259.35 117.5 Z\" fill=\"#0000ff\" stroke=\"#0000ff\" stroke-width=\"3\" stroke-miterlimit=\"10\" pointer-events=\"all\"/><path d=\"M 47 113 L 357 113\" fill=\"none\" stroke=\"#000000\" stroke-width=\"2\" stroke-miterlimit=\"10\" stroke-dasharray=\"2 6\" pointer-events=\"stroke\"/><g transform=\"translate(-0.5 -0.5)\"><switch><foreignObject style=\"overflow: visible; text-align: left;\" pointer-events=\"none\" width=\"100%\" height=\"100%\" requiredFeatures=\"http://www.w3.org/TR/SVG11/feature#Extensibility\"><div xmlns=\"http://www.w3.org/1999/xhtml\" style=\"display: flex; align-items: unsafe center; justify-content: unsafe center; width: 1px; height: 1px; padding-top: 111px; margin-left: 28px;\"><div style=\"box-sizing: border-box; font-size: 0; text-align: center; \"><div style=\"display: inline-block; font-size: 11px; font-family: Helvetica; color: #000000; line-height: 1.2; pointer-events: all; background-color: #ffffff; white-space: nowrap; \"><font style=\"font-size: 18px\" face=\"Georgia\">P<sub>0</sub></font></div></div></div></foreignObject><text x=\"28\" y=\"114\" fill=\"#000000\" font-family=\"Helvetica\" font-size=\"11px\" text-anchor=\"middle\">P0</text></switch></g></g><switch><g requiredFeatures=\"http://www.w3.org/TR/SVG11/feature#Extensibility\"/><a transform=\"translate(0,-5)\" xlink:href=\"https://desk.draw.io/support/solutions/articles/16000042487\" target=\"_blank\"><text text-anchor=\"middle\" font-size=\"10px\" x=\"50%\" y=\"100%\">Viewer does not support full SVG 1.1</text></a></switch></svg>"
      ],
      "execution_count": null,
      "outputs": [
        {
          "output_type": "display_data",
          "data": {
            "text/plain": [
              "<IPython.core.display.SVG object>"
            ],
            "image/svg+xml": "<svg content=\"&lt;mxfile host=&quot;www.draw.io&quot; modified=&quot;2020-07-08T05:12:53.440Z&quot; agent=&quot;5.0 (Macintosh; Intel Mac OS X 10_10_5) AppleWebKit/537.36 (KHTML, like Gecko) Chrome/83.0.4103.116 Safari/537.36&quot; etag=&quot;RjDJ0-b7COzZRkA7qkp0&quot; version=&quot;13.3.9&quot; type=&quot;google&quot;&gt;&lt;diagram id=&quot;zdGFQRVHOF5PxiKdzEUs&quot; name=&quot;Page-1&quot;&gt;5VjJdpswFP0aLZ3DbHmJp3bRIac5bZOlDAKUYkSFHNv9+gqQAHlobMdxhnpjdKX3JL179XgC2KP56gNDefKZhjgFlhGugD0GlmUasC/+SmStEGNQIzEjocRa4Ib8wWqgRBckxIU2kFOacpLrYECzDAdcwxBjdKkPi2iqz5qjGG8BNwFKt9GfJORJjbrQbvGPmMSJnBlacsNzpMbKjRQJCumyA9kTYI8Ypbx+mq9GOC2Dp8JS20339DbrYjjjhxjE33KO7v07fP/1S3I7/X5/u8A96eUBpQu5X7lYvlYBwFnol3EUrSBFRUECYA8TPk8FYIrH2gCHW2FsF2Y22xU6wXSOOVuLIctOPGWQkk4oFcZwijh50N0jSWvcuGtmuKZETGwZUoNQupECbNrKQ0EXLMDSqBu/DT+O84gjjliM+ZYj8dDZdQtV9BxBlbeDKi8VsRpGtFpny5n3e0FVR6+ojpQvBlhOvmo7y8OAAt1ALJPFBHUHebH8r6YiCvihELEXsjlKYPWaFLwpKSGWT2gmUoWmJJSSOCtlJoSDmQAeMONEHEVfdsxJGJY+hgyLXaFZ5c8Q7bwMekWDOwTuuJmzdIBXmnBknpDG7fHs6nX/UdkWsfRuXA1M09QEog7XE/VreTu9Kgc0igr8LIKz3n9uMC39TNvWiclh05Fz2dzQf1W54fq/yw3WI7kBuv3z5gblZlNnz5cNnCdLzIS6xKQAJn3gjwEcgIkLBiPg98EEAugBH5bIcASG7qHaYXSRhTiUxC8TwvFNXut4KcpTXVERSdMRTSmrbO0IBjgo01fBGf2FOz0z6Dqu8S/dHJDPlIGn54kmb3TyHdyR7xq7XdrQqD6WV3cvr0WOsvPy2jz0wRACf9LhtZ7sGXgNEYbRTl69AOJZdB5ebeu18Qqf/vauI6ZuPfauGE6nhviJHhEntr6VhlXjTtJVNcYrrbWWrUPrA3Hnq16gj+WnF6sj9h3rY+uI5torHfUvW0cMLiKaUjLT6RsoDx3jTLTuTQ8X4lWp6kBiM5qVlVSIiqTKuqZOcYlfIy7qsKxCLMPeIt56A/RuFu0n0+vYL0yvvfclfmpxdkT935T7xWKmMKP7am/hd30JMI3dYpbue8bVYPMyb59Fxz3b0k1OuQWIZvstsh7eftG1J38B&lt;/diagram&gt;&lt;/mxfile&gt;\" onclick=\"(function(svg){var src=window.event.target||window.event.srcElement;while (src!=null&amp;&amp;src.nodeName.toLowerCase()!='a'){src=src.parentNode;}if(src==null){if(svg.wnd!=null&amp;&amp;!svg.wnd.closed){svg.wnd.focus();}else{var r=function(evt){if(evt.data=='ready'&amp;&amp;evt.source==svg.wnd){svg.wnd.postMessage(decodeURIComponent(svg.getAttribute('content')),'*');window.removeEventListener('message',r);}};window.addEventListener('message',r);svg.wnd=window.open('https://www.draw.io/?client=1&amp;lightbox=1&amp;edit=_blank');}}})(this);\" style=\"cursor:pointer;max-width:100%;max-height:322px;\" version=\"1.1\" viewBox=\"-0.5 -0.5 386 322\" width=\"386px\" xmlns=\"http://www.w3.org/2000/svg\" xmlns:xlink=\"http://www.w3.org/1999/xlink\"><defs/><g><path d=\"M 7 273 L 360.63 273\" fill=\"none\" pointer-events=\"stroke\" stroke=\"#000000\" stroke-miterlimit=\"10\"/><path d=\"M 365.88 273 L 358.88 276.5 L 360.63 273 L 358.88 269.5 Z\" fill=\"#000000\" pointer-events=\"all\" stroke=\"#000000\" stroke-miterlimit=\"10\"/><g transform=\"translate(-0.5 -0.5)\"><switch><foreignObject height=\"100%\" pointer-events=\"none\" requiredFeatures=\"http://www.w3.org/TR/SVG11/feature#Extensibility\" style=\"overflow: visible; text-align: left;\" width=\"100%\"><div style=\"display: flex; align-items: unsafe center; justify-content: unsafe center; width: 1px; height: 1px; padding-top: 274px; margin-left: 378px;\" xmlns=\"http://www.w3.org/1999/xhtml\"><div style=\"box-sizing: border-box; font-size: 0; text-align: center; \"><div style=\"display: inline-block; font-size: 11px; font-family: Helvetica; color: #000000; line-height: 1.2; pointer-events: all; background-color: #ffffff; white-space: nowrap; \"><font face=\"Georgia\" style=\"font-size: 24px\"><i>V</i></font></div></div></div></foreignObject><text fill=\"#000000\" font-family=\"Helvetica\" font-size=\"11px\" text-anchor=\"middle\" x=\"378\" y=\"277\">V</text></switch></g><path d=\"M 47 313 L 47 39.37\" fill=\"none\" pointer-events=\"stroke\" stroke=\"#000000\" stroke-miterlimit=\"10\"/><path d=\"M 47 34.12 L 50.5 41.12 L 47 39.37 L 43.5 41.12 Z\" fill=\"#000000\" pointer-events=\"all\" stroke=\"#000000\" stroke-miterlimit=\"10\"/><g transform=\"translate(-0.5 -0.5)\"><switch><foreignObject height=\"100%\" pointer-events=\"none\" requiredFeatures=\"http://www.w3.org/TR/SVG11/feature#Extensibility\" style=\"overflow: visible; text-align: left;\" width=\"100%\"><div style=\"display: flex; align-items: unsafe center; justify-content: unsafe center; width: 1px; height: 1px; padding-top: 14px; margin-left: 49px;\" xmlns=\"http://www.w3.org/1999/xhtml\"><div style=\"box-sizing: border-box; font-size: 0; text-align: center; \"><div style=\"display: inline-block; font-size: 11px; font-family: Helvetica; color: #000000; line-height: 1.2; pointer-events: all; background-color: #ffffff; white-space: nowrap; \"><font face=\"Georgia\" style=\"font-size: 24px\"><i>P</i></font></div></div></div></foreignObject><text fill=\"#000000\" font-family=\"Helvetica\" font-size=\"11px\" text-anchor=\"middle\" x=\"49\" y=\"17\">P</text></switch></g><rect fill=\"#f8cecc\" height=\"160\" pointer-events=\"all\" stroke=\"#b85450\" width=\"80\" x=\"87\" y=\"113\"/><g transform=\"translate(-0.5 -0.5)\"><switch><foreignObject height=\"100%\" pointer-events=\"none\" requiredFeatures=\"http://www.w3.org/TR/SVG11/feature#Extensibility\" style=\"overflow: visible; text-align: left;\" width=\"100%\"><div style=\"display: flex; align-items: unsafe center; justify-content: unsafe center; width: 78px; height: 1px; padding-top: 193px; margin-left: 88px;\" xmlns=\"http://www.w3.org/1999/xhtml\"><div style=\"box-sizing: border-box; font-size: 0; text-align: center; \"><div style=\"display: inline-block; font-size: 12px; font-family: Helvetica; color: #000000; line-height: 1.2; pointer-events: all; white-space: normal; word-wrap: normal; \"><font style=\"font-size: 18px\">等圧膨張</font></div></div></div></foreignObject><text fill=\"#000000\" font-family=\"Helvetica\" font-size=\"12px\" text-anchor=\"middle\" x=\"127\" y=\"197\">等圧膨張</text></switch></g><rect fill=\"#dae8fc\" height=\"160\" pointer-events=\"all\" stroke=\"#6c8ebf\" width=\"80\" x=\"247\" y=\"113\"/><g transform=\"translate(-0.5 -0.5)\"><switch><foreignObject height=\"100%\" pointer-events=\"none\" requiredFeatures=\"http://www.w3.org/TR/SVG11/feature#Extensibility\" style=\"overflow: visible; text-align: left;\" width=\"100%\"><div style=\"display: flex; align-items: unsafe center; justify-content: unsafe center; width: 78px; height: 1px; padding-top: 193px; margin-left: 248px;\" xmlns=\"http://www.w3.org/1999/xhtml\"><div style=\"box-sizing: border-box; font-size: 0; text-align: center; \"><div style=\"display: inline-block; font-size: 12px; font-family: Helvetica; color: #000000; line-height: 1.2; pointer-events: all; white-space: normal; word-wrap: normal; \"><span style=\"font-size: 18px\">等圧圧縮</span></div></div></div></foreignObject><text fill=\"#000000\" font-family=\"Helvetica\" font-size=\"12px\" text-anchor=\"middle\" x=\"287\" y=\"197\">等圧圧縮</text></switch></g><path d=\"M 87 113 L 156.9 113\" fill=\"none\" pointer-events=\"stroke\" stroke=\"#ff0000\" stroke-miterlimit=\"10\" stroke-width=\"3\"/><path d=\"M 163.65 113 L 154.65 117.5 L 156.9 113 L 154.65 108.5 Z\" fill=\"#ff0000\" pointer-events=\"all\" stroke=\"#ff0000\" stroke-miterlimit=\"10\" stroke-width=\"3\"/><path d=\"M 327 113 L 257.1 113\" fill=\"none\" pointer-events=\"stroke\" stroke=\"#0000ff\" stroke-miterlimit=\"10\" stroke-width=\"3\"/><path d=\"M 250.35 113 L 259.35 108.5 L 257.1 113 L 259.35 117.5 Z\" fill=\"#0000ff\" pointer-events=\"all\" stroke=\"#0000ff\" stroke-miterlimit=\"10\" stroke-width=\"3\"/><path d=\"M 47 113 L 357 113\" fill=\"none\" pointer-events=\"stroke\" stroke=\"#000000\" stroke-dasharray=\"2 6\" stroke-miterlimit=\"10\" stroke-width=\"2\"/><g transform=\"translate(-0.5 -0.5)\"><switch><foreignObject height=\"100%\" pointer-events=\"none\" requiredFeatures=\"http://www.w3.org/TR/SVG11/feature#Extensibility\" style=\"overflow: visible; text-align: left;\" width=\"100%\"><div style=\"display: flex; align-items: unsafe center; justify-content: unsafe center; width: 1px; height: 1px; padding-top: 111px; margin-left: 28px;\" xmlns=\"http://www.w3.org/1999/xhtml\"><div style=\"box-sizing: border-box; font-size: 0; text-align: center; \"><div style=\"display: inline-block; font-size: 11px; font-family: Helvetica; color: #000000; line-height: 1.2; pointer-events: all; background-color: #ffffff; white-space: nowrap; \"><font face=\"Georgia\" style=\"font-size: 18px\">P<sub>0</sub></font></div></div></div></foreignObject><text fill=\"#000000\" font-family=\"Helvetica\" font-size=\"11px\" text-anchor=\"middle\" x=\"28\" y=\"114\">P0</text></switch></g></g><switch><g requiredFeatures=\"http://www.w3.org/TR/SVG11/feature#Extensibility\"/><a target=\"_blank\" transform=\"translate(0,-5)\" xlink:href=\"https://desk.draw.io/support/solutions/articles/16000042487\"><text font-size=\"10px\" text-anchor=\"middle\" x=\"50%\" y=\"100%\">Viewer does not support full SVG 1.1</text></a></switch></svg>"
          },
          "metadata": {
            "tags": []
          }
        }
      ]
    },
    {
      "cell_type": "markdown",
      "metadata": {
        "id": "LBOPoST6XICE"
      },
      "source": [
        "$\\require{cancel}$\n",
        "#### $\\Delta P=0$  における熱力学第一法則\n",
        "\n",
        "\\begin{align*}\n",
        "\\Delta U\n",
        "&= \\Delta Q_{\\rm in} + \\Delta W_{\\rm in}&\\\\\n",
        "&= \\Delta Q_{\\rm in} - \\Delta W_{\\rm out}= \\Delta Q_{\\rm in} -  P \\Delta V&\n",
        "\\end{align*}"
      ]
    },
    {
      "cell_type": "markdown",
      "metadata": {
        "id": "V5QbdjShXtgq"
      },
      "source": [
        "####  $\\Delta P=0$ で系が吸収した熱量 $\\Delta Q_{\\rm in}$\n",
        "\n",
        "\\begin{align*}\n",
        "\\Delta Q_{{\\rm in:}P} = \\Delta U + P \\Delta V\n",
        "\\end{align*}\n",
        "\n",
        "- $\\Delta U$: 系の内部エネルギー変化に使われる\n",
        "- $P\\Delta V$: $\\Delta P=0$ で系の体積変化に使われるエネルギー変化\n",
        "\n",
        "この関係を簡潔に示すと\n",
        "\n",
        "> $\\Delta P=0$ では, 系が吸収した熱量 $\\Delta Q_{{\\rm in:}P}$ の一部は内部エネルギーの変化 $\\Delta U$ に利用され,   \n",
        "また一部は外部への仕事 $\\Delta W_{{\\rm out}:P} =P \\Delta V$  に利用される\n",
        "\n",
        "ということができます.\n",
        "\n"
      ]
    },
    {
      "cell_type": "code",
      "metadata": {
        "id": "8HiPQBw70Gpf",
        "cellView": "form",
        "colab": {
          "base_uri": "https://localhost:8080/",
          "height": 306
        },
        "outputId": "d783cfea-767d-4b0f-86e0-21f5ae7da24b"
      },
      "source": [
        "#@title 定圧変化における(理想気体の)温度変化: ΔP=0\n",
        "%matplotlib inline\n",
        "\n",
        "import matplotlib.pyplot as plt\n",
        "import numpy as np\n",
        "\n",
        "x = np.linspace(0.001, 10, 50)\n",
        "\n",
        "fig = plt.figure()\n",
        "ax = fig.add_subplot(111)\n",
        "\n",
        "plt.xlim([0,10])\n",
        "plt.ylim([0,10])\n",
        "\n",
        "ax.set_aspect('equal', adjustable='box')\n",
        "ax.set_ylabel('P [Pa]')\n",
        "ax.set_xlabel('V [m$^3$]')\n",
        "\n",
        "plt.plot(x, 5/x, '-', color=\"b\")\n",
        "plt.plot(x, 3*5/x, '-', color=\"r\")\n",
        "\n",
        "plt.plot([5/4,3*5/4],[4,4], color='m')"
      ],
      "execution_count": null,
      "outputs": [
        {
          "output_type": "execute_result",
          "data": {
            "text/plain": [
              "[<matplotlib.lines.Line2D at 0x7fa1c25f1550>]"
            ]
          },
          "metadata": {
            "tags": []
          },
          "execution_count": 3
        },
        {
          "output_type": "display_data",
          "data": {
            "image/png": "[encoded data removed]",
            "text/plain": [
              "<Figure size 432x288 with 1 Axes>"
            ]
          },
          "metadata": {
            "tags": [],
            "needs_background": "light"
          }
        }
      ]
    },
    {
      "cell_type": "markdown",
      "metadata": {
        "id": "G_byT-MbEEMg"
      },
      "source": [
        "### 定積変化\n",
        "\n",
        "$\\Delta V = V_{終状態}-V_{始状態}=0 \\quad \\to \\quad V_{終状態}=V_{始状態}$"
      ]
    },
    {
      "cell_type": "markdown",
      "metadata": {
        "id": "N5urdvWOEQud"
      },
      "source": [
        "$\\require{cancel}$\n",
        "#### $\\Delta V=0$  における熱力学第一法則\n",
        "\n",
        "熱力学第一法則は\n",
        "\\begin{align*}\n",
        "\\Delta U \n",
        "&= \\Delta Q_{\\rm in} + \\Delta W_{\\rm in}&\\\\\n",
        "&= \\Delta Q_{\\rm in} - \\Delta W_{\\rm out}&\\\\\n",
        "&= \\Delta Q_{\\rm in} - P\\Delta V,&\n",
        "\\end{align*}\n",
        "これに定積変化 $\\Delta V=0$ を考慮すると\n",
        "\\begin{align*}\n",
        "\\Delta U &= \\Delta Q_{\\rm in} - P\\cancelto{0}{\\Delta V}&\\\\\n",
        "\\Delta U &= \\Delta Q_{{\\rm in}:V}&\n",
        "\\end{align*}\n",
        "\n",
        "> 注目する系の定積変化 $\\Delta V=0$ では, 吸収される熱量は系の内部エネルギー変化 $\\Delta U $ に等しい\n",
        "\n",
        "つまり\n",
        " \n",
        ">> $\\color{#0000FF}{\\Delta Q_{{\\rm in}:V} < 0}$ ならば $\\color{#0000FF}{\\Delta U < 0}$,   \n",
        ">> $\\color{#FF0000}{\\Delta Q_{{\\rm in}:V} > 0}$ ならば $\\color{#FF0000}{\\Delta U > 0}$, \n",
        "\n",
        "ということができます. この関係を $n$ mol の単原子理想気体の\n",
        "内部エネルギーを用いて表現すると\n",
        "\\begin{align*}\n",
        "\\Delta U &= \\Delta Q_{{\\rm in}:V}&\\\\\n",
        "\\dfrac{3}{2} n R \\Delta T &= \\Delta Q_{{\\rm in}:V}&\n",
        "\\end{align*}\n",
        "系が吸収する熱量 $\\Delta Q_{{\\rm in}:V}$ によって, 系の温度変化 $\\Delta T$ に変換することができます.  "
      ]
    },
    {
      "cell_type": "code",
      "metadata": {
        "cellView": "form",
        "id": "IIQ3jc8Jmq8O",
        "colab": {
          "base_uri": "https://localhost:8080/",
          "height": 306
        },
        "outputId": "76e4ccb7-fd5d-4ba2-90a3-41668a1a1f32"
      },
      "source": [
        "#@title 定積変化における(理想気体の)温度変化: ΔV=0\n",
        "%matplotlib inline\n",
        "\n",
        "import matplotlib.pyplot as plt\n",
        "import numpy as np\n",
        "\n",
        "x = np.linspace(0.001, 10, 50)\n",
        "\n",
        "fig = plt.figure()\n",
        "ax = fig.add_subplot(111)\n",
        "\n",
        "plt.xlim([0,10])\n",
        "plt.ylim([0,10])\n",
        "\n",
        "ax.set_aspect('equal', adjustable='box')\n",
        "ax.set_ylabel('P [Pa]')\n",
        "ax.set_xlabel('V [m$^3$]')\n",
        "\n",
        "plt.plot(x, 5/x, '-', color=\"b\")\n",
        "plt.plot(x, 3*5/x, '-', color=\"r\")\n",
        "\n",
        "plt.plot([4,4],[5/4,3*5/4])"
      ],
      "execution_count": null,
      "outputs": [
        {
          "output_type": "execute_result",
          "data": {
            "text/plain": [
              "[<matplotlib.lines.Line2D at 0x7fa1c25502e8>]"
            ]
          },
          "metadata": {
            "tags": []
          },
          "execution_count": 4
        },
        {
          "output_type": "display_data",
          "data": {
            "image/png": "[encoded data removed]",
            "text/plain": [
              "<Figure size 432x288 with 1 Axes>"
            ]
          },
          "metadata": {
            "tags": [],
            "needs_background": "light"
          }
        }
      ]
    },
    {
      "cell_type": "markdown",
      "metadata": {
        "id": "dwjIqIge3hPY"
      },
      "source": [
        "### 等温変化\n",
        "\n",
        "$\\Delta T = T_{終状態}-T_{始状態}=0$\n",
        "\n",
        "理想気体の状態方程式で 等温変化 $\\Delta T=0$ を確認すると,\n",
        "$nRT$ が一定となり\n",
        "\\begin{align*}\n",
        "PV & = n R T&\\\\\n",
        "PV &= 一定&\n",
        "\\end{align*}\n",
        "つまり, 理想気体において $\\Delta T=0$ では $P$ と $V$ は **反比例** の関係にある"
      ]
    },
    {
      "cell_type": "code",
      "metadata": {
        "id": "X_rVbRJFzMVf",
        "cellView": "form",
        "colab": {
          "base_uri": "https://localhost:8080/",
          "height": 306
        },
        "outputId": "f08f623e-01aa-4cf6-d456-64506584f310"
      },
      "source": [
        "#@title ΔT=0 では PV 一定\n",
        "%matplotlib inline\n",
        "\n",
        "import matplotlib.pyplot as plt\n",
        "import numpy as np\n",
        "\n",
        "x = np.linspace(0.001, 10, 50)\n",
        "\n",
        "fig = plt.figure()\n",
        "ax = fig.add_subplot(111)\n",
        "\n",
        "plt.xlim([0,10])\n",
        "plt.ylim([0,10])\n",
        "\n",
        "ax.set_aspect('equal', adjustable='box')\n",
        "ax.set_ylabel('P [Pa]')\n",
        "ax.set_xlabel('V [m$^3$]')\n",
        "\n",
        "plt.plot(x, 8/x, '-', color=\"k\")\n",
        "plt.plot([0,1,1],[8,8,0],color=\"g\")\n",
        "#plt.plot([0,2,2],[4,4,0],color=\"r\")\n",
        "plt.plot([0,4,4],[2,2,0],color=\"g\")"
      ],
      "execution_count": null,
      "outputs": [
        {
          "output_type": "execute_result",
          "data": {
            "text/plain": [
              "[<matplotlib.lines.Line2D at 0x7fb2d013f860>]"
            ]
          },
          "metadata": {
            "tags": []
          },
          "execution_count": 4
        },
        {
          "output_type": "display_data",
          "data": {
            "image/png": "[encoded data removed]",
            "text/plain": [
              "<Figure size 432x288 with 1 Axes>"
            ]
          },
          "metadata": {
            "tags": [],
            "needs_background": "light"
          }
        }
      ]
    },
    {
      "cell_type": "markdown",
      "metadata": {
        "id": "aJcSa6N76Hm3"
      },
      "source": [
        "$\\require{cancel}$\n",
        "#### $\\Delta T =0$ における熱力学第一法則\n",
        "\n",
        "熱力学第一法則は\n",
        "\\begin{align*}\n",
        "\\Delta U &= \\Delta Q_{\\rm in} + \\Delta W_{\\rm in}&\n",
        "\\end{align*}\n",
        "理想気体では内部エネルギー $\\Delta U$ が簡潔に表現できて\n",
        "\\begin{align*}\n",
        "\\dfrac{3}{2} n R \\Delta T &= \\Delta Q_{\\rm in} + \\Delta W_{\\rm in}.&\n",
        "\\end{align*}\n",
        "等温変化 $\\Delta T =0$ と外部にする仕事 $\\Delta W_{\\rm out}$ で整理すると\n",
        "\\begin{align*}\n",
        "\\dfrac{3}{2} n R \\cancelto{0}{\\Delta T} &= \\Delta Q_{\\rm in} - \\Delta W_{\\rm out}&\\\\\n",
        "\\Delta Q_{{\\rm in }:T} & = \\Delta W_{{\\rm out}:T}.&\n",
        "\\end{align*}\n",
        "この結果は\n",
        "> $\\Delta Q_{\\rm in}>0$ であれば, $\\Delta W_{\\rm out}>0$ \n",
        "\n",
        "で\n",
        "\n",
        ">> 注目する系の等温変化では, 吸熱過程で系は外部に仕事をする\n",
        "\n",
        "ということができます. また $\\Delta W_{\\rm out} $ を $P,V$ で表現すると\n",
        "\\begin{align*}\n",
        "\\Delta Q_{{\\rm in }:T} & = \\Delta W_{{\\rm out}:T} = P \\Delta V&\n",
        "\\end{align*}\n",
        "\n",
        "> この吸熱過程で, 体積膨張を伴う\n",
        "\n",
        "ことが分かります"
      ]
    },
    {
      "cell_type": "markdown",
      "metadata": {
        "id": "3HgOrdNHn4hz"
      },
      "source": [
        "> Q. 教科書 p175 例題2 に取り組んでください."
      ]
    },
    {
      "cell_type": "markdown",
      "metadata": {
        "id": "x28u0n2TnKBe"
      },
      "source": [
        "### 断熱変化\n",
        "\n",
        "$\\Delta Q = Q_{終状態}-Q_{始状態}=0 \\quad \\to \\quad Q_{終状態}=Q_{始状態}$"
      ]
    },
    {
      "cell_type": "markdown",
      "metadata": {
        "id": "Q9FV_Nc4CpdG"
      },
      "source": [
        "$\\require{cancel}$\n",
        "#### $\\Delta Q_{\\rm in}=0$  における熱力学第一法則\n",
        "\n",
        "\\begin{align*}\n",
        "\\Delta U\n",
        "&= \\cancelto{0}{\\Delta Q_{\\rm in}} + \\Delta W_{\\rm in}&\\\\\n",
        "\\Delta U &= \\Delta W_{{\\rm in}:Q}\n",
        "\\end{align*}\n",
        "\n",
        "- $\\color{#FF0000}{\\Delta W_{{\\rm in}:Q}>0} \\quad \\to \\quad \\color{#FF0000}{\\Delta U>0}$ \n",
        "- $\\color{#0000FF}{\\Delta W_{{\\rm in}:Q}<0} \\quad \\to \\quad \\color{#0000FF}{\\Delta U<0}$ \n",
        "\n",
        "断熱変化 $\\Delta Q_{\\rm in}=0$ では, $-\\Delta W_{\\rm in} = \\Delta W_{\\rm out}=P\\Delta V$ から, 体積変化も生じます."
      ]
    },
    {
      "cell_type": "markdown",
      "metadata": {
        "id": "PEH7korynsIN"
      },
      "source": [
        "> Q.  教科書 p176 (15.10) の二番目の式が成り立つことを確認してください "
      ]
    },
    {
      "cell_type": "markdown",
      "metadata": {
        "id": "_UkfROsanggW"
      },
      "source": [
        "また単原子の理想気体では\n",
        "\\begin{align*}\n",
        "\\Delta U = n C_{V} \\Delta T\n",
        "\\end{align*}\n",
        "より, 温度変化も伴います. このことから $T,V$ の変化を同時に扱う必要性が生じてきます."
      ]
    },
    {
      "cell_type": "markdown",
      "metadata": {
        "id": "Ykv5IWaOG_yA"
      },
      "source": [
        "$\\require{cancel}$\n",
        "#### (理想気体における) $\\Delta Q_{\\rm in}=0$ での $P-V$ の変化\n",
        "\n",
        "断熱変化 $\\Delta Q_{\\rm in}=0$ では\n",
        "\\begin{align*}\n",
        "&\\Delta U = \\Delta W_{{\\rm in}:Q}= - \\Delta W_{{\\rm out}:Q}&\\\\\n",
        "&\\Delta U + \\Delta W_{{\\rm out}:Q} =0&\n",
        "\\end{align*}\n",
        "これを $n$ mol の単原子理想気体の内部エネルギー変化と気体が外部に行う仕事で表現すると\n",
        "\\begin{align*}\n",
        "\\Delta U + \\Delta W_{{\\rm out}:Q} =0\\\\\n",
        "n C_V \\Delta T + P \\Delta V =0\n",
        "\\end{align*}\n",
        "この関係の $P$ に理想気体の状態方程式 $PV=nRT$ を代入すると\n",
        "\\begin{align*}\n",
        "n C_V \\Delta T + \\left( \\dfrac{nRT}{V}\\right) \\Delta V =0,\n",
        "\\end{align*}\n",
        "共通項の約分と状態量をそれぞれの項にまとめると\n",
        "\\begin{align*}\n",
        "&\\cancel{n} C_V \\Delta T + \\left( \\dfrac{\\cancel{n} RT}{V}\\right) \\Delta V =0&\\\\\n",
        "&\\dfrac{C_V}{R} \\dfrac{\\Delta{T}}T + \\dfrac{\\Delta{V}}V =0&\n",
        "\\end{align*}\n",
        "この関係式は 温度変化 $\\Delta T$ と 体積変化 $\\Delta V$ の関わりを表したもので,   \n",
        "わずかな間に変化した場合にも保たれます.\n",
        "\n",
        "この関係式を始状態(**i**nitial) から 終状態(**f**inal) までのすべての変化をたしあわせると\n",
        "\\begin{align*}\n",
        "\\dfrac{C_V}{R} \\sum_{i}^{f}\\dfrac{\\Delta{T}}T \n",
        "+ \\sum_{i}^{f}\\dfrac{\\Delta{V}}V =0.&\n",
        "\\end{align*}\n",
        "\n",
        "\n",
        "\n",
        "\n",
        "\n"
      ]
    },
    {
      "cell_type": "markdown",
      "metadata": {
        "id": "SEWPcDD0oWk8"
      },
      "source": [
        "$\\require{cancel}$\n",
        "ここで変化の間隔を短く($\\Delta{T},\\Delta{V}\\to 0$)すると, 定積分の考え方が利用でき\n",
        "\\begin{align*}\n",
        "\\dfrac{C_V}{R} \\int_{i}^{f}\\dfrac{{\\rm d}{T}}T \n",
        "+ \\int_{i}^{f}\\dfrac{{\\rm d}{V}}V =0&\n",
        "\\end{align*}\n",
        "これを解けば\n",
        "\\begin{align*}\n",
        "\\dfrac{C_V}{R} \\ln \\dfrac{T_f}{T_i}\n",
        "+ \\ln \\dfrac{V_f}{V_i} =0\\\\\n",
        "\\ln \\left( \\dfrac{T_f}{T_i}\\right)^{\\frac{C_V}{R}}\n",
        "+ \\ln \\dfrac{V_f}{V_i} =0\\\\\n",
        "\\ln \\left( \\dfrac{T_f}{T_i}\\right)^{\\frac{C_V}{R}} \\cdot \\dfrac{V_f}{V_i} =0&\\\\\n",
        "\\left( \\dfrac{T_f}{T_i}\\right)^{\\frac{C_V}{R}} \\cdot \\dfrac{V_f}{V_i}  = 1&\\\\\n",
        "\\left(\n",
        "  \\dfrac{T_f}{T_i}\n",
        "  \\left(\\dfrac{V_f}{V_i}\\right)^{\\frac{R}{C_V}} \n",
        "\\right)^{\\frac{C_V}{R}} &=1&\\\\\n",
        "  \\dfrac{T_f}{T_i}\n",
        "  \\left(\\dfrac{V_f}{V_i}\\right)^{\\frac{R}{C_V}} &=1&\n",
        "\\end{align*}\n",
        "\n",
        "\n",
        "\n"
      ]
    },
    {
      "cell_type": "markdown",
      "metadata": {
        "id": "S4HBODmYWMAy"
      },
      "source": [
        "比熱比 $\\gamma$ を用いると, $P-V$ の関係は\n",
        "\\begin{align*}\n",
        "&\\dfrac{P_f V_f^{\\gamma}}{P_i V_i^{\\gamma}} = 1&\\\\\n",
        "P_f V_f^{\\gamma} &= P_i V_i^{\\gamma} = 一定&\n",
        "\\end{align*}\n",
        "となります."
      ]
    },
    {
      "cell_type": "markdown",
      "metadata": {
        "id": "Ynrv4MtBi3Zf"
      },
      "source": [
        "$$\n",
        "\\gamma = \\dfrac{R+ C_V}{C_V} = \\dfrac{C_R}{C_V} > 1\n",
        "$$"
      ]
    },
    {
      "cell_type": "markdown",
      "metadata": {
        "id": "KASVjRnJOmCJ"
      },
      "source": [
        "また $T-V$ の関係も\n",
        "\\begin{align*}\n",
        "  \\dfrac{T_f}{T_i}\n",
        "  &\\left(\\dfrac{V_f}{V_i}\\right)^{\\gamma -1} &=1&\\\\\n",
        "T_f V_f^{\\gamma-1}&= T_i V_i^{\\gamma-1}=一定&\n",
        "\\end{align*}\n",
        "と整理できます. この関係式を **ポアッソンの状態方程式** または *ポアッソンの法則* と呼ばれ, エンジンの圧縮着火に利用されています."
      ]
    },
    {
      "cell_type": "code",
      "metadata": {
        "id": "GfXN46wiTqIk",
        "cellView": "form",
        "colab": {
          "base_uri": "https://localhost:8080/",
          "height": 336
        },
        "outputId": "3fadb2e4-015a-403a-c49f-2f376b1f4be9"
      },
      "source": [
        "#@title ポアッソンの状態方程式を利用した圧縮発火実験\n",
        "%%html\n",
        "<iframe width=\"560\" height=\"315\" src=\"https://www.youtube-nocookie.com/embed/4qe1Ueifekg\" frameborder=\"0\" allow=\"accelerometer; autoplay; encrypted-media; gyroscope; picture-in-picture\" allowfullscreen></iframe>"
      ],
      "execution_count": null,
      "outputs": [
        {
          "output_type": "display_data",
          "data": {
            "text/html": [
              "<iframe width=\"560\" height=\"315\" src=\"https://www.youtube-nocookie.com/embed/4qe1Ueifekg\" frameborder=\"0\" allow=\"accelerometer; autoplay; encrypted-media; gyroscope; picture-in-picture\" allowfullscreen></iframe>"
            ],
            "text/plain": [
              "<IPython.core.display.HTML object>"
            ]
          },
          "metadata": {
            "tags": []
          }
        }
      ]
    },
    {
      "cell_type": "markdown",
      "metadata": {
        "id": "uJAcdVY7GsGL"
      },
      "source": [
        "$\\require{cancel}$\n",
        "#### $\\Delta T =0$ と $\\Delta Q =0$ における $P-V$ の傾き比較"
      ]
    },
    {
      "cell_type": "markdown",
      "metadata": {
        "id": "QatpgHJzYSjp"
      },
      "source": [
        "##### 等温変化 $\\Delta T =0$ の $P-V$ グラフの傾き\n",
        "等温変化 $\\Delta T =0$ で, 単原子分子の理想気体の状態方程式は\n",
        "\\begin{align*}\n",
        "P V = nRT\n",
        "\\end{align*}\n",
        "右辺は一定になる. この式を$P-V$での傾きを調べるために $V$ で微分してみると\n",
        "\\begin{align*}\n",
        "\\dfrac{{\\rm d} (P V)}{{\\rm d} V} &= \\cancelto{0}{\\dfrac{{\\rm d} (nRT)}{{\\rm d} V}}&\\\\\n",
        "\\dfrac{{\\rm d} P}{{\\rm d} V} V \n",
        "+ P \\cancelto{1}{\\dfrac{{\\rm d} V}{{\\rm d} V}} &=0&\\\\\n",
        "\\left(\\dfrac{{\\rm d} P}{{\\rm d} V}\\right)_T &= - \\dfrac{P}{V}&\n",
        "\\end{align*}"
      ]
    },
    {
      "cell_type": "markdown",
      "metadata": {
        "id": "fSNN4stPQnay"
      },
      "source": [
        "##### 断熱変化 $\\Delta Q=0$ の $P-V$ グラフの傾き\n",
        "\n",
        "断熱変化の様子を $P-V$ グラフ上で表現すると\n",
        "\\begin{align*}\n",
        "P V^{\\gamma} = 一定\n",
        "\\end{align*}\n",
        "となる. 単原子分子の理想気体では **比熱比 $\\gamma$** の値は\n",
        "\\begin{align*}\n",
        "\\gamma= \\dfrac{R + C_V}{C_V} = \\dfrac{C_P}{C_V} = \\dfrac{5/2 R}{3/2 R} = \\dfrac{5}{3} \\approx 1.67 > 1\n",
        "\\end{align*}\n",
        "です.\n",
        "\n",
        "断熱変化$\\Delta Q =0$ の $P-V$変化は\n",
        "\\begin{align*}\n",
        "P V^{\\gamma} = 一定\n",
        "\\end{align*}\n",
        "で与えられるので, この式を$P-V$での傾きを調べるために $V$ で微分してみると\n",
        "\\begin{align*}\n",
        "\\dfrac{{\\rm d} (P V^\\gamma)}{{\\rm d} V} &= \\cancelto{0}{\\dfrac{{\\rm d} (一定)}{{\\rm d} V}}&\\\\\n",
        "\\dfrac{{\\rm d} P}{{\\rm d} V} V^\\gamma\n",
        "+ P \\dfrac{{\\rm d} V^\\gamma}{{\\rm d} V} &=0&\\\\\n",
        "\\dfrac{{\\rm d} P}{{\\rm d} V} V^\\gamma\n",
        "+ \\gamma P V^{\\gamma -1} &=0&\\\\\n",
        "\\left(\\dfrac{{\\rm d} P}{{\\rm d} V}\\right)_Q &= - \\gamma\\dfrac{P}{V}&\n",
        "\\end{align*}"
      ]
    },
    {
      "cell_type": "markdown",
      "metadata": {
        "id": "I4WlbRyoiwfW"
      },
      "source": [
        "##### $\\Delta Q =0$ は $\\Delta T = 0$ をつなぐ\n",
        "一般に比熱比 $\\gamma>1$ なので,\n",
        "\\begin{align*}\n",
        "0> \\left(\\dfrac{{\\rm d} P}{{\\rm d} V}\\right)_T \n",
        ">\b\n",
        "\\left(\\dfrac{{\\rm d} P}{{\\rm d} V}\\right)_Q\n",
        "\\end{align*}\n",
        "このことから断熱変化の $P-V$ グラフの傾きがより厳しくなることがわかります.\n",
        "\n",
        "これを利用して, 温度の異なる等温変化を  \n",
        "断熱変化で連携させることが可能になります."
      ]
    },
    {
      "cell_type": "code",
      "metadata": {
        "id": "EDjF4bXborKm",
        "colab": {
          "base_uri": "https://localhost:8080/",
          "height": 302
        },
        "cellView": "form",
        "outputId": "28c86b30-2b0c-465b-bc1e-b882a5fc4a36"
      },
      "source": [
        "#@title 断熱変化と等温変化の関係\n",
        "%matplotlib inline\n",
        "\n",
        "import matplotlib.pyplot as plt\n",
        "import numpy as np\n",
        "\n",
        "x = np.linspace(0.001, 15, 50)\n",
        "\n",
        "fig = plt.figure()\n",
        "ax = fig.add_subplot(111)\n",
        "ax.set_ylabel('P [Pa]')\n",
        "ax.set_xlabel('V [m$^3$]')\n",
        "\n",
        "plt.xlim([0,15])\n",
        "plt.ylim([0,15])\n",
        "\n",
        "ax.set_aspect('equal', adjustable='box')\n",
        "\n",
        "plt.plot(x, 10/x, '--', color=\"b\")\n",
        "plt.plot(x, 2*10/x, '--', color=\"r\")\n",
        "\n",
        "plt.plot(x, 3*10/x**(1.67), '-', color=\"g\")"
      ],
      "execution_count": null,
      "outputs": [
        {
          "output_type": "execute_result",
          "data": {
            "text/plain": [
              "[<matplotlib.lines.Line2D at 0x7f5e894e12e8>]"
            ]
          },
          "metadata": {
            "tags": []
          },
          "execution_count": 12
        },
        {
          "output_type": "display_data",
          "data": {
            "image/png": "[encoded data removed]",
            "text/plain": [
              "<Figure size 432x288 with 1 Axes>"
            ]
          },
          "metadata": {
            "tags": [],
            "needs_background": "light"
          }
        }
      ]
    },
    {
      "cell_type": "markdown",
      "metadata": {
        "id": "HQFZWa6iTfMq"
      },
      "source": [
        "> 教科書 p175 図15.3 で断熱圧縮の $P-V$ を確認してください."
      ]
    },
    {
      "cell_type": "markdown",
      "metadata": {
        "id": "2q2HoRKApHZX"
      },
      "source": [
        "### 気体の断熱自由膨張"
      ]
    },
    {
      "cell_type": "markdown",
      "metadata": {
        "id": "rad73MyVqCuT"
      },
      "source": [
        "$\\require{cancel}$\n",
        "\\begin{align*}\n",
        "\\Delta U \n",
        "&= \\cancelto{0}{\\Delta Q_{\\rm in}} - \\cancelto{0}{P} \\Delta V\n",
        "=0\\\\\n",
        "\\Delta U = U_{終状態} -  U_{始状態} &= 0\\\\\n",
        "U_{終状態} &= U_{始状態}\n",
        "\\end{align*}\n",
        "\n",
        "> 気体の内部エネルギーが温度の関数だけであり, 圧力や体積に依らないとすると\n",
        "\n",
        "\\begin{align*}\n",
        "U_{終状態} &= U_{始状態}\\\\\n",
        "U(T_{終状態}) &= U(T_{始状態})\\\\\n",
        "T_{終状態} &= T_{始状態}\\\\\n",
        "\\end{align*}"
      ]
    },
    {
      "cell_type": "code",
      "metadata": {
        "id": "1zl4tEmUpMTS",
        "cellView": "form",
        "colab": {
          "base_uri": "https://localhost:8080/",
          "height": 475
        },
        "outputId": "ddb355dd-9566-4e0c-a7fa-eb4537b7e95d"
      },
      "source": [
        "#@title 気体の真空への断熱膨張\n",
        "%%html\n",
        "<iframe src=\"https://phet.colorado.edu/sims/html/diffusion/latest/diffusion_en.html\" width=\"600\" height=\"450\" scrolling=\"no\" allowfullscreen></iframe>"
      ],
      "execution_count": null,
      "outputs": [
        {
          "output_type": "display_data",
          "data": {
            "text/html": [
              "<iframe src=\"https://phet.colorado.edu/sims/html/diffusion/latest/diffusion_en.html\" width=\"600\" height=\"450\" scrolling=\"no\" allowfullscreen></iframe>"
            ],
            "text/plain": [
              "<IPython.core.display.HTML object>"
            ]
          },
          "metadata": {
            "tags": []
          }
        }
      ]
    },
    {
      "cell_type": "markdown",
      "metadata": {
        "id": "Yaq9GofE3D0i"
      },
      "source": [
        "## 第1種永久機関"
      ]
    },
    {
      "cell_type": "markdown",
      "metadata": {
        "id": "BYnucAiRNIkr"
      },
      "source": [
        "非平衡をうまく利用する\n",
        "//出典　小学館　日本大百科全書(ニッポニカ)日本大百科全書(ニッポニカ)について\n",
        "![出典　小学館　日本大百科全書(ニッポニカ)日本大百科全書(ニッポニカ)について](https://kotobank.jp/image/dictionary/nipponica/media/81306024016255.jpg)"
      ]
    },
    {
      "cell_type": "markdown",
      "metadata": {
        "id": "6FONGTOSOMQG"
      },
      "source": [
        "わかりやすい説明 [永久機関いろいろ, いろもの物理学者](http://www.phys.u-ryukyu.ac.jp/~maeno/physgairon2018/lec6.html)"
      ]
    },
    {
      "cell_type": "code",
      "metadata": {
        "id": "b9ap77VkQbZz",
        "cellView": "form",
        "colab": {
          "base_uri": "https://localhost:8080/",
          "height": 336
        },
        "outputId": "bc2f931d-0753-40fd-d691-346cffafcc33"
      },
      "source": [
        "#@title 第1種永久機関(種明かし付き)\n",
        "%%html\n",
        "<iframe width=\"560\" height=\"315\" src=\"https://www.youtube-nocookie.com/embed/EiZU3BvqvP4\" frameborder=\"0\" allow=\"accelerometer; autoplay; encrypted-media; gyroscope; picture-in-picture\" allowfullscreen></iframe>"
      ],
      "execution_count": null,
      "outputs": [
        {
          "output_type": "display_data",
          "data": {
            "text/html": [
              "<iframe width=\"560\" height=\"315\" src=\"https://www.youtube-nocookie.com/embed/EiZU3BvqvP4\" frameborder=\"0\" allow=\"accelerometer; autoplay; encrypted-media; gyroscope; picture-in-picture\" allowfullscreen></iframe>"
            ],
            "text/plain": [
              "<IPython.core.display.HTML object>"
            ]
          },
          "metadata": {
            "tags": []
          }
        }
      ]
    },
    {
      "cell_type": "code",
      "metadata": {
        "id": "LXaM-P1vUVop",
        "cellView": "form",
        "colab": {
          "base_uri": "https://localhost:8080/",
          "height": 497
        },
        "outputId": "f9fb2211-7d92-4527-8e25-b1af15edffe4"
      },
      "source": [
        "#@title 第1種永久機関から第2種永久機関\n",
        "%%html\n",
        "<div style=\"max-width:854px\"><div style=\"position:relative;height:0;padding-bottom:56.25%\"><iframe src=\"https://embed.ted.com/talks/lang/ja/netta_schramm_why_don_t_perpetual_motion_machines_ever_work\" width=\"854\" height=\"480\" style=\"position:absolute;left:0;top:0;width:100%;height:100%\" frameborder=\"0\" scrolling=\"no\" allowfullscreen></iframe></div></div>"
      ],
      "execution_count": null,
      "outputs": [
        {
          "output_type": "display_data",
          "data": {
            "text/html": [
              "<div style=\"max-width:854px\"><div style=\"position:relative;height:0;padding-bottom:56.25%\"><iframe src=\"https://embed.ted.com/talks/lang/ja/netta_schramm_why_don_t_perpetual_motion_machines_ever_work\" width=\"854\" height=\"480\" style=\"position:absolute;left:0;top:0;width:100%;height:100%\" frameborder=\"0\" scrolling=\"no\" allowfullscreen></iframe></div></div>"
            ],
            "text/plain": [
              "<IPython.core.display.HTML object>"
            ]
          },
          "metadata": {
            "tags": []
          }
        }
      ]
    }
  ]
}