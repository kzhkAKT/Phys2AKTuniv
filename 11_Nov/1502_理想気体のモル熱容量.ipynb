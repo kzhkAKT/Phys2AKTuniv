{
  "nbformat": 4,
  "nbformat_minor": 0,
  "metadata": {
    "colab": {
      "name": "1502_理想気体のモル熱容量.ipynb",
      "provenance": [],
      "collapsed_sections": [],
      "include_colab_link": true
    },
    "kernelspec": {
      "name": "python3",
      "display_name": "Python 3"
    }
  },
  "cells": [
    {
      "cell_type": "markdown",
      "metadata": {
        "id": "view-in-github",
        "colab_type": "text"
      },
      "source": [
        "<a href=\"https://colab.research.google.com/github/kzhkAKT/Phys2AKTuniv/blob/draft/11_Nov/1502_%E7%90%86%E6%83%B3%E6%B0%97%E4%BD%93%E3%81%AE%E3%83%A2%E3%83%AB%E7%86%B1%E5%AE%B9%E9%87%8F.ipynb\" target=\"_parent\"><img src=\"https://colab.research.google.com/assets/colab-badge.svg\" alt=\"Open In Colab\"/></a>"
      ]
    },
    {
      "cell_type": "markdown",
      "metadata": {
        "id": "XtJ2WLlngJM3"
      },
      "source": [
        "# 熱力学"
      ]
    },
    {
      "cell_type": "markdown",
      "metadata": {
        "id": "EqTr4g0osbNO"
      },
      "source": [
        "\n",
        "![Breaking Symmetry: Phase Transitions, Massive Excitations, and Gravitational Domains](https://www.researchgate.net/profile/Fikriye_Idil_Kaya/publication/321545557/figure/fig4/AS:568296684650496@1512503896521/Phase-transitions-of-water-Temperature-vs-Time-or-Heat-graph.png)\n",
        "\n",
        "\n",
        "- ice+water: 固体(固相, solid) $\\Longleftrightarrow$ 液体(液相, liquid)\n",
        "  - $\\Rightarrow$:: 融解\n",
        "  - $\\Leftarrow$:: 凝固\n",
        "- water+vapor:: 液体(液相, liquid) $\\Longleftrightarrow$ 気体(気相, gas)\n",
        "  - $\\Rightarrow$: 蒸発\n",
        "  - $\\Leftarrow$: 凝縮\n",
        "\n",
        "---\n",
        "[Breaking Symmetry: Phase Transitions, Massive Excitations, and Gravitational Domains](https://www.researchgate.net/publication/321545557_Breaking_Symmetry_Phase_Transitions_Massive_Excitations_and_Gravitational_Domains)"
      ]
    },
    {
      "cell_type": "markdown",
      "metadata": {
        "id": "chhW-k4wYKbi"
      },
      "source": [
        "##### 顕熱, sensible heat\n",
        "- 熱(heat) を受けた分だけ, 温度(Temperature) が変化している熱(区間)"
      ]
    },
    {
      "cell_type": "markdown",
      "metadata": {
        "id": "qkK3ixVsX8Sg"
      },
      "source": [
        "##### 潜熱, _latent heat_\n",
        "  - 転移熱の別称\n",
        "  - 区間 ice+water, water+vapor に潜む熱\n"
      ]
    },
    {
      "cell_type": "markdown",
      "metadata": {
        "id": "82tlHqdFgOtc"
      },
      "source": [
        "## 理想気体のモル熱容量"
      ]
    },
    {
      "cell_type": "markdown",
      "metadata": {
        "id": "dA_aEgO6hHyA"
      },
      "source": [
        "\\begin{align}\n",
        "p V &= n R T\n",
        "\\end{align}"
      ]
    },
    {
      "cell_type": "markdown",
      "metadata": {
        "id": "dwjIqIge3hPY"
      },
      "source": [
        "#### 等温変化\n",
        "\n",
        "$\\Delta T = T_{終状態}-T_{始状態}=0 \\to T_{終状態}=T_{始状態}$\n",
        "\n",
        "理想気体の状態方程式で 等温変化 $\\Delta T=0$ を確認すると,\n",
        "$nRT$ が一定となり\n",
        "\\begin{align*}\n",
        "PV & = n R T&\\\\\n",
        "PV &= 一定&\n",
        "\\end{align*}\n",
        "つまり, 理想気体において $\\Delta T=0$ では $P$ と $V$ は **反比例** の関係にある"
      ]
    },
    {
      "cell_type": "code",
      "metadata": {
        "id": "X_rVbRJFzMVf",
        "cellView": "form",
        "colab": {
          "base_uri": "https://localhost:8080/",
          "height": 306
        },
        "outputId": "f08f623e-01aa-4cf6-d456-64506584f310"
      },
      "source": [
        "#@title ΔT=0 では PV 一定\n",
        "%matplotlib inline\n",
        "\n",
        "import matplotlib.pyplot as plt\n",
        "import numpy as np\n",
        "\n",
        "x = np.linspace(0.001, 10, 50)\n",
        "\n",
        "fig = plt.figure()\n",
        "ax = fig.add_subplot(111)\n",
        "\n",
        "plt.xlim([0,10])\n",
        "plt.ylim([0,10])\n",
        "\n",
        "ax.set_aspect('equal', adjustable='box')\n",
        "ax.set_ylabel('P [Pa]')\n",
        "ax.set_xlabel('V [m$^3$]')\n",
        "\n",
        "plt.plot(x, 8/x, '-', color=\"k\")\n",
        "plt.plot([0,1,1],[8,8,0],color=\"g\")\n",
        "#plt.plot([0,2,2],[4,4,0],color=\"r\")\n",
        "plt.plot([0,4,4],[2,2,0],color=\"g\")"
      ],
      "execution_count": null,
      "outputs": [
        {
          "output_type": "execute_result",
          "data": {
            "text/plain": [
              "[<matplotlib.lines.Line2D at 0x7fb2d013f860>]"
            ]
          },
          "metadata": {
            "tags": []
          },
          "execution_count": 4
        },
        {
          "output_type": "display_data",
          "data": {
            "image/png": "[encoded data removed]",
            "text/plain": [
              "<Figure size 432x288 with 1 Axes>"
            ]
          },
          "metadata": {
            "tags": [],
            "needs_background": "light"
          }
        }
      ]
    },
    {
      "cell_type": "markdown",
      "metadata": {
        "id": "B5hhrU-fhv22"
      },
      "source": [
        "もちろん\n",
        "> $\\Delta T =0$ なので, 顕熱を調べることはできません"
      ]
    },
    {
      "cell_type": "markdown",
      "metadata": {
        "id": "rh7aFn-igWsa"
      },
      "source": [
        "### 定積モル熱容量: $C_V$"
      ]
    },
    {
      "cell_type": "markdown",
      "metadata": {
        "id": "fs6VhiWKiAu-"
      },
      "source": [
        "$n=1 {\\rm \\ mol}$ あたりの熱容量を **モル熱容量** といいます."
      ]
    },
    {
      "cell_type": "markdown",
      "metadata": {
        "id": "G_byT-MbEEMg"
      },
      "source": [
        "#### 定積変化\n",
        "\n",
        "$\\Delta V = V_{終状態}-V_{始状態}=0 \\quad \\to \\quad V_{終状態}=V_{始状態}$"
      ]
    },
    {
      "cell_type": "code",
      "metadata": {
        "cellView": "form",
        "id": "IIQ3jc8Jmq8O",
        "colab": {
          "base_uri": "https://localhost:8080/",
          "height": 306
        },
        "outputId": "76e4ccb7-fd5d-4ba2-90a3-41668a1a1f32"
      },
      "source": [
        "#@title 定積変化における(理想気体の)温度変化: ΔV=0\n",
        "%matplotlib inline\n",
        "\n",
        "import matplotlib.pyplot as plt\n",
        "import numpy as np\n",
        "\n",
        "x = np.linspace(0.001, 10, 50)\n",
        "\n",
        "fig = plt.figure()\n",
        "ax = fig.add_subplot(111)\n",
        "\n",
        "plt.xlim([0,10])\n",
        "plt.ylim([0,10])\n",
        "\n",
        "ax.set_aspect('equal', adjustable='box')\n",
        "ax.set_ylabel('P [Pa]')\n",
        "ax.set_xlabel('V [m$^3$]')\n",
        "\n",
        "plt.plot(x, 5/x, '-', color=\"b\")\n",
        "plt.plot(x, 3*5/x, '-', color=\"r\")\n",
        "\n",
        "plt.plot([4,4],[5/4,3*5/4])"
      ],
      "execution_count": null,
      "outputs": [
        {
          "output_type": "execute_result",
          "data": {
            "text/plain": [
              "[<matplotlib.lines.Line2D at 0x7fa1c25502e8>]"
            ]
          },
          "metadata": {
            "tags": []
          },
          "execution_count": 4
        },
        {
          "output_type": "display_data",
          "data": {
            "image/png": "[encoded data removed]",
            "text/plain": [
              "<Figure size 432x288 with 1 Axes>"
            ]
          },
          "metadata": {
            "tags": [],
            "needs_background": "light"
          }
        }
      ]
    },
    {
      "cell_type": "markdown",
      "metadata": {
        "id": "sgCcksW9jETg"
      },
      "source": [
        "$\\require{cancel}$\n",
        "$\\Delta V=0$ に熱力学第一法則を利用すると\n",
        "\\begin{align*}\n",
        "\\Delta U \n",
        "&= \\Delta Q_{\\rm in} + \\Delta W_{\\rm in}\n",
        "= \\Delta Q_{\\rm in} - \\Delta W_{\\rm out}&\\\\\n",
        "&= \\Delta Q_{\\rm in} - p\\cancelto{0}{\\Delta V}&\\\\\n",
        "\\Delta U &= \\Delta Q_{\\rm in}\n",
        "\\end{align*}"
      ]
    },
    {
      "cell_type": "markdown",
      "metadata": {
        "id": "Rtqu4RxAiPSY"
      },
      "source": [
        "###### $C_V$: $\\Delta V=0$ における顕熱測定"
      ]
    },
    {
      "cell_type": "markdown",
      "metadata": {
        "id": "i0CHGXOLjC4S"
      },
      "source": [
        "\\begin{align}\n",
        "\\Delta Q_{\\Delta V=0}\n",
        "&= {\\rm 1 \\ mol } \\cdot C_{V} \\cdot \\Delta T_{\\Delta V=0}\\\\[3mm]\n",
        "C_V &= \\left(\\dfrac{\\Delta Q}{ {\\rm 1\\ mol} \\cdot \\Delta T}\\right)_{V} = \\dfrac{\\Delta U}{\\Delta T} \\quad {\\rm [J/K\\cdot mol]}\n",
        "\\end{align}"
      ]
    },
    {
      "cell_type": "markdown",
      "metadata": {
        "id": "tj2u9h0Zj1te"
      },
      "source": [
        "### 定圧モル熱容量: $C_p$"
      ]
    },
    {
      "cell_type": "markdown",
      "metadata": {
        "id": "beDGH43sW82B"
      },
      "source": [
        "#### 定圧変化\n",
        "\n",
        "$\\Delta P = P_{終状態}-P_{始状態}=0 \\quad \\to \\quad P_{終状態}=P_{始状態}$"
      ]
    },
    {
      "cell_type": "code",
      "metadata": {
        "id": "8HiPQBw70Gpf",
        "cellView": "form",
        "colab": {
          "base_uri": "https://localhost:8080/",
          "height": 306
        },
        "outputId": "d783cfea-767d-4b0f-86e0-21f5ae7da24b"
      },
      "source": [
        "#@title 定圧変化における(理想気体の)温度変化: ΔP=0\n",
        "%matplotlib inline\n",
        "\n",
        "import matplotlib.pyplot as plt\n",
        "import numpy as np\n",
        "\n",
        "x = np.linspace(0.001, 10, 50)\n",
        "\n",
        "fig = plt.figure()\n",
        "ax = fig.add_subplot(111)\n",
        "\n",
        "plt.xlim([0,10])\n",
        "plt.ylim([0,10])\n",
        "\n",
        "ax.set_aspect('equal', adjustable='box')\n",
        "ax.set_ylabel('P [Pa]')\n",
        "ax.set_xlabel('V [m$^3$]')\n",
        "\n",
        "plt.plot(x, 5/x, '-', color=\"b\")\n",
        "plt.plot(x, 3*5/x, '-', color=\"r\")\n",
        "\n",
        "plt.plot([5/4,3*5/4],[4,4], color='m')"
      ],
      "execution_count": null,
      "outputs": [
        {
          "output_type": "execute_result",
          "data": {
            "text/plain": [
              "[<matplotlib.lines.Line2D at 0x7fa1c25f1550>]"
            ]
          },
          "metadata": {
            "tags": []
          },
          "execution_count": 3
        },
        {
          "output_type": "display_data",
          "data": {
            "image/png": "[encoded data removed]",
            "text/plain": [
              "<Figure size 432x288 with 1 Axes>"
            ]
          },
          "metadata": {
            "tags": [],
            "needs_background": "light"
          }
        }
      ]
    },
    {
      "cell_type": "markdown",
      "metadata": {
        "id": "LBOPoST6XICE"
      },
      "source": [
        "$\\require{cancel}$\n",
        "#### $\\Delta P=0$  における熱力学第一法則\n",
        "\n",
        "\\begin{align*}\n",
        "\\Delta U\n",
        "&= \\Delta Q_{\\rm in} + \\Delta W_{\\rm in}\n",
        "= \\Delta Q_{\\rm in} - \\Delta W_{\\rm out}\\\\\n",
        "&= \\Delta Q_{\\rm in} -  p \\Delta V&\\\\\n",
        "\\Delta Q_{\\rm in} &=  \\Delta U + p\\Delta V\n",
        "\\end{align*}"
      ]
    },
    {
      "cell_type": "markdown",
      "metadata": {
        "id": "jd5FKQ_wlaLE"
      },
      "source": [
        "$\\require{cancel}$\n",
        "#### $\\Delta P=0$  における理想気体の状態方程式\n",
        "\n",
        "\\begin{align*}\n",
        "&\\begin{cases}\n",
        "pV &= nRT\\\\\n",
        "pV_0&= nRT_0\n",
        "\\end{cases}\\\\\n",
        "p(V - V_0) &= nR (T -T_0)\\\\[2mm]\n",
        "p\\Delta V  &= nR \\Delta T\n",
        "\\end{align*}"
      ]
    },
    {
      "cell_type": "markdown",
      "metadata": {
        "id": "y6jYu59zkaR3"
      },
      "source": [
        "###### $C_p$: $\\Delta p=0$ における顕熱測定"
      ]
    },
    {
      "cell_type": "markdown",
      "metadata": {
        "id": "GY4MQQ2ykgcQ"
      },
      "source": [
        "\\begin{align}\n",
        "\\Delta Q_{\\Delta p=0}\n",
        "&= {\\rm 1 \\ mol } \\cdot C_{p} \\cdot \\Delta T_{\\Delta p=0}\\\\[3mm]\n",
        "C_p \n",
        "&= \\left(\\dfrac{\\Delta Q}{{\\rm 1\\ mol}\\cdot \\Delta T}\\right)_{p}\\\\\n",
        "&=  \\dfrac{\\Delta U + \\cancelto{{\\rm 1 \\ mol}\\cdot R\\Delta T}{p\\Delta V}}{\\Delta T}\n",
        "= \\dfrac{\\Delta U}{\\Delta T} + R  \\\\[2mm]\n",
        "C_p&= C_V + R\\quad {\\rm [J/K\\cdot mol]}\n",
        "\\end{align}"
      ]
    },
    {
      "cell_type": "markdown",
      "metadata": {
        "id": "c8DT7xBBmhkQ"
      },
      "source": [
        "### マイヤーの関係式"
      ]
    },
    {
      "cell_type": "markdown",
      "metadata": {
        "id": "SgcIbrW-mnzE"
      },
      "source": [
        "\\begin{align}\n",
        "C_p - C_V &= R\n",
        "\\end{align}"
      ]
    },
    {
      "cell_type": "markdown",
      "metadata": {
        "id": "hmNTS2V6mtV9"
      },
      "source": [
        "> Q. 教科書 p177 の 問2 に取り組んでください"
      ]
    },
    {
      "cell_type": "markdown",
      "metadata": {
        "id": "zhSfBpydx_Pi"
      },
      "source": [
        "#### 多原子分子のモル熱容量"
      ]
    },
    {
      "cell_type": "markdown",
      "metadata": {
        "id": "yl40sPi-yUVy"
      },
      "source": [
        "多原子分子の自由度 $f$ が気体の内部エネルギー $U$ に影響するので\n",
        "\\begin{align}\n",
        "\\Delta U = f \\times \\dfrac{1}{2} k_{\\rm B} \\Delta T\n",
        "\\end{align}\n"
      ]
    },
    {
      "cell_type": "markdown",
      "metadata": {
        "id": "I9gLnVxmzGDI"
      },
      "source": [
        "$\\require{cancel}$\n",
        "1. 単原子原子分子の定積モル熱容量\n",
        "  - 重心の自由度: $f=3$\n",
        "なので\n",
        "\\begin{align}\n",
        "C_V &= \\left(\\dfrac{\\Delta Q}{\\Delta T}\\right)_{V} \n",
        "= \\dfrac{\\Delta U}{\\Delta T}\n",
        "\\approx \\dfrac{\\cancelto{3}{f}}{2} R \n",
        "= \\dfrac{3}{2} R \\approx 12.5 {\\rm\\  [J/K\\cdot mol]}\n",
        "\\end{align}\n",
        "\n",
        "2. 2原子原子分子の定積モル熱容量\n",
        "  - 重心の自由度: $f=3$\n",
        "  - 回転軸の自由度: $f'=2$\n",
        "なので\n",
        "\\begin{align}\n",
        "C_V &= \\left(\\dfrac{\\Delta Q}{\\Delta T}\\right)_{V} \n",
        "= \\dfrac{\\Delta U}{\\Delta T}\n",
        "\\approx \\dfrac{\\cancelto{3+2}{f}}{2} R \n",
        "= \\dfrac{5}{2} R \n",
        "\\end{align}\n",
        "\n",
        "2. 3原子原子分子の定積モル熱容量\n",
        "  - 重心の自由度: $f=3$\n",
        "  - 回転軸の自由度: $f'=2+1$\n",
        "なので\n",
        "\\begin{align}\n",
        "C_V &= \\left(\\dfrac{\\Delta Q}{\\Delta T}\\right)_{V} \n",
        "= \\dfrac{\\Delta U}{\\Delta T}\n",
        "\\approx \\dfrac{\\cancelto{3+2+1}{f}}{3} R \n",
        "= \\dfrac{6}{2} R =  3 R \n",
        "\\end{align}"
      ]
    },
    {
      "cell_type": "markdown",
      "metadata": {
        "id": "qrJ8aAqYxUKB"
      },
      "source": [
        "#### 多原子分子のおけるマイヤーの法則\n",
        "\n",
        "- 理想気体として扱えば $C_p -C_V =R$ が成り立つ\n",
        "- 理想気体から外れたり、液体を考えれば $C_p \\geqq C_V$"
      ]
    },
    {
      "cell_type": "markdown",
      "metadata": {
        "id": "VNb5hFf-vEWF"
      },
      "source": [
        "### デュロン-プティの法則\n",
        "Dulong–Petit law"
      ]
    },
    {
      "cell_type": "markdown",
      "metadata": {
        "id": "nXS-bsSMvw-Z"
      },
      "source": [
        "1819yr\n",
        "\n",
        "![https://en.wikipedia.org/wiki/Pierre_Louis_Dulong](https://upload.wikimedia.org/wikipedia/commons/thumb/7/78/Pierre_Louis_Dulong.jpg/182px-Pierre_Louis_Dulong.jpg)\n",
        "![](https://upload.wikimedia.org/wikipedia/commons/7/7a/Alexis_Th%C3%A9r%C3%A8se_Petit.jpg)"
      ]
    },
    {
      "cell_type": "markdown",
      "metadata": {
        "id": "q8G2CY2ww8Cl"
      },
      "source": [
        "#### 実在物質のモル熱容量 at 25 ℃\n",
        "\n",
        "![https://en.wikipedia.org/wiki/Dulong%E2%80%93Petit_law](https://upload.wikimedia.org/wikipedia/commons/thumb/5/52/GraphHeatCapacityOfTheElementsI2s.png/784px-GraphHeatCapacityOfTheElementsI2s.png)"
      ]
    },
    {
      "cell_type": "markdown",
      "metadata": {
        "id": "MEJLar4l0rIo"
      },
      "source": [
        "#### 古典的な表現と量子論的な表現の違い"
      ]
    },
    {
      "cell_type": "markdown",
      "metadata": {
        "id": "l84PdoONxEyd"
      },
      "source": [
        "![https://ja.wikipedia.org/wiki/%E3%83%87%E3%83%A5%E3%83%AD%E3%83%B3%EF%BC%9D%E3%83%97%E3%83%86%E3%82%A3%E3%81%AE%E6%B3%95%E5%89%87](https://upload.wikimedia.org/wikipedia/commons/5/54/DebyeVSEinstein.jpg)"
      ]
    },
    {
      "cell_type": "markdown",
      "metadata": {
        "id": "pAUvXgP9u4tm"
      },
      "source": [
        "この法則を考える場合は, 理想機体では無視してきた相互作用項を取り込み,   \n",
        "平均をとることで形式的に導出できます"
      ]
    },
    {
      "cell_type": "markdown",
      "metadata": {
        "id": "icUqCL6OvKaj"
      },
      "source": [
        "一分子の力学的エネルギー $\\varepsilon$ を, 運動エネルギー$K$ と 位置エネルギー$U$ で次のように\n",
        "\\begin{align}\n",
        "\\varepsilon &= K + U.\n",
        "\\end{align}"
      ]
    },
    {
      "cell_type": "markdown",
      "metadata": {
        "id": "Z2Y3b4L7vzia"
      },
      "source": [
        "1 mol 物質では, 様々な$\\epsilon$ $N_{\\rm A}$ 個の原子分子が存在します.\n",
        "\n",
        "これらを全て数え上げれば, 1 mol の全力学的エネルギー $E$ を計算することができます. そこで全ての原子分子が混ざり合って平均化された状態を考えます.\n",
        "\\begin{align}\n",
        "E &= \\left< N_{\\rm A} \\cdot \\varepsilon\\right>=N_{\\rm A} \\left< \\varepsilon\\right>\\\\\n",
        "&= N_{\\rm A} \\left( \\left< K \\right>  +  \\left< U \\right> \\right) \\\\\n",
        "&= N_{\\rm A} \\left(\n",
        "  \\dfrac{1}{2} m \\left< v^2 \\right>  +  \\left< U \\right>\n",
        "  \\right) \\\\\n",
        "&= N_{\\rm A} \\left( \\dfrac{3}{2} k_{\\rm B} T +  \\left< U \\right> \\right) \n",
        "\\end{align}"
      ]
    }
  ]
}