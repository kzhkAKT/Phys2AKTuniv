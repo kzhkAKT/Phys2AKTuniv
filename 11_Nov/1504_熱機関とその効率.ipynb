{
  "nbformat": 4,
  "nbformat_minor": 0,
  "metadata": {
    "colab": {
      "name": "1504_熱機関とその効率.ipynb",
      "provenance": [],
      "authorship_tag": "ABX9TyNgn6pTNX9/ceREarnZk6Yc",
      "include_colab_link": true
    },
    "kernelspec": {
      "name": "python3",
      "display_name": "Python 3"
    }
  },
  "cells": [
    {
      "cell_type": "markdown",
      "metadata": {
        "id": "view-in-github",
        "colab_type": "text"
      },
      "source": [
        "<a href=\"https://colab.research.google.com/github/kzhkAKT/Phys2AKTuniv/blob/draft/11_Nov/1504_%E7%86%B1%E6%A9%9F%E9%96%A2%E3%81%A8%E3%81%9D%E3%81%AE%E5%8A%B9%E7%8E%87.ipynb\" target=\"_parent\"><img src=\"https://colab.research.google.com/assets/colab-badge.svg\" alt=\"Open In Colab\"/></a>"
      ]
    },
    {
      "cell_type": "markdown",
      "metadata": {
        "id": "XtJ2WLlngJM3"
      },
      "source": [
        "# 熱力学"
      ]
    },
    {
      "cell_type": "markdown",
      "metadata": {
        "id": "gy8uYs1VXjE9"
      },
      "source": [
        "## 熱機関とその効率"
      ]
    },
    {
      "cell_type": "markdown",
      "metadata": {
        "id": "Ggfnlng0Yywr"
      },
      "source": [
        "### 熱機関"
      ]
    },
    {
      "cell_type": "code",
      "metadata": {
        "id": "YVSeq1OIaN33",
        "cellView": "form",
        "outputId": "6afdd06f-63f2-4f55-b56e-3cc5a155a0a1",
        "colab": {
          "base_uri": "https://localhost:8080/",
          "height": 336
        }
      },
      "source": [
        "#@title (ガラス)蒸気機関\n",
        "%%html\n",
        "<iframe width=\"560\" height=\"315\" src=\"https://www.youtube-nocookie.com/embed/73txXT21aZU\" frameborder=\"0\" allow=\"accelerometer; autoplay; clipboard-write; encrypted-media; gyroscope; picture-in-picture\" allowfullscreen></iframe>"
      ],
      "execution_count": 3,
      "outputs": [
        {
          "output_type": "display_data",
          "data": {
            "text/html": [
              "<iframe width=\"560\" height=\"315\" src=\"https://www.youtube-nocookie.com/embed/73txXT21aZU\" frameborder=\"0\" allow=\"accelerometer; autoplay; clipboard-write; encrypted-media; gyroscope; picture-in-picture\" allowfullscreen></iframe>"
            ],
            "text/plain": [
              "<IPython.core.display.HTML object>"
            ]
          },
          "metadata": {
            "tags": []
          }
        }
      ]
    },
    {
      "cell_type": "code",
      "metadata": {
        "id": "J-6OINgaWPdf",
        "cellView": "form",
        "outputId": "ddf3adb2-0523-456f-c8ea-3cdebfcdcb46",
        "colab": {
          "base_uri": "https://localhost:8080/",
          "height": 342
        }
      },
      "source": [
        "#@title 循環過程(サイクル)\n",
        "%%svg\n",
        "<svg xmlns=\"http://www.w3.org/2000/svg\" xmlns:xlink=\"http://www.w3.org/1999/xlink\" version=\"1.1\" width=\"257px\" viewBox=\"-0.5 -0.5 257 321\" content=\"&lt;mxfile host=&quot;app.diagrams.net&quot; modified=&quot;2020-08-27T23:55:16.648Z&quot; agent=&quot;5.0 (Macintosh; Intel Mac OS X 10_10_5) AppleWebKit/537.36 (KHTML, like Gecko) Chrome/84.0.4147.135 Safari/537.36&quot; etag=&quot;hsGoajO9mVLQX2DRkIjP&quot; version=&quot;13.6.5&quot; type=&quot;google&quot;&gt;&lt;diagram id=&quot;IqefzBJmjiEjrmSx2Wwk&quot; name=&quot;Page-1&quot;&gt;5Vhdj9soFP01SN2HiQzYDnm0J+lspV2p7aza3aeKYOxYJcFjO02yv37BhsQ4bjMfyXxonwKHy4UL5x6uA/D1cntT0mLxp0y4AMhLtgBPAULQ88fqRyM7i+CwRbIyTwx2AG7zf7k1NOg6T3jlGNZSijovXJDJ1Yqz2sFoWcqNa5ZK4a5a0IwfAbeMimP0a57UixZFkw7+O8+zhVnZh7gdWFJrawKpFjSRmw6EZwBfl1LWbWu5veZCH549lnbe+5+M7tcv+aq+z4RvG/QpG1/dZcXdF4E++/DmA7wyXn5QsTbxAhQK5S9OpXKrzouydiC8W+udxjdclllOD4AOrd4J10rPvqqay4yUASTFtjsjzJrf2QREMZgQMAtBTEA0AbMxIKoNGyQCExWSZ3eU23l/WUQFuwctVq3nFkIduw7cQdsgLYycUFAp16uE69Pz1PBmkdf8tmiPY6PIrrBFvRSqB3XAuRDXUsiymYtTwjhjejt1Kb/zzsicBH7g7dfr3p+9DF7WfNuBzH2qk1/yutwpEzOKDbVMbtlc2xx4CkNjsuhy1GDUpEa2d3ygj2oYBj2ATegUmx5MlHvxz7LJB/EUkNmF2ARfjk0J5SQdZFPICJ+nF2ETRi9NJ/x0OuFH0+mdJk00BRH+DcwwIAjEgWlEvm28bxpYq9g9aaDCVi8XP00BWhXtc5bmW02bPidYwudkPsQJHOIJTs7DibHLCRgec4IMUIJcihL+ACV6J6ze2UI3U8G3kS4A1EnwVWKaUyZoVeXMPWwbjo9aY1OGjEcYN4Da+t86c0eB7f5jErnpTLdOb2d6/TchZWz4TTh9YzUtM16fzhWeONXM8b12Li4YuDiLlVzQOv/h1kBDt2lW+CjzJiP3dd9EHVWXOWTs+qjkumTcTOtWLSc9waDnqj2bI1cNv/aRP55ywYs+av3X6tPz1D6aR3/QuSrmXVESebbSSaT4yRV5Y60kuSqWIzOwzJNE+4hLruKn88afzoVCX09zYUEMgqlChHYfU/Y9a55Gmw4rueKDmfBLPegL2v57wGzBqbmHhO7KG0HPgw7TbHX82GSwJjJNK34RboaXlUME+3IIX4ccvlqZ29fgD9Y5+JPq65lUbvwmVe6JNflbUTmb5udQOTQOsKty6Cy5gEYYuXMuJ3vkJWTvSL5SNCxfSTgPg/AtyFfgag7yQitnD5Wv/scj8p5XviavSr6+3lO+2I6pTf0vJMym7HkkzCdnLdSMawJH/QrQG4Xk6aqmuof/eVvzw7/lePYf&lt;/diagram&gt;&lt;/mxfile&gt;\" onclick=\"(function(svg){var src=window.event.target||window.event.srcElement;while (src!=null&amp;&amp;src.nodeName.toLowerCase()!='a'){src=src.parentNode;}if(src==null){if(svg.wnd!=null&amp;&amp;!svg.wnd.closed){svg.wnd.focus();}else{var r=function(evt){if(evt.data=='ready'&amp;&amp;evt.source==svg.wnd){svg.wnd.postMessage(decodeURIComponent(svg.getAttribute('content')),'*');window.removeEventListener('message',r);}};window.addEventListener('message',r);svg.wnd=window.open('https://viewer.diagrams.net/?client=1&amp;edit=_blank');}}})(this);\" style=\"cursor:pointer;max-width:100%;max-height:321px;\"><defs/><g><rect x=\"0\" y=\"0\" width=\"160\" height=\"40\" fill=\"#f8cecc\" stroke=\"#b85450\" pointer-events=\"all\"/><g transform=\"translate(-0.5 -0.5)\"><switch><foreignObject style=\"overflow: visible; text-align: left;\" pointer-events=\"none\" width=\"100%\" height=\"100%\" requiredFeatures=\"http://www.w3.org/TR/SVG11/feature#Extensibility\"><div xmlns=\"http://www.w3.org/1999/xhtml\" style=\"display: flex; align-items: unsafe center; justify-content: unsafe center; width: 158px; height: 1px; padding-top: 20px; margin-left: 1px;\"><div style=\"box-sizing: border-box; font-size: 0; text-align: center; \"><div style=\"display: inline-block; font-size: 12px; font-family: Helvetica; color: #000000; line-height: 1.2; pointer-events: all; white-space: normal; word-wrap: normal; \"><font face=\"Georgia\" style=\"font-size: 18px\">高温熱源 <i>T</i><sub>2</sub></font></div></div></div></foreignObject><text x=\"80\" y=\"24\" fill=\"#000000\" font-family=\"Helvetica\" font-size=\"12px\" text-anchor=\"middle\">高温熱源 T2</text></switch></g><rect x=\"0\" y=\"280\" width=\"160\" height=\"40\" fill=\"#dae8fc\" stroke=\"#6c8ebf\" pointer-events=\"all\"/><g transform=\"translate(-0.5 -0.5)\"><switch><foreignObject style=\"overflow: visible; text-align: left;\" pointer-events=\"none\" width=\"100%\" height=\"100%\" requiredFeatures=\"http://www.w3.org/TR/SVG11/feature#Extensibility\"><div xmlns=\"http://www.w3.org/1999/xhtml\" style=\"display: flex; align-items: unsafe center; justify-content: unsafe center; width: 158px; height: 1px; padding-top: 300px; margin-left: 1px;\"><div style=\"box-sizing: border-box; font-size: 0; text-align: center; \"><div style=\"display: inline-block; font-size: 12px; font-family: Helvetica; color: #000000; line-height: 1.2; pointer-events: all; white-space: normal; word-wrap: normal; \"><font style=\"font-size: 18px\" face=\"Georgia\">低温熱源 <i>T</i><sub>1</sub></font></div></div></div></foreignObject><text x=\"80\" y=\"304\" fill=\"#000000\" font-family=\"Helvetica\" font-size=\"12px\" text-anchor=\"middle\">低温熱源 T1</text></switch></g><ellipse cx=\"80\" cy=\"160\" rx=\"40\" ry=\"40\" fill=\"#cdeb8b\" stroke=\"#36393d\" pointer-events=\"all\"/><g transform=\"translate(-0.5 -0.5)\"><switch><foreignObject style=\"overflow: visible; text-align: left;\" pointer-events=\"none\" width=\"100%\" height=\"100%\" requiredFeatures=\"http://www.w3.org/TR/SVG11/feature#Extensibility\"><div xmlns=\"http://www.w3.org/1999/xhtml\" style=\"display: flex; align-items: unsafe center; justify-content: unsafe center; width: 78px; height: 1px; padding-top: 160px; margin-left: 41px;\"><div style=\"box-sizing: border-box; font-size: 0; text-align: center; \"><div style=\"display: inline-block; font-size: 12px; font-family: Helvetica; color: #000000; line-height: 1.2; pointer-events: all; white-space: normal; word-wrap: normal; \"><font style=\"font-size: 13px\" face=\"Georgia\">(正)サイクル</font></div></div></div></foreignObject><text x=\"80\" y=\"164\" fill=\"#000000\" font-family=\"Helvetica\" font-size=\"12px\" text-anchor=\"middle\">(正)サイクル</text></switch></g><path d=\"M 58.5 40.63 L 100.5 40.37 L 100.85 96.38 L 111.35 96.31 L 80 119.5 L 48.35 96.71 L 58.85 96.64 Z\" fill=\"#ffcccc\" stroke=\"#36393d\" stroke-linejoin=\"round\" stroke-miterlimit=\"10\" pointer-events=\"all\"/><g transform=\"translate(-0.5 -0.5)\"><switch><foreignObject style=\"overflow: visible; text-align: left;\" pointer-events=\"none\" width=\"100%\" height=\"100%\" requiredFeatures=\"http://www.w3.org/TR/SVG11/feature#Extensibility\"><div xmlns=\"http://www.w3.org/1999/xhtml\" style=\"display: flex; align-items: unsafe center; justify-content: unsafe center; width: 1px; height: 1px; padding-top: 77px; margin-left: 79px;\"><div style=\"box-sizing: border-box; font-size: 0; text-align: center; \"><div style=\"display: inline-block; font-size: 11px; font-family: Helvetica; color: #000000; line-height: 1.2; pointer-events: all; white-space: nowrap; \"><font style=\"font-size: 18px\" face=\"Georgia\"><i>Q</i><sub>2</sub></font></div></div></div></foreignObject><text x=\"79\" y=\"80\" fill=\"#000000\" font-family=\"Helvetica\" font-size=\"11px\" text-anchor=\"middle\">Q2</text></switch></g><path d=\"M 69 200.57 L 90 200.43 L 90.35 256.5 L 100.85 256.44 L 80 279.5 L 58.85 256.7 L 69.35 256.64 Z\" fill=\"#ffcccc\" stroke=\"#36393d\" stroke-linejoin=\"round\" stroke-miterlimit=\"10\" pointer-events=\"all\"/><g transform=\"translate(-0.5 -0.5)\"><switch><foreignObject style=\"overflow: visible; text-align: left;\" pointer-events=\"none\" width=\"100%\" height=\"100%\" requiredFeatures=\"http://www.w3.org/TR/SVG11/feature#Extensibility\"><div xmlns=\"http://www.w3.org/1999/xhtml\" style=\"display: flex; align-items: unsafe center; justify-content: unsafe center; width: 1px; height: 1px; padding-top: 230px; margin-left: 81px;\"><div style=\"box-sizing: border-box; font-size: 0; text-align: center; \"><div style=\"display: inline-block; font-size: 11px; font-family: Helvetica; color: #000000; line-height: 1.2; pointer-events: all; white-space: nowrap; \"><font style=\"font-size: 18px\" face=\"Georgia\"><i>Q</i><sub>1</sub></font></div></div></div></foreignObject><text x=\"81\" y=\"233\" fill=\"#000000\" font-family=\"Helvetica\" font-size=\"11px\" text-anchor=\"middle\">Q1</text></switch></g><path d=\"M 120.43 170 L 120.57 149 L 176.64 149.35 L 176.7 138.85 L 199.5 160 L 176.44 180.85 L 176.5 170.35 Z\" fill=\"#fff2cc\" stroke=\"#d6b656\" stroke-linejoin=\"round\" stroke-miterlimit=\"10\" pointer-events=\"all\"/><g transform=\"translate(-0.5 -0.5)\"><switch><foreignObject style=\"overflow: visible; text-align: left;\" pointer-events=\"none\" width=\"100%\" height=\"100%\" requiredFeatures=\"http://www.w3.org/TR/SVG11/feature#Extensibility\"><div xmlns=\"http://www.w3.org/1999/xhtml\" style=\"display: flex; align-items: unsafe center; justify-content: unsafe center; width: 1px; height: 1px; padding-top: 161px; margin-left: 231px;\"><div style=\"box-sizing: border-box; font-size: 0; text-align: center; \"><div style=\"display: inline-block; font-size: 11px; font-family: Helvetica; color: #000000; line-height: 1.2; pointer-events: all; white-space: nowrap; \"><font style=\"font-size: 18px\" face=\"Georgia\"><i>W</i><sub>cycle</sub></font></div></div></div></foreignObject><text x=\"231\" y=\"164\" fill=\"#000000\" font-family=\"Helvetica\" font-size=\"11px\" text-anchor=\"middle\">Wcycle</text></switch></g></g><switch><g requiredFeatures=\"http://www.w3.org/TR/SVG11/feature#Extensibility\"/><a transform=\"translate(0,-5)\" xlink:href=\"https://desk.draw.io/support/solutions/articles/16000042487\" target=\"_blank\"><text text-anchor=\"middle\" font-size=\"10px\" x=\"50%\" y=\"100%\">Viewer does not support full SVG 1.1</text></a></switch></svg>"
      ],
      "execution_count": 2,
      "outputs": [
        {
          "output_type": "display_data",
          "data": {
            "text/plain": [
              "<IPython.core.display.SVG object>"
            ],
            "image/svg+xml": "<svg content=\"&lt;mxfile host=&quot;app.diagrams.net&quot; modified=&quot;2020-08-27T23:55:16.648Z&quot; agent=&quot;5.0 (Macintosh; Intel Mac OS X 10_10_5) AppleWebKit/537.36 (KHTML, like Gecko) Chrome/84.0.4147.135 Safari/537.36&quot; etag=&quot;hsGoajO9mVLQX2DRkIjP&quot; version=&quot;13.6.5&quot; type=&quot;google&quot;&gt;&lt;diagram id=&quot;IqefzBJmjiEjrmSx2Wwk&quot; name=&quot;Page-1&quot;&gt;5Vhdj9soFP01SN2HiQzYDnm0J+lspV2p7aza3aeKYOxYJcFjO02yv37BhsQ4bjMfyXxonwKHy4UL5x6uA/D1cntT0mLxp0y4AMhLtgBPAULQ88fqRyM7i+CwRbIyTwx2AG7zf7k1NOg6T3jlGNZSijovXJDJ1Yqz2sFoWcqNa5ZK4a5a0IwfAbeMimP0a57UixZFkw7+O8+zhVnZh7gdWFJrawKpFjSRmw6EZwBfl1LWbWu5veZCH549lnbe+5+M7tcv+aq+z4RvG/QpG1/dZcXdF4E++/DmA7wyXn5QsTbxAhQK5S9OpXKrzouydiC8W+udxjdclllOD4AOrd4J10rPvqqay4yUASTFtjsjzJrf2QREMZgQMAtBTEA0AbMxIKoNGyQCExWSZ3eU23l/WUQFuwctVq3nFkIduw7cQdsgLYycUFAp16uE69Pz1PBmkdf8tmiPY6PIrrBFvRSqB3XAuRDXUsiymYtTwjhjejt1Kb/zzsicBH7g7dfr3p+9DF7WfNuBzH2qk1/yutwpEzOKDbVMbtlc2xx4CkNjsuhy1GDUpEa2d3ygj2oYBj2ATegUmx5MlHvxz7LJB/EUkNmF2ARfjk0J5SQdZFPICJ+nF2ETRi9NJ/x0OuFH0+mdJk00BRH+DcwwIAjEgWlEvm28bxpYq9g9aaDCVi8XP00BWhXtc5bmW02bPidYwudkPsQJHOIJTs7DibHLCRgec4IMUIJcihL+ACV6J6ze2UI3U8G3kS4A1EnwVWKaUyZoVeXMPWwbjo9aY1OGjEcYN4Da+t86c0eB7f5jErnpTLdOb2d6/TchZWz4TTh9YzUtM16fzhWeONXM8b12Li4YuDiLlVzQOv/h1kBDt2lW+CjzJiP3dd9EHVWXOWTs+qjkumTcTOtWLSc9waDnqj2bI1cNv/aRP55ywYs+av3X6tPz1D6aR3/QuSrmXVESebbSSaT4yRV5Y60kuSqWIzOwzJNE+4hLruKn88afzoVCX09zYUEMgqlChHYfU/Y9a55Gmw4rueKDmfBLPegL2v57wGzBqbmHhO7KG0HPgw7TbHX82GSwJjJNK34RboaXlUME+3IIX4ccvlqZ29fgD9Y5+JPq65lUbvwmVe6JNflbUTmb5udQOTQOsKty6Cy5gEYYuXMuJ3vkJWTvSL5SNCxfSTgPg/AtyFfgag7yQitnD5Wv/scj8p5XviavSr6+3lO+2I6pTf0vJMym7HkkzCdnLdSMawJH/QrQG4Xk6aqmuof/eVvzw7/lePYf&lt;/diagram&gt;&lt;/mxfile&gt;\" onclick=\"(function(svg){var src=window.event.target||window.event.srcElement;while (src!=null&amp;&amp;src.nodeName.toLowerCase()!='a'){src=src.parentNode;}if(src==null){if(svg.wnd!=null&amp;&amp;!svg.wnd.closed){svg.wnd.focus();}else{var r=function(evt){if(evt.data=='ready'&amp;&amp;evt.source==svg.wnd){svg.wnd.postMessage(decodeURIComponent(svg.getAttribute('content')),'*');window.removeEventListener('message',r);}};window.addEventListener('message',r);svg.wnd=window.open('https://viewer.diagrams.net/?client=1&amp;edit=_blank');}}})(this);\" style=\"cursor:pointer;max-width:100%;max-height:321px;\" version=\"1.1\" viewBox=\"-0.5 -0.5 257 321\" width=\"257px\" xmlns=\"http://www.w3.org/2000/svg\" xmlns:xlink=\"http://www.w3.org/1999/xlink\"><defs/><g><rect fill=\"#f8cecc\" height=\"40\" pointer-events=\"all\" stroke=\"#b85450\" width=\"160\" x=\"0\" y=\"0\"/><g transform=\"translate(-0.5 -0.5)\"><switch><foreignObject height=\"100%\" pointer-events=\"none\" requiredFeatures=\"http://www.w3.org/TR/SVG11/feature#Extensibility\" style=\"overflow: visible; text-align: left;\" width=\"100%\"><div style=\"display: flex; align-items: unsafe center; justify-content: unsafe center; width: 158px; height: 1px; padding-top: 20px; margin-left: 1px;\" xmlns=\"http://www.w3.org/1999/xhtml\"><div style=\"box-sizing: border-box; font-size: 0; text-align: center; \"><div style=\"display: inline-block; font-size: 12px; font-family: Helvetica; color: #000000; line-height: 1.2; pointer-events: all; white-space: normal; word-wrap: normal; \"><font face=\"Georgia\" style=\"font-size: 18px\">高温熱源 <i>T</i><sub>2</sub></font></div></div></div></foreignObject><text fill=\"#000000\" font-family=\"Helvetica\" font-size=\"12px\" text-anchor=\"middle\" x=\"80\" y=\"24\">高温熱源 T2</text></switch></g><rect fill=\"#dae8fc\" height=\"40\" pointer-events=\"all\" stroke=\"#6c8ebf\" width=\"160\" x=\"0\" y=\"280\"/><g transform=\"translate(-0.5 -0.5)\"><switch><foreignObject height=\"100%\" pointer-events=\"none\" requiredFeatures=\"http://www.w3.org/TR/SVG11/feature#Extensibility\" style=\"overflow: visible; text-align: left;\" width=\"100%\"><div style=\"display: flex; align-items: unsafe center; justify-content: unsafe center; width: 158px; height: 1px; padding-top: 300px; margin-left: 1px;\" xmlns=\"http://www.w3.org/1999/xhtml\"><div style=\"box-sizing: border-box; font-size: 0; text-align: center; \"><div style=\"display: inline-block; font-size: 12px; font-family: Helvetica; color: #000000; line-height: 1.2; pointer-events: all; white-space: normal; word-wrap: normal; \"><font face=\"Georgia\" style=\"font-size: 18px\">低温熱源 <i>T</i><sub>1</sub></font></div></div></div></foreignObject><text fill=\"#000000\" font-family=\"Helvetica\" font-size=\"12px\" text-anchor=\"middle\" x=\"80\" y=\"304\">低温熱源 T1</text></switch></g><ellipse cx=\"80\" cy=\"160\" fill=\"#cdeb8b\" pointer-events=\"all\" rx=\"40\" ry=\"40\" stroke=\"#36393d\"/><g transform=\"translate(-0.5 -0.5)\"><switch><foreignObject height=\"100%\" pointer-events=\"none\" requiredFeatures=\"http://www.w3.org/TR/SVG11/feature#Extensibility\" style=\"overflow: visible; text-align: left;\" width=\"100%\"><div style=\"display: flex; align-items: unsafe center; justify-content: unsafe center; width: 78px; height: 1px; padding-top: 160px; margin-left: 41px;\" xmlns=\"http://www.w3.org/1999/xhtml\"><div style=\"box-sizing: border-box; font-size: 0; text-align: center; \"><div style=\"display: inline-block; font-size: 12px; font-family: Helvetica; color: #000000; line-height: 1.2; pointer-events: all; white-space: normal; word-wrap: normal; \"><font face=\"Georgia\" style=\"font-size: 13px\">(正)サイクル</font></div></div></div></foreignObject><text fill=\"#000000\" font-family=\"Helvetica\" font-size=\"12px\" text-anchor=\"middle\" x=\"80\" y=\"164\">(正)サイクル</text></switch></g><path d=\"M 58.5 40.63 L 100.5 40.37 L 100.85 96.38 L 111.35 96.31 L 80 119.5 L 48.35 96.71 L 58.85 96.64 Z\" fill=\"#ffcccc\" pointer-events=\"all\" stroke=\"#36393d\" stroke-linejoin=\"round\" stroke-miterlimit=\"10\"/><g transform=\"translate(-0.5 -0.5)\"><switch><foreignObject height=\"100%\" pointer-events=\"none\" requiredFeatures=\"http://www.w3.org/TR/SVG11/feature#Extensibility\" style=\"overflow: visible; text-align: left;\" width=\"100%\"><div style=\"display: flex; align-items: unsafe center; justify-content: unsafe center; width: 1px; height: 1px; padding-top: 77px; margin-left: 79px;\" xmlns=\"http://www.w3.org/1999/xhtml\"><div style=\"box-sizing: border-box; font-size: 0; text-align: center; \"><div style=\"display: inline-block; font-size: 11px; font-family: Helvetica; color: #000000; line-height: 1.2; pointer-events: all; white-space: nowrap; \"><font face=\"Georgia\" style=\"font-size: 18px\"><i>Q</i><sub>2</sub></font></div></div></div></foreignObject><text fill=\"#000000\" font-family=\"Helvetica\" font-size=\"11px\" text-anchor=\"middle\" x=\"79\" y=\"80\">Q2</text></switch></g><path d=\"M 69 200.57 L 90 200.43 L 90.35 256.5 L 100.85 256.44 L 80 279.5 L 58.85 256.7 L 69.35 256.64 Z\" fill=\"#ffcccc\" pointer-events=\"all\" stroke=\"#36393d\" stroke-linejoin=\"round\" stroke-miterlimit=\"10\"/><g transform=\"translate(-0.5 -0.5)\"><switch><foreignObject height=\"100%\" pointer-events=\"none\" requiredFeatures=\"http://www.w3.org/TR/SVG11/feature#Extensibility\" style=\"overflow: visible; text-align: left;\" width=\"100%\"><div style=\"display: flex; align-items: unsafe center; justify-content: unsafe center; width: 1px; height: 1px; padding-top: 230px; margin-left: 81px;\" xmlns=\"http://www.w3.org/1999/xhtml\"><div style=\"box-sizing: border-box; font-size: 0; text-align: center; \"><div style=\"display: inline-block; font-size: 11px; font-family: Helvetica; color: #000000; line-height: 1.2; pointer-events: all; white-space: nowrap; \"><font face=\"Georgia\" style=\"font-size: 18px\"><i>Q</i><sub>1</sub></font></div></div></div></foreignObject><text fill=\"#000000\" font-family=\"Helvetica\" font-size=\"11px\" text-anchor=\"middle\" x=\"81\" y=\"233\">Q1</text></switch></g><path d=\"M 120.43 170 L 120.57 149 L 176.64 149.35 L 176.7 138.85 L 199.5 160 L 176.44 180.85 L 176.5 170.35 Z\" fill=\"#fff2cc\" pointer-events=\"all\" stroke=\"#d6b656\" stroke-linejoin=\"round\" stroke-miterlimit=\"10\"/><g transform=\"translate(-0.5 -0.5)\"><switch><foreignObject height=\"100%\" pointer-events=\"none\" requiredFeatures=\"http://www.w3.org/TR/SVG11/feature#Extensibility\" style=\"overflow: visible; text-align: left;\" width=\"100%\"><div style=\"display: flex; align-items: unsafe center; justify-content: unsafe center; width: 1px; height: 1px; padding-top: 161px; margin-left: 231px;\" xmlns=\"http://www.w3.org/1999/xhtml\"><div style=\"box-sizing: border-box; font-size: 0; text-align: center; \"><div style=\"display: inline-block; font-size: 11px; font-family: Helvetica; color: #000000; line-height: 1.2; pointer-events: all; white-space: nowrap; \"><font face=\"Georgia\" style=\"font-size: 18px\"><i>W</i><sub>cycle</sub></font></div></div></div></foreignObject><text fill=\"#000000\" font-family=\"Helvetica\" font-size=\"11px\" text-anchor=\"middle\" x=\"231\" y=\"164\">Wcycle</text></switch></g></g><switch><g requiredFeatures=\"http://www.w3.org/TR/SVG11/feature#Extensibility\"/><a target=\"_blank\" transform=\"translate(0,-5)\" xlink:href=\"https://desk.draw.io/support/solutions/articles/16000042487\"><text font-size=\"10px\" text-anchor=\"middle\" x=\"50%\" y=\"100%\">Viewer does not support full SVG 1.1</text></a></switch></svg>"
          },
          "metadata": {
            "tags": []
          }
        }
      ]
    },
    {
      "cell_type": "markdown",
      "metadata": {
        "id": "8eIzTEMrREO6"
      },
      "source": [
        "### $\\eta$ の定義\n",
        "\n",
        "\n",
        "\n",
        "上の (正) サイクルを見ながら確認すると\n",
        "- $W_{\\rm cycle} = Q_2 - Q_1 $\n",
        "- $Q_2 > Q_1$ を満たさない限り, 外部に仕事が取り出せない($W_{\\rm cycle} > 0$)\n",
        "\n",
        "これらを踏まえると\n",
        "> 元の熱源から得られた熱量 $Q_2$ が, どれだけ外部への仕事として取り出されたか?\n",
        "\n",
        "という割合を熱効率 $\\eta$ として定義できる. \n",
        ">> 熱効率 $\\eta$ = (外部にした正味の仕事)/(高温熱源から吸収した熱量)\n",
        "\n",
        ">> \\begin{align*}\n",
        "\\eta &= \\dfrac{W_{\\rm cycle}}{Q_2}&\n",
        "\\end{align*}\n",
        "\n",
        "この熱効率 $\\eta$ については, (正) カルノーサイクルに従って,  \n",
        "$W_{\\rm cycle}$ を吸収した熱量 $Q_2$ と排熱した熱量 $Q_1$ で示すと\n",
        "\\begin{align*}\n",
        "\\eta &= \\dfrac{W_{\\rm cycle}}{Q_2}&\\\\\n",
        "&= \\dfrac{Q_2 - Q_1}{Q_2} = 1 - \\dfrac{Q_1}{Q_2}\n",
        "\\end{align*}\n",
        "と変形できます\n",
        "\n",
        "---\n",
        "教科書に合わせるなら\n",
        "> $Q_{\\rm H}=Q_2, Q_{\\rm L}=Q_2,$ \n",
        "\n",
        "と読み替えて下さい."
      ]
    },
    {
      "cell_type": "markdown",
      "metadata": {
        "id": "3joeMayRY1Pz"
      },
      "source": [
        "### カルノーサイクル"
      ]
    },
    {
      "cell_type": "markdown",
      "metadata": {
        "id": "Q2zsXDLrY33B"
      },
      "source": [
        "### 熱機関の効率とカルノーの原理"
      ]
    },
    {
      "cell_type": "markdown",
      "metadata": {
        "id": "Ww0hXelLZBEo"
      },
      "source": [
        "### 冷蔵庫，暖房機"
      ]
    },
    {
      "cell_type": "markdown",
      "metadata": {
        "id": "QciVtaXyZH_z"
      },
      "source": [
        "### 熱力学温度"
      ]
    },
    {
      "cell_type": "code",
      "metadata": {
        "id": "2xKLCwY0Y0eB"
      },
      "source": [
        ""
      ],
      "execution_count": null,
      "outputs": []
    }
  ]
}