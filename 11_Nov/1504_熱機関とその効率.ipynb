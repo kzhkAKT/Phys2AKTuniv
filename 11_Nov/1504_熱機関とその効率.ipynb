{
  "nbformat": 4,
  "nbformat_minor": 0,
  "metadata": {
    "colab": {
      "name": "1504_熱機関とその効率.ipynb",
      "provenance": [],
      "toc_visible": true,
      "authorship_tag": "ABX9TyMgMbrFFFnTPY6kQ3T0BO9f",
      "include_colab_link": true
    },
    "kernelspec": {
      "name": "python3",
      "display_name": "Python 3"
    }
  },
  "cells": [
    {
      "cell_type": "markdown",
      "metadata": {
        "id": "view-in-github",
        "colab_type": "text"
      },
      "source": [
        "<a href=\"https://colab.research.google.com/github/kzhkAKT/Phys2AKTuniv/blob/draft/11_Nov/1504_%E7%86%B1%E6%A9%9F%E9%96%A2%E3%81%A8%E3%81%9D%E3%81%AE%E5%8A%B9%E7%8E%87.ipynb\" target=\"_parent\"><img src=\"https://colab.research.google.com/assets/colab-badge.svg\" alt=\"Open In Colab\"/></a>"
      ]
    },
    {
      "cell_type": "markdown",
      "metadata": {
        "id": "XtJ2WLlngJM3"
      },
      "source": [
        "# 熱力学"
      ]
    },
    {
      "cell_type": "markdown",
      "metadata": {
        "id": "gy8uYs1VXjE9"
      },
      "source": [
        "## 熱機関とその効率"
      ]
    },
    {
      "cell_type": "markdown",
      "metadata": {
        "id": "Ggfnlng0Yywr"
      },
      "source": [
        "### 熱機関"
      ]
    },
    {
      "cell_type": "code",
      "metadata": {
        "id": "YVSeq1OIaN33",
        "cellView": "form",
        "outputId": "6afdd06f-63f2-4f55-b56e-3cc5a155a0a1",
        "colab": {
          "base_uri": "https://localhost:8080/",
          "height": 336
        }
      },
      "source": [
        "#@title (ガラス)蒸気機関\n",
        "%%html\n",
        "<iframe width=\"560\" height=\"315\" src=\"https://www.youtube-nocookie.com/embed/73txXT21aZU\" frameborder=\"0\" allow=\"accelerometer; autoplay; clipboard-write; encrypted-media; gyroscope; picture-in-picture\" allowfullscreen></iframe>"
      ],
      "execution_count": null,
      "outputs": [
        {
          "output_type": "display_data",
          "data": {
            "text/html": [
              "<iframe width=\"560\" height=\"315\" src=\"https://www.youtube-nocookie.com/embed/73txXT21aZU\" frameborder=\"0\" allow=\"accelerometer; autoplay; clipboard-write; encrypted-media; gyroscope; picture-in-picture\" allowfullscreen></iframe>"
            ],
            "text/plain": [
              "<IPython.core.display.HTML object>"
            ]
          },
          "metadata": {
            "tags": []
          }
        }
      ]
    },
    {
      "cell_type": "code",
      "metadata": {
        "id": "nKmtuMZmsLqA",
        "cellView": "form",
        "outputId": "2c4adc99-f610-468c-c87b-4028d9f12c1e",
        "colab": {
          "base_uri": "https://localhost:8080/",
          "height": 336
        }
      },
      "source": [
        "#@title 産業革命を支えた蒸気機関\n",
        "%%html\n",
        "<iframe width=\"560\" height=\"315\" src=\"https://www.youtube-nocookie.com/embed/FcDP_QykK3s\" frameborder=\"0\" allow=\"accelerometer; autoplay; encrypted-media; gyroscope; picture-in-picture\" allowfullscreen></iframe>"
      ],
      "execution_count": null,
      "outputs": [
        {
          "output_type": "display_data",
          "data": {
            "text/html": [
              "<iframe width=\"560\" height=\"315\" src=\"https://www.youtube-nocookie.com/embed/FcDP_QykK3s\" frameborder=\"0\" allow=\"accelerometer; autoplay; encrypted-media; gyroscope; picture-in-picture\" allowfullscreen></iframe>"
            ],
            "text/plain": [
              "<IPython.core.display.HTML object>"
            ]
          },
          "metadata": {
            "tags": []
          }
        }
      ]
    },
    {
      "cell_type": "code",
      "metadata": {
        "id": "qoRRR48CqC2G",
        "cellView": "form",
        "outputId": "e6f05ae8-7c35-4004-f880-bd18931690b0",
        "colab": {
          "base_uri": "https://localhost:8080/",
          "height": 336
        }
      },
      "source": [
        "#@title SL: steam locomotion\n",
        "%%html\n",
        "<iframe width=\"560\" height=\"315\" src=\"https://www.youtube-nocookie.com/embed/IVVf_3xpZb0\" frameborder=\"0\" allow=\"accelerometer; autoplay; encrypted-media; gyroscope; picture-in-picture\" allowfullscreen></iframe>"
      ],
      "execution_count": null,
      "outputs": [
        {
          "output_type": "display_data",
          "data": {
            "text/html": [
              "<iframe width=\"560\" height=\"315\" src=\"https://www.youtube-nocookie.com/embed/IVVf_3xpZb0\" frameborder=\"0\" allow=\"accelerometer; autoplay; encrypted-media; gyroscope; picture-in-picture\" allowfullscreen></iframe>"
            ],
            "text/plain": [
              "<IPython.core.display.HTML object>"
            ]
          },
          "metadata": {
            "tags": []
          }
        }
      ]
    },
    {
      "cell_type": "code",
      "metadata": {
        "id": "J-6OINgaWPdf",
        "cellView": "form",
        "outputId": "ddf3adb2-0523-456f-c8ea-3cdebfcdcb46",
        "colab": {
          "base_uri": "https://localhost:8080/",
          "height": 342
        }
      },
      "source": [
        "#@title 循環過程(サイクル)\n",
        "%%svg\n",
        "<svg xmlns=\"http://www.w3.org/2000/svg\" xmlns:xlink=\"http://www.w3.org/1999/xlink\" version=\"1.1\" width=\"257px\" viewBox=\"-0.5 -0.5 257 321\" content=\"&lt;mxfile host=&quot;app.diagrams.net&quot; modified=&quot;2020-08-27T23:55:16.648Z&quot; agent=&quot;5.0 (Macintosh; Intel Mac OS X 10_10_5) AppleWebKit/537.36 (KHTML, like Gecko) Chrome/84.0.4147.135 Safari/537.36&quot; etag=&quot;hsGoajO9mVLQX2DRkIjP&quot; version=&quot;13.6.5&quot; type=&quot;google&quot;&gt;&lt;diagram id=&quot;IqefzBJmjiEjrmSx2Wwk&quot; name=&quot;Page-1&quot;&gt;5Vhdj9soFP01SN2HiQzYDnm0J+lspV2p7aza3aeKYOxYJcFjO02yv37BhsQ4bjMfyXxonwKHy4UL5x6uA/D1cntT0mLxp0y4AMhLtgBPAULQ88fqRyM7i+CwRbIyTwx2AG7zf7k1NOg6T3jlGNZSijovXJDJ1Yqz2sFoWcqNa5ZK4a5a0IwfAbeMimP0a57UixZFkw7+O8+zhVnZh7gdWFJrawKpFjSRmw6EZwBfl1LWbWu5veZCH549lnbe+5+M7tcv+aq+z4RvG/QpG1/dZcXdF4E++/DmA7wyXn5QsTbxAhQK5S9OpXKrzouydiC8W+udxjdclllOD4AOrd4J10rPvqqay4yUASTFtjsjzJrf2QREMZgQMAtBTEA0AbMxIKoNGyQCExWSZ3eU23l/WUQFuwctVq3nFkIduw7cQdsgLYycUFAp16uE69Pz1PBmkdf8tmiPY6PIrrBFvRSqB3XAuRDXUsiymYtTwjhjejt1Kb/zzsicBH7g7dfr3p+9DF7WfNuBzH2qk1/yutwpEzOKDbVMbtlc2xx4CkNjsuhy1GDUpEa2d3ygj2oYBj2ATegUmx5MlHvxz7LJB/EUkNmF2ARfjk0J5SQdZFPICJ+nF2ETRi9NJ/x0OuFH0+mdJk00BRH+DcwwIAjEgWlEvm28bxpYq9g9aaDCVi8XP00BWhXtc5bmW02bPidYwudkPsQJHOIJTs7DibHLCRgec4IMUIJcihL+ACV6J6ze2UI3U8G3kS4A1EnwVWKaUyZoVeXMPWwbjo9aY1OGjEcYN4Da+t86c0eB7f5jErnpTLdOb2d6/TchZWz4TTh9YzUtM16fzhWeONXM8b12Li4YuDiLlVzQOv/h1kBDt2lW+CjzJiP3dd9EHVWXOWTs+qjkumTcTOtWLSc9waDnqj2bI1cNv/aRP55ywYs+av3X6tPz1D6aR3/QuSrmXVESebbSSaT4yRV5Y60kuSqWIzOwzJNE+4hLruKn88afzoVCX09zYUEMgqlChHYfU/Y9a55Gmw4rueKDmfBLPegL2v57wGzBqbmHhO7KG0HPgw7TbHX82GSwJjJNK34RboaXlUME+3IIX4ccvlqZ29fgD9Y5+JPq65lUbvwmVe6JNflbUTmb5udQOTQOsKty6Cy5gEYYuXMuJ3vkJWTvSL5SNCxfSTgPg/AtyFfgag7yQitnD5Wv/scj8p5XviavSr6+3lO+2I6pTf0vJMym7HkkzCdnLdSMawJH/QrQG4Xk6aqmuof/eVvzw7/lePYf&lt;/diagram&gt;&lt;/mxfile&gt;\" onclick=\"(function(svg){var src=window.event.target||window.event.srcElement;while (src!=null&amp;&amp;src.nodeName.toLowerCase()!='a'){src=src.parentNode;}if(src==null){if(svg.wnd!=null&amp;&amp;!svg.wnd.closed){svg.wnd.focus();}else{var r=function(evt){if(evt.data=='ready'&amp;&amp;evt.source==svg.wnd){svg.wnd.postMessage(decodeURIComponent(svg.getAttribute('content')),'*');window.removeEventListener('message',r);}};window.addEventListener('message',r);svg.wnd=window.open('https://viewer.diagrams.net/?client=1&amp;edit=_blank');}}})(this);\" style=\"cursor:pointer;max-width:100%;max-height:321px;\"><defs/><g><rect x=\"0\" y=\"0\" width=\"160\" height=\"40\" fill=\"#f8cecc\" stroke=\"#b85450\" pointer-events=\"all\"/><g transform=\"translate(-0.5 -0.5)\"><switch><foreignObject style=\"overflow: visible; text-align: left;\" pointer-events=\"none\" width=\"100%\" height=\"100%\" requiredFeatures=\"http://www.w3.org/TR/SVG11/feature#Extensibility\"><div xmlns=\"http://www.w3.org/1999/xhtml\" style=\"display: flex; align-items: unsafe center; justify-content: unsafe center; width: 158px; height: 1px; padding-top: 20px; margin-left: 1px;\"><div style=\"box-sizing: border-box; font-size: 0; text-align: center; \"><div style=\"display: inline-block; font-size: 12px; font-family: Helvetica; color: #000000; line-height: 1.2; pointer-events: all; white-space: normal; word-wrap: normal; \"><font face=\"Georgia\" style=\"font-size: 18px\">高温熱源 <i>T</i><sub>2</sub></font></div></div></div></foreignObject><text x=\"80\" y=\"24\" fill=\"#000000\" font-family=\"Helvetica\" font-size=\"12px\" text-anchor=\"middle\">高温熱源 T2</text></switch></g><rect x=\"0\" y=\"280\" width=\"160\" height=\"40\" fill=\"#dae8fc\" stroke=\"#6c8ebf\" pointer-events=\"all\"/><g transform=\"translate(-0.5 -0.5)\"><switch><foreignObject style=\"overflow: visible; text-align: left;\" pointer-events=\"none\" width=\"100%\" height=\"100%\" requiredFeatures=\"http://www.w3.org/TR/SVG11/feature#Extensibility\"><div xmlns=\"http://www.w3.org/1999/xhtml\" style=\"display: flex; align-items: unsafe center; justify-content: unsafe center; width: 158px; height: 1px; padding-top: 300px; margin-left: 1px;\"><div style=\"box-sizing: border-box; font-size: 0; text-align: center; \"><div style=\"display: inline-block; font-size: 12px; font-family: Helvetica; color: #000000; line-height: 1.2; pointer-events: all; white-space: normal; word-wrap: normal; \"><font style=\"font-size: 18px\" face=\"Georgia\">低温熱源 <i>T</i><sub>1</sub></font></div></div></div></foreignObject><text x=\"80\" y=\"304\" fill=\"#000000\" font-family=\"Helvetica\" font-size=\"12px\" text-anchor=\"middle\">低温熱源 T1</text></switch></g><ellipse cx=\"80\" cy=\"160\" rx=\"40\" ry=\"40\" fill=\"#cdeb8b\" stroke=\"#36393d\" pointer-events=\"all\"/><g transform=\"translate(-0.5 -0.5)\"><switch><foreignObject style=\"overflow: visible; text-align: left;\" pointer-events=\"none\" width=\"100%\" height=\"100%\" requiredFeatures=\"http://www.w3.org/TR/SVG11/feature#Extensibility\"><div xmlns=\"http://www.w3.org/1999/xhtml\" style=\"display: flex; align-items: unsafe center; justify-content: unsafe center; width: 78px; height: 1px; padding-top: 160px; margin-left: 41px;\"><div style=\"box-sizing: border-box; font-size: 0; text-align: center; \"><div style=\"display: inline-block; font-size: 12px; font-family: Helvetica; color: #000000; line-height: 1.2; pointer-events: all; white-space: normal; word-wrap: normal; \"><font style=\"font-size: 13px\" face=\"Georgia\">(正)サイクル</font></div></div></div></foreignObject><text x=\"80\" y=\"164\" fill=\"#000000\" font-family=\"Helvetica\" font-size=\"12px\" text-anchor=\"middle\">(正)サイクル</text></switch></g><path d=\"M 58.5 40.63 L 100.5 40.37 L 100.85 96.38 L 111.35 96.31 L 80 119.5 L 48.35 96.71 L 58.85 96.64 Z\" fill=\"#ffcccc\" stroke=\"#36393d\" stroke-linejoin=\"round\" stroke-miterlimit=\"10\" pointer-events=\"all\"/><g transform=\"translate(-0.5 -0.5)\"><switch><foreignObject style=\"overflow: visible; text-align: left;\" pointer-events=\"none\" width=\"100%\" height=\"100%\" requiredFeatures=\"http://www.w3.org/TR/SVG11/feature#Extensibility\"><div xmlns=\"http://www.w3.org/1999/xhtml\" style=\"display: flex; align-items: unsafe center; justify-content: unsafe center; width: 1px; height: 1px; padding-top: 77px; margin-left: 79px;\"><div style=\"box-sizing: border-box; font-size: 0; text-align: center; \"><div style=\"display: inline-block; font-size: 11px; font-family: Helvetica; color: #000000; line-height: 1.2; pointer-events: all; white-space: nowrap; \"><font style=\"font-size: 18px\" face=\"Georgia\"><i>Q</i><sub>2</sub></font></div></div></div></foreignObject><text x=\"79\" y=\"80\" fill=\"#000000\" font-family=\"Helvetica\" font-size=\"11px\" text-anchor=\"middle\">Q2</text></switch></g><path d=\"M 69 200.57 L 90 200.43 L 90.35 256.5 L 100.85 256.44 L 80 279.5 L 58.85 256.7 L 69.35 256.64 Z\" fill=\"#ffcccc\" stroke=\"#36393d\" stroke-linejoin=\"round\" stroke-miterlimit=\"10\" pointer-events=\"all\"/><g transform=\"translate(-0.5 -0.5)\"><switch><foreignObject style=\"overflow: visible; text-align: left;\" pointer-events=\"none\" width=\"100%\" height=\"100%\" requiredFeatures=\"http://www.w3.org/TR/SVG11/feature#Extensibility\"><div xmlns=\"http://www.w3.org/1999/xhtml\" style=\"display: flex; align-items: unsafe center; justify-content: unsafe center; width: 1px; height: 1px; padding-top: 230px; margin-left: 81px;\"><div style=\"box-sizing: border-box; font-size: 0; text-align: center; \"><div style=\"display: inline-block; font-size: 11px; font-family: Helvetica; color: #000000; line-height: 1.2; pointer-events: all; white-space: nowrap; \"><font style=\"font-size: 18px\" face=\"Georgia\"><i>Q</i><sub>1</sub></font></div></div></div></foreignObject><text x=\"81\" y=\"233\" fill=\"#000000\" font-family=\"Helvetica\" font-size=\"11px\" text-anchor=\"middle\">Q1</text></switch></g><path d=\"M 120.43 170 L 120.57 149 L 176.64 149.35 L 176.7 138.85 L 199.5 160 L 176.44 180.85 L 176.5 170.35 Z\" fill=\"#fff2cc\" stroke=\"#d6b656\" stroke-linejoin=\"round\" stroke-miterlimit=\"10\" pointer-events=\"all\"/><g transform=\"translate(-0.5 -0.5)\"><switch><foreignObject style=\"overflow: visible; text-align: left;\" pointer-events=\"none\" width=\"100%\" height=\"100%\" requiredFeatures=\"http://www.w3.org/TR/SVG11/feature#Extensibility\"><div xmlns=\"http://www.w3.org/1999/xhtml\" style=\"display: flex; align-items: unsafe center; justify-content: unsafe center; width: 1px; height: 1px; padding-top: 161px; margin-left: 231px;\"><div style=\"box-sizing: border-box; font-size: 0; text-align: center; \"><div style=\"display: inline-block; font-size: 11px; font-family: Helvetica; color: #000000; line-height: 1.2; pointer-events: all; white-space: nowrap; \"><font style=\"font-size: 18px\" face=\"Georgia\"><i>W</i><sub>cycle</sub></font></div></div></div></foreignObject><text x=\"231\" y=\"164\" fill=\"#000000\" font-family=\"Helvetica\" font-size=\"11px\" text-anchor=\"middle\">Wcycle</text></switch></g></g><switch><g requiredFeatures=\"http://www.w3.org/TR/SVG11/feature#Extensibility\"/><a transform=\"translate(0,-5)\" xlink:href=\"https://desk.draw.io/support/solutions/articles/16000042487\" target=\"_blank\"><text text-anchor=\"middle\" font-size=\"10px\" x=\"50%\" y=\"100%\">Viewer does not support full SVG 1.1</text></a></switch></svg>"
      ],
      "execution_count": null,
      "outputs": [
        {
          "output_type": "display_data",
          "data": {
            "text/plain": [
              "<IPython.core.display.SVG object>"
            ],
            "image/svg+xml": "<svg content=\"&lt;mxfile host=&quot;app.diagrams.net&quot; modified=&quot;2020-08-27T23:55:16.648Z&quot; agent=&quot;5.0 (Macintosh; Intel Mac OS X 10_10_5) AppleWebKit/537.36 (KHTML, like Gecko) Chrome/84.0.4147.135 Safari/537.36&quot; etag=&quot;hsGoajO9mVLQX2DRkIjP&quot; version=&quot;13.6.5&quot; type=&quot;google&quot;&gt;&lt;diagram id=&quot;IqefzBJmjiEjrmSx2Wwk&quot; name=&quot;Page-1&quot;&gt;5Vhdj9soFP01SN2HiQzYDnm0J+lspV2p7aza3aeKYOxYJcFjO02yv37BhsQ4bjMfyXxonwKHy4UL5x6uA/D1cntT0mLxp0y4AMhLtgBPAULQ88fqRyM7i+CwRbIyTwx2AG7zf7k1NOg6T3jlGNZSijovXJDJ1Yqz2sFoWcqNa5ZK4a5a0IwfAbeMimP0a57UixZFkw7+O8+zhVnZh7gdWFJrawKpFjSRmw6EZwBfl1LWbWu5veZCH549lnbe+5+M7tcv+aq+z4RvG/QpG1/dZcXdF4E++/DmA7wyXn5QsTbxAhQK5S9OpXKrzouydiC8W+udxjdclllOD4AOrd4J10rPvqqay4yUASTFtjsjzJrf2QREMZgQMAtBTEA0AbMxIKoNGyQCExWSZ3eU23l/WUQFuwctVq3nFkIduw7cQdsgLYycUFAp16uE69Pz1PBmkdf8tmiPY6PIrrBFvRSqB3XAuRDXUsiymYtTwjhjejt1Kb/zzsicBH7g7dfr3p+9DF7WfNuBzH2qk1/yutwpEzOKDbVMbtlc2xx4CkNjsuhy1GDUpEa2d3ygj2oYBj2ATegUmx5MlHvxz7LJB/EUkNmF2ARfjk0J5SQdZFPICJ+nF2ETRi9NJ/x0OuFH0+mdJk00BRH+DcwwIAjEgWlEvm28bxpYq9g9aaDCVi8XP00BWhXtc5bmW02bPidYwudkPsQJHOIJTs7DibHLCRgec4IMUIJcihL+ACV6J6ze2UI3U8G3kS4A1EnwVWKaUyZoVeXMPWwbjo9aY1OGjEcYN4Da+t86c0eB7f5jErnpTLdOb2d6/TchZWz4TTh9YzUtM16fzhWeONXM8b12Li4YuDiLlVzQOv/h1kBDt2lW+CjzJiP3dd9EHVWXOWTs+qjkumTcTOtWLSc9waDnqj2bI1cNv/aRP55ywYs+av3X6tPz1D6aR3/QuSrmXVESebbSSaT4yRV5Y60kuSqWIzOwzJNE+4hLruKn88afzoVCX09zYUEMgqlChHYfU/Y9a55Gmw4rueKDmfBLPegL2v57wGzBqbmHhO7KG0HPgw7TbHX82GSwJjJNK34RboaXlUME+3IIX4ccvlqZ29fgD9Y5+JPq65lUbvwmVe6JNflbUTmb5udQOTQOsKty6Cy5gEYYuXMuJ3vkJWTvSL5SNCxfSTgPg/AtyFfgag7yQitnD5Wv/scj8p5XviavSr6+3lO+2I6pTf0vJMym7HkkzCdnLdSMawJH/QrQG4Xk6aqmuof/eVvzw7/lePYf&lt;/diagram&gt;&lt;/mxfile&gt;\" onclick=\"(function(svg){var src=window.event.target||window.event.srcElement;while (src!=null&amp;&amp;src.nodeName.toLowerCase()!='a'){src=src.parentNode;}if(src==null){if(svg.wnd!=null&amp;&amp;!svg.wnd.closed){svg.wnd.focus();}else{var r=function(evt){if(evt.data=='ready'&amp;&amp;evt.source==svg.wnd){svg.wnd.postMessage(decodeURIComponent(svg.getAttribute('content')),'*');window.removeEventListener('message',r);}};window.addEventListener('message',r);svg.wnd=window.open('https://viewer.diagrams.net/?client=1&amp;edit=_blank');}}})(this);\" style=\"cursor:pointer;max-width:100%;max-height:321px;\" version=\"1.1\" viewBox=\"-0.5 -0.5 257 321\" width=\"257px\" xmlns=\"http://www.w3.org/2000/svg\" xmlns:xlink=\"http://www.w3.org/1999/xlink\"><defs/><g><rect fill=\"#f8cecc\" height=\"40\" pointer-events=\"all\" stroke=\"#b85450\" width=\"160\" x=\"0\" y=\"0\"/><g transform=\"translate(-0.5 -0.5)\"><switch><foreignObject height=\"100%\" pointer-events=\"none\" requiredFeatures=\"http://www.w3.org/TR/SVG11/feature#Extensibility\" style=\"overflow: visible; text-align: left;\" width=\"100%\"><div style=\"display: flex; align-items: unsafe center; justify-content: unsafe center; width: 158px; height: 1px; padding-top: 20px; margin-left: 1px;\" xmlns=\"http://www.w3.org/1999/xhtml\"><div style=\"box-sizing: border-box; font-size: 0; text-align: center; \"><div style=\"display: inline-block; font-size: 12px; font-family: Helvetica; color: #000000; line-height: 1.2; pointer-events: all; white-space: normal; word-wrap: normal; \"><font face=\"Georgia\" style=\"font-size: 18px\">高温熱源 <i>T</i><sub>2</sub></font></div></div></div></foreignObject><text fill=\"#000000\" font-family=\"Helvetica\" font-size=\"12px\" text-anchor=\"middle\" x=\"80\" y=\"24\">高温熱源 T2</text></switch></g><rect fill=\"#dae8fc\" height=\"40\" pointer-events=\"all\" stroke=\"#6c8ebf\" width=\"160\" x=\"0\" y=\"280\"/><g transform=\"translate(-0.5 -0.5)\"><switch><foreignObject height=\"100%\" pointer-events=\"none\" requiredFeatures=\"http://www.w3.org/TR/SVG11/feature#Extensibility\" style=\"overflow: visible; text-align: left;\" width=\"100%\"><div style=\"display: flex; align-items: unsafe center; justify-content: unsafe center; width: 158px; height: 1px; padding-top: 300px; margin-left: 1px;\" xmlns=\"http://www.w3.org/1999/xhtml\"><div style=\"box-sizing: border-box; font-size: 0; text-align: center; \"><div style=\"display: inline-block; font-size: 12px; font-family: Helvetica; color: #000000; line-height: 1.2; pointer-events: all; white-space: normal; word-wrap: normal; \"><font face=\"Georgia\" style=\"font-size: 18px\">低温熱源 <i>T</i><sub>1</sub></font></div></div></div></foreignObject><text fill=\"#000000\" font-family=\"Helvetica\" font-size=\"12px\" text-anchor=\"middle\" x=\"80\" y=\"304\">低温熱源 T1</text></switch></g><ellipse cx=\"80\" cy=\"160\" fill=\"#cdeb8b\" pointer-events=\"all\" rx=\"40\" ry=\"40\" stroke=\"#36393d\"/><g transform=\"translate(-0.5 -0.5)\"><switch><foreignObject height=\"100%\" pointer-events=\"none\" requiredFeatures=\"http://www.w3.org/TR/SVG11/feature#Extensibility\" style=\"overflow: visible; text-align: left;\" width=\"100%\"><div style=\"display: flex; align-items: unsafe center; justify-content: unsafe center; width: 78px; height: 1px; padding-top: 160px; margin-left: 41px;\" xmlns=\"http://www.w3.org/1999/xhtml\"><div style=\"box-sizing: border-box; font-size: 0; text-align: center; \"><div style=\"display: inline-block; font-size: 12px; font-family: Helvetica; color: #000000; line-height: 1.2; pointer-events: all; white-space: normal; word-wrap: normal; \"><font face=\"Georgia\" style=\"font-size: 13px\">(正)サイクル</font></div></div></div></foreignObject><text fill=\"#000000\" font-family=\"Helvetica\" font-size=\"12px\" text-anchor=\"middle\" x=\"80\" y=\"164\">(正)サイクル</text></switch></g><path d=\"M 58.5 40.63 L 100.5 40.37 L 100.85 96.38 L 111.35 96.31 L 80 119.5 L 48.35 96.71 L 58.85 96.64 Z\" fill=\"#ffcccc\" pointer-events=\"all\" stroke=\"#36393d\" stroke-linejoin=\"round\" stroke-miterlimit=\"10\"/><g transform=\"translate(-0.5 -0.5)\"><switch><foreignObject height=\"100%\" pointer-events=\"none\" requiredFeatures=\"http://www.w3.org/TR/SVG11/feature#Extensibility\" style=\"overflow: visible; text-align: left;\" width=\"100%\"><div style=\"display: flex; align-items: unsafe center; justify-content: unsafe center; width: 1px; height: 1px; padding-top: 77px; margin-left: 79px;\" xmlns=\"http://www.w3.org/1999/xhtml\"><div style=\"box-sizing: border-box; font-size: 0; text-align: center; \"><div style=\"display: inline-block; font-size: 11px; font-family: Helvetica; color: #000000; line-height: 1.2; pointer-events: all; white-space: nowrap; \"><font face=\"Georgia\" style=\"font-size: 18px\"><i>Q</i><sub>2</sub></font></div></div></div></foreignObject><text fill=\"#000000\" font-family=\"Helvetica\" font-size=\"11px\" text-anchor=\"middle\" x=\"79\" y=\"80\">Q2</text></switch></g><path d=\"M 69 200.57 L 90 200.43 L 90.35 256.5 L 100.85 256.44 L 80 279.5 L 58.85 256.7 L 69.35 256.64 Z\" fill=\"#ffcccc\" pointer-events=\"all\" stroke=\"#36393d\" stroke-linejoin=\"round\" stroke-miterlimit=\"10\"/><g transform=\"translate(-0.5 -0.5)\"><switch><foreignObject height=\"100%\" pointer-events=\"none\" requiredFeatures=\"http://www.w3.org/TR/SVG11/feature#Extensibility\" style=\"overflow: visible; text-align: left;\" width=\"100%\"><div style=\"display: flex; align-items: unsafe center; justify-content: unsafe center; width: 1px; height: 1px; padding-top: 230px; margin-left: 81px;\" xmlns=\"http://www.w3.org/1999/xhtml\"><div style=\"box-sizing: border-box; font-size: 0; text-align: center; \"><div style=\"display: inline-block; font-size: 11px; font-family: Helvetica; color: #000000; line-height: 1.2; pointer-events: all; white-space: nowrap; \"><font face=\"Georgia\" style=\"font-size: 18px\"><i>Q</i><sub>1</sub></font></div></div></div></foreignObject><text fill=\"#000000\" font-family=\"Helvetica\" font-size=\"11px\" text-anchor=\"middle\" x=\"81\" y=\"233\">Q1</text></switch></g><path d=\"M 120.43 170 L 120.57 149 L 176.64 149.35 L 176.7 138.85 L 199.5 160 L 176.44 180.85 L 176.5 170.35 Z\" fill=\"#fff2cc\" pointer-events=\"all\" stroke=\"#d6b656\" stroke-linejoin=\"round\" stroke-miterlimit=\"10\"/><g transform=\"translate(-0.5 -0.5)\"><switch><foreignObject height=\"100%\" pointer-events=\"none\" requiredFeatures=\"http://www.w3.org/TR/SVG11/feature#Extensibility\" style=\"overflow: visible; text-align: left;\" width=\"100%\"><div style=\"display: flex; align-items: unsafe center; justify-content: unsafe center; width: 1px; height: 1px; padding-top: 161px; margin-left: 231px;\" xmlns=\"http://www.w3.org/1999/xhtml\"><div style=\"box-sizing: border-box; font-size: 0; text-align: center; \"><div style=\"display: inline-block; font-size: 11px; font-family: Helvetica; color: #000000; line-height: 1.2; pointer-events: all; white-space: nowrap; \"><font face=\"Georgia\" style=\"font-size: 18px\"><i>W</i><sub>cycle</sub></font></div></div></div></foreignObject><text fill=\"#000000\" font-family=\"Helvetica\" font-size=\"11px\" text-anchor=\"middle\" x=\"231\" y=\"164\">Wcycle</text></switch></g></g><switch><g requiredFeatures=\"http://www.w3.org/TR/SVG11/feature#Extensibility\"/><a target=\"_blank\" transform=\"translate(0,-5)\" xlink:href=\"https://desk.draw.io/support/solutions/articles/16000042487\"><text font-size=\"10px\" text-anchor=\"middle\" x=\"50%\" y=\"100%\">Viewer does not support full SVG 1.1</text></a></switch></svg>"
          },
          "metadata": {
            "tags": []
          }
        }
      ]
    },
    {
      "cell_type": "markdown",
      "metadata": {
        "id": "8eIzTEMrREO6"
      },
      "source": [
        "### $\\eta$ の定義\n",
        "\n",
        "\n",
        "\n",
        "上の (正) サイクルを見ながら確認すると\n",
        "- $W_{\\rm cycle} = Q_2 - Q_1 $\n",
        "- $Q_2 > Q_1$ を満たさない限り, 外部に仕事が取り出せない($W_{\\rm cycle} > 0$)\n",
        "\n",
        "これらを踏まえると\n",
        "> 元の熱源から得られた熱量 $Q_2$ が, どれだけ外部への仕事として取り出されたか?\n",
        "\n",
        "という割合を熱効率 $\\eta$ として定義できる. \n",
        ">> 熱効率 $\\eta$ = (外部にした正味の仕事)/(高温熱源から吸収した熱量)\n",
        "\n",
        ">> \\begin{align*}\n",
        "\\eta &= \\dfrac{W_{\\rm cycle}}{Q_2}&\n",
        "\\end{align*}\n",
        "\n",
        "この熱効率 $\\eta$ については, (正) カルノーサイクルに従って,  \n",
        "$W_{\\rm cycle}$ を吸収した熱量 $Q_2$ と排熱した熱量 $Q_1$ で示すと\n",
        "\\begin{align*}\n",
        "\\eta &= \\dfrac{W_{\\rm cycle}}{Q_2}&\\\\\n",
        "&= \\dfrac{Q_2 - Q_1}{Q_2} = 1 - \\dfrac{Q_1}{Q_2}\n",
        "\\end{align*}\n",
        "と変形できます\n",
        "\n",
        "---\n",
        "教科書に合わせるなら\n",
        "> $Q_{\\rm H}=Q_2, Q_{\\rm L}=Q_2,$ \n",
        "\n",
        "と読み替えて下さい."
      ]
    },
    {
      "cell_type": "markdown",
      "metadata": {
        "id": "3joeMayRY1Pz"
      },
      "source": [
        "### カルノーサイクル"
      ]
    },
    {
      "cell_type": "markdown",
      "metadata": {
        "id": "QYOMXVJVR2pv"
      },
      "source": [
        "![https://en.wikipedia.org/wiki/Nicolas_L%C3%A9onard_Sadi_Carnot](https://upload.wikimedia.org/wikipedia/commons/thumb/8/80/Sadi_Carnot.jpeg/357px-Sadi_Carnot.jpeg)\n",
        "\n",
        "Nicolas Léonard Sadi Carnot: https://en.wikipedia.org/wiki/Nicolas_L%C3%A9onard_Sadi_Carnot"
      ]
    },
    {
      "cell_type": "markdown",
      "metadata": {
        "id": "lF5MSdlSajTt"
      },
      "source": [
        "### カルノーサイクルの構成\n",
        "\n",
        "1. 高温(High)と低温(Low)の等温変化\n",
        "  - $\\color{#FF0000}{T_{\\rm H}} > \\color{#0000FF}T_{\\rm L}$\n",
        "    - $\\color{#FF0000}{\\Delta T_{\\rm H}}=0$\n",
        "    - $\\color{#0000FF}{\\Delta T_{\\rm L}}=0$\n",
        "    \n",
        "2. それを往復する断熱変化\n",
        "  - $p_{\\rm A}V_{\\rm A}^\\gamma < \\color{green}{p_{\\rm C}V_{\\rm C}^\\gamma}$\n",
        "    - $p_{\\rm D}V_{\\rm D}^\\gamma = p_{\\rm A}V_{\\rm A}^\\gamma$  \n",
        "    - $\\color{green}{p_{\\rm B}V_{\\rm B}^\\gamma = p_{\\rm C}V_{\\rm C}^\\gamma}$"
      ]
    },
    {
      "cell_type": "code",
      "metadata": {
        "id": "Di_63ShGRY7U",
        "cellView": "form",
        "outputId": "7ed2dc90-f2e6-4f64-a1ae-d7016d5438ad",
        "colab": {
          "base_uri": "https://localhost:8080/",
          "height": 336
        }
      },
      "source": [
        "#@title カルノーサイクルの動画(その1)\n",
        "%%html\n",
        "<iframe width=\"560\" height=\"315\" src=\"https://www.youtube-nocookie.com/embed/s3N_QJVucF8\" frameborder=\"0\" allow=\"accelerometer; autoplay; encrypted-media; gyroscope; picture-in-picture\" allowfullscreen></iframe>"
      ],
      "execution_count": null,
      "outputs": [
        {
          "output_type": "display_data",
          "data": {
            "text/html": [
              "<iframe width=\"560\" height=\"315\" src=\"https://www.youtube-nocookie.com/embed/s3N_QJVucF8\" frameborder=\"0\" allow=\"accelerometer; autoplay; encrypted-media; gyroscope; picture-in-picture\" allowfullscreen></iframe>"
            ],
            "text/plain": [
              "<IPython.core.display.HTML object>"
            ]
          },
          "metadata": {
            "tags": []
          }
        }
      ]
    },
    {
      "cell_type": "markdown",
      "metadata": {
        "id": "8YbhXP_Se9Nu"
      },
      "source": [
        "#### 4つの過程\n",
        "\n",
        "ピストンに閉じ込めた気体は $n{\\rm \\ mol}$ とする. (教科書では$n=1$)\n",
        "\n",
        "\n",
        "<!--\n",
        "<img src=\"https://upload.wikimedia.org/wikipedia/commons/0/0d/Carnot-cycle.jpg\" data-canonical-src=\"https://pt.wikipedia.org/wiki/Ciclo_de_Carnot\" width=\"400\" /\n",
        "![https://ru.wikipedia.org/wiki/%D0%A6%D0%B8%D0%BA%D0%BB_%D0%9A%D0%B0%D1%80%D0%BD%D0%BE](https://upload.wikimedia.org/wikipedia/commons/c/c4/%D0%A6%D0%B8%D0%BA%D0%BB_%D0%9A%D0%B0%D1%80%D0%BD%D0%BE_%D0%BD%D0%B0_%D1%82%D0%B5%D1%80%D0%BC%D0%BE%D0%B4%D0%B8%D0%BD%D0%B0%D0%BC%D0%B8%D1%87%D0%B5%D1%81%D0%BA%D0%BE%D0%B9_%D0%BF%D0%BE%D0%B2%D0%B5%D1%80%D1%85%D0%BD%D0%BE%D1%81%D1%82%D0%B8_%D0%B8%D0%B4%D0%B5%D0%B0%D0%BB%D1%8C%D0%BD%D0%BE%D0%B3%D0%BE_%D0%B3%D0%B0%D0%B7%D0%B0.png)-->\n",
        "\n",
        "- 系は,  **摩擦の影響なく** なめらかに動くピストン\n",
        "  - 閉じ込められた気体は、(単原子)理想気体\n",
        "- 正サイクル:: A $\\to$ B $\\to$ C $\\to$ D ($\\to$ A)\n",
        "  - 熱力学第一法則を利用\n",
        "- 系(ABCDで囲まれた領域)に対して, \n",
        "    - 時計回りを 正\n",
        "\n"
      ]
    },
    {
      "cell_type": "code",
      "metadata": {
        "id": "JznYSq9xuB4_",
        "cellView": "form",
        "outputId": "858ff154-5e84-4f0b-c0e7-6a32f5adebbd",
        "colab": {
          "base_uri": "https://localhost:8080/",
          "height": 527
        }
      },
      "source": [
        "#@title 簡略化されたカルノーサイクル\n",
        "%%svg\n",
        "<svg xmlns=\"http://www.w3.org/2000/svg\" xmlns:xlink=\"http://www.w3.org/1999/xlink\" version=\"1.1\" width=\"406px\" viewBox=\"-0.5 -0.5 406 506\" content=\"&lt;mxfile host=&quot;app.diagrams.net&quot; modified=&quot;2020-08-06T07:44:37.423Z&quot; agent=&quot;5.0 (Macintosh; Intel Mac OS X 10_10_5) AppleWebKit/537.36 (KHTML, like Gecko) Chrome/84.0.4147.105 Safari/537.36&quot; etag=&quot;vrub5moJ3pTAYwGPeD6d&quot; version=&quot;13.4.9&quot; type=&quot;google&quot;&gt;&lt;diagram id=&quot;DU0nAm4edodP-iCXRGtb&quot; name=&quot;Page-1&quot;&gt;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&lt;/diagram&gt;&lt;/mxfile&gt;\" onclick=\"(function(svg){var src=window.event.target||window.event.srcElement;while (src!=null&amp;&amp;src.nodeName.toLowerCase()!='a'){src=src.parentNode;}if(src==null){if(svg.wnd!=null&amp;&amp;!svg.wnd.closed){svg.wnd.focus();}else{var r=function(evt){if(evt.data=='ready'&amp;&amp;evt.source==svg.wnd){svg.wnd.postMessage(decodeURIComponent(svg.getAttribute('content')),'*');window.removeEventListener('message',r);}};window.addEventListener('message',r);svg.wnd=window.open('https://viewer.diagrams.net/?client=1&amp;edit=_blank');}}})(this);\" style=\"cursor:pointer;max-width:100%;max-height:506px;\"><defs/><g><path d=\"M 7 457 L 390.63 457\" fill=\"none\" stroke=\"#000000\" stroke-miterlimit=\"10\" pointer-events=\"stroke\"/><path d=\"M 395.88 457 L 388.88 460.5 L 390.63 457 L 388.88 453.5 Z\" fill=\"#000000\" stroke=\"#000000\" stroke-miterlimit=\"10\" pointer-events=\"all\"/><g transform=\"translate(-0.5 -0.5)\"><switch><foreignObject style=\"overflow: visible; text-align: left;\" pointer-events=\"none\" width=\"100%\" height=\"100%\" requiredFeatures=\"http://www.w3.org/TR/SVG11/feature#Extensibility\"><div xmlns=\"http://www.w3.org/1999/xhtml\" style=\"display: flex; align-items: unsafe center; justify-content: unsafe center; width: 1px; height: 1px; padding-top: 468px; margin-left: 378px;\"><div style=\"box-sizing: border-box; font-size: 0; text-align: center; \"><div style=\"display: inline-block; font-size: 18px; font-family: Georgia; color: #000000; line-height: 1.2; pointer-events: all; background-color: #ffffff; white-space: nowrap; \"><i>V</i></div></div></div></foreignObject><text x=\"378\" y=\"473\" fill=\"#000000\" font-family=\"Georgia\" font-size=\"18px\" text-anchor=\"middle\">V</text></switch></g><path d=\"M 47 497 L 47 13.37\" fill=\"none\" stroke=\"#000000\" stroke-miterlimit=\"10\" pointer-events=\"stroke\"/><path d=\"M 47 8.12 L 50.5 15.12 L 47 13.37 L 43.5 15.12 Z\" fill=\"#000000\" stroke=\"#000000\" stroke-miterlimit=\"10\" pointer-events=\"all\"/><g transform=\"translate(-0.5 -0.5)\"><switch><foreignObject style=\"overflow: visible; text-align: left;\" pointer-events=\"none\" width=\"100%\" height=\"100%\" requiredFeatures=\"http://www.w3.org/TR/SVG11/feature#Extensibility\"><div xmlns=\"http://www.w3.org/1999/xhtml\" style=\"display: flex; align-items: unsafe center; justify-content: unsafe center; width: 1px; height: 1px; padding-top: 38px; margin-left: 38px;\"><div style=\"box-sizing: border-box; font-size: 0; text-align: center; \"><div style=\"display: inline-block; font-size: 18px; font-family: Georgia; color: #000000; line-height: 1.2; pointer-events: all; font-style: italic; background-color: #ffffff; white-space: nowrap; \">P</div></div></div></foreignObject><text x=\"38\" y=\"43\" fill=\"#000000\" font-family=\"Georgia\" font-size=\"18px\" text-anchor=\"middle\" font-style=\"italic\">P</text></switch></g><path d=\"M 337 247 Q 107 247 107 57\" fill=\"none\" stroke=\"#ff0000\" stroke-width=\"2\" stroke-miterlimit=\"10\" pointer-events=\"stroke\"/><g transform=\"translate(-0.5 -0.5)\"><switch><foreignObject style=\"overflow: visible; text-align: left;\" pointer-events=\"none\" width=\"100%\" height=\"100%\" requiredFeatures=\"http://www.w3.org/TR/SVG11/feature#Extensibility\"><div xmlns=\"http://www.w3.org/1999/xhtml\" style=\"display: flex; align-items: unsafe center; justify-content: unsafe center; width: 1px; height: 1px; padding-top: 38px; margin-left: 108px;\"><div style=\"box-sizing: border-box; font-size: 0; text-align: center; \"><div style=\"display: inline-block; font-size: 11px; font-family: Helvetica; color: #000000; line-height: 1.2; pointer-events: all; background-color: #ffffff; white-space: nowrap; \"><font style=\"font-size: 24px\" color=\"#ff0000\">Δ<i>T</i><sub>2</sub>=0</font></div></div></div></foreignObject><text x=\"108\" y=\"41\" fill=\"#000000\" font-family=\"Helvetica\" font-size=\"11px\" text-anchor=\"middle\">ΔT2=0</text></switch></g><path d=\"M 377 377 Q 67 377 67 147\" fill=\"none\" stroke=\"#0000ff\" stroke-width=\"2\" stroke-miterlimit=\"10\" pointer-events=\"stroke\"/><g transform=\"translate(-0.5 -0.5)\"><switch><foreignObject style=\"overflow: visible; text-align: left;\" pointer-events=\"none\" width=\"100%\" height=\"100%\" requiredFeatures=\"http://www.w3.org/TR/SVG11/feature#Extensibility\"><div xmlns=\"http://www.w3.org/1999/xhtml\" style=\"display: flex; align-items: unsafe center; justify-content: unsafe center; width: 1px; height: 1px; padding-top: 328px; margin-left: 88px;\"><div style=\"box-sizing: border-box; font-size: 0; text-align: center; \"><div style=\"display: inline-block; font-size: 11px; font-family: Helvetica; color: #000000; line-height: 1.2; pointer-events: all; white-space: nowrap; \"><font style=\"font-size: 24px\" color=\"#0000ff\">Δ<i>T</i><sub>1</sub>=0</font></div></div></div></foreignObject><text x=\"88\" y=\"331\" fill=\"#000000\" font-family=\"Helvetica\" font-size=\"11px\" text-anchor=\"middle\">ΔT1=0</text></switch></g><path d=\"M 197 387 Q 127 387 127 117\" fill=\"none\" stroke=\"#000000\" stroke-width=\"2\" stroke-miterlimit=\"10\" stroke-dasharray=\"6 6\" pointer-events=\"stroke\"/><g transform=\"translate(-0.5 -0.5)\"><switch><foreignObject style=\"overflow: visible; text-align: left;\" pointer-events=\"none\" width=\"100%\" height=\"100%\" requiredFeatures=\"http://www.w3.org/TR/SVG11/feature#Extensibility\"><div xmlns=\"http://www.w3.org/1999/xhtml\" style=\"display: flex; align-items: unsafe center; justify-content: unsafe center; width: 1px; height: 1px; padding-top: 158px; margin-left: 98px;\"><div style=\"box-sizing: border-box; font-size: 0; text-align: center; \"><div style=\"display: inline-block; font-size: 11px; font-family: Helvetica; color: #000000; line-height: 1.2; pointer-events: all; background-color: #ffffff; white-space: nowrap; \"><font style=\"font-size: 18px\">Δ<i>Q</i>=0</font></div></div></div></foreignObject><text x=\"98\" y=\"161\" fill=\"#000000\" font-family=\"Helvetica\" font-size=\"11px\" text-anchor=\"middle\">ΔQ=0</text></switch></g><path d=\"M 367 417 Q 287 417 287 157\" fill=\"none\" stroke=\"#4d9900\" stroke-width=\"2\" stroke-miterlimit=\"10\" stroke-dasharray=\"6 6\" pointer-events=\"stroke\"/><g transform=\"translate(-0.5 -0.5)\"><switch><foreignObject style=\"overflow: visible; text-align: left;\" pointer-events=\"none\" width=\"100%\" height=\"100%\" requiredFeatures=\"http://www.w3.org/TR/SVG11/feature#Extensibility\"><div xmlns=\"http://www.w3.org/1999/xhtml\" style=\"display: flex; align-items: unsafe center; justify-content: unsafe center; width: 1px; height: 1px; padding-top: 348px; margin-left: 348px;\"><div style=\"box-sizing: border-box; font-size: 0; text-align: center; \"><div style=\"display: inline-block; font-size: 11px; font-family: Helvetica; color: #000000; line-height: 1.2; pointer-events: all; background-color: #ffffff; white-space: nowrap; \"><font color=\"#4d9900\"><span style=\"font-size: 18px\">Δ</span><i style=\"font-size: 18px\">Q</i><span style=\"font-size: 18px\">=0</span></font></div></div></div></foreignObject><text x=\"348\" y=\"351\" fill=\"#000000\" font-family=\"Helvetica\" font-size=\"11px\" text-anchor=\"middle\">ΔQ=0</text></switch></g><path d=\"M 160.6 104.42 L 232.7 131.45 L 219.55 166.5 L 235 172.29 L 167.35 196.06 L 132.01 133.67 L 147.46 139.46 Z\" fill=\"none\" stroke=\"#ff0000\" stroke-width=\"2\" stroke-linejoin=\"round\" stroke-miterlimit=\"10\" pointer-events=\"all\"/><g transform=\"translate(-0.5 -0.5)\"><switch><foreignObject style=\"overflow: visible; text-align: left;\" pointer-events=\"none\" width=\"100%\" height=\"100%\" requiredFeatures=\"http://www.w3.org/TR/SVG11/feature#Extensibility\"><div xmlns=\"http://www.w3.org/1999/xhtml\" style=\"display: flex; align-items: unsafe center; justify-content: unsafe center; width: 1px; height: 1px; padding-top: 157px; margin-left: 182px;\"><div style=\"box-sizing: border-box; font-size: 0; text-align: center; \"><div style=\"display: inline-block; font-size: 11px; font-family: Helvetica; color: #000000; line-height: 1.2; pointer-events: all; white-space: nowrap; \"><font color=\"#ff0000\" style=\"font-size: 24px\">ΔQ<sub>2</sub></font></div></div></div></foreignObject><text x=\"182\" y=\"161\" fill=\"#000000\" font-family=\"Helvetica\" font-size=\"11px\" text-anchor=\"middle\">ΔQ2</text></switch></g><path d=\"M 263.66 374.12 L 310.02 381.85 L 303.6 420.36 L 314.45 422.16 L 277.16 436.01 L 246.39 410.82 L 257.24 412.63 Z\" fill=\"none\" stroke=\"#0000cc\" stroke-width=\"2\" stroke-linejoin=\"round\" stroke-miterlimit=\"10\" pointer-events=\"all\"/><g transform=\"translate(-0.5 -0.5)\"><switch><foreignObject style=\"overflow: visible; text-align: left;\" pointer-events=\"none\" width=\"100%\" height=\"100%\" requiredFeatures=\"http://www.w3.org/TR/SVG11/feature#Extensibility\"><div xmlns=\"http://www.w3.org/1999/xhtml\" style=\"display: flex; align-items: unsafe center; justify-content: unsafe center; width: 1px; height: 1px; padding-top: 407px; margin-left: 282px;\"><div style=\"box-sizing: border-box; font-size: 0; text-align: center; \"><div style=\"display: inline-block; font-size: 11px; font-family: Helvetica; color: #0000CC; line-height: 1.2; pointer-events: all; white-space: nowrap; \"><font style=\"font-size: 24px\">ΔQ<sub>1</sub></font></div></div></div></foreignObject><text x=\"282\" y=\"410\" fill=\"#0000CC\" font-family=\"Helvetica\" font-size=\"11px\" text-anchor=\"middle\">ΔQ1</text></switch></g><path d=\"M 296.56 300.03 L 299.43 274.19 L 359.96 280.92 L 361.18 269.98 L 386.01 296.89 L 355.87 317.69 L 357.09 306.76 Z\" fill=\"#ffff00\" stroke=\"#000000\" stroke-width=\"2\" stroke-linejoin=\"round\" stroke-miterlimit=\"10\" pointer-events=\"all\"/><g transform=\"translate(-0.5 -0.5)\"><switch><foreignObject style=\"overflow: visible; text-align: left;\" pointer-events=\"none\" width=\"100%\" height=\"100%\" requiredFeatures=\"http://www.w3.org/TR/SVG11/feature#Extensibility\"><div xmlns=\"http://www.w3.org/1999/xhtml\" style=\"display: flex; align-items: unsafe center; justify-content: unsafe center; width: 1px; height: 1px; padding-top: 290px; margin-left: 337px;\"><div style=\"box-sizing: border-box; font-size: 0; text-align: center; \"><div style=\"display: inline-block; font-size: 18px; font-family: Georgia; color: #0000CC; line-height: 1.2; pointer-events: all; white-space: nowrap; \"><span style=\"color: rgb(0 , 0 , 0) ; font-size: 14px\">Δ</span><i style=\"color: rgb(0 , 0 , 0) ; font-size: 14px\">W</i><sub style=\"color: rgb(0 , 0 , 0)\"><font style=\"font-size: 12px\">BC</font></sub></div></div></div></foreignObject><text x=\"337\" y=\"295\" fill=\"#0000CC\" font-family=\"Georgia\" font-size=\"18px\" text-anchor=\"middle\">ΔWBC</text></switch></g><path d=\"M 242.08 228.61 L 213.22 203.88 L 250.75 160.1 L 242.39 152.94 L 286.35 147.76 L 287.95 191.99 L 279.6 184.83 Z\" fill=\"#ffff00\" stroke=\"#000000\" stroke-width=\"2\" stroke-linejoin=\"round\" stroke-miterlimit=\"10\" pointer-events=\"all\"/><g transform=\"translate(-0.5 -0.5)\"><switch><foreignObject style=\"overflow: visible; text-align: left;\" pointer-events=\"none\" width=\"100%\" height=\"100%\" requiredFeatures=\"http://www.w3.org/TR/SVG11/feature#Extensibility\"><div xmlns=\"http://www.w3.org/1999/xhtml\" style=\"display: flex; align-items: unsafe center; justify-content: unsafe center; width: 1px; height: 1px; padding-top: 191px; margin-left: 246px;\"><div style=\"box-sizing: border-box; font-size: 0; text-align: center; \"><div style=\"display: inline-block; font-size: 18px; font-family: Georgia; color: #0000CC; line-height: 1.2; pointer-events: all; white-space: nowrap; \"><font color=\"#000000\" style=\"font-size: 14px\">Δ<i>W</i><sub>AB</sub></font></div></div></div></foreignObject><text x=\"246\" y=\"197\" fill=\"#0000CC\" font-family=\"Georgia\" font-size=\"18px\" text-anchor=\"middle\">ΔWAB</text></switch></g><path d=\"M 227.99 413.61 L 186.33 399.44 L 194.83 374.46 L 184.89 371.08 L 223.84 357.47 L 246.43 392 L 236.49 388.62 Z\" fill=\"#ffff00\" stroke=\"#000000\" stroke-linejoin=\"round\" stroke-miterlimit=\"10\" pointer-events=\"all\"/><g transform=\"translate(-0.5 -0.5)\"><switch><foreignObject style=\"overflow: visible; text-align: left;\" pointer-events=\"none\" width=\"100%\" height=\"100%\" requiredFeatures=\"http://www.w3.org/TR/SVG11/feature#Extensibility\"><div xmlns=\"http://www.w3.org/1999/xhtml\" style=\"display: flex; align-items: unsafe center; justify-content: unsafe center; width: 1px; height: 1px; padding-top: 387px; margin-left: 214px;\"><div style=\"box-sizing: border-box; font-size: 0; text-align: center; \"><div style=\"display: inline-block; font-size: 18px; font-family: Georgia; color: #0000CC; line-height: 1.2; pointer-events: all; white-space: nowrap; \"><span style=\"color: rgb(0 , 0 , 0) ; font-size: 14px\">Δ</span><i style=\"color: rgb(0 , 0 , 0) ; font-size: 14px\">W</i><span style=\"color: rgb(0 , 0 , 0) ; font-size: 14px\"><sub>CD</sub></span></div></div></div></foreignObject><text x=\"214\" y=\"393\" fill=\"#0000CC\" font-family=\"Georgia\" font-size=\"18px\" text-anchor=\"middle\">ΔWCD</text></switch></g><path d=\"M 72.82 208.79 L 82.11 185.58 L 106.43 195.31 L 110.33 185.56 L 126.54 216.81 L 93.25 228.27 L 97.15 218.52 Z\" fill=\"#ffff00\" stroke=\"#000000\" stroke-linejoin=\"round\" stroke-miterlimit=\"10\" pointer-events=\"all\"/><g transform=\"translate(-0.5 -0.5)\"><switch><foreignObject style=\"overflow: visible; text-align: left;\" pointer-events=\"none\" width=\"100%\" height=\"100%\" requiredFeatures=\"http://www.w3.org/TR/SVG11/feature#Extensibility\"><div xmlns=\"http://www.w3.org/1999/xhtml\" style=\"display: flex; align-items: unsafe center; justify-content: unsafe center; width: 1px; height: 1px; padding-top: 203px; margin-left: 95px;\"><div style=\"box-sizing: border-box; font-size: 0; text-align: center; \"><div style=\"display: inline-block; font-size: 18px; font-family: Georgia; color: #0000CC; line-height: 1.2; pointer-events: all; white-space: nowrap; \"><span style=\"color: rgb(0 , 0 , 0) ; font-size: 14px\">Δ</span><i style=\"color: rgb(0 , 0 , 0) ; font-size: 14px\">W</i><span style=\"color: rgb(0 , 0 , 0) ; font-size: 14px\"><sub>DA</sub></span></div></div></div></foreignObject><text x=\"95\" y=\"209\" fill=\"#0000CC\" font-family=\"Georgia\" font-size=\"18px\" text-anchor=\"middle\">ΔWDA</text></switch></g><rect x=\"127\" y=\"187\" width=\"30\" height=\"30\" fill=\"none\" stroke=\"none\" pointer-events=\"all\"/><g transform=\"translate(-0.5 -0.5)\"><switch><foreignObject style=\"overflow: visible; text-align: left;\" pointer-events=\"none\" width=\"100%\" height=\"100%\" requiredFeatures=\"http://www.w3.org/TR/SVG11/feature#Extensibility\"><div xmlns=\"http://www.w3.org/1999/xhtml\" style=\"display: flex; align-items: unsafe center; justify-content: unsafe center; width: 1px; height: 1px; padding-top: 202px; margin-left: 142px;\"><div style=\"box-sizing: border-box; font-size: 0; text-align: center; \"><div style=\"display: inline-block; font-size: 18px; font-family: Georgia; color: #0000CC; line-height: 1.2; pointer-events: all; white-space: nowrap; \"><font color=\"#000000\">A</font></div></div></div></foreignObject><text x=\"142\" y=\"207\" fill=\"#0000CC\" font-family=\"Georgia\" font-size=\"18px\" text-anchor=\"middle\">A</text></switch></g><rect x=\"257\" y=\"247\" width=\"30\" height=\"30\" fill=\"none\" stroke=\"none\" pointer-events=\"all\"/><g transform=\"translate(-0.5 -0.5)\"><switch><foreignObject style=\"overflow: visible; text-align: left;\" pointer-events=\"none\" width=\"100%\" height=\"100%\" requiredFeatures=\"http://www.w3.org/TR/SVG11/feature#Extensibility\"><div xmlns=\"http://www.w3.org/1999/xhtml\" style=\"display: flex; align-items: unsafe center; justify-content: unsafe center; width: 1px; height: 1px; padding-top: 262px; margin-left: 272px;\"><div style=\"box-sizing: border-box; font-size: 0; text-align: center; \"><div style=\"display: inline-block; font-size: 18px; font-family: Georgia; color: #0000CC; line-height: 1.2; pointer-events: all; white-space: nowrap; \"><font color=\"#000000\">B</font></div></div></div></foreignObject><text x=\"272\" y=\"267\" fill=\"#0000CC\" font-family=\"Georgia\" font-size=\"18px\" text-anchor=\"middle\">B</text></switch></g><rect x=\"267\" y=\"337\" width=\"30\" height=\"30\" fill=\"none\" stroke=\"none\" pointer-events=\"all\"/><g transform=\"translate(-0.5 -0.5)\"><switch><foreignObject style=\"overflow: visible; text-align: left;\" pointer-events=\"none\" width=\"100%\" height=\"100%\" requiredFeatures=\"http://www.w3.org/TR/SVG11/feature#Extensibility\"><div xmlns=\"http://www.w3.org/1999/xhtml\" style=\"display: flex; align-items: unsafe center; justify-content: unsafe center; width: 1px; height: 1px; padding-top: 352px; margin-left: 282px;\"><div style=\"box-sizing: border-box; font-size: 0; text-align: center; \"><div style=\"display: inline-block; font-size: 18px; font-family: Georgia; color: #0000CC; line-height: 1.2; pointer-events: all; white-space: nowrap; \"><font color=\"#000000\">C</font></div></div></div></foreignObject><text x=\"282\" y=\"357\" fill=\"#0000CC\" font-family=\"Georgia\" font-size=\"18px\" text-anchor=\"middle\">C</text></switch></g><rect x=\"147\" y=\"297\" width=\"30\" height=\"30\" fill=\"none\" stroke=\"none\" pointer-events=\"all\"/><g transform=\"translate(-0.5 -0.5)\"><switch><foreignObject style=\"overflow: visible; text-align: left;\" pointer-events=\"none\" width=\"100%\" height=\"100%\" requiredFeatures=\"http://www.w3.org/TR/SVG11/feature#Extensibility\"><div xmlns=\"http://www.w3.org/1999/xhtml\" style=\"display: flex; align-items: unsafe center; justify-content: unsafe center; width: 1px; height: 1px; padding-top: 312px; margin-left: 162px;\"><div style=\"box-sizing: border-box; font-size: 0; text-align: center; \"><div style=\"display: inline-block; font-size: 18px; font-family: Georgia; color: #0000CC; line-height: 1.2; pointer-events: all; white-space: nowrap; \"><font color=\"#000000\">D</font></div></div></div></foreignObject><text x=\"162\" y=\"317\" fill=\"#0000CC\" font-family=\"Georgia\" font-size=\"18px\" text-anchor=\"middle\">D</text></switch></g></g><switch><g requiredFeatures=\"http://www.w3.org/TR/SVG11/feature#Extensibility\"/><a transform=\"translate(0,-5)\" xlink:href=\"https://desk.draw.io/support/solutions/articles/16000042487\" target=\"_blank\"><text text-anchor=\"middle\" font-size=\"10px\" x=\"50%\" y=\"100%\">Viewer does not support full SVG 1.1</text></a></switch></svg>"
      ],
      "execution_count": null,
      "outputs": [
        {
          "output_type": "display_data",
          "data": {
            "text/plain": [
              "<IPython.core.display.SVG object>"
            ],
            "image/svg+xml": "<svg content=\"&lt;mxfile host=&quot;app.diagrams.net&quot; modified=&quot;2020-08-06T07:44:37.423Z&quot; agent=&quot;5.0 (Macintosh; Intel Mac OS X 10_10_5) AppleWebKit/537.36 (KHTML, like Gecko) Chrome/84.0.4147.105 Safari/537.36&quot; etag=&quot;vrub5moJ3pTAYwGPeD6d&quot; version=&quot;13.4.9&quot; type=&quot;google&quot;&gt;&lt;diagram id=&quot;DU0nAm4edodP-iCXRGtb&quot; name=&quot;Page-1&quot;&gt;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&lt;/diagram&gt;&lt;/mxfile&gt;\" onclick=\"(function(svg){var src=window.event.target||window.event.srcElement;while (src!=null&amp;&amp;src.nodeName.toLowerCase()!='a'){src=src.parentNode;}if(src==null){if(svg.wnd!=null&amp;&amp;!svg.wnd.closed){svg.wnd.focus();}else{var r=function(evt){if(evt.data=='ready'&amp;&amp;evt.source==svg.wnd){svg.wnd.postMessage(decodeURIComponent(svg.getAttribute('content')),'*');window.removeEventListener('message',r);}};window.addEventListener('message',r);svg.wnd=window.open('https://viewer.diagrams.net/?client=1&amp;edit=_blank');}}})(this);\" style=\"cursor:pointer;max-width:100%;max-height:506px;\" version=\"1.1\" viewBox=\"-0.5 -0.5 406 506\" width=\"406px\" xmlns=\"http://www.w3.org/2000/svg\" xmlns:xlink=\"http://www.w3.org/1999/xlink\"><defs/><g><path d=\"M 7 457 L 390.63 457\" fill=\"none\" pointer-events=\"stroke\" stroke=\"#000000\" stroke-miterlimit=\"10\"/><path d=\"M 395.88 457 L 388.88 460.5 L 390.63 457 L 388.88 453.5 Z\" fill=\"#000000\" pointer-events=\"all\" stroke=\"#000000\" stroke-miterlimit=\"10\"/><g transform=\"translate(-0.5 -0.5)\"><switch><foreignObject height=\"100%\" pointer-events=\"none\" requiredFeatures=\"http://www.w3.org/TR/SVG11/feature#Extensibility\" style=\"overflow: visible; text-align: left;\" width=\"100%\"><div style=\"display: flex; align-items: unsafe center; justify-content: unsafe center; width: 1px; height: 1px; padding-top: 468px; margin-left: 378px;\" xmlns=\"http://www.w3.org/1999/xhtml\"><div style=\"box-sizing: border-box; font-size: 0; text-align: center; \"><div style=\"display: inline-block; font-size: 18px; font-family: Georgia; color: #000000; line-height: 1.2; pointer-events: all; background-color: #ffffff; white-space: nowrap; \"><i>V</i></div></div></div></foreignObject><text fill=\"#000000\" font-family=\"Georgia\" font-size=\"18px\" text-anchor=\"middle\" x=\"378\" y=\"473\">V</text></switch></g><path d=\"M 47 497 L 47 13.37\" fill=\"none\" pointer-events=\"stroke\" stroke=\"#000000\" stroke-miterlimit=\"10\"/><path d=\"M 47 8.12 L 50.5 15.12 L 47 13.37 L 43.5 15.12 Z\" fill=\"#000000\" pointer-events=\"all\" stroke=\"#000000\" stroke-miterlimit=\"10\"/><g transform=\"translate(-0.5 -0.5)\"><switch><foreignObject height=\"100%\" pointer-events=\"none\" requiredFeatures=\"http://www.w3.org/TR/SVG11/feature#Extensibility\" style=\"overflow: visible; text-align: left;\" width=\"100%\"><div style=\"display: flex; align-items: unsafe center; justify-content: unsafe center; width: 1px; height: 1px; padding-top: 38px; margin-left: 38px;\" xmlns=\"http://www.w3.org/1999/xhtml\"><div style=\"box-sizing: border-box; font-size: 0; text-align: center; \"><div style=\"display: inline-block; font-size: 18px; font-family: Georgia; color: #000000; line-height: 1.2; pointer-events: all; font-style: italic; background-color: #ffffff; white-space: nowrap; \">P</div></div></div></foreignObject><text fill=\"#000000\" font-family=\"Georgia\" font-size=\"18px\" font-style=\"italic\" text-anchor=\"middle\" x=\"38\" y=\"43\">P</text></switch></g><path d=\"M 337 247 Q 107 247 107 57\" fill=\"none\" pointer-events=\"stroke\" stroke=\"#ff0000\" stroke-miterlimit=\"10\" stroke-width=\"2\"/><g transform=\"translate(-0.5 -0.5)\"><switch><foreignObject height=\"100%\" pointer-events=\"none\" requiredFeatures=\"http://www.w3.org/TR/SVG11/feature#Extensibility\" style=\"overflow: visible; text-align: left;\" width=\"100%\"><div style=\"display: flex; align-items: unsafe center; justify-content: unsafe center; width: 1px; height: 1px; padding-top: 38px; margin-left: 108px;\" xmlns=\"http://www.w3.org/1999/xhtml\"><div style=\"box-sizing: border-box; font-size: 0; text-align: center; \"><div style=\"display: inline-block; font-size: 11px; font-family: Helvetica; color: #000000; line-height: 1.2; pointer-events: all; background-color: #ffffff; white-space: nowrap; \"><font color=\"#ff0000\" style=\"font-size: 24px\">Δ<i>T</i><sub>2</sub>=0</font></div></div></div></foreignObject><text fill=\"#000000\" font-family=\"Helvetica\" font-size=\"11px\" text-anchor=\"middle\" x=\"108\" y=\"41\">ΔT2=0</text></switch></g><path d=\"M 377 377 Q 67 377 67 147\" fill=\"none\" pointer-events=\"stroke\" stroke=\"#0000ff\" stroke-miterlimit=\"10\" stroke-width=\"2\"/><g transform=\"translate(-0.5 -0.5)\"><switch><foreignObject height=\"100%\" pointer-events=\"none\" requiredFeatures=\"http://www.w3.org/TR/SVG11/feature#Extensibility\" style=\"overflow: visible; text-align: left;\" width=\"100%\"><div style=\"display: flex; align-items: unsafe center; justify-content: unsafe center; width: 1px; height: 1px; padding-top: 328px; margin-left: 88px;\" xmlns=\"http://www.w3.org/1999/xhtml\"><div style=\"box-sizing: border-box; font-size: 0; text-align: center; \"><div style=\"display: inline-block; font-size: 11px; font-family: Helvetica; color: #000000; line-height: 1.2; pointer-events: all; white-space: nowrap; \"><font color=\"#0000ff\" style=\"font-size: 24px\">Δ<i>T</i><sub>1</sub>=0</font></div></div></div></foreignObject><text fill=\"#000000\" font-family=\"Helvetica\" font-size=\"11px\" text-anchor=\"middle\" x=\"88\" y=\"331\">ΔT1=0</text></switch></g><path d=\"M 197 387 Q 127 387 127 117\" fill=\"none\" pointer-events=\"stroke\" stroke=\"#000000\" stroke-dasharray=\"6 6\" stroke-miterlimit=\"10\" stroke-width=\"2\"/><g transform=\"translate(-0.5 -0.5)\"><switch><foreignObject height=\"100%\" pointer-events=\"none\" requiredFeatures=\"http://www.w3.org/TR/SVG11/feature#Extensibility\" style=\"overflow: visible; text-align: left;\" width=\"100%\"><div style=\"display: flex; align-items: unsafe center; justify-content: unsafe center; width: 1px; height: 1px; padding-top: 158px; margin-left: 98px;\" xmlns=\"http://www.w3.org/1999/xhtml\"><div style=\"box-sizing: border-box; font-size: 0; text-align: center; \"><div style=\"display: inline-block; font-size: 11px; font-family: Helvetica; color: #000000; line-height: 1.2; pointer-events: all; background-color: #ffffff; white-space: nowrap; \"><font style=\"font-size: 18px\">Δ<i>Q</i>=0</font></div></div></div></foreignObject><text fill=\"#000000\" font-family=\"Helvetica\" font-size=\"11px\" text-anchor=\"middle\" x=\"98\" y=\"161\">ΔQ=0</text></switch></g><path d=\"M 367 417 Q 287 417 287 157\" fill=\"none\" pointer-events=\"stroke\" stroke=\"#4d9900\" stroke-dasharray=\"6 6\" stroke-miterlimit=\"10\" stroke-width=\"2\"/><g transform=\"translate(-0.5 -0.5)\"><switch><foreignObject height=\"100%\" pointer-events=\"none\" requiredFeatures=\"http://www.w3.org/TR/SVG11/feature#Extensibility\" style=\"overflow: visible; text-align: left;\" width=\"100%\"><div style=\"display: flex; align-items: unsafe center; justify-content: unsafe center; width: 1px; height: 1px; padding-top: 348px; margin-left: 348px;\" xmlns=\"http://www.w3.org/1999/xhtml\"><div style=\"box-sizing: border-box; font-size: 0; text-align: center; \"><div style=\"display: inline-block; font-size: 11px; font-family: Helvetica; color: #000000; line-height: 1.2; pointer-events: all; background-color: #ffffff; white-space: nowrap; \"><font color=\"#4d9900\"><span style=\"font-size: 18px\">Δ</span><i style=\"font-size: 18px\">Q</i><span style=\"font-size: 18px\">=0</span></font></div></div></div></foreignObject><text fill=\"#000000\" font-family=\"Helvetica\" font-size=\"11px\" text-anchor=\"middle\" x=\"348\" y=\"351\">ΔQ=0</text></switch></g><path d=\"M 160.6 104.42 L 232.7 131.45 L 219.55 166.5 L 235 172.29 L 167.35 196.06 L 132.01 133.67 L 147.46 139.46 Z\" fill=\"none\" pointer-events=\"all\" stroke=\"#ff0000\" stroke-linejoin=\"round\" stroke-miterlimit=\"10\" stroke-width=\"2\"/><g transform=\"translate(-0.5 -0.5)\"><switch><foreignObject height=\"100%\" pointer-events=\"none\" requiredFeatures=\"http://www.w3.org/TR/SVG11/feature#Extensibility\" style=\"overflow: visible; text-align: left;\" width=\"100%\"><div style=\"display: flex; align-items: unsafe center; justify-content: unsafe center; width: 1px; height: 1px; padding-top: 157px; margin-left: 182px;\" xmlns=\"http://www.w3.org/1999/xhtml\"><div style=\"box-sizing: border-box; font-size: 0; text-align: center; \"><div style=\"display: inline-block; font-size: 11px; font-family: Helvetica; color: #000000; line-height: 1.2; pointer-events: all; white-space: nowrap; \"><font color=\"#ff0000\" style=\"font-size: 24px\">ΔQ<sub>2</sub></font></div></div></div></foreignObject><text fill=\"#000000\" font-family=\"Helvetica\" font-size=\"11px\" text-anchor=\"middle\" x=\"182\" y=\"161\">ΔQ2</text></switch></g><path d=\"M 263.66 374.12 L 310.02 381.85 L 303.6 420.36 L 314.45 422.16 L 277.16 436.01 L 246.39 410.82 L 257.24 412.63 Z\" fill=\"none\" pointer-events=\"all\" stroke=\"#0000cc\" stroke-linejoin=\"round\" stroke-miterlimit=\"10\" stroke-width=\"2\"/><g transform=\"translate(-0.5 -0.5)\"><switch><foreignObject height=\"100%\" pointer-events=\"none\" requiredFeatures=\"http://www.w3.org/TR/SVG11/feature#Extensibility\" style=\"overflow: visible; text-align: left;\" width=\"100%\"><div style=\"display: flex; align-items: unsafe center; justify-content: unsafe center; width: 1px; height: 1px; padding-top: 407px; margin-left: 282px;\" xmlns=\"http://www.w3.org/1999/xhtml\"><div style=\"box-sizing: border-box; font-size: 0; text-align: center; \"><div style=\"display: inline-block; font-size: 11px; font-family: Helvetica; color: #0000CC; line-height: 1.2; pointer-events: all; white-space: nowrap; \"><font style=\"font-size: 24px\">ΔQ<sub>1</sub></font></div></div></div></foreignObject><text fill=\"#0000CC\" font-family=\"Helvetica\" font-size=\"11px\" text-anchor=\"middle\" x=\"282\" y=\"410\">ΔQ1</text></switch></g><path d=\"M 296.56 300.03 L 299.43 274.19 L 359.96 280.92 L 361.18 269.98 L 386.01 296.89 L 355.87 317.69 L 357.09 306.76 Z\" fill=\"#ffff00\" pointer-events=\"all\" stroke=\"#000000\" stroke-linejoin=\"round\" stroke-miterlimit=\"10\" stroke-width=\"2\"/><g transform=\"translate(-0.5 -0.5)\"><switch><foreignObject height=\"100%\" pointer-events=\"none\" requiredFeatures=\"http://www.w3.org/TR/SVG11/feature#Extensibility\" style=\"overflow: visible; text-align: left;\" width=\"100%\"><div style=\"display: flex; align-items: unsafe center; justify-content: unsafe center; width: 1px; height: 1px; padding-top: 290px; margin-left: 337px;\" xmlns=\"http://www.w3.org/1999/xhtml\"><div style=\"box-sizing: border-box; font-size: 0; text-align: center; \"><div style=\"display: inline-block; font-size: 18px; font-family: Georgia; color: #0000CC; line-height: 1.2; pointer-events: all; white-space: nowrap; \"><span style=\"color: rgb(0 , 0 , 0) ; font-size: 14px\">Δ</span><i style=\"color: rgb(0 , 0 , 0) ; font-size: 14px\">W</i><sub style=\"color: rgb(0 , 0 , 0)\"><font style=\"font-size: 12px\">BC</font></sub></div></div></div></foreignObject><text fill=\"#0000CC\" font-family=\"Georgia\" font-size=\"18px\" text-anchor=\"middle\" x=\"337\" y=\"295\">ΔWBC</text></switch></g><path d=\"M 242.08 228.61 L 213.22 203.88 L 250.75 160.1 L 242.39 152.94 L 286.35 147.76 L 287.95 191.99 L 279.6 184.83 Z\" fill=\"#ffff00\" pointer-events=\"all\" stroke=\"#000000\" stroke-linejoin=\"round\" stroke-miterlimit=\"10\" stroke-width=\"2\"/><g transform=\"translate(-0.5 -0.5)\"><switch><foreignObject height=\"100%\" pointer-events=\"none\" requiredFeatures=\"http://www.w3.org/TR/SVG11/feature#Extensibility\" style=\"overflow: visible; text-align: left;\" width=\"100%\"><div style=\"display: flex; align-items: unsafe center; justify-content: unsafe center; width: 1px; height: 1px; padding-top: 191px; margin-left: 246px;\" xmlns=\"http://www.w3.org/1999/xhtml\"><div style=\"box-sizing: border-box; font-size: 0; text-align: center; \"><div style=\"display: inline-block; font-size: 18px; font-family: Georgia; color: #0000CC; line-height: 1.2; pointer-events: all; white-space: nowrap; \"><font color=\"#000000\" style=\"font-size: 14px\">Δ<i>W</i><sub>AB</sub></font></div></div></div></foreignObject><text fill=\"#0000CC\" font-family=\"Georgia\" font-size=\"18px\" text-anchor=\"middle\" x=\"246\" y=\"197\">ΔWAB</text></switch></g><path d=\"M 227.99 413.61 L 186.33 399.44 L 194.83 374.46 L 184.89 371.08 L 223.84 357.47 L 246.43 392 L 236.49 388.62 Z\" fill=\"#ffff00\" pointer-events=\"all\" stroke=\"#000000\" stroke-linejoin=\"round\" stroke-miterlimit=\"10\"/><g transform=\"translate(-0.5 -0.5)\"><switch><foreignObject height=\"100%\" pointer-events=\"none\" requiredFeatures=\"http://www.w3.org/TR/SVG11/feature#Extensibility\" style=\"overflow: visible; text-align: left;\" width=\"100%\"><div style=\"display: flex; align-items: unsafe center; justify-content: unsafe center; width: 1px; height: 1px; padding-top: 387px; margin-left: 214px;\" xmlns=\"http://www.w3.org/1999/xhtml\"><div style=\"box-sizing: border-box; font-size: 0; text-align: center; \"><div style=\"display: inline-block; font-size: 18px; font-family: Georgia; color: #0000CC; line-height: 1.2; pointer-events: all; white-space: nowrap; \"><span style=\"color: rgb(0 , 0 , 0) ; font-size: 14px\">Δ</span><i style=\"color: rgb(0 , 0 , 0) ; font-size: 14px\">W</i><span style=\"color: rgb(0 , 0 , 0) ; font-size: 14px\"><sub>CD</sub></span></div></div></div></foreignObject><text fill=\"#0000CC\" font-family=\"Georgia\" font-size=\"18px\" text-anchor=\"middle\" x=\"214\" y=\"393\">ΔWCD</text></switch></g><path d=\"M 72.82 208.79 L 82.11 185.58 L 106.43 195.31 L 110.33 185.56 L 126.54 216.81 L 93.25 228.27 L 97.15 218.52 Z\" fill=\"#ffff00\" pointer-events=\"all\" stroke=\"#000000\" stroke-linejoin=\"round\" stroke-miterlimit=\"10\"/><g transform=\"translate(-0.5 -0.5)\"><switch><foreignObject height=\"100%\" pointer-events=\"none\" requiredFeatures=\"http://www.w3.org/TR/SVG11/feature#Extensibility\" style=\"overflow: visible; text-align: left;\" width=\"100%\"><div style=\"display: flex; align-items: unsafe center; justify-content: unsafe center; width: 1px; height: 1px; padding-top: 203px; margin-left: 95px;\" xmlns=\"http://www.w3.org/1999/xhtml\"><div style=\"box-sizing: border-box; font-size: 0; text-align: center; \"><div style=\"display: inline-block; font-size: 18px; font-family: Georgia; color: #0000CC; line-height: 1.2; pointer-events: all; white-space: nowrap; \"><span style=\"color: rgb(0 , 0 , 0) ; font-size: 14px\">Δ</span><i style=\"color: rgb(0 , 0 , 0) ; font-size: 14px\">W</i><span style=\"color: rgb(0 , 0 , 0) ; font-size: 14px\"><sub>DA</sub></span></div></div></div></foreignObject><text fill=\"#0000CC\" font-family=\"Georgia\" font-size=\"18px\" text-anchor=\"middle\" x=\"95\" y=\"209\">ΔWDA</text></switch></g><rect fill=\"none\" height=\"30\" pointer-events=\"all\" stroke=\"none\" width=\"30\" x=\"127\" y=\"187\"/><g transform=\"translate(-0.5 -0.5)\"><switch><foreignObject height=\"100%\" pointer-events=\"none\" requiredFeatures=\"http://www.w3.org/TR/SVG11/feature#Extensibility\" style=\"overflow: visible; text-align: left;\" width=\"100%\"><div style=\"display: flex; align-items: unsafe center; justify-content: unsafe center; width: 1px; height: 1px; padding-top: 202px; margin-left: 142px;\" xmlns=\"http://www.w3.org/1999/xhtml\"><div style=\"box-sizing: border-box; font-size: 0; text-align: center; \"><div style=\"display: inline-block; font-size: 18px; font-family: Georgia; color: #0000CC; line-height: 1.2; pointer-events: all; white-space: nowrap; \"><font color=\"#000000\">A</font></div></div></div></foreignObject><text fill=\"#0000CC\" font-family=\"Georgia\" font-size=\"18px\" text-anchor=\"middle\" x=\"142\" y=\"207\">A</text></switch></g><rect fill=\"none\" height=\"30\" pointer-events=\"all\" stroke=\"none\" width=\"30\" x=\"257\" y=\"247\"/><g transform=\"translate(-0.5 -0.5)\"><switch><foreignObject height=\"100%\" pointer-events=\"none\" requiredFeatures=\"http://www.w3.org/TR/SVG11/feature#Extensibility\" style=\"overflow: visible; text-align: left;\" width=\"100%\"><div style=\"display: flex; align-items: unsafe center; justify-content: unsafe center; width: 1px; height: 1px; padding-top: 262px; margin-left: 272px;\" xmlns=\"http://www.w3.org/1999/xhtml\"><div style=\"box-sizing: border-box; font-size: 0; text-align: center; \"><div style=\"display: inline-block; font-size: 18px; font-family: Georgia; color: #0000CC; line-height: 1.2; pointer-events: all; white-space: nowrap; \"><font color=\"#000000\">B</font></div></div></div></foreignObject><text fill=\"#0000CC\" font-family=\"Georgia\" font-size=\"18px\" text-anchor=\"middle\" x=\"272\" y=\"267\">B</text></switch></g><rect fill=\"none\" height=\"30\" pointer-events=\"all\" stroke=\"none\" width=\"30\" x=\"267\" y=\"337\"/><g transform=\"translate(-0.5 -0.5)\"><switch><foreignObject height=\"100%\" pointer-events=\"none\" requiredFeatures=\"http://www.w3.org/TR/SVG11/feature#Extensibility\" style=\"overflow: visible; text-align: left;\" width=\"100%\"><div style=\"display: flex; align-items: unsafe center; justify-content: unsafe center; width: 1px; height: 1px; padding-top: 352px; margin-left: 282px;\" xmlns=\"http://www.w3.org/1999/xhtml\"><div style=\"box-sizing: border-box; font-size: 0; text-align: center; \"><div style=\"display: inline-block; font-size: 18px; font-family: Georgia; color: #0000CC; line-height: 1.2; pointer-events: all; white-space: nowrap; \"><font color=\"#000000\">C</font></div></div></div></foreignObject><text fill=\"#0000CC\" font-family=\"Georgia\" font-size=\"18px\" text-anchor=\"middle\" x=\"282\" y=\"357\">C</text></switch></g><rect fill=\"none\" height=\"30\" pointer-events=\"all\" stroke=\"none\" width=\"30\" x=\"147\" y=\"297\"/><g transform=\"translate(-0.5 -0.5)\"><switch><foreignObject height=\"100%\" pointer-events=\"none\" requiredFeatures=\"http://www.w3.org/TR/SVG11/feature#Extensibility\" style=\"overflow: visible; text-align: left;\" width=\"100%\"><div style=\"display: flex; align-items: unsafe center; justify-content: unsafe center; width: 1px; height: 1px; padding-top: 312px; margin-left: 162px;\" xmlns=\"http://www.w3.org/1999/xhtml\"><div style=\"box-sizing: border-box; font-size: 0; text-align: center; \"><div style=\"display: inline-block; font-size: 18px; font-family: Georgia; color: #0000CC; line-height: 1.2; pointer-events: all; white-space: nowrap; \"><font color=\"#000000\">D</font></div></div></div></foreignObject><text fill=\"#0000CC\" font-family=\"Georgia\" font-size=\"18px\" text-anchor=\"middle\" x=\"162\" y=\"317\">D</text></switch></g></g><switch><g requiredFeatures=\"http://www.w3.org/TR/SVG11/feature#Extensibility\"/><a target=\"_blank\" transform=\"translate(0,-5)\" xlink:href=\"https://desk.draw.io/support/solutions/articles/16000042487\"><text font-size=\"10px\" text-anchor=\"middle\" x=\"50%\" y=\"100%\">Viewer does not support full SVG 1.1</text></a></switch></svg>"
          },
          "metadata": {
            "tags": []
          }
        }
      ]
    },
    {
      "cell_type": "markdown",
      "metadata": {
        "id": "b7WKEMnmvusj"
      },
      "source": [
        "$\\require{cancel}$\n",
        "##### (過程1) A $\\to$ B: 等温膨張\n",
        "\n",
        "$\\Delta T_2 =0 $ で熱力学第一法則をこの過程: A$\\to$B 適用すると\n",
        "\\begin{align*}\n",
        "\\Delta U_{\\rm AB} &= n \\left( \\dfrac{3}{2} R \\cancelto{0}{\\Delta T_2}\\right) = 0 = \\Delta Q _{\\rm AB}　 + \\left( - \\Delta W_{\\rm AB} \\right)&\\\\\n",
        "\\Delta U_{\\rm AB} & = 0 = \\Delta Q _{2}-\\Delta W_{\\rm AB}&\n",
        "\\end{align*}"
      ]
    },
    {
      "cell_type": "markdown",
      "metadata": {
        "id": "auYXcC2cmGF6"
      },
      "source": [
        "\\begin{align}\n",
        "\\Delta W_{\\rm AB} &= \\Delta Q _{2}\n",
        "= \\int_{\\rm A}^{\\rm B} P {\\rm d}V = \\int_{\\rm A}^{\\rm B} \\dfrac{nRT_{\\rm 2}}{V} {\\rm d}V \\\\[2mm]\n",
        "Q_{\\rm H} &=  W_1 = \\cancelto{1}{n} \\cdot R T_{\\rm H} \\ln \\dfrac{V_2}{V_1}\n",
        "\\end{align}"
      ]
    },
    {
      "cell_type": "markdown",
      "metadata": {
        "id": "P2AK6OuczNC4"
      },
      "source": [
        "##### (過程2) B $\\to$ C: 断熱膨張\n",
        "\n",
        "$\\Delta Q_{\\rm BC} =0 $ で熱力学第一法則をこの過程: B$\\to$C 適用すると\n",
        "\\begin{align*}\n",
        "\\Delta U_{\\rm BC} &= \\cancelto{0}{\\Delta Q_{\\rm BC}} -  \\Delta W_{\\rm BC}&\\\\[2mm]\n",
        "\\Delta U_{\\rm BC} &= - \\Delta W_{\\rm BC}&\n",
        "\\end{align*}"
      ]
    },
    {
      "cell_type": "markdown",
      "metadata": {
        "id": "YRmC3KGLnmvp"
      },
      "source": [
        "\\begin{align*}\n",
        "\\Delta W_{\\rm BC} &= - \\Delta U_{\\rm BC}= - \\left(U_{\\rm C} - U_{\\rm B}\\right)&\\\\[2mm]\n",
        "W_2 &=  U(T_{H}) - U(T_{L})\n",
        "\\end{align*}"
      ]
    },
    {
      "cell_type": "markdown",
      "metadata": {
        "id": "86Q3krxufS_v"
      },
      "source": [
        "##### (過程3) C $\\to$ D: 等温圧縮\n",
        "\n",
        "$\\Delta T_1 =0 $ で熱力学第一法則をこの過程: C$\\to$D 適用すると\n",
        "\\begin{align*}\n",
        "\\Delta U_{\\rm CD} &= n \\left( \\dfrac{3}{2} R \\cancelto{0}{\\Delta T_1}\\right) = 0 = \\left( -\\Delta Q_{\\rm CD} \\right)+ \\Delta W_{\\rm CD}&\\\\\n",
        "\\Delta U_{\\rm CD} & = 0 = -\\Delta Q _{\\rm 1} + \\Delta W_{\\rm CD}&\n",
        "\\end{align*}\n"
      ]
    },
    {
      "cell_type": "markdown",
      "metadata": {
        "id": "MYjdS2VBoLlF"
      },
      "source": [
        "\\begin{align*}\n",
        "\\Delta Q _{\\rm 1} &= \\Delta W_{\\rm CD}= {n} \\cdot R T_{\\rm L} \\ln \\dfrac{V_D}{V_C} < 0\\\\\n",
        "- Q_{\\rm L} &= W_3 = \\cancelto{1}{n} \\cdot R T_{\\rm L} \\ln \\dfrac{V_4}{V_3} \n",
        "\\end{align*}"
      ]
    },
    {
      "cell_type": "markdown",
      "metadata": {
        "id": "ZzNQLcl1g0nP"
      },
      "source": [
        "##### (過程4) D $\\to$ A: 断熱圧縮\n",
        "\n",
        "$\\Delta Q_{\\rm DA} =0 $ で熱力学第一法則をこの過程: D$\\to$A 適用すると\n",
        "\\begin{align*}\n",
        "\\Delta U_{\\rm DA} &= \\cancelto{0}{\\Delta Q_{\\rm DA}} +  \\Delta W_{\\rm DA}&\\\\\n",
        "\\Delta U_{\\rm DA} &= \\Delta W_{\\rm DA}&\n",
        "\\end{align*}"
      ]
    },
    {
      "cell_type": "markdown",
      "metadata": {
        "id": "RDqvLbI1pNF-"
      },
      "source": [
        "\\begin{align*}\n",
        "\\Delta W_{\\rm DA} &= - \\Delta U_{\\rm DA}= - \\left(U_{\\rm A} - U_{\\rm D}\\right)&\\\\[2mm]\n",
        "W_2 &=  U(T_{L}) - U(T_{H})\n",
        "\\end{align*}"
      ]
    },
    {
      "cell_type": "markdown",
      "metadata": {
        "id": "btzw1G6XpiOi"
      },
      "source": [
        "###### 断熱変化で成り立つ関係"
      ]
    },
    {
      "cell_type": "markdown",
      "metadata": {
        "id": "AZJcpzMkpmg3"
      },
      "source": [
        "\\begin{align}\n",
        "&\\begin{cases}\n",
        "T_{H}V_{2}^{\\gamma-1} &= T_{L}V_{3}^{\\gamma-1} \\quad : \\text{at B and C}\\\\[2mm]\n",
        "T_{H}V_{1}^{\\gamma-1} &= T_{L}V_{4}^{\\gamma-1} \\quad : \\text{at D and A}\n",
        "\\end{cases}\\\\[1mm]\n",
        "\\dfrac{V_{2}^{\\gamma-1}}{V_{1}^{\\gamma-1}}\n",
        "&=\\dfrac{V_{3}^{\\gamma-1}}{V_{4}^{\\gamma-1}}\\\\[2mm]\n",
        "\\dfrac{V_{2}}{V_{1}}\n",
        "&=\\dfrac{V_{3}}{V_{4}}\n",
        "\\end{align}\n"
      ]
    },
    {
      "cell_type": "markdown",
      "metadata": {
        "id": "fHyPhisArMKs"
      },
      "source": [
        "#### 1サイクルで行う仕事 $W$\n",
        "\n",
        "\\begin{align*}\n",
        "&\\begin{cases}\n",
        "W_1&= Q_{\\rm H}=R T_{\\rm H} \\ln \\dfrac{V_2}{V_1}\\\\\n",
        "W_2&= U(T_{H}) - U(T_{L})\\\\\n",
        "W_3&= -Q_{\\rm L}= RT_{\\rm L} \\ln \\dfrac{V_4}{V_3} = - RT_{\\rm L} \\ln \\dfrac{V_2}{V_1}  \\\\\n",
        "W_4&= U(T_{L}) - U(T_{H})\n",
        "\\end{cases}\\\\\n",
        "W \n",
        "&= \\sum_{1}^{4} W_i = W_1 + W_3 = Q_{\\rm H} + (- Q_{\\rm L})\\\\\n",
        "&= R\\left( T_{\\rm H}  - T_{\\rm L} \\right) \\ln \\dfrac{V_2}{V_1}\n",
        "\\end{align*}\n",
        "\n",
        "> カルノー機関が1サイクルで行う仕事は図の内部の面積に等しい"
      ]
    },
    {
      "cell_type": "code",
      "metadata": {
        "id": "8e5J906iZZCU",
        "cellView": "form",
        "outputId": "f08dec9d-108b-4563-e54c-602386799996",
        "colab": {
          "base_uri": "https://localhost:8080/",
          "height": 302
        }
      },
      "source": [
        "#@title カルノーサイクルの描画\n",
        "%matplotlib inline\n",
        "\n",
        "import matplotlib.pyplot as plt\n",
        "import numpy as np\n",
        "\n",
        "x = np.linspace(0.001, 20, 50)\n",
        "\n",
        "fig = plt.figure()\n",
        "ax = fig.add_subplot(111)\n",
        "ax.set_ylabel('P [Pa]')\n",
        "ax.set_xlabel('V [m$^3$]')\n",
        "\n",
        "plt.xlim([0,20])\n",
        "plt.ylim([0,13])\n",
        "\n",
        "#ax.set_aspect('equal', adjustable='box')\n",
        "\n",
        "plt.plot(x, 10/x, '--', color=\"b\")\n",
        "plt.plot(x, 2*10/x, '--', color=\"r\")\n",
        "\n",
        "plt.plot(x, 3*10/x**(1.67), '-', color=\"k\")\n",
        "plt.plot(x, 2*3*10/x**(1.67), '-', color=\"g\")"
      ],
      "execution_count": null,
      "outputs": [
        {
          "output_type": "execute_result",
          "data": {
            "text/plain": [
              "[<matplotlib.lines.Line2D at 0x7f022413a9e8>]"
            ]
          },
          "metadata": {
            "tags": []
          },
          "execution_count": 49
        },
        {
          "output_type": "display_data",
          "data": {
            "image/png": "[encoded data removed]",
            "text/plain": [
              "<Figure size 432x288 with 1 Axes>"
            ]
          },
          "metadata": {
            "tags": [],
            "needs_background": "light"
          }
        }
      ]
    },
    {
      "cell_type": "markdown",
      "metadata": {
        "id": "fnoscKs9tJYH"
      },
      "source": [
        "$\\require{cancel}$\n",
        "##### カルノー機関の熱効率 $\\eta$\n",
        "\n",
        "\\begin{align*}\n",
        "\\eta &= \\dfrac{Q_{\\rm H} -Q_{\\rm L}}{Q_{\\rm H}} \n",
        "= \\dfrac{\\cancel{R}\\left( T_{\\rm H}  - T_{\\rm L} \\right) \\bcancel{\\ln \\dfrac{V_2}{V_1}}}\n",
        "{\\cancel{R} T_{\\rm H} \\bcancel{\\ln \\dfrac{V_2}{V_1}}}\\\\[2mm]\n",
        "\\eta &= \\dfrac{T_{\\rm H} -T_{\\rm L}}{T_{\\rm H}} \n",
        "\\end{align*}"
      ]
    },
    {
      "cell_type": "markdown",
      "metadata": {
        "id": "Q2zsXDLrY33B"
      },
      "source": [
        "### 熱機関の効率とカルノーの原理"
      ]
    },
    {
      "cell_type": "markdown",
      "metadata": {
        "id": "jqMfko_UllgV"
      },
      "source": [
        "If $\\eta_{\\rm R'} > \\eta_{\\rm R}$, R' cycle can be used for R (reverse) cycle."
      ]
    },
    {
      "cell_type": "code",
      "metadata": {
        "id": "EbFH2lwexZ_f",
        "cellView": "form",
        "outputId": "e6687d37-7b90-487e-bec9-4a58980b7424",
        "colab": {
          "base_uri": "https://localhost:8080/",
          "height": 349
        }
      },
      "source": [
        "#@title ideal combined cycle\n",
        "%%svg\n",
        "<svg xmlns=\"http://www.w3.org/2000/svg\" xmlns:xlink=\"http://www.w3.org/1999/xlink\" version=\"1.1\" width=\"351px\" viewBox=\"-0.5 -0.5 351 328\" content=\"&lt;mxfile host=&quot;app.diagrams.net&quot; modified=&quot;2020-11-07T11:24:15.990Z&quot; agent=&quot;5.0 (Macintosh; Intel Mac OS X 10_15_7) AppleWebKit/537.36 (KHTML, like Gecko) Chrome/86.0.4240.111 Safari/537.36&quot; etag=&quot;chj52wXNKepvDigR6MZ-&quot; version=&quot;13.9.2&quot; type=&quot;google&quot;&gt;&lt;diagram id=&quot;5Mt-QzyDditfFFaGlth6&quot; name=&quot;Page-1&quot;&gt;7Zrfl6I2FMf/mpxpH/SQBDA86uhOe073bLez50zbN34ETRfFAo5O//pNIEECzOA44rLb9cXkEm5I8r0fk4sA364Pd4m7Xb2PAxoBZAQHgOcAIQgniH8Jy5O0GMaksCwTFkjb0XDP/qOqobTuWEBTrWEWx1HGtrrRjzcb6meazU2SeK83C+NI73XrLmnDcO+7UdP6wIJsVVgtgo/2XyhbrmTPJpQX1q5qKweSrtwg3ldMeAHwbRLHWVFaH25pJCZPTUtx37tnrpbPldBNdsoNq8e/H//58Cu8m+xo6rz/8Gk1z0byYR/daCfHC5AdcX+zMOZu+Xy5fnHB/ncnnnR2R+NkydyjgZeW8ju/Md26GzHc7CnS7xQeR2m+wFPeAOLtoenlJ7CwwXQOpvhnsMCAIDCzZGFqqsK7vIDBtOyUD7voV38WL6lb5LC6n460Pd0fN5UOC1ddHTYaIq17xBeJS5lXZvsVy+j9tpjwPQ8nbltl64jXIC+66bbQd8gONBBPzKLoNo7iJHeE/YB6xBMLkCXxZ1q5gm3s4KDsvCoZqaJHmmT0UDFJCfHFXtMseeJN1FVLylnFsy3DeX8MDiKbrCpxoWyuDMdl6fkoWV6Qqn2Fgs0WBdemmEfeVhTDiB6mAgl8KugmkMW5H7lpynx9ttVwTFQ0lmCajDHODfzR/+R1Y2yp6l+iqirzg1Z7krXakoWhzz/nLVnmJkuadYc2DTS+NRe2snBWy8IpW0IjN2OPOhXbVlP28HvM8khTuiEOn6qqcshE95HGu8Sn8rYqxzo9QavmqpibhqtcX+XIz5fcpAuar6bLGZhlyvCxQhrWgPHOUyZUZeXRfDKnuI5+cz3+865TKWLLjQgirk/KxTsTKGH853MqL6xZEAgfs4Ty8bte7k/EwlYsT75g1gxYc26JhPuZ639eJvFuE6hw2MQb2hoJL/KgTrRyhyAfQfsVbiPdyBjzzQrUlDaCbwsG1SQOw5T2ok2rXxxCQ8MhGWM0DBwOFnPIPJdzjv5Li9F1KUeGRbmbEzHHl8x212LvtPHSrQ64U7BX9vvc+EJ3zaKnYoRlX0KjJv9elgPS7aJtMQWnbDN5px9PJ/jo4Zm5+UYJrhB2CYKjiYV1gqOLxLmNBPm0m/pjut0v0xGsb3FhG5tD1M7mwPZsy/4G2IywDlRk2IrVr2UzhnVX12WzMyg2P7yE5u9lX6mC8DJUMslF95VK4XBs8D3r8aNvRUamMbbJtailQuRtuaVzMzVg4Yj0kENEPmlGwNQBiwkgvAxzyxSI7ZXR0PKn65ymciGKLE4u2Y7MTx3FxKftKPaIZVrGSyh+RaIH6YgzZbXC6pKCVVibfSV6IOzSU6/QW5hgNgdk0ZOe4NfTU+BSErbqyfYJ9cIL6Qk/c5ypCsq4qqDQJQB14eS3A4jBZTXI5Pdwc9+BRUlgtkmYIA/bL+5OT5cwRgPLfcO21zffUfKbHlhW6YjXyn54+diNqKhenl3nYm9/Ag8GclzBVmee++TjSsNVPfne83kFtr2l+ZEyH8jRpsTI/zRnDntOmrcnWH4kzUs82R2Z7vM518i+9w26tlzd8EH3xtPHVwddwBJOKRYLp3uaZq2ifzn2h5xtHsExgU71U0sfGWPH0Z32SMu219+X3HRqsLTG+fuT7y8bDc16Ctk6NxtNGp6uy7zON4U9nqPbk3+NDPXNqCtJ3XaCHjz3ToWcCtkhJ6855Ayjyrj6NtK6yCs3Xj3+57JofvznKl58AQ==&lt;/diagram&gt;&lt;/mxfile&gt;\" onclick=\"(function(svg){var src=window.event.target||window.event.srcElement;while (src!=null&amp;&amp;src.nodeName.toLowerCase()!='a'){src=src.parentNode;}if(src==null){if(svg.wnd!=null&amp;&amp;!svg.wnd.closed){svg.wnd.focus();}else{var r=function(evt){if(evt.data=='ready'&amp;&amp;evt.source==svg.wnd){svg.wnd.postMessage(decodeURIComponent(svg.getAttribute('content')),'*');window.removeEventListener('message',r);}};window.addEventListener('message',r);svg.wnd=window.open('https://viewer.diagrams.net/?client=1&amp;page=0&amp;edit=_blank');}}})(this);\" style=\"cursor:pointer;max-width:100%;max-height:328px;\"><defs/><g><ellipse cx=\"110\" cy=\"167\" rx=\"40\" ry=\"40\" fill=\"#cdeb8b\" stroke=\"#36393d\" pointer-events=\"all\"/><g transform=\"translate(-0.5 -0.5)\"><switch><foreignObject style=\"overflow: visible; text-align: left;\" pointer-events=\"none\" width=\"100%\" height=\"100%\" requiredFeatures=\"http://www.w3.org/TR/SVG11/feature#Extensibility\"><div xmlns=\"http://www.w3.org/1999/xhtml\" style=\"display: flex; align-items: unsafe center; justify-content: unsafe center; width: 78px; height: 1px; padding-top: 167px; margin-left: 71px;\"><div style=\"box-sizing: border-box; font-size: 0; text-align: center; \"><div style=\"display: inline-block; font-size: 12px; font-family: Helvetica; color: #000000; line-height: 1.2; pointer-events: all; white-space: normal; word-wrap: normal; \"><font face=\"Georgia\"><span style=\"font-size: 13px\">(正)サイクル</span><br /><font style=\"font-size: 18px\">R'</font><br /></font></div></div></div></foreignObject><text x=\"110\" y=\"171\" fill=\"#000000\" font-family=\"Helvetica\" font-size=\"12px\" text-anchor=\"middle\">(正)サイクル...</text></switch></g><path d=\"M 88.5 47.63 L 130.5 47.37 L 130.85 103.38 L 141.35 103.31 L 110 126.5 L 78.35 103.71 L 88.85 103.64 Z\" fill=\"#ffcccc\" stroke=\"#36393d\" stroke-linejoin=\"round\" stroke-miterlimit=\"10\" pointer-events=\"all\"/><g transform=\"translate(-0.5 -0.5)\"><switch><foreignObject style=\"overflow: visible; text-align: left;\" pointer-events=\"none\" width=\"100%\" height=\"100%\" requiredFeatures=\"http://www.w3.org/TR/SVG11/feature#Extensibility\"><div xmlns=\"http://www.w3.org/1999/xhtml\" style=\"display: flex; align-items: unsafe center; justify-content: unsafe center; width: 1px; height: 1px; padding-top: 84px; margin-left: 109px;\"><div style=\"box-sizing: border-box; font-size: 0; text-align: center; \"><div style=\"display: inline-block; font-size: 11px; font-family: Helvetica; color: #000000; line-height: 1.2; pointer-events: all; white-space: nowrap; \"><font style=\"font-size: 18px\" face=\"Georgia\"><i>Q</i><sub>2</sub></font></div></div></div></foreignObject><text x=\"109\" y=\"87\" fill=\"#000000\" font-family=\"Helvetica\" font-size=\"11px\" text-anchor=\"middle\">Q2</text></switch></g><path d=\"M 104.5 207.53 L 114.5 207.47 L 114.83 260.51 L 125.33 260.44 L 110 286.5 L 94.33 260.64 L 104.83 260.57 Z\" fill=\"#ffcccc\" stroke=\"#36393d\" stroke-linejoin=\"round\" stroke-miterlimit=\"10\" pointer-events=\"all\"/><g transform=\"translate(-0.5 -0.5)\"><switch><foreignObject style=\"overflow: visible; text-align: left;\" pointer-events=\"none\" width=\"100%\" height=\"100%\" requiredFeatures=\"http://www.w3.org/TR/SVG11/feature#Extensibility\"><div xmlns=\"http://www.w3.org/1999/xhtml\" style=\"display: flex; align-items: unsafe center; justify-content: unsafe center; width: 1px; height: 1px; padding-top: 237px; margin-left: 171px;\"><div style=\"box-sizing: border-box; font-size: 0; text-align: center; \"><div style=\"display: inline-block; font-size: 11px; font-family: Helvetica; color: #000000; line-height: 1.2; pointer-events: all; white-space: nowrap; \"><font style=\"font-size: 18px\" face=\"Georgia\"><i>Q'</i><sub>1 </sub></font><i style=\"font-family: &quot;georgia&quot; ; font-size: 18px\">=Q<sub>2</sub>-W'</i></div></div></div></foreignObject><text x=\"171\" y=\"240\" fill=\"#000000\" font-family=\"Helvetica\" font-size=\"11px\" text-anchor=\"middle\">Q'1 =Q2-W'</text></switch></g><path d=\"M 150.43 177 L 150.57 156 L 206.64 156.35 L 206.7 145.85 L 229.5 167 L 206.44 187.85 L 206.5 177.35 Z\" fill=\"#fff2cc\" stroke=\"#d6b656\" stroke-linejoin=\"round\" stroke-miterlimit=\"10\" pointer-events=\"all\"/><g transform=\"translate(-0.5 -0.5)\"><switch><foreignObject style=\"overflow: visible; text-align: left;\" pointer-events=\"none\" width=\"100%\" height=\"100%\" requiredFeatures=\"http://www.w3.org/TR/SVG11/feature#Extensibility\"><div xmlns=\"http://www.w3.org/1999/xhtml\" style=\"display: flex; align-items: unsafe center; justify-content: unsafe center; width: 1px; height: 1px; padding-top: 128px; margin-left: 201px;\"><div style=\"box-sizing: border-box; font-size: 0; text-align: center; \"><div style=\"display: inline-block; font-size: 11px; font-family: Helvetica; color: #000000; line-height: 1.2; pointer-events: all; white-space: nowrap; \"><font style=\"font-size: 18px\" face=\"Georgia\"><i>W</i></font></div></div></div></foreignObject><text x=\"201\" y=\"131\" fill=\"#000000\" font-family=\"Helvetica\" font-size=\"11px\" text-anchor=\"middle\">W</text></switch></g><rect x=\"40\" y=\"0\" width=\"310\" height=\"40\" fill=\"#f8cecc\" stroke=\"#b85450\" pointer-events=\"all\"/><g transform=\"translate(-0.5 -0.5)\"><switch><foreignObject style=\"overflow: visible; text-align: left;\" pointer-events=\"none\" width=\"100%\" height=\"100%\" requiredFeatures=\"http://www.w3.org/TR/SVG11/feature#Extensibility\"><div xmlns=\"http://www.w3.org/1999/xhtml\" style=\"display: flex; align-items: unsafe center; justify-content: unsafe center; width: 308px; height: 1px; padding-top: 20px; margin-left: 41px;\"><div style=\"box-sizing: border-box; font-size: 0; text-align: center; \"><div style=\"display: inline-block; font-size: 12px; font-family: Helvetica; color: #000000; line-height: 1.2; pointer-events: all; white-space: normal; word-wrap: normal; \"><font face=\"Georgia\" style=\"font-size: 18px\">高温熱源 <i>T</i><sub>2</sub></font></div></div></div></foreignObject><text x=\"195\" y=\"24\" fill=\"#000000\" font-family=\"Helvetica\" font-size=\"12px\" text-anchor=\"middle\">高温熱源 T2</text></switch></g><rect x=\"50\" y=\"287\" width=\"300\" height=\"40\" fill=\"#dae8fc\" stroke=\"#6c8ebf\" pointer-events=\"all\"/><g transform=\"translate(-0.5 -0.5)\"><switch><foreignObject style=\"overflow: visible; text-align: left;\" pointer-events=\"none\" width=\"100%\" height=\"100%\" requiredFeatures=\"http://www.w3.org/TR/SVG11/feature#Extensibility\"><div xmlns=\"http://www.w3.org/1999/xhtml\" style=\"display: flex; align-items: unsafe center; justify-content: unsafe center; width: 298px; height: 1px; padding-top: 307px; margin-left: 51px;\"><div style=\"box-sizing: border-box; font-size: 0; text-align: center; \"><div style=\"display: inline-block; font-size: 12px; font-family: Helvetica; color: #000000; line-height: 1.2; pointer-events: all; white-space: normal; word-wrap: normal; \"><font style=\"font-size: 18px\" face=\"Georgia\">低温熱源 <i>T</i><sub>1</sub></font></div></div></div></foreignObject><text x=\"200\" y=\"311\" fill=\"#000000\" font-family=\"Helvetica\" font-size=\"12px\" text-anchor=\"middle\">低温熱源 T1</text></switch></g><ellipse cx=\"280\" cy=\"167\" rx=\"40\" ry=\"40\" fill=\"#d5e8d4\" stroke=\"#82b366\" pointer-events=\"all\"/><g transform=\"translate(-0.5 -0.5)\"><switch><foreignObject style=\"overflow: visible; text-align: left;\" pointer-events=\"none\" width=\"100%\" height=\"100%\" requiredFeatures=\"http://www.w3.org/TR/SVG11/feature#Extensibility\"><div xmlns=\"http://www.w3.org/1999/xhtml\" style=\"display: flex; align-items: unsafe center; justify-content: unsafe center; width: 78px; height: 1px; padding-top: 167px; margin-left: 241px;\"><div style=\"box-sizing: border-box; font-size: 0; text-align: center; \"><div style=\"display: inline-block; font-size: 12px; font-family: Helvetica; color: #000000; line-height: 1.2; pointer-events: all; white-space: normal; word-wrap: normal; \"><font face=\"Georgia\"><span style=\"font-size: 13px\">(逆)サイクル</span><br /><font style=\"font-size: 18px\">R</font><br /></font></div></div></div></foreignObject><text x=\"280\" y=\"171\" fill=\"#000000\" font-family=\"Helvetica\" font-size=\"12px\" text-anchor=\"middle\">(逆)サイクル...</text></switch></g><path d=\"M 301 126.37 L 259 126.63 L 258.65 70.62 L 248.15 70.69 L 279.5 47.5 L 311.15 70.29 L 300.65 70.36 Z\" fill=\"#ffcccc\" stroke=\"#36393d\" stroke-linejoin=\"round\" stroke-miterlimit=\"10\" pointer-events=\"all\"/><g transform=\"translate(-0.5 -0.5)\"><switch><foreignObject style=\"overflow: visible; text-align: left;\" pointer-events=\"none\" width=\"100%\" height=\"100%\" requiredFeatures=\"http://www.w3.org/TR/SVG11/feature#Extensibility\"><div xmlns=\"http://www.w3.org/1999/xhtml\" style=\"display: flex; align-items: unsafe center; justify-content: unsafe center; width: 1px; height: 1px; padding-top: 91px; margin-left: 281px;\"><div style=\"box-sizing: border-box; font-size: 0; text-align: center; \"><div style=\"display: inline-block; font-size: 11px; font-family: Helvetica; color: #000000; line-height: 1.2; pointer-events: all; white-space: nowrap; \"><font style=\"font-size: 18px\" face=\"Georgia\"><i>Q</i><sub>2</sub></font></div></div></div></foreignObject><text x=\"281\" y=\"95\" fill=\"#000000\" font-family=\"Helvetica\" font-size=\"11px\" text-anchor=\"middle\">Q2</text></switch></g><path d=\"M 290.5 286.43 L 269.5 286.57 L 269.15 230.5 L 258.65 230.56 L 279.5 207.5 L 300.65 230.3 L 290.15 230.36 Z\" fill=\"#ffcccc\" stroke=\"#36393d\" stroke-linejoin=\"round\" stroke-miterlimit=\"10\" pointer-events=\"all\"/><g transform=\"translate(-0.5 -0.5)\"><switch><foreignObject style=\"overflow: visible; text-align: left;\" pointer-events=\"none\" width=\"100%\" height=\"100%\" requiredFeatures=\"http://www.w3.org/TR/SVG11/feature#Extensibility\"><div xmlns=\"http://www.w3.org/1999/xhtml\" style=\"display: flex; align-items: unsafe center; justify-content: unsafe center; width: 1px; height: 1px; padding-top: 257px; margin-left: 280px;\"><div style=\"box-sizing: border-box; font-size: 0; text-align: center; \"><div style=\"display: inline-block; font-size: 11px; font-family: Helvetica; color: #000000; line-height: 1.2; pointer-events: all; white-space: nowrap; \"><font style=\"font-size: 18px\" face=\"Georgia\"><i>Q</i><sub>1</sub></font></div></div></div></foreignObject><text x=\"280\" y=\"261\" fill=\"#000000\" font-family=\"Helvetica\" font-size=\"11px\" text-anchor=\"middle\">Q1</text></switch></g><path d=\"M 59.52 163.5 L 59.48 167.5 L 17.5 167.15 L 17.42 177.65 L 0.5 165 L 17.62 152.65 L 17.54 163.15 Z\" fill=\"#fff2cc\" stroke=\"#d6b656\" stroke-linejoin=\"round\" stroke-miterlimit=\"10\" pointer-events=\"all\"/><g transform=\"translate(-0.5 -0.5)\"><switch><foreignObject style=\"overflow: visible; text-align: left;\" pointer-events=\"none\" width=\"100%\" height=\"100%\" requiredFeatures=\"http://www.w3.org/TR/SVG11/feature#Extensibility\"><div xmlns=\"http://www.w3.org/1999/xhtml\" style=\"display: flex; align-items: unsafe center; justify-content: unsafe center; width: 1px; height: 1px; padding-top: 149px; margin-left: 37px;\"><div style=\"box-sizing: border-box; font-size: 0; text-align: center; \"><div style=\"display: inline-block; font-size: 11px; font-family: Helvetica; color: #000000; line-height: 1.2; pointer-events: all; white-space: nowrap; \"><font face=\"Georgia\"><span style=\"font-size: 18px\"><i>W'-W</i></span></font></div></div></div></foreignObject><text x=\"37\" y=\"153\" fill=\"#000000\" font-family=\"Helvetica\" font-size=\"11px\" text-anchor=\"middle\">W'-W</text></switch></g></g><switch><g requiredFeatures=\"http://www.w3.org/TR/SVG11/feature#Extensibility\"/><a transform=\"translate(0,-5)\" xlink:href=\"https://desk.draw.io/support/solutions/articles/16000042487\" target=\"_blank\"><text text-anchor=\"middle\" font-size=\"10px\" x=\"50%\" y=\"100%\">Viewer does not support full SVG 1.1</text></a></switch></svg>"
      ],
      "execution_count": null,
      "outputs": [
        {
          "output_type": "display_data",
          "data": {
            "text/plain": [
              "<IPython.core.display.SVG object>"
            ],
            "image/svg+xml": "<svg content=\"&lt;mxfile host=&quot;app.diagrams.net&quot; modified=&quot;2020-11-07T11:24:15.990Z&quot; agent=&quot;5.0 (Macintosh; Intel Mac OS X 10_15_7) AppleWebKit/537.36 (KHTML, like Gecko) Chrome/86.0.4240.111 Safari/537.36&quot; etag=&quot;chj52wXNKepvDigR6MZ-&quot; version=&quot;13.9.2&quot; type=&quot;google&quot;&gt;&lt;diagram id=&quot;5Mt-QzyDditfFFaGlth6&quot; name=&quot;Page-1&quot;&gt;7Zrfl6I2FMf/mpxpH/SQBDA86uhOe073bLez50zbN34ETRfFAo5O//pNIEECzOA44rLb9cXkEm5I8r0fk4sA364Pd4m7Xb2PAxoBZAQHgOcAIQgniH8Jy5O0GMaksCwTFkjb0XDP/qOqobTuWEBTrWEWx1HGtrrRjzcb6meazU2SeK83C+NI73XrLmnDcO+7UdP6wIJsVVgtgo/2XyhbrmTPJpQX1q5qKweSrtwg3ldMeAHwbRLHWVFaH25pJCZPTUtx37tnrpbPldBNdsoNq8e/H//58Cu8m+xo6rz/8Gk1z0byYR/daCfHC5AdcX+zMOZu+Xy5fnHB/ncnnnR2R+NkydyjgZeW8ju/Md26GzHc7CnS7xQeR2m+wFPeAOLtoenlJ7CwwXQOpvhnsMCAIDCzZGFqqsK7vIDBtOyUD7voV38WL6lb5LC6n460Pd0fN5UOC1ddHTYaIq17xBeJS5lXZvsVy+j9tpjwPQ8nbltl64jXIC+66bbQd8gONBBPzKLoNo7iJHeE/YB6xBMLkCXxZ1q5gm3s4KDsvCoZqaJHmmT0UDFJCfHFXtMseeJN1FVLylnFsy3DeX8MDiKbrCpxoWyuDMdl6fkoWV6Qqn2Fgs0WBdemmEfeVhTDiB6mAgl8KugmkMW5H7lpynx9ttVwTFQ0lmCajDHODfzR/+R1Y2yp6l+iqirzg1Z7krXakoWhzz/nLVnmJkuadYc2DTS+NRe2snBWy8IpW0IjN2OPOhXbVlP28HvM8khTuiEOn6qqcshE95HGu8Sn8rYqxzo9QavmqpibhqtcX+XIz5fcpAuar6bLGZhlyvCxQhrWgPHOUyZUZeXRfDKnuI5+cz3+865TKWLLjQgirk/KxTsTKGH853MqL6xZEAgfs4Ty8bte7k/EwlYsT75g1gxYc26JhPuZ639eJvFuE6hw2MQb2hoJL/KgTrRyhyAfQfsVbiPdyBjzzQrUlDaCbwsG1SQOw5T2ok2rXxxCQ8MhGWM0DBwOFnPIPJdzjv5Li9F1KUeGRbmbEzHHl8x212LvtPHSrQ64U7BX9vvc+EJ3zaKnYoRlX0KjJv9elgPS7aJtMQWnbDN5px9PJ/jo4Zm5+UYJrhB2CYKjiYV1gqOLxLmNBPm0m/pjut0v0xGsb3FhG5tD1M7mwPZsy/4G2IywDlRk2IrVr2UzhnVX12WzMyg2P7yE5u9lX6mC8DJUMslF95VK4XBs8D3r8aNvRUamMbbJtailQuRtuaVzMzVg4Yj0kENEPmlGwNQBiwkgvAxzyxSI7ZXR0PKn65ymciGKLE4u2Y7MTx3FxKftKPaIZVrGSyh+RaIH6YgzZbXC6pKCVVibfSV6IOzSU6/QW5hgNgdk0ZOe4NfTU+BSErbqyfYJ9cIL6Qk/c5ypCsq4qqDQJQB14eS3A4jBZTXI5Pdwc9+BRUlgtkmYIA/bL+5OT5cwRgPLfcO21zffUfKbHlhW6YjXyn54+diNqKhenl3nYm9/Ag8GclzBVmee++TjSsNVPfne83kFtr2l+ZEyH8jRpsTI/zRnDntOmrcnWH4kzUs82R2Z7vM518i+9w26tlzd8EH3xtPHVwddwBJOKRYLp3uaZq2ifzn2h5xtHsExgU71U0sfGWPH0Z32SMu219+X3HRqsLTG+fuT7y8bDc16Ctk6NxtNGp6uy7zON4U9nqPbk3+NDPXNqCtJ3XaCHjz3ToWcCtkhJ6855Ayjyrj6NtK6yCs3Xj3+57JofvznKl58AQ==&lt;/diagram&gt;&lt;/mxfile&gt;\" onclick=\"(function(svg){var src=window.event.target||window.event.srcElement;while (src!=null&amp;&amp;src.nodeName.toLowerCase()!='a'){src=src.parentNode;}if(src==null){if(svg.wnd!=null&amp;&amp;!svg.wnd.closed){svg.wnd.focus();}else{var r=function(evt){if(evt.data=='ready'&amp;&amp;evt.source==svg.wnd){svg.wnd.postMessage(decodeURIComponent(svg.getAttribute('content')),'*');window.removeEventListener('message',r);}};window.addEventListener('message',r);svg.wnd=window.open('https://viewer.diagrams.net/?client=1&amp;page=0&amp;edit=_blank');}}})(this);\" style=\"cursor:pointer;max-width:100%;max-height:328px;\" version=\"1.1\" viewBox=\"-0.5 -0.5 351 328\" width=\"351px\" xmlns=\"http://www.w3.org/2000/svg\" xmlns:xlink=\"http://www.w3.org/1999/xlink\"><defs/><g><ellipse cx=\"110\" cy=\"167\" fill=\"#cdeb8b\" pointer-events=\"all\" rx=\"40\" ry=\"40\" stroke=\"#36393d\"/><g transform=\"translate(-0.5 -0.5)\"><switch><foreignObject height=\"100%\" pointer-events=\"none\" requiredFeatures=\"http://www.w3.org/TR/SVG11/feature#Extensibility\" style=\"overflow: visible; text-align: left;\" width=\"100%\"><div style=\"display: flex; align-items: unsafe center; justify-content: unsafe center; width: 78px; height: 1px; padding-top: 167px; margin-left: 71px;\" xmlns=\"http://www.w3.org/1999/xhtml\"><div style=\"box-sizing: border-box; font-size: 0; text-align: center; \"><div style=\"display: inline-block; font-size: 12px; font-family: Helvetica; color: #000000; line-height: 1.2; pointer-events: all; white-space: normal; word-wrap: normal; \"><font face=\"Georgia\"><span style=\"font-size: 13px\">(正)サイクル</span><br/><font style=\"font-size: 18px\">R'</font><br/></font></div></div></div></foreignObject><text fill=\"#000000\" font-family=\"Helvetica\" font-size=\"12px\" text-anchor=\"middle\" x=\"110\" y=\"171\">(正)サイクル...</text></switch></g><path d=\"M 88.5 47.63 L 130.5 47.37 L 130.85 103.38 L 141.35 103.31 L 110 126.5 L 78.35 103.71 L 88.85 103.64 Z\" fill=\"#ffcccc\" pointer-events=\"all\" stroke=\"#36393d\" stroke-linejoin=\"round\" stroke-miterlimit=\"10\"/><g transform=\"translate(-0.5 -0.5)\"><switch><foreignObject height=\"100%\" pointer-events=\"none\" requiredFeatures=\"http://www.w3.org/TR/SVG11/feature#Extensibility\" style=\"overflow: visible; text-align: left;\" width=\"100%\"><div style=\"display: flex; align-items: unsafe center; justify-content: unsafe center; width: 1px; height: 1px; padding-top: 84px; margin-left: 109px;\" xmlns=\"http://www.w3.org/1999/xhtml\"><div style=\"box-sizing: border-box; font-size: 0; text-align: center; \"><div style=\"display: inline-block; font-size: 11px; font-family: Helvetica; color: #000000; line-height: 1.2; pointer-events: all; white-space: nowrap; \"><font face=\"Georgia\" style=\"font-size: 18px\"><i>Q</i><sub>2</sub></font></div></div></div></foreignObject><text fill=\"#000000\" font-family=\"Helvetica\" font-size=\"11px\" text-anchor=\"middle\" x=\"109\" y=\"87\">Q2</text></switch></g><path d=\"M 104.5 207.53 L 114.5 207.47 L 114.83 260.51 L 125.33 260.44 L 110 286.5 L 94.33 260.64 L 104.83 260.57 Z\" fill=\"#ffcccc\" pointer-events=\"all\" stroke=\"#36393d\" stroke-linejoin=\"round\" stroke-miterlimit=\"10\"/><g transform=\"translate(-0.5 -0.5)\"><switch><foreignObject height=\"100%\" pointer-events=\"none\" requiredFeatures=\"http://www.w3.org/TR/SVG11/feature#Extensibility\" style=\"overflow: visible; text-align: left;\" width=\"100%\"><div style=\"display: flex; align-items: unsafe center; justify-content: unsafe center; width: 1px; height: 1px; padding-top: 237px; margin-left: 171px;\" xmlns=\"http://www.w3.org/1999/xhtml\"><div style=\"box-sizing: border-box; font-size: 0; text-align: center; \"><div style=\"display: inline-block; font-size: 11px; font-family: Helvetica; color: #000000; line-height: 1.2; pointer-events: all; white-space: nowrap; \"><font face=\"Georgia\" style=\"font-size: 18px\"><i>Q'</i><sub>1 </sub></font><i style=\"font-family: &quot;georgia&quot; ; font-size: 18px\">=Q<sub>2</sub>-W'</i></div></div></div></foreignObject><text fill=\"#000000\" font-family=\"Helvetica\" font-size=\"11px\" text-anchor=\"middle\" x=\"171\" y=\"240\">Q'1 =Q2-W'</text></switch></g><path d=\"M 150.43 177 L 150.57 156 L 206.64 156.35 L 206.7 145.85 L 229.5 167 L 206.44 187.85 L 206.5 177.35 Z\" fill=\"#fff2cc\" pointer-events=\"all\" stroke=\"#d6b656\" stroke-linejoin=\"round\" stroke-miterlimit=\"10\"/><g transform=\"translate(-0.5 -0.5)\"><switch><foreignObject height=\"100%\" pointer-events=\"none\" requiredFeatures=\"http://www.w3.org/TR/SVG11/feature#Extensibility\" style=\"overflow: visible; text-align: left;\" width=\"100%\"><div style=\"display: flex; align-items: unsafe center; justify-content: unsafe center; width: 1px; height: 1px; padding-top: 128px; margin-left: 201px;\" xmlns=\"http://www.w3.org/1999/xhtml\"><div style=\"box-sizing: border-box; font-size: 0; text-align: center; \"><div style=\"display: inline-block; font-size: 11px; font-family: Helvetica; color: #000000; line-height: 1.2; pointer-events: all; white-space: nowrap; \"><font face=\"Georgia\" style=\"font-size: 18px\"><i>W</i></font></div></div></div></foreignObject><text fill=\"#000000\" font-family=\"Helvetica\" font-size=\"11px\" text-anchor=\"middle\" x=\"201\" y=\"131\">W</text></switch></g><rect fill=\"#f8cecc\" height=\"40\" pointer-events=\"all\" stroke=\"#b85450\" width=\"310\" x=\"40\" y=\"0\"/><g transform=\"translate(-0.5 -0.5)\"><switch><foreignObject height=\"100%\" pointer-events=\"none\" requiredFeatures=\"http://www.w3.org/TR/SVG11/feature#Extensibility\" style=\"overflow: visible; text-align: left;\" width=\"100%\"><div style=\"display: flex; align-items: unsafe center; justify-content: unsafe center; width: 308px; height: 1px; padding-top: 20px; margin-left: 41px;\" xmlns=\"http://www.w3.org/1999/xhtml\"><div style=\"box-sizing: border-box; font-size: 0; text-align: center; \"><div style=\"display: inline-block; font-size: 12px; font-family: Helvetica; color: #000000; line-height: 1.2; pointer-events: all; white-space: normal; word-wrap: normal; \"><font face=\"Georgia\" style=\"font-size: 18px\">高温熱源 <i>T</i><sub>2</sub></font></div></div></div></foreignObject><text fill=\"#000000\" font-family=\"Helvetica\" font-size=\"12px\" text-anchor=\"middle\" x=\"195\" y=\"24\">高温熱源 T2</text></switch></g><rect fill=\"#dae8fc\" height=\"40\" pointer-events=\"all\" stroke=\"#6c8ebf\" width=\"300\" x=\"50\" y=\"287\"/><g transform=\"translate(-0.5 -0.5)\"><switch><foreignObject height=\"100%\" pointer-events=\"none\" requiredFeatures=\"http://www.w3.org/TR/SVG11/feature#Extensibility\" style=\"overflow: visible; text-align: left;\" width=\"100%\"><div style=\"display: flex; align-items: unsafe center; justify-content: unsafe center; width: 298px; height: 1px; padding-top: 307px; margin-left: 51px;\" xmlns=\"http://www.w3.org/1999/xhtml\"><div style=\"box-sizing: border-box; font-size: 0; text-align: center; \"><div style=\"display: inline-block; font-size: 12px; font-family: Helvetica; color: #000000; line-height: 1.2; pointer-events: all; white-space: normal; word-wrap: normal; \"><font face=\"Georgia\" style=\"font-size: 18px\">低温熱源 <i>T</i><sub>1</sub></font></div></div></div></foreignObject><text fill=\"#000000\" font-family=\"Helvetica\" font-size=\"12px\" text-anchor=\"middle\" x=\"200\" y=\"311\">低温熱源 T1</text></switch></g><ellipse cx=\"280\" cy=\"167\" fill=\"#d5e8d4\" pointer-events=\"all\" rx=\"40\" ry=\"40\" stroke=\"#82b366\"/><g transform=\"translate(-0.5 -0.5)\"><switch><foreignObject height=\"100%\" pointer-events=\"none\" requiredFeatures=\"http://www.w3.org/TR/SVG11/feature#Extensibility\" style=\"overflow: visible; text-align: left;\" width=\"100%\"><div style=\"display: flex; align-items: unsafe center; justify-content: unsafe center; width: 78px; height: 1px; padding-top: 167px; margin-left: 241px;\" xmlns=\"http://www.w3.org/1999/xhtml\"><div style=\"box-sizing: border-box; font-size: 0; text-align: center; \"><div style=\"display: inline-block; font-size: 12px; font-family: Helvetica; color: #000000; line-height: 1.2; pointer-events: all; white-space: normal; word-wrap: normal; \"><font face=\"Georgia\"><span style=\"font-size: 13px\">(逆)サイクル</span><br/><font style=\"font-size: 18px\">R</font><br/></font></div></div></div></foreignObject><text fill=\"#000000\" font-family=\"Helvetica\" font-size=\"12px\" text-anchor=\"middle\" x=\"280\" y=\"171\">(逆)サイクル...</text></switch></g><path d=\"M 301 126.37 L 259 126.63 L 258.65 70.62 L 248.15 70.69 L 279.5 47.5 L 311.15 70.29 L 300.65 70.36 Z\" fill=\"#ffcccc\" pointer-events=\"all\" stroke=\"#36393d\" stroke-linejoin=\"round\" stroke-miterlimit=\"10\"/><g transform=\"translate(-0.5 -0.5)\"><switch><foreignObject height=\"100%\" pointer-events=\"none\" requiredFeatures=\"http://www.w3.org/TR/SVG11/feature#Extensibility\" style=\"overflow: visible; text-align: left;\" width=\"100%\"><div style=\"display: flex; align-items: unsafe center; justify-content: unsafe center; width: 1px; height: 1px; padding-top: 91px; margin-left: 281px;\" xmlns=\"http://www.w3.org/1999/xhtml\"><div style=\"box-sizing: border-box; font-size: 0; text-align: center; \"><div style=\"display: inline-block; font-size: 11px; font-family: Helvetica; color: #000000; line-height: 1.2; pointer-events: all; white-space: nowrap; \"><font face=\"Georgia\" style=\"font-size: 18px\"><i>Q</i><sub>2</sub></font></div></div></div></foreignObject><text fill=\"#000000\" font-family=\"Helvetica\" font-size=\"11px\" text-anchor=\"middle\" x=\"281\" y=\"95\">Q2</text></switch></g><path d=\"M 290.5 286.43 L 269.5 286.57 L 269.15 230.5 L 258.65 230.56 L 279.5 207.5 L 300.65 230.3 L 290.15 230.36 Z\" fill=\"#ffcccc\" pointer-events=\"all\" stroke=\"#36393d\" stroke-linejoin=\"round\" stroke-miterlimit=\"10\"/><g transform=\"translate(-0.5 -0.5)\"><switch><foreignObject height=\"100%\" pointer-events=\"none\" requiredFeatures=\"http://www.w3.org/TR/SVG11/feature#Extensibility\" style=\"overflow: visible; text-align: left;\" width=\"100%\"><div style=\"display: flex; align-items: unsafe center; justify-content: unsafe center; width: 1px; height: 1px; padding-top: 257px; margin-left: 280px;\" xmlns=\"http://www.w3.org/1999/xhtml\"><div style=\"box-sizing: border-box; font-size: 0; text-align: center; \"><div style=\"display: inline-block; font-size: 11px; font-family: Helvetica; color: #000000; line-height: 1.2; pointer-events: all; white-space: nowrap; \"><font face=\"Georgia\" style=\"font-size: 18px\"><i>Q</i><sub>1</sub></font></div></div></div></foreignObject><text fill=\"#000000\" font-family=\"Helvetica\" font-size=\"11px\" text-anchor=\"middle\" x=\"280\" y=\"261\">Q1</text></switch></g><path d=\"M 59.52 163.5 L 59.48 167.5 L 17.5 167.15 L 17.42 177.65 L 0.5 165 L 17.62 152.65 L 17.54 163.15 Z\" fill=\"#fff2cc\" pointer-events=\"all\" stroke=\"#d6b656\" stroke-linejoin=\"round\" stroke-miterlimit=\"10\"/><g transform=\"translate(-0.5 -0.5)\"><switch><foreignObject height=\"100%\" pointer-events=\"none\" requiredFeatures=\"http://www.w3.org/TR/SVG11/feature#Extensibility\" style=\"overflow: visible; text-align: left;\" width=\"100%\"><div style=\"display: flex; align-items: unsafe center; justify-content: unsafe center; width: 1px; height: 1px; padding-top: 149px; margin-left: 37px;\" xmlns=\"http://www.w3.org/1999/xhtml\"><div style=\"box-sizing: border-box; font-size: 0; text-align: center; \"><div style=\"display: inline-block; font-size: 11px; font-family: Helvetica; color: #000000; line-height: 1.2; pointer-events: all; white-space: nowrap; \"><font face=\"Georgia\"><span style=\"font-size: 18px\"><i>W'-W</i></span></font></div></div></div></foreignObject><text fill=\"#000000\" font-family=\"Helvetica\" font-size=\"11px\" text-anchor=\"middle\" x=\"37\" y=\"153\">W'-W</text></switch></g></g><switch><g requiredFeatures=\"http://www.w3.org/TR/SVG11/feature#Extensibility\"/><a target=\"_blank\" transform=\"translate(0,-5)\" xlink:href=\"https://desk.draw.io/support/solutions/articles/16000042487\"><text font-size=\"10px\" text-anchor=\"middle\" x=\"50%\" y=\"100%\">Viewer does not support full SVG 1.1</text></a></switch></svg>"
          },
          "metadata": {
            "tags": []
          }
        }
      ]
    },
    {
      "cell_type": "code",
      "metadata": {
        "id": "qexQoE5serYD",
        "cellView": "form",
        "outputId": "7d00b1e8-484d-44ba-b611-01686a11c991",
        "colab": {
          "base_uri": "https://localhost:8080/",
          "height": 342
        }
      },
      "source": [
        "#@title 模式図:トムソンの原理\n",
        "%%svg\n",
        "<svg xmlns=\"http://www.w3.org/2000/svg\" xmlns:xlink=\"http://www.w3.org/1999/xlink\" version=\"1.1\" width=\"257px\" viewBox=\"-0.5 -0.5 257 321\" content=\"&lt;mxfile host=&quot;app.diagrams.net&quot; modified=&quot;2020-08-28T00:41:56.316Z&quot; agent=&quot;5.0 (Macintosh; Intel Mac OS X 10_10_5) AppleWebKit/537.36 (KHTML, like Gecko) Chrome/84.0.4147.135 Safari/537.36&quot; etag=&quot;QxN-aR1a0qA3JFk-cwSu&quot; version=&quot;13.6.5&quot; type=&quot;google&quot;&gt;&lt;diagram id=&quot;IqefzBJmjiEjrmSx2Wwk&quot; name=&quot;Page-1&quot;&gt;5Vhdc5s4FP01mtk+xAMSH/IjxDTdnXam2XSa7NOOAIGZyBYBHNv76yuBZCPM1k7Wbrq7TxZH0kX33nOPLgboerG5qUg5/8RTygC00g1AMwChbTm++JHIViPY7ZC8KlKF7YG74i+qFyp0VaS0NhY2nLOmKE0w4cslTRoDI1XF1+ayjDPzrSXJ6QFwlxB2iN4XaTPvUDjt4R9okc/Vmx0bdRMLotcqR+o5Sfm6B6EIoOuK86YbLTbXlMng6bB0+97/zezu/RVdNqds+HMNb3P/6ikvn74y+Ltj3/xqXykrz4StlL8AekzYCzMuzIp4kaSb8J5W8qThDeVVXpA9IF1rtsxcJXdf1W0yA7HAxuWmv8PL299oCoIQTDGIPBBiEExB5AMsxnaLBGAqXLL0iQq974tGhLM7UGP1KtYQ7K3rwT20c1LD0HAFVny1TKmMniWm1/OioXdlF461ILvA5s2CiSdbOlwwds0Zr9q9KMMJTRJ5nKbij7Q3E2PXca3d+/r508mgVUM3PUjlU0R+QZtqK5aoWaSopWpL19p6z1PbU0vmfY4qjKjSyHeG9/QRA8WgF7AJHmPTi4lyEv80mxwQzgCOLsQm++3YlBKKs1E2eQmmcXYRNiH41nRC/5xO6NV0+kWSJpiBAL0DEQIYgtBVg8DRg/ftAEkVO5EGwm1xc9HjFCB12V1nWbGRtBlyIklpjOMxTiAPTVF6Hk74Jids75ATeIQS+FKUcEYoMYiwuGdLOcwY3QSyARCRoMtUDWcJI3VdJGawtTsO7BarNsSfINQC4ugPsnInrn78QxVy+zDbGE9b9TS8E7IkGb8TjmesIVVOm+O1QlOjmznMay9x7kjiNFZRRpri2eyBxrKp3vCZF21F7vq+6cQ1mIN900bNV1VC1bZ+13LUku0OTHWxOTDV8mvn+esp577ppTa8rW5/TO8jefSRxKKZN0WJFflSFpHgJxXkDaWSFKJZDtTEokhTaSOsqPCfxK09WQulTE+bMDcE7kwgTJoPSfKYt1ejLoclX9LRSviuHgwFbfc9oI5g9NxjQndlTWzLsg2m6e74tcWgl/Asq+lFuIkvK4fQHsrhWKubZXBc1lIv9lzve7L2s8iVa15z0PK06LxUr4ZdFLR+rFpNfyq1uj9RrZJtIg71v1AsXbLnUCzoO/isiqVMY3sylEJr4mHTzFlUzXXRh3Ucz2+j3x7g9vH5/hOMTmnyegqmwt/LeSdE+t8a518gQP7w02vQP5/cLQ2FbPhtdj71Gc3cWK/0387cMOKvTp1/qcyJx/2fjN3y/V+1KPoG&lt;/diagram&gt;&lt;/mxfile&gt;\" onclick=\"(function(svg){var src=window.event.target||window.event.srcElement;while (src!=null&amp;&amp;src.nodeName.toLowerCase()!='a'){src=src.parentNode;}if(src==null){if(svg.wnd!=null&amp;&amp;!svg.wnd.closed){svg.wnd.focus();}else{var r=function(evt){if(evt.data=='ready'&amp;&amp;evt.source==svg.wnd){svg.wnd.postMessage(decodeURIComponent(svg.getAttribute('content')),'*');window.removeEventListener('message',r);}};window.addEventListener('message',r);svg.wnd=window.open('https://viewer.diagrams.net/?client=1&amp;edit=_blank');}}})(this);\" style=\"cursor:pointer;max-width:100%;max-height:321px;\"><defs/><g><rect x=\"0\" y=\"0\" width=\"160\" height=\"40\" fill=\"#f8cecc\" stroke=\"#b85450\" pointer-events=\"all\"/><g transform=\"translate(-0.5 -0.5)\"><switch><foreignObject style=\"overflow: visible; text-align: left;\" pointer-events=\"none\" width=\"100%\" height=\"100%\" requiredFeatures=\"http://www.w3.org/TR/SVG11/feature#Extensibility\"><div xmlns=\"http://www.w3.org/1999/xhtml\" style=\"display: flex; align-items: unsafe center; justify-content: unsafe center; width: 158px; height: 1px; padding-top: 20px; margin-left: 1px;\"><div style=\"box-sizing: border-box; font-size: 0; text-align: center; \"><div style=\"display: inline-block; font-size: 12px; font-family: Helvetica; color: #000000; line-height: 1.2; pointer-events: all; white-space: normal; word-wrap: normal; \"><font face=\"Georgia\" style=\"font-size: 18px\">高温熱源 <i>T</i><sub>2</sub></font></div></div></div></foreignObject><text x=\"80\" y=\"24\" fill=\"#000000\" font-family=\"Helvetica\" font-size=\"12px\" text-anchor=\"middle\">高温熱源 T2</text></switch></g><rect x=\"0\" y=\"280\" width=\"160\" height=\"40\" fill=\"#dae8fc\" stroke=\"#6c8ebf\" pointer-events=\"all\"/><g transform=\"translate(-0.5 -0.5)\"><switch><foreignObject style=\"overflow: visible; text-align: left;\" pointer-events=\"none\" width=\"100%\" height=\"100%\" requiredFeatures=\"http://www.w3.org/TR/SVG11/feature#Extensibility\"><div xmlns=\"http://www.w3.org/1999/xhtml\" style=\"display: flex; align-items: unsafe center; justify-content: unsafe center; width: 158px; height: 1px; padding-top: 300px; margin-left: 1px;\"><div style=\"box-sizing: border-box; font-size: 0; text-align: center; \"><div style=\"display: inline-block; font-size: 12px; font-family: Helvetica; color: #000000; line-height: 1.2; pointer-events: all; white-space: normal; word-wrap: normal; \"><font style=\"font-size: 18px\" face=\"Georgia\">低温熱源 <i>T</i><sub>1</sub></font></div></div></div></foreignObject><text x=\"80\" y=\"304\" fill=\"#000000\" font-family=\"Helvetica\" font-size=\"12px\" text-anchor=\"middle\">低温熱源 T1</text></switch></g><ellipse cx=\"80\" cy=\"160\" rx=\"40\" ry=\"40\" fill=\"#cdeb8b\" stroke=\"#36393d\" pointer-events=\"all\"/><g transform=\"translate(-0.5 -0.5)\"><switch><foreignObject style=\"overflow: visible; text-align: left;\" pointer-events=\"none\" width=\"100%\" height=\"100%\" requiredFeatures=\"http://www.w3.org/TR/SVG11/feature#Extensibility\"><div xmlns=\"http://www.w3.org/1999/xhtml\" style=\"display: flex; align-items: unsafe center; justify-content: unsafe center; width: 78px; height: 1px; padding-top: 160px; margin-left: 41px;\"><div style=\"box-sizing: border-box; font-size: 0; text-align: center; \"><div style=\"display: inline-block; font-size: 12px; font-family: Helvetica; color: #000000; line-height: 1.2; pointer-events: all; white-space: normal; word-wrap: normal; \"><font style=\"font-size: 13px\" face=\"Georgia\">(正)サイクル</font></div></div></div></foreignObject><text x=\"80\" y=\"164\" fill=\"#000000\" font-family=\"Helvetica\" font-size=\"12px\" text-anchor=\"middle\">(正)サイクル</text></switch></g><path d=\"M 58.5 40.63 L 100.5 40.37 L 100.85 96.38 L 111.35 96.31 L 80 119.5 L 48.35 96.71 L 58.85 96.64 Z\" fill=\"#ffcccc\" stroke=\"#36393d\" stroke-linejoin=\"round\" stroke-miterlimit=\"10\" pointer-events=\"all\"/><g transform=\"translate(-0.5 -0.5)\"><switch><foreignObject style=\"overflow: visible; text-align: left;\" pointer-events=\"none\" width=\"100%\" height=\"100%\" requiredFeatures=\"http://www.w3.org/TR/SVG11/feature#Extensibility\"><div xmlns=\"http://www.w3.org/1999/xhtml\" style=\"display: flex; align-items: unsafe center; justify-content: unsafe center; width: 1px; height: 1px; padding-top: 77px; margin-left: 79px;\"><div style=\"box-sizing: border-box; font-size: 0; text-align: center; \"><div style=\"display: inline-block; font-size: 11px; font-family: Helvetica; color: #000000; line-height: 1.2; pointer-events: all; white-space: nowrap; \"><font style=\"font-size: 18px\" face=\"Georgia\"><i>Q</i><sub>2</sub></font></div></div></div></foreignObject><text x=\"79\" y=\"80\" fill=\"#000000\" font-family=\"Helvetica\" font-size=\"11px\" text-anchor=\"middle\">Q2</text></switch></g><path d=\"M 120.43 170 L 120.57 149 L 176.64 149.35 L 176.7 138.85 L 199.5 160 L 176.44 180.85 L 176.5 170.35 Z\" fill=\"#fff2cc\" stroke=\"#d6b656\" stroke-linejoin=\"round\" stroke-miterlimit=\"10\" pointer-events=\"all\"/><g transform=\"translate(-0.5 -0.5)\"><switch><foreignObject style=\"overflow: visible; text-align: left;\" pointer-events=\"none\" width=\"100%\" height=\"100%\" requiredFeatures=\"http://www.w3.org/TR/SVG11/feature#Extensibility\"><div xmlns=\"http://www.w3.org/1999/xhtml\" style=\"display: flex; align-items: unsafe center; justify-content: unsafe center; width: 1px; height: 1px; padding-top: 161px; margin-left: 231px;\"><div style=\"box-sizing: border-box; font-size: 0; text-align: center; \"><div style=\"display: inline-block; font-size: 11px; font-family: Helvetica; color: #000000; line-height: 1.2; pointer-events: all; white-space: nowrap; \"><font style=\"font-size: 18px\" face=\"Georgia\"><i>W</i><sub>cycle</sub></font></div></div></div></foreignObject><text x=\"231\" y=\"164\" fill=\"#000000\" font-family=\"Helvetica\" font-size=\"11px\" text-anchor=\"middle\">Wcycle</text></switch></g><path d=\"M 40 273 L 120 193\" fill=\"none\" stroke=\"#000000\" stroke-width=\"4\" stroke-miterlimit=\"10\" pointer-events=\"stroke\"/><path d=\"M 120 273 L 40 193\" fill=\"none\" stroke=\"#000000\" stroke-width=\"4\" stroke-miterlimit=\"10\" pointer-events=\"stroke\"/></g><switch><g requiredFeatures=\"http://www.w3.org/TR/SVG11/feature#Extensibility\"/><a transform=\"translate(0,-5)\" xlink:href=\"https://desk.draw.io/support/solutions/articles/16000042487\" target=\"_blank\"><text text-anchor=\"middle\" font-size=\"10px\" x=\"50%\" y=\"100%\">Viewer does not support full SVG 1.1</text></a></switch></svg>"
      ],
      "execution_count": null,
      "outputs": [
        {
          "output_type": "display_data",
          "data": {
            "text/plain": [
              "<IPython.core.display.SVG object>"
            ],
            "image/svg+xml": "<svg content=\"&lt;mxfile host=&quot;app.diagrams.net&quot; modified=&quot;2020-08-28T00:41:56.316Z&quot; agent=&quot;5.0 (Macintosh; Intel Mac OS X 10_10_5) AppleWebKit/537.36 (KHTML, like Gecko) Chrome/84.0.4147.135 Safari/537.36&quot; etag=&quot;QxN-aR1a0qA3JFk-cwSu&quot; version=&quot;13.6.5&quot; type=&quot;google&quot;&gt;&lt;diagram id=&quot;IqefzBJmjiEjrmSx2Wwk&quot; name=&quot;Page-1&quot;&gt;5Vhdc5s4FP01mtk+xAMSH/IjxDTdnXam2XSa7NOOAIGZyBYBHNv76yuBZCPM1k7Wbrq7TxZH0kX33nOPLgboerG5qUg5/8RTygC00g1AMwChbTm++JHIViPY7ZC8KlKF7YG74i+qFyp0VaS0NhY2nLOmKE0w4cslTRoDI1XF1+ayjDPzrSXJ6QFwlxB2iN4XaTPvUDjt4R9okc/Vmx0bdRMLotcqR+o5Sfm6B6EIoOuK86YbLTbXlMng6bB0+97/zezu/RVdNqds+HMNb3P/6ikvn74y+Ltj3/xqXykrz4StlL8AekzYCzMuzIp4kaSb8J5W8qThDeVVXpA9IF1rtsxcJXdf1W0yA7HAxuWmv8PL299oCoIQTDGIPBBiEExB5AMsxnaLBGAqXLL0iQq974tGhLM7UGP1KtYQ7K3rwT20c1LD0HAFVny1TKmMniWm1/OioXdlF461ILvA5s2CiSdbOlwwds0Zr9q9KMMJTRJ5nKbij7Q3E2PXca3d+/r508mgVUM3PUjlU0R+QZtqK5aoWaSopWpL19p6z1PbU0vmfY4qjKjSyHeG9/QRA8WgF7AJHmPTi4lyEv80mxwQzgCOLsQm++3YlBKKs1E2eQmmcXYRNiH41nRC/5xO6NV0+kWSJpiBAL0DEQIYgtBVg8DRg/ftAEkVO5EGwm1xc9HjFCB12V1nWbGRtBlyIklpjOMxTiAPTVF6Hk74Jids75ATeIQS+FKUcEYoMYiwuGdLOcwY3QSyARCRoMtUDWcJI3VdJGawtTsO7BarNsSfINQC4ugPsnInrn78QxVy+zDbGE9b9TS8E7IkGb8TjmesIVVOm+O1QlOjmznMay9x7kjiNFZRRpri2eyBxrKp3vCZF21F7vq+6cQ1mIN900bNV1VC1bZ+13LUku0OTHWxOTDV8mvn+esp577ppTa8rW5/TO8jefSRxKKZN0WJFflSFpHgJxXkDaWSFKJZDtTEokhTaSOsqPCfxK09WQulTE+bMDcE7kwgTJoPSfKYt1ejLoclX9LRSviuHgwFbfc9oI5g9NxjQndlTWzLsg2m6e74tcWgl/Asq+lFuIkvK4fQHsrhWKubZXBc1lIv9lzve7L2s8iVa15z0PK06LxUr4ZdFLR+rFpNfyq1uj9RrZJtIg71v1AsXbLnUCzoO/isiqVMY3sylEJr4mHTzFlUzXXRh3Ucz2+j3x7g9vH5/hOMTmnyegqmwt/LeSdE+t8a518gQP7w02vQP5/cLQ2FbPhtdj71Gc3cWK/0387cMOKvTp1/qcyJx/2fjN3y/V+1KPoG&lt;/diagram&gt;&lt;/mxfile&gt;\" onclick=\"(function(svg){var src=window.event.target||window.event.srcElement;while (src!=null&amp;&amp;src.nodeName.toLowerCase()!='a'){src=src.parentNode;}if(src==null){if(svg.wnd!=null&amp;&amp;!svg.wnd.closed){svg.wnd.focus();}else{var r=function(evt){if(evt.data=='ready'&amp;&amp;evt.source==svg.wnd){svg.wnd.postMessage(decodeURIComponent(svg.getAttribute('content')),'*');window.removeEventListener('message',r);}};window.addEventListener('message',r);svg.wnd=window.open('https://viewer.diagrams.net/?client=1&amp;edit=_blank');}}})(this);\" style=\"cursor:pointer;max-width:100%;max-height:321px;\" version=\"1.1\" viewBox=\"-0.5 -0.5 257 321\" width=\"257px\" xmlns=\"http://www.w3.org/2000/svg\" xmlns:xlink=\"http://www.w3.org/1999/xlink\"><defs/><g><rect fill=\"#f8cecc\" height=\"40\" pointer-events=\"all\" stroke=\"#b85450\" width=\"160\" x=\"0\" y=\"0\"/><g transform=\"translate(-0.5 -0.5)\"><switch><foreignObject height=\"100%\" pointer-events=\"none\" requiredFeatures=\"http://www.w3.org/TR/SVG11/feature#Extensibility\" style=\"overflow: visible; text-align: left;\" width=\"100%\"><div style=\"display: flex; align-items: unsafe center; justify-content: unsafe center; width: 158px; height: 1px; padding-top: 20px; margin-left: 1px;\" xmlns=\"http://www.w3.org/1999/xhtml\"><div style=\"box-sizing: border-box; font-size: 0; text-align: center; \"><div style=\"display: inline-block; font-size: 12px; font-family: Helvetica; color: #000000; line-height: 1.2; pointer-events: all; white-space: normal; word-wrap: normal; \"><font face=\"Georgia\" style=\"font-size: 18px\">高温熱源 <i>T</i><sub>2</sub></font></div></div></div></foreignObject><text fill=\"#000000\" font-family=\"Helvetica\" font-size=\"12px\" text-anchor=\"middle\" x=\"80\" y=\"24\">高温熱源 T2</text></switch></g><rect fill=\"#dae8fc\" height=\"40\" pointer-events=\"all\" stroke=\"#6c8ebf\" width=\"160\" x=\"0\" y=\"280\"/><g transform=\"translate(-0.5 -0.5)\"><switch><foreignObject height=\"100%\" pointer-events=\"none\" requiredFeatures=\"http://www.w3.org/TR/SVG11/feature#Extensibility\" style=\"overflow: visible; text-align: left;\" width=\"100%\"><div style=\"display: flex; align-items: unsafe center; justify-content: unsafe center; width: 158px; height: 1px; padding-top: 300px; margin-left: 1px;\" xmlns=\"http://www.w3.org/1999/xhtml\"><div style=\"box-sizing: border-box; font-size: 0; text-align: center; \"><div style=\"display: inline-block; font-size: 12px; font-family: Helvetica; color: #000000; line-height: 1.2; pointer-events: all; white-space: normal; word-wrap: normal; \"><font face=\"Georgia\" style=\"font-size: 18px\">低温熱源 <i>T</i><sub>1</sub></font></div></div></div></foreignObject><text fill=\"#000000\" font-family=\"Helvetica\" font-size=\"12px\" text-anchor=\"middle\" x=\"80\" y=\"304\">低温熱源 T1</text></switch></g><ellipse cx=\"80\" cy=\"160\" fill=\"#cdeb8b\" pointer-events=\"all\" rx=\"40\" ry=\"40\" stroke=\"#36393d\"/><g transform=\"translate(-0.5 -0.5)\"><switch><foreignObject height=\"100%\" pointer-events=\"none\" requiredFeatures=\"http://www.w3.org/TR/SVG11/feature#Extensibility\" style=\"overflow: visible; text-align: left;\" width=\"100%\"><div style=\"display: flex; align-items: unsafe center; justify-content: unsafe center; width: 78px; height: 1px; padding-top: 160px; margin-left: 41px;\" xmlns=\"http://www.w3.org/1999/xhtml\"><div style=\"box-sizing: border-box; font-size: 0; text-align: center; \"><div style=\"display: inline-block; font-size: 12px; font-family: Helvetica; color: #000000; line-height: 1.2; pointer-events: all; white-space: normal; word-wrap: normal; \"><font face=\"Georgia\" style=\"font-size: 13px\">(正)サイクル</font></div></div></div></foreignObject><text fill=\"#000000\" font-family=\"Helvetica\" font-size=\"12px\" text-anchor=\"middle\" x=\"80\" y=\"164\">(正)サイクル</text></switch></g><path d=\"M 58.5 40.63 L 100.5 40.37 L 100.85 96.38 L 111.35 96.31 L 80 119.5 L 48.35 96.71 L 58.85 96.64 Z\" fill=\"#ffcccc\" pointer-events=\"all\" stroke=\"#36393d\" stroke-linejoin=\"round\" stroke-miterlimit=\"10\"/><g transform=\"translate(-0.5 -0.5)\"><switch><foreignObject height=\"100%\" pointer-events=\"none\" requiredFeatures=\"http://www.w3.org/TR/SVG11/feature#Extensibility\" style=\"overflow: visible; text-align: left;\" width=\"100%\"><div style=\"display: flex; align-items: unsafe center; justify-content: unsafe center; width: 1px; height: 1px; padding-top: 77px; margin-left: 79px;\" xmlns=\"http://www.w3.org/1999/xhtml\"><div style=\"box-sizing: border-box; font-size: 0; text-align: center; \"><div style=\"display: inline-block; font-size: 11px; font-family: Helvetica; color: #000000; line-height: 1.2; pointer-events: all; white-space: nowrap; \"><font face=\"Georgia\" style=\"font-size: 18px\"><i>Q</i><sub>2</sub></font></div></div></div></foreignObject><text fill=\"#000000\" font-family=\"Helvetica\" font-size=\"11px\" text-anchor=\"middle\" x=\"79\" y=\"80\">Q2</text></switch></g><path d=\"M 120.43 170 L 120.57 149 L 176.64 149.35 L 176.7 138.85 L 199.5 160 L 176.44 180.85 L 176.5 170.35 Z\" fill=\"#fff2cc\" pointer-events=\"all\" stroke=\"#d6b656\" stroke-linejoin=\"round\" stroke-miterlimit=\"10\"/><g transform=\"translate(-0.5 -0.5)\"><switch><foreignObject height=\"100%\" pointer-events=\"none\" requiredFeatures=\"http://www.w3.org/TR/SVG11/feature#Extensibility\" style=\"overflow: visible; text-align: left;\" width=\"100%\"><div style=\"display: flex; align-items: unsafe center; justify-content: unsafe center; width: 1px; height: 1px; padding-top: 161px; margin-left: 231px;\" xmlns=\"http://www.w3.org/1999/xhtml\"><div style=\"box-sizing: border-box; font-size: 0; text-align: center; \"><div style=\"display: inline-block; font-size: 11px; font-family: Helvetica; color: #000000; line-height: 1.2; pointer-events: all; white-space: nowrap; \"><font face=\"Georgia\" style=\"font-size: 18px\"><i>W</i><sub>cycle</sub></font></div></div></div></foreignObject><text fill=\"#000000\" font-family=\"Helvetica\" font-size=\"11px\" text-anchor=\"middle\" x=\"231\" y=\"164\">Wcycle</text></switch></g><path d=\"M 40 273 L 120 193\" fill=\"none\" pointer-events=\"stroke\" stroke=\"#000000\" stroke-miterlimit=\"10\" stroke-width=\"4\"/><path d=\"M 120 273 L 40 193\" fill=\"none\" pointer-events=\"stroke\" stroke=\"#000000\" stroke-miterlimit=\"10\" stroke-width=\"4\"/></g><switch><g requiredFeatures=\"http://www.w3.org/TR/SVG11/feature#Extensibility\"/><a target=\"_blank\" transform=\"translate(0,-5)\" xlink:href=\"https://desk.draw.io/support/solutions/articles/16000042487\"><text font-size=\"10px\" text-anchor=\"middle\" x=\"50%\" y=\"100%\">Viewer does not support full SVG 1.1</text></a></switch></svg>"
          },
          "metadata": {
            "tags": []
          }
        }
      ]
    },
    {
      "cell_type": "markdown",
      "metadata": {
        "id": "h4BkD6A6yNbh"
      },
      "source": [
        "\\begin{align*}\n",
        "W' -  W & \\bcancel{>} 0\\\\[2mm]\n",
        "W' -  W & \\leqq 0\\\\[3mm]\n",
        "W' & \\leqq W\n",
        "\\end{align*}"
      ]
    },
    {
      "cell_type": "markdown",
      "metadata": {
        "id": "HakVEdVn9Yp6"
      },
      "source": [
        "#### オットーサイクル"
      ]
    },
    {
      "cell_type": "markdown",
      "metadata": {
        "id": "1NfOTU8pZ_5t"
      },
      "source": [
        "ガソリンエンジンの基本 ~ 4ストロークエンジン ~ 発明者 Nicolaus Otto  \n",
        "// 直下の写真は同一人物\n",
        "\n",
        "![Nicolaus Otto, young](https://upload.wikimedia.org/wikipedia/commons/4/4a/Nikolaus_August_Otto.png)\n",
        "![Nicolaus Otto, old](https://upload.wikimedia.org/wikipedia/commons/d/df/Nicolaus-August-Otto.jpg)\n",
        "\n",
        "![Four-stroke engine](https://upload.wikimedia.org/wikipedia/commons/thumb/f/f2/PSM_V18_D500_An_american_internal_combustion_otto_engine.jpg/640px-PSM_V18_D500_An_american_internal_combustion_otto_engine.jpg)\n"
      ]
    },
    {
      "cell_type": "markdown",
      "metadata": {
        "id": "2dP28lsv3Bif"
      },
      "source": [
        "##### 歴史の狭間\n",
        "\n",
        "[Alphonse Beau de Rochas](https://en.wikipedia.org/wiki/Otto_cycle#History)  \n",
        "![https://en.wikipedia.org/wiki/Alphonse_Beau_de_Rochas](https://upload.wikimedia.org/wikipedia/commons/f/f3/Beauderochas.jpg),\n",
        "\n",
        "[Eugenio Barsanti](https://en.wikipedia.org/wiki/Eugenio_Barsanti)  \n",
        "[Felice Matteucci](https://en.wikipedia.org/wiki/Felice_Matteucci)  \n",
        "<!--![https://en.wikipedia.org/wiki/Eugenio_Barsanti](https://upload.wikimedia.org/wikipedia/it/f/f2/Eugenio_Barsanti_Felice_Matteucci_francobollo.jpg)\n",
        "![](https://upload.wikimedia.org/wikipedia/commons/thumb/3/34/Osservatorio_ximeniano%2C_modello_del_motore_a_scoppio_barsanti-matteucci_03.JPG/345px-Osservatorio_ximeniano%2C_modello_del_motore_a_scoppio_barsanti-matteucci_03.JPG)-->\n",
        "\n"
      ]
    },
    {
      "cell_type": "markdown",
      "metadata": {
        "id": "MxolRa0Igs7E"
      },
      "source": [
        "##### 現代版"
      ]
    },
    {
      "cell_type": "code",
      "metadata": {
        "id": "lnqrM5_IZhqC",
        "cellView": "form",
        "outputId": "8e71bed2-a9d1-4ff6-8cb7-450ab0954951",
        "colab": {
          "base_uri": "https://localhost:8080/",
          "height": 336
        }
      },
      "source": [
        "#@title How 4-Stroke Gasoline Engines Work! (Otto cycle)\n",
        "%%html\n",
        "<iframe width=\"560\" height=\"315\" src=\"https://www.youtube-nocookie.com/embed/fNcZDrfT498\" frameborder=\"0\" allow=\"accelerometer; autoplay; encrypted-media; gyroscope; picture-in-picture\" allowfullscreen></iframe>"
      ],
      "execution_count": null,
      "outputs": [
        {
          "output_type": "display_data",
          "data": {
            "text/html": [
              "<iframe width=\"560\" height=\"315\" src=\"https://www.youtube-nocookie.com/embed/fNcZDrfT498\" frameborder=\"0\" allow=\"accelerometer; autoplay; encrypted-media; gyroscope; picture-in-picture\" allowfullscreen></iframe>"
            ],
            "text/plain": [
              "<IPython.core.display.HTML object>"
            ]
          },
          "metadata": {
            "tags": []
          }
        }
      ]
    },
    {
      "cell_type": "markdown",
      "metadata": {
        "id": "wV720QzXeQuV"
      },
      "source": [
        "https://en.wikipedia.org/wiki/Four-stroke_engine\n",
        "\n",
        "<img src=\"https://upload.wikimedia.org/wikipedia/commons/d/dc/4StrokeEngine_Ortho_3D_Small.gif\" alt=\"https://fr.wikipedia.org/wiki/Cycle_de_Beau_de_Rochas\" width=250px>\n"
      ]
    },
    {
      "cell_type": "markdown",
      "metadata": {
        "id": "UfvYFMVejU80"
      },
      "source": [
        "##### 主な4サイクル\n",
        "吸引 > 圧縮 > 膨張 > 排気\n",
        "\n",
        "intake > compression > power > exhaust\n",
        "\n",
        "//図も左から順に同じ並び\n",
        "\n",
        "<img src=\"https://upload.wikimedia.org/wikipedia/commons/4/45/Four_stroke_cycle_intake.png\" alt=\"intake\" width=22%>\n",
        "<img src=\"https://upload.wikimedia.org/wikipedia/commons/7/7b/Four_stroke_cycle_compression.png\" alt=\"compression\" width=22%>\n",
        "<img src=\"https://upload.wikimedia.org/wikipedia/commons/c/cb/Four_stroke_cycle_power.png\" alt=\"power\" width=22%>\n",
        "<img src=\"https://upload.wikimedia.org/wikipedia/commons/b/b1/Four_stroke_cycle_exhaust.png\" alt=\"exhaust\" width=22%>\n"
      ]
    },
    {
      "cell_type": "markdown",
      "metadata": {
        "id": "xWk_trUElOcC"
      },
      "source": [
        "###### 実際のサイクル\n",
        "\n",
        "(始動>) 吸引 > 圧縮 > ( 燃焼 >) 膨張 > 排気  \n",
        "(start >) intake > compression > (spark >) power > exhaust\n",
        "\n",
        "//図も左から順に同じ並び\n",
        "\n",
        "<img src=\"https://upload.wikimedia.org/wikipedia/commons/9/98/Four_stroke_cycle_start.png\" alt=\"start\" width=15%>\n",
        "<img src=\"https://upload.wikimedia.org/wikipedia/commons/4/45/Four_stroke_cycle_intake.png\" alt=\"intake\" width=15%>\n",
        "<img src=\"https://upload.wikimedia.org/wikipedia/commons/7/7b/Four_stroke_cycle_compression.png\" alt=\"compression\" width=15%>\n",
        "<img src=\"https://upload.wikimedia.org/wikipedia/commons/c/ce/Four_stroke_cycle_spark.png\" alt=\"spark\" width=15%>\n",
        "<img src=\"https://upload.wikimedia.org/wikipedia/commons/c/cb/Four_stroke_cycle_power.png\" alt=\"power\" width=15%>\n",
        "<img src=\"https://upload.wikimedia.org/wikipedia/commons/b/b1/Four_stroke_cycle_exhaust.png\" alt=\"exhaust\" width=15%>"
      ]
    },
    {
      "cell_type": "markdown",
      "metadata": {
        "id": "0flonKubiwAl"
      },
      "source": [
        "##### 理想的なオットーサイクル"
      ]
    },
    {
      "cell_type": "markdown",
      "metadata": {
        "id": "RUe0C5YYnpB8"
      },
      "source": [
        "![https://es.wikipedia.org/wiki/Ciclo_Otto#Ciclo_de_4_tiempos_(2_vueltas_de_cig%C3%BCe%C3%B1al)](https://upload.wikimedia.org/wikipedia/commons/0/0b/Ciclo-otto-exacto.png)"
      ]
    },
    {
      "cell_type": "markdown",
      "metadata": {
        "id": "FJdf9t5ztlem"
      },
      "source": [
        "理想的なオットーサイクルでは\n",
        "\n",
        "- $V_{\\rm A} > V_{\\rm B}$\n",
        "- $V_{\\rm A}=V_{\\rm D}$\n",
        "- $V_{\\rm B}=V_{\\rm C}$  \n",
        "\n",
        "となることをグラフで確認しておいてください."
      ]
    },
    {
      "cell_type": "markdown",
      "metadata": {
        "id": "ryuELdiqubyU"
      },
      "source": [
        "###### 熱力学過程"
      ]
    },
    {
      "cell_type": "markdown",
      "metadata": {
        "id": "D-kV3_QFn08O"
      },
      "source": [
        "###### 過程1: A -> B | 断熱圧縮\n",
        "\n",
        "ピストンが瞬間的に上昇し, 混合気体が可逆的に **断熱** 圧縮されます.\n",
        "\n",
        "<img src=\"https://upload.wikimedia.org/wikipedia/commons/7/7b/Four_stroke_cycle_compression.png\" alt=\"compression\" width=15%>\n",
        "\n",
        "\\begin{align*}\n",
        "T_{\\rm A} V_{\\rm A} ^{\\gamma -1} = T_{\\rm B} V_{\\rm B} ^{\\gamma -1}\n",
        "\\end{align*}\n",
        "ここで $\\gamma=\\dfrac{C_P}{C_V}$ となる比熱比です."
      ]
    },
    {
      "cell_type": "markdown",
      "metadata": {
        "id": "xUkoSh20o06p"
      },
      "source": [
        "###### 過程2: B -> C | 定積加熱\n",
        "\n",
        "ガソリンが燃焼し, 瞬間的に熱量 $Q_1$ が加えられるので, **定積** 変化となります.\n",
        "\n",
        "<img src=\"https://upload.wikimedia.org/wikipedia/commons/c/ce/Four_stroke_cycle_spark.png\" alt=\"spark\" width=15%>\n",
        "\n",
        "閉じ込められた $n$ mol の気体に対し, 燃焼後も $n$ は変化しないとして,  \n",
        "定積モル比熱 $C_V$ を利用し, 熱量 $Q_1$ を表すと\n",
        "\\begin{align*}\n",
        "Q_1 = n C_V \\left( T_{\\rm C} - T_{\\rm B} \\right).\n",
        "\\end{align*}"
      ]
    },
    {
      "cell_type": "markdown",
      "metadata": {
        "id": "O3piIqMTq66j"
      },
      "source": [
        "###### 過程3: C -> D | 断熱膨張\n",
        "\n",
        "ピストンが瞬間的に押し下げられ, 気体が可逆的に断熱膨張します.\n",
        "\n",
        "<img src=\"https://upload.wikimedia.org/wikipedia/commons/c/cb/Four_stroke_cycle_power.png\" alt=\"power\" width=15%>\n",
        "\n",
        "\\begin{align*}\n",
        "T_{\\rm C} V_{\\rm C} ^{\\gamma -1} = T_{\\rm D} V_{\\rm D} ^{\\gamma -1}\n",
        "\\end{align*}"
      ]
    },
    {
      "cell_type": "markdown",
      "metadata": {
        "id": "O2RhRlJssVcu"
      },
      "source": [
        "###### 過程4: D -> A | 定積冷却\n",
        "\n",
        "燃焼後のガソリンと新しいガソリンを入れ替える: A -> E -> A  \n",
        "// この入れ替えは瞬間で行われるため無視します.  \n",
        "このとき, 燃焼後の気体の熱量 $Q_2$ を放出する.\n",
        "\n",
        "<img src=\"https://upload.wikimedia.org/wikipedia/commons/4/45/Four_stroke_cycle_intake.png\" alt=\"intake\" width=15%>\n",
        "\n",
        "\\begin{align*}\n",
        "Q_2 &= - n C_V \\left( T_{\\rm A} - T_{\\rm D} \\right)&\\\\\n",
        "&= n C_V \\left( T_{\\rm D} - T_{\\rm A} \\right).\n",
        "\\end{align*}"
      ]
    },
    {
      "cell_type": "markdown",
      "metadata": {
        "id": "ezI6YjSguYKH"
      },
      "source": [
        "$\\require{cancel}$\n",
        "###### 熱効率 $\\eta$\n",
        "\n",
        "理想的なオットーサイクルでは\n",
        "- 吸熱:: $\\quad \\color{red}{Q_1= n C_V\\left( T_{\\rm C}- T_{\\rm B} \\right)}$\n",
        "- 排熱:: $\\quad \\color{blue}{Q_2= n C_V\\left( T_{\\rm D}- T_{\\rm A} \\right)}$.\n",
        "\n",
        "このサイクルの熱効率 $\\eta$ は\n",
        "\\begin{align*}\n",
        "\\eta &= \\dfrac{Q_1 - Q_2}{Q_1} = 1 - \\dfrac{Q_2}{Q_1}&\\\\\n",
        "&=1 -\n",
        "\\dfrac{\\bcancel{n C_V}\\left( T_{\\rm D}- T_{\\rm A} \\right)}\n",
        "{\\bcancel{n C_V}\\left( T_{\\rm C}- T_{\\rm B} \\right)}\n",
        "= 1 - \\dfrac{T_{\\rm D}- T_{\\rm A}}{T_{\\rm C}- T_{\\rm B}}\n",
        "\\end{align*}\n",
        "\n"
      ]
    },
    {
      "cell_type": "markdown",
      "metadata": {
        "id": "sbEU-_vawfk3"
      },
      "source": [
        "ここで断熱膨張と断熱圧縮の熱力学過程を整理すると\n",
        "\\begin{align*}\n",
        "\\begin{cases}\n",
        "T_{\\rm A} V_{\\rm A} ^{\\gamma -1} &= T_{\\rm B} V_{\\rm B} ^{\\gamma -1}&\\\\\n",
        "T_{\\rm C} V_{\\rm \\cancelto{B}{C}} ^{\\gamma -1} \n",
        "&= T_{\\rm D} V_{\\rm \\cancelto{A}{D}} ^{\\gamma -1},&\n",
        "\\end{cases}\\\\\n",
        "\\begin{cases}\n",
        "T_{\\rm D} V_{\\rm A} ^{\\gamma -1}\n",
        "&=T_{\\rm C} V_{\\rm B} ^{\\gamma -1}&\\\\\n",
        "T_{\\rm A} V_{\\rm A} ^{\\gamma -1}\n",
        "&= T_{\\rm B} V_{\\rm B} ^{\\gamma -1}&\n",
        "\\end{cases}&\n",
        "\\end{align*}"
      ]
    },
    {
      "cell_type": "markdown",
      "metadata": {
        "id": "6AN1R7WqyVXa"
      },
      "source": [
        "\\begin{align*}\n",
        "\\left( T_{\\rm D} - T_{\\rm A} \\right) V_{\\rm A} ^{\\gamma -1}\n",
        "&=\n",
        "\\left( T_{\\rm C} - T_{\\rm B} \\right) V_{\\rm B} ^{\\gamma -1}&\\\\\n",
        "\\left(\\dfrac{V_{\\rm B}}{V_{\\rm A}}\\right)^{\\gamma-1} \n",
        "&= \\dfrac{T_{\\rm D} - T_{\\rm A}}{T_{\\rm C} - T_{\\rm B}}&\n",
        "\\end{align*}"
      ]
    },
    {
      "cell_type": "markdown",
      "metadata": {
        "id": "WYUyKWxmy6NB"
      },
      "source": [
        "これを利用すると理想的なオットーサイクルの熱効率 $\\eta$ は\n",
        "\\begin{align*}\n",
        "\\eta\n",
        "&= 1 - \\dfrac{T_{\\rm D}- T_{\\rm A}}{T_{\\rm C}- T_{\\rm B}}\n",
        "= 1 - \\left(\\dfrac{V_{\\rm B}}{V_{\\rm A}}\\right)^{\\gamma-1} &\\\\\n",
        "&= 1 - \\dfrac{1}{\\left(\\dfrac{V_{\\rm A}}{V_{\\rm B}}\\right)^{\\gamma-1} }\n",
        "= 1 - \\dfrac{1}{r_c^{\\gamma-1} }&\n",
        "\\end{align*}\n",
        "となります. ここで $r_c=\\frac{V_{\\rm A}}{V_{\\rm B}}$ は圧縮比と呼ばれます.\n"
      ]
    },
    {
      "cell_type": "markdown",
      "metadata": {
        "id": "IatWt-0S0gDa"
      },
      "source": [
        "> Q. $V_{\\rm A} = 8 V_{\\rm B}$, 比熱比に二原子分子の値 $\\gamma=7/5$ を代入し, 理想的なオットーサイクルの熱効率 $\\eta$ を求めてください."
      ]
    },
    {
      "cell_type": "markdown",
      "metadata": {
        "id": "Ww0hXelLZBEo"
      },
      "source": [
        "### 冷蔵庫，暖房機"
      ]
    },
    {
      "cell_type": "code",
      "metadata": {
        "id": "L4ruWvDbCg6D",
        "cellView": "form",
        "outputId": "eb63fef7-40dd-4b1a-abab-140bb90944fc",
        "colab": {
          "base_uri": "https://localhost:8080/",
          "height": 342
        }
      },
      "source": [
        "#@title 逆(カルノー)サイクル\n",
        "%%svg\n",
        "<svg xmlns=\"http://www.w3.org/2000/svg\" xmlns:xlink=\"http://www.w3.org/1999/xlink\" version=\"1.1\" width=\"257px\" viewBox=\"-0.5 -0.5 257 321\" content=\"&lt;mxfile host=&quot;app.diagrams.net&quot; modified=&quot;2020-11-07T04:49:38.148Z&quot; agent=&quot;5.0 (Macintosh; Intel Mac OS X 10_15_7) AppleWebKit/537.36 (KHTML, like Gecko) Chrome/86.0.4240.111 Safari/537.36&quot; etag=&quot;8WMhBT15Mv2uS8aS1JfA&quot; version=&quot;13.9.2&quot; type=&quot;google&quot;&gt;&lt;diagram id=&quot;5Mt-QzyDditfFFaGlth6&quot; name=&quot;Page-1&quot;&gt;1Vldj6M2FP01ltqHRGADMY9hkp1W6mpbzUrb9s0BA+6SOAWSkP762mADJmQmu5lMZhkpsY8/rq997vFlAtDDunrMyTb9yCOaAWhFFUALACHGtviUwLEBbMuaNUiSs0hhHfDE/qO6o0J3LKKF0bHkPCvZ1gRDvtnQsDQwkuf8YHaLeWZa3ZKEngBPIclO0S8sKtMGhX4P/4WyJFWWHRs1DWui+ypHipRE/NCD0BKgh5zzsimtqweayb3T29KM+3CmtbWf0015yYB0//f+n0+/2o+zHS38j58+p4tyond5T7KdchhALxMTBjEX84oNI2HT4P27k0sNHinPE0Y6QPpWHjOzlxw9KerTnIsONt5W/RFeUn8vfTAPgI/B0gMBBnMfLGcAi7JdI3Pgi/VZekVMj/usEeFtC2qs2K00BHv9enAPbZzUMDRcgTnfbSIqt88SzYeUlfRp22zHQZBdYGm5zkTNlg6zLHvgGc/rsSjGIQ1DuZwy519pr2WFXce1Wnv9A1Rnuqd5SasepA5U7PyalvlRdFGtSJNLRZejqoeOqbansLTPUoURFRxJO3NHIFFQHPoWPtkv8embqXIRAzWfHBAsAF7eiE/2/fgUEYrjUT55Iaar+DZ8auv3IxS8nlDouwn1k1QobAkK/QyWCGAIAlcV5o4ufKgLSCrZhUQQfovri75MAlJsmzstZpUkzgkrXIojZ4wVGK6Q570SKzyTFS0DeqzAI6TANyMFGiHFYI/FdbuVxTij1VzmAWIv6CZSxUWYkaJgobnd2h8HNp1VNjKbIlQDYu1/yuidurr6lwrmurKojNpR1YY3QxyG4zcD8pCP5CnTipU9Q6LW2hHlzoysaCtnz7ngu1zx/fkQo5GRCZ3SoXfc7shxayynGSnZ3syfxjigLPzOWR3Imm2+L9w2+OYOiNS4pMb1U54XpxpSsiR5QsuTmWpWtp5fQVTnrtfh8J77423yJkmk38hKvAiYYpaxZCNDTzCUCsoHUoGYyLTnqmHNokjOEeRU+E9W9XyS21t5PvWJuQFwFwLJ5PQBCb8m9aWqg2jDN3Q0Fp6XkaEStm8Tag1Gxj6mkBNrKl5sbINqE/u6cNBdeBwX9DbsdG8ro9Aeyqj9pjJ6VhLfidI51pls63qdO0nIbi103g8pdFcm9HcXuojlQqUYl5MeaFGOkv752H8N7YMzF5naB18lQCb2FNt+/8GmGWvq++akN1TL2T3U8kT1YjiuepG38txnE/53onru4B0TWt+peo4zeC3pVPCtVA+/K9X7cqHqDdYYtiTqLKBV/XdqNDyGwqFz+vhDi+mlyql14HWU0xlI2pVZow4yLJTR6h4zNbWnNrb6D7xeREW1+1920737QQAt/wc=&lt;/diagram&gt;&lt;/mxfile&gt;\" onclick=\"(function(svg){var src=window.event.target||window.event.srcElement;while (src!=null&amp;&amp;src.nodeName.toLowerCase()!='a'){src=src.parentNode;}if(src==null){if(svg.wnd!=null&amp;&amp;!svg.wnd.closed){svg.wnd.focus();}else{var r=function(evt){if(evt.data=='ready'&amp;&amp;evt.source==svg.wnd){svg.wnd.postMessage(decodeURIComponent(svg.getAttribute('content')),'*');window.removeEventListener('message',r);}};window.addEventListener('message',r);svg.wnd=window.open('https://viewer.diagrams.net/?client=1&amp;page=0&amp;edit=_blank');}}})(this);\" style=\"cursor:pointer;max-width:100%;max-height:321px;\"><defs/><g><rect x=\"0\" y=\"0\" width=\"160\" height=\"40\" fill=\"#f8cecc\" stroke=\"#b85450\" pointer-events=\"all\"/><g transform=\"translate(-0.5 -0.5)\"><switch><foreignObject style=\"overflow: visible; text-align: left;\" pointer-events=\"none\" width=\"100%\" height=\"100%\" requiredFeatures=\"http://www.w3.org/TR/SVG11/feature#Extensibility\"><div xmlns=\"http://www.w3.org/1999/xhtml\" style=\"display: flex; align-items: unsafe center; justify-content: unsafe center; width: 158px; height: 1px; padding-top: 20px; margin-left: 1px;\"><div style=\"box-sizing: border-box; font-size: 0; text-align: center; \"><div style=\"display: inline-block; font-size: 12px; font-family: Helvetica; color: #000000; line-height: 1.2; pointer-events: all; white-space: normal; word-wrap: normal; \"><font face=\"Georgia\" style=\"font-size: 18px\">高温熱源 <i>T</i><sub>2</sub></font></div></div></div></foreignObject><text x=\"80\" y=\"24\" fill=\"#000000\" font-family=\"Helvetica\" font-size=\"12px\" text-anchor=\"middle\">高温熱源 T2</text></switch></g><rect x=\"0\" y=\"280\" width=\"160\" height=\"40\" fill=\"#dae8fc\" stroke=\"#6c8ebf\" pointer-events=\"all\"/><g transform=\"translate(-0.5 -0.5)\"><switch><foreignObject style=\"overflow: visible; text-align: left;\" pointer-events=\"none\" width=\"100%\" height=\"100%\" requiredFeatures=\"http://www.w3.org/TR/SVG11/feature#Extensibility\"><div xmlns=\"http://www.w3.org/1999/xhtml\" style=\"display: flex; align-items: unsafe center; justify-content: unsafe center; width: 158px; height: 1px; padding-top: 300px; margin-left: 1px;\"><div style=\"box-sizing: border-box; font-size: 0; text-align: center; \"><div style=\"display: inline-block; font-size: 12px; font-family: Helvetica; color: #000000; line-height: 1.2; pointer-events: all; white-space: normal; word-wrap: normal; \"><font style=\"font-size: 18px\" face=\"Georgia\">低温熱源 <i>T</i><sub>1</sub></font></div></div></div></foreignObject><text x=\"80\" y=\"304\" fill=\"#000000\" font-family=\"Helvetica\" font-size=\"12px\" text-anchor=\"middle\">低温熱源 T1</text></switch></g><ellipse cx=\"80\" cy=\"160\" rx=\"40\" ry=\"40\" fill=\"#d5e8d4\" stroke=\"#82b366\" pointer-events=\"all\"/><g transform=\"translate(-0.5 -0.5)\"><switch><foreignObject style=\"overflow: visible; text-align: left;\" pointer-events=\"none\" width=\"100%\" height=\"100%\" requiredFeatures=\"http://www.w3.org/TR/SVG11/feature#Extensibility\"><div xmlns=\"http://www.w3.org/1999/xhtml\" style=\"display: flex; align-items: unsafe center; justify-content: unsafe center; width: 78px; height: 1px; padding-top: 160px; margin-left: 41px;\"><div style=\"box-sizing: border-box; font-size: 0; text-align: center; \"><div style=\"display: inline-block; font-size: 12px; font-family: Helvetica; color: #000000; line-height: 1.2; pointer-events: all; white-space: normal; word-wrap: normal; \"><font style=\"font-size: 13px\" face=\"Georgia\">(逆)サイクル</font></div></div></div></foreignObject><text x=\"80\" y=\"164\" fill=\"#000000\" font-family=\"Helvetica\" font-size=\"12px\" text-anchor=\"middle\">(逆)サイクル</text></switch></g><path d=\"M 101 119.37 L 59 119.63 L 58.65 63.62 L 48.15 63.69 L 79.5 40.5 L 111.15 63.29 L 100.65 63.36 Z\" fill=\"#ffcccc\" stroke=\"#36393d\" stroke-linejoin=\"round\" stroke-miterlimit=\"10\" pointer-events=\"all\"/><g transform=\"translate(-0.5 -0.5)\"><switch><foreignObject style=\"overflow: visible; text-align: left;\" pointer-events=\"none\" width=\"100%\" height=\"100%\" requiredFeatures=\"http://www.w3.org/TR/SVG11/feature#Extensibility\"><div xmlns=\"http://www.w3.org/1999/xhtml\" style=\"display: flex; align-items: unsafe center; justify-content: unsafe center; width: 1px; height: 1px; padding-top: 84px; margin-left: 81px;\"><div style=\"box-sizing: border-box; font-size: 0; text-align: center; \"><div style=\"display: inline-block; font-size: 11px; font-family: Helvetica; color: #000000; line-height: 1.2; pointer-events: all; white-space: nowrap; \"><font style=\"font-size: 18px\" face=\"Georgia\"><i>Q</i><sub>2</sub></font></div></div></div></foreignObject><text x=\"81\" y=\"88\" fill=\"#000000\" font-family=\"Helvetica\" font-size=\"11px\" text-anchor=\"middle\">Q2</text></switch></g><path d=\"M 90.5 279.43 L 69.5 279.57 L 69.15 223.5 L 58.65 223.56 L 79.5 200.5 L 100.65 223.3 L 90.15 223.36 Z\" fill=\"#ffcccc\" stroke=\"#36393d\" stroke-linejoin=\"round\" stroke-miterlimit=\"10\" pointer-events=\"all\"/><g transform=\"translate(-0.5 -0.5)\"><switch><foreignObject style=\"overflow: visible; text-align: left;\" pointer-events=\"none\" width=\"100%\" height=\"100%\" requiredFeatures=\"http://www.w3.org/TR/SVG11/feature#Extensibility\"><div xmlns=\"http://www.w3.org/1999/xhtml\" style=\"display: flex; align-items: unsafe center; justify-content: unsafe center; width: 1px; height: 1px; padding-top: 250px; margin-left: 80px;\"><div style=\"box-sizing: border-box; font-size: 0; text-align: center; \"><div style=\"display: inline-block; font-size: 11px; font-family: Helvetica; color: #000000; line-height: 1.2; pointer-events: all; white-space: nowrap; \"><font style=\"font-size: 18px\" face=\"Georgia\"><i>Q</i><sub>1</sub></font></div></div></div></foreignObject><text x=\"80\" y=\"254\" fill=\"#000000\" font-family=\"Helvetica\" font-size=\"11px\" text-anchor=\"middle\">Q1</text></switch></g><path d=\"M 199.57 149.5 L 199.43 170.5 L 143.36 170.15 L 143.3 180.65 L 120.5 159.5 L 143.56 138.65 L 143.5 149.15 Z\" fill=\"#fff2cc\" stroke=\"#d6b656\" stroke-linejoin=\"round\" stroke-miterlimit=\"10\" pointer-events=\"all\"/><g transform=\"translate(-0.5 -0.5)\"><switch><foreignObject style=\"overflow: visible; text-align: left;\" pointer-events=\"none\" width=\"100%\" height=\"100%\" requiredFeatures=\"http://www.w3.org/TR/SVG11/feature#Extensibility\"><div xmlns=\"http://www.w3.org/1999/xhtml\" style=\"display: flex; align-items: unsafe center; justify-content: unsafe center; width: 1px; height: 1px; padding-top: 160px; margin-left: 230px;\"><div style=\"box-sizing: border-box; font-size: 0; text-align: center; \"><div style=\"display: inline-block; font-size: 11px; font-family: Helvetica; color: #000000; line-height: 1.2; pointer-events: all; white-space: nowrap; \"><font style=\"font-size: 18px\" face=\"Georgia\"><i>W</i><sub><font color=\"#b3b3b3\">cycle</font></sub></font></div></div></div></foreignObject><text x=\"230\" y=\"164\" fill=\"#000000\" font-family=\"Helvetica\" font-size=\"11px\" text-anchor=\"middle\">Wcycle</text></switch></g></g><switch><g requiredFeatures=\"http://www.w3.org/TR/SVG11/feature#Extensibility\"/><a transform=\"translate(0,-5)\" xlink:href=\"https://desk.draw.io/support/solutions/articles/16000042487\" target=\"_blank\"><text text-anchor=\"middle\" font-size=\"10px\" x=\"50%\" y=\"100%\">Viewer does not support full SVG 1.1</text></a></switch></svg>"
      ],
      "execution_count": null,
      "outputs": [
        {
          "output_type": "display_data",
          "data": {
            "text/plain": [
              "<IPython.core.display.SVG object>"
            ],
            "image/svg+xml": "<svg content=\"&lt;mxfile host=&quot;app.diagrams.net&quot; modified=&quot;2020-11-07T04:49:38.148Z&quot; agent=&quot;5.0 (Macintosh; Intel Mac OS X 10_15_7) AppleWebKit/537.36 (KHTML, like Gecko) Chrome/86.0.4240.111 Safari/537.36&quot; etag=&quot;8WMhBT15Mv2uS8aS1JfA&quot; version=&quot;13.9.2&quot; type=&quot;google&quot;&gt;&lt;diagram id=&quot;5Mt-QzyDditfFFaGlth6&quot; name=&quot;Page-1&quot;&gt;1Vldj6M2FP01ltqHRGADMY9hkp1W6mpbzUrb9s0BA+6SOAWSkP762mADJmQmu5lMZhkpsY8/rq997vFlAtDDunrMyTb9yCOaAWhFFUALACHGtviUwLEBbMuaNUiSs0hhHfDE/qO6o0J3LKKF0bHkPCvZ1gRDvtnQsDQwkuf8YHaLeWZa3ZKEngBPIclO0S8sKtMGhX4P/4WyJFWWHRs1DWui+ypHipRE/NCD0BKgh5zzsimtqweayb3T29KM+3CmtbWf0015yYB0//f+n0+/2o+zHS38j58+p4tyond5T7KdchhALxMTBjEX84oNI2HT4P27k0sNHinPE0Y6QPpWHjOzlxw9KerTnIsONt5W/RFeUn8vfTAPgI/B0gMBBnMfLGcAi7JdI3Pgi/VZekVMj/usEeFtC2qs2K00BHv9enAPbZzUMDRcgTnfbSIqt88SzYeUlfRp22zHQZBdYGm5zkTNlg6zLHvgGc/rsSjGIQ1DuZwy519pr2WFXce1Wnv9A1Rnuqd5SasepA5U7PyalvlRdFGtSJNLRZejqoeOqbansLTPUoURFRxJO3NHIFFQHPoWPtkv8embqXIRAzWfHBAsAF7eiE/2/fgUEYrjUT55Iaar+DZ8auv3IxS8nlDouwn1k1QobAkK/QyWCGAIAlcV5o4ufKgLSCrZhUQQfovri75MAlJsmzstZpUkzgkrXIojZ4wVGK6Q570SKzyTFS0DeqzAI6TANyMFGiHFYI/FdbuVxTij1VzmAWIv6CZSxUWYkaJgobnd2h8HNp1VNjKbIlQDYu1/yuidurr6lwrmurKojNpR1YY3QxyG4zcD8pCP5CnTipU9Q6LW2hHlzoysaCtnz7ngu1zx/fkQo5GRCZ3SoXfc7shxayynGSnZ3syfxjigLPzOWR3Imm2+L9w2+OYOiNS4pMb1U54XpxpSsiR5QsuTmWpWtp5fQVTnrtfh8J77423yJkmk38hKvAiYYpaxZCNDTzCUCsoHUoGYyLTnqmHNokjOEeRU+E9W9XyS21t5PvWJuQFwFwLJ5PQBCb8m9aWqg2jDN3Q0Fp6XkaEStm8Tag1Gxj6mkBNrKl5sbINqE/u6cNBdeBwX9DbsdG8ro9Aeyqj9pjJ6VhLfidI51pls63qdO0nIbi103g8pdFcm9HcXuojlQqUYl5MeaFGOkv752H8N7YMzF5naB18lQCb2FNt+/8GmGWvq++akN1TL2T3U8kT1YjiuepG38txnE/53onru4B0TWt+peo4zeC3pVPCtVA+/K9X7cqHqDdYYtiTqLKBV/XdqNDyGwqFz+vhDi+mlyql14HWU0xlI2pVZow4yLJTR6h4zNbWnNrb6D7xeREW1+1920737QQAt/wc=&lt;/diagram&gt;&lt;/mxfile&gt;\" onclick=\"(function(svg){var src=window.event.target||window.event.srcElement;while (src!=null&amp;&amp;src.nodeName.toLowerCase()!='a'){src=src.parentNode;}if(src==null){if(svg.wnd!=null&amp;&amp;!svg.wnd.closed){svg.wnd.focus();}else{var r=function(evt){if(evt.data=='ready'&amp;&amp;evt.source==svg.wnd){svg.wnd.postMessage(decodeURIComponent(svg.getAttribute('content')),'*');window.removeEventListener('message',r);}};window.addEventListener('message',r);svg.wnd=window.open('https://viewer.diagrams.net/?client=1&amp;page=0&amp;edit=_blank');}}})(this);\" style=\"cursor:pointer;max-width:100%;max-height:321px;\" version=\"1.1\" viewBox=\"-0.5 -0.5 257 321\" width=\"257px\" xmlns=\"http://www.w3.org/2000/svg\" xmlns:xlink=\"http://www.w3.org/1999/xlink\"><defs/><g><rect fill=\"#f8cecc\" height=\"40\" pointer-events=\"all\" stroke=\"#b85450\" width=\"160\" x=\"0\" y=\"0\"/><g transform=\"translate(-0.5 -0.5)\"><switch><foreignObject height=\"100%\" pointer-events=\"none\" requiredFeatures=\"http://www.w3.org/TR/SVG11/feature#Extensibility\" style=\"overflow: visible; text-align: left;\" width=\"100%\"><div style=\"display: flex; align-items: unsafe center; justify-content: unsafe center; width: 158px; height: 1px; padding-top: 20px; margin-left: 1px;\" xmlns=\"http://www.w3.org/1999/xhtml\"><div style=\"box-sizing: border-box; font-size: 0; text-align: center; \"><div style=\"display: inline-block; font-size: 12px; font-family: Helvetica; color: #000000; line-height: 1.2; pointer-events: all; white-space: normal; word-wrap: normal; \"><font face=\"Georgia\" style=\"font-size: 18px\">高温熱源 <i>T</i><sub>2</sub></font></div></div></div></foreignObject><text fill=\"#000000\" font-family=\"Helvetica\" font-size=\"12px\" text-anchor=\"middle\" x=\"80\" y=\"24\">高温熱源 T2</text></switch></g><rect fill=\"#dae8fc\" height=\"40\" pointer-events=\"all\" stroke=\"#6c8ebf\" width=\"160\" x=\"0\" y=\"280\"/><g transform=\"translate(-0.5 -0.5)\"><switch><foreignObject height=\"100%\" pointer-events=\"none\" requiredFeatures=\"http://www.w3.org/TR/SVG11/feature#Extensibility\" style=\"overflow: visible; text-align: left;\" width=\"100%\"><div style=\"display: flex; align-items: unsafe center; justify-content: unsafe center; width: 158px; height: 1px; padding-top: 300px; margin-left: 1px;\" xmlns=\"http://www.w3.org/1999/xhtml\"><div style=\"box-sizing: border-box; font-size: 0; text-align: center; \"><div style=\"display: inline-block; font-size: 12px; font-family: Helvetica; color: #000000; line-height: 1.2; pointer-events: all; white-space: normal; word-wrap: normal; \"><font face=\"Georgia\" style=\"font-size: 18px\">低温熱源 <i>T</i><sub>1</sub></font></div></div></div></foreignObject><text fill=\"#000000\" font-family=\"Helvetica\" font-size=\"12px\" text-anchor=\"middle\" x=\"80\" y=\"304\">低温熱源 T1</text></switch></g><ellipse cx=\"80\" cy=\"160\" fill=\"#d5e8d4\" pointer-events=\"all\" rx=\"40\" ry=\"40\" stroke=\"#82b366\"/><g transform=\"translate(-0.5 -0.5)\"><switch><foreignObject height=\"100%\" pointer-events=\"none\" requiredFeatures=\"http://www.w3.org/TR/SVG11/feature#Extensibility\" style=\"overflow: visible; text-align: left;\" width=\"100%\"><div style=\"display: flex; align-items: unsafe center; justify-content: unsafe center; width: 78px; height: 1px; padding-top: 160px; margin-left: 41px;\" xmlns=\"http://www.w3.org/1999/xhtml\"><div style=\"box-sizing: border-box; font-size: 0; text-align: center; \"><div style=\"display: inline-block; font-size: 12px; font-family: Helvetica; color: #000000; line-height: 1.2; pointer-events: all; white-space: normal; word-wrap: normal; \"><font face=\"Georgia\" style=\"font-size: 13px\">(逆)サイクル</font></div></div></div></foreignObject><text fill=\"#000000\" font-family=\"Helvetica\" font-size=\"12px\" text-anchor=\"middle\" x=\"80\" y=\"164\">(逆)サイクル</text></switch></g><path d=\"M 101 119.37 L 59 119.63 L 58.65 63.62 L 48.15 63.69 L 79.5 40.5 L 111.15 63.29 L 100.65 63.36 Z\" fill=\"#ffcccc\" pointer-events=\"all\" stroke=\"#36393d\" stroke-linejoin=\"round\" stroke-miterlimit=\"10\"/><g transform=\"translate(-0.5 -0.5)\"><switch><foreignObject height=\"100%\" pointer-events=\"none\" requiredFeatures=\"http://www.w3.org/TR/SVG11/feature#Extensibility\" style=\"overflow: visible; text-align: left;\" width=\"100%\"><div style=\"display: flex; align-items: unsafe center; justify-content: unsafe center; width: 1px; height: 1px; padding-top: 84px; margin-left: 81px;\" xmlns=\"http://www.w3.org/1999/xhtml\"><div style=\"box-sizing: border-box; font-size: 0; text-align: center; \"><div style=\"display: inline-block; font-size: 11px; font-family: Helvetica; color: #000000; line-height: 1.2; pointer-events: all; white-space: nowrap; \"><font face=\"Georgia\" style=\"font-size: 18px\"><i>Q</i><sub>2</sub></font></div></div></div></foreignObject><text fill=\"#000000\" font-family=\"Helvetica\" font-size=\"11px\" text-anchor=\"middle\" x=\"81\" y=\"88\">Q2</text></switch></g><path d=\"M 90.5 279.43 L 69.5 279.57 L 69.15 223.5 L 58.65 223.56 L 79.5 200.5 L 100.65 223.3 L 90.15 223.36 Z\" fill=\"#ffcccc\" pointer-events=\"all\" stroke=\"#36393d\" stroke-linejoin=\"round\" stroke-miterlimit=\"10\"/><g transform=\"translate(-0.5 -0.5)\"><switch><foreignObject height=\"100%\" pointer-events=\"none\" requiredFeatures=\"http://www.w3.org/TR/SVG11/feature#Extensibility\" style=\"overflow: visible; text-align: left;\" width=\"100%\"><div style=\"display: flex; align-items: unsafe center; justify-content: unsafe center; width: 1px; height: 1px; padding-top: 250px; margin-left: 80px;\" xmlns=\"http://www.w3.org/1999/xhtml\"><div style=\"box-sizing: border-box; font-size: 0; text-align: center; \"><div style=\"display: inline-block; font-size: 11px; font-family: Helvetica; color: #000000; line-height: 1.2; pointer-events: all; white-space: nowrap; \"><font face=\"Georgia\" style=\"font-size: 18px\"><i>Q</i><sub>1</sub></font></div></div></div></foreignObject><text fill=\"#000000\" font-family=\"Helvetica\" font-size=\"11px\" text-anchor=\"middle\" x=\"80\" y=\"254\">Q1</text></switch></g><path d=\"M 199.57 149.5 L 199.43 170.5 L 143.36 170.15 L 143.3 180.65 L 120.5 159.5 L 143.56 138.65 L 143.5 149.15 Z\" fill=\"#fff2cc\" pointer-events=\"all\" stroke=\"#d6b656\" stroke-linejoin=\"round\" stroke-miterlimit=\"10\"/><g transform=\"translate(-0.5 -0.5)\"><switch><foreignObject height=\"100%\" pointer-events=\"none\" requiredFeatures=\"http://www.w3.org/TR/SVG11/feature#Extensibility\" style=\"overflow: visible; text-align: left;\" width=\"100%\"><div style=\"display: flex; align-items: unsafe center; justify-content: unsafe center; width: 1px; height: 1px; padding-top: 160px; margin-left: 230px;\" xmlns=\"http://www.w3.org/1999/xhtml\"><div style=\"box-sizing: border-box; font-size: 0; text-align: center; \"><div style=\"display: inline-block; font-size: 11px; font-family: Helvetica; color: #000000; line-height: 1.2; pointer-events: all; white-space: nowrap; \"><font face=\"Georgia\" style=\"font-size: 18px\"><i>W</i><sub><font color=\"#b3b3b3\">cycle</font></sub></font></div></div></div></foreignObject><text fill=\"#000000\" font-family=\"Helvetica\" font-size=\"11px\" text-anchor=\"middle\" x=\"230\" y=\"164\">Wcycle</text></switch></g></g><switch><g requiredFeatures=\"http://www.w3.org/TR/SVG11/feature#Extensibility\"/><a target=\"_blank\" transform=\"translate(0,-5)\" xlink:href=\"https://desk.draw.io/support/solutions/articles/16000042487\"><text font-size=\"10px\" text-anchor=\"middle\" x=\"50%\" y=\"100%\">Viewer does not support full SVG 1.1</text></a></switch></svg>"
          },
          "metadata": {
            "tags": []
          }
        }
      ]
    },
    {
      "cell_type": "markdown",
      "metadata": {
        "id": "v8cJiak9CsJy"
      },
      "source": [
        "#### 冷蔵庫の性能"
      ]
    },
    {
      "cell_type": "markdown",
      "metadata": {
        "id": "SreIL0CwCv81"
      },
      "source": [
        "与えた仕事 $W$で, 熱量 $Q_1=Q_{\\rm L}$ 熱を吸い上げるのが目的なので, 性能効率は\n",
        "\\begin{align}\n",
        "\\dfrac{Q_{\\rm L}}{W} = \\dfrac{Q_{\\rm L}}{Q_{\\rm H} -Q_{\\rm L}} \\leqq \\dfrac{T_{\\rm L}}{T_{\\rm H}-T_{\\rm L}}\n",
        "\\end{align}\n"
      ]
    },
    {
      "cell_type": "markdown",
      "metadata": {
        "id": "ZoCYQj4EDuup"
      },
      "source": [
        "### ヒートポンプ型の暖房器の性能\n"
      ]
    },
    {
      "cell_type": "markdown",
      "metadata": {
        "id": "QbpPY5qCD4Ln"
      },
      "source": [
        "与えた仕事 $W$で, 熱量 $Q_2=Q_{\\rm H}$ 送り出すのが目的なので, 性能効率は\n",
        "\\begin{align}\n",
        "\\dfrac{Q_{\\rm H}}{W} = \\dfrac{Q_{\\rm H}}{Q_{\\rm H} -Q_{\\rm L}} \\leqq \\dfrac{T_{\\rm H}}{T_{\\rm H}-T_{\\rm L}}\n",
        "\\end{align}"
      ]
    },
    {
      "cell_type": "markdown",
      "metadata": {
        "id": "QciVtaXyZH_z"
      },
      "source": [
        "### 熱力学温度"
      ]
    },
    {
      "cell_type": "markdown",
      "metadata": {
        "id": "YZ12e4lIn05-"
      },
      "source": [
        "\\begin{align}\n",
        "\\dfrac{Q_{\\rm H}}{Q_{\\rm L}} \n",
        "&= \\dfrac{Q_{\\rm H}(T_{\\rm H})}{Q_{\\rm L}(T_{\\rm L})}\n",
        "= \\dfrac{f(T_{\\rm H},T_0)}{f(T_{\\rm L},T_0)}\n",
        "= \\dfrac{\\theta(T_{\\rm H})/\\theta(T_0)}{\\theta(T_{\\rm L})/\\theta(T_0)}\n",
        "= \\dfrac{\\theta(T_{\\rm H})}{\\theta(T_{\\rm L})}\\\\\n",
        "&= \\dfrac{T_{\\rm H}}{L_{\\rm L}}\n",
        "\\end{align}"
      ]
    }
  ]
}