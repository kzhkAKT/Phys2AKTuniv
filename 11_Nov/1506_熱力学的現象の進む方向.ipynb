{
  "nbformat": 4,
  "nbformat_minor": 0,
  "metadata": {
    "colab": {
      "name": "1506_熱力学的現象の進む方向.ipynb",
      "provenance": [],
      "collapsed_sections": [],
      "include_colab_link": true
    },
    "kernelspec": {
      "name": "python3",
      "display_name": "Python 3"
    }
  },
  "cells": [
    {
      "cell_type": "markdown",
      "metadata": {
        "id": "view-in-github",
        "colab_type": "text"
      },
      "source": [
        "<a href=\"https://colab.research.google.com/github/kzhkAKT/Phys2AKTuniv/blob/draft/11_Nov/1506_%E7%86%B1%E5%8A%9B%E5%AD%A6%E7%9A%84%E7%8F%BE%E8%B1%A1%E3%81%AE%E9%80%B2%E3%82%80%E6%96%B9%E5%90%91.ipynb\" target=\"_parent\"><img src=\"https://colab.research.google.com/assets/colab-badge.svg\" alt=\"Open In Colab\"/></a>"
      ]
    },
    {
      "cell_type": "markdown",
      "metadata": {
        "id": "XtJ2WLlngJM3"
      },
      "source": [
        "# 熱力学"
      ]
    },
    {
      "cell_type": "markdown",
      "metadata": {
        "id": "B59d9-a8l-x2"
      },
      "source": [
        "日常の生活環境に最も近い, 等温過程 $\\Delta T =0$ で考えます"
      ]
    },
    {
      "cell_type": "code",
      "metadata": {
        "colab": {
          "base_uri": "https://localhost:8080/",
          "height": 336
        },
        "id": "xhm9AHaEi63T",
        "cellView": "form",
        "outputId": "d163200a-b9fa-4657-9753-002e9b07a8ae"
      },
      "source": [
        "#@title A law of Nature\n",
        "%%html\n",
        "<iframe width=\"560\" height=\"315\" src=\"https://www.youtube-nocookie.com/embed/WTtxlaeC9PY\" frameborder=\"0\" allow=\"accelerometer; autoplay; clipboard-write; encrypted-media; gyroscope; picture-in-picture\" allowfullscreen></iframe>"
      ],
      "execution_count": null,
      "outputs": [
        {
          "output_type": "display_data",
          "data": {
            "text/html": [
              "<iframe width=\"560\" height=\"315\" src=\"https://www.youtube-nocookie.com/embed/WTtxlaeC9PY\" frameborder=\"0\" allow=\"accelerometer; autoplay; clipboard-write; encrypted-media; gyroscope; picture-in-picture\" allowfullscreen></iframe>"
            ],
            "text/plain": [
              "<IPython.core.display.HTML object>"
            ]
          },
          "metadata": {
            "tags": []
          }
        }
      ]
    },
    {
      "cell_type": "markdown",
      "metadata": {
        "id": "r_LoUjgF7STm"
      },
      "source": [
        "- エントロピーと仕事の融合\n",
        "  - 共通単位単位, J\n",
        "  - 熱力学第一法則 $\\Delta U = \\Delta Q + \\Delta W$"
      ]
    },
    {
      "cell_type": "markdown",
      "metadata": {
        "id": "qb4F340D7127"
      },
      "source": [
        "$\\require{cancel}$\n",
        "\\begin{align}\n",
        "\\sum_{i{\\rm (B \\rightsquigarrow A)}}  \\dfrac{{Q_i}}{T_i}\n",
        "+ \\cancelto{S_{\\rm B}-S_{\\rm A}}\n",
        "{\\sum_{i{\\rm (A \\to B)}} \\dfrac{Q_i}{T_i}} &< 0\\\\\n",
        "\\sum_{i{\\rm (B \\rightsquigarrow A)}}  \\dfrac{{Q_i}}{T_i} < S_{\\rm A}-S_{\\rm B}\n",
        "\\end{align}\n",
        "\n",
        "- $T_{\\rm A} \\approx T_{\\rm B}=T$\n",
        "  - $S_{\\rm A} - S_{\\rm B} \\approx {\\rm d}S$\n",
        "  - $\\sum_{i{\\rm (B \\rightsquigarrow A)}}  \\dfrac{{Q_i}}{T_i} = \\dfrac{{\\rm d}Q}{T}$\n",
        "\n",
        "\\begin{align}\n",
        "\\dfrac{{\\rm d}Q}{T}&< {\\rm d}S\\\\[1mm]\n",
        "{\\rm d}Q &< T {\\rm d}S\\\\[3mm]\n",
        "{\\rm d}U - {\\rm d}W &<    T {\\rm d}S\\\\\n",
        "{\\rm d}U - T {\\rm d}S&< {\\rm d}W = - p {\\rm d}V\\\\[3mm]\n",
        "{\\rm d}U - T {\\rm d}S&< - p {\\rm d}V\n",
        "\\end{align}"
      ]
    },
    {
      "cell_type": "markdown",
      "metadata": {
        "id": "IqrHPdr1mDoa"
      },
      "source": [
        "## 等温定積変化とヘルムホルツの自由エネルギー $F= U - TS$"
      ]
    },
    {
      "cell_type": "markdown",
      "metadata": {
        "id": "7JsuhwZ1-lW1"
      },
      "source": [
        "$\\require{cancel}$\n",
        "In $\\Delta T =0$, the left hand side can be rewritten with\n",
        "\n",
        "\\begin{align}\n",
        "{\\rm d}\\left(TS\\right) \n",
        "&= \\left(T+{\\rm d}T\\right) \\left(S+{\\rm d}S\\right)-TS \\approx T{\\rm d}s + S\\cancelto{0}{{\\rm d}T}\n",
        "+ \\cancelto{\\approx 0}{{\\rm d}S{\\rm d}T}\n",
        " &= T{\\rm d}S,\n",
        "\\end{align}\n",
        "\n",
        "then\n",
        "\\begin{align}\n",
        "{\\rm d}U - T {\\rm d}S&< - p {\\rm d}V\\\\\n",
        "{\\rm d}U - {\\rm d}\\left(TS\\right)&< - p {\\rm d}V\\\\[3mm]\n",
        "{\\rm d}\\left(U - TS\\right) & < -p {\\rm d}V \\quad \\text{in $\\Delta T=0$}.\\\\[2mm]\n",
        "\\end{align}\n",
        "\n",
        "Here we define\n",
        "- $F \\equiv U -TS$,\n",
        "\n",
        "so\n",
        "\\begin{align}\n",
        "{\\rm d}F & < -p {\\rm d}V\\\\[1mm]\n",
        "- {\\rm d}F &> p {\\rm d}V = W_{\\rm out}\n",
        "\\end{align}\n",
        "\n"
      ]
    },
    {
      "cell_type": "markdown",
      "metadata": {
        "id": "PbzXvHZ8EBwu"
      },
      "source": [
        "if $\\Delta V =0$;\n",
        "\\begin{align}\n",
        "{\\rm d}F & < -p \\cancelto{0}{{\\rm d}V}\\\\[2mm]\n",
        "{\\rm d}F & < 0\n",
        "\\end{align}"
      ]
    },
    {
      "cell_type": "markdown",
      "metadata": {
        "id": "fpYRVNeJmLeF"
      },
      "source": [
        "## 等温定圧変化とギプスの自由エネルギー $G = U -TS + pV$"
      ]
    },
    {
      "cell_type": "markdown",
      "metadata": {
        "id": "MioBYDffEblm"
      },
      "source": [
        "$\\require{cancel}$\n",
        "Additonally, in $\\Delta p =0$, the right hand side can be rewritten\n",
        "\n",
        "\\begin{align}\n",
        "{\\rm d}\\left(pV\\right) \n",
        "&= \\left(p+{\\rm d}p\\right) \\left(V+{\\rm d}V\\right)-pV \\approx p{\\rm d}V + V\\cancelto{0}{{\\rm d}p}\n",
        "+ \\cancelto{\\approx 0}{{\\rm d}V{\\rm d}p}\n",
        " &= p{\\rm d}V,\n",
        "\\end{align}\n",
        "then\n",
        "\\begin{align}\n",
        "{\\rm d}\\left(U - TS\\right) & < -{\\rm d}\\left(pV\\right)  \\quad \\text{in $\\Delta T=0$ and $\\Delta p=0$}.\\\\[2mm]\n",
        "{\\rm d}\\left(U - TS +pV \\right) &< 0\n",
        "\\end{align}\n",
        "Here we define\n",
        "- $G \\equiv U -TS+pV$,\n",
        "\n",
        "so\n",
        "\\begin{align}\n",
        "{\\rm d}G & < 0 \\quad \\text{in $\\Delta T=0$ and $\\Delta p=0$}\n",
        "\\end{align}"
      ]
    }
  ]
}