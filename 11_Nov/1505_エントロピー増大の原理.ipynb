{
  "nbformat": 4,
  "nbformat_minor": 0,
  "metadata": {
    "colab": {
      "name": "1505_エントロピー増大の原理.ipynb",
      "provenance": [],
      "authorship_tag": "ABX9TyO71nZDqUQhy2xG4tmwDxRF",
      "include_colab_link": true
    },
    "kernelspec": {
      "name": "python3",
      "display_name": "Python 3"
    }
  },
  "cells": [
    {
      "cell_type": "markdown",
      "metadata": {
        "id": "view-in-github",
        "colab_type": "text"
      },
      "source": [
        "<a href=\"https://colab.research.google.com/github/kzhkAKT/Phys2AKTuniv/blob/draft/11_Nov/1505_%E3%82%A8%E3%83%B3%E3%83%88%E3%83%AD%E3%83%94%E3%83%BC%E5%A2%97%E5%A4%A7%E3%81%AE%E5%8E%9F%E7%90%86.ipynb\" target=\"_parent\"><img src=\"https://colab.research.google.com/assets/colab-badge.svg\" alt=\"Open In Colab\"/></a>"
      ]
    },
    {
      "cell_type": "markdown",
      "metadata": {
        "id": "XtJ2WLlngJM3"
      },
      "source": [
        "# 熱力学"
      ]
    },
    {
      "cell_type": "markdown",
      "metadata": {
        "id": "CF6n23ehT9mC"
      },
      "source": [
        "## エントロピー増大の原理"
      ]
    },
    {
      "cell_type": "markdown",
      "metadata": {
        "id": "Q2Cb_10FT_zh"
      },
      "source": [
        "### エントロピー"
      ]
    },
    {
      "cell_type": "markdown",
      "metadata": {
        "id": "2KpWg6vGpS6N"
      },
      "source": [
        "#### カルノーサイクルの復習"
      ]
    },
    {
      "cell_type": "markdown",
      "metadata": {
        "id": "sd8hdootmk8j"
      },
      "source": [
        "In reversible Carnote cycle as p182 (15.27),(15.31) and (15.32),\n",
        "\n",
        "\\begin{align}\n",
        "&\\begin{cases}\n",
        "Q_{\\rm H} &= R T_{\\rm H} \\ln \\dfrac{V_2}{V_1}\\\\\n",
        "Q_{\\rm L} &= R T_{\\rm L} \\ln \\left(\\dfrac{V_4}{V_3} \\right)^{-1} = R T_{\\rm L} \\ln \\dfrac{V_2}{V_1}\n",
        "\\end{cases}\\\\[3mm]\n",
        "\\dfrac{Q_{\\rm H}}{T_{\\rm H}} &= \\dfrac{Q_{\\rm L}}{T_{\\rm L}}\\\\[2mm]\n",
        "& \\dfrac{Q_{\\rm H}}{T_{\\rm H}} + \\dfrac{(-Q_{\\rm L})}{T_{\\rm L}} = 0\n",
        "\\end{align}"
      ]
    },
    {
      "cell_type": "markdown",
      "metadata": {
        "id": "PEFhTXgCoLBA"
      },
      "source": [
        "In a real work\n",
        "\\begin{align}\n",
        "W_{\\rm ideal} = Q_{\\rm H} - Q_{\\rm L} > W_{\\rm real} = Q_{\\rm H} - Q'_{\\rm L:real},\n",
        "\\end{align}\n",
        "\n",
        "then\n",
        "\n",
        "\\begin{align}\n",
        "0 &= \\dfrac{Q_{\\rm H}}{T_{\\rm H}} + \\dfrac{(-Q_{\\rm L})}{T_{\\rm L}} > \\dfrac{Q_{\\rm H}}{T_{\\rm H}} + \\dfrac{(-Q'_{\\rm L:real})}{T_{\\rm L}}\\\\[1mm]\n",
        "0 &> \\dfrac{Q_{\\rm H}}{T_{\\rm H}} + \\dfrac{(-Q'_{\\rm L:real})}{T_{\\rm L}}\n",
        "\\end{align}\n"
      ]
    },
    {
      "cell_type": "code",
      "metadata": {
        "colab": {
          "base_uri": "https://localhost:8080/",
          "height": 102
        },
        "cellView": "form",
        "id": "m9SD6UMdq0Eo",
        "outputId": "8fa3c103-874f-4157-d69a-da2433e12959"
      },
      "source": [
        "#@title Infograph on Entropy \n",
        "%%svg\n",
        "<svg xmlns=\"http://www.w3.org/2000/svg\" xmlns:xlink=\"http://www.w3.org/1999/xlink\" version=\"1.1\" width=\"209px\" viewBox=\"-0.5 -0.5 209 81\" content=\"&lt;mxfile host=&quot;app.diagrams.net&quot; modified=&quot;2020-11-23T01:15:00.383Z&quot; agent=&quot;5.0 (Macintosh; Intel Mac OS X 10_15_7) AppleWebKit/537.36 (KHTML, like Gecko) Chrome/86.0.4240.198 Safari/537.36&quot; etag=&quot;fXKuslyX5TTr5iZr4yjP&quot; version=&quot;13.10.0&quot; type=&quot;google&quot;&gt;&lt;diagram id=&quot;NupCYMtz4G6lu9XwBuhg&quot; name=&quot;Page-1&quot;&gt;7ZfLctsgFIafxkt7JHSzl7Edt4tmpqk7k2l3WGCJCRIqwrHdp++RQBd8yaVO2izijcXP4QA/H0ejgTfLdp8kLtIbQSgfIIfsBt58gJDrRgj+KmWvlcgNtZBIRkxQJyzZb2pEx6gbRmhpBSohuGKFLcYiz2msLA1LKbZ22Fpwe9YCJ/RIWMaYH6t3jKhUq77rdfpnypLUzIwmZkCGm1izkTLFRGx7knc98GZSCKWfst2M8sq7xhY9bnGmt12XpLl6zoC7b8OVc/+wCNDtIk6XPxc34Y+hyfKA+cbs1yxW7RsDIAt4DY3pNmWKLgscVz1bOG7QUpVxaLnwaFJRqeju7BrddudADBUZVXIPIWYAcoxZBhZvEun2trPebQxNe7aPjYbNaSdt6s4ReDCmvMAg9AyDcnJVgQatmOOyZLHtC8FlSolplEqK+5Ykr7WNkiMMnzStZ0pwwpNGk5RjxR7s9KeMMjN8FQwmbs+k9ducie+FdopSbGRMzag+gAeJUHiUaBTYqRSWCVVHqeqTazf+94fpnTjMkINd07WoV9qdavhrI5qOYVlXpSsIQH6x6zqreqJvQ6fBMmXCcD8oTMx/PRVrhGWjwF7YYRRoek2NfAgd8PIFr6DYWqxhzpK8AhHYoRKE6joyqGZXpiNjhFQ5ppLCrvCqzudAu6hMr48hmA6C+WP32ZRaM7ircH1kz1+ms5ffGQWR61uIuJcR3GQZhQdjxHpd0jdBzH9XiN3CA86qOp2vysLGq0Oulk+GtTHfP1i1WB06I99H41fBE8A/LKlvx2dwMZ/u+AI+3xMzvEo/xfF9IsUmJzPBBWSc5yKn/6X6hUHkWdWveV9d+gL3R44z6f3G9izuZOT/s/oYnuWvLHB+nr81zhjfawLbamUCkpY3S64iNaCPA6wJHPbI1Ev5ILOtdREaRxY06FXIHE6eIBPIjS4nE5rdZ5YO775Vves/&lt;/diagram&gt;&lt;/mxfile&gt;\" onclick=\"(function(svg){var src=window.event.target||window.event.srcElement;while (src!=null&amp;&amp;src.nodeName.toLowerCase()!='a'){src=src.parentNode;}if(src==null){if(svg.wnd!=null&amp;&amp;!svg.wnd.closed){svg.wnd.focus();}else{var r=function(evt){if(evt.data=='ready'&amp;&amp;evt.source==svg.wnd){svg.wnd.postMessage(decodeURIComponent(svg.getAttribute('content')),'*');window.removeEventListener('message',r);}};window.addEventListener('message',r);svg.wnd=window.open('https://viewer.diagrams.net/?client=1&amp;page=0&amp;edit=_blank');}}})(this);\" style=\"cursor:pointer;max-width:100%;max-height:81px;\"><defs/><g><ellipse cx=\"148\" cy=\"40\" rx=\"60\" ry=\"40\" fill=\"#ffffff\" stroke=\"#000000\" pointer-events=\"all\"/><path d=\"M 8 39 L 137.9 39.46\" fill=\"none\" stroke=\"#000000\" stroke-width=\"3\" stroke-miterlimit=\"10\" stroke-dasharray=\"9 9\" pointer-events=\"stroke\"/><path d=\"M 144.65 39.49 L 135.63 43.96 L 137.9 39.46 L 135.66 34.96 Z\" fill=\"#000000\" stroke=\"#000000\" stroke-width=\"3\" stroke-miterlimit=\"10\" pointer-events=\"all\"/><g transform=\"translate(-0.5 -0.5)\"><switch><foreignObject style=\"overflow: visible; text-align: left;\" pointer-events=\"none\" width=\"100%\" height=\"100%\" requiredFeatures=\"http://www.w3.org/TR/SVG11/feature#Extensibility\"><div xmlns=\"http://www.w3.org/1999/xhtml\" style=\"display: flex; align-items: unsafe center; justify-content: unsafe center; width: 1px; height: 1px; padding-top: 41px; margin-left: 119px;\"><div style=\"box-sizing: border-box; font-size: 0; text-align: center; \"><div style=\"display: inline-block; font-size: 11px; font-family: Helvetica; color: #000000; line-height: 1.2; pointer-events: all; background-color: #ffffff; white-space: nowrap; \"><font style=\"font-size: 24px\" face=\"Georgia\"><i>S</i></font></div></div></div></foreignObject><text x=\"119\" y=\"44\" fill=\"#000000\" font-family=\"Helvetica\" font-size=\"11px\" text-anchor=\"middle\">S</text></switch></g><g transform=\"translate(-0.5 -0.5)\"><switch><foreignObject style=\"overflow: visible; text-align: left;\" pointer-events=\"none\" width=\"100%\" height=\"100%\" requiredFeatures=\"http://www.w3.org/TR/SVG11/feature#Extensibility\"><div xmlns=\"http://www.w3.org/1999/xhtml\" style=\"display: flex; align-items: unsafe center; justify-content: unsafe center; width: 1px; height: 1px; padding-top: 60px; margin-left: 47px;\"><div style=\"box-sizing: border-box; font-size: 0; text-align: center; \"><div style=\"display: inline-block; font-size: 11px; font-family: Helvetica; color: #000000; line-height: 1.2; pointer-events: all; background-color: #ffffff; white-space: nowrap; \"><font style=\"font-size: 24px\" face=\"Georgia\"><i>Q </i>; <i>T</i></font></div></div></div></foreignObject><text x=\"47\" y=\"63\" fill=\"#000000\" font-family=\"Helvetica\" font-size=\"11px\" text-anchor=\"middle\">Q ; T</text></switch></g><g transform=\"translate(-0.5 -0.5)\"><switch><foreignObject style=\"overflow: visible; text-align: left;\" pointer-events=\"none\" width=\"100%\" height=\"100%\" requiredFeatures=\"http://www.w3.org/TR/SVG11/feature#Extensibility\"><div xmlns=\"http://www.w3.org/1999/xhtml\" style=\"display: flex; align-items: unsafe center; justify-content: unsafe center; width: 1px; height: 1px; padding-top: 24px; margin-left: 138px;\"><div style=\"box-sizing: border-box; font-size: 0; text-align: center; \"><div style=\"display: inline-block; font-size: 11px; font-family: Helvetica; color: #000000; line-height: 1.2; pointer-events: all; white-space: nowrap; \"><font style=\"font-size: 18px\" face=\"Georgia\">+</font></div></div></div></foreignObject><text x=\"138\" y=\"27\" fill=\"#000000\" font-family=\"Helvetica\" font-size=\"11px\" text-anchor=\"middle\">+</text></switch></g><g transform=\"translate(-0.5 -0.5)\"><switch><foreignObject style=\"overflow: visible; text-align: left;\" pointer-events=\"none\" width=\"100%\" height=\"100%\" requiredFeatures=\"http://www.w3.org/TR/SVG11/feature#Extensibility\"><div xmlns=\"http://www.w3.org/1999/xhtml\" style=\"display: flex; align-items: unsafe center; justify-content: unsafe center; width: 1px; height: 1px; padding-top: 23px; margin-left: 18px;\"><div style=\"box-sizing: border-box; font-size: 0; text-align: center; \"><div style=\"display: inline-block; font-size: 11px; font-family: Helvetica; color: #000000; line-height: 1.2; pointer-events: all; white-space: nowrap; \"><span style=\"font-family: &quot;georgia&quot; ; font-size: 18px\">-</span></div></div></div></foreignObject><text x=\"18\" y=\"27\" fill=\"#000000\" font-family=\"Helvetica\" font-size=\"11px\" text-anchor=\"middle\">-</text></switch></g></g><switch><g requiredFeatures=\"http://www.w3.org/TR/SVG11/feature#Extensibility\"/><a transform=\"translate(0,-5)\" xlink:href=\"https://desk.draw.io/support/solutions/articles/16000042487\" target=\"_blank\"><text text-anchor=\"middle\" font-size=\"10px\" x=\"50%\" y=\"100%\">Viewer does not support full SVG 1.1</text></a></switch></svg>"
      ],
      "execution_count": 10,
      "outputs": [
        {
          "output_type": "display_data",
          "data": {
            "text/plain": [
              "<IPython.core.display.SVG object>"
            ],
            "image/svg+xml": "<svg content=\"&lt;mxfile host=&quot;app.diagrams.net&quot; modified=&quot;2020-11-23T01:15:00.383Z&quot; agent=&quot;5.0 (Macintosh; Intel Mac OS X 10_15_7) AppleWebKit/537.36 (KHTML, like Gecko) Chrome/86.0.4240.198 Safari/537.36&quot; etag=&quot;fXKuslyX5TTr5iZr4yjP&quot; version=&quot;13.10.0&quot; type=&quot;google&quot;&gt;&lt;diagram id=&quot;NupCYMtz4G6lu9XwBuhg&quot; name=&quot;Page-1&quot;&gt;7ZfLctsgFIafxkt7JHSzl7Edt4tmpqk7k2l3WGCJCRIqwrHdp++RQBd8yaVO2izijcXP4QA/H0ejgTfLdp8kLtIbQSgfIIfsBt58gJDrRgj+KmWvlcgNtZBIRkxQJyzZb2pEx6gbRmhpBSohuGKFLcYiz2msLA1LKbZ22Fpwe9YCJ/RIWMaYH6t3jKhUq77rdfpnypLUzIwmZkCGm1izkTLFRGx7knc98GZSCKWfst2M8sq7xhY9bnGmt12XpLl6zoC7b8OVc/+wCNDtIk6XPxc34Y+hyfKA+cbs1yxW7RsDIAt4DY3pNmWKLgscVz1bOG7QUpVxaLnwaFJRqeju7BrddudADBUZVXIPIWYAcoxZBhZvEun2trPebQxNe7aPjYbNaSdt6s4ReDCmvMAg9AyDcnJVgQatmOOyZLHtC8FlSolplEqK+5Ykr7WNkiMMnzStZ0pwwpNGk5RjxR7s9KeMMjN8FQwmbs+k9ducie+FdopSbGRMzag+gAeJUHiUaBTYqRSWCVVHqeqTazf+94fpnTjMkINd07WoV9qdavhrI5qOYVlXpSsIQH6x6zqreqJvQ6fBMmXCcD8oTMx/PRVrhGWjwF7YYRRoek2NfAgd8PIFr6DYWqxhzpK8AhHYoRKE6joyqGZXpiNjhFQ5ppLCrvCqzudAu6hMr48hmA6C+WP32ZRaM7ircH1kz1+ms5ffGQWR61uIuJcR3GQZhQdjxHpd0jdBzH9XiN3CA86qOp2vysLGq0Oulk+GtTHfP1i1WB06I99H41fBE8A/LKlvx2dwMZ/u+AI+3xMzvEo/xfF9IsUmJzPBBWSc5yKn/6X6hUHkWdWveV9d+gL3R44z6f3G9izuZOT/s/oYnuWvLHB+nr81zhjfawLbamUCkpY3S64iNaCPA6wJHPbI1Ev5ILOtdREaRxY06FXIHE6eIBPIjS4nE5rdZ5YO775Vves/&lt;/diagram&gt;&lt;/mxfile&gt;\" onclick=\"(function(svg){var src=window.event.target||window.event.srcElement;while (src!=null&amp;&amp;src.nodeName.toLowerCase()!='a'){src=src.parentNode;}if(src==null){if(svg.wnd!=null&amp;&amp;!svg.wnd.closed){svg.wnd.focus();}else{var r=function(evt){if(evt.data=='ready'&amp;&amp;evt.source==svg.wnd){svg.wnd.postMessage(decodeURIComponent(svg.getAttribute('content')),'*');window.removeEventListener('message',r);}};window.addEventListener('message',r);svg.wnd=window.open('https://viewer.diagrams.net/?client=1&amp;page=0&amp;edit=_blank');}}})(this);\" style=\"cursor:pointer;max-width:100%;max-height:81px;\" version=\"1.1\" viewBox=\"-0.5 -0.5 209 81\" width=\"209px\" xmlns=\"http://www.w3.org/2000/svg\" xmlns:xlink=\"http://www.w3.org/1999/xlink\"><defs/><g><ellipse cx=\"148\" cy=\"40\" fill=\"#ffffff\" pointer-events=\"all\" rx=\"60\" ry=\"40\" stroke=\"#000000\"/><path d=\"M 8 39 L 137.9 39.46\" fill=\"none\" pointer-events=\"stroke\" stroke=\"#000000\" stroke-dasharray=\"9 9\" stroke-miterlimit=\"10\" stroke-width=\"3\"/><path d=\"M 144.65 39.49 L 135.63 43.96 L 137.9 39.46 L 135.66 34.96 Z\" fill=\"#000000\" pointer-events=\"all\" stroke=\"#000000\" stroke-miterlimit=\"10\" stroke-width=\"3\"/><g transform=\"translate(-0.5 -0.5)\"><switch><foreignObject height=\"100%\" pointer-events=\"none\" requiredFeatures=\"http://www.w3.org/TR/SVG11/feature#Extensibility\" style=\"overflow: visible; text-align: left;\" width=\"100%\"><div style=\"display: flex; align-items: unsafe center; justify-content: unsafe center; width: 1px; height: 1px; padding-top: 41px; margin-left: 119px;\" xmlns=\"http://www.w3.org/1999/xhtml\"><div style=\"box-sizing: border-box; font-size: 0; text-align: center; \"><div style=\"display: inline-block; font-size: 11px; font-family: Helvetica; color: #000000; line-height: 1.2; pointer-events: all; background-color: #ffffff; white-space: nowrap; \"><font face=\"Georgia\" style=\"font-size: 24px\"><i>S</i></font></div></div></div></foreignObject><text fill=\"#000000\" font-family=\"Helvetica\" font-size=\"11px\" text-anchor=\"middle\" x=\"119\" y=\"44\">S</text></switch></g><g transform=\"translate(-0.5 -0.5)\"><switch><foreignObject height=\"100%\" pointer-events=\"none\" requiredFeatures=\"http://www.w3.org/TR/SVG11/feature#Extensibility\" style=\"overflow: visible; text-align: left;\" width=\"100%\"><div style=\"display: flex; align-items: unsafe center; justify-content: unsafe center; width: 1px; height: 1px; padding-top: 60px; margin-left: 47px;\" xmlns=\"http://www.w3.org/1999/xhtml\"><div style=\"box-sizing: border-box; font-size: 0; text-align: center; \"><div style=\"display: inline-block; font-size: 11px; font-family: Helvetica; color: #000000; line-height: 1.2; pointer-events: all; background-color: #ffffff; white-space: nowrap; \"><font face=\"Georgia\" style=\"font-size: 24px\"><i>Q </i>; <i>T</i></font></div></div></div></foreignObject><text fill=\"#000000\" font-family=\"Helvetica\" font-size=\"11px\" text-anchor=\"middle\" x=\"47\" y=\"63\">Q ; T</text></switch></g><g transform=\"translate(-0.5 -0.5)\"><switch><foreignObject height=\"100%\" pointer-events=\"none\" requiredFeatures=\"http://www.w3.org/TR/SVG11/feature#Extensibility\" style=\"overflow: visible; text-align: left;\" width=\"100%\"><div style=\"display: flex; align-items: unsafe center; justify-content: unsafe center; width: 1px; height: 1px; padding-top: 24px; margin-left: 138px;\" xmlns=\"http://www.w3.org/1999/xhtml\"><div style=\"box-sizing: border-box; font-size: 0; text-align: center; \"><div style=\"display: inline-block; font-size: 11px; font-family: Helvetica; color: #000000; line-height: 1.2; pointer-events: all; white-space: nowrap; \"><font face=\"Georgia\" style=\"font-size: 18px\">+</font></div></div></div></foreignObject><text fill=\"#000000\" font-family=\"Helvetica\" font-size=\"11px\" text-anchor=\"middle\" x=\"138\" y=\"27\">+</text></switch></g><g transform=\"translate(-0.5 -0.5)\"><switch><foreignObject height=\"100%\" pointer-events=\"none\" requiredFeatures=\"http://www.w3.org/TR/SVG11/feature#Extensibility\" style=\"overflow: visible; text-align: left;\" width=\"100%\"><div style=\"display: flex; align-items: unsafe center; justify-content: unsafe center; width: 1px; height: 1px; padding-top: 23px; margin-left: 18px;\" xmlns=\"http://www.w3.org/1999/xhtml\"><div style=\"box-sizing: border-box; font-size: 0; text-align: center; \"><div style=\"display: inline-block; font-size: 11px; font-family: Helvetica; color: #000000; line-height: 1.2; pointer-events: all; white-space: nowrap; \"><span style=\"font-family: &quot;georgia&quot; ; font-size: 18px\">-</span></div></div></div></foreignObject><text fill=\"#000000\" font-family=\"Helvetica\" font-size=\"11px\" text-anchor=\"middle\" x=\"18\" y=\"27\">-</text></switch></g></g><switch><g requiredFeatures=\"http://www.w3.org/TR/SVG11/feature#Extensibility\"/><a target=\"_blank\" transform=\"translate(0,-5)\" xlink:href=\"https://desk.draw.io/support/solutions/articles/16000042487\"><text font-size=\"10px\" text-anchor=\"middle\" x=\"50%\" y=\"100%\">Viewer does not support full SVG 1.1</text></a></switch></svg>"
          },
          "metadata": {
            "tags": []
          }
        }
      ]
    },
    {
      "cell_type": "markdown",
      "metadata": {
        "id": "Q3aCcTTXrAxg"
      },
      "source": [
        "With 図15.20 on p186\n",
        "\\begin{align}\n",
        "S_{\\rm C} &=\n",
        "\\begin{cases}\n",
        "S_{\\rm A} + \\dfrac{Q_{\\rm H}}{T_{\\rm H}}\n",
        "&=S_{\\rm A} + \\dfrac{Q_{\\rm 1}}{T_{\\rm 1}}\\\\\n",
        "S_{\\rm A} + \\dfrac{(-Q_{\\rm L})}{T_{\\rm L}}\n",
        "&=S_{\\rm A} + \\dfrac{Q_{\\rm 2}}{T_{\\rm 2}}\\\\\n",
        "\\end{cases}\\\\\n",
        "S_{\\rm C} - S_{\\rm A}&=\\dfrac{Q_{\\rm 1}}{T_{\\rm 1}}=\\dfrac{Q_{\\rm 2}}{T_{\\rm 2}}\n",
        "\\end{align}\n",
        "\n",
        "> $S_{\\rm C} - S_{\\rm A}$ is **not** depened on the path."
      ]
    },
    {
      "cell_type": "code",
      "metadata": {
        "colab": {
          "base_uri": "https://localhost:8080/",
          "height": 272
        },
        "cellView": "form",
        "id": "k91LhKhBu_y0",
        "outputId": "30c21508-9df4-47a4-fb71-fac7c21d8e90"
      },
      "source": [
        "#@title Infograph on the definition of Entropy in a reversible process\n",
        "%%svg\n",
        "<svg xmlns=\"http://www.w3.org/2000/svg\" xmlns:xlink=\"http://www.w3.org/1999/xlink\" version=\"1.1\" width=\"387px\" viewBox=\"-0.5 -0.5 387 251\" content=\"&lt;mxfile host=&quot;app.diagrams.net&quot; modified=&quot;2020-11-23T01:33:10.940Z&quot; agent=&quot;5.0 (Macintosh; Intel Mac OS X 10_15_7) AppleWebKit/537.36 (KHTML, like Gecko) Chrome/86.0.4240.198 Safari/537.36&quot; etag=&quot;lMMiFpChhoRHYSCuK61Q&quot; version=&quot;13.10.0&quot; type=&quot;google&quot;&gt;&lt;diagram id=&quot;NupCYMtz4G6lu9XwBuhg&quot; name=&quot;Page-1&quot;&gt;7Vrfk6I4EP5rfJQiCQg8js66+3BbdXtu1dbdW4SAqUHwAEfn/vprJPwIgoqD6FY58wA0SYd0f/0l3XFEZuv914huVt9Dh/kjrDr7EXkdYYyQgeGSSj4yiYEmmcCLuCMalYIF/48JoSqkW+6wWGqYhKGf8I0stMMgYHYiyWgUhTu5mRv68qgb6rEjwcKm/rH0F3eSVSbVECnl3xj3VmJkbIkOa5q3FROJV9QJdxUR+TIisygMk+xuvZ8xP7Vdbpas37zlbfFdEQuSSzr8+mu8VN/e5zr+MbdXi3/m3yd/j4WWd+pvxXxHeOKDvqkbglqwF7WzF5N/t+mXTr+yMPI4LQVw54nroWO8oUE63eTDl3umGsfxwcEv0ACZm/2xFpcH1M9VwWQybfIIIM6+LhdjaTwM8wZ0wMN0t+IJW2yyOewAoCBbJWsfnlDR851FCdu3WhUVvgKMs3DNkugDmogORBX4FvAmlpE970qwIFVAYFUBiilkVODTK1SXPoQb4cYOLsUNLq0bKHBe0tCAJ9unccxt2S4OjVfMEQ9xEoVvBfZJYTbmHAXOWaNVjKI32CSXRcynCX+X1TcZSozwZ8gPYN3Lps1dgmumjsNtZDPRqRoxNT1oIivSSE1RQiOPJUeKDm4rZn29J0kfwanGOaXmMtQeu/z6wF1UopN3jljA0h90CUuHhEPqcy9IQQq4YhEI0lDlwM0v4sWaO06qYxox+D66POhT4XmT+uTgJX060l9B4qfqp9R+86JwGziz0A9B42sQBuwUE4hlRagu2bwK9vYwbKUNVdENpEnoQr1gf4yJYtQUK5OamtB1Y3YTyGqDryeZOMUlTwAvNtxkuK+hFmtNqP1xZqm5dDEDQDRoR5/T/rmpwZWu0wUvWMYbORY/NdPmwTqPdxHVNA/2sxPVXDI9l665/5GNWcxjhAnR4OoVCJXlre7oiIXhuXBothuriqZhsx+C07FCdIngQL1B1OqfNhTf6ef4rvNq2okhnwts+wI70Q0iw4T0AkCkKapqVf5MeRRkKdpg6+2kFX9XEJ5oUOe7EpqNdNe8HRw/EN09FjJTtsKmIYEG94JMQzElFkQyMGFnSKQGZCiUoqac9IpMpjOX2sLVVSHYIP0/hiwPeMKl4kM/VYYsgZ4Vn5J/QC/1ByQDqan8YA5ZfUBNSWvH8oNcccCFoR634oBqVSCNGLKKS0sORK2XHGqKblxyQE0JXL/Vo6NwUFVjPp//Bl7GNefo2pWFpboiTR+2sITOblsv4uNGdgVvuq77rEDdfxuSxfIdSlCWrHSwzTBq3w1fmo3VCw69BsIR0ms1qHi7zGVv1e1zKT5RYykR396saPOz05CPHFSDh02ftQxNXgbyasIAkWJ8OlKedYtb0fLdChfDwc9shd+zbPGowLxd3WJsnQRmXj0YAJdWAy5vnP3M52kp5jfIfgiqHavXT8Mvzn7IfY/V84B4nqvfnqXSr2sHe6/sZZ1ZVm+U7SBdIRJ5ydkPjCu/NYcis3wqj5ENue7B89dlQ3z4bKh9yEcOxsHDqteTXWIoeu3MApnKcPWDfLV/ZkV32Hyeo+9bZUVjExB84tQMqYo1GADbf/H3zIseFZo3zIsMxSInEnasKTru+UAXHsufpGfNy9/1ky//Aw==&lt;/diagram&gt;&lt;/mxfile&gt;\" onclick=\"(function(svg){var src=window.event.target||window.event.srcElement;while (src!=null&amp;&amp;src.nodeName.toLowerCase()!='a'){src=src.parentNode;}if(src==null){if(svg.wnd!=null&amp;&amp;!svg.wnd.closed){svg.wnd.focus();}else{var r=function(evt){if(evt.data=='ready'&amp;&amp;evt.source==svg.wnd){svg.wnd.postMessage(decodeURIComponent(svg.getAttribute('content')),'*');window.removeEventListener('message',r);}};window.addEventListener('message',r);svg.wnd=window.open('https://viewer.diagrams.net/?client=1&amp;page=0&amp;edit=_blank');}}})(this);\" style=\"cursor:pointer;max-width:100%;max-height:251px;\"><defs/><g><ellipse cx=\"335\" cy=\"136\" rx=\"50\" ry=\"40\" fill=\"#ffffff\" stroke=\"#000000\" pointer-events=\"all\"/><g transform=\"translate(-0.5 -0.5)\"><switch><foreignObject style=\"overflow: visible; text-align: left;\" pointer-events=\"none\" width=\"100%\" height=\"100%\" requiredFeatures=\"http://www.w3.org/TR/SVG11/feature#Extensibility\"><div xmlns=\"http://www.w3.org/1999/xhtml\" style=\"display: flex; align-items: unsafe center; justify-content: unsafe center; width: 98px; height: 1px; padding-top: 136px; margin-left: 286px;\"><div style=\"box-sizing: border-box; font-size: 0; text-align: center; \"><div style=\"display: inline-block; font-size: 12px; font-family: Helvetica; color: #000000; line-height: 1.2; pointer-events: all; white-space: normal; word-wrap: normal; \"><font face=\"Georgia\"><span style=\"font-size: 18px\">final</span></font></div></div></div></foreignObject><text x=\"335\" y=\"140\" fill=\"#000000\" font-family=\"Helvetica\" font-size=\"12px\" text-anchor=\"middle\">final</text></switch></g><path d=\"M 63 19 L 137.06 120.83\" fill=\"none\" stroke=\"#000000\" stroke-width=\"3\" stroke-miterlimit=\"10\" stroke-dasharray=\"9 9\" pointer-events=\"stroke\"/><path d=\"M 141.03 126.29 L 132.09 121.66 L 137.06 120.83 L 139.37 116.36 Z\" fill=\"#000000\" stroke=\"#000000\" stroke-width=\"3\" stroke-miterlimit=\"10\" pointer-events=\"all\"/><g transform=\"translate(-0.5 -0.5)\"><switch><foreignObject style=\"overflow: visible; text-align: left;\" pointer-events=\"none\" width=\"100%\" height=\"100%\" requiredFeatures=\"http://www.w3.org/TR/SVG11/feature#Extensibility\"><div xmlns=\"http://www.w3.org/1999/xhtml\" style=\"display: flex; align-items: unsafe center; justify-content: unsafe center; width: 1px; height: 1px; padding-top: 107px; margin-left: 104px;\"><div style=\"box-sizing: border-box; font-size: 0; text-align: center; \"><div style=\"display: inline-block; font-size: 11px; font-family: Helvetica; color: #000000; line-height: 1.2; pointer-events: all; white-space: nowrap; \"><font face=\"Georgia\" size=\"1\"><i style=\"font-size: 18px\">S</i></font></div></div></div></foreignObject><text x=\"104\" y=\"110\" fill=\"#000000\" font-family=\"Helvetica\" font-size=\"11px\" text-anchor=\"middle\">S</text></switch></g><g transform=\"translate(-0.5 -0.5)\"><switch><foreignObject style=\"overflow: visible; text-align: left;\" pointer-events=\"none\" width=\"100%\" height=\"100%\" requiredFeatures=\"http://www.w3.org/TR/SVG11/feature#Extensibility\"><div xmlns=\"http://www.w3.org/1999/xhtml\" style=\"display: flex; align-items: unsafe center; justify-content: unsafe center; width: 1px; height: 1px; padding-top: 50px; margin-left: 34px;\"><div style=\"box-sizing: border-box; font-size: 0; text-align: center; \"><div style=\"display: inline-block; font-size: 11px; font-family: Helvetica; color: #000000; line-height: 1.2; pointer-events: all; background-color: #ffffff; white-space: nowrap; \"><font face=\"Georgia\"><span style=\"font-style: italic ; font-size: 24px\">Q</span><span style=\"font-size: 20px\">1</span><span style=\"font-style: italic ; font-size: 24px\"> </span><span style=\"font-size: 24px\">; </span><i style=\"font-size: 24px\">T</i></font><span style=\"font-family: &quot;georgia&quot; ; font-size: 20px\">1</span></div></div></div></foreignObject><text x=\"34\" y=\"53\" fill=\"#000000\" font-family=\"Helvetica\" font-size=\"11px\" text-anchor=\"middle\">Q1 ; T1</text></switch></g><g transform=\"translate(-0.5 -0.5)\"><switch><foreignObject style=\"overflow: visible; text-align: left;\" pointer-events=\"none\" width=\"100%\" height=\"100%\" requiredFeatures=\"http://www.w3.org/TR/SVG11/feature#Extensibility\"><div xmlns=\"http://www.w3.org/1999/xhtml\" style=\"display: flex; align-items: unsafe center; justify-content: unsafe center; width: 1px; height: 1px; padding-top: 93px; margin-left: 142px;\"><div style=\"box-sizing: border-box; font-size: 0; text-align: center; \"><div style=\"display: inline-block; font-size: 11px; font-family: Helvetica; color: #000000; line-height: 1.2; pointer-events: all; white-space: nowrap; \"><font style=\"font-size: 18px\" face=\"Georgia\">+</font></div></div></div></foreignObject><text x=\"142\" y=\"97\" fill=\"#000000\" font-family=\"Helvetica\" font-size=\"11px\" text-anchor=\"middle\">+</text></switch></g><g transform=\"translate(-0.5 -0.5)\"><switch><foreignObject style=\"overflow: visible; text-align: left;\" pointer-events=\"none\" width=\"100%\" height=\"100%\" requiredFeatures=\"http://www.w3.org/TR/SVG11/feature#Extensibility\"><div xmlns=\"http://www.w3.org/1999/xhtml\" style=\"display: flex; align-items: unsafe center; justify-content: unsafe center; width: 1px; height: 1px; padding-top: 10px; margin-left: 84px;\"><div style=\"box-sizing: border-box; font-size: 0; text-align: center; \"><div style=\"display: inline-block; font-size: 11px; font-family: Helvetica; color: #000000; line-height: 1.2; pointer-events: all; white-space: nowrap; \"><span style=\"font-family: &quot;georgia&quot; ; font-size: 18px\">-</span></div></div></div></foreignObject><text x=\"84\" y=\"13\" fill=\"#000000\" font-family=\"Helvetica\" font-size=\"11px\" text-anchor=\"middle\">-</text></switch></g><ellipse cx=\"40\" cy=\"136\" rx=\"40\" ry=\"40\" fill=\"#ffffff\" stroke=\"#808080\" pointer-events=\"all\"/><g transform=\"translate(-0.5 -0.5)\"><switch><foreignObject style=\"overflow: visible; text-align: left;\" pointer-events=\"none\" width=\"100%\" height=\"100%\" requiredFeatures=\"http://www.w3.org/TR/SVG11/feature#Extensibility\"><div xmlns=\"http://www.w3.org/1999/xhtml\" style=\"display: flex; align-items: unsafe center; justify-content: unsafe center; width: 78px; height: 1px; padding-top: 136px; margin-left: 1px;\"><div style=\"box-sizing: border-box; font-size: 0; text-align: center; \"><div style=\"display: inline-block; font-size: 12px; font-family: Helvetica; color: #000000; line-height: 1.2; pointer-events: all; white-space: normal; word-wrap: normal; \"><font face=\"Georgia\" style=\"font-size: 18px\" color=\"#808080\">initial</font></div></div></div></foreignObject><text x=\"40\" y=\"140\" fill=\"#000000\" font-family=\"Helvetica\" font-size=\"12px\" text-anchor=\"middle\">initial</text></switch></g><path d=\"M 85 136 L 274.76 136\" fill=\"none\" stroke=\"#000000\" stroke-width=\"2\" stroke-miterlimit=\"10\" pointer-events=\"stroke\"/><path d=\"M 280.76 136 L 272.76 140 L 274.76 136 L 272.76 132 Z\" fill=\"#000000\" stroke=\"#000000\" stroke-width=\"2\" stroke-miterlimit=\"10\" pointer-events=\"all\"/><path d=\"M 183 239 L 183 159.1\" fill=\"none\" stroke=\"#007fff\" stroke-width=\"3\" stroke-miterlimit=\"10\" stroke-dasharray=\"9 9\" pointer-events=\"stroke\"/><path d=\"M 183 152.35 L 187.5 161.35 L 183 159.1 L 178.5 161.35 Z\" fill=\"#007fff\" stroke=\"#007fff\" stroke-width=\"3\" stroke-miterlimit=\"10\" pointer-events=\"all\"/><g transform=\"translate(-0.5 -0.5)\"><switch><foreignObject style=\"overflow: visible; text-align: left;\" pointer-events=\"none\" width=\"100%\" height=\"100%\" requiredFeatures=\"http://www.w3.org/TR/SVG11/feature#Extensibility\"><div xmlns=\"http://www.w3.org/1999/xhtml\" style=\"display: flex; align-items: unsafe center; justify-content: unsafe center; width: 1px; height: 1px; padding-top: 180px; margin-left: 174px;\"><div style=\"box-sizing: border-box; font-size: 0; text-align: center; \"><div style=\"display: inline-block; font-size: 11px; font-family: Helvetica; color: #000000; line-height: 1.2; pointer-events: all; white-space: nowrap; \"><font face=\"Georgia\" color=\"#007fff\" size=\"1\"><i style=\"font-size: 18px\">S</i></font></div></div></div></foreignObject><text x=\"174\" y=\"183\" fill=\"#000000\" font-family=\"Helvetica\" font-size=\"11px\" text-anchor=\"middle\">S</text></switch></g><g transform=\"translate(-0.5 -0.5)\"><switch><foreignObject style=\"overflow: visible; text-align: left;\" pointer-events=\"none\" width=\"100%\" height=\"100%\" requiredFeatures=\"http://www.w3.org/TR/SVG11/feature#Extensibility\"><div xmlns=\"http://www.w3.org/1999/xhtml\" style=\"display: flex; align-items: unsafe center; justify-content: unsafe center; width: 1px; height: 1px; padding-top: 210px; margin-left: 224px;\"><div style=\"box-sizing: border-box; font-size: 0; text-align: center; \"><div style=\"display: inline-block; font-size: 11px; font-family: Helvetica; color: #000000; line-height: 1.2; pointer-events: all; background-color: #ffffff; white-space: nowrap; \"><font style=\"font-size: 24px\" face=\"Georgia\" color=\"#007fff\"><i>Q<sub>k</sub> </i>; <i>T<sub>k</sub></i></font></div></div></div></foreignObject><text x=\"224\" y=\"213\" fill=\"#000000\" font-family=\"Helvetica\" font-size=\"11px\" text-anchor=\"middle\">Qk ; Tk</text></switch></g><g transform=\"translate(-0.5 -0.5)\"><switch><foreignObject style=\"overflow: visible; text-align: left;\" pointer-events=\"none\" width=\"100%\" height=\"100%\" requiredFeatures=\"http://www.w3.org/TR/SVG11/feature#Extensibility\"><div xmlns=\"http://www.w3.org/1999/xhtml\" style=\"display: flex; align-items: unsafe center; justify-content: unsafe center; width: 1px; height: 1px; padding-top: 150px; margin-left: 201px;\"><div style=\"box-sizing: border-box; font-size: 0; text-align: center; \"><div style=\"display: inline-block; font-size: 11px; font-family: Helvetica; color: #000000; line-height: 1.2; pointer-events: all; white-space: nowrap; \"><font style=\"font-size: 18px\" face=\"Georgia\">+</font></div></div></div></foreignObject><text x=\"201\" y=\"153\" fill=\"#000000\" font-family=\"Helvetica\" font-size=\"11px\" text-anchor=\"middle\">+</text></switch></g><g transform=\"translate(-0.5 -0.5)\"><switch><foreignObject style=\"overflow: visible; text-align: left;\" pointer-events=\"none\" width=\"100%\" height=\"100%\" requiredFeatures=\"http://www.w3.org/TR/SVG11/feature#Extensibility\"><div xmlns=\"http://www.w3.org/1999/xhtml\" style=\"display: flex; align-items: unsafe center; justify-content: unsafe center; width: 1px; height: 1px; padding-top: 240px; margin-left: 172px;\"><div style=\"box-sizing: border-box; font-size: 0; text-align: center; \"><div style=\"display: inline-block; font-size: 11px; font-family: Helvetica; color: #000000; line-height: 1.2; pointer-events: all; white-space: nowrap; \"><span style=\"font-family: &quot;georgia&quot; ; font-size: 18px\">-</span></div></div></div></foreignObject><text x=\"172\" y=\"243\" fill=\"#000000\" font-family=\"Helvetica\" font-size=\"11px\" text-anchor=\"middle\">-</text></switch></g><path d=\"M 293 29 L 219.31 121.11\" fill=\"none\" stroke=\"#ff0000\" stroke-width=\"3\" stroke-miterlimit=\"10\" stroke-dasharray=\"9 9\" pointer-events=\"stroke\"/><path d=\"M 215.1 126.38 L 217.2 116.54 L 219.31 121.11 L 224.23 122.16 Z\" fill=\"#ff0000\" stroke=\"#ff0000\" stroke-width=\"3\" stroke-miterlimit=\"10\" pointer-events=\"all\"/><g transform=\"translate(-0.5 -0.5)\"><switch><foreignObject style=\"overflow: visible; text-align: left;\" pointer-events=\"none\" width=\"100%\" height=\"100%\" requiredFeatures=\"http://www.w3.org/TR/SVG11/feature#Extensibility\"><div xmlns=\"http://www.w3.org/1999/xhtml\" style=\"display: flex; align-items: unsafe center; justify-content: unsafe center; width: 1px; height: 1px; padding-top: 110px; margin-left: 246px;\"><div style=\"box-sizing: border-box; font-size: 0; text-align: center; \"><div style=\"display: inline-block; font-size: 11px; font-family: Helvetica; color: #FF0000; line-height: 1.2; pointer-events: all; white-space: nowrap; \"><font face=\"Georgia\" size=\"1\"><i style=\"font-size: 18px\">S</i></font></div></div></div></foreignObject><text x=\"246\" y=\"113\" fill=\"#FF0000\" font-family=\"Helvetica\" font-size=\"11px\" text-anchor=\"middle\">S</text></switch></g><g transform=\"translate(-0.5 -0.5)\"><switch><foreignObject style=\"overflow: visible; text-align: left;\" pointer-events=\"none\" width=\"100%\" height=\"100%\" requiredFeatures=\"http://www.w3.org/TR/SVG11/feature#Extensibility\"><div xmlns=\"http://www.w3.org/1999/xhtml\" style=\"display: flex; align-items: unsafe center; justify-content: unsafe center; width: 1px; height: 1px; padding-top: 40px; margin-left: 234px;\"><div style=\"box-sizing: border-box; font-size: 0; text-align: center; \"><div style=\"display: inline-block; font-size: 11px; font-family: Helvetica; color: #000000; line-height: 1.2; pointer-events: all; background-color: #ffffff; white-space: nowrap; \"><font style=\"font-size: 24px\" face=\"Georgia\" color=\"#ff0000\"><i>Q<sub>i</sub> </i>; <i>T<sub>i</sub></i></font></div></div></div></foreignObject><text x=\"234\" y=\"43\" fill=\"#000000\" font-family=\"Helvetica\" font-size=\"11px\" text-anchor=\"middle\">Qi ; Ti</text></switch></g><g transform=\"translate(-0.5 -0.5)\"><switch><foreignObject style=\"overflow: visible; text-align: left;\" pointer-events=\"none\" width=\"100%\" height=\"100%\" requiredFeatures=\"http://www.w3.org/TR/SVG11/feature#Extensibility\"><div xmlns=\"http://www.w3.org/1999/xhtml\" style=\"display: flex; align-items: unsafe center; justify-content: unsafe center; width: 1px; height: 1px; padding-top: 99px; margin-left: 216px;\"><div style=\"box-sizing: border-box; font-size: 0; text-align: center; \"><div style=\"display: inline-block; font-size: 11px; font-family: Helvetica; color: #000000; line-height: 1.2; pointer-events: all; white-space: nowrap; \"><font style=\"font-size: 18px\" face=\"Georgia\">+</font></div></div></div></foreignObject><text x=\"216\" y=\"103\" fill=\"#000000\" font-family=\"Helvetica\" font-size=\"11px\" text-anchor=\"middle\">+</text></switch></g><g transform=\"translate(-0.5 -0.5)\"><switch><foreignObject style=\"overflow: visible; text-align: left;\" pointer-events=\"none\" width=\"100%\" height=\"100%\" requiredFeatures=\"http://www.w3.org/TR/SVG11/feature#Extensibility\"><div xmlns=\"http://www.w3.org/1999/xhtml\" style=\"display: flex; align-items: unsafe center; justify-content: unsafe center; width: 1px; height: 1px; padding-top: 20px; margin-left: 277px;\"><div style=\"box-sizing: border-box; font-size: 0; text-align: center; \"><div style=\"display: inline-block; font-size: 11px; font-family: Helvetica; color: #000000; line-height: 1.2; pointer-events: all; white-space: nowrap; \"><span style=\"font-family: &quot;georgia&quot; ; font-size: 18px\">-</span></div></div></div></foreignObject><text x=\"277\" y=\"23\" fill=\"#000000\" font-family=\"Helvetica\" font-size=\"11px\" text-anchor=\"middle\">-</text></switch></g></g><switch><g requiredFeatures=\"http://www.w3.org/TR/SVG11/feature#Extensibility\"/><a transform=\"translate(0,-5)\" xlink:href=\"https://desk.draw.io/support/solutions/articles/16000042487\" target=\"_blank\"><text text-anchor=\"middle\" font-size=\"10px\" x=\"50%\" y=\"100%\">Viewer does not support full SVG 1.1</text></a></switch></svg>"
      ],
      "execution_count": 12,
      "outputs": [
        {
          "output_type": "display_data",
          "data": {
            "text/plain": [
              "<IPython.core.display.SVG object>"
            ],
            "image/svg+xml": "<svg content=\"&lt;mxfile host=&quot;app.diagrams.net&quot; modified=&quot;2020-11-23T01:33:10.940Z&quot; agent=&quot;5.0 (Macintosh; Intel Mac OS X 10_15_7) AppleWebKit/537.36 (KHTML, like Gecko) Chrome/86.0.4240.198 Safari/537.36&quot; etag=&quot;lMMiFpChhoRHYSCuK61Q&quot; version=&quot;13.10.0&quot; type=&quot;google&quot;&gt;&lt;diagram id=&quot;NupCYMtz4G6lu9XwBuhg&quot; name=&quot;Page-1&quot;&gt;7Vrfk6I4EP5rfJQiCQg8js66+3BbdXtu1dbdW4SAqUHwAEfn/vprJPwIgoqD6FY58wA0SYd0f/0l3XFEZuv914huVt9Dh/kjrDr7EXkdYYyQgeGSSj4yiYEmmcCLuCMalYIF/48JoSqkW+6wWGqYhKGf8I0stMMgYHYiyWgUhTu5mRv68qgb6rEjwcKm/rH0F3eSVSbVECnl3xj3VmJkbIkOa5q3FROJV9QJdxUR+TIisygMk+xuvZ8xP7Vdbpas37zlbfFdEQuSSzr8+mu8VN/e5zr+MbdXi3/m3yd/j4WWd+pvxXxHeOKDvqkbglqwF7WzF5N/t+mXTr+yMPI4LQVw54nroWO8oUE63eTDl3umGsfxwcEv0ACZm/2xFpcH1M9VwWQybfIIIM6+LhdjaTwM8wZ0wMN0t+IJW2yyOewAoCBbJWsfnlDR851FCdu3WhUVvgKMs3DNkugDmogORBX4FvAmlpE970qwIFVAYFUBiilkVODTK1SXPoQb4cYOLsUNLq0bKHBe0tCAJ9unccxt2S4OjVfMEQ9xEoVvBfZJYTbmHAXOWaNVjKI32CSXRcynCX+X1TcZSozwZ8gPYN3Lps1dgmumjsNtZDPRqRoxNT1oIivSSE1RQiOPJUeKDm4rZn29J0kfwanGOaXmMtQeu/z6wF1UopN3jljA0h90CUuHhEPqcy9IQQq4YhEI0lDlwM0v4sWaO06qYxox+D66POhT4XmT+uTgJX060l9B4qfqp9R+86JwGziz0A9B42sQBuwUE4hlRagu2bwK9vYwbKUNVdENpEnoQr1gf4yJYtQUK5OamtB1Y3YTyGqDryeZOMUlTwAvNtxkuK+hFmtNqP1xZqm5dDEDQDRoR5/T/rmpwZWu0wUvWMYbORY/NdPmwTqPdxHVNA/2sxPVXDI9l665/5GNWcxjhAnR4OoVCJXlre7oiIXhuXBothuriqZhsx+C07FCdIngQL1B1OqfNhTf6ef4rvNq2okhnwts+wI70Q0iw4T0AkCkKapqVf5MeRRkKdpg6+2kFX9XEJ5oUOe7EpqNdNe8HRw/EN09FjJTtsKmIYEG94JMQzElFkQyMGFnSKQGZCiUoqac9IpMpjOX2sLVVSHYIP0/hiwPeMKl4kM/VYYsgZ4Vn5J/QC/1ByQDqan8YA5ZfUBNSWvH8oNcccCFoR634oBqVSCNGLKKS0sORK2XHGqKblxyQE0JXL/Vo6NwUFVjPp//Bl7GNefo2pWFpboiTR+2sITOblsv4uNGdgVvuq77rEDdfxuSxfIdSlCWrHSwzTBq3w1fmo3VCw69BsIR0ms1qHi7zGVv1e1zKT5RYykR396saPOz05CPHFSDh02ftQxNXgbyasIAkWJ8OlKedYtb0fLdChfDwc9shd+zbPGowLxd3WJsnQRmXj0YAJdWAy5vnP3M52kp5jfIfgiqHavXT8Mvzn7IfY/V84B4nqvfnqXSr2sHe6/sZZ1ZVm+U7SBdIRJ5ydkPjCu/NYcis3wqj5ENue7B89dlQ3z4bKh9yEcOxsHDqteTXWIoeu3MApnKcPWDfLV/ZkV32Hyeo+9bZUVjExB84tQMqYo1GADbf/H3zIseFZo3zIsMxSInEnasKTru+UAXHsufpGfNy9/1ky//Aw==&lt;/diagram&gt;&lt;/mxfile&gt;\" onclick=\"(function(svg){var src=window.event.target||window.event.srcElement;while (src!=null&amp;&amp;src.nodeName.toLowerCase()!='a'){src=src.parentNode;}if(src==null){if(svg.wnd!=null&amp;&amp;!svg.wnd.closed){svg.wnd.focus();}else{var r=function(evt){if(evt.data=='ready'&amp;&amp;evt.source==svg.wnd){svg.wnd.postMessage(decodeURIComponent(svg.getAttribute('content')),'*');window.removeEventListener('message',r);}};window.addEventListener('message',r);svg.wnd=window.open('https://viewer.diagrams.net/?client=1&amp;page=0&amp;edit=_blank');}}})(this);\" style=\"cursor:pointer;max-width:100%;max-height:251px;\" version=\"1.1\" viewBox=\"-0.5 -0.5 387 251\" width=\"387px\" xmlns=\"http://www.w3.org/2000/svg\" xmlns:xlink=\"http://www.w3.org/1999/xlink\"><defs/><g><ellipse cx=\"335\" cy=\"136\" fill=\"#ffffff\" pointer-events=\"all\" rx=\"50\" ry=\"40\" stroke=\"#000000\"/><g transform=\"translate(-0.5 -0.5)\"><switch><foreignObject height=\"100%\" pointer-events=\"none\" requiredFeatures=\"http://www.w3.org/TR/SVG11/feature#Extensibility\" style=\"overflow: visible; text-align: left;\" width=\"100%\"><div style=\"display: flex; align-items: unsafe center; justify-content: unsafe center; width: 98px; height: 1px; padding-top: 136px; margin-left: 286px;\" xmlns=\"http://www.w3.org/1999/xhtml\"><div style=\"box-sizing: border-box; font-size: 0; text-align: center; \"><div style=\"display: inline-block; font-size: 12px; font-family: Helvetica; color: #000000; line-height: 1.2; pointer-events: all; white-space: normal; word-wrap: normal; \"><font face=\"Georgia\"><span style=\"font-size: 18px\">final</span></font></div></div></div></foreignObject><text fill=\"#000000\" font-family=\"Helvetica\" font-size=\"12px\" text-anchor=\"middle\" x=\"335\" y=\"140\">final</text></switch></g><path d=\"M 63 19 L 137.06 120.83\" fill=\"none\" pointer-events=\"stroke\" stroke=\"#000000\" stroke-dasharray=\"9 9\" stroke-miterlimit=\"10\" stroke-width=\"3\"/><path d=\"M 141.03 126.29 L 132.09 121.66 L 137.06 120.83 L 139.37 116.36 Z\" fill=\"#000000\" pointer-events=\"all\" stroke=\"#000000\" stroke-miterlimit=\"10\" stroke-width=\"3\"/><g transform=\"translate(-0.5 -0.5)\"><switch><foreignObject height=\"100%\" pointer-events=\"none\" requiredFeatures=\"http://www.w3.org/TR/SVG11/feature#Extensibility\" style=\"overflow: visible; text-align: left;\" width=\"100%\"><div style=\"display: flex; align-items: unsafe center; justify-content: unsafe center; width: 1px; height: 1px; padding-top: 107px; margin-left: 104px;\" xmlns=\"http://www.w3.org/1999/xhtml\"><div style=\"box-sizing: border-box; font-size: 0; text-align: center; \"><div style=\"display: inline-block; font-size: 11px; font-family: Helvetica; color: #000000; line-height: 1.2; pointer-events: all; white-space: nowrap; \"><font face=\"Georgia\" size=\"1\"><i style=\"font-size: 18px\">S</i></font></div></div></div></foreignObject><text fill=\"#000000\" font-family=\"Helvetica\" font-size=\"11px\" text-anchor=\"middle\" x=\"104\" y=\"110\">S</text></switch></g><g transform=\"translate(-0.5 -0.5)\"><switch><foreignObject height=\"100%\" pointer-events=\"none\" requiredFeatures=\"http://www.w3.org/TR/SVG11/feature#Extensibility\" style=\"overflow: visible; text-align: left;\" width=\"100%\"><div style=\"display: flex; align-items: unsafe center; justify-content: unsafe center; width: 1px; height: 1px; padding-top: 50px; margin-left: 34px;\" xmlns=\"http://www.w3.org/1999/xhtml\"><div style=\"box-sizing: border-box; font-size: 0; text-align: center; \"><div style=\"display: inline-block; font-size: 11px; font-family: Helvetica; color: #000000; line-height: 1.2; pointer-events: all; background-color: #ffffff; white-space: nowrap; \"><font face=\"Georgia\"><span style=\"font-style: italic ; font-size: 24px\">Q</span><span style=\"font-size: 20px\">1</span><span style=\"font-style: italic ; font-size: 24px\"> </span><span style=\"font-size: 24px\">; </span><i style=\"font-size: 24px\">T</i></font><span style=\"font-family: &quot;georgia&quot; ; font-size: 20px\">1</span></div></div></div></foreignObject><text fill=\"#000000\" font-family=\"Helvetica\" font-size=\"11px\" text-anchor=\"middle\" x=\"34\" y=\"53\">Q1 ; T1</text></switch></g><g transform=\"translate(-0.5 -0.5)\"><switch><foreignObject height=\"100%\" pointer-events=\"none\" requiredFeatures=\"http://www.w3.org/TR/SVG11/feature#Extensibility\" style=\"overflow: visible; text-align: left;\" width=\"100%\"><div style=\"display: flex; align-items: unsafe center; justify-content: unsafe center; width: 1px; height: 1px; padding-top: 93px; margin-left: 142px;\" xmlns=\"http://www.w3.org/1999/xhtml\"><div style=\"box-sizing: border-box; font-size: 0; text-align: center; \"><div style=\"display: inline-block; font-size: 11px; font-family: Helvetica; color: #000000; line-height: 1.2; pointer-events: all; white-space: nowrap; \"><font face=\"Georgia\" style=\"font-size: 18px\">+</font></div></div></div></foreignObject><text fill=\"#000000\" font-family=\"Helvetica\" font-size=\"11px\" text-anchor=\"middle\" x=\"142\" y=\"97\">+</text></switch></g><g transform=\"translate(-0.5 -0.5)\"><switch><foreignObject height=\"100%\" pointer-events=\"none\" requiredFeatures=\"http://www.w3.org/TR/SVG11/feature#Extensibility\" style=\"overflow: visible; text-align: left;\" width=\"100%\"><div style=\"display: flex; align-items: unsafe center; justify-content: unsafe center; width: 1px; height: 1px; padding-top: 10px; margin-left: 84px;\" xmlns=\"http://www.w3.org/1999/xhtml\"><div style=\"box-sizing: border-box; font-size: 0; text-align: center; \"><div style=\"display: inline-block; font-size: 11px; font-family: Helvetica; color: #000000; line-height: 1.2; pointer-events: all; white-space: nowrap; \"><span style=\"font-family: &quot;georgia&quot; ; font-size: 18px\">-</span></div></div></div></foreignObject><text fill=\"#000000\" font-family=\"Helvetica\" font-size=\"11px\" text-anchor=\"middle\" x=\"84\" y=\"13\">-</text></switch></g><ellipse cx=\"40\" cy=\"136\" fill=\"#ffffff\" pointer-events=\"all\" rx=\"40\" ry=\"40\" stroke=\"#808080\"/><g transform=\"translate(-0.5 -0.5)\"><switch><foreignObject height=\"100%\" pointer-events=\"none\" requiredFeatures=\"http://www.w3.org/TR/SVG11/feature#Extensibility\" style=\"overflow: visible; text-align: left;\" width=\"100%\"><div style=\"display: flex; align-items: unsafe center; justify-content: unsafe center; width: 78px; height: 1px; padding-top: 136px; margin-left: 1px;\" xmlns=\"http://www.w3.org/1999/xhtml\"><div style=\"box-sizing: border-box; font-size: 0; text-align: center; \"><div style=\"display: inline-block; font-size: 12px; font-family: Helvetica; color: #000000; line-height: 1.2; pointer-events: all; white-space: normal; word-wrap: normal; \"><font color=\"#808080\" face=\"Georgia\" style=\"font-size: 18px\">initial</font></div></div></div></foreignObject><text fill=\"#000000\" font-family=\"Helvetica\" font-size=\"12px\" text-anchor=\"middle\" x=\"40\" y=\"140\">initial</text></switch></g><path d=\"M 85 136 L 274.76 136\" fill=\"none\" pointer-events=\"stroke\" stroke=\"#000000\" stroke-miterlimit=\"10\" stroke-width=\"2\"/><path d=\"M 280.76 136 L 272.76 140 L 274.76 136 L 272.76 132 Z\" fill=\"#000000\" pointer-events=\"all\" stroke=\"#000000\" stroke-miterlimit=\"10\" stroke-width=\"2\"/><path d=\"M 183 239 L 183 159.1\" fill=\"none\" pointer-events=\"stroke\" stroke=\"#007fff\" stroke-dasharray=\"9 9\" stroke-miterlimit=\"10\" stroke-width=\"3\"/><path d=\"M 183 152.35 L 187.5 161.35 L 183 159.1 L 178.5 161.35 Z\" fill=\"#007fff\" pointer-events=\"all\" stroke=\"#007fff\" stroke-miterlimit=\"10\" stroke-width=\"3\"/><g transform=\"translate(-0.5 -0.5)\"><switch><foreignObject height=\"100%\" pointer-events=\"none\" requiredFeatures=\"http://www.w3.org/TR/SVG11/feature#Extensibility\" style=\"overflow: visible; text-align: left;\" width=\"100%\"><div style=\"display: flex; align-items: unsafe center; justify-content: unsafe center; width: 1px; height: 1px; padding-top: 180px; margin-left: 174px;\" xmlns=\"http://www.w3.org/1999/xhtml\"><div style=\"box-sizing: border-box; font-size: 0; text-align: center; \"><div style=\"display: inline-block; font-size: 11px; font-family: Helvetica; color: #000000; line-height: 1.2; pointer-events: all; white-space: nowrap; \"><font color=\"#007fff\" face=\"Georgia\" size=\"1\"><i style=\"font-size: 18px\">S</i></font></div></div></div></foreignObject><text fill=\"#000000\" font-family=\"Helvetica\" font-size=\"11px\" text-anchor=\"middle\" x=\"174\" y=\"183\">S</text></switch></g><g transform=\"translate(-0.5 -0.5)\"><switch><foreignObject height=\"100%\" pointer-events=\"none\" requiredFeatures=\"http://www.w3.org/TR/SVG11/feature#Extensibility\" style=\"overflow: visible; text-align: left;\" width=\"100%\"><div style=\"display: flex; align-items: unsafe center; justify-content: unsafe center; width: 1px; height: 1px; padding-top: 210px; margin-left: 224px;\" xmlns=\"http://www.w3.org/1999/xhtml\"><div style=\"box-sizing: border-box; font-size: 0; text-align: center; \"><div style=\"display: inline-block; font-size: 11px; font-family: Helvetica; color: #000000; line-height: 1.2; pointer-events: all; background-color: #ffffff; white-space: nowrap; \"><font color=\"#007fff\" face=\"Georgia\" style=\"font-size: 24px\"><i>Q<sub>k</sub> </i>; <i>T<sub>k</sub></i></font></div></div></div></foreignObject><text fill=\"#000000\" font-family=\"Helvetica\" font-size=\"11px\" text-anchor=\"middle\" x=\"224\" y=\"213\">Qk ; Tk</text></switch></g><g transform=\"translate(-0.5 -0.5)\"><switch><foreignObject height=\"100%\" pointer-events=\"none\" requiredFeatures=\"http://www.w3.org/TR/SVG11/feature#Extensibility\" style=\"overflow: visible; text-align: left;\" width=\"100%\"><div style=\"display: flex; align-items: unsafe center; justify-content: unsafe center; width: 1px; height: 1px; padding-top: 150px; margin-left: 201px;\" xmlns=\"http://www.w3.org/1999/xhtml\"><div style=\"box-sizing: border-box; font-size: 0; text-align: center; \"><div style=\"display: inline-block; font-size: 11px; font-family: Helvetica; color: #000000; line-height: 1.2; pointer-events: all; white-space: nowrap; \"><font face=\"Georgia\" style=\"font-size: 18px\">+</font></div></div></div></foreignObject><text fill=\"#000000\" font-family=\"Helvetica\" font-size=\"11px\" text-anchor=\"middle\" x=\"201\" y=\"153\">+</text></switch></g><g transform=\"translate(-0.5 -0.5)\"><switch><foreignObject height=\"100%\" pointer-events=\"none\" requiredFeatures=\"http://www.w3.org/TR/SVG11/feature#Extensibility\" style=\"overflow: visible; text-align: left;\" width=\"100%\"><div style=\"display: flex; align-items: unsafe center; justify-content: unsafe center; width: 1px; height: 1px; padding-top: 240px; margin-left: 172px;\" xmlns=\"http://www.w3.org/1999/xhtml\"><div style=\"box-sizing: border-box; font-size: 0; text-align: center; \"><div style=\"display: inline-block; font-size: 11px; font-family: Helvetica; color: #000000; line-height: 1.2; pointer-events: all; white-space: nowrap; \"><span style=\"font-family: &quot;georgia&quot; ; font-size: 18px\">-</span></div></div></div></foreignObject><text fill=\"#000000\" font-family=\"Helvetica\" font-size=\"11px\" text-anchor=\"middle\" x=\"172\" y=\"243\">-</text></switch></g><path d=\"M 293 29 L 219.31 121.11\" fill=\"none\" pointer-events=\"stroke\" stroke=\"#ff0000\" stroke-dasharray=\"9 9\" stroke-miterlimit=\"10\" stroke-width=\"3\"/><path d=\"M 215.1 126.38 L 217.2 116.54 L 219.31 121.11 L 224.23 122.16 Z\" fill=\"#ff0000\" pointer-events=\"all\" stroke=\"#ff0000\" stroke-miterlimit=\"10\" stroke-width=\"3\"/><g transform=\"translate(-0.5 -0.5)\"><switch><foreignObject height=\"100%\" pointer-events=\"none\" requiredFeatures=\"http://www.w3.org/TR/SVG11/feature#Extensibility\" style=\"overflow: visible; text-align: left;\" width=\"100%\"><div style=\"display: flex; align-items: unsafe center; justify-content: unsafe center; width: 1px; height: 1px; padding-top: 110px; margin-left: 246px;\" xmlns=\"http://www.w3.org/1999/xhtml\"><div style=\"box-sizing: border-box; font-size: 0; text-align: center; \"><div style=\"display: inline-block; font-size: 11px; font-family: Helvetica; color: #FF0000; line-height: 1.2; pointer-events: all; white-space: nowrap; \"><font face=\"Georgia\" size=\"1\"><i style=\"font-size: 18px\">S</i></font></div></div></div></foreignObject><text fill=\"#FF0000\" font-family=\"Helvetica\" font-size=\"11px\" text-anchor=\"middle\" x=\"246\" y=\"113\">S</text></switch></g><g transform=\"translate(-0.5 -0.5)\"><switch><foreignObject height=\"100%\" pointer-events=\"none\" requiredFeatures=\"http://www.w3.org/TR/SVG11/feature#Extensibility\" style=\"overflow: visible; text-align: left;\" width=\"100%\"><div style=\"display: flex; align-items: unsafe center; justify-content: unsafe center; width: 1px; height: 1px; padding-top: 40px; margin-left: 234px;\" xmlns=\"http://www.w3.org/1999/xhtml\"><div style=\"box-sizing: border-box; font-size: 0; text-align: center; \"><div style=\"display: inline-block; font-size: 11px; font-family: Helvetica; color: #000000; line-height: 1.2; pointer-events: all; background-color: #ffffff; white-space: nowrap; \"><font color=\"#ff0000\" face=\"Georgia\" style=\"font-size: 24px\"><i>Q<sub>i</sub> </i>; <i>T<sub>i</sub></i></font></div></div></div></foreignObject><text fill=\"#000000\" font-family=\"Helvetica\" font-size=\"11px\" text-anchor=\"middle\" x=\"234\" y=\"43\">Qi ; Ti</text></switch></g><g transform=\"translate(-0.5 -0.5)\"><switch><foreignObject height=\"100%\" pointer-events=\"none\" requiredFeatures=\"http://www.w3.org/TR/SVG11/feature#Extensibility\" style=\"overflow: visible; text-align: left;\" width=\"100%\"><div style=\"display: flex; align-items: unsafe center; justify-content: unsafe center; width: 1px; height: 1px; padding-top: 99px; margin-left: 216px;\" xmlns=\"http://www.w3.org/1999/xhtml\"><div style=\"box-sizing: border-box; font-size: 0; text-align: center; \"><div style=\"display: inline-block; font-size: 11px; font-family: Helvetica; color: #000000; line-height: 1.2; pointer-events: all; white-space: nowrap; \"><font face=\"Georgia\" style=\"font-size: 18px\">+</font></div></div></div></foreignObject><text fill=\"#000000\" font-family=\"Helvetica\" font-size=\"11px\" text-anchor=\"middle\" x=\"216\" y=\"103\">+</text></switch></g><g transform=\"translate(-0.5 -0.5)\"><switch><foreignObject height=\"100%\" pointer-events=\"none\" requiredFeatures=\"http://www.w3.org/TR/SVG11/feature#Extensibility\" style=\"overflow: visible; text-align: left;\" width=\"100%\"><div style=\"display: flex; align-items: unsafe center; justify-content: unsafe center; width: 1px; height: 1px; padding-top: 20px; margin-left: 277px;\" xmlns=\"http://www.w3.org/1999/xhtml\"><div style=\"box-sizing: border-box; font-size: 0; text-align: center; \"><div style=\"display: inline-block; font-size: 11px; font-family: Helvetica; color: #000000; line-height: 1.2; pointer-events: all; white-space: nowrap; \"><span style=\"font-family: &quot;georgia&quot; ; font-size: 18px\">-</span></div></div></div></foreignObject><text fill=\"#000000\" font-family=\"Helvetica\" font-size=\"11px\" text-anchor=\"middle\" x=\"277\" y=\"23\">-</text></switch></g></g><switch><g requiredFeatures=\"http://www.w3.org/TR/SVG11/feature#Extensibility\"/><a target=\"_blank\" transform=\"translate(0,-5)\" xlink:href=\"https://desk.draw.io/support/solutions/articles/16000042487\"><text font-size=\"10px\" text-anchor=\"middle\" x=\"50%\" y=\"100%\">Viewer does not support full SVG 1.1</text></a></switch></svg>"
          },
          "metadata": {
            "tags": []
          }
        }
      ]
    },
    {
      "cell_type": "markdown",
      "metadata": {
        "id": "bru8CrNZu_S3"
      },
      "source": [
        "\\begin{align}\n",
        "S_{\\rm B} - S_{\\rm A} \n",
        "&= \\sum_i \\dfrac{Q_i}{T_i} \\quad {\\rm [J/K]}\\\\[2mm]\n",
        "&= \\sum_i \\dfrac{\\Delta Q_i}{T_i} \n",
        "\\to \\int_{\\rm A}^{\\rm B} \\dfrac{{\\rm d} Q_i}{T_i}\n",
        "\\end{align}\n",
        "\n",
        "---\n",
        "NB. $T_i$ is in absolute temperature.  $T_i\\geqq 0$\n"
      ]
    },
    {
      "cell_type": "code",
      "metadata": {
        "colab": {
          "base_uri": "https://localhost:8080/",
          "height": 336
        },
        "id": "wDW6ezb6e5yl",
        "outputId": "2ea9c9f4-f5cf-4c2b-eb3e-b85cdc377815"
      },
      "source": [
        "%%html\n",
        "<iframe width=\"560\" height=\"315\" src=\"https://www.youtube-nocookie.com/embed/YM-uykVfq_E\" frameborder=\"0\" allow=\"accelerometer; autoplay; clipboard-write; encrypted-media; gyroscope; picture-in-picture\" allowfullscreen></iframe>"
      ],
      "execution_count": 7,
      "outputs": [
        {
          "output_type": "display_data",
          "data": {
            "text/html": [
              "<iframe width=\"560\" height=\"315\" src=\"https://www.youtube-nocookie.com/embed/YM-uykVfq_E\" frameborder=\"0\" allow=\"accelerometer; autoplay; clipboard-write; encrypted-media; gyroscope; picture-in-picture\" allowfullscreen></iframe>"
            ],
            "text/plain": [
              "<IPython.core.display.HTML object>"
            ]
          },
          "metadata": {
            "tags": []
          }
        }
      ]
    },
    {
      "cell_type": "code",
      "metadata": {
        "colab": {
          "base_uri": "https://localhost:8080/",
          "height": 336
        },
        "id": "l9yfLR5LBhF4",
        "outputId": "c44f69f6-f56e-4d3c-d491-b1b44e7f2249"
      },
      "source": [
        "%%html\n",
        "<iframe width=\"560\" height=\"315\" src=\"https://www.youtube-nocookie.com/embed/o_PmWaW-JNE\" frameborder=\"0\" allow=\"accelerometer; autoplay; clipboard-write; encrypted-media; gyroscope; picture-in-picture\" allowfullscreen></iframe>"
      ],
      "execution_count": 2,
      "outputs": [
        {
          "output_type": "display_data",
          "data": {
            "text/html": [
              "<iframe width=\"560\" height=\"315\" src=\"https://www.youtube-nocookie.com/embed/o_PmWaW-JNE\" frameborder=\"0\" allow=\"accelerometer; autoplay; clipboard-write; encrypted-media; gyroscope; picture-in-picture\" allowfullscreen></iframe>"
            ],
            "text/plain": [
              "<IPython.core.display.HTML object>"
            ]
          },
          "metadata": {
            "tags": []
          }
        }
      ]
    },
    {
      "cell_type": "markdown",
      "metadata": {
        "id": "188P3TkHwKu1"
      },
      "source": [
        "> Calculate entropy in example No.3"
      ]
    },
    {
      "cell_type": "markdown",
      "metadata": {
        "id": "tTd1q2NCwxju"
      },
      "source": [
        "## エントロピー増大の原理"
      ]
    },
    {
      "cell_type": "markdown",
      "metadata": {
        "id": "pCO_-aSWxMZ5"
      },
      "source": [
        "\\begin{align}\n",
        "W_{\\rm ideal} = Q_{\\rm H} - Q_{\\rm L} &> W_{\\rm real} = Q_{\\rm H} - Q'_{\\rm L:real},\\\\\n",
        "0 = \\dfrac{Q_{\\rm H}}{T_{\\rm H}} + \\dfrac{(-Q_{\\rm L})}{T_{\\rm L}} \n",
        "&> \\dfrac{Q_{\\rm H}}{T_{\\rm H}} + \\dfrac{(-Q'_{\\rm L:real})}{T_{\\rm L}}\\\\[1mm]\n",
        "0 &> \\dfrac{Q_{\\rm H}}{T_{\\rm H}} + \\dfrac{(-Q'_{\\rm L:real})}{T_{\\rm L}}\\\\[1mm]\n",
        "0 &> \\dfrac{Q_1}{T_1} + \\dfrac{(-Q'_2)}{T_2}\\\\[2mm]\n",
        "S'_2=\\dfrac{Q'_2}{T_2}&>\\dfrac{Q_1}{T_1}=S_1\\\\[1mm]\n",
        "S'_2 &>  S_1\n",
        "\\end{align}\n"
      ]
    },
    {
      "cell_type": "markdown",
      "metadata": {
        "id": "TQY2vSSuyHG6"
      },
      "source": [
        "$\\require{cancel}$\n",
        "In **a irrevsesible cycle** as in (15.35) on p183\n",
        "\\begin{align}\n",
        "\\eta' &< \\eta\\\\[1mm]\n",
        "\\dfrac{Q_1 + Q_2}{Q_1} &< \\dfrac{T_1 - T_2}{T_1}\\\\[1mm]\n",
        "\\cancel{1} + \\dfrac{Q_2}{Q_1} &< \\cancel{1} - \\dfrac{T_2}{T_1}\\\\[1mm]\n",
        "\\dfrac{Q_2}{T_2} &< - \\dfrac{Q_1}{T_1}\\\\[2mm]\n",
        "\\dfrac{Q_1}{T_1} + \\dfrac{Q_2}{T_2} &< 0.\n",
        "\\end{align}\n",
        "It can be extended to\n",
        "\\begin{align}\n",
        "\\sum_{i} \\dfrac{Q_i}{T_i} &< 0.\n",
        "\\end{align}\n",
        "\n",
        "> It is called as the **Clausius inequality**(クラウジウスの不等式).\n"
      ]
    },
    {
      "cell_type": "markdown",
      "metadata": {
        "id": "nJoz2APq0tsO"
      },
      "source": [
        "$\\require{cancel}$\n",
        "Let us think about a combined cycle ${\\rm B \\rightsquigarrow A;\\ A \\to B}$ between a irreversible and reversible ones as in 図15.21 on p188:\n",
        "\\begin{align}\n",
        "\\sum_{i{\\rm (B \\rightsquigarrow A)}}^{\\rm w/o\\ Heat\\ Bath}  \\dfrac{\\cancelto{0}{Q_i}}{T_i}\n",
        "+ \\cancelto{S_{\\rm B}-S_{\\rm A}}\n",
        "{\\sum_{i{\\rm (A \\to B)}}^{\\rm with\\ HB} \\dfrac{Q_i}{T_i}} &< 0\\\\\n",
        "0 + S_{\\rm B}-S_{\\rm A} &< 0\\\\[2mm]\n",
        "\\begin{cases}\n",
        " S_{\\rm A} &> S_{\\rm B} \\quad \\text{in a irreversible process}\\\\[1mm]\n",
        " S_{\\rm A} &= S_{\\rm B} \\quad \\text{in a reversible process}\n",
        "\\end{cases}\n",
        "\\end{align}"
      ]
    },
    {
      "cell_type": "code",
      "metadata": {
        "colab": {
          "base_uri": "https://localhost:8080/",
          "height": 336
        },
        "id": "J_yOxYq4g8i0",
        "outputId": "dd83e68e-35f7-40b3-9c1a-3069c602cd6e"
      },
      "source": [
        "%%html\n",
        "<iframe width=\"560\" height=\"315\" src=\"https://www.youtube-nocookie.com/embed/gS_C7dM25pc\" frameborder=\"0\" allow=\"accelerometer; autoplay; clipboard-write; encrypted-media; gyroscope; picture-in-picture\" allowfullscreen></iframe>"
      ],
      "execution_count": 8,
      "outputs": [
        {
          "output_type": "display_data",
          "data": {
            "text/html": [
              "<iframe width=\"560\" height=\"315\" src=\"https://www.youtube-nocookie.com/embed/gS_C7dM25pc\" frameborder=\"0\" allow=\"accelerometer; autoplay; clipboard-write; encrypted-media; gyroscope; picture-in-picture\" allowfullscreen></iframe>"
            ],
            "text/plain": [
              "<IPython.core.display.HTML object>"
            ]
          },
          "metadata": {
            "tags": []
          }
        }
      ]
    },
    {
      "cell_type": "code",
      "metadata": {
        "colab": {
          "base_uri": "https://localhost:8080/",
          "height": 336
        },
        "id": "myLbOQpraqyB",
        "outputId": "16d182dd-9c09-400c-ede9-bbdd80092044"
      },
      "source": [
        "#@title https://www.youtube.com/watch?v=yKbJ9leUNDE&list=PLoaVOjvkzQtyZF-2VpJrxPz7bxK_p1Dd2\n",
        "%%html\n",
        "<iframe width=\"560\" height=\"315\" src=\"https://www.youtube-nocookie.com/embed/yKbJ9leUNDE\" frameborder=\"0\" allow=\"accelerometer; autoplay; clipboard-write; encrypted-media; gyroscope; picture-in-picture\" allowfullscreen></iframe>"
      ],
      "execution_count": 4,
      "outputs": [
        {
          "output_type": "display_data",
          "data": {
            "text/html": [
              "<iframe width=\"560\" height=\"315\" src=\"https://www.youtube-nocookie.com/embed/yKbJ9leUNDE\" frameborder=\"0\" allow=\"accelerometer; autoplay; clipboard-write; encrypted-media; gyroscope; picture-in-picture\" allowfullscreen></iframe>"
            ],
            "text/plain": [
              "<IPython.core.display.HTML object>"
            ]
          },
          "metadata": {
            "tags": []
          }
        }
      ]
    },
    {
      "cell_type": "code",
      "metadata": {
        "colab": {
          "base_uri": "https://localhost:8080/",
          "height": 336
        },
        "id": "3XhxhX9kaWVj",
        "outputId": "f422fe3b-0817-4f79-d2e4-b445120e4817"
      },
      "source": [
        "%%html\n",
        "<iframe width=\"560\" height=\"315\" src=\"https://www.youtube-nocookie.com/embed/870y6GUKbwc\" frameborder=\"0\" allow=\"accelerometer; autoplay; clipboard-write; encrypted-media; gyroscope; picture-in-picture\" allowfullscreen></iframe>"
      ],
      "execution_count": 5,
      "outputs": [
        {
          "output_type": "display_data",
          "data": {
            "text/html": [
              "<iframe width=\"560\" height=\"315\" src=\"https://www.youtube-nocookie.com/embed/870y6GUKbwc\" frameborder=\"0\" allow=\"accelerometer; autoplay; clipboard-write; encrypted-media; gyroscope; picture-in-picture\" allowfullscreen></iframe>"
            ],
            "text/plain": [
              "<IPython.core.display.HTML object>"
            ]
          },
          "metadata": {
            "tags": []
          }
        }
      ]
    }
  ]
}