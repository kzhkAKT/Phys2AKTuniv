{
  "nbformat": 4,
  "nbformat_minor": 0,
  "metadata": {
    "colab": {
      "name": "1104_粘性抵抗と慣性抵抗",
      "provenance": [],
      "toc_visible": true,
      "authorship_tag": "ABX9TyOWrW4UhFplu0RatRXjIXNw",
      "include_colab_link": true
    },
    "kernelspec": {
      "name": "python3",
      "display_name": "Python 3"
    }
  },
  "cells": [
    {
      "cell_type": "markdown",
      "metadata": {
        "id": "view-in-github",
        "colab_type": "text"
      },
      "source": [
        "<a href=\"https://colab.research.google.com/github/kzhkAKT/Phys2AKTuniv/blob/draft/01_Jan/1104_%E7%B2%98%E6%80%A7%E6%8A%B5%E6%8A%97%E3%81%A8%E6%85%A3%E6%80%A7%E6%8A%B5%E6%8A%97.ipynb\" target=\"_parent\"><img src=\"https://colab.research.google.com/assets/colab-badge.svg\" alt=\"Open In Colab\"/></a>"
      ]
    },
    {
      "cell_type": "markdown",
      "metadata": {
        "id": "pSIrAx6Gc8H3"
      },
      "source": [
        "# 流体力学"
      ]
    },
    {
      "cell_type": "markdown",
      "metadata": {
        "id": "RBu61HbPC1n-"
      },
      "source": [
        "## 粘性抵抗と慣性抵抗"
      ]
    },
    {
      "cell_type": "markdown",
      "metadata": {
        "id": "9HSgDaq6Hj-S"
      },
      "source": [
        "### 粘性力"
      ]
    },
    {
      "cell_type": "code",
      "metadata": {
        "id": "rcnfPBOjCi_K",
        "colab": {
          "base_uri": "https://localhost:8080/",
          "height": 336
        },
        "cellView": "form",
        "outputId": "a61a60a1-df14-4b10-9613-1ea0163e88b4"
      },
      "source": [
        "#@title 粘性力の確認\n",
        "#@markdown マイクをoff にして、各自の環境で下記の動画を確認して下さい。\n",
        "%%html\n",
        "<iframe width=\"560\" height=\"315\" src=\"https://www.youtube-nocookie.com/embed/UVcyea3ZH54\" frameborder=\"0\" allow=\"accelerometer; autoplay; clipboard-write; encrypted-media; gyroscope; picture-in-picture\" allowfullscreen></iframe>"
      ],
      "execution_count": null,
      "outputs": [
        {
          "output_type": "display_data",
          "data": {
            "text/html": [
              "<iframe width=\"560\" height=\"315\" src=\"https://www.youtube-nocookie.com/embed/UVcyea3ZH54\" frameborder=\"0\" allow=\"accelerometer; autoplay; clipboard-write; encrypted-media; gyroscope; picture-in-picture\" allowfullscreen></iframe>"
            ],
            "text/plain": [
              "<IPython.core.display.HTML object>"
            ]
          },
          "metadata": {
            "tags": []
          }
        }
      ]
    },
    {
      "cell_type": "markdown",
      "metadata": {
        "id": "9FJVVh4KK6YC"
      },
      "source": [
        "- 流体に力が加わったときに、引き摺られる様に働く、接線応力\n",
        "- 深さ方向の速度勾配を減らし、速度が一様になる様に作用する力"
      ]
    },
    {
      "cell_type": "code",
      "metadata": {
        "cellView": "form",
        "id": "7tK2uHgaLl0M",
        "outputId": "fe7089cb-0374-4375-8655-b29fdd88b962",
        "colab": {
          "base_uri": "https://localhost:8080/",
          "height": 336
        }
      },
      "source": [
        "#@title 実験: 滑りなし条件の確認\n",
        "#@markdown 底に付着した顔料が、丈夫の流れに対して動いていないことを確認して下さい。\n",
        "%%html\n",
        "<iframe width=\"560\" height=\"315\" src=\"https://www.youtube-nocookie.com/embed/cUTkqZeiMow\" frameborder=\"0\" allow=\"accelerometer; autoplay; clipboard-write; encrypted-media; gyroscope; picture-in-picture\" allowfullscreen></iframe>"
      ],
      "execution_count": 4,
      "outputs": [
        {
          "output_type": "display_data",
          "data": {
            "text/html": [
              "<iframe width=\"560\" height=\"315\" src=\"https://www.youtube-nocookie.com/embed/cUTkqZeiMow\" frameborder=\"0\" allow=\"accelerometer; autoplay; clipboard-write; encrypted-media; gyroscope; picture-in-picture\" allowfullscreen></iframe>"
            ],
            "text/plain": [
              "<IPython.core.display.HTML object>"
            ]
          },
          "metadata": {
            "tags": []
          }
        }
      ]
    },
    {
      "cell_type": "markdown",
      "metadata": {
        "id": "CcHZlxSiMEII"
      },
      "source": [
        "\\begin{align}\n",
        "\\tau = \\eta \\dfrac{{\\rm d}v}{{\\rm d} y}\n",
        "\\end{align}\n",
        "\n",
        "- $\\tau$(タウ) の単位は ${\\rm ([N])}$\n",
        "- $\\eta$(イータ) の単位は ${\\rm ([N/(m/s)/m]= [Pa\\cdot s])}$\n",
        "\n",
        "\n",
        "---\n",
        "と見ると、深さによって変化する様子を捉えていることがわかります。\n",
        "\\begin{align}\n",
        "\\tau = \\eta \\dfrac{{\\rm d}v}{{\\rm d} y} \n",
        "= \\lim_{\\Delta y \\to 0}  \\dfrac{\\Delta v}{\\Delta y}\n",
        "\\end{align}\n"
      ]
    },
    {
      "cell_type": "markdown",
      "metadata": {
        "id": "kh2oGQxOHne6"
      },
      "source": [
        "### ハーゲン-ポアズイユの法則"
      ]
    },
    {
      "cell_type": "markdown",
      "metadata": {
        "id": "7NvLTxKqIHjs"
      },
      "source": [
        "流線が、急激な加速をせず、慣性系の運動を行うと仮定すると初等的に導出可能です。  \n",
        "実際には、[ナビエ–ストークス方程式](https://ja.wikipedia.org/wiki/%E3%83%8A%E3%83%93%E3%82%A8%E2%80%93%E3%82%B9%E3%83%88%E3%83%BC%E3%82%AF%E3%82%B9%E6%96%B9%E7%A8%8B%E5%BC%8F)を解く必要があります。\n",
        "\n",
        "流量 $Q\\ {\\rm [m^3/s]}$ とし、教科書 p127 図11.16 を利用すると\n",
        "\\begin{align}\n",
        "\bQ = \\dfrac{\\pi R^4}{8\\eta L}(p_A - p_B)\n",
        "\\end{align}\n",
        "\n",
        "---\n",
        "参考URL\n",
        "- https://bloodystream.hatenadiary.jp/entry/2020/05/06/021138\n",
        "- https://en.wikipedia.org/wiki/Hagen%E2%80%93Poiseuille_equation"
      ]
    },
    {
      "cell_type": "markdown",
      "metadata": {
        "id": "bllXPriMHwGu"
      },
      "source": [
        "### 粘性抵抗"
      ]
    },
    {
      "cell_type": "markdown",
      "metadata": {
        "id": "oooy2qkUHyMt"
      },
      "source": [
        "### 慣性抵抗"
      ]
    },
    {
      "cell_type": "markdown",
      "metadata": {
        "id": "M4j5-kyiH4Ju"
      },
      "source": [
        "### 層流と乱流"
      ]
    },
    {
      "cell_type": "markdown",
      "metadata": {
        "id": "Fb3yWdapIJbZ"
      },
      "source": [
        "- https://en.wikipedia.org/wiki/Laminar_flow\n",
        "- https://en.wikipedia.org/wiki/Turbulence"
      ]
    },
    {
      "cell_type": "code",
      "metadata": {
        "cellView": "form",
        "id": "3QhyIEBQOI3J",
        "outputId": "baec36f2-4e51-4109-a634-60a427535119",
        "colab": {
          "base_uri": "https://localhost:8080/",
          "height": 336
        }
      },
      "source": [
        "#@title 層流\n",
        "%%html\n",
        "<iframe width=\"560\" height=\"315\" src=\"https://www.youtube-nocookie.com/embed/p08_KlTKP50\" frameborder=\"0\" allow=\"accelerometer; autoplay; clipboard-write; encrypted-media; gyroscope; picture-in-picture\" allowfullscreen></iframe>"
      ],
      "execution_count": 6,
      "outputs": [
        {
          "output_type": "display_data",
          "data": {
            "text/html": [
              "<iframe width=\"560\" height=\"315\" src=\"https://www.youtube-nocookie.com/embed/p08_KlTKP50\" frameborder=\"0\" allow=\"accelerometer; autoplay; clipboard-write; encrypted-media; gyroscope; picture-in-picture\" allowfullscreen></iframe>"
            ],
            "text/plain": [
              "<IPython.core.display.HTML object>"
            ]
          },
          "metadata": {
            "tags": []
          }
        }
      ]
    },
    {
      "cell_type": "code",
      "metadata": {
        "cellView": "form",
        "id": "9gMpdW3sO7ga",
        "outputId": "faf3dcf7-9356-4bb8-8728-c05b47cfa32c",
        "colab": {
          "base_uri": "https://localhost:8080/",
          "height": 336
        }
      },
      "source": [
        "#@title 生活実験: 層流と乱流\n",
        "%%html\n",
        "<iframe width=\"560\" height=\"315\" src=\"https://www.youtube-nocookie.com/embed/VoBc60iUq2I\" frameborder=\"0\" allow=\"accelerometer; autoplay; clipboard-write; encrypted-media; gyroscope; picture-in-picture\" allowfullscreen></iframe>"
      ],
      "execution_count": 8,
      "outputs": [
        {
          "output_type": "display_data",
          "data": {
            "text/html": [
              "<iframe width=\"560\" height=\"315\" src=\"https://www.youtube-nocookie.com/embed/VoBc60iUq2I\" frameborder=\"0\" allow=\"accelerometer; autoplay; clipboard-write; encrypted-media; gyroscope; picture-in-picture\" allowfullscreen></iframe>"
            ],
            "text/plain": [
              "<IPython.core.display.HTML object>"
            ]
          },
          "metadata": {
            "tags": []
          }
        }
      ]
    },
    {
      "cell_type": "code",
      "metadata": {
        "cellView": "form",
        "id": "MxDe5INgNfgV",
        "outputId": "6310938b-f4cb-4a5c-c66c-2b44b74abb29",
        "colab": {
          "base_uri": "https://localhost:8080/",
          "height": 336
        }
      },
      "source": [
        "#@title カルマン渦\n",
        "%%html \n",
        "<iframe width=\"560\" height=\"315\" src=\"https://www.youtube-nocookie.com/embed/MSaYzDKG5QU\" frameborder=\"0\" allow=\"accelerometer; autoplay; clipboard-write; encrypted-media; gyroscope; picture-in-picture\" allowfullscreen></iframe>"
      ],
      "execution_count": 5,
      "outputs": [
        {
          "output_type": "display_data",
          "data": {
            "text/html": [
              "<iframe width=\"560\" height=\"315\" src=\"https://www.youtube-nocookie.com/embed/MSaYzDKG5QU\" frameborder=\"0\" allow=\"accelerometer; autoplay; clipboard-write; encrypted-media; gyroscope; picture-in-picture\" allowfullscreen></iframe>"
            ],
            "text/plain": [
              "<IPython.core.display.HTML object>"
            ]
          },
          "metadata": {
            "tags": []
          }
        }
      ]
    },
    {
      "cell_type": "markdown",
      "metadata": {
        "id": "KrrDb9BMH64d"
      },
      "source": [
        "### 力学的相似則とレイノルズ数"
      ]
    },
    {
      "cell_type": "markdown",
      "metadata": {
        "id": "q3JWOtSKI7sk"
      },
      "source": [
        "\b- https://en.wikipedia.org/wiki/Similitude_(model)"
      ]
    }
  ]
}