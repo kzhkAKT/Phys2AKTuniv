{
  "nbformat": 4,
  "nbformat_minor": 0,
  "metadata": {
    "colab": {
      "name": "1104_粘性抵抗と慣性抵抗",
      "provenance": [],
      "toc_visible": true,
      "authorship_tag": "ABX9TyNMeidMzsmjm4OVGJALVnVM",
      "include_colab_link": true
    },
    "kernelspec": {
      "name": "python3",
      "display_name": "Python 3"
    }
  },
  "cells": [
    {
      "cell_type": "markdown",
      "metadata": {
        "id": "view-in-github",
        "colab_type": "text"
      },
      "source": [
        "<a href=\"https://colab.research.google.com/github/kzhkAKT/Phys2AKTuniv/blob/draft/01_Jan/1104_%E7%B2%98%E6%80%A7%E6%8A%B5%E6%8A%97%E3%81%A8%E6%85%A3%E6%80%A7%E6%8A%B5%E6%8A%97.ipynb\" target=\"_parent\"><img src=\"https://colab.research.google.com/assets/colab-badge.svg\" alt=\"Open In Colab\"/></a>"
      ]
    },
    {
      "cell_type": "markdown",
      "metadata": {
        "id": "pSIrAx6Gc8H3"
      },
      "source": [
        "# 流体力学"
      ]
    },
    {
      "cell_type": "markdown",
      "metadata": {
        "id": "RBu61HbPC1n-"
      },
      "source": [
        "## 粘性抵抗と慣性抵抗"
      ]
    },
    {
      "cell_type": "markdown",
      "metadata": {
        "id": "9HSgDaq6Hj-S"
      },
      "source": [
        "### 粘性力"
      ]
    },
    {
      "cell_type": "code",
      "metadata": {
        "id": "rcnfPBOjCi_K",
        "outputId": "a61a60a1-df14-4b10-9613-1ea0163e88b4",
        "colab": {
          "base_uri": "https://localhost:8080/",
          "height": 336
        }
      },
      "source": [
        "%%html\n",
        "<iframe width=\"560\" height=\"315\" src=\"https://www.youtube-nocookie.com/embed/UVcyea3ZH54\" frameborder=\"0\" allow=\"accelerometer; autoplay; clipboard-write; encrypted-media; gyroscope; picture-in-picture\" allowfullscreen></iframe>"
      ],
      "execution_count": 1,
      "outputs": [
        {
          "output_type": "display_data",
          "data": {
            "text/html": [
              "<iframe width=\"560\" height=\"315\" src=\"https://www.youtube-nocookie.com/embed/UVcyea3ZH54\" frameborder=\"0\" allow=\"accelerometer; autoplay; clipboard-write; encrypted-media; gyroscope; picture-in-picture\" allowfullscreen></iframe>"
            ],
            "text/plain": [
              "<IPython.core.display.HTML object>"
            ]
          },
          "metadata": {
            "tags": []
          }
        }
      ]
    },
    {
      "cell_type": "markdown",
      "metadata": {
        "id": "kh2oGQxOHne6"
      },
      "source": [
        "### ハーゲン-ポアズイユの法則"
      ]
    },
    {
      "cell_type": "markdown",
      "metadata": {
        "id": "7NvLTxKqIHjs"
      },
      "source": [
        "https://en.wikipedia.org/wiki/Hagen%E2%80%93Poiseuille_equation"
      ]
    },
    {
      "cell_type": "markdown",
      "metadata": {
        "id": "bllXPriMHwGu"
      },
      "source": [
        "### 粘性抵抗"
      ]
    },
    {
      "cell_type": "markdown",
      "metadata": {
        "id": "oooy2qkUHyMt"
      },
      "source": [
        "### 慣性抵抗"
      ]
    },
    {
      "cell_type": "markdown",
      "metadata": {
        "id": "M4j5-kyiH4Ju"
      },
      "source": [
        "### 層流と乱流"
      ]
    },
    {
      "cell_type": "markdown",
      "metadata": {
        "id": "Fb3yWdapIJbZ"
      },
      "source": [
        "- https://en.wikipedia.org/wiki/Laminar_flow\n",
        "- https://en.wikipedia.org/wiki/Turbulence"
      ]
    },
    {
      "cell_type": "code",
      "metadata": {
        "colab": {
          "base_uri": "https://localhost:8080/",
          "height": 336
        },
        "id": "Rec6Zl1bJAfN",
        "outputId": "b7cdb7d5-05e4-4ed7-8f5e-3e1d3364ed0c"
      },
      "source": [
        "%%html\n",
        "<iframe width=\"560\" height=\"315\" src=\"https://www.youtube-nocookie.com/embed/JoitjNfuKLA\" frameborder=\"0\" allow=\"accelerometer; autoplay; clipboard-write; encrypted-media; gyroscope; picture-in-picture\" allowfullscreen></iframe>"
      ],
      "execution_count": null,
      "outputs": [
        {
          "output_type": "display_data",
          "data": {
            "text/html": [
              "<iframe width=\"560\" height=\"315\" src=\"https://www.youtube-nocookie.com/embed/JoitjNfuKLA\" frameborder=\"0\" allow=\"accelerometer; autoplay; clipboard-write; encrypted-media; gyroscope; picture-in-picture\" allowfullscreen></iframe>"
            ],
            "text/plain": [
              "<IPython.core.display.HTML object>"
            ]
          },
          "metadata": {
            "tags": []
          }
        }
      ]
    },
    {
      "cell_type": "markdown",
      "metadata": {
        "id": "KrrDb9BMH64d"
      },
      "source": [
        "### 力学的相似則とレイノルズ数"
      ]
    },
    {
      "cell_type": "markdown",
      "metadata": {
        "id": "q3JWOtSKI7sk"
      },
      "source": [
        "\b- https://en.wikipedia.org/wiki/Similitude_(model)"
      ]
    }
  ]
}