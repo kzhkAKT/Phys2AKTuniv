{
  "nbformat": 4,
  "nbformat_minor": 0,
  "metadata": {
    "colab": {
      "name": "1104_粘性抵抗と慣性抵抗",
      "provenance": [],
      "toc_visible": true,
      "authorship_tag": "ABX9TyMlcH4hgkkgoTaaiSfkdTvA",
      "include_colab_link": true
    },
    "kernelspec": {
      "name": "python3",
      "display_name": "Python 3"
    }
  },
  "cells": [
    {
      "cell_type": "markdown",
      "metadata": {
        "id": "pSIrAx6Gc8H3"
      },
      "source": [
        "# 流体力学"
      ]
    },
    {
      "cell_type": "markdown",
      "metadata": {
        "id": "RBu61HbPC1n-"
      },
      "source": [
        "## 粘性抵抗と慣性抵抗"
      ]
    },
    {
      "cell_type": "markdown",
      "metadata": {
        "id": "9HSgDaq6Hj-S"
      },
      "source": [
        "### 粘性力"
      ]
    },
    {
      "cell_type": "code",
      "metadata": {
        "id": "rcnfPBOjCi_K",
        "colab": {
          "base_uri": "https://localhost:8080/",
          "height": 336
        },
        "cellView": "form",
        "outputId": "a61a60a1-df14-4b10-9613-1ea0163e88b4"
      },
      "source": [
        "#@title 粘性力の確認\n",
        "#@markdown マイクをoff にして、各自の環境で下記の動画を確認して下さい。\n",
        "%%html\n",
        "<iframe width=\"560\" height=\"315\" src=\"https://www.youtube-nocookie.com/embed/UVcyea3ZH54\" frameborder=\"0\" allow=\"accelerometer; autoplay; clipboard-write; encrypted-media; gyroscope; picture-in-picture\" allowfullscreen></iframe>"
      ],
      "execution_count": null,
      "outputs": [
        {
          "output_type": "display_data",
          "data": {
            "text/html": [
              "<iframe width=\"560\" height=\"315\" src=\"https://www.youtube-nocookie.com/embed/UVcyea3ZH54\" frameborder=\"0\" allow=\"accelerometer; autoplay; clipboard-write; encrypted-media; gyroscope; picture-in-picture\" allowfullscreen></iframe>"
            ],
            "text/plain": [
              "<IPython.core.display.HTML object>"
            ]
          },
          "metadata": {
            "tags": []
          }
        }
      ]
    },
    {
      "cell_type": "markdown",
      "metadata": {
        "id": "9FJVVh4KK6YC"
      },
      "source": [
        "- 流体に力が加わったときに、引き摺られる様に働く、接線応力\n",
        "- 深さ方向の速度勾配を減らし、速度が一様になる様に作用する力"
      ]
    },
    {
      "cell_type": "code",
      "metadata": {
        "cellView": "form",
        "colab": {
          "base_uri": "https://localhost:8080/",
          "height": 336
        },
        "id": "7tK2uHgaLl0M",
        "outputId": "fe7089cb-0374-4375-8655-b29fdd88b962"
      },
      "source": [
        "#@title 実験: 滑りなし条件の確認\n",
        "#@markdown 底に付着した顔料が、丈夫の流れに対して動いていないことを確認して下さい。\n",
        "%%html\n",
        "<iframe width=\"560\" height=\"315\" src=\"https://www.youtube-nocookie.com/embed/cUTkqZeiMow\" frameborder=\"0\" allow=\"accelerometer; autoplay; clipboard-write; encrypted-media; gyroscope; picture-in-picture\" allowfullscreen></iframe>"
      ],
      "execution_count": null,
      "outputs": [
        {
          "output_type": "display_data",
          "data": {
            "text/html": [
              "<iframe width=\"560\" height=\"315\" src=\"https://www.youtube-nocookie.com/embed/cUTkqZeiMow\" frameborder=\"0\" allow=\"accelerometer; autoplay; clipboard-write; encrypted-media; gyroscope; picture-in-picture\" allowfullscreen></iframe>"
            ],
            "text/plain": [
              "<IPython.core.display.HTML object>"
            ]
          },
          "metadata": {
            "tags": []
          }
        }
      ]
    },
    {
      "cell_type": "markdown",
      "metadata": {
        "id": "CcHZlxSiMEII"
      },
      "source": [
        "\\begin{align}\n",
        "\\tau = \\eta \\dfrac{{\\rm d}v}{{\\rm d} y}\n",
        "\\end{align}\n",
        "\n",
        "- 粘性力 $\\tau$(タウ) の単位は ${\\rm ([Pa])}$\n",
        "- 粘度 $\\eta$(イータ) の単位は ${\\rm ([N/(m/s)/m]= [Pa\\cdot s])}$\n",
        "\n",
        "\n",
        "深さによって変化する様子を捉えていることがわかります。\n",
        "\\begin{align}\n",
        "\\tau = \\eta \\dfrac{{\\rm d}v}{{\\rm d} y} \n",
        "= \\eta \\lim_{\\Delta y \\to 0}  \\dfrac{\\Delta v}{\\Delta y}\n",
        "\\end{align}\n"
      ]
    },
    {
      "cell_type": "markdown",
      "metadata": {
        "id": "kh2oGQxOHne6"
      },
      "source": [
        "### ハーゲン-ポアズイユの法則"
      ]
    },
    {
      "cell_type": "markdown",
      "metadata": {
        "id": "7NvLTxKqIHjs"
      },
      "source": [
        "流線が、急激な加速をせず、慣性系の運動を行うと仮定すると初等的に導出可能です。  \n",
        "実際には、[ナビエ–ストークス方程式](https://ja.wikipedia.org/wiki/%E3%83%8A%E3%83%93%E3%82%A8%E2%80%93%E3%82%B9%E3%83%88%E3%83%BC%E3%82%AF%E3%82%B9%E6%96%B9%E7%A8%8B%E5%BC%8F)を解く必要があります。\n",
        "\n",
        "流量 $Q\\ {\\rm [m^3/s]}$ とし、教科書 p127 図11.16 を利用すると\n",
        "\\begin{align}\n",
        "\bQ = \\dfrac{\\pi R^4}{8\\eta L}(p_A - p_B)\n",
        "\\end{align}\n",
        "\n",
        "---\n",
        "参考URL\n",
        "- https://bloodystream.hatenadiary.jp/entry/2020/05/06/021138\n",
        "- https://en.wikipedia.org/wiki/Hagen%E2%80%93Poiseuille_equation"
      ]
    },
    {
      "cell_type": "code",
      "metadata": {
        "id": "fYRazTrABnUY",
        "colab": {
          "base_uri": "https://localhost:8080/",
          "height": 336
        },
        "cellView": "form",
        "outputId": "8a9a0e2a-5d82-4811-e79e-4677e1c0f72f"
      },
      "source": [
        "#@title 実験: ハーゲン-ポアズイユの法則\n",
        "%%html\n",
        "<iframe width=\"560\" height=\"315\" src=\"https://www.youtube-nocookie.com/embed/wn6eRMIOJ1k\" frameborder=\"0\" allow=\"accelerometer; autoplay; clipboard-write; encrypted-media; gyroscope; picture-in-picture\" allowfullscreen></iframe>"
      ],
      "execution_count": 11,
      "outputs": [
        {
          "output_type": "display_data",
          "data": {
            "text/html": [
              "<iframe width=\"560\" height=\"315\" src=\"https://www.youtube-nocookie.com/embed/wn6eRMIOJ1k\" frameborder=\"0\" allow=\"accelerometer; autoplay; clipboard-write; encrypted-media; gyroscope; picture-in-picture\" allowfullscreen></iframe>"
            ],
            "text/plain": [
              "<IPython.core.display.HTML object>"
            ]
          },
          "metadata": {
            "tags": []
          }
        }
      ]
    },
    {
      "cell_type": "markdown",
      "metadata": {
        "id": "bllXPriMHwGu"
      },
      "source": [
        "### 粘性抵抗"
      ]
    },
    {
      "cell_type": "markdown",
      "metadata": {
        "id": "AnUkngjnT4QD"
      },
      "source": [
        "\\begin{align}\n",
        "F \\propto \\eta \\dfrac{v}{L} L^2\n",
        "\\end{align}\n",
        "半径 $r$ の球の場合は\n",
        "\\begin{align}\n",
        "F = 6 \\pi \\eta r v\n",
        "\\end{align}\n",
        "\n",
        "$v$ は流体中の物体の速度"
      ]
    },
    {
      "cell_type": "markdown",
      "metadata": {
        "id": "oooy2qkUHyMt"
      },
      "source": [
        "### 慣性抵抗"
      ]
    },
    {
      "cell_type": "code",
      "metadata": {
        "colab": {
          "base_uri": "https://localhost:8080/",
          "height": 336
        },
        "cellView": "form",
        "id": "MxDe5INgNfgV",
        "outputId": "2bb1f20b-99c6-4319-be3e-f37783f52b64"
      },
      "source": [
        "#@title 渦の発生\n",
        "%%html \n",
        "<iframe width=\"560\" height=\"315\" src=\"https://www.youtube-nocookie.com/embed/MSaYzDKG5QU\" frameborder=\"0\" allow=\"accelerometer; autoplay; clipboard-write; encrypted-media; gyroscope; picture-in-picture\" allowfullscreen></iframe>"
      ],
      "execution_count": null,
      "outputs": [
        {
          "output_type": "display_data",
          "data": {
            "text/html": [
              "<iframe width=\"560\" height=\"315\" src=\"https://www.youtube-nocookie.com/embed/MSaYzDKG5QU\" frameborder=\"0\" allow=\"accelerometer; autoplay; clipboard-write; encrypted-media; gyroscope; picture-in-picture\" allowfullscreen></iframe>"
            ],
            "text/plain": [
              "<IPython.core.display.HTML object>"
            ]
          },
          "metadata": {
            "tags": []
          }
        }
      ]
    },
    {
      "cell_type": "markdown",
      "metadata": {
        "id": "6iSPEceGU6zv"
      },
      "source": [
        "$\\require{cancel}$\n",
        "教科書 p128 図11.17 を参考に\n",
        "\\begin{align}\n",
        "p_A + \\dfrac{1}{2} \\rho \\cancelto{0}{v_A^2} = p_{\\infty} + \\dfrac{1}{2} \\rho{v^2}\n",
        "\\end{align}\n",
        "より、作用する流体の抵抗は\n",
        "\\begin{align}\n",
        "F = \\dfrac{1}{2} C \\rho A v^2.\n",
        "\\end{align}"
      ]
    },
    {
      "cell_type": "markdown",
      "metadata": {
        "id": "M4j5-kyiH4Ju"
      },
      "source": [
        "### 層流と乱流"
      ]
    },
    {
      "cell_type": "code",
      "metadata": {
        "cellView": "form",
        "colab": {
          "base_uri": "https://localhost:8080/",
          "height": 336
        },
        "id": "3QhyIEBQOI3J",
        "outputId": "baec36f2-4e51-4109-a634-60a427535119"
      },
      "source": [
        "#@title 層流\n",
        "%%html\n",
        "<iframe width=\"560\" height=\"315\" src=\"https://www.youtube-nocookie.com/embed/p08_KlTKP50\" frameborder=\"0\" allow=\"accelerometer; autoplay; clipboard-write; encrypted-media; gyroscope; picture-in-picture\" allowfullscreen></iframe>"
      ],
      "execution_count": null,
      "outputs": [
        {
          "output_type": "display_data",
          "data": {
            "text/html": [
              "<iframe width=\"560\" height=\"315\" src=\"https://www.youtube-nocookie.com/embed/p08_KlTKP50\" frameborder=\"0\" allow=\"accelerometer; autoplay; clipboard-write; encrypted-media; gyroscope; picture-in-picture\" allowfullscreen></iframe>"
            ],
            "text/plain": [
              "<IPython.core.display.HTML object>"
            ]
          },
          "metadata": {
            "tags": []
          }
        }
      ]
    },
    {
      "cell_type": "code",
      "metadata": {
        "cellView": "form",
        "colab": {
          "base_uri": "https://localhost:8080/",
          "height": 336
        },
        "id": "9gMpdW3sO7ga",
        "outputId": "faf3dcf7-9356-4bb8-8728-c05b47cfa32c"
      },
      "source": [
        "#@title 生活実験: 層流と乱流\n",
        "%%html\n",
        "<iframe width=\"560\" height=\"315\" src=\"https://www.youtube-nocookie.com/embed/VoBc60iUq2I\" frameborder=\"0\" allow=\"accelerometer; autoplay; clipboard-write; encrypted-media; gyroscope; picture-in-picture\" allowfullscreen></iframe>"
      ],
      "execution_count": null,
      "outputs": [
        {
          "output_type": "display_data",
          "data": {
            "text/html": [
              "<iframe width=\"560\" height=\"315\" src=\"https://www.youtube-nocookie.com/embed/VoBc60iUq2I\" frameborder=\"0\" allow=\"accelerometer; autoplay; clipboard-write; encrypted-media; gyroscope; picture-in-picture\" allowfullscreen></iframe>"
            ],
            "text/plain": [
              "<IPython.core.display.HTML object>"
            ]
          },
          "metadata": {
            "tags": []
          }
        }
      ]
    },
    {
      "cell_type": "markdown",
      "metadata": {
        "id": "KrrDb9BMH64d"
      },
      "source": [
        "### 力学的相似則とレイノルズ数"
      ]
    },
    {
      "cell_type": "markdown",
      "metadata": {
        "id": "q3JWOtSKI7sk"
      },
      "source": [
        "$\\require{cancel}$\n",
        "\\begin{align}\n",
        "Re &\\sim \\dfrac{\\cancel{\\frac{1}{2}} \\bcancel{C} \\rho v^2 \\cancelto{L^2}{A}}{n v L}\\\\\n",
        "Re &:= \\dfrac{\\rho v^2 L^2}{\\eta v L} = \\dfrac{\\rho v L}{\\eta}\n",
        "\\end{align}"
      ]
    }
  ]
}