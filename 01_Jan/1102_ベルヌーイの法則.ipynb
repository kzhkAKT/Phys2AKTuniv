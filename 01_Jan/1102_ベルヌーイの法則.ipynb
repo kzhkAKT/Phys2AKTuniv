{
  "nbformat": 4,
  "nbformat_minor": 0,
  "metadata": {
    "colab": {
      "name": "1102_ベルヌーイの法則",
      "provenance": [],
      "toc_visible": true,
      "authorship_tag": "ABX9TyM5rJ027EBL7jvT1C+CSdsD",
      "include_colab_link": true
    },
    "kernelspec": {
      "name": "python3",
      "display_name": "Python 3"
    }
  },
  "cells": [
    {
      "cell_type": "markdown",
      "metadata": {
        "id": "view-in-github",
        "colab_type": "text"
      },
      "source": [
        "<a href=\"https://colab.research.google.com/github/kzhkAKT/Phys2AKTuniv/blob/draft/01_Jan/1102_%E3%83%99%E3%83%AB%E3%83%8C%E3%83%BC%E3%82%A4%E3%81%AE%E6%B3%95%E5%89%87.ipynb\" target=\"_parent\"><img src=\"https://colab.research.google.com/assets/colab-badge.svg\" alt=\"Open In Colab\"/></a>"
      ]
    },
    {
      "cell_type": "markdown",
      "metadata": {
        "id": "pSIrAx6Gc8H3"
      },
      "source": [
        "# 流体力学"
      ]
    },
    {
      "cell_type": "markdown",
      "metadata": {
        "id": "RBu61HbPC1n-"
      },
      "source": [
        "## ベルヌーイの法則"
      ]
    },
    {
      "cell_type": "markdown",
      "metadata": {
        "id": "83UZrv6AC_G7"
      },
      "source": [
        "### 定常流\n",
        " Steady flow"
      ]
    },
    {
      "cell_type": "code",
      "metadata": {
        "cellView": "form",
        "id": "Wm2qMwyEfDzB",
        "outputId": "84b1e766-0b58-449f-a804-1cec279b43e0",
        "colab": {
          "base_uri": "https://localhost:8080/",
          "height": 336
        }
      },
      "source": [
        "#@title 定常流の実験\n",
        "%%html\n",
        "<iframe width=\"560\" height=\"315\" src=\"https://www.youtube-nocookie.com/embed/-GIToNj-m4M?start=114\" frameborder=\"0\" allow=\"accelerometer; autoplay; clipboard-write; encrypted-media; gyroscope; picture-in-picture\" allowfullscreen></iframe>"
      ],
      "execution_count": 11,
      "outputs": [
        {
          "output_type": "display_data",
          "data": {
            "text/html": [
              "<iframe width=\"560\" height=\"315\" src=\"https://www.youtube-nocookie.com/embed/-GIToNj-m4M?start=114\" frameborder=\"0\" allow=\"accelerometer; autoplay; clipboard-write; encrypted-media; gyroscope; picture-in-picture\" allowfullscreen></iframe>"
            ],
            "text/plain": [
              "<IPython.core.display.HTML object>"
            ]
          },
          "metadata": {
            "tags": []
          }
        }
      ]
    },
    {
      "cell_type": "markdown",
      "metadata": {
        "id": "M06t7qkegMcL"
      },
      "source": [
        "#### 流線\n",
        "Streamlines\n",
        "\n",
        "![](https://upload.wikimedia.org/wikipedia/commons/thumb/7/73/Streamlines_and_streamtube.svg/320px-Streamlines_and_streamtube.svg.png)\n",
        "\n",
        "各点の接線が速度ベクトル$\\vec{v_1}, \\vec{v_2}, \\vec{v_3}$になる曲線"
      ]
    },
    {
      "cell_type": "markdown",
      "metadata": {
        "id": "z3t6NU1MDAut"
      },
      "source": [
        "### 連続の方程式"
      ]
    },
    {
      "cell_type": "markdown",
      "metadata": {
        "id": "6gEHdC4TlZUN"
      },
      "source": [
        "![https://commons.wikimedia.org/wiki/File:Fluid-dynamics-continuity-equation.svg](https://upload.wikimedia.org/wikipedia/commons/thumb/8/87/Fluid-dynamics-continuity-equation.svg/640px-Fluid-dynamics-continuity-equation.svg.png)"
      ]
    },
    {
      "cell_type": "markdown",
      "metadata": {
        "id": "0Tg-pGyBlj6J"
      },
      "source": [
        "流体において、<font color=\"green\">緑色の部分</font>と\n",
        "<font color=\"red\">赤の部分</font>の物質の量が等しい。\n",
        "\n",
        "- <font color=\"green\">緑色の部分</font>の流速を$v_1$\n",
        "- <font color=\"red\">赤の部分</font>の流速を$v_2$\n",
        "- 時間間隔 $\\Delta t$ 観測\n",
        "\n",
        "\\begin{align}\n",
        "M &=\\rho_1 A_1 \\cdot \\Delta S_1 = \\rho_1 A_2 \\cdot \\Delta S_2\\\\\n",
        "&=\\rho_1 A_1  (v_1 \\Delta t) = \\rho_1 A_2 (v_2 \\Delta t)\n",
        "\\end{align}\n",
        "\n",
        "整理すると\n",
        "\\begin{align}\n",
        "\\rho_1 A_1  v_1 &= \\rho_1 A_2 v_2\\\\\n",
        "\\rho A  v &={const.}\n",
        "\\end{align}\n",
        "この関係式を **流体の連続方程式** と言います。"
      ]
    },
    {
      "cell_type": "markdown",
      "metadata": {
        "id": "WVdmnsfxotiy"
      },
      "source": [
        "$\\require{cancel}$\n",
        "特に**非圧縮流体では**、 どの部分でも密度 $\\rho$ が等しいので、\n",
        "> 一本の流線に沿って全ての断面で\n",
        "\\begin{align}\n",
        "A  v &=\\cancelto{const.}{\\dfrac{{const.}}{\\rho}}\n",
        "\\end{align}\n",
        "\n",
        "となります。"
      ]
    },
    {
      "cell_type": "markdown",
      "metadata": {
        "id": "L2JcXckXDHH3"
      },
      "source": [
        "### ベルヌーイの法則\n",
        "\n"
      ]
    },
    {
      "cell_type": "markdown",
      "metadata": {
        "id": "-SW0r_t7ETUm"
      },
      "source": [
        "![https://en.wikipedia.org/wiki/Daniel_Bernoulli](https://upload.wikimedia.org/wikipedia/commons/thumb/b/b3/ETH-BIB-Bernoulli%2C_Daniel_%281700-1782%29-Portrait-Portr_10971.tif_%28cropped%29.jpg/339px-ETH-BIB-Bernoulli%2C_Daniel_%281700-1782%29-Portrait-Portr_10971.tif_%28cropped%29.jpg)\n",
        "\n",
        "https://en.wikipedia.org/wiki/Bernoulli%27s_principle"
      ]
    },
    {
      "cell_type": "markdown",
      "metadata": {
        "id": "T-bMCnjLprlI"
      },
      "source": [
        "#### 定理の成り立つ条件\n",
        "- 非圧縮性完全流体の定常流\n",
        "  1. $\\rho := const.$\n",
        "  2. $\\Delta E := 0$, エネルギーの損失なし/粘性力は無視する\n",
        "  3. 流体の速度は時間的に一定/流線は時間的に変化しない  \n",
        "      (同じ場所の流線が突然増減しない)"
      ]
    },
    {
      "cell_type": "markdown",
      "metadata": {
        "id": "enybq_TFrY05"
      },
      "source": [
        "\\begin{align}\n",
        "p + \\dfrac{1}{2} \\rho v^2 + \\rho g h = const.\n",
        "\\end{align}"
      ]
    },
    {
      "cell_type": "markdown",
      "metadata": {
        "id": "xsjUk0vQs0sE"
      },
      "source": [
        "##### 圧力を含む力学的エネルギー保存則\n",
        "\n",
        "流体の微小体積を $\\Delta V$ として上式にかけると\n",
        "\n",
        "\\begin{align}\n",
        "&p \\Delta V+ \\dfrac{1}{2} \\rho\\Delta V v^2 + \\rho \\Delta Vg h = const\\cdot \\Delta V.\\\\[]\n",
        "&\\Delta W_p + \\dfrac{1}{2} \\Delta m \\ V v^2  + \\Delta m \\ g h  \n",
        "=const\\cdot \\Delta V.\n",
        "\\end{align}\n",
        "\n",
        "- 一項目は、圧力によるエネルギー\n",
        "- 二項目は、運動エネルギー\n",
        "- 三項目は、位置エネルギー\n",
        "\n",
        "にそれぞれ相当します。このことからベルヌーイの法則は、\n",
        "> 単位体積${\\rm (1 \\ m^3)}$あたりに蓄えられた、エネルギー保存則を表している\n",
        "\n",
        "と考えることができます。"
      ]
    },
    {
      "cell_type": "markdown",
      "metadata": {
        "id": "CqJH_5Cpro5J"
      },
      "source": [
        "$\\require{cancel}$\n",
        "##### 静止流体 $v=0$\n",
        "\\begin{align}\n",
        "&p + \\dfrac{1}{2} \\rho \\cancelto{0}{v^2} + \\rho g h = const.\\\\[1mm]\n",
        "p_1 + \\rho g h_1 &= p_0 + \\rho g h_0\\\\[1mm]\n",
        "p_1 &= p_0 - \\rho g (h_1 - h_0) \\\\[2mm]\n",
        "p_1 &= p_0 - \\rho g \\Delta h\n",
        "\\end{align}\n",
        "\n",
        "となり、非圧縮性**静止流体**の圧力も表現できます。"
      ]
    },
    {
      "cell_type": "markdown",
      "metadata": {
        "id": "1CNYtD4vDkPK"
      },
      "source": [
        "#### トリチェリの法則"
      ]
    },
    {
      "cell_type": "markdown",
      "metadata": {
        "id": "0ZqLpB5rujH3"
      },
      "source": [
        "![https://fr.wikipedia.org/wiki/Formule_de_Torricelli](https://upload.wikimedia.org/wikipedia/commons/0/02/Torricelli.png)\n",
        "![https://en.wikipedia.org/wiki/Torricelli%27s_law](https://upload.wikimedia.org/wikipedia/commons/thumb/0/0c/TorricelliLawDiagram.svg/320px-TorricelliLawDiagram.svg.png)"
      ]
    },
    {
      "cell_type": "markdown",
      "metadata": {
        "id": "GJJoxfcNuq94"
      },
      "source": [
        "$\\require{cancel}$\n",
        "ベルヌーイの法則を利用して、図の様な水槽の側面の穴から出る流体の速度を求めます\n",
        "\n",
        "かんたんのために上図左を考えます。同一流線上の AとB に対して、ベルヌーイの法則を適用します\n",
        "\\begin{align}\n",
        "p_A + \\dfrac{1}{2} \\rho v_A^2 + \\rho g h_A \n",
        "&= p_B + \\dfrac{1}{2} \\rho v_B^2 + \\rho g h_B \n",
        "\\end{align}\n",
        "\n",
        "これに\n",
        "- 大気圧は共通の $p_0$\n",
        "- Bでの流速 $v_B は、$Aでの流速 $v_A$よりも、充分早いので  $v_A\\approx0$\n",
        "- 装置の寸法\n",
        "\n",
        "を適用します。\n",
        "\n",
        "\\begin{align}\n",
        "\\cancelto{p_0}{p_A} + \\dfrac{1}{2} \\rho \\cancelto{0}{v_A^2} + \\rho g \\cancelto{h}{h_A}\n",
        "&= \\cancelto{p_0}{p_B} \n",
        "  + \\dfrac{1}{2} \\rho v_B^2 + \\rho g \\cancelto{0}{h_B} \\\\\n",
        "p_0 + \\rho g h \n",
        "&= p_0 + \\dfrac{1}{2} \\rho v_B^2 \\\\\n",
        "v_B &= \\sqrt{2gh}\n",
        "\\end{align}\n",
        "  "
      ]
    },
    {
      "cell_type": "code",
      "metadata": {
        "cellView": "form",
        "id": "RtSuCJO4ui7d",
        "outputId": "3f771d0b-8a5f-40ce-be3b-5adae4ac485d",
        "colab": {
          "base_uri": "https://localhost:8080/",
          "height": 336
        }
      },
      "source": [
        "#@title 実験: トリチェリの法則\n",
        "%%html\n",
        "<iframe width=\"560\" height=\"315\" src=\"https://www.youtube-nocookie.com/embed/0EsUiBhBIX8\" frameborder=\"0\" allow=\"accelerometer; autoplay; clipboard-write; encrypted-media; gyroscope; picture-in-picture\" allowfullscreen></iframe>"
      ],
      "execution_count": 13,
      "outputs": [
        {
          "output_type": "display_data",
          "data": {
            "text/html": [
              "<iframe width=\"560\" height=\"315\" src=\"https://www.youtube-nocookie.com/embed/0EsUiBhBIX8\" frameborder=\"0\" allow=\"accelerometer; autoplay; clipboard-write; encrypted-media; gyroscope; picture-in-picture\" allowfullscreen></iframe>"
            ],
            "text/plain": [
              "<IPython.core.display.HTML object>"
            ]
          },
          "metadata": {
            "tags": []
          }
        }
      ]
    },
    {
      "cell_type": "markdown",
      "metadata": {
        "id": "sEl8hJ2NDqxY"
      },
      "source": [
        "#### ベンチュリ管"
      ]
    },
    {
      "cell_type": "markdown",
      "metadata": {
        "id": "cFcQ2zB6zo8W"
      },
      "source": [
        "![https://en.wikipedia.org/wiki/Venturi_effect](https://upload.wikimedia.org/wikipedia/commons/thumb/4/4b/Venturi5.svg/640px-Venturi5.svg.png)"
      ]
    },
    {
      "cell_type": "markdown",
      "metadata": {
        "id": "5p4U5Onfz71q"
      },
      "source": [
        "$\\require{cancel}$\n",
        "ベルヌーイの法則を利用して、上図の流体が流れる管の太さの違いによる圧力さを求めます。\n",
        "\n",
        "まずは、黒い点から出発している流速について、ベルヌーイの法則を適用します。\n",
        "\n",
        "\\begin{align}\n",
        "p_1 + \\dfrac{1}{2} \\rho v_1^2 + \\rho g h_1\n",
        "&= p_2 + \\dfrac{1}{2} \\rho v_2^2 + \\rho g h_2\n",
        "\\end{align}\n",
        "\n",
        "これに\n",
        "- 大気圧は共通の $p_0$\n",
        "- 装置の寸法による、流体の連続方程式\n",
        "  \\begin{align}\n",
        "  A_1 v_1 = A_2 v_2\n",
        "  \\end{align}\n",
        "  - これから $A_1 > A_2$ なので、\n",
        "  $v_2 =\\dfrac{A_1}{A_2} v_1$より、  $v_1 < v_2$\n",
        "\n",
        "を適用します。"
      ]
    },
    {
      "cell_type": "markdown",
      "metadata": {
        "id": "pF8ILyMt1Vdc"
      },
      "source": [
        "$\\require{cancel}$\n",
        "\\begin{align}\n",
        "p_1 + \\dfrac{1}{2} \\rho v_1^2 + \\bcancel{\\rho g h_1}\n",
        "&= p_2 + \\dfrac{1}{2} \\rho v_2^2 + \\bcancel{\\rho g h_2}\n",
        "\\end{align}\n",
        "\n",
        "ここで、適用した条件から $p_1 > p_2$ となることに注目し、  \n",
        "$v_2$ を消去すると\n",
        "\n",
        "\\begin{align}\n",
        "p_1 - p_2\n",
        "&= \\dfrac{\\rho}{2} \\left(  v_2^2  - v_1^2 \\right)\\\\\n",
        "&= \\dfrac{\\rho}{2} \\left(  v_2  + v_1 \\right)\\left(  v_2  - v_1 \\right)\\\\\n",
        "&= \\dfrac{\\rho}{2}\n",
        "\\left(  \\dfrac{A_1}{A_2} v_1 + v_1 \\right)\n",
        "\\left(  \\dfrac{A_1}{A_2} v_1 - v_1 \\right)\\\\\n",
        "&= \\dfrac{\\rho v_1^2}{2}\n",
        "\\left(  \\dfrac{A_1}{A_2} + 1 \\right)\n",
        "\\left(  \\dfrac{A_1}{A_2} - 1 \\right)\\\\[2mm]\n",
        "p_1 - p_2 \n",
        "&= \\dfrac{\\rho v_1^2}{2} \\left( \\dfrac{A_1^2 -A_2^2}{A_2^2}\\right) \n",
        "= \\dfrac{\\rho v_2^2}{2} \\left( \\dfrac{A_1^2 -A_2^2}{A_1^2}\\right) \n",
        " \\end{align}"
      ]
    },
    {
      "cell_type": "markdown",
      "metadata": {
        "id": "Rrce8I354Jzc"
      },
      "source": [
        "一方、二つの点1,2の直上にある圧力計内の測定値は、この二点の高低差$h$から\n",
        "\\begin{align}\n",
        "p_1 - p_2 &= \\rho g h\n",
        "\\end{align}"
      ]
    },
    {
      "cell_type": "markdown",
      "metadata": {
        "id": "e0Pjtb0c4t4H"
      },
      "source": [
        "これらを結びつけると\n",
        "\\begin{align}\n",
        "\\rho g h=\n",
        "p_1 - p_2 \n",
        "= \\dfrac{\\rho v_1^2}{2} \\left( \\dfrac{A_1^2 -A_2^2}{A_2^2}\\right) \n",
        "= \\dfrac{\\rho v_2^2}{2} \\left( \\dfrac{A_1^2 -A_2^2}{A_1^2}\\right) \n",
        "\\end{align}\n",
        "となり、高低差$h$から流体の速度を求めることができます"
      ]
    },
    {
      "cell_type": "code",
      "metadata": {
        "cellView": "form",
        "id": "XvoorKhez4CZ",
        "outputId": "fbc612a1-8ee9-4031-b9f6-a792a506aca0",
        "colab": {
          "base_uri": "https://localhost:8080/",
          "height": 336
        }
      },
      "source": [
        "#@title 実験: ベンチュリ管\n",
        "%%html\n",
        "<iframe width=\"560\" height=\"315\" src=\"https://www.youtube-nocookie.com/embed/hLZkPFrQCDk\" frameborder=\"0\" allow=\"accelerometer; autoplay; clipboard-write; encrypted-media; gyroscope; picture-in-picture\" allowfullscreen></iframe>"
      ],
      "execution_count": 15,
      "outputs": [
        {
          "output_type": "display_data",
          "data": {
            "text/html": [
              "<iframe width=\"560\" height=\"315\" src=\"https://www.youtube-nocookie.com/embed/hLZkPFrQCDk\" frameborder=\"0\" allow=\"accelerometer; autoplay; clipboard-write; encrypted-media; gyroscope; picture-in-picture\" allowfullscreen></iframe>"
            ],
            "text/plain": [
              "<IPython.core.display.HTML object>"
            ]
          },
          "metadata": {
            "tags": []
          }
        }
      ]
    }
  ]
}