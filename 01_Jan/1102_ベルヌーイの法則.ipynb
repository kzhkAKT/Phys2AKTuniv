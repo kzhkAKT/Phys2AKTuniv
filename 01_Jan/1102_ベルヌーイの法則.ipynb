{
  "nbformat": 4,
  "nbformat_minor": 0,
  "metadata": {
    "colab": {
      "name": "1102_ベルヌーイの法則",
      "provenance": [],
      "toc_visible": true,
      "authorship_tag": "ABX9TyPbr7A34CNoMirq5WKt1YpP",
      "include_colab_link": true
    },
    "kernelspec": {
      "name": "python3",
      "display_name": "Python 3"
    }
  },
  "cells": [
    {
      "cell_type": "markdown",
      "metadata": {
        "id": "view-in-github",
        "colab_type": "text"
      },
      "source": [
        "<a href=\"https://colab.research.google.com/github/kzhkAKT/Phys2AKTuniv/blob/draft/01_Jan/1102_%E3%83%99%E3%83%AB%E3%83%8C%E3%83%BC%E3%82%A4%E3%81%AE%E6%B3%95%E5%89%87.ipynb\" target=\"_parent\"><img src=\"https://colab.research.google.com/assets/colab-badge.svg\" alt=\"Open In Colab\"/></a>"
      ]
    },
    {
      "cell_type": "markdown",
      "metadata": {
        "id": "pSIrAx6Gc8H3"
      },
      "source": [
        "# 流体力学"
      ]
    },
    {
      "cell_type": "markdown",
      "metadata": {
        "id": "RBu61HbPC1n-"
      },
      "source": [
        "## ベルヌーイの法則"
      ]
    },
    {
      "cell_type": "markdown",
      "metadata": {
        "id": "83UZrv6AC_G7"
      },
      "source": [
        "### 定常流"
      ]
    },
    {
      "cell_type": "markdown",
      "metadata": {
        "id": "z3t6NU1MDAut"
      },
      "source": [
        "### 連続の方程式"
      ]
    },
    {
      "cell_type": "markdown",
      "metadata": {
        "id": "L2JcXckXDHH3"
      },
      "source": [
        "### ベルヌーイの法則\n",
        "\n"
      ]
    },
    {
      "cell_type": "markdown",
      "metadata": {
        "id": "-SW0r_t7ETUm"
      },
      "source": [
        "![https://en.wikipedia.org/wiki/Daniel_Bernoulli](https://upload.wikimedia.org/wikipedia/commons/thumb/b/b3/ETH-BIB-Bernoulli%2C_Daniel_%281700-1782%29-Portrait-Portr_10971.tif_%28cropped%29.jpg/339px-ETH-BIB-Bernoulli%2C_Daniel_%281700-1782%29-Portrait-Portr_10971.tif_%28cropped%29.jpg)\n",
        "\n",
        "https://en.wikipedia.org/wiki/Bernoulli%27s_principle"
      ]
    },
    {
      "cell_type": "markdown",
      "metadata": {
        "id": "1CNYtD4vDkPK"
      },
      "source": [
        "#### トリチェリの法則"
      ]
    },
    {
      "cell_type": "markdown",
      "metadata": {
        "id": "D1N1utP1EgKw"
      },
      "source": [
        "https://en.wikipedia.org/wiki/Torricelli%27s_law"
      ]
    },
    {
      "cell_type": "markdown",
      "metadata": {
        "id": "sEl8hJ2NDqxY"
      },
      "source": [
        "#### ベンチュリ管"
      ]
    },
    {
      "cell_type": "markdown",
      "metadata": {
        "id": "77V0PV3PEN9H"
      },
      "source": [
        "https://en.wikipedia.org/wiki/Venturi_effect"
      ]
    }
  ]
}