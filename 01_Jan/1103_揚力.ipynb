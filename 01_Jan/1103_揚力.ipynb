{
  "nbformat": 4,
  "nbformat_minor": 0,
  "metadata": {
    "colab": {
      "name": "1103_揚力",
      "provenance": [],
      "toc_visible": true,
      "authorship_tag": "ABX9TyNSAC2xBa/Fia1kVxcUJhew",
      "include_colab_link": true
    },
    "kernelspec": {
      "name": "python3",
      "display_name": "Python 3"
    }
  },
  "cells": [
    {
      "cell_type": "markdown",
      "metadata": {
        "id": "view-in-github",
        "colab_type": "text"
      },
      "source": [
        "<a href=\"https://colab.research.google.com/github/kzhkAKT/Phys2AKTuniv/blob/draft/01_Jan/1103_%E6%8F%9A%E5%8A%9B.ipynb\" target=\"_parent\"><img src=\"https://colab.research.google.com/assets/colab-badge.svg\" alt=\"Open In Colab\"/></a>"
      ]
    },
    {
      "cell_type": "markdown",
      "metadata": {
        "id": "pSIrAx6Gc8H3"
      },
      "source": [
        "# 流体力学"
      ]
    },
    {
      "cell_type": "markdown",
      "metadata": {
        "id": "RBu61HbPC1n-"
      },
      "source": [
        "## 揚力"
      ]
    },
    {
      "cell_type": "markdown",
      "metadata": {
        "id": "VfeR-vmUFDEn"
      },
      "source": [
        "https://en.wikipedia.org/wiki/Lift_(force)"
      ]
    },
    {
      "cell_type": "code",
      "metadata": {
        "colab": {
          "base_uri": "https://localhost:8080/",
          "height": 336
        },
        "id": "8nRp9FyjE3xh",
        "cellView": "form",
        "outputId": "1874f56b-4880-4eba-a817-5cd70d9e6553"
      },
      "source": [
        "#@title 揚力/Lift\n",
        "#@markdown 翼の上下で流線上の流体の速度が異なることを確認して下さい\n",
        "%%html\n",
        "<iframe width=\"560\" height=\"315\" src=\"https://www.youtube-nocookie.com/embed/UqBmdZ-BNig\" frameborder=\"0\" allow=\"accelerometer; autoplay; clipboard-write; encrypted-media; gyroscope; picture-in-picture\" allowfullscreen></iframe>"
      ],
      "execution_count": null,
      "outputs": [
        {
          "output_type": "display_data",
          "data": {
            "text/html": [
              "<iframe width=\"560\" height=\"315\" src=\"https://www.youtube-nocookie.com/embed/UqBmdZ-BNig\" frameborder=\"0\" allow=\"accelerometer; autoplay; clipboard-write; encrypted-media; gyroscope; picture-in-picture\" allowfullscreen></iframe>"
            ],
            "text/plain": [
              "<IPython.core.display.HTML object>"
            ]
          },
          "metadata": {
            "tags": []
          }
        }
      ]
    },
    {
      "cell_type": "markdown",
      "metadata": {
        "id": "XSADmkUo5swO"
      },
      "source": [
        "- 翼の上部(top)の流速$v_{t}$は、下部(low)の流速$v_{l}$よりも、早くなっています: \n",
        "\\begin{align}\n",
        "v_{t}>v_{l}\n",
        "\\end{align}\n",
        "\n",
        "  - ベルヌーイの法則を適用すると、翼に出会うまでは同じ流線が、  \n",
        "  流線上の上部の圧力$p_{t}$と、\n",
        "  流線上の下部の圧力$p_{l}$で、差が生じます:\n",
        "  \\begin{align}\n",
        "  p_{t}<p_{l}\n",
        "  \\end{align} "
      ]
    },
    {
      "cell_type": "code",
      "metadata": {
        "cellView": "form",
        "colab": {
          "base_uri": "https://localhost:8080/",
          "height": 336
        },
        "id": "NYZaWb4i8K2i",
        "outputId": "0061e139-8009-40aa-d483-cac3c6c11f1b"
      },
      "source": [
        "#@title 実験:揚力の簡単な実演\n",
        "%%html\n",
        "<iframe width=\"560\" height=\"315\" src=\"https://www.youtube-nocookie.com/embed/ekY1PWYp-n0\" frameborder=\"0\" allow=\"accelerometer; autoplay; clipboard-write; encrypted-media; gyroscope; picture-in-picture\" allowfullscreen></iframe>"
      ],
      "execution_count": null,
      "outputs": [
        {
          "output_type": "display_data",
          "data": {
            "text/html": [
              "<iframe width=\"560\" height=\"315\" src=\"https://www.youtube-nocookie.com/embed/ekY1PWYp-n0\" frameborder=\"0\" allow=\"accelerometer; autoplay; clipboard-write; encrypted-media; gyroscope; picture-in-picture\" allowfullscreen></iframe>"
            ],
            "text/plain": [
              "<IPython.core.display.HTML object>"
            ]
          },
          "metadata": {
            "tags": []
          }
        }
      ]
    },
    {
      "cell_type": "code",
      "metadata": {
        "colab": {
          "base_uri": "https://localhost:8080/",
          "height": 336
        },
        "id": "LvKf6_TLFsAH",
        "cellView": "form",
        "outputId": "1c842e33-138f-4f6d-85ca-d08f4002f7be"
      },
      "source": [
        "#@title 翼の渦\n",
        "%%html\n",
        "<iframe width=\"560\" height=\"315\" src=\"https://www.youtube-nocookie.com/embed/rCpZpKZLz14?start=227\" title=\"YouTube video player\" frameborder=\"0\" allow=\"accelerometer; autoplay; clipboard-write; encrypted-media; gyroscope; picture-in-picture\" allowfullscreen></iframe>"
      ],
      "execution_count": 4,
      "outputs": [
        {
          "output_type": "display_data",
          "data": {
            "text/html": [
              "<iframe width=\"560\" height=\"315\" src=\"https://www.youtube-nocookie.com/embed/rCpZpKZLz14?start=227\" title=\"YouTube video player\" frameborder=\"0\" allow=\"accelerometer; autoplay; clipboard-write; encrypted-media; gyroscope; picture-in-picture\" allowfullscreen></iframe>"
            ],
            "text/plain": [
              "<IPython.core.display.HTML object>"
            ]
          },
          "metadata": {}
        }
      ]
    },
    {
      "cell_type": "markdown",
      "metadata": {
        "id": "qasP2fPc9xu2"
      },
      "source": [
        "##### 揚力の大きさ\n",
        "\n",
        "翼の上部と下部では流線が異なりますが、  \n",
        "翼に出会う前の流体は、類似の非圧縮性完全流体と仮定すると  \n",
        "揚力をベルヌーイの定理から導出できます。\n",
        "\\begin{align}\n",
        "P_{initial}&=\n",
        "\\begin{cases}\n",
        "p_t + \\dfrac{1}{2} \\rho v_t^2+\\rho g h_t \\\\\n",
        "p_l + \\dfrac{1}{2} \\rho v_l^2+\\rho g h_l \n",
        "\\end{cases}\n",
        "\\end{align}\n",
        "\n",
        "翼が充分薄いとし$(h_t\\approx h_l)$、上式を引けば\n",
        "\\begin{align}\n",
        "0&=\n",
        "\\left(p_t -p_l\\right)\n",
        "+ \\dfrac{\\rho}{2}\\left(v_t^2-v_t^2\\right)\\\\[1mm]\n",
        "p_l - p_t\n",
        "&=\n",
        "\\dfrac{\\rho}{2}\\left(v_t^2-v_t^2\\right)\\\\[1mm]\n",
        "\\Delta p_{lt}\n",
        "&=\n",
        "\\dfrac{\\rho}{2}\\left(v_t^2-v_t^2\\right)\n",
        "\\end{align}\n"
      ]
    },
    {
      "cell_type": "markdown",
      "metadata": {
        "id": "Yw3vzcdFAEOx"
      },
      "source": [
        "ここで、薄い翼の面積を上部下部とも $A$ とすれば $F=pA$ より\n",
        "\\begin{align}\n",
        "F_{L} = \\Delta p_{lt} A \n",
        "&=\n",
        "\\dfrac{\\rho}{2}\\left(v_t^2-v_t^2\\right) A\n",
        "\\end{align}"
      ]
    },
    {
      "cell_type": "markdown",
      "metadata": {
        "id": "MxLOaLqYPPrf"
      },
      "source": [
        "無限遠方では, $v_t,v_l$ とも 気流の速さ(翼の速さ)に比例すると考えれば\n",
        "\\begin{cases}\n",
        "v_t &= c_t v\\\\\n",
        "v_l &= c_l v\n",
        "\\end{cases}\n",
        "これらをまとめて\n",
        "\\begin{align}\n",
        "F_{L} = \\dfrac{1}{2} C \\rho A v^2.\n",
        "\\end{align}\n",
        "ここで $C$ は揚力定数と呼ばれます"
      ]
    },
    {
      "cell_type": "code",
      "metadata": {
        "colab": {
          "base_uri": "https://localhost:8080/",
          "height": 336
        },
        "id": "hv6LSonpGSfx",
        "cellView": "form",
        "outputId": "41c20c50-ae43-4f0e-aff5-6076c501db00"
      },
      "source": [
        "#@title 実験: 迎え角の影響\n",
        "%%html\n",
        "<iframe width=\"560\" height=\"315\" src=\"https://www.youtube-nocookie.com/embed/SiOiVHUEYao\" title=\"YouTube video player\" frameborder=\"0\" allow=\"accelerometer; autoplay; clipboard-write; encrypted-media; gyroscope; picture-in-picture\" allowfullscreen></iframe>"
      ],
      "execution_count": 1,
      "outputs": [
        {
          "output_type": "display_data",
          "data": {
            "text/html": [
              "<iframe width=\"560\" height=\"315\" src=\"https://www.youtube-nocookie.com/embed/SiOiVHUEYao\" title=\"YouTube video player\" frameborder=\"0\" allow=\"accelerometer; autoplay; clipboard-write; encrypted-media; gyroscope; picture-in-picture\" allowfullscreen></iframe>"
            ],
            "text/plain": [
              "<IPython.core.display.HTML object>"
            ]
          },
          "metadata": {}
        }
      ]
    }
  ]
}