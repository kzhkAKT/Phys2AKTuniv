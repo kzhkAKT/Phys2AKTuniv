{
  "nbformat": 4,
  "nbformat_minor": 0,
  "metadata": {
    "colab": {
      "name": "1101_静止流体の圧力",
      "provenance": [],
      "toc_visible": true,
      "authorship_tag": "ABX9TyM+cZ8q+IoJiA11Pomo0S0y",
      "include_colab_link": true
    },
    "kernelspec": {
      "name": "python3",
      "display_name": "Python 3"
    }
  },
  "cells": [
    {
      "cell_type": "markdown",
      "metadata": {
        "id": "view-in-github",
        "colab_type": "text"
      },
      "source": [
        "<a href=\"https://colab.research.google.com/github/kzhkAKT/Phys2AKTuniv/blob/draft/01_Jan/1101_%E9%9D%99%E6%AD%A2%E6%B5%81%E4%BD%93%E3%81%AE%E5%9C%A7%E5%8A%9B.ipynb\" target=\"_parent\"><img src=\"https://colab.research.google.com/assets/colab-badge.svg\" alt=\"Open In Colab\"/></a>"
      ]
    },
    {
      "cell_type": "markdown",
      "metadata": {
        "id": "pSIrAx6Gc8H3"
      },
      "source": [
        "# 流体力学"
      ]
    },
    {
      "cell_type": "markdown",
      "metadata": {
        "id": "LqWsI4SYc-1L"
      },
      "source": [
        "## 静止流体中の圧力"
      ]
    },
    {
      "cell_type": "markdown",
      "metadata": {
        "id": "lyjSSHD0-loq"
      },
      "source": [
        "* 流体 $\\supset$ 液体 & 気体\n",
        "* 流体 $:=$ 流体を構成する分子は、ほぼ自由に移動し、流れやすい性質をもつ\n",
        "\n",
        "先ずは最も簡単な\n",
        "\n",
        "1. **静止流体** ~ 流れなし、渦なし ~ 例: 水槽に蓄えた水\n",
        "2. **非圧縮性流体** ~ 流体の体積が(圧力によってほとんど)変化しない ~ 例: 水"
      ]
    },
    {
      "cell_type": "code",
      "metadata": {
        "id": "gLhAW5k36kwZ",
        "colab": {
          "base_uri": "https://localhost:8080/",
          "height": 336
        },
        "cellView": "form",
        "outputId": "c6c16709-35de-4aa6-f130-2d33e1a4ed57"
      },
      "source": [
        "#@title 静止流体の概念写真\n",
        "%%html\n",
        "\n",
        "<iframe width=\"560\" height=\"315\" src=\"https://www.youtube-nocookie.com/embed/wUY3H545al8?start=349\" frameborder=\"0\" allow=\"accelerometer; autoplay; encrypted-media; gyroscope; picture-in-picture\" allowfullscreen></iframe>"
      ],
      "execution_count": null,
      "outputs": [
        {
          "output_type": "display_data",
          "data": {
            "text/html": [
              "\n",
              "<iframe width=\"560\" height=\"315\" src=\"https://www.youtube-nocookie.com/embed/wUY3H545al8?start=349\" frameborder=\"0\" allow=\"accelerometer; autoplay; encrypted-media; gyroscope; picture-in-picture\" allowfullscreen></iframe>"
            ],
            "text/plain": [
              "<IPython.core.display.HTML object>"
            ]
          },
          "metadata": {
            "tags": []
          }
        }
      ]
    },
    {
      "cell_type": "markdown",
      "metadata": {
        "id": "tLhyqLLZ15OU"
      },
      "source": [
        "### 圧力\n",
        "\n",
        "圧力(Pressure)の定義\n",
        "\n",
        "$$\n",
        "P = \\dfrac{F}{S}　\b= \\dfrac{F}{A}　\n",
        "$$\n",
        "\n",
        "* 力 $F$ は, 接触している面積 $S$ を **垂直に** 押す力です.(概念図参照)\n",
        "* 定義式から圧力の単位は ${\\rm N/m^2}$ で, これは $\\dfrac{\\rm N}{\\rm 1 m^2}$ と解釈できるので,   \n",
        "したがって圧力を **単位面積当たりに働く力** と表現することができます.\n",
        "* 圧力の単位 ${\\rm N/m^2}$ は、発見者の名前にちなんで **Pa** と  \n",
        "一般的に標記されます. (読み方は[パスカル](https://ja.wikipedia.org/wiki/%E3%83%96%E3%83%AC%E3%83%BC%E3%82%BA%E3%83%BB%E3%83%91%E3%82%B9%E3%82%AB%E3%83%AB)) 例を挙げると\n",
        "  * 気象予報における気圧:  $\\quad{\\rm 996\\ hPa = 996\\ h\\ Pa =996 \\times 10^2\\ Pa = 9.96\\times 10^4\\ Pa}$\n",
        "    * [SI接頭語](https://www.dainippon-tosho.co.jp/unit/si_prefix.html)の理解はOK?\n",
        "  * 自転車の空気圧: $\\qquad{\\rm 1.1\\ bar = 1.1\\ kPa = 1.1\\ k\\ Pa = 1.1\\times 10^3\\ Pa}$\n",
        "  \n",
        "\n"
      ]
    },
    {
      "cell_type": "code",
      "metadata": {
        "id": "crcKdAUp-5rc",
        "cellView": "form",
        "colab": {
          "base_uri": "https://localhost:8080/",
          "height": 372
        },
        "outputId": "de370c87-237e-4f0d-c053-771ec8cbd125"
      },
      "source": [
        "#@title 圧力定義の概念図 (教科書では接触面積を S \b~ \"surface area\" としていますが, 図では A ~ area)\n",
        "%%svg\n",
        "https://upload.wikimedia.org/wikipedia/commons/f/ff/Pressure_force_area.svg"
      ],
      "execution_count": null,
      "outputs": [
        {
          "output_type": "display_data",
          "data": {
            "text/plain": [
              "<IPython.core.display.SVG object>"
            ],
            "image/svg+xml": "<svg height=\"350\" id=\"svg2\" inkscape:version=\"0.48.3.1 r9886\" sodipodi:docname=\"Pressure force area.svg\" version=\"1.1\" width=\"350\" xmlns=\"http://www.w3.org/2000/svg\" xmlns:cc=\"http://creativecommons.org/ns#\" xmlns:dc=\"http://purl.org/dc/elements/1.1/\" xmlns:inkscape=\"http://www.inkscape.org/namespaces/inkscape\" xmlns:rdf=\"http://www.w3.org/1999/02/22-rdf-syntax-ns#\" xmlns:sodipodi=\"http://sodipodi.sourceforge.net/DTD/sodipodi-0.dtd\" xmlns:svg=\"http://www.w3.org/2000/svg\">\n  <defs id=\"defs4\">\n    <marker id=\"Arrow2Lend\" inkscape:stockid=\"Arrow2Lend\" orient=\"auto\" refX=\"0\" refY=\"0\" style=\"overflow:visible\">\n      <path d=\"M 8.7185878,4.0337352 -2.2072895,0.01601326 8.7185884,-4.0017078 c -1.7454984,2.3720609 -1.7354408,5.6174519 -6e-7,8.035443 z\" id=\"path3805\" inkscape:connector-curvature=\"0\" style=\"fill-rule:evenodd;stroke-width:0.625;stroke-linejoin:round\" transform=\"matrix(-1.1,0,0,-1.1,-1.1,0)\"/>\n    </marker>\n    <marker id=\"Arrow2Lend-0\" inkscape:stockid=\"Arrow2Lend\" orient=\"auto\" refX=\"0\" refY=\"0\" style=\"overflow:visible\">\n      <path d=\"M 8.7185878,4.0337352 -2.2072895,0.01601326 8.7185884,-4.0017078 c -1.7454984,2.3720609 -1.7354408,5.6174519 -6e-7,8.035443 z\" id=\"path3805-1\" inkscape:connector-curvature=\"0\" style=\"fill-rule:evenodd;stroke-width:0.625;stroke-linejoin:round\" transform=\"matrix(-1.1,0,0,-1.1,-1.1,0)\"/>\n    </marker>\n    <marker id=\"Arrow2Lend-0-2\" inkscape:stockid=\"Arrow2Lend\" orient=\"auto\" refX=\"0\" refY=\"0\" style=\"overflow:visible\">\n      <path d=\"M 8.7185878,4.0337352 -2.2072895,0.01601326 8.7185884,-4.0017078 c -1.7454984,2.3720609 -1.7354408,5.6174519 -6e-7,8.035443 z\" id=\"path3805-1-1\" inkscape:connector-curvature=\"0\" style=\"fill-rule:evenodd;stroke-width:0.625;stroke-linejoin:round\" transform=\"matrix(-1.1,0,0,-1.1,-1.1,0)\"/>\n    </marker>\n    <marker id=\"Arrow2Lend-0-0\" inkscape:stockid=\"Arrow2Lend\" orient=\"auto\" refX=\"0\" refY=\"0\" style=\"overflow:visible\">\n      <path d=\"M 8.7185878,4.0337352 -2.2072895,0.01601326 8.7185884,-4.0017078 c -1.7454984,2.3720609 -1.7354408,5.6174519 -6e-7,8.035443 z\" id=\"path3805-1-4\" inkscape:connector-curvature=\"0\" style=\"fill-rule:evenodd;stroke-width:0.625;stroke-linejoin:round\" transform=\"matrix(-1.1,0,0,-1.1,-1.1,0)\"/>\n    </marker>\n    <marker id=\"Arrow2Lend-0-4\" inkscape:stockid=\"Arrow2Lend\" orient=\"auto\" refX=\"0\" refY=\"0\" style=\"overflow:visible\">\n      <path d=\"M 8.7185878,4.0337352 -2.2072895,0.01601326 8.7185884,-4.0017078 c -1.7454984,2.3720609 -1.7354408,5.6174519 -6e-7,8.035443 z\" id=\"path3805-1-10\" inkscape:connector-curvature=\"0\" style=\"fill-rule:evenodd;stroke-width:0.625;stroke-linejoin:round\" transform=\"matrix(-1.1,0,0,-1.1,-1.1,0)\"/>\n    </marker>\n    <marker id=\"Arrow2Lend-0-8\" inkscape:stockid=\"Arrow2Lend\" orient=\"auto\" refX=\"0\" refY=\"0\" style=\"overflow:visible\">\n      <path d=\"M 8.7185878,4.0337352 -2.2072895,0.01601326 8.7185884,-4.0017078 c -1.7454984,2.3720609 -1.7354408,5.6174519 -6e-7,8.035443 z\" id=\"path3805-1-0\" inkscape:connector-curvature=\"0\" style=\"fill-rule:evenodd;stroke-width:0.625;stroke-linejoin:round\" transform=\"matrix(-1.1,0,0,-1.1,-1.1,0)\"/>\n    </marker>\n    <marker id=\"Arrow2Lend-0-09\" inkscape:stockid=\"Arrow2Lend\" orient=\"auto\" refX=\"0\" refY=\"0\" style=\"overflow:visible\">\n      <path d=\"M 8.7185878,4.0337352 -2.2072895,0.01601326 8.7185884,-4.0017078 c -1.7454984,2.3720609 -1.7354408,5.6174519 -6e-7,8.035443 z\" id=\"path3805-1-7\" inkscape:connector-curvature=\"0\" style=\"fill-rule:evenodd;stroke-width:0.625;stroke-linejoin:round\" transform=\"matrix(-1.1,0,0,-1.1,-1.1,0)\"/>\n    </marker>\n    <marker id=\"Arrow2Lend-0-3\" inkscape:stockid=\"Arrow2Lend\" orient=\"auto\" refX=\"0\" refY=\"0\" style=\"overflow:visible\">\n      <path d=\"M 8.7185878,4.0337352 -2.2072895,0.01601326 8.7185884,-4.0017078 c -1.7454984,2.3720609 -1.7354408,5.6174519 -6e-7,8.035443 z\" id=\"path3805-1-2\" inkscape:connector-curvature=\"0\" style=\"fill-rule:evenodd;stroke-width:0.625;stroke-linejoin:round\" transform=\"matrix(-1.1,0,0,-1.1,-1.1,0)\"/>\n    </marker>\n  </defs>\n  <sodipodi:namedview bordercolor=\"#666666\" borderopacity=\"1.0\" fit-margin-bottom=\"0\" fit-margin-left=\"0\" fit-margin-right=\"0\" fit-margin-top=\"0\" id=\"base\" inkscape:current-layer=\"g3029\" inkscape:cx=\"175.01369\" inkscape:cy=\"213.40262\" inkscape:document-units=\"px\" inkscape:pageopacity=\"0.0\" inkscape:pageshadow=\"2\" inkscape:window-height=\"876\" inkscape:window-maximized=\"1\" inkscape:window-width=\"1551\" inkscape:window-x=\"49\" inkscape:window-y=\"24\" inkscape:zoom=\"2.0828571\" pagecolor=\"#ffffff\" showgrid=\"false\"/>\n  <metadata id=\"metadata7\">\n    <rdf:RDF>\n      <cc:Work rdf:about=\"\">\n        <dc:format>image/svg+xml</dc:format>\n        <dc:type rdf:resource=\"http://purl.org/dc/dcmitype/StillImage\"/>\n        <dc:title/>\n      </cc:Work>\n    </rdf:RDF>\n  </metadata>\n  <g id=\"layer1\" inkscape:groupmode=\"layer\" inkscape:label=\"Ebene 1\" transform=\"translate(-71.84375,-49.15625)\">\n    <path d=\"m 214.04842,240.86424 195.00509,0 -113.31376,90.52248 -208.839889,0 z\" id=\"rect3775\" inkscape:connector-curvature=\"0\" sodipodi:nodetypes=\"ccccc\" style=\"fill:none;stroke:#000000;stroke-width:3;stroke-linecap:square;stroke-linejoin:miter;stroke-miterlimit:4;stroke-opacity:1;stroke-dasharray:none;stroke-dashoffset:0\"/>\n    <g id=\"g3029\" transform=\"matrix(0.8713085,0.49073566,-0.49073566,0.8713085,116.05166,-55.659972)\">\n      <path d=\"m 278.44891,201.35717 6.11597,37.9259 -29.22916,-24.9286 c 9.64634,1.18396 18.96513,-4.09438 23.11319,-12.9973 z\" id=\"path3035\" inkscape:connector-curvature=\"0\" style=\"fill-rule:evenodd;stroke-width:0.625;stroke-linejoin:round\"/>\n      <rect height=\"9.6021948\" id=\"rect3029\" style=\"fill:#ffffff;fill-opacity:1;stroke:#ffffff;stroke-width:2;stroke-linecap:square;stroke-linejoin:miter;stroke-miterlimit:4;stroke-opacity:1;stroke-dasharray:none;stroke-dashoffset:0\" transform=\"matrix(0.87130851,-0.49073566,0.49073566,0.87130851,0,0)\" width=\"8.6419754\" x=\"126.23106\" y=\"291.57889\"/>\n      <path d=\"m 179.96957,50.282931 -2.59445,1.46752 103.8915,184.812329 2.59444,-1.46752 L 179.96957,50.282931 z\" id=\"path3778\" inkscape:connector-curvature=\"0\" style=\"font-size:medium;font-style:normal;font-variant:normal;font-weight:normal;font-stretch:normal;text-indent:0;text-align:start;text-decoration:none;line-height:normal;letter-spacing:normal;word-spacing:normal;text-transform:none;direction:ltr;block-progression:tb;writing-mode:lr-tb;text-anchor:start;baseline-shift:baseline;color:#000000;fill:#000000;fill-opacity:1;stroke:none;stroke-width:3.00000024;marker:none;visibility:visible;display:inline;overflow:visible;enable-background:accumulate;font-family:Sans;-inkscape-font-specification:Sans\"/>\n      <g id=\"text3031\" style=\"font-size:48px;font-style:normal;font-variant:normal;font-weight:normal;font-stretch:normal;text-align:start;line-height:125%;letter-spacing:0px;word-spacing:0px;writing-mode:lr-tb;text-anchor:start;fill:#000000;fill-opacity:1;stroke:none;font-family:Liberation Sans;-inkscape-font-specification:Liberation Sans\" transform=\"matrix(0.87130851,-0.49073566,0.49073566,0.87130851,0,0)\">\n        <path d=\"m 54.680006,379.9191 -3.773437,-9.65625 -15.046875,0 -3.796875,9.65625 -4.640625,0 13.476562,-33.02344 5.085938,0 13.265625,33.02344 -4.570313,0 m -9.351562,-24.04688 c -0.250018,-0.62497 -0.492205,-1.25778 -0.726563,-1.89843 -0.218767,-0.6406 -0.414079,-1.21873 -0.585937,-1.73438 -0.171892,-0.53122 -0.320329,-0.96872 -0.445313,-1.3125 -0.109391,-0.35935 -0.171891,-0.5781 -0.1875,-0.65625 -0.03127,0.0781 -0.101578,0.2969 -0.210937,0.65625 -0.109391,0.3594 -0.257829,0.80472 -0.445313,1.33594 -0.17189,0.53128 -0.375015,1.11721 -0.609375,1.75781 -0.218765,0.64065 -0.445327,1.27346 -0.679687,1.89844 l -4.21875,10.85156 12.351562,0 -4.242187,-10.89844\" id=\"path3010\" style=\"\"/>\n      </g>\n      <g id=\"text3035\" style=\"font-size:48px;font-style:normal;font-variant:normal;font-weight:normal;font-stretch:normal;text-align:start;line-height:125%;letter-spacing:0px;word-spacing:0px;writing-mode:lr-tb;text-anchor:start;fill:#000000;fill-opacity:1;stroke:none;font-family:Liberation Sans;-inkscape-font-specification:Liberation Sans\" transform=\"matrix(0.87130851,-0.49073566,0.49073566,0.87130851,0,0)\">\n        <path d=\"m 148.5683,174.83174 0,12.28125 18.42187,0 0,3.70313 -18.42187,0 0,13.38281 -4.47656,0 0,-33.02344 23.46093,0 0,3.65625 -18.98437,0\" id=\"path3013\" style=\"\"/>\n      </g>\n      <path d=\"m 221.58379,58.744534 10.45882,-1.6866 -6.87456,8.060524 c 0.3265,-2.66017 -1.1291,-5.230014 -3.58426,-6.373924 z\" id=\"path3035-8\" inkscape:connector-curvature=\"0\" style=\"fill-rule:evenodd;stroke-width:0.625;stroke-linejoin:round\"/>\n      <path d=\"m 202.42076,72.600121 1.07214,1.902222 22.64975,-12.611742 -1.07212,-1.902208 -22.64977,12.611728 z\" id=\"path3778-7\" inkscape:connector-curvature=\"0\" style=\"font-size:medium;font-style:normal;font-variant:normal;font-weight:normal;font-stretch:normal;text-indent:0;text-align:start;text-decoration:none;line-height:normal;letter-spacing:normal;word-spacing:normal;text-transform:none;direction:ltr;block-progression:tb;writing-mode:lr-tb;text-anchor:start;baseline-shift:baseline;color:#000000;fill:#000000;fill-opacity:1;stroke:none;stroke-width:3.00000024;marker:none;visibility:visible;display:inline;overflow:visible;enable-background:accumulate;font-family:Sans;-inkscape-font-specification:Sans\"/>\n    </g>\n  </g>\n</svg>"
          },
          "metadata": {
            "tags": []
          }
        }
      ]
    },
    {
      "cell_type": "markdown",
      "metadata": {
        "id": "8nuZpUaD7FMF"
      },
      "source": [
        "#### 圧力は一点に働く力の源\n",
        "\n",
        "1. 下の画像は無重力の宇宙空間に(ほぼ)静止している水滴です.  \n",
        "この水滴は周囲からの力を受け同じ大きさの力を受け,  \n",
        "一つにまとまりほぼ静止しています.\n",
        "\n",
        "2. この水滴を無限に小さくします。\n",
        "そうすると, 四方八方から受ける力は, ほぼ同じとみなしてよいでしょう。\n",
        "\n",
        "3. この考察から, **圧力は一点を表す物理量** として理解しておいてください.\n",
        "\n"
      ]
    },
    {
      "cell_type": "code",
      "metadata": {
        "id": "1i1pgC8v1fq4",
        "colab": {
          "base_uri": "https://localhost:8080/",
          "height": 336
        },
        "cellView": "form",
        "outputId": "063141fa-6504-4315-d9bc-1dc44f74f214"
      },
      "source": [
        "#@title 宇宙空間に(ほぼ)静止している水滴\n",
        "%%html\n",
        "<iframe width=\"560\" height=\"315\" src=\"https://www.youtube.com/embed/bKk_7NIKY3Y?start=9\" frameborder=\"0\" allow=\"accelerometer; autoplay; encrypted-media; gyroscope; picture-in-picture\" allowfullscreen></iframe>"
      ],
      "execution_count": null,
      "outputs": [
        {
          "output_type": "display_data",
          "data": {
            "text/html": [
              "<iframe width=\"560\" height=\"315\" src=\"https://www.youtube.com/embed/bKk_7NIKY3Y?start=9\" frameborder=\"0\" allow=\"accelerometer; autoplay; encrypted-media; gyroscope; picture-in-picture\" allowfullscreen></iframe>"
            ],
            "text/plain": [
              "<IPython.core.display.HTML object>"
            ]
          },
          "metadata": {
            "tags": []
          }
        }
      ]
    },
    {
      "cell_type": "markdown",
      "metadata": {
        "id": "GE7i5STuqSh7"
      },
      "source": [
        "##### 圧力の単位 ~ 単位体積あたりのエネルギー\n",
        "\n",
        "圧力 Pa (パスカル) の単位の定義に従ってもとに戻すと\n",
        "$$\n",
        "{\\rm Pa = \\dfrac{N}{m^2}},\n",
        "$$\n",
        "これにさらに分母分子に ${\\rm m}$ をかけると\n",
        "$$\n",
        "{\\rm Pa = \\dfrac{N\\cdot m}{m^2 \\cdot m}},\n",
        "$$\n",
        "ここで仕事の単位が ${\\rm J= N\\cdot m}$ であること利用すると\n",
        "$$\n",
        "{\\rm Pa = \\dfrac{J}{m^3} = J/m^3 }\n",
        "$$\n",
        "となる. この考察から圧力は\n",
        "> 単位体積(${\\rm 1m^3}$)あたりのエネルギーの単位\n",
        "\n",
        "ということができます. \n",
        "<!-- このことから\n",
        ">> 圧力は一点に働く力の源\n",
        "\n",
        "と捉えることができます. -->"
      ]
    },
    {
      "cell_type": "markdown",
      "metadata": {
        "id": "kt75joQB-zXA"
      },
      "source": [
        "##### 三方向を考慮した圧力の等方性の証明\n",
        "\n",
        "![](https://www.zigya.com/application/zrc/images/qvar/PHEN11039271.png)\n",
        "\n",
        "静止流体であることを踏まえると\n",
        "\n",
        "$\\require{cancel}$\n",
        "\\begin{align}\n",
        "&\\begin{cases}\n",
        "F_2 &= F_1 \\sin \\theta\\\\\n",
        "F_3 &= F_1 \\cos \\theta\n",
        "\\end{cases}\\\\\n",
        "%\n",
        "&\\begin{cases}\n",
        "P_2 \\cdot AC \\cdot d\n",
        "&= P_1 \\cdot \\cancelto{AC}{AE \\sin \\theta} \\cdot d\\\\\n",
        "P_3 \\cdot CE \\cdot d\n",
        "&= P_1 \\cdot \\cancelto{CE}{AE \\cos \\theta} \\cdot d\n",
        "\\end{cases}\\\\\n",
        "%\n",
        "&\\begin{cases}\n",
        "P_2 &=P_1\\\\\n",
        "P_3 &=P_1\\\\\n",
        "\\end{cases}\\\\[2mm]\n",
        "%\n",
        "&P_1 = P_2 = P_3\n",
        "\\end{align}"
      ]
    },
    {
      "cell_type": "markdown",
      "metadata": {
        "id": "Je2AoazXOPVo"
      },
      "source": [
        "### 静水圧と高さの関係"
      ]
    },
    {
      "cell_type": "markdown",
      "metadata": {
        "id": "DiM8TZoF_stm"
      },
      "source": [
        "地球上では重力の影響で、水は低きを流れます.\n",
        "\n",
        "そしてその大半は湖や大海に流れ着き\b,\n",
        "大量の流体が一つの場所に蓄えられます.\n",
        "\n",
        "このように重力下で蓄えられた(静止)流体では、流体の深部ほど圧力が高くなります."
      ]
    },
    {
      "cell_type": "code",
      "metadata": {
        "id": "6mpqo2FO4XYZ",
        "cellView": "form",
        "colab": {
          "base_uri": "https://localhost:8080/",
          "height": 336
        },
        "outputId": "1a6d1948-4c5a-4945-a6cb-4cb981a6ebb5"
      },
      "source": [
        "#@title ペットボトルと水圧\n",
        "%%html\n",
        "<iframe width=\"560\" height=\"315\" src=\"https://www.youtube-nocookie.com/embed/A_UwdemGzKI\" frameborder=\"0\" allow=\"accelerometer; autoplay; encrypted-media; gyroscope; picture-in-picture\" allowfullscreen></iframe>"
      ],
      "execution_count": null,
      "outputs": [
        {
          "output_type": "display_data",
          "data": {
            "text/html": [
              "<iframe width=\"560\" height=\"315\" src=\"https://www.youtube-nocookie.com/embed/A_UwdemGzKI\" frameborder=\"0\" allow=\"accelerometer; autoplay; encrypted-media; gyroscope; picture-in-picture\" allowfullscreen></iframe>"
            ],
            "text/plain": [
              "<IPython.core.display.HTML object>"
            ]
          },
          "metadata": {
            "tags": []
          }
        }
      ]
    },
    {
      "cell_type": "code",
      "metadata": {
        "id": "fujXVeRC6_of",
        "colab": {
          "base_uri": "https://localhost:8080/",
          "height": 336
        },
        "cellView": "form",
        "outputId": "1a42f45d-c993-4fbb-e512-be65914abe35"
      },
      "source": [
        "#@title 水圧の威力\n",
        "%%html\n",
        "<iframe width=\"560\" height=\"315\" src=\"https://www.youtube-nocookie.com/embed/tTWUSPdWLE0\" frameborder=\"0\" allow=\"accelerometer; autoplay; encrypted-media; gyroscope; picture-in-picture\" allowfullscreen></iframe>"
      ],
      "execution_count": null,
      "outputs": [
        {
          "output_type": "display_data",
          "data": {
            "text/html": [
              "<iframe width=\"560\" height=\"315\" src=\"https://www.youtube-nocookie.com/embed/tTWUSPdWLE0\" frameborder=\"0\" allow=\"accelerometer; autoplay; encrypted-media; gyroscope; picture-in-picture\" allowfullscreen></iframe>"
            ],
            "text/plain": [
              "<IPython.core.display.HTML object>"
            ]
          },
          "metadata": {
            "tags": []
          }
        }
      ]
    },
    {
      "cell_type": "code",
      "metadata": {
        "id": "VhooyYMi7kwF",
        "cellView": "form",
        "colab": {
          "base_uri": "https://localhost:8080/",
          "height": 336
        },
        "outputId": "e6446e2b-047f-4ec5-ea53-ea3c7977aac7"
      },
      "source": [
        "#@title 高圧実験とカップ\n",
        "%%html\n",
        "<iframe width=\"560\" height=\"315\" src=\"https://www.youtube-nocookie.com/embed/cbxTU7PtB6w\" frameborder=\"0\" allow=\"accelerometer; autoplay; encrypted-media; gyroscope; picture-in-picture\" allowfullscreen></iframe>"
      ],
      "execution_count": null,
      "outputs": [
        {
          "output_type": "display_data",
          "data": {
            "text/html": [
              "<iframe width=\"560\" height=\"315\" src=\"https://www.youtube-nocookie.com/embed/cbxTU7PtB6w\" frameborder=\"0\" allow=\"accelerometer; autoplay; encrypted-media; gyroscope; picture-in-picture\" allowfullscreen></iframe>"
            ],
            "text/plain": [
              "<IPython.core.display.HTML object>"
            ]
          },
          "metadata": {
            "tags": []
          }
        }
      ]
    },
    {
      "cell_type": "markdown",
      "metadata": {
        "id": "Jv7W4NsQ8b4j"
      },
      "source": [
        "### 高低差による圧力\n",
        "\n",
        "**重力下** ので *均質な* **静止流体** による影響のみを考えます.  \n",
        "深さ、つまり高低差による圧力の原因として考えられるものは,\n",
        "1. 重力\n",
        "2. 流体そのものの質量  ~ 流体の密度\n",
        "\n",
        "が考えられます.\n",
        "\n"
      ]
    },
    {
      "cell_type": "markdown",
      "metadata": {
        "id": "pYm0KKUIFWY0"
      },
      "source": [
        "#### 重力 $W$\n",
        "\n",
        "重力加速度を $g$ とすると, 質量 $m$ の物体に働く重力の\n",
        "* 大きさ: $m\\cdot g$\n",
        "* 方向: 鉛直下向き\n",
        "\n",
        "ここで基準となる座標の向きを 鉛直**下向き** を 正(+) として表すと  \n",
        "この物体に働く重力 $W$ は\n",
        "> $W = m\\cdot g$\n",
        "\n",
        "一方, 基準となる座標の向きを 鉛直 **上向き** を 正(+) として表すと,   \n",
        "物体に働く重力は鉛直下向きに働くので, 重力 $W = \b- m\\cdot g$ となります.\n",
        "\n"
      ]
    },
    {
      "cell_type": "markdown",
      "metadata": {
        "id": "1tnEOQosFYbw"
      },
      "source": [
        "#### 密度 $\\rho$\n",
        "\n",
        "体積 $V$ を占める一様な流体の質量は, 流体の密度 $\\rho$ (\"ロー\"と読みます) を用いて表すことができます.\n",
        "\n",
        "##### 密度の単位\n",
        "\n",
        "SI単位系で, 密度の単位は ${\\rm kg/m^3}$ です.\n",
        "これは ${\\rm \\dfrac{kg}{1 m^3}}$ と読むことができ,  \n",
        " 文章で簡潔に表すと\n",
        "> 単位体積(${\\rm 1 m^3}$)あたりの, 質量(${\\rm kg}$)   \n",
        "\n",
        "と表現できます.\n",
        "\n",
        "> Q. 質量が $M$, 体積が $V$ の物体がある.  \n",
        "> この物体は一様な密度を持つとすると, この物体の密度 $\\rho$ を求めてください."
      ]
    },
    {
      "cell_type": "markdown",
      "metadata": {
        "id": "OzhjXgwX6_Hl"
      },
      "source": [
        "#### 高低差による圧力の力学的関係式\n",
        "\n",
        "重力下にある水槽を考えます. この水槽には水(静止流体)が注がれており,\n",
        "その水面は大気圧(▽)の影響を受けているとします. 水槽が静止していれば, この水面は水平です. また水(流体)が受ける重力は常に鉛直下向きになるはずです.\n",
        "\n",
        "そこで, 水面下に下の図のような仮想的な四角柱を考えてみましょう. (上辺と底辺は水面に対して平行に取ってあります)\n",
        "今考えている水は静止流体であることを考えれば, この仮想的な四角柱は\n",
        "下方へずれ落ちるでしょう. 実際にはそうなっていません. \n",
        "\n",
        "---\n",
        "\n",
        "これを元に高低差による圧力を考えていきましょう.\n",
        "着眼点を整理すると\n",
        "\n",
        "* 静止流体なので、*水平な方向に対し左右方向の圧力は変化ない*\n",
        "* 静止流体であっても、地上では重力が働いているので **鉛直方向には圧力が変化** する\n",
        "\n",
        "言えそうです. \n"
      ]
    },
    {
      "cell_type": "code",
      "metadata": {
        "id": "gRWyWiGF65oz",
        "cellView": "form",
        "colab": {
          "base_uri": "https://localhost:8080/",
          "height": 666
        },
        "outputId": "809aa787-bfa8-4b30-a9a9-d2bc1e93e14f"
      },
      "source": [
        "#@title 大気圧下にある静止流体の模式図\n",
        "%%svg\n",
        "<svg xmlns=\"http://www.w3.org/2000/svg\" xmlns:xlink=\"http://www.w3.org/1999/xlink\" version=\"1.1\" width=\"403px\" viewBox=\"-0.5 -0.5 403 645\" content=\"&lt;mxfile host=&quot;www.draw.io&quot; modified=&quot;2020-05-14T07:47:39.289Z&quot; agent=&quot;5.0 (Macintosh; Intel Mac OS X 10_10_5) AppleWebKit/537.36 (KHTML, like Gecko) Chrome/81.0.4044.138 Safari/537.36&quot; etag=&quot;4E0GK2uCkEgqNHfkopXM&quot; version=&quot;13.1.1&quot; type=&quot;google&quot;&gt;&lt;diagram id=&quot;Rk1kgF4CJR_5eJMBiW6s&quot; name=&quot;Page-1&quot;&gt;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&lt;/diagram&gt;&lt;/mxfile&gt;\" onclick=\"(function(svg){var src=window.event.target||window.event.srcElement;while (src!=null&amp;&amp;src.nodeName.toLowerCase()!='a'){src=src.parentNode;}if(src==null){if(svg.wnd!=null&amp;&amp;!svg.wnd.closed){svg.wnd.focus();}else{var r=function(evt){if(evt.data=='ready'&amp;&amp;evt.source==svg.wnd){svg.wnd.postMessage(decodeURIComponent(svg.getAttribute('content')),'*');window.removeEventListener('message',r);}};window.addEventListener('message',r);svg.wnd=window.open('https://www.draw.io/?client=1&amp;lightbox=1&amp;edit=_blank');}}})(this);\" style=\"cursor:pointer;max-width:100%;max-height:645px;\"><defs/><g><path d=\"M 15 -5 L 45 15 L 15 35 Z\" fill=\"#ffffff\" stroke=\"#000000\" stroke-miterlimit=\"10\" transform=\"rotate(90,30,15)\" pointer-events=\"all\"/><path d=\"M 160 190 L 240 190 L 260 210 L 260 490 L 180 490 L 160 470 L 160 190 Z\" fill=\"#ffffff\" stroke=\"#000000\" stroke-width=\"2\" stroke-miterlimit=\"10\" stroke-dasharray=\"6 6\" pointer-events=\"all\"/><path d=\"M 160 190 L 240 190 L 260 210 L 180 210 Z\" fill-opacity=\"0.05\" fill=\"#000000\" stroke=\"none\" pointer-events=\"all\"/><path d=\"M 160 190 L 180 210 L 180 490 L 160 470 Z\" fill-opacity=\"0.1\" fill=\"#000000\" stroke=\"none\" pointer-events=\"all\"/><path d=\"M 180 490 L 180 210 L 160 190 M 180 210 L 260 210\" fill=\"none\" stroke=\"#000000\" stroke-width=\"2\" stroke-miterlimit=\"10\" stroke-dasharray=\"6 6\" pointer-events=\"all\"/><path d=\"M 80 110 L 0 30\" fill=\"none\" stroke=\"#000000\" stroke-miterlimit=\"10\" pointer-events=\"stroke\"/><path d=\"M 400 110 L 320 30\" fill=\"none\" stroke=\"#000000\" stroke-miterlimit=\"10\" pointer-events=\"stroke\"/><path d=\"M 0 30 L 320 30\" fill=\"none\" stroke=\"#000000\" stroke-miterlimit=\"10\" pointer-events=\"stroke\"/><path d=\"M 80 110 L 400 110\" fill=\"none\" stroke=\"#000000\" stroke-miterlimit=\"10\" pointer-events=\"stroke\"/><path d=\"M 160 470 L 240 470\" fill=\"none\" stroke=\"#000000\" stroke-width=\"2\" stroke-miterlimit=\"10\" stroke-dasharray=\"2 8\" pointer-events=\"stroke\"/><path d=\"M 260 491 L 240 471\" fill=\"none\" stroke=\"#000000\" stroke-width=\"2\" stroke-miterlimit=\"10\" stroke-dasharray=\"2 8\" pointer-events=\"stroke\"/><path d=\"M 240 470 L 240 190\" fill=\"none\" stroke=\"#000000\" stroke-width=\"2\" stroke-miterlimit=\"10\" stroke-dasharray=\"2 8\" pointer-events=\"stroke\"/><path d=\"M 160 190 L 160 70\" fill=\"none\" stroke=\"#000000\" stroke-miterlimit=\"10\" stroke-dasharray=\"3 3\" pointer-events=\"stroke\"/><path d=\"M 180 210 L 180 90\" fill=\"none\" stroke=\"#000000\" stroke-miterlimit=\"10\" stroke-dasharray=\"3 3\" pointer-events=\"stroke\"/><path d=\"M 260 211 L 260 91\" fill=\"none\" stroke=\"#000000\" stroke-miterlimit=\"10\" stroke-dasharray=\"3 3\" pointer-events=\"stroke\"/><path d=\"M 240 191 L 240 71\" fill=\"none\" stroke=\"#000000\" stroke-miterlimit=\"10\" stroke-dasharray=\"3 3\" pointer-events=\"stroke\"/><rect x=\"190\" y=\"186\" width=\"40\" height=\"30\" fill=\"none\" stroke=\"none\" pointer-events=\"all\"/><g transform=\"translate(-0.5 -0.5)\"><switch><foreignObject style=\"overflow: visible; text-align: left;\" pointer-events=\"none\" width=\"100%\" height=\"100%\" requiredFeatures=\"http://www.w3.org/TR/SVG11/feature#Extensibility\"><div xmlns=\"http://www.w3.org/1999/xhtml\" style=\"display: flex; align-items: unsafe center; justify-content: unsafe center; width: 1px; height: 1px; padding-top: 201px; margin-left: 210px;\"><div style=\"box-sizing: border-box; font-size: 0; text-align: center; \"><div style=\"display: inline-block; font-size: 18px; font-family: Courier New; color: #000000; line-height: 1.2; pointer-events: all; white-space: nowrap; \"><i style=\"font-size: 18px\">S</i><sub style=\"font-size: 18px\">1</sub></div></div></div></foreignObject><text x=\"210\" y=\"206\" fill=\"#000000\" font-family=\"Courier New\" font-size=\"18px\" text-anchor=\"middle\">S1</text></switch></g><rect x=\"190\" y=\"465\" width=\"40\" height=\"30\" fill=\"none\" stroke=\"none\" pointer-events=\"all\"/><g transform=\"translate(-0.5 -0.5)\"><switch><foreignObject style=\"overflow: visible; text-align: left;\" pointer-events=\"none\" width=\"100%\" height=\"100%\" requiredFeatures=\"http://www.w3.org/TR/SVG11/feature#Extensibility\"><div xmlns=\"http://www.w3.org/1999/xhtml\" style=\"display: flex; align-items: unsafe center; justify-content: unsafe center; width: 1px; height: 1px; padding-top: 480px; margin-left: 210px;\"><div style=\"box-sizing: border-box; font-size: 0; text-align: center; \"><div style=\"display: inline-block; font-size: 18px; font-family: Courier New; color: #000000; line-height: 1.2; pointer-events: all; white-space: nowrap; \"><i style=\"font-size: 18px\">S</i><sub style=\"font-size: 18px\">2</sub></div></div></div></foreignObject><text x=\"210\" y=\"485\" fill=\"#000000\" font-family=\"Courier New\" font-size=\"18px\" text-anchor=\"middle\">S2</text></switch></g><path d=\"M 80 190 L 160 190\" fill=\"none\" stroke=\"#000000\" stroke-miterlimit=\"10\" pointer-events=\"stroke\"/><path d=\"M 40 470 L 160 470\" fill=\"none\" stroke=\"#000000\" stroke-miterlimit=\"10\" pointer-events=\"stroke\"/><rect x=\"319\" y=\"160\" width=\"30\" height=\"30\" fill=\"none\" stroke=\"none\" pointer-events=\"all\"/><g transform=\"translate(-0.5 -0.5)\"><switch><foreignObject style=\"overflow: visible; text-align: left;\" pointer-events=\"none\" width=\"100%\" height=\"100%\" requiredFeatures=\"http://www.w3.org/TR/SVG11/feature#Extensibility\"><div xmlns=\"http://www.w3.org/1999/xhtml\" style=\"display: flex; align-items: unsafe center; justify-content: unsafe center; width: 1px; height: 1px; padding-top: 175px; margin-left: 334px;\"><div style=\"box-sizing: border-box; font-size: 0; text-align: center; \"><div style=\"display: inline-block; font-size: 20px; font-family: Courier New; color: #000000; line-height: 1.2; pointer-events: all; font-style: italic; white-space: nowrap; \">ρ</div></div></div></foreignObject><text x=\"334\" y=\"181\" fill=\"#000000\" font-family=\"Courier New\" font-size=\"20px\" text-anchor=\"middle\" font-style=\"italic\">ρ</text></switch></g><path d=\"M 372 440.5 L 388 440.5 L 388 455.49 L 401.5 455.49 L 380 479.5 L 358.5 455.49 L 372 455.49 Z\" fill=\"none\" stroke=\"#000000\" stroke-linejoin=\"round\" stroke-miterlimit=\"10\" pointer-events=\"all\"/><g transform=\"translate(-0.5 -0.5)\"><switch><foreignObject style=\"overflow: visible; text-align: left;\" pointer-events=\"none\" width=\"100%\" height=\"100%\" requiredFeatures=\"http://www.w3.org/TR/SVG11/feature#Extensibility\"><div xmlns=\"http://www.w3.org/1999/xhtml\" style=\"display: flex; align-items: unsafe center; justify-content: unsafe center; width: 1px; height: 1px; padding-top: 460px; margin-left: 380px;\"><div style=\"box-sizing: border-box; font-size: 0; text-align: center; \"><div style=\"display: inline-block; font-size: 18px; font-family: Courier New; color: #000000; line-height: 1.2; pointer-events: all; background-color: #ffffff; white-space: nowrap; \"><i>g</i></div></div></div></foreignObject><text x=\"380\" y=\"465\" fill=\"#000000\" font-family=\"Courier New\" font-size=\"18px\" text-anchor=\"middle\">g</text></switch></g><rect x=\"50\" y=\"180\" width=\"40\" height=\"30\" fill=\"none\" stroke=\"none\" pointer-events=\"all\"/><g transform=\"translate(-0.5 -0.5)\"><switch><foreignObject style=\"overflow: visible; text-align: left;\" pointer-events=\"none\" width=\"100%\" height=\"100%\" requiredFeatures=\"http://www.w3.org/TR/SVG11/feature#Extensibility\"><div xmlns=\"http://www.w3.org/1999/xhtml\" style=\"display: flex; align-items: unsafe center; justify-content: unsafe center; width: 1px; height: 1px; padding-top: 195px; margin-left: 70px;\"><div style=\"box-sizing: border-box; font-size: 0; text-align: center; \"><div style=\"display: inline-block; font-size: 20px; font-family: Courier New; color: #000000; line-height: 1.2; pointer-events: all; font-weight: bold; white-space: nowrap; \"><i style=\"font-size: 20px\">P</i><sub style=\"font-size: 20px\">1</sub></div></div></div></foreignObject><text x=\"70\" y=\"201\" fill=\"#000000\" font-family=\"Courier New\" font-size=\"20px\" text-anchor=\"middle\" font-weight=\"bold\">P1</text></switch></g><rect x=\"4\" y=\"460\" width=\"40\" height=\"30\" fill=\"none\" stroke=\"none\" pointer-events=\"all\"/><g transform=\"translate(-0.5 -0.5)\"><switch><foreignObject style=\"overflow: visible; text-align: left;\" pointer-events=\"none\" width=\"100%\" height=\"100%\" requiredFeatures=\"http://www.w3.org/TR/SVG11/feature#Extensibility\"><div xmlns=\"http://www.w3.org/1999/xhtml\" style=\"display: flex; align-items: unsafe center; justify-content: unsafe center; width: 1px; height: 1px; padding-top: 475px; margin-left: 24px;\"><div style=\"box-sizing: border-box; font-size: 0; text-align: center; \"><div style=\"display: inline-block; font-size: 20px; font-family: Courier New; color: #000000; line-height: 1.2; pointer-events: all; font-weight: bold; white-space: nowrap; \"><i style=\"font-size: 20px\">P</i><sub style=\"font-size: 20px\">2</sub></div></div></div></foreignObject><text x=\"24\" y=\"481\" fill=\"#000000\" font-family=\"Courier New\" font-size=\"20px\" text-anchor=\"middle\" font-weight=\"bold\">P2</text></switch></g><path d=\"M 120 463.63 L 120 196.37\" fill=\"none\" stroke=\"#000000\" stroke-miterlimit=\"10\" pointer-events=\"stroke\"/><path d=\"M 120 468.88 L 116.5 461.88 L 120 463.63 L 123.5 461.88 Z\" fill=\"#000000\" stroke=\"#000000\" stroke-miterlimit=\"10\" pointer-events=\"all\"/><path d=\"M 120 191.12 L 123.5 198.12 L 120 196.37 L 116.5 198.12 Z\" fill=\"#000000\" stroke=\"#000000\" stroke-miterlimit=\"10\" pointer-events=\"all\"/><g transform=\"translate(-0.5 -0.5)\"><switch><foreignObject style=\"overflow: visible; text-align: left;\" pointer-events=\"none\" width=\"100%\" height=\"100%\" requiredFeatures=\"http://www.w3.org/TR/SVG11/feature#Extensibility\"><div xmlns=\"http://www.w3.org/1999/xhtml\" style=\"display: flex; align-items: unsafe center; justify-content: unsafe center; width: 1px; height: 1px; padding-top: 321px; margin-left: 111px;\"><div style=\"box-sizing: border-box; font-size: 0; text-align: center; \"><div style=\"display: inline-block; font-size: 20px; font-family: Courier New; color: #000000; line-height: 1.2; pointer-events: all; font-weight: bold; background-color: #ffffff; white-space: nowrap; \"><i><font style=\"font-size: 24px\">h</font></i></div></div></div></foreignObject><text x=\"111\" y=\"327\" fill=\"#000000\" font-family=\"Courier New\" font-size=\"20px\" text-anchor=\"middle\" font-weight=\"bold\">h</text></switch></g><path d=\"M 215 609.5 L 205 609.5 L 205 509.5 L 194.5 509.5 L 210 490.5 L 225.5 509.5 L 215 509.5 Z\" fill=\"none\" stroke=\"#000000\" stroke-linejoin=\"round\" stroke-miterlimit=\"10\" pointer-events=\"all\"/><g transform=\"translate(-0.5 -0.5)\"><switch><foreignObject style=\"overflow: visible; text-align: left;\" pointer-events=\"none\" width=\"100%\" height=\"100%\" requiredFeatures=\"http://www.w3.org/TR/SVG11/feature#Extensibility\"><div xmlns=\"http://www.w3.org/1999/xhtml\" style=\"display: flex; align-items: unsafe center; justify-content: unsafe center; width: 1px; height: 1px; padding-top: 631px; margin-left: 209px;\"><div style=\"box-sizing: border-box; font-size: 0; text-align: center; \"><div style=\"display: inline-block; font-size: 20px; font-family: Courier New; color: #000000; line-height: 1.2; pointer-events: all; background-color: #ffffff; white-space: nowrap; \"><i>F</i><sub>2</sub></div></div></div></foreignObject><text x=\"209\" y=\"637\" fill=\"#000000\" font-family=\"Courier New\" font-size=\"20px\" text-anchor=\"middle\">F2</text></switch></g><path d=\"M 205.5 140.45 L 215.49 140.55 L 215.19 170.55 L 225.69 170.66 L 210 189.5 L 194.7 170.35 L 205.2 170.45 Z\" fill=\"none\" stroke=\"#000000\" stroke-linejoin=\"round\" stroke-miterlimit=\"10\" pointer-events=\"all\"/><g transform=\"translate(-0.5 -0.5)\"><switch><foreignObject style=\"overflow: visible; text-align: left;\" pointer-events=\"none\" width=\"100%\" height=\"100%\" requiredFeatures=\"http://www.w3.org/TR/SVG11/feature#Extensibility\"><div xmlns=\"http://www.w3.org/1999/xhtml\" style=\"display: flex; align-items: unsafe center; justify-content: unsafe center; width: 1px; height: 1px; padding-top: 125px; margin-left: 211px;\"><div style=\"box-sizing: border-box; font-size: 0; text-align: center; \"><div style=\"display: inline-block; font-size: 20px; font-family: Courier New; color: #000000; line-height: 1.2; pointer-events: all; background-color: #ffffff; white-space: nowrap; \"><i>F</i><sub>1</sub></div></div></div></foreignObject><text x=\"211\" y=\"131\" fill=\"#000000\" font-family=\"Courier New\" font-size=\"20px\" text-anchor=\"middle\">F1</text></switch></g><path d=\"M 205.5 295.47 L 215.5 295.53 L 215.12 355.53 L 225.62 355.6 L 210 374.5 L 194.62 355.4 L 205.12 355.47 Z\" fill=\"none\" stroke=\"#000000\" stroke-linejoin=\"round\" stroke-miterlimit=\"10\" pointer-events=\"all\"/><g transform=\"translate(-0.5 -0.5)\"><switch><foreignObject style=\"overflow: visible; text-align: left;\" pointer-events=\"none\" width=\"100%\" height=\"100%\" requiredFeatures=\"http://www.w3.org/TR/SVG11/feature#Extensibility\"><div xmlns=\"http://www.w3.org/1999/xhtml\" style=\"display: flex; align-items: unsafe center; justify-content: unsafe center; width: 1px; height: 1px; padding-top: 335px; margin-left: 210px;\"><div style=\"box-sizing: border-box; font-size: 0; text-align: center; \"><div style=\"display: inline-block; font-size: 20px; font-family: Courier New; color: #000000; line-height: 1.2; pointer-events: all; background-color: #ffffff; white-space: nowrap; \"><i><font style=\"font-size: 24px\">W</font></i></div></div></div></foreignObject><text x=\"210\" y=\"341\" fill=\"#000000\" font-family=\"Courier New\" font-size=\"20px\" text-anchor=\"middle\">W</text></switch></g><path d=\"M 100 183.63 L 100 76.37\" fill=\"none\" stroke=\"#000000\" stroke-miterlimit=\"10\" stroke-dasharray=\"3 3\" pointer-events=\"stroke\"/><path d=\"M 100 188.88 L 96.5 181.88 L 100 183.63 L 103.5 181.88 Z\" fill=\"#000000\" stroke=\"#000000\" stroke-miterlimit=\"10\" pointer-events=\"all\"/><path d=\"M 100 71.12 L 103.5 78.12 L 100 76.37 L 96.5 78.12 Z\" fill=\"#000000\" stroke=\"#000000\" stroke-miterlimit=\"10\" pointer-events=\"all\"/><g transform=\"translate(-0.5 -0.5)\"><switch><foreignObject style=\"overflow: visible; text-align: left;\" pointer-events=\"none\" width=\"100%\" height=\"100%\" requiredFeatures=\"http://www.w3.org/TR/SVG11/feature#Extensibility\"><div xmlns=\"http://www.w3.org/1999/xhtml\" style=\"display: flex; align-items: unsafe center; justify-content: unsafe center; width: 1px; height: 1px; padding-top: 141px; margin-left: 98px;\"><div style=\"box-sizing: border-box; font-size: 0; text-align: center; \"><div style=\"display: inline-block; font-size: 11px; font-family: Helvetica; color: #000000; line-height: 1.2; pointer-events: all; background-color: #ffffff; white-space: nowrap; \"><font face=\"Courier New\" style=\"font-size: 18px\"><i>H</i><sub>1</sub></font></div></div></div></foreignObject><text x=\"98\" y=\"144\" fill=\"#000000\" font-family=\"Helvetica\" font-size=\"11px\" text-anchor=\"middle\">H1</text></switch></g><path d=\"M 39 464.63 L 39 76.37\" fill=\"none\" stroke=\"#000000\" stroke-miterlimit=\"10\" stroke-dasharray=\"3 3\" pointer-events=\"stroke\"/><path d=\"M 39 469.88 L 35.5 462.88 L 39 464.63 L 42.5 462.88 Z\" fill=\"#000000\" stroke=\"#000000\" stroke-miterlimit=\"10\" pointer-events=\"all\"/><path d=\"M 39 71.12 L 42.5 78.12 L 39 76.37 L 35.5 78.12 Z\" fill=\"#000000\" stroke=\"#000000\" stroke-miterlimit=\"10\" pointer-events=\"all\"/><g transform=\"translate(-0.5 -0.5)\"><switch><foreignObject style=\"overflow: visible; text-align: left;\" pointer-events=\"none\" width=\"100%\" height=\"100%\" requiredFeatures=\"http://www.w3.org/TR/SVG11/feature#Extensibility\"><div xmlns=\"http://www.w3.org/1999/xhtml\" style=\"display: flex; align-items: unsafe center; justify-content: unsafe center; width: 1px; height: 1px; padding-top: 270px; margin-left: 39px;\"><div style=\"box-sizing: border-box; font-size: 0; text-align: center; \"><div style=\"display: inline-block; font-size: 11px; font-family: Helvetica; color: #000000; line-height: 1.2; pointer-events: all; background-color: #ffffff; white-space: nowrap; \"><font style=\"font-size: 18px\" face=\"Courier New\"><i>H</i><sub>2</sub></font></div></div></div></foreignObject><text x=\"39\" y=\"273\" fill=\"#000000\" font-family=\"Helvetica\" font-size=\"11px\" text-anchor=\"middle\">H2</text></switch></g></g><switch><g requiredFeatures=\"http://www.w3.org/TR/SVG11/feature#Extensibility\"/><a transform=\"translate(0,-5)\" xlink:href=\"https://desk.draw.io/support/solutions/articles/16000042487\" target=\"_blank\"><text text-anchor=\"middle\" font-size=\"10px\" x=\"50%\" y=\"100%\">Viewer does not support full SVG 1.1</text></a></switch></svg>"
      ],
      "execution_count": null,
      "outputs": [
        {
          "output_type": "display_data",
          "data": {
            "text/plain": [
              "<IPython.core.display.SVG object>"
            ],
            "image/svg+xml": "<svg content=\"&lt;mxfile host=&quot;www.draw.io&quot; modified=&quot;2020-05-14T07:47:39.289Z&quot; agent=&quot;5.0 (Macintosh; Intel Mac OS X 10_10_5) AppleWebKit/537.36 (KHTML, like Gecko) Chrome/81.0.4044.138 Safari/537.36&quot; etag=&quot;4E0GK2uCkEgqNHfkopXM&quot; version=&quot;13.1.1&quot; type=&quot;google&quot;&gt;&lt;diagram id=&quot;Rk1kgF4CJR_5eJMBiW6s&quot; name=&quot;Page-1&quot;&gt;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&lt;/diagram&gt;&lt;/mxfile&gt;\" onclick=\"(function(svg){var src=window.event.target||window.event.srcElement;while (src!=null&amp;&amp;src.nodeName.toLowerCase()!='a'){src=src.parentNode;}if(src==null){if(svg.wnd!=null&amp;&amp;!svg.wnd.closed){svg.wnd.focus();}else{var r=function(evt){if(evt.data=='ready'&amp;&amp;evt.source==svg.wnd){svg.wnd.postMessage(decodeURIComponent(svg.getAttribute('content')),'*');window.removeEventListener('message',r);}};window.addEventListener('message',r);svg.wnd=window.open('https://www.draw.io/?client=1&amp;lightbox=1&amp;edit=_blank');}}})(this);\" style=\"cursor:pointer;max-width:100%;max-height:645px;\" version=\"1.1\" viewBox=\"-0.5 -0.5 403 645\" width=\"403px\" xmlns=\"http://www.w3.org/2000/svg\" xmlns:xlink=\"http://www.w3.org/1999/xlink\"><defs/><g><path d=\"M 15 -5 L 45 15 L 15 35 Z\" fill=\"#ffffff\" pointer-events=\"all\" stroke=\"#000000\" stroke-miterlimit=\"10\" transform=\"rotate(90,30,15)\"/><path d=\"M 160 190 L 240 190 L 260 210 L 260 490 L 180 490 L 160 470 L 160 190 Z\" fill=\"#ffffff\" pointer-events=\"all\" stroke=\"#000000\" stroke-dasharray=\"6 6\" stroke-miterlimit=\"10\" stroke-width=\"2\"/><path d=\"M 160 190 L 240 190 L 260 210 L 180 210 Z\" fill=\"#000000\" fill-opacity=\"0.05\" pointer-events=\"all\" stroke=\"none\"/><path d=\"M 160 190 L 180 210 L 180 490 L 160 470 Z\" fill=\"#000000\" fill-opacity=\"0.1\" pointer-events=\"all\" stroke=\"none\"/><path d=\"M 180 490 L 180 210 L 160 190 M 180 210 L 260 210\" fill=\"none\" pointer-events=\"all\" stroke=\"#000000\" stroke-dasharray=\"6 6\" stroke-miterlimit=\"10\" stroke-width=\"2\"/><path d=\"M 80 110 L 0 30\" fill=\"none\" pointer-events=\"stroke\" stroke=\"#000000\" stroke-miterlimit=\"10\"/><path d=\"M 400 110 L 320 30\" fill=\"none\" pointer-events=\"stroke\" stroke=\"#000000\" stroke-miterlimit=\"10\"/><path d=\"M 0 30 L 320 30\" fill=\"none\" pointer-events=\"stroke\" stroke=\"#000000\" stroke-miterlimit=\"10\"/><path d=\"M 80 110 L 400 110\" fill=\"none\" pointer-events=\"stroke\" stroke=\"#000000\" stroke-miterlimit=\"10\"/><path d=\"M 160 470 L 240 470\" fill=\"none\" pointer-events=\"stroke\" stroke=\"#000000\" stroke-dasharray=\"2 8\" stroke-miterlimit=\"10\" stroke-width=\"2\"/><path d=\"M 260 491 L 240 471\" fill=\"none\" pointer-events=\"stroke\" stroke=\"#000000\" stroke-dasharray=\"2 8\" stroke-miterlimit=\"10\" stroke-width=\"2\"/><path d=\"M 240 470 L 240 190\" fill=\"none\" pointer-events=\"stroke\" stroke=\"#000000\" stroke-dasharray=\"2 8\" stroke-miterlimit=\"10\" stroke-width=\"2\"/><path d=\"M 160 190 L 160 70\" fill=\"none\" pointer-events=\"stroke\" stroke=\"#000000\" stroke-dasharray=\"3 3\" stroke-miterlimit=\"10\"/><path d=\"M 180 210 L 180 90\" fill=\"none\" pointer-events=\"stroke\" stroke=\"#000000\" stroke-dasharray=\"3 3\" stroke-miterlimit=\"10\"/><path d=\"M 260 211 L 260 91\" fill=\"none\" pointer-events=\"stroke\" stroke=\"#000000\" stroke-dasharray=\"3 3\" stroke-miterlimit=\"10\"/><path d=\"M 240 191 L 240 71\" fill=\"none\" pointer-events=\"stroke\" stroke=\"#000000\" stroke-dasharray=\"3 3\" stroke-miterlimit=\"10\"/><rect fill=\"none\" height=\"30\" pointer-events=\"all\" stroke=\"none\" width=\"40\" x=\"190\" y=\"186\"/><g transform=\"translate(-0.5 -0.5)\"><switch><foreignObject height=\"100%\" pointer-events=\"none\" requiredFeatures=\"http://www.w3.org/TR/SVG11/feature#Extensibility\" style=\"overflow: visible; text-align: left;\" width=\"100%\"><div style=\"display: flex; align-items: unsafe center; justify-content: unsafe center; width: 1px; height: 1px; padding-top: 201px; margin-left: 210px;\" xmlns=\"http://www.w3.org/1999/xhtml\"><div style=\"box-sizing: border-box; font-size: 0; text-align: center; \"><div style=\"display: inline-block; font-size: 18px; font-family: Courier New; color: #000000; line-height: 1.2; pointer-events: all; white-space: nowrap; \"><i style=\"font-size: 18px\">S</i><sub style=\"font-size: 18px\">1</sub></div></div></div></foreignObject><text fill=\"#000000\" font-family=\"Courier New\" font-size=\"18px\" text-anchor=\"middle\" x=\"210\" y=\"206\">S1</text></switch></g><rect fill=\"none\" height=\"30\" pointer-events=\"all\" stroke=\"none\" width=\"40\" x=\"190\" y=\"465\"/><g transform=\"translate(-0.5 -0.5)\"><switch><foreignObject height=\"100%\" pointer-events=\"none\" requiredFeatures=\"http://www.w3.org/TR/SVG11/feature#Extensibility\" style=\"overflow: visible; text-align: left;\" width=\"100%\"><div style=\"display: flex; align-items: unsafe center; justify-content: unsafe center; width: 1px; height: 1px; padding-top: 480px; margin-left: 210px;\" xmlns=\"http://www.w3.org/1999/xhtml\"><div style=\"box-sizing: border-box; font-size: 0; text-align: center; \"><div style=\"display: inline-block; font-size: 18px; font-family: Courier New; color: #000000; line-height: 1.2; pointer-events: all; white-space: nowrap; \"><i style=\"font-size: 18px\">S</i><sub style=\"font-size: 18px\">2</sub></div></div></div></foreignObject><text fill=\"#000000\" font-family=\"Courier New\" font-size=\"18px\" text-anchor=\"middle\" x=\"210\" y=\"485\">S2</text></switch></g><path d=\"M 80 190 L 160 190\" fill=\"none\" pointer-events=\"stroke\" stroke=\"#000000\" stroke-miterlimit=\"10\"/><path d=\"M 40 470 L 160 470\" fill=\"none\" pointer-events=\"stroke\" stroke=\"#000000\" stroke-miterlimit=\"10\"/><rect fill=\"none\" height=\"30\" pointer-events=\"all\" stroke=\"none\" width=\"30\" x=\"319\" y=\"160\"/><g transform=\"translate(-0.5 -0.5)\"><switch><foreignObject height=\"100%\" pointer-events=\"none\" requiredFeatures=\"http://www.w3.org/TR/SVG11/feature#Extensibility\" style=\"overflow: visible; text-align: left;\" width=\"100%\"><div style=\"display: flex; align-items: unsafe center; justify-content: unsafe center; width: 1px; height: 1px; padding-top: 175px; margin-left: 334px;\" xmlns=\"http://www.w3.org/1999/xhtml\"><div style=\"box-sizing: border-box; font-size: 0; text-align: center; \"><div style=\"display: inline-block; font-size: 20px; font-family: Courier New; color: #000000; line-height: 1.2; pointer-events: all; font-style: italic; white-space: nowrap; \">ρ</div></div></div></foreignObject><text fill=\"#000000\" font-family=\"Courier New\" font-size=\"20px\" font-style=\"italic\" text-anchor=\"middle\" x=\"334\" y=\"181\">ρ</text></switch></g><path d=\"M 372 440.5 L 388 440.5 L 388 455.49 L 401.5 455.49 L 380 479.5 L 358.5 455.49 L 372 455.49 Z\" fill=\"none\" pointer-events=\"all\" stroke=\"#000000\" stroke-linejoin=\"round\" stroke-miterlimit=\"10\"/><g transform=\"translate(-0.5 -0.5)\"><switch><foreignObject height=\"100%\" pointer-events=\"none\" requiredFeatures=\"http://www.w3.org/TR/SVG11/feature#Extensibility\" style=\"overflow: visible; text-align: left;\" width=\"100%\"><div style=\"display: flex; align-items: unsafe center; justify-content: unsafe center; width: 1px; height: 1px; padding-top: 460px; margin-left: 380px;\" xmlns=\"http://www.w3.org/1999/xhtml\"><div style=\"box-sizing: border-box; font-size: 0; text-align: center; \"><div style=\"display: inline-block; font-size: 18px; font-family: Courier New; color: #000000; line-height: 1.2; pointer-events: all; background-color: #ffffff; white-space: nowrap; \"><i>g</i></div></div></div></foreignObject><text fill=\"#000000\" font-family=\"Courier New\" font-size=\"18px\" text-anchor=\"middle\" x=\"380\" y=\"465\">g</text></switch></g><rect fill=\"none\" height=\"30\" pointer-events=\"all\" stroke=\"none\" width=\"40\" x=\"50\" y=\"180\"/><g transform=\"translate(-0.5 -0.5)\"><switch><foreignObject height=\"100%\" pointer-events=\"none\" requiredFeatures=\"http://www.w3.org/TR/SVG11/feature#Extensibility\" style=\"overflow: visible; text-align: left;\" width=\"100%\"><div style=\"display: flex; align-items: unsafe center; justify-content: unsafe center; width: 1px; height: 1px; padding-top: 195px; margin-left: 70px;\" xmlns=\"http://www.w3.org/1999/xhtml\"><div style=\"box-sizing: border-box; font-size: 0; text-align: center; \"><div style=\"display: inline-block; font-size: 20px; font-family: Courier New; color: #000000; line-height: 1.2; pointer-events: all; font-weight: bold; white-space: nowrap; \"><i style=\"font-size: 20px\">P</i><sub style=\"font-size: 20px\">1</sub></div></div></div></foreignObject><text fill=\"#000000\" font-family=\"Courier New\" font-size=\"20px\" font-weight=\"bold\" text-anchor=\"middle\" x=\"70\" y=\"201\">P1</text></switch></g><rect fill=\"none\" height=\"30\" pointer-events=\"all\" stroke=\"none\" width=\"40\" x=\"4\" y=\"460\"/><g transform=\"translate(-0.5 -0.5)\"><switch><foreignObject height=\"100%\" pointer-events=\"none\" requiredFeatures=\"http://www.w3.org/TR/SVG11/feature#Extensibility\" style=\"overflow: visible; text-align: left;\" width=\"100%\"><div style=\"display: flex; align-items: unsafe center; justify-content: unsafe center; width: 1px; height: 1px; padding-top: 475px; margin-left: 24px;\" xmlns=\"http://www.w3.org/1999/xhtml\"><div style=\"box-sizing: border-box; font-size: 0; text-align: center; \"><div style=\"display: inline-block; font-size: 20px; font-family: Courier New; color: #000000; line-height: 1.2; pointer-events: all; font-weight: bold; white-space: nowrap; \"><i style=\"font-size: 20px\">P</i><sub style=\"font-size: 20px\">2</sub></div></div></div></foreignObject><text fill=\"#000000\" font-family=\"Courier New\" font-size=\"20px\" font-weight=\"bold\" text-anchor=\"middle\" x=\"24\" y=\"481\">P2</text></switch></g><path d=\"M 120 463.63 L 120 196.37\" fill=\"none\" pointer-events=\"stroke\" stroke=\"#000000\" stroke-miterlimit=\"10\"/><path d=\"M 120 468.88 L 116.5 461.88 L 120 463.63 L 123.5 461.88 Z\" fill=\"#000000\" pointer-events=\"all\" stroke=\"#000000\" stroke-miterlimit=\"10\"/><path d=\"M 120 191.12 L 123.5 198.12 L 120 196.37 L 116.5 198.12 Z\" fill=\"#000000\" pointer-events=\"all\" stroke=\"#000000\" stroke-miterlimit=\"10\"/><g transform=\"translate(-0.5 -0.5)\"><switch><foreignObject height=\"100%\" pointer-events=\"none\" requiredFeatures=\"http://www.w3.org/TR/SVG11/feature#Extensibility\" style=\"overflow: visible; text-align: left;\" width=\"100%\"><div style=\"display: flex; align-items: unsafe center; justify-content: unsafe center; width: 1px; height: 1px; padding-top: 321px; margin-left: 111px;\" xmlns=\"http://www.w3.org/1999/xhtml\"><div style=\"box-sizing: border-box; font-size: 0; text-align: center; \"><div style=\"display: inline-block; font-size: 20px; font-family: Courier New; color: #000000; line-height: 1.2; pointer-events: all; font-weight: bold; background-color: #ffffff; white-space: nowrap; \"><i><font style=\"font-size: 24px\">h</font></i></div></div></div></foreignObject><text fill=\"#000000\" font-family=\"Courier New\" font-size=\"20px\" font-weight=\"bold\" text-anchor=\"middle\" x=\"111\" y=\"327\">h</text></switch></g><path d=\"M 215 609.5 L 205 609.5 L 205 509.5 L 194.5 509.5 L 210 490.5 L 225.5 509.5 L 215 509.5 Z\" fill=\"none\" pointer-events=\"all\" stroke=\"#000000\" stroke-linejoin=\"round\" stroke-miterlimit=\"10\"/><g transform=\"translate(-0.5 -0.5)\"><switch><foreignObject height=\"100%\" pointer-events=\"none\" requiredFeatures=\"http://www.w3.org/TR/SVG11/feature#Extensibility\" style=\"overflow: visible; text-align: left;\" width=\"100%\"><div style=\"display: flex; align-items: unsafe center; justify-content: unsafe center; width: 1px; height: 1px; padding-top: 631px; margin-left: 209px;\" xmlns=\"http://www.w3.org/1999/xhtml\"><div style=\"box-sizing: border-box; font-size: 0; text-align: center; \"><div style=\"display: inline-block; font-size: 20px; font-family: Courier New; color: #000000; line-height: 1.2; pointer-events: all; background-color: #ffffff; white-space: nowrap; \"><i>F</i><sub>2</sub></div></div></div></foreignObject><text fill=\"#000000\" font-family=\"Courier New\" font-size=\"20px\" text-anchor=\"middle\" x=\"209\" y=\"637\">F2</text></switch></g><path d=\"M 205.5 140.45 L 215.49 140.55 L 215.19 170.55 L 225.69 170.66 L 210 189.5 L 194.7 170.35 L 205.2 170.45 Z\" fill=\"none\" pointer-events=\"all\" stroke=\"#000000\" stroke-linejoin=\"round\" stroke-miterlimit=\"10\"/><g transform=\"translate(-0.5 -0.5)\"><switch><foreignObject height=\"100%\" pointer-events=\"none\" requiredFeatures=\"http://www.w3.org/TR/SVG11/feature#Extensibility\" style=\"overflow: visible; text-align: left;\" width=\"100%\"><div style=\"display: flex; align-items: unsafe center; justify-content: unsafe center; width: 1px; height: 1px; padding-top: 125px; margin-left: 211px;\" xmlns=\"http://www.w3.org/1999/xhtml\"><div style=\"box-sizing: border-box; font-size: 0; text-align: center; \"><div style=\"display: inline-block; font-size: 20px; font-family: Courier New; color: #000000; line-height: 1.2; pointer-events: all; background-color: #ffffff; white-space: nowrap; \"><i>F</i><sub>1</sub></div></div></div></foreignObject><text fill=\"#000000\" font-family=\"Courier New\" font-size=\"20px\" text-anchor=\"middle\" x=\"211\" y=\"131\">F1</text></switch></g><path d=\"M 205.5 295.47 L 215.5 295.53 L 215.12 355.53 L 225.62 355.6 L 210 374.5 L 194.62 355.4 L 205.12 355.47 Z\" fill=\"none\" pointer-events=\"all\" stroke=\"#000000\" stroke-linejoin=\"round\" stroke-miterlimit=\"10\"/><g transform=\"translate(-0.5 -0.5)\"><switch><foreignObject height=\"100%\" pointer-events=\"none\" requiredFeatures=\"http://www.w3.org/TR/SVG11/feature#Extensibility\" style=\"overflow: visible; text-align: left;\" width=\"100%\"><div style=\"display: flex; align-items: unsafe center; justify-content: unsafe center; width: 1px; height: 1px; padding-top: 335px; margin-left: 210px;\" xmlns=\"http://www.w3.org/1999/xhtml\"><div style=\"box-sizing: border-box; font-size: 0; text-align: center; \"><div style=\"display: inline-block; font-size: 20px; font-family: Courier New; color: #000000; line-height: 1.2; pointer-events: all; background-color: #ffffff; white-space: nowrap; \"><i><font style=\"font-size: 24px\">W</font></i></div></div></div></foreignObject><text fill=\"#000000\" font-family=\"Courier New\" font-size=\"20px\" text-anchor=\"middle\" x=\"210\" y=\"341\">W</text></switch></g><path d=\"M 100 183.63 L 100 76.37\" fill=\"none\" pointer-events=\"stroke\" stroke=\"#000000\" stroke-dasharray=\"3 3\" stroke-miterlimit=\"10\"/><path d=\"M 100 188.88 L 96.5 181.88 L 100 183.63 L 103.5 181.88 Z\" fill=\"#000000\" pointer-events=\"all\" stroke=\"#000000\" stroke-miterlimit=\"10\"/><path d=\"M 100 71.12 L 103.5 78.12 L 100 76.37 L 96.5 78.12 Z\" fill=\"#000000\" pointer-events=\"all\" stroke=\"#000000\" stroke-miterlimit=\"10\"/><g transform=\"translate(-0.5 -0.5)\"><switch><foreignObject height=\"100%\" pointer-events=\"none\" requiredFeatures=\"http://www.w3.org/TR/SVG11/feature#Extensibility\" style=\"overflow: visible; text-align: left;\" width=\"100%\"><div style=\"display: flex; align-items: unsafe center; justify-content: unsafe center; width: 1px; height: 1px; padding-top: 141px; margin-left: 98px;\" xmlns=\"http://www.w3.org/1999/xhtml\"><div style=\"box-sizing: border-box; font-size: 0; text-align: center; \"><div style=\"display: inline-block; font-size: 11px; font-family: Helvetica; color: #000000; line-height: 1.2; pointer-events: all; background-color: #ffffff; white-space: nowrap; \"><font face=\"Courier New\" style=\"font-size: 18px\"><i>H</i><sub>1</sub></font></div></div></div></foreignObject><text fill=\"#000000\" font-family=\"Helvetica\" font-size=\"11px\" text-anchor=\"middle\" x=\"98\" y=\"144\">H1</text></switch></g><path d=\"M 39 464.63 L 39 76.37\" fill=\"none\" pointer-events=\"stroke\" stroke=\"#000000\" stroke-dasharray=\"3 3\" stroke-miterlimit=\"10\"/><path d=\"M 39 469.88 L 35.5 462.88 L 39 464.63 L 42.5 462.88 Z\" fill=\"#000000\" pointer-events=\"all\" stroke=\"#000000\" stroke-miterlimit=\"10\"/><path d=\"M 39 71.12 L 42.5 78.12 L 39 76.37 L 35.5 78.12 Z\" fill=\"#000000\" pointer-events=\"all\" stroke=\"#000000\" stroke-miterlimit=\"10\"/><g transform=\"translate(-0.5 -0.5)\"><switch><foreignObject height=\"100%\" pointer-events=\"none\" requiredFeatures=\"http://www.w3.org/TR/SVG11/feature#Extensibility\" style=\"overflow: visible; text-align: left;\" width=\"100%\"><div style=\"display: flex; align-items: unsafe center; justify-content: unsafe center; width: 1px; height: 1px; padding-top: 270px; margin-left: 39px;\" xmlns=\"http://www.w3.org/1999/xhtml\"><div style=\"box-sizing: border-box; font-size: 0; text-align: center; \"><div style=\"display: inline-block; font-size: 11px; font-family: Helvetica; color: #000000; line-height: 1.2; pointer-events: all; background-color: #ffffff; white-space: nowrap; \"><font face=\"Courier New\" style=\"font-size: 18px\"><i>H</i><sub>2</sub></font></div></div></div></foreignObject><text fill=\"#000000\" font-family=\"Helvetica\" font-size=\"11px\" text-anchor=\"middle\" x=\"39\" y=\"273\">H2</text></switch></g></g><switch><g requiredFeatures=\"http://www.w3.org/TR/SVG11/feature#Extensibility\"/><a target=\"_blank\" transform=\"translate(0,-5)\" xlink:href=\"https://desk.draw.io/support/solutions/articles/16000042487\"><text font-size=\"10px\" text-anchor=\"middle\" x=\"50%\" y=\"100%\">Viewer does not support full SVG 1.1</text></a></switch></svg>"
          },
          "metadata": {
            "tags": []
          }
        }
      ]
    },
    {
      "cell_type": "markdown",
      "metadata": {
        "id": "VD4LYlWMG1sO"
      },
      "source": [
        "上辺と底辺が水面に対して平行な仮想的な正四角柱(A)について働く力を考えていきます.  \n",
        "水(流体)の密度を $\\rho$, 重力加速度を$g$とします.\n",
        "(図より$h=H_2-H_1$$で、$もちろん$S_1=S_2=S$です).\n",
        "\n",
        "1. Aの上辺と底辺の深さ $H_1, H_2$ での圧力をそれぞれ $P_1, P_2$ とします.\n",
        "1. パスカルの原理から(A)の上断面積 $S_1$ には,下方に抑える力 $F_1$ が働きます.\n",
        "  - この力は圧力の定義から $F_1=P_1\\cdot S_1$\n",
        "1. 同様に(A)の下断面積 $S_2$ には, 上方に力 $F_2$ が働きます.\n",
        "  - この力は圧力の定義から $F_2=P_2\\cdot S_2$\n",
        "1. この四角柱(A)には、重力 $W$ 働きます.\n",
        "  - 重力の大きさは $W=mg$\n",
        "  - 四角柱の体積 $V$ は, $V=S\\cdot h$\n",
        "  - 四角柱の質量は密度の定義から $\\rho=\\dfrac{M}{V}$\n",
        "\n",
        "これらを利用して力の釣り合いを考え整理していくと\n",
        "$$\n",
        "\\require{cancel}\n",
        "\\begin{align*}\n",
        "F_2 &= F_1 + W&\\\\\n",
        "P_2\\cdot S_2 &= P_1\\cdot S_1 + M g&\\\\\n",
        "P_2\\cdot \\cancel{S} \n",
        "&= P_1\\cdot \\cancel{S} + \\rho \\cancel{S} h g&\\\\\n",
        "P_2 &= P_1 + \\rho h g\n",
        "\\end{align*}\n",
        "$$\n",
        "この考察の途中で断面積 $S$ が消去されています. これは正四角柱(A)の形状に依存しない. つまり,\n",
        "> 重力下における静止流体の圧力は深さによってのみ決まる\n",
        "\n",
        "ということができます.\n"
      ]
    },
    {
      "cell_type": "code",
      "metadata": {
        "id": "-CJ5gdFwoE1O",
        "cellView": "form",
        "colab": {
          "base_uri": "https://localhost:8080/",
          "height": 336
        },
        "outputId": "f57fd52e-7b84-4203-f2a1-63e3657505d5"
      },
      "source": [
        "#@title 連通管\n",
        "%%html\n",
        "<iframe width=\"560\" height=\"315\" src=\"https://www.youtube-nocookie.com/embed/tViaj8IJAG0\" frameborder=\"0\" allow=\"accelerometer; autoplay; encrypted-media; gyroscope; picture-in-picture\" allowfullscreen></iframe>"
      ],
      "execution_count": null,
      "outputs": [
        {
          "output_type": "display_data",
          "data": {
            "text/html": [
              "<iframe width=\"560\" height=\"315\" src=\"https://www.youtube-nocookie.com/embed/tViaj8IJAG0\" frameborder=\"0\" allow=\"accelerometer; autoplay; encrypted-media; gyroscope; picture-in-picture\" allowfullscreen></iframe>"
            ],
            "text/plain": [
              "<IPython.core.display.HTML object>"
            ]
          },
          "metadata": {
            "tags": []
          }
        }
      ]
    },
    {
      "cell_type": "markdown",
      "metadata": {
        "id": "iJ2wufBVPZXJ"
      },
      "source": [
        "#### 大気圧\n",
        "これまで考えた仮想的な正四角柱の下面を水面にとり,\n",
        "上方に大気を考えたものが **大気圧** です.\n",
        "ただし, 大気の密度は地表近くと大気圏で異なるため, 歴史的には水銀柱を利用し, 一気圧が定義されています."
      ]
    },
    {
      "cell_type": "markdown",
      "metadata": {
        "id": "tYJ3EQlgUEXO"
      },
      "source": [
        "##### トリチィリの実験"
      ]
    },
    {
      "cell_type": "code",
      "metadata": {
        "id": "ILVEvqmJT-kj",
        "colab": {
          "base_uri": "https://localhost:8080/",
          "height": 336
        },
        "cellView": "form",
        "outputId": "6fe34d73-363c-46e0-fa47-be0ceb437f0d"
      },
      "source": [
        "#@title 水銀柱による気圧測定\n",
        "#@markdown 次の動画の最上部は空気が侵入する余地がないので, 真空つまり圧力(ほぼ)ゼロです.\n",
        "%%html\n",
        "<iframe width=\"560\" height=\"315\" src=\"https://www.youtube-nocookie.com/embed/GgBE8_SyQCU\" frameborder=\"0\" allow=\"accelerometer; autoplay; encrypted-media; gyroscope; picture-in-picture\" allowfullscreen></iframe>"
      ],
      "execution_count": null,
      "outputs": [
        {
          "output_type": "display_data",
          "data": {
            "text/html": [
              "<iframe width=\"560\" height=\"315\" src=\"https://www.youtube-nocookie.com/embed/GgBE8_SyQCU\" frameborder=\"0\" allow=\"accelerometer; autoplay; encrypted-media; gyroscope; picture-in-picture\" allowfullscreen></iframe>"
            ],
            "text/plain": [
              "<IPython.core.display.HTML object>"
            ]
          },
          "metadata": {
            "tags": []
          }
        }
      ]
    },
    {
      "cell_type": "markdown",
      "metadata": {
        "id": "pYHjXpiCd7sI"
      },
      "source": [
        "\b圧力の単位 mmHg"
      ]
    },
    {
      "cell_type": "markdown",
      "metadata": {
        "id": "erQqhU-SOUmC"
      },
      "source": [
        "### パスカルの原理"
      ]
    },
    {
      "cell_type": "code",
      "metadata": {
        "cellView": "form",
        "colab": {
          "base_uri": "https://localhost:8080/",
          "height": 336
        },
        "id": "NnMVMpQjBqWp",
        "outputId": "ad9b6467-6401-49a7-efa4-f6e9b2bf6bd7"
      },
      "source": [
        "#@title 水圧機の動画(通信量注意)\n",
        "%%html\n",
        "<iframe width=\"560\" height=\"315\" src=\"https://www.youtube-nocookie.com/embed/4xegpADGUBM\" frameborder=\"0\" allow=\"accelerometer; autoplay; encrypted-media; gyroscope; picture-in-picture\" allowfullscreen></iframe>"
      ],
      "execution_count": null,
      "outputs": [
        {
          "output_type": "display_data",
          "data": {
            "text/html": [
              "<iframe width=\"560\" height=\"315\" src=\"https://www.youtube-nocookie.com/embed/4xegpADGUBM\" frameborder=\"0\" allow=\"accelerometer; autoplay; encrypted-media; gyroscope; picture-in-picture\" allowfullscreen></iframe>"
            ],
            "text/plain": [
              "<IPython.core.display.HTML object>"
            ]
          },
          "metadata": {
            "tags": []
          }
        }
      ]
    },
    {
      "cell_type": "markdown",
      "metadata": {
        "id": "9VGtMaHgBt_Q"
      },
      "source": [
        "> 容器に密閉された流体の一点に加えられた圧力は流体全体に伝わり, すべての面に対して垂直な力を生じる."
      ]
    },
    {
      "cell_type": "code",
      "metadata": {
        "id": "ZUbKB_hBZiQ0",
        "cellView": "form",
        "colab": {
          "base_uri": "https://localhost:8080/",
          "height": 336
        },
        "outputId": "b6a37c73-0cb2-4ddf-e34a-cf96e805cabe"
      },
      "source": [
        "#@title 風船の形状に注目\n",
        "%%html\n",
        "<iframe width=\"560\" height=\"315\" src=\"https://www.youtube-nocookie.com/embed/JZSajBakGK4?start=34\" frameborder=\"0\" allow=\"accelerometer; autoplay; encrypted-media; gyroscope; picture-in-picture\" allowfullscreen></iframe>"
      ],
      "execution_count": null,
      "outputs": [
        {
          "output_type": "display_data",
          "data": {
            "text/html": [
              "<iframe width=\"560\" height=\"315\" src=\"https://www.youtube-nocookie.com/embed/JZSajBakGK4?start=34\" frameborder=\"0\" allow=\"accelerometer; autoplay; encrypted-media; gyroscope; picture-in-picture\" allowfullscreen></iframe>"
            ],
            "text/plain": [
              "<IPython.core.display.HTML object>"
            ]
          },
          "metadata": {
            "tags": []
          }
        }
      ]
    },
    {
      "cell_type": "markdown",
      "metadata": {
        "id": "onvZhaGzdfDu"
      },
      "source": [
        "#### 水圧機の原理解説\n",
        "\n",
        "[ref http://www.mstworkbooks.co.za/technology/gr9/gr9-technology-05.html](http://www.mstworkbooks.co.za/technology/gr9/Tech_English_LG_Grade9_term2-web-resources/image/Tech_9A-Chapter-5-fig-_opt.jpeg)\n",
        "\n",
        "上の図のような大小大きさの異なるピストンを考えます.\n",
        "* 小さい方のピストンA の黒いフタの断面積を$a$, この蓋に垂直に働く力を$F$\n",
        "* 大きい方のピストンB の黒いフタ断面積を$b$, この蓋に垂直に働く力を$F'$\n",
        "  * $a<b$であることは条件から明らかでしょう.\n",
        "\n",
        "これを用いてピストン A,B のそれぞれの\n",
        "フタに働く圧力 $P_{\\rm A}, P_{\\rm B}$ を求めると\n",
        "\n",
        "$$\n",
        "P_{\\rm A} = \\dfrac{F}{a}, \\qquad P_{\\rm B} = \\dfrac{F'}{b}\n",
        "$$\n",
        "\n",
        "となります. 一方パスカルの原理から\n",
        "> 容器内に閉じ込められた流体の圧力はどこでも等しい\n",
        "\n",
        "ので\n",
        "$$\n",
        "\\begin{align*}\n",
        "P_{\\rm A}&=P_{\\rm B}&\\\\\n",
        "\\dfrac{F}{a}&=\\dfrac{F'}{b}\n",
        "\\end{align*}\n",
        "$$\n",
        "これをさらに変形し, $F'$ についてまとめると\n",
        "$$\n",
        "\\begin{align*}\n",
        "F' = \\dfrac{b}{a}F\n",
        "\\end{align*}\n",
        "$$\n",
        "ここで断面積の関係 $a<b$ から $1<\\frac{b}{a}$ なので\n",
        "$$\n",
        "\\begin{align*}\n",
        "F' &= \\dfrac{b}{a}F > F&\\\\\n",
        "F' &> F&\n",
        "\\end{align*}\n",
        "$$\n",
        "このことから, 水圧機を利用すると\n",
        "> 小さな力で大きな力を得る\n",
        "\n",
        "ことができます."
      ]
    },
    {
      "cell_type": "markdown",
      "metadata": {
        "id": "tMZcqW87OUtb"
      },
      "source": [
        "### 浮力とアルキメデスの原理"
      ]
    },
    {
      "cell_type": "code",
      "metadata": {
        "id": "I7docej4bLf_",
        "colab": {
          "base_uri": "https://localhost:8080/",
          "height": 666
        },
        "cellView": "form",
        "outputId": "46f7e3b8-3d2a-422c-e1c9-7a14d2cc964a"
      },
      "source": [
        "#@title 浮力の直感的理解\n",
        "#@markdown 高低差の圧力差で考えた図をもとに考えてみます.\n",
        "%%html\n",
        "<svg xmlns=\"http://www.w3.org/2000/svg\" xmlns:xlink=\"http://www.w3.org/1999/xlink\" version=\"1.1\" width=\"403px\" viewBox=\"-0.5 -0.5 403 645\" content=\"&lt;mxfile host=&quot;app.diagrams.net&quot; modified=&quot;2020-05-14T09:16:35.428Z&quot; agent=&quot;5.0 (Macintosh; Intel Mac OS X 10_15_4) AppleWebKit/537.36 (KHTML, like Gecko) Chrome/81.0.4044.138 Safari/537.36&quot; etag=&quot;5l4TlGTMNsxJTc0Py9sg&quot; version=&quot;13.1.1&quot; type=&quot;google&quot;&gt;&lt;diagram id=&quot;Rk1kgF4CJR_5eJMBiW6s&quot; name=&quot;Page-1&quot;&gt;7Vttc6I6FP41frQD4UX9WN12d/bu3u3c3tndrxEiZorEG2K1/fU3gYAkoCIFWrsdZxx4Ek6S85xzco7BgTVb7T5TuF5+Jz4KB8DwdwPr0wAA13b5twCeUsABZgoEFPspVADu8TOSoCHRDfZRrHRkhIQMr1XQI1GEPKZgkFKyVbstSKiOuoYBKgH3HgzL6C/ss2WKjsFoj39BOFhmI5vuJG1ZwayzXEm8hD7ZFiDrZmDNKCEsvVrtZigUusv0kj53e6A1nxhFEavzwJq6P//9/XX4fPPPCn//SeHXv+IhSKU8wnAjFywny54yDTCKYRSIu+l2iRm6X0NPNG053xxbslXI70x+6WPKKcAk4vcx2Yj1T8uzlBN/RJShXQGSs/6MyAox+sS7yNaJVKC0oNw0tns+bAktC1RYEoPSAoJc8F5J/ELq6QydWad1xrlei0tvM6+htznZRD7yv81zAHoPARXojw0LcYQyBUP68IOLwUzowrgyHBUECSp6xoySh9xizXaIyNX8lGm9zIRpVFLRFRemeZoMFPnXIhLwu4gIXRZ1f1AtyFcCQ1kphUU7FWvOMIpCyPCjGk6q9CBHuCOYzyTXuemqOreApkruaNRD8qmi+2uCxpoX2ZocBmmAWElOwkq+6hcQVSPSXDRR9rglonKvei2masS3i2bqlCdcDFH2Oyeqtdh30je7ZsptwpQP4yXyJVfFNIvjd5AxRKMEAYZd2vHBBdCrpxPuuCG9OZ2HBHVN7+iD3gpWNHpHhtkWvWa/9I4/6G3gdE3ptfVioWN6s+HbofeMwuuNEHmwqjuXSF0Q6DkMg0a14DsiUkuX7Kbpki6oVL53TWSjWvH9EKnvnLYuonZotXUi+905QaNS8h0RWdraWkqBQM8pEGhUwBzlbkEidgtXOBRLmnE9YES5wL/RVjbKswBeO719ovVKtbU9tPdkqFEp8wcR3VbWe7L47ZroSZno2e0giyvF8x+0YyrHMMSBKF48ThLn0pqKIwTswfBaNqyw7ycHRhTF+BnOE1EGv1+L5SQLdKYD55OQtWEklgag2gMwahmPnCg4aDn1zzesyUTdLkfl8w2rwra6O2mqUZpkR02LEO2kW04LHuqFMI6x15qTjsVxVvagm44l20ZX7igF8jr2Elza1mK36zR06ZKgSb8ubVXVP24onBfzi0BcBBnCR8jBcoTnzHyDcxR25/e6TR01wLIJHXcX3ePz1wPklAbFE/iqSDA0rgzLshQ6h+bLzC3rQhaLGHVjAFV1U24ABYLd/zbirYNE6cM0+l7zDlzFu0TbWXtmIHfVVpNi8Wb+IuFmQXgi64BRlvch3cq0vaS+uVaYJw7DGQkJ3Sc5adDUQJoe3csJKJVL3ZCa73PZVlbxZsfZW5lpaZXfpLyV9fvSRNVh1bm22Z1hliSDD6ts3yrHtrpBVuRX/RpljWqn3/wqUftbz5j0N7LGjX9o1ASNeq52raqTHS1juj0ZYs4LGP3mVqeLqLq5VeYqbeRWwHVHCvHgZXaZxRNbfaLDTKuiev4IHHUCx5Wj5iVNiy09dPT9Q5ldVZo3DB11M+C3HzoOZQRnB4nSS7+jIznAa0cDu0bhnQFCobWyUlvNSrkC0xSvCFrIFZ9y9vqrYFHpiOosjlb/rxC41CyWL+zGFZ+LDGmO4bQT0pyxJqhxSOO3+/8ZpN33f9awbv4H&lt;/diagram&gt;&lt;/mxfile&gt;\" onclick=\"(function(svg){var src=window.event.target||window.event.srcElement;while (src!=null&amp;&amp;src.nodeName.toLowerCase()!='a'){src=src.parentNode;}if(src==null){if(svg.wnd!=null&amp;&amp;!svg.wnd.closed){svg.wnd.focus();}else{var r=function(evt){if(evt.data=='ready'&amp;&amp;evt.source==svg.wnd){svg.wnd.postMessage(decodeURIComponent(svg.getAttribute('content')),'*');window.removeEventListener('message',r);}};window.addEventListener('message',r);svg.wnd=window.open('https://app.diagrams.net/?client=1&amp;lightbox=1&amp;edit=_blank');}}})(this);\" style=\"cursor:pointer;max-width:100%;max-height:645px;\"><defs/><g><path d=\"M 15 -5 L 45 15 L 15 35 Z\" fill=\"#ffffff\" stroke=\"#000000\" stroke-miterlimit=\"10\" transform=\"rotate(90,30,15)\" pointer-events=\"all\"/><path d=\"M 160 190 L 240 190 L 260 210 L 260 490 L 180 490 L 160 470 L 160 190 Z\" fill=\"#ffffff\" stroke=\"#000000\" stroke-miterlimit=\"10\" pointer-events=\"all\"/><path d=\"M 160 190 L 240 190 L 260 210 L 180 210 Z\" fill-opacity=\"0.05\" fill=\"#000000\" stroke=\"none\" pointer-events=\"all\"/><path d=\"M 160 190 L 180 210 L 180 490 L 160 470 Z\" fill-opacity=\"0.1\" fill=\"#000000\" stroke=\"none\" pointer-events=\"all\"/><path d=\"M 180 490 L 180 210 L 160 190 M 180 210 L 260 210\" fill=\"none\" stroke=\"#000000\" stroke-miterlimit=\"10\" pointer-events=\"all\"/><path d=\"M 80 110 L 0 30\" fill=\"none\" stroke=\"#000000\" stroke-miterlimit=\"10\" pointer-events=\"stroke\"/><path d=\"M 400 110 L 320 30\" fill=\"none\" stroke=\"#000000\" stroke-miterlimit=\"10\" pointer-events=\"stroke\"/><path d=\"M 0 30 L 320 30\" fill=\"none\" stroke=\"#000000\" stroke-miterlimit=\"10\" pointer-events=\"stroke\"/><path d=\"M 80 110 L 400 110\" fill=\"none\" stroke=\"#000000\" stroke-miterlimit=\"10\" pointer-events=\"stroke\"/><path d=\"M 160 470 L 240 470\" fill=\"none\" stroke=\"#000000\" stroke-width=\"2\" stroke-miterlimit=\"10\" stroke-dasharray=\"2 8\" pointer-events=\"stroke\"/><path d=\"M 260 491 L 240 471\" fill=\"none\" stroke=\"#000000\" stroke-width=\"2\" stroke-miterlimit=\"10\" stroke-dasharray=\"2 8\" pointer-events=\"stroke\"/><path d=\"M 240 470 L 240 190\" fill=\"none\" stroke=\"#000000\" stroke-width=\"2\" stroke-miterlimit=\"10\" stroke-dasharray=\"2 8\" pointer-events=\"stroke\"/><path d=\"M 160 190 L 160 70\" fill=\"none\" stroke=\"#000000\" stroke-miterlimit=\"10\" stroke-dasharray=\"3 3\" pointer-events=\"stroke\"/><path d=\"M 180 210 L 180 90\" fill=\"none\" stroke=\"#000000\" stroke-miterlimit=\"10\" stroke-dasharray=\"3 3\" pointer-events=\"stroke\"/><path d=\"M 260 211 L 260 91\" fill=\"none\" stroke=\"#000000\" stroke-miterlimit=\"10\" stroke-dasharray=\"3 3\" pointer-events=\"stroke\"/><path d=\"M 240 191 L 240 71\" fill=\"none\" stroke=\"#000000\" stroke-miterlimit=\"10\" stroke-dasharray=\"3 3\" pointer-events=\"stroke\"/><path d=\"M 80 190 L 160 190\" fill=\"none\" stroke=\"#000000\" stroke-miterlimit=\"10\" pointer-events=\"stroke\"/><path d=\"M 40 470 L 160 470\" fill=\"none\" stroke=\"#000000\" stroke-miterlimit=\"10\" pointer-events=\"stroke\"/><rect x=\"319\" y=\"160\" width=\"30\" height=\"30\" fill=\"none\" stroke=\"none\" pointer-events=\"all\"/><g transform=\"translate(-0.5 -0.5)\"><switch><foreignObject style=\"overflow: visible; text-align: left;\" pointer-events=\"none\" width=\"100%\" height=\"100%\" requiredFeatures=\"http://www.w3.org/TR/SVG11/feature#Extensibility\"><div xmlns=\"http://www.w3.org/1999/xhtml\" style=\"display: flex; align-items: unsafe center; justify-content: unsafe center; width: 1px; height: 1px; padding-top: 175px; margin-left: 334px;\"><div style=\"box-sizing: border-box; font-size: 0; text-align: center; \"><div style=\"display: inline-block; font-size: 20px; font-family: Courier New; color: #000000; line-height: 1.2; pointer-events: all; font-style: italic; white-space: nowrap; \">ρ</div></div></div></foreignObject><text x=\"334\" y=\"181\" fill=\"#000000\" font-family=\"Courier New\" font-size=\"20px\" text-anchor=\"middle\" font-style=\"italic\">ρ</text></switch></g><path d=\"M 372 440.5 L 388 440.5 L 388 455.49 L 401.5 455.49 L 380 479.5 L 358.5 455.49 L 372 455.49 Z\" fill=\"none\" stroke=\"#000000\" stroke-linejoin=\"round\" stroke-miterlimit=\"10\" pointer-events=\"all\"/><g transform=\"translate(-0.5 -0.5)\"><switch><foreignObject style=\"overflow: visible; text-align: left;\" pointer-events=\"none\" width=\"100%\" height=\"100%\" requiredFeatures=\"http://www.w3.org/TR/SVG11/feature#Extensibility\"><div xmlns=\"http://www.w3.org/1999/xhtml\" style=\"display: flex; align-items: unsafe center; justify-content: unsafe center; width: 1px; height: 1px; padding-top: 460px; margin-left: 380px;\"><div style=\"box-sizing: border-box; font-size: 0; text-align: center; \"><div style=\"display: inline-block; font-size: 18px; font-family: Courier New; color: #000000; line-height: 1.2; pointer-events: all; background-color: #ffffff; white-space: nowrap; \"><i>g</i></div></div></div></foreignObject><text x=\"380\" y=\"465\" fill=\"#000000\" font-family=\"Courier New\" font-size=\"18px\" text-anchor=\"middle\">g</text></switch></g><rect x=\"50\" y=\"180\" width=\"40\" height=\"30\" fill=\"none\" stroke=\"none\" pointer-events=\"all\"/><g transform=\"translate(-0.5 -0.5)\"><switch><foreignObject style=\"overflow: visible; text-align: left;\" pointer-events=\"none\" width=\"100%\" height=\"100%\" requiredFeatures=\"http://www.w3.org/TR/SVG11/feature#Extensibility\"><div xmlns=\"http://www.w3.org/1999/xhtml\" style=\"display: flex; align-items: unsafe center; justify-content: unsafe center; width: 1px; height: 1px; padding-top: 195px; margin-left: 70px;\"><div style=\"box-sizing: border-box; font-size: 0; text-align: center; \"><div style=\"display: inline-block; font-size: 20px; font-family: Courier New; color: #000000; line-height: 1.2; pointer-events: all; font-weight: bold; white-space: nowrap; \"><i style=\"font-size: 20px\">P</i><sub style=\"font-size: 20px\">1</sub></div></div></div></foreignObject><text x=\"70\" y=\"201\" fill=\"#000000\" font-family=\"Courier New\" font-size=\"20px\" text-anchor=\"middle\" font-weight=\"bold\">P1</text></switch></g><rect x=\"4\" y=\"460\" width=\"40\" height=\"30\" fill=\"none\" stroke=\"none\" pointer-events=\"all\"/><g transform=\"translate(-0.5 -0.5)\"><switch><foreignObject style=\"overflow: visible; text-align: left;\" pointer-events=\"none\" width=\"100%\" height=\"100%\" requiredFeatures=\"http://www.w3.org/TR/SVG11/feature#Extensibility\"><div xmlns=\"http://www.w3.org/1999/xhtml\" style=\"display: flex; align-items: unsafe center; justify-content: unsafe center; width: 1px; height: 1px; padding-top: 475px; margin-left: 24px;\"><div style=\"box-sizing: border-box; font-size: 0; text-align: center; \"><div style=\"display: inline-block; font-size: 20px; font-family: Courier New; color: #000000; line-height: 1.2; pointer-events: all; font-weight: bold; white-space: nowrap; \"><i style=\"font-size: 20px\">P</i><sub style=\"font-size: 20px\">2</sub></div></div></div></foreignObject><text x=\"24\" y=\"481\" fill=\"#000000\" font-family=\"Courier New\" font-size=\"20px\" text-anchor=\"middle\" font-weight=\"bold\">P2</text></switch></g><path d=\"M 215 609.5 L 205 609.5 L 205 509.5 L 194.5 509.5 L 210 490.5 L 225.5 509.5 L 215 509.5 Z\" fill=\"none\" stroke=\"#000000\" stroke-linejoin=\"round\" stroke-miterlimit=\"10\" pointer-events=\"all\"/><g transform=\"translate(-0.5 -0.5)\"><switch><foreignObject style=\"overflow: visible; text-align: left;\" pointer-events=\"none\" width=\"100%\" height=\"100%\" requiredFeatures=\"http://www.w3.org/TR/SVG11/feature#Extensibility\"><div xmlns=\"http://www.w3.org/1999/xhtml\" style=\"display: flex; align-items: unsafe center; justify-content: unsafe center; width: 1px; height: 1px; padding-top: 631px; margin-left: 209px;\"><div style=\"box-sizing: border-box; font-size: 0; text-align: center; \"><div style=\"display: inline-block; font-size: 20px; font-family: Courier New; color: #000000; line-height: 1.2; pointer-events: all; background-color: #ffffff; white-space: nowrap; \"><i>F</i><sub>2</sub></div></div></div></foreignObject><text x=\"209\" y=\"637\" fill=\"#000000\" font-family=\"Courier New\" font-size=\"20px\" text-anchor=\"middle\">F2</text></switch></g><path d=\"M 205.5 140.45 L 215.49 140.55 L 215.19 170.55 L 225.69 170.66 L 210 189.5 L 194.7 170.35 L 205.2 170.45 Z\" fill=\"none\" stroke=\"#000000\" stroke-linejoin=\"round\" stroke-miterlimit=\"10\" pointer-events=\"all\"/><g transform=\"translate(-0.5 -0.5)\"><switch><foreignObject style=\"overflow: visible; text-align: left;\" pointer-events=\"none\" width=\"100%\" height=\"100%\" requiredFeatures=\"http://www.w3.org/TR/SVG11/feature#Extensibility\"><div xmlns=\"http://www.w3.org/1999/xhtml\" style=\"display: flex; align-items: unsafe center; justify-content: unsafe center; width: 1px; height: 1px; padding-top: 125px; margin-left: 211px;\"><div style=\"box-sizing: border-box; font-size: 0; text-align: center; \"><div style=\"display: inline-block; font-size: 20px; font-family: Courier New; color: #000000; line-height: 1.2; pointer-events: all; background-color: #ffffff; white-space: nowrap; \"><i>F</i><sub>1</sub></div></div></div></foreignObject><text x=\"211\" y=\"131\" fill=\"#000000\" font-family=\"Courier New\" font-size=\"20px\" text-anchor=\"middle\">F1</text></switch></g><path d=\"M 205.5 295.47 L 215.5 295.53 L 215.12 355.53 L 225.62 355.6 L 210 374.5 L 194.62 355.4 L 205.12 355.47 Z\" fill=\"none\" stroke=\"#e6e6e6\" stroke-linejoin=\"round\" stroke-miterlimit=\"10\" pointer-events=\"all\"/><g transform=\"translate(-0.5 -0.5)\"><switch><foreignObject style=\"overflow: visible; text-align: left;\" pointer-events=\"none\" width=\"100%\" height=\"100%\" requiredFeatures=\"http://www.w3.org/TR/SVG11/feature#Extensibility\"><div xmlns=\"http://www.w3.org/1999/xhtml\" style=\"display: flex; align-items: unsafe center; justify-content: unsafe center; width: 1px; height: 1px; padding-top: 335px; margin-left: 210px;\"><div style=\"box-sizing: border-box; font-size: 0; text-align: center; \"><div style=\"display: inline-block; font-size: 20px; font-family: Courier New; color: #000000; line-height: 1.2; pointer-events: all; background-color: #ffffff; white-space: nowrap; \"><i><font style=\"font-size: 24px\" color=\"#e6e6e6\">W</font></i></div></div></div></foreignObject><text x=\"210\" y=\"341\" fill=\"#000000\" font-family=\"Courier New\" font-size=\"20px\" text-anchor=\"middle\">W</text></switch></g></g><switch><g requiredFeatures=\"http://www.w3.org/TR/SVG11/feature#Extensibility\"/><a transform=\"translate(0,-5)\" xlink:href=\"https://desk.draw.io/support/solutions/articles/16000042487\" target=\"_blank\"><text text-anchor=\"middle\" font-size=\"10px\" x=\"50%\" y=\"100%\">Viewer does not support full SVG 1.1</text></a></switch></svg>"
      ],
      "execution_count": null,
      "outputs": [
        {
          "output_type": "display_data",
          "data": {
            "text/html": [
              "<svg xmlns=\"http://www.w3.org/2000/svg\" xmlns:xlink=\"http://www.w3.org/1999/xlink\" version=\"1.1\" width=\"403px\" viewBox=\"-0.5 -0.5 403 645\" content=\"&lt;mxfile host=&quot;app.diagrams.net&quot; modified=&quot;2020-05-14T09:16:35.428Z&quot; agent=&quot;5.0 (Macintosh; Intel Mac OS X 10_15_4) AppleWebKit/537.36 (KHTML, like Gecko) Chrome/81.0.4044.138 Safari/537.36&quot; etag=&quot;5l4TlGTMNsxJTc0Py9sg&quot; version=&quot;13.1.1&quot; type=&quot;google&quot;&gt;&lt;diagram id=&quot;Rk1kgF4CJR_5eJMBiW6s&quot; name=&quot;Page-1&quot;&gt;7Vttc6I6FP41frQD4UX9WN12d/bu3u3c3tndrxEiZorEG2K1/fU3gYAkoCIFWrsdZxx4Ek6S85xzco7BgTVb7T5TuF5+Jz4KB8DwdwPr0wAA13b5twCeUsABZgoEFPspVADu8TOSoCHRDfZRrHRkhIQMr1XQI1GEPKZgkFKyVbstSKiOuoYBKgH3HgzL6C/ss2WKjsFoj39BOFhmI5vuJG1ZwayzXEm8hD7ZFiDrZmDNKCEsvVrtZigUusv0kj53e6A1nxhFEavzwJq6P//9/XX4fPPPCn//SeHXv+IhSKU8wnAjFywny54yDTCKYRSIu+l2iRm6X0NPNG053xxbslXI70x+6WPKKcAk4vcx2Yj1T8uzlBN/RJShXQGSs/6MyAox+sS7yNaJVKC0oNw0tns+bAktC1RYEoPSAoJc8F5J/ELq6QydWad1xrlei0tvM6+htznZRD7yv81zAHoPARXojw0LcYQyBUP68IOLwUzowrgyHBUECSp6xoySh9xizXaIyNX8lGm9zIRpVFLRFRemeZoMFPnXIhLwu4gIXRZ1f1AtyFcCQ1kphUU7FWvOMIpCyPCjGk6q9CBHuCOYzyTXuemqOreApkruaNRD8qmi+2uCxpoX2ZocBmmAWElOwkq+6hcQVSPSXDRR9rglonKvei2masS3i2bqlCdcDFH2Oyeqtdh30je7ZsptwpQP4yXyJVfFNIvjd5AxRKMEAYZd2vHBBdCrpxPuuCG9OZ2HBHVN7+iD3gpWNHpHhtkWvWa/9I4/6G3gdE3ptfVioWN6s+HbofeMwuuNEHmwqjuXSF0Q6DkMg0a14DsiUkuX7Kbpki6oVL53TWSjWvH9EKnvnLYuonZotXUi+905QaNS8h0RWdraWkqBQM8pEGhUwBzlbkEidgtXOBRLmnE9YES5wL/RVjbKswBeO719ovVKtbU9tPdkqFEp8wcR3VbWe7L47ZroSZno2e0giyvF8x+0YyrHMMSBKF48ThLn0pqKIwTswfBaNqyw7ycHRhTF+BnOE1EGv1+L5SQLdKYD55OQtWEklgag2gMwahmPnCg4aDn1zzesyUTdLkfl8w2rwra6O2mqUZpkR02LEO2kW04LHuqFMI6x15qTjsVxVvagm44l20ZX7igF8jr2Elza1mK36zR06ZKgSb8ubVXVP24onBfzi0BcBBnCR8jBcoTnzHyDcxR25/e6TR01wLIJHXcX3ePz1wPklAbFE/iqSDA0rgzLshQ6h+bLzC3rQhaLGHVjAFV1U24ABYLd/zbirYNE6cM0+l7zDlzFu0TbWXtmIHfVVpNi8Wb+IuFmQXgi64BRlvch3cq0vaS+uVaYJw7DGQkJ3Sc5adDUQJoe3csJKJVL3ZCa73PZVlbxZsfZW5lpaZXfpLyV9fvSRNVh1bm22Z1hliSDD6ts3yrHtrpBVuRX/RpljWqn3/wqUftbz5j0N7LGjX9o1ASNeq52raqTHS1juj0ZYs4LGP3mVqeLqLq5VeYqbeRWwHVHCvHgZXaZxRNbfaLDTKuiev4IHHUCx5Wj5iVNiy09dPT9Q5ldVZo3DB11M+C3HzoOZQRnB4nSS7+jIznAa0cDu0bhnQFCobWyUlvNSrkC0xSvCFrIFZ9y9vqrYFHpiOosjlb/rxC41CyWL+zGFZ+LDGmO4bQT0pyxJqhxSOO3+/8ZpN33f9awbv4H&lt;/diagram&gt;&lt;/mxfile&gt;\" onclick=\"(function(svg){var src=window.event.target||window.event.srcElement;while (src!=null&amp;&amp;src.nodeName.toLowerCase()!='a'){src=src.parentNode;}if(src==null){if(svg.wnd!=null&amp;&amp;!svg.wnd.closed){svg.wnd.focus();}else{var r=function(evt){if(evt.data=='ready'&amp;&amp;evt.source==svg.wnd){svg.wnd.postMessage(decodeURIComponent(svg.getAttribute('content')),'*');window.removeEventListener('message',r);}};window.addEventListener('message',r);svg.wnd=window.open('https://app.diagrams.net/?client=1&amp;lightbox=1&amp;edit=_blank');}}})(this);\" style=\"cursor:pointer;max-width:100%;max-height:645px;\"><defs/><g><path d=\"M 15 -5 L 45 15 L 15 35 Z\" fill=\"#ffffff\" stroke=\"#000000\" stroke-miterlimit=\"10\" transform=\"rotate(90,30,15)\" pointer-events=\"all\"/><path d=\"M 160 190 L 240 190 L 260 210 L 260 490 L 180 490 L 160 470 L 160 190 Z\" fill=\"#ffffff\" stroke=\"#000000\" stroke-miterlimit=\"10\" pointer-events=\"all\"/><path d=\"M 160 190 L 240 190 L 260 210 L 180 210 Z\" fill-opacity=\"0.05\" fill=\"#000000\" stroke=\"none\" pointer-events=\"all\"/><path d=\"M 160 190 L 180 210 L 180 490 L 160 470 Z\" fill-opacity=\"0.1\" fill=\"#000000\" stroke=\"none\" pointer-events=\"all\"/><path d=\"M 180 490 L 180 210 L 160 190 M 180 210 L 260 210\" fill=\"none\" stroke=\"#000000\" stroke-miterlimit=\"10\" pointer-events=\"all\"/><path d=\"M 80 110 L 0 30\" fill=\"none\" stroke=\"#000000\" stroke-miterlimit=\"10\" pointer-events=\"stroke\"/><path d=\"M 400 110 L 320 30\" fill=\"none\" stroke=\"#000000\" stroke-miterlimit=\"10\" pointer-events=\"stroke\"/><path d=\"M 0 30 L 320 30\" fill=\"none\" stroke=\"#000000\" stroke-miterlimit=\"10\" pointer-events=\"stroke\"/><path d=\"M 80 110 L 400 110\" fill=\"none\" stroke=\"#000000\" stroke-miterlimit=\"10\" pointer-events=\"stroke\"/><path d=\"M 160 470 L 240 470\" fill=\"none\" stroke=\"#000000\" stroke-width=\"2\" stroke-miterlimit=\"10\" stroke-dasharray=\"2 8\" pointer-events=\"stroke\"/><path d=\"M 260 491 L 240 471\" fill=\"none\" stroke=\"#000000\" stroke-width=\"2\" stroke-miterlimit=\"10\" stroke-dasharray=\"2 8\" pointer-events=\"stroke\"/><path d=\"M 240 470 L 240 190\" fill=\"none\" stroke=\"#000000\" stroke-width=\"2\" stroke-miterlimit=\"10\" stroke-dasharray=\"2 8\" pointer-events=\"stroke\"/><path d=\"M 160 190 L 160 70\" fill=\"none\" stroke=\"#000000\" stroke-miterlimit=\"10\" stroke-dasharray=\"3 3\" pointer-events=\"stroke\"/><path d=\"M 180 210 L 180 90\" fill=\"none\" stroke=\"#000000\" stroke-miterlimit=\"10\" stroke-dasharray=\"3 3\" pointer-events=\"stroke\"/><path d=\"M 260 211 L 260 91\" fill=\"none\" stroke=\"#000000\" stroke-miterlimit=\"10\" stroke-dasharray=\"3 3\" pointer-events=\"stroke\"/><path d=\"M 240 191 L 240 71\" fill=\"none\" stroke=\"#000000\" stroke-miterlimit=\"10\" stroke-dasharray=\"3 3\" pointer-events=\"stroke\"/><path d=\"M 80 190 L 160 190\" fill=\"none\" stroke=\"#000000\" stroke-miterlimit=\"10\" pointer-events=\"stroke\"/><path d=\"M 40 470 L 160 470\" fill=\"none\" stroke=\"#000000\" stroke-miterlimit=\"10\" pointer-events=\"stroke\"/><rect x=\"319\" y=\"160\" width=\"30\" height=\"30\" fill=\"none\" stroke=\"none\" pointer-events=\"all\"/><g transform=\"translate(-0.5 -0.5)\"><switch><foreignObject style=\"overflow: visible; text-align: left;\" pointer-events=\"none\" width=\"100%\" height=\"100%\" requiredFeatures=\"http://www.w3.org/TR/SVG11/feature#Extensibility\"><div xmlns=\"http://www.w3.org/1999/xhtml\" style=\"display: flex; align-items: unsafe center; justify-content: unsafe center; width: 1px; height: 1px; padding-top: 175px; margin-left: 334px;\"><div style=\"box-sizing: border-box; font-size: 0; text-align: center; \"><div style=\"display: inline-block; font-size: 20px; font-family: Courier New; color: #000000; line-height: 1.2; pointer-events: all; font-style: italic; white-space: nowrap; \">ρ</div></div></div></foreignObject><text x=\"334\" y=\"181\" fill=\"#000000\" font-family=\"Courier New\" font-size=\"20px\" text-anchor=\"middle\" font-style=\"italic\">ρ</text></switch></g><path d=\"M 372 440.5 L 388 440.5 L 388 455.49 L 401.5 455.49 L 380 479.5 L 358.5 455.49 L 372 455.49 Z\" fill=\"none\" stroke=\"#000000\" stroke-linejoin=\"round\" stroke-miterlimit=\"10\" pointer-events=\"all\"/><g transform=\"translate(-0.5 -0.5)\"><switch><foreignObject style=\"overflow: visible; text-align: left;\" pointer-events=\"none\" width=\"100%\" height=\"100%\" requiredFeatures=\"http://www.w3.org/TR/SVG11/feature#Extensibility\"><div xmlns=\"http://www.w3.org/1999/xhtml\" style=\"display: flex; align-items: unsafe center; justify-content: unsafe center; width: 1px; height: 1px; padding-top: 460px; margin-left: 380px;\"><div style=\"box-sizing: border-box; font-size: 0; text-align: center; \"><div style=\"display: inline-block; font-size: 18px; font-family: Courier New; color: #000000; line-height: 1.2; pointer-events: all; background-color: #ffffff; white-space: nowrap; \"><i>g</i></div></div></div></foreignObject><text x=\"380\" y=\"465\" fill=\"#000000\" font-family=\"Courier New\" font-size=\"18px\" text-anchor=\"middle\">g</text></switch></g><rect x=\"50\" y=\"180\" width=\"40\" height=\"30\" fill=\"none\" stroke=\"none\" pointer-events=\"all\"/><g transform=\"translate(-0.5 -0.5)\"><switch><foreignObject style=\"overflow: visible; text-align: left;\" pointer-events=\"none\" width=\"100%\" height=\"100%\" requiredFeatures=\"http://www.w3.org/TR/SVG11/feature#Extensibility\"><div xmlns=\"http://www.w3.org/1999/xhtml\" style=\"display: flex; align-items: unsafe center; justify-content: unsafe center; width: 1px; height: 1px; padding-top: 195px; margin-left: 70px;\"><div style=\"box-sizing: border-box; font-size: 0; text-align: center; \"><div style=\"display: inline-block; font-size: 20px; font-family: Courier New; color: #000000; line-height: 1.2; pointer-events: all; font-weight: bold; white-space: nowrap; \"><i style=\"font-size: 20px\">P</i><sub style=\"font-size: 20px\">1</sub></div></div></div></foreignObject><text x=\"70\" y=\"201\" fill=\"#000000\" font-family=\"Courier New\" font-size=\"20px\" text-anchor=\"middle\" font-weight=\"bold\">P1</text></switch></g><rect x=\"4\" y=\"460\" width=\"40\" height=\"30\" fill=\"none\" stroke=\"none\" pointer-events=\"all\"/><g transform=\"translate(-0.5 -0.5)\"><switch><foreignObject style=\"overflow: visible; text-align: left;\" pointer-events=\"none\" width=\"100%\" height=\"100%\" requiredFeatures=\"http://www.w3.org/TR/SVG11/feature#Extensibility\"><div xmlns=\"http://www.w3.org/1999/xhtml\" style=\"display: flex; align-items: unsafe center; justify-content: unsafe center; width: 1px; height: 1px; padding-top: 475px; margin-left: 24px;\"><div style=\"box-sizing: border-box; font-size: 0; text-align: center; \"><div style=\"display: inline-block; font-size: 20px; font-family: Courier New; color: #000000; line-height: 1.2; pointer-events: all; font-weight: bold; white-space: nowrap; \"><i style=\"font-size: 20px\">P</i><sub style=\"font-size: 20px\">2</sub></div></div></div></foreignObject><text x=\"24\" y=\"481\" fill=\"#000000\" font-family=\"Courier New\" font-size=\"20px\" text-anchor=\"middle\" font-weight=\"bold\">P2</text></switch></g><path d=\"M 215 609.5 L 205 609.5 L 205 509.5 L 194.5 509.5 L 210 490.5 L 225.5 509.5 L 215 509.5 Z\" fill=\"none\" stroke=\"#000000\" stroke-linejoin=\"round\" stroke-miterlimit=\"10\" pointer-events=\"all\"/><g transform=\"translate(-0.5 -0.5)\"><switch><foreignObject style=\"overflow: visible; text-align: left;\" pointer-events=\"none\" width=\"100%\" height=\"100%\" requiredFeatures=\"http://www.w3.org/TR/SVG11/feature#Extensibility\"><div xmlns=\"http://www.w3.org/1999/xhtml\" style=\"display: flex; align-items: unsafe center; justify-content: unsafe center; width: 1px; height: 1px; padding-top: 631px; margin-left: 209px;\"><div style=\"box-sizing: border-box; font-size: 0; text-align: center; \"><div style=\"display: inline-block; font-size: 20px; font-family: Courier New; color: #000000; line-height: 1.2; pointer-events: all; background-color: #ffffff; white-space: nowrap; \"><i>F</i><sub>2</sub></div></div></div></foreignObject><text x=\"209\" y=\"637\" fill=\"#000000\" font-family=\"Courier New\" font-size=\"20px\" text-anchor=\"middle\">F2</text></switch></g><path d=\"M 205.5 140.45 L 215.49 140.55 L 215.19 170.55 L 225.69 170.66 L 210 189.5 L 194.7 170.35 L 205.2 170.45 Z\" fill=\"none\" stroke=\"#000000\" stroke-linejoin=\"round\" stroke-miterlimit=\"10\" pointer-events=\"all\"/><g transform=\"translate(-0.5 -0.5)\"><switch><foreignObject style=\"overflow: visible; text-align: left;\" pointer-events=\"none\" width=\"100%\" height=\"100%\" requiredFeatures=\"http://www.w3.org/TR/SVG11/feature#Extensibility\"><div xmlns=\"http://www.w3.org/1999/xhtml\" style=\"display: flex; align-items: unsafe center; justify-content: unsafe center; width: 1px; height: 1px; padding-top: 125px; margin-left: 211px;\"><div style=\"box-sizing: border-box; font-size: 0; text-align: center; \"><div style=\"display: inline-block; font-size: 20px; font-family: Courier New; color: #000000; line-height: 1.2; pointer-events: all; background-color: #ffffff; white-space: nowrap; \"><i>F</i><sub>1</sub></div></div></div></foreignObject><text x=\"211\" y=\"131\" fill=\"#000000\" font-family=\"Courier New\" font-size=\"20px\" text-anchor=\"middle\">F1</text></switch></g><path d=\"M 205.5 295.47 L 215.5 295.53 L 215.12 355.53 L 225.62 355.6 L 210 374.5 L 194.62 355.4 L 205.12 355.47 Z\" fill=\"none\" stroke=\"#e6e6e6\" stroke-linejoin=\"round\" stroke-miterlimit=\"10\" pointer-events=\"all\"/><g transform=\"translate(-0.5 -0.5)\"><switch><foreignObject style=\"overflow: visible; text-align: left;\" pointer-events=\"none\" width=\"100%\" height=\"100%\" requiredFeatures=\"http://www.w3.org/TR/SVG11/feature#Extensibility\"><div xmlns=\"http://www.w3.org/1999/xhtml\" style=\"display: flex; align-items: unsafe center; justify-content: unsafe center; width: 1px; height: 1px; padding-top: 335px; margin-left: 210px;\"><div style=\"box-sizing: border-box; font-size: 0; text-align: center; \"><div style=\"display: inline-block; font-size: 20px; font-family: Courier New; color: #000000; line-height: 1.2; pointer-events: all; background-color: #ffffff; white-space: nowrap; \"><i><font style=\"font-size: 24px\" color=\"#e6e6e6\">W</font></i></div></div></div></foreignObject><text x=\"210\" y=\"341\" fill=\"#000000\" font-family=\"Courier New\" font-size=\"20px\" text-anchor=\"middle\">W</text></switch></g></g><switch><g requiredFeatures=\"http://www.w3.org/TR/SVG11/feature#Extensibility\"/><a transform=\"translate(0,-5)\" xlink:href=\"https://desk.draw.io/support/solutions/articles/16000042487\" target=\"_blank\"><text text-anchor=\"middle\" font-size=\"10px\" x=\"50%\" y=\"100%\">Viewer does not support full SVG 1.1</text></a></switch></svg>"
            ],
            "text/plain": [
              "<IPython.core.display.HTML object>"
            ]
          },
          "metadata": {
            "tags": []
          }
        }
      ]
    },
    {
      "cell_type": "markdown",
      "metadata": {
        "id": "bSPEX-mEec1r"
      },
      "source": [
        "この図で描かれた正四角柱を全て, 水(流体)の密度 $\\rho$ より軽い,\n",
        "空気 $\\rho_0\\approx 0$ に置き換えてみましょう.\n",
        "1. 正四角柱に働く重力の効果がなくなります.\n",
        "1. $\\left|{F_2}\\right| > \\left|F_1\\right|$ なので, 正四角柱は上方に浮き上がります.\n",
        "1. この上向きに浮き上がる力の大きさは, もとの力の釣り合いを考えれば,  \n",
        " ちょうど正四角柱の場所にあった水(流体)の重力 $W$ に等しいはずです.\n",
        "\n",
        "これが浮力の正体です. これをまとめると\n",
        "\n",
        "> 重力下の静止流体に置かれた物体に働く浮力は, その物体が押しのけた流体に働く重力に等しく, その方向は鉛直上向きに働く.\n",
        "\n",
        "ということができます. これを **アルキメデスの原理** という.\n"
      ]
    },
    {
      "cell_type": "markdown",
      "metadata": {
        "id": "jCV4Z0UsA7iu"
      },
      "source": [
        "古代ギリシャのアルキメデスはこの原理を利用して, 王冠の真贋(しんがん)を確かめたと言われています.\n",
        "\n",
        "\n",
        "![https://ja.wikipedia.org/wiki/%E3%82%A2%E3%83%AB%E3%82%AD%E3%83%A1%E3%83%87%E3%82%B9](\n",
        "https://upload.wikimedia.org/wikipedia/commons/e/ec/Archimedes_water_balance.gif)"
      ]
    }
  ]
}